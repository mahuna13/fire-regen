{
 "cells": [
  {
   "cell_type": "code",
   "execution_count": 56,
   "metadata": {},
   "outputs": [
    {
     "data": {
      "text/plain": [
       "<module 'src.data.mtbs' from '/home/jk871/fire-regen/src/data/mtbs.py'>"
      ]
     },
     "execution_count": 56,
     "metadata": {},
     "output_type": "execute_result"
    }
   ],
   "source": [
    "import ee\n",
    "import geopandas as gpd\n",
    "import fiona\n",
    "import shapely\n",
    "import contextily as cx\n",
    "import json\n",
    "from src.visualization import ee_viz\n",
    "from src.data import mtbs\n",
    "from src.data import shape_processor\n",
    "import src.data.ee_utils as ee_utils\n",
    "import numpy as np\n",
    "\n",
    "import importlib\n",
    "importlib.reload(ee_viz)\n",
    "importlib.reload(ee_utils)\n",
    "importlib.reload(mtbs)"
   ]
  },
  {
   "cell_type": "code",
   "execution_count": 42,
   "metadata": {},
   "outputs": [],
   "source": [
    "ee.Initialize()"
   ]
  },
  {
   "cell_type": "markdown",
   "metadata": {},
   "source": [
    "### Get Regions of interest"
   ]
  },
  {
   "cell_type": "code",
   "execution_count": 43,
   "metadata": {},
   "outputs": [],
   "source": [
    "# Fetch simplified regions of interest - to avoid processing problems with really complicated shapes.\n",
    "seki = gpd.read_file(\"../../data/shapefiles/seki_convex_hull.shp\")\n",
    "sierras = gpd.read_file(\"../../data/shapefiles/sierras_convex_hull.shp\")"
   ]
  },
  {
   "cell_type": "code",
   "execution_count": 44,
   "metadata": {},
   "outputs": [],
   "source": [
    "seki_complex = gpd.read_file(\"../../data/shapefiles/seki.shp\")\n",
    "seki_box = shape_processor.get_box(seki_complex)"
   ]
  },
  {
   "cell_type": "code",
   "execution_count": null,
   "metadata": {},
   "outputs": [],
   "source": [
    "seki.to_crs(3857).explore()"
   ]
  },
  {
   "cell_type": "code",
   "execution_count": null,
   "metadata": {},
   "outputs": [],
   "source": [
    "sierras.to_crs(3857).explore()"
   ]
  },
  {
   "cell_type": "markdown",
   "metadata": {},
   "source": [
    "### Get Burn Severity Data"
   ]
  },
  {
   "cell_type": "code",
   "execution_count": 45,
   "metadata": {},
   "outputs": [],
   "source": [
    "burn_severity_ic = mtbs.get_burn_severity_data().sort('system:time_start', False)"
   ]
  },
  {
   "cell_type": "code",
   "execution_count": 48,
   "metadata": {},
   "outputs": [
    {
     "data": {
      "application/vnd.jupyter.widget-view+json": {
       "model_id": "880addb1d8414907bba5865a5436a0fa",
       "version_major": 2,
       "version_minor": 0
      },
      "text/plain": [
       "Map(center=[36.72976974493908, -118.62809181119908], controls=(WidgetControl(options=['position', 'transparent…"
      ]
     },
     "metadata": {},
     "output_type": "display_data"
    }
   ],
   "source": [
    "ee_viz.viz_burn_severity(burn_severity_ic.first(), seki.geometry.iloc[0], ['burn_severity', 'burn_year'])"
   ]
  },
  {
   "cell_type": "markdown",
   "metadata": {},
   "source": [
    "### Get aggregated burn data - last burn severity for each pixel, and burn count for each pixel"
   ]
  },
  {
   "cell_type": "code",
   "execution_count": 57,
   "metadata": {},
   "outputs": [
    {
     "data": {
      "text/html": [
       "<div><style>:root {\n",
       "  --font-color-primary: var(--jp-content-font-color0, rgba(0, 0, 0, 1));\n",
       "  --font-color-secondary: var(--jp-content-font-color2, rgba(0, 0, 0, 0.6));\n",
       "  --font-color-accent: rgba(123, 31, 162, 1);\n",
       "  --border-color: var(--jp-border-color2, #e0e0e0);\n",
       "  --background-color: var(--jp-layout-color0, white);\n",
       "  --background-color-row-even: var(--jp-layout-color1, white);\n",
       "  --background-color-row-odd: var(--jp-layout-color2, #eeeeee);\n",
       "}\n",
       "\n",
       "html[theme=\"dark\"],\n",
       "body[data-theme=\"dark\"],\n",
       "body.vscode-dark {\n",
       "  --font-color-primary: rgba(255, 255, 255, 1);\n",
       "  --font-color-secondary: rgba(255, 255, 255, 0.6);\n",
       "  --font-color-accent: rgb(173, 132, 190);\n",
       "  --border-color: #2e2e2e;\n",
       "  --background-color: #111111;\n",
       "  --background-color-row-even: #111111;\n",
       "  --background-color-row-odd: #313131;\n",
       "}\n",
       "\n",
       ".ee {\n",
       "  padding: 1em;\n",
       "  line-height: 1.5em;\n",
       "  min-width: 300px;\n",
       "  max-width: 1200px;\n",
       "  overflow-y: scroll;\n",
       "  max-height: 600px;\n",
       "  border: 1px solid var(--border-color);\n",
       "  font-family: monospace;\n",
       "}\n",
       "\n",
       ".ee li {\n",
       "  list-style-type: none;\n",
       "}\n",
       "\n",
       ".ee ul {\n",
       "  padding-left: 1.5em !important;\n",
       "  margin: 0;\n",
       "}\n",
       "\n",
       ".ee > ul {\n",
       "  padding-left: 0 !important;\n",
       "}\n",
       "\n",
       ".ee-open,\n",
       ".ee-shut {\n",
       "  color: var(--font-color-secondary);\n",
       "  cursor: pointer;\n",
       "  margin: 0;\n",
       "}\n",
       "\n",
       ".ee-open:hover,\n",
       ".ee-shut:hover {\n",
       "  color: var(--font-color-primary);\n",
       "}\n",
       "\n",
       ".ee-k {\n",
       "  color: var(--font-color-accent);\n",
       "  margin-right: 6px;\n",
       "}\n",
       "\n",
       ".ee-v {\n",
       "  color: var(--font-color-primary);\n",
       "}\n",
       "\n",
       ".ee-toggle {\n",
       "  display: none;\n",
       "}\n",
       "\n",
       ".ee-shut + ul {\n",
       "  display: none;\n",
       "}\n",
       "\n",
       ".ee-open + ul {\n",
       "  display: block;\n",
       "}\n",
       "\n",
       ".ee-shut::before {\n",
       "  display: inline-block;\n",
       "  content: \"▼\";\n",
       "  margin-right: 6px;\n",
       "  transform: rotate(-90deg);\n",
       "  transition: transform 0.2s;\n",
       "}\n",
       "\n",
       ".ee-open::before {\n",
       "  transform: rotate(0deg);\n",
       "  display: inline-block;\n",
       "  content: \"▼\";\n",
       "  margin-right: 6px;\n",
       "  transition: transform 0.2s;\n",
       "}\n",
       "</style><div class='ee'><ul><li><label class='ee-shut'>Image (3 bands)<input type='checkbox' class='ee-toggle'></label><ul><li><span class='ee-k'>type:</span><span class='ee-v'>Image</span></li><li><label class='ee-shut'>bands: List (3 elements)<input type='checkbox' class='ee-toggle'></label><ul><li><label class='ee-shut'>0: \"last_burn_severity\", unsigned int16, EPSG:4326<input type='checkbox' class='ee-toggle'></label><ul><li><span class='ee-k'>id:</span><span class='ee-v'>last_burn_severity</span></li><li><span class='ee-k'>crs:</span><span class='ee-v'>EPSG:4326</span></li><li><label class='ee-shut'>crs_transform: [1, 0, 0, 0, 1, 0]<input type='checkbox' class='ee-toggle'></label><ul><li><span class='ee-k'>0:</span><span class='ee-v'>1</span></li><li><span class='ee-k'>1:</span><span class='ee-v'>0</span></li><li><span class='ee-k'>2:</span><span class='ee-v'>0</span></li><li><span class='ee-k'>3:</span><span class='ee-v'>0</span></li><li><span class='ee-k'>4:</span><span class='ee-v'>1</span></li><li><span class='ee-k'>5:</span><span class='ee-v'>0</span></li></ul></li><li><label class='ee-shut'>data_type: unsigned int16<input type='checkbox' class='ee-toggle'></label><ul><li><span class='ee-k'>type:</span><span class='ee-v'>PixelType</span></li><li><span class='ee-k'>max:</span><span class='ee-v'>65535</span></li><li><span class='ee-k'>min:</span><span class='ee-v'>0</span></li><li><span class='ee-k'>precision:</span><span class='ee-v'>int</span></li></ul></li></ul></li><li><label class='ee-shut'>1: \"last_burn_year\", unsigned int16, EPSG:4326<input type='checkbox' class='ee-toggle'></label><ul><li><span class='ee-k'>id:</span><span class='ee-v'>last_burn_year</span></li><li><span class='ee-k'>crs:</span><span class='ee-v'>EPSG:4326</span></li><li><label class='ee-shut'>crs_transform: [1, 0, 0, 0, 1, 0]<input type='checkbox' class='ee-toggle'></label><ul><li><span class='ee-k'>0:</span><span class='ee-v'>1</span></li><li><span class='ee-k'>1:</span><span class='ee-v'>0</span></li><li><span class='ee-k'>2:</span><span class='ee-v'>0</span></li><li><span class='ee-k'>3:</span><span class='ee-v'>0</span></li><li><span class='ee-k'>4:</span><span class='ee-v'>1</span></li><li><span class='ee-k'>5:</span><span class='ee-v'>0</span></li></ul></li><li><label class='ee-shut'>data_type: unsigned int16<input type='checkbox' class='ee-toggle'></label><ul><li><span class='ee-k'>type:</span><span class='ee-v'>PixelType</span></li><li><span class='ee-k'>max:</span><span class='ee-v'>65535</span></li><li><span class='ee-k'>min:</span><span class='ee-v'>0</span></li><li><span class='ee-k'>precision:</span><span class='ee-v'>int</span></li></ul></li></ul></li><li><label class='ee-shut'>2: \"burn_count\", unsigned int16, EPSG:4326<input type='checkbox' class='ee-toggle'></label><ul><li><span class='ee-k'>id:</span><span class='ee-v'>burn_count</span></li><li><span class='ee-k'>crs:</span><span class='ee-v'>EPSG:4326</span></li><li><label class='ee-shut'>crs_transform: [1, 0, 0, 0, 1, 0]<input type='checkbox' class='ee-toggle'></label><ul><li><span class='ee-k'>0:</span><span class='ee-v'>1</span></li><li><span class='ee-k'>1:</span><span class='ee-v'>0</span></li><li><span class='ee-k'>2:</span><span class='ee-v'>0</span></li><li><span class='ee-k'>3:</span><span class='ee-v'>0</span></li><li><span class='ee-k'>4:</span><span class='ee-v'>1</span></li><li><span class='ee-k'>5:</span><span class='ee-v'>0</span></li></ul></li><li><label class='ee-shut'>data_type: unsigned int16<input type='checkbox' class='ee-toggle'></label><ul><li><span class='ee-k'>type:</span><span class='ee-v'>PixelType</span></li><li><span class='ee-k'>max:</span><span class='ee-v'>65535</span></li><li><span class='ee-k'>min:</span><span class='ee-v'>0</span></li><li><span class='ee-k'>precision:</span><span class='ee-v'>int</span></li></ul></li></ul></li></ul></li></ul></li></ul></div><script>function toggleHeader() {\n",
       "    const parent = this.parentElement;\n",
       "    parent.className = parent.className === \"ee-open\" ? \"ee-shut\" : \"ee-open\";\n",
       "}\n",
       "\n",
       "for (let c of document.getElementsByClassName(\"ee-toggle\")) {\n",
       "    c.onclick = toggleHeader;\n",
       "}</script></div>"
      ],
      "text/plain": [
       "<ee.image.Image at 0x7fa64d876860>"
      ]
     },
     "execution_count": 57,
     "metadata": {},
     "output_type": "execute_result"
    }
   ],
   "source": [
    "burn_data = mtbs.get_aggregated_burn_data()\n",
    "burn_data"
   ]
  },
  {
   "cell_type": "code",
   "execution_count": 58,
   "metadata": {},
   "outputs": [
    {
     "data": {
      "application/vnd.jupyter.widget-view+json": {
       "model_id": "3f28dfddf6774ed7b7cf289ab635c870",
       "version_major": 2,
       "version_minor": 0
      },
      "text/plain": [
       "Map(center=[36.72976974493908, -118.62809181119908], controls=(WidgetControl(options=['position', 'transparent…"
      ]
     },
     "metadata": {},
     "output_type": "display_data"
    }
   ],
   "source": [
    "ee_viz.viz_burn_severity(burn_data, seki.geometry.iloc[0], ['last_burn_severity', 'last_burn_year', 'burn_count'])"
   ]
  },
  {
   "cell_type": "markdown",
   "metadata": {},
   "source": [
    "### Save Fire Raster as Geo Tiff"
   ]
  },
  {
   "cell_type": "code",
   "execution_count": 59,
   "metadata": {},
   "outputs": [
    {
     "name": "stdout",
     "output_type": "stream",
     "text": [
      "Polling for task (id: F7OXCQRMLF3GF7EXAJV7TMAH).\n",
      "Polling for task (id: F7OXCQRMLF3GF7EXAJV7TMAH).\n",
      "Polling for task (id: F7OXCQRMLF3GF7EXAJV7TMAH).\n",
      "Polling for task (id: F7OXCQRMLF3GF7EXAJV7TMAH).\n",
      "Polling for task (id: F7OXCQRMLF3GF7EXAJV7TMAH).\n",
      "Polling for task (id: F7OXCQRMLF3GF7EXAJV7TMAH).\n",
      "Polling for task (id: F7OXCQRMLF3GF7EXAJV7TMAH).\n",
      "Polling for task (id: F7OXCQRMLF3GF7EXAJV7TMAH).\n",
      "Polling for task (id: F7OXCQRMLF3GF7EXAJV7TMAH).\n",
      "Polling for task (id: F7OXCQRMLF3GF7EXAJV7TMAH).\n",
      "Polling for task (id: F7OXCQRMLF3GF7EXAJV7TMAH).\n",
      "Polling for task (id: F7OXCQRMLF3GF7EXAJV7TMAH).\n",
      "Polling for task (id: F7OXCQRMLF3GF7EXAJV7TMAH).\n",
      "Polling for task (id: F7OXCQRMLF3GF7EXAJV7TMAH).\n",
      "Polling for task (id: F7OXCQRMLF3GF7EXAJV7TMAH).\n",
      "Polling for task (id: F7OXCQRMLF3GF7EXAJV7TMAH).\n",
      "Polling for task (id: F7OXCQRMLF3GF7EXAJV7TMAH).\n",
      "Polling for task (id: F7OXCQRMLF3GF7EXAJV7TMAH).\n",
      "Polling for task (id: F7OXCQRMLF3GF7EXAJV7TMAH).\n",
      "Polling for task (id: F7OXCQRMLF3GF7EXAJV7TMAH).\n",
      "Polling for task (id: F7OXCQRMLF3GF7EXAJV7TMAH).\n",
      "Polling for task (id: F7OXCQRMLF3GF7EXAJV7TMAH).\n",
      "Polling for task (id: F7OXCQRMLF3GF7EXAJV7TMAH).\n",
      "Polling for task (id: F7OXCQRMLF3GF7EXAJV7TMAH).\n",
      "Polling for task (id: F7OXCQRMLF3GF7EXAJV7TMAH).\n",
      "Polling for task (id: F7OXCQRMLF3GF7EXAJV7TMAH).\n",
      "Polling for task (id: F7OXCQRMLF3GF7EXAJV7TMAH).\n",
      "Polling for task (id: F7OXCQRMLF3GF7EXAJV7TMAH).\n",
      "Polling for task (id: F7OXCQRMLF3GF7EXAJV7TMAH).\n",
      "Polling for task (id: F7OXCQRMLF3GF7EXAJV7TMAH).\n",
      "Polling for task (id: F7OXCQRMLF3GF7EXAJV7TMAH).\n",
      "Polling for task (id: F7OXCQRMLF3GF7EXAJV7TMAH).\n",
      "Polling for task (id: F7OXCQRMLF3GF7EXAJV7TMAH).\n",
      "Polling for task (id: F7OXCQRMLF3GF7EXAJV7TMAH).\n",
      "Polling for task (id: F7OXCQRMLF3GF7EXAJV7TMAH).\n",
      "<bound method Task.status of <Task F7OXCQRMLF3GF7EXAJV7TMAH EXPORT_IMAGE: burn_data (UNSUBMITTED)>>\n",
      "[{'name': 'projects/earthengine-legacy/operations/F7OXCQRMLF3GF7EXAJV7TMAH', 'metadata': {'@type': 'type.googleapis.com/google.earthengine.v1alpha.OperationMetadata', 'state': 'SUCCEEDED', 'description': 'burn_data', 'createTime': '2023-04-21T19:09:42.558172Z', 'updateTime': '2023-04-21T19:12:56.463346Z', 'startTime': '2023-04-21T19:10:10.829520Z', 'endTime': '2023-04-21T19:12:56.463346Z', 'type': 'EXPORT_IMAGE', 'destinationUris': ['https://drive.google.com/#folders/1_NI8MI87_TlVqIyDCbuzL9YMCkyHApfk'], 'attempt': 1, 'progress': 1, 'stages': [{'displayName': 'Create Local Files', 'completeWorkUnits': 1, 'totalWorkUnits': '1', 'description': 'Computation and writing of temporary files.'}, {'displayName': 'Write Files to Destination', 'completeWorkUnits': 1, 'totalWorkUnits': '1', 'description': 'Uploading of files to the export destination.'}], 'batchEecuUsageSeconds': 192.61387634277344}, 'done': True, 'response': {'@type': 'type.googleapis.com/google.protobuf.Empty'}}, {'name': 'projects/earthengine-legacy/operations/4YUISRHOASHJPW5ZWNBXGXB6', 'metadata': {'@type': 'type.googleapis.com/google.earthengine.v1alpha.OperationMetadata', 'state': 'FAILED', 'description': 'burn_data', 'createTime': '2023-04-21T19:07:45.416022Z', 'updateTime': '2023-04-21T19:08:06.628397Z', 'startTime': '2023-04-21T19:08:06.111897Z', 'endTime': '2023-04-21T19:08:06.628397Z', 'type': 'EXPORT_IMAGE', 'attempt': 1}, 'done': True, 'error': {'code': 3, 'message': 'Exported bands must have compatible data types; found inconsistent types: UInt16 and Byte.'}}, {'name': 'projects/earthengine-legacy/operations/P5I6ALGXI5VNWLMFXFBYBRGV', 'metadata': {'@type': 'type.googleapis.com/google.earthengine.v1alpha.OperationMetadata', 'state': 'SUCCEEDED', 'description': 'burn_counts', 'createTime': '2023-04-21T17:20:05.261928Z', 'updateTime': '2023-04-21T17:23:02.686812Z', 'startTime': '2023-04-21T17:20:24.831600Z', 'endTime': '2023-04-21T17:23:02.686812Z', 'type': 'EXPORT_IMAGE', 'destinationUris': ['https://drive.google.com/#folders/1_NI8MI87_TlVqIyDCbuzL9YMCkyHApfk'], 'attempt': 1, 'progress': 1, 'stages': [{'displayName': 'Create Local Files', 'completeWorkUnits': 1, 'totalWorkUnits': '1', 'description': 'Computation and writing of temporary files.'}, {'displayName': 'Write Files to Destination', 'completeWorkUnits': 1, 'totalWorkUnits': '1', 'description': 'Uploading of files to the export destination.'}], 'batchEecuUsageSeconds': 83.34790802001953}, 'done': True, 'response': {'@type': 'type.googleapis.com/google.protobuf.Empty'}}, {'name': 'projects/earthengine-legacy/operations/N4OZW4SLVF5D7XA3RQAGVIFP', 'metadata': {'@type': 'type.googleapis.com/google.earthengine.v1alpha.OperationMetadata', 'state': 'FAILED', 'description': 'burn_counts', 'createTime': '2023-04-21T17:16:18.818987Z', 'updateTime': '2023-04-21T17:16:32.539051Z', 'startTime': '2023-04-21T17:16:31.990689Z', 'endTime': '2023-04-21T17:16:32.539051Z', 'type': 'EXPORT_IMAGE', 'attempt': 1}, 'done': True, 'error': {'code': 3, 'message': 'Pixel type not supported: Type<Long>. Convert the image to a floating point type or a smaller integer type, for example, using ee.Image.toDouble().'}}, {'name': 'projects/earthengine-legacy/operations/72UY6EKWNHQK6HSJAYVZNCBG', 'metadata': {'@type': 'type.googleapis.com/google.earthengine.v1alpha.OperationMetadata', 'state': 'SUCCEEDED', 'description': 'burn_mosaic', 'createTime': '2023-04-16T23:15:07.615602Z', 'updateTime': '2023-04-16T23:18:07.727172Z', 'startTime': '2023-04-16T23:15:16.593203Z', 'endTime': '2023-04-16T23:18:07.727172Z', 'type': 'EXPORT_IMAGE', 'destinationUris': ['https://drive.google.com/#folders/1_NI8MI87_TlVqIyDCbuzL9YMCkyHApfk'], 'attempt': 1, 'progress': 1, 'stages': [{'displayName': 'Create Local Files', 'completeWorkUnits': 1, 'totalWorkUnits': '1', 'description': 'Computation and writing of temporary files.'}, {'displayName': 'Write Files to Destination', 'completeWorkUnits': 1, 'totalWorkUnits': '1', 'description': 'Uploading of files to the export destination.'}], 'batchEecuUsageSeconds': 137.4397735595703}, 'done': True, 'response': {'@type': 'type.googleapis.com/google.protobuf.Empty'}}, {'name': 'projects/earthengine-legacy/operations/VRJGLJTLS4OV4RJZ3C7GDNWR', 'metadata': {'@type': 'type.googleapis.com/google.earthengine.v1alpha.OperationMetadata', 'state': 'CANCELLED', 'description': 'burn_mosaic', 'createTime': '2023-04-16T23:10:49.704300Z', 'updateTime': '2023-04-16T23:18:57.842820Z', 'startTime': '2023-04-16T23:11:16.996594Z', 'endTime': '2023-04-16T23:18:57.842820Z', 'type': 'EXPORT_IMAGE', 'attempt': 1, 'progress': 0.5, 'stages': [{'displayName': 'Create Local Files', 'completeWorkUnits': 1, 'totalWorkUnits': '1', 'description': 'Computation and writing of temporary files.'}, {'displayName': 'Write Files to Destination', 'totalWorkUnits': '1', 'description': 'Uploading of files to the export destination.'}]}, 'done': True, 'error': {'code': 1, 'message': 'Cancelled.'}}, {'name': 'projects/earthengine-legacy/operations/5TLR3Q552BXAMHE4GZHLNRJJ', 'metadata': {'@type': 'type.googleapis.com/google.earthengine.v1alpha.OperationMetadata', 'state': 'CANCELLED', 'description': 'burn_mosaic', 'createTime': '2023-04-16T23:04:52.354452Z', 'updateTime': '2023-04-16T23:12:45.097865Z', 'startTime': '2023-04-16T23:04:57.300391Z', 'endTime': '2023-04-16T23:12:45.097865Z', 'type': 'EXPORT_IMAGE', 'attempt': 1, 'progress': 0.5, 'stages': [{'displayName': 'Create Local Files', 'completeWorkUnits': 1, 'totalWorkUnits': '1', 'description': 'Computation and writing of temporary files.'}, {'displayName': 'Write Files to Destination', 'totalWorkUnits': '1', 'description': 'Uploading of files to the export destination.'}]}, 'done': True, 'error': {'code': 1, 'message': 'Cancelled.'}}, {'name': 'projects/earthengine-legacy/operations/5AFQW4BL4UEHOU63GFKSVLXY', 'metadata': {'@type': 'type.googleapis.com/google.earthengine.v1alpha.OperationMetadata', 'state': 'FAILED', 'description': 'burn_mosaic', 'createTime': '2023-04-16T23:01:57.247168Z', 'updateTime': '2023-04-16T23:02:05.081674Z', 'startTime': '2023-04-16T23:02:03.444144Z', 'endTime': '2023-04-16T23:02:05.081674Z', 'type': 'EXPORT_IMAGE', 'attempt': 1}, 'done': True, 'error': {'code': 3, 'message': 'Exported bands must have compatible data types; found inconsistent types: Byte and UInt32.'}}, {'name': 'projects/earthengine-legacy/operations/SZTL62BTQU2ZVWWC7OWN75QW', 'metadata': {'@type': 'type.googleapis.com/google.earthengine.v1alpha.OperationMetadata', 'state': 'SUCCEEDED', 'description': 'burn_mosaic', 'createTime': '2023-04-16T05:34:06.818643Z', 'updateTime': '2023-04-16T05:37:12.761603Z', 'startTime': '2023-04-16T05:34:35.042246Z', 'endTime': '2023-04-16T05:37:12.761603Z', 'type': 'EXPORT_IMAGE', 'destinationUris': ['https://drive.google.com/#folders/1_NI8MI87_TlVqIyDCbuzL9YMCkyHApfk'], 'attempt': 1, 'progress': 1, 'stages': [{'displayName': 'Create Local Files', 'completeWorkUnits': 1, 'totalWorkUnits': '1', 'description': 'Computation and writing of temporary files.'}, {'displayName': 'Write Files to Destination', 'completeWorkUnits': 1, 'totalWorkUnits': '1', 'description': 'Uploading of files to the export destination.'}], 'batchEecuUsageSeconds': 122.73989868164062}, 'done': True, 'response': {'@type': 'type.googleapis.com/google.protobuf.Empty'}}, {'name': 'projects/earthengine-legacy/operations/BY67JDXMW7UT3MFAVNZZ2AUW', 'metadata': {'@type': 'type.googleapis.com/google.earthengine.v1alpha.OperationMetadata', 'state': 'FAILED', 'description': 'burn_mosaic', 'createTime': '2023-04-16T05:26:33.387819Z', 'updateTime': '2023-04-16T05:26:48.839261Z', 'startTime': '2023-04-16T05:26:47.614160Z', 'endTime': '2023-04-16T05:26:48.839261Z', 'type': 'EXPORT_IMAGE', 'attempt': 1}, 'done': True, 'error': {'code': 3, 'message': 'Exported bands must have compatible data types; found inconsistent types: Byte and Int32.'}}]\n"
     ]
    }
   ],
   "source": [
    "ee_utils.save_image_to_drive(burn_data, polygon=seki_box.geometry[0], img_name='burn_data', scale=30)"
   ]
  },
  {
   "cell_type": "code",
   "execution_count": null,
   "metadata": {},
   "outputs": [],
   "source": [
    "# Import Group project shapes of interests\n",
    "seki = gpd.read_file(\"../../data/shapefiles/SEKI_outline.shp\")\n",
    "seki.explore()"
   ]
  },
  {
   "cell_type": "code",
   "execution_count": null,
   "metadata": {},
   "outputs": [],
   "source": [
    "print(f'SEKI area in km^2: {(seki.geometry.area/10**6).sum()}')"
   ]
  },
  {
   "cell_type": "code",
   "execution_count": null,
   "metadata": {},
   "outputs": [],
   "source": [
    "layers = fiona.listlayers('../../data/fire_perimeters.gdb/')\n",
    "layers"
   ]
  },
  {
   "cell_type": "markdown",
   "metadata": {},
   "source": [
    "First layer, 'firep21_2' is fire perimeters.\n",
    "\n",
    "Second layer, 'rxburn21_2' are prescribed burns.\n",
    "\n",
    "Third layer, 'Non_RXFire_Legacy13_2' seem to be other treatment types."
   ]
  },
  {
   "cell_type": "code",
   "execution_count": null,
   "metadata": {},
   "outputs": [],
   "source": [
    "gdf_firep = gpd.read_file('../../data/fire_perimeters.gdb/', layer=layers[0])"
   ]
  },
  {
   "cell_type": "code",
   "execution_count": null,
   "metadata": {},
   "outputs": [],
   "source": [
    "firep = gdf_firep.to_crs(3857)"
   ]
  },
  {
   "cell_type": "code",
   "execution_count": null,
   "metadata": {},
   "outputs": [],
   "source": [
    "gdf_firep"
   ]
  },
  {
   "cell_type": "code",
   "execution_count": null,
   "metadata": {},
   "outputs": [],
   "source": [
    "seki_union = gpd.GeoDataFrame({'geometry': gpd.GeoSeries([shapely.unary_union(seki.geometry)])})\n",
    "seki_union"
   ]
  },
  {
   "cell_type": "code",
   "execution_count": null,
   "metadata": {},
   "outputs": [],
   "source": [
    "seki_fires = firep.sjoin(seki_union, how=\"inner\")"
   ]
  },
  {
   "cell_type": "code",
   "execution_count": null,
   "metadata": {},
   "outputs": [],
   "source": [
    "seki_fires"
   ]
  },
  {
   "cell_type": "code",
   "execution_count": null,
   "metadata": {},
   "outputs": [],
   "source": [
    "seki_fires_since_2000 = seki_fires[seki_fires.ALARM_DATE > '2000-01-01'].sort_values('ALARM_DATE')"
   ]
  },
  {
   "cell_type": "code",
   "execution_count": null,
   "metadata": {},
   "outputs": [],
   "source": [
    "seki_fires_since_2000"
   ]
  },
  {
   "cell_type": "code",
   "execution_count": null,
   "metadata": {},
   "outputs": [],
   "source": [
    "seki_fires_since_2000.to_file(\"../../data/shapefiles/gee/seki_fires_since_2000.shp\")"
   ]
  },
  {
   "cell_type": "code",
   "execution_count": null,
   "metadata": {},
   "outputs": [],
   "source": [
    "ax = firep[firep.index==21424].overlay(seki_union, how=\"union\").plot(figsize=(20,10), cmap='RdYlBu', alpha=0.8)\n",
    "cx.add_basemap(ax)"
   ]
  },
  {
   "cell_type": "code",
   "execution_count": null,
   "metadata": {},
   "outputs": [],
   "source": [
    "newdf = firep.sjoin(seki, how=\"inner\").overlay(seki, how=\"symmetric_difference\")"
   ]
  },
  {
   "cell_type": "code",
   "execution_count": null,
   "metadata": {},
   "outputs": [],
   "source": [
    "newdf.plot()"
   ]
  },
  {
   "cell_type": "markdown",
   "metadata": {},
   "source": [
    "### Create EE Rasters for fires"
   ]
  },
  {
   "cell_type": "code",
   "execution_count": null,
   "metadata": {},
   "outputs": [],
   "source": [
    "image = ee.Image.constant(1).rename('isfire')"
   ]
  },
  {
   "cell_type": "code",
   "execution_count": null,
   "metadata": {},
   "outputs": [],
   "source": [
    "fire = firep[firep.index==237]"
   ]
  },
  {
   "cell_type": "code",
   "execution_count": null,
   "metadata": {},
   "outputs": [],
   "source": [
    "import numpy as np\n",
    "def gdf_to_ee_polygon(gdf_polygon: shapely.Polygon):\n",
    "    ''' Helper to convert GeoPandas geometry to Earth Engine geometry. '''\n",
    "    x, y = gdf_polygon.exterior.coords.xy\n",
    "    coords = np.dstack((x, y)).tolist()\n",
    "    return ee.Geometry.Polygon(coords)"
   ]
  },
  {
   "cell_type": "code",
   "execution_count": null,
   "metadata": {},
   "outputs": [],
   "source": [
    "len(list(fire.geometry.iloc[0].geoms))"
   ]
  },
  {
   "cell_type": "code",
   "execution_count": null,
   "metadata": {},
   "outputs": [],
   "source": [
    "list(fire.geometry.iloc[0].geoms)"
   ]
  },
  {
   "cell_type": "code",
   "execution_count": null,
   "metadata": {},
   "outputs": [],
   "source": [
    "fire.overlay(gpd.GeoDataFrame({'geometry': gpd.GeoSeries([list(fire.geometry.iloc[0].geoms)[12]])}), how='symmetric_difference').plot(cmap='tab20b')"
   ]
  },
  {
   "cell_type": "code",
   "execution_count": null,
   "metadata": {},
   "outputs": [],
   "source": [
    "gpd.GeoSeries([list(fire.geometry.iloc[0].geoms)[17]]).plot()"
   ]
  },
  {
   "cell_type": "code",
   "execution_count": null,
   "metadata": {},
   "outputs": [],
   "source": [
    "list(fire.geometry.iloc[0].geoms)[17].bounds"
   ]
  },
  {
   "cell_type": "code",
   "execution_count": null,
   "metadata": {},
   "outputs": [],
   "source": [
    "ee_polygons = []\n",
    "count = 0\n",
    "for polygon in list(fire.geometry.iloc[0].geoms):\n",
    "    ee_polygons.append(gdf_to_ee_polygon(polygon))\n",
    "    count += 1\n",
    "    #if count > 45:\n",
    "    #    break\n",
    "multi = ee.Geometry.MultiPolygon(ee_polygons)"
   ]
  },
  {
   "cell_type": "code",
   "execution_count": null,
   "metadata": {},
   "outputs": [],
   "source": [
    "multi.getInfo()"
   ]
  },
  {
   "cell_type": "code",
   "execution_count": null,
   "metadata": {},
   "outputs": [],
   "source": [
    "from shapely.ops import cascaded_union\n",
    "fire_polygon = shapely.unary_union(list(fire.geometry.iloc[0].geoms))"
   ]
  },
  {
   "cell_type": "code",
   "execution_count": null,
   "metadata": {},
   "outputs": [],
   "source": [
    "type(fire_polygon)"
   ]
  },
  {
   "cell_type": "code",
   "execution_count": null,
   "metadata": {},
   "outputs": [],
   "source": [
    "len(list(fire_polygon.geoms))"
   ]
  },
  {
   "cell_type": "code",
   "execution_count": null,
   "metadata": {},
   "outputs": [],
   "source": [
    "fire_json = fire.to_json()"
   ]
  },
  {
   "cell_type": "code",
   "execution_count": null,
   "metadata": {},
   "outputs": [],
   "source": [
    "featureCollection = ee.FeatureCollection(json.loads(fire_json))"
   ]
  },
  {
   "cell_type": "code",
   "execution_count": null,
   "metadata": {},
   "outputs": [],
   "source": [
    "coords = list(fire.geometry.iloc[0].geoms)[17].bounds\n",
    "box_poly = shapely.box(coords[0], coords[1], coords[2], coords[3])"
   ]
  },
  {
   "cell_type": "code",
   "execution_count": null,
   "metadata": {},
   "outputs": [],
   "source": [
    "#clipped = image.clip(gdf_to_ee_polygon(shapely.Polygon(list(fire.geometry.iloc[0].geoms)[17].bounds)))\n",
    "clipped = image.clip(gdf_to_ee_polygon(box_poly))"
   ]
  },
  {
   "cell_type": "code",
   "execution_count": null,
   "metadata": {},
   "outputs": [],
   "source": [
    "ee_viz.viz_image(clipped, polygon=fire.geometry.iloc[0], bands=[\"isfire\"], band_names=['isfire'])"
   ]
  },
  {
   "cell_type": "code",
   "execution_count": null,
   "metadata": {},
   "outputs": [],
   "source": [
    "import geemap\n",
    "map = geemap.Map(zoom=9)"
   ]
  },
  {
   "cell_type": "code",
   "execution_count": null,
   "metadata": {},
   "outputs": [],
   "source": [
    "map.addLayer(image)"
   ]
  },
  {
   "cell_type": "code",
   "execution_count": null,
   "metadata": {},
   "outputs": [],
   "source": [
    "map.display()"
   ]
  },
  {
   "cell_type": "code",
   "execution_count": null,
   "metadata": {},
   "outputs": [],
   "source": [
    "import geemap\n",
    "import ee\n",
    "ee.Initialize()\n",
    "# Create a default map\n",
    "Map = geemap.Map()\n",
    "\n",
    "# Load an image.\n",
    "#image = ee.Image('LANDSAT/LC08/C01/T1_TOA/LC08_044034_20140318')\n",
    "\n",
    "# Define the visualization parameters.\n",
    "vizParams = {\n",
    "  'bands': ['isfire'],\n",
    "  'min': 0,\n",
    "  'max': 2\n",
    "}\n",
    "\n",
    "# Center the map and display the image.\n",
    "Map.setCenter(-122.1899, 37.5010, 8) # San Francisco Bay\n",
    "Map.addLayer(clipped, vizParams, 'false color composite')\n",
    "\n",
    "# Display the map\n",
    "Map"
   ]
  },
  {
   "cell_type": "code",
   "execution_count": null,
   "metadata": {},
   "outputs": [],
   "source": [
    "Map"
   ]
  },
  {
   "cell_type": "code",
   "execution_count": null,
   "metadata": {},
   "outputs": [],
   "source": []
  }
 ],
 "metadata": {
  "kernelspec": {
   "display_name": "Python 3.10.6 ('drought': venv)",
   "language": "python",
   "name": "python3"
  },
  "language_info": {
   "codemirror_mode": {
    "name": "ipython",
    "version": 3
   },
   "file_extension": ".py",
   "mimetype": "text/x-python",
   "name": "python",
   "nbconvert_exporter": "python",
   "pygments_lexer": "ipython3",
   "version": "3.10.6"
  },
  "orig_nbformat": 4,
  "vscode": {
   "interpreter": {
    "hash": "1f736514a98fcc3e6a7aa48aaac16ce5b1041d2c9fa71bed1e40355e31f675cb"
   }
  }
 },
 "nbformat": 4,
 "nbformat_minor": 2
}
