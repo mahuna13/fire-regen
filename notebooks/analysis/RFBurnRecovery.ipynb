{
 "cells": [
  {
   "cell_type": "code",
   "execution_count": 1,
   "metadata": {},
   "outputs": [],
   "source": [
    "from src.data import gedi_pipeline\n",
    "#from fastai import *\n",
    "from fastbook import *\n",
    "from fastai.tabular.all import *\n",
    "from fastai import *\n",
    "\n",
    "import pandas as pd\n",
    "pd.options.mode.chained_assignment = None  # default='warn'\n",
    "import numpy as np\n",
    "\n",
    "from sklearn.ensemble import RandomForestRegressor\n",
    "from sklearn.tree import DecisionTreeRegressor\n",
    "\n",
    "from dtreeviz.trees import *\n",
    "from IPython.display import Image, display_svg, SVG\n",
    "import graphviz\n",
    "import regex as re\n",
    "\n",
    "from treeinterpreter import treeinterpreter\n",
    "from waterfall_chart import plot as waterfall"
   ]
  },
  {
   "cell_type": "code",
   "execution_count": 3,
   "metadata": {},
   "outputs": [],
   "source": [
    "def rf(xs, y, n_estimators=50, max_samples=200_000,\n",
    "       max_features=0.5, min_samples_leaf=5, **kwargs):\n",
    "    return RandomForestRegressor(n_jobs=-1, n_estimators=n_estimators,\n",
    "        max_samples=max_samples, max_features=max_features,\n",
    "        min_samples_leaf=min_samples_leaf, oob_score=True).fit(xs, y)"
   ]
  },
  {
   "cell_type": "code",
   "execution_count": 2,
   "metadata": {},
   "outputs": [
    {
     "data": {
      "image/png": "[encoded data removed]",
      "text/plain": [
       "<Figure size 432x288 with 1 Axes>"
      ]
     },
     "metadata": {
      "needs_background": "light"
     },
     "output_type": "display_data"
    }
   ],
   "source": [
    "import matplotlib.pyplot as plt\n",
    "plt.plot([1, 2, 3, 4])\n",
    "plt.ylabel('some numbers')\n",
    "plt.show()"
   ]
  },
  {
   "cell_type": "code",
   "execution_count": 4,
   "metadata": {},
   "outputs": [],
   "source": [
    "def r_mse(pred,y): return round(math.sqrt(((pred-y)**2).mean()), 6)\n",
    "def m_rmse(m, xs, y): return r_mse(m.predict(xs), y)\n",
    "def r_squared(m, xs, y): return r_mse(m.predict(xs), y)"
   ]
  },
  {
   "cell_type": "code",
   "execution_count": 5,
   "metadata": {},
   "outputs": [],
   "source": [
    "def rf_feat_importance(m, df):\n",
    "    return pd.DataFrame({'cols':df.columns, 'imp':m.feature_importances_}\n",
    "                       ).sort_values('imp', ascending=False)"
   ]
  },
  {
   "cell_type": "code",
   "execution_count": 6,
   "metadata": {},
   "outputs": [],
   "source": [
    "def plot_fi(fi):\n",
    "    return fi.plot('cols', 'imp', 'barh', figsize=(12,7), legend=False)"
   ]
  },
  {
   "cell_type": "markdown",
   "metadata": {},
   "source": [
    "In this notebook, we'd like to see if we can predict carbon in burnt areas. There are two separate goals.\n",
    "\n",
    "1. Predict burn area carbon with as many features as possible. Then, do variable importance ranking and partial dependence plots.\n",
    "2. Predict burn area carbon using whatever is available throughout the time range. The purpose of this would be to go back in time, and re-run carbon estimation for these burnt areas, reconstructing recovery."
   ]
  },
  {
   "cell_type": "markdown",
   "metadata": {},
   "source": [
    "### Unresolved questions\n",
    "\n",
    "1. Do we take land cover and pft_class into consideration when doing prediction? Do we use them as features at all?\n",
    "2. What other variables should be added? Does it make sense to use previous year spectral? How much should that be amplified?\n",
    "3. Do we do try to predict carbon or log carbon?\n"
   ]
  },
  {
   "cell_type": "markdown",
   "metadata": {},
   "source": [
    "### Proposal\n",
    "\n",
    "Section 1. Predict burn carbon using all variables, including pft_class and land cover. See what happens."
   ]
  },
  {
   "cell_type": "code",
   "execution_count": 7,
   "metadata": {},
   "outputs": [
    {
     "name": "stdout",
     "output_type": "stream",
     "text": [
      "Load training GEDI shots\n",
      "Load validation GEDI shots\n"
     ]
    }
   ],
   "source": [
    "# Load datasets\n",
    "print('Load training GEDI shots')\n",
    "gedi_train = pd.read_csv(f\"/maps/fire-regen/data/rf/gedi_train.csv\", index_col=0)\n",
    "\n",
    "print('Load validation GEDI shots')\n",
    "gedi_valid = pd.read_csv(f\"/maps/fire-regen/data/rf/gedi_validation.csv\", index_col=0)"
   ]
  },
  {
   "cell_type": "code",
   "execution_count": 8,
   "metadata": {},
   "outputs": [
    {
     "name": "stdout",
     "output_type": "stream",
     "text": [
      "2023-05-30 12:29:40,790 DEBUG: Excluded shots on the burn boundaries, shots remaining:         6421929 [in filter_shots at /home/jk871/fire-regen/src/data/gedi_pipeline.py:49]\n",
      "2023-05-30 12:29:40,899 DEBUG: Number of GEDI shots that burned at least once:                  754690 [in filter_shots at /home/jk871/fire-regen/src/data/gedi_pipeline.py:54]\n",
      "2023-05-30 12:29:41,920 DEBUG: Number of GEDI shots that never burned since 1984:         5667239 [in filter_shots at /home/jk871/fire-regen/src/data/gedi_pipeline.py:60]\n",
      "2023-05-30 12:29:42,447 DEBUG: Excluded shots on the burn boundaries, shots remaining:         1140176 [in filter_shots at /home/jk871/fire-regen/src/data/gedi_pipeline.py:49]\n",
      "2023-05-30 12:29:42,467 DEBUG: Number of GEDI shots that burned at least once:                  137848 [in filter_shots at /home/jk871/fire-regen/src/data/gedi_pipeline.py:54]\n",
      "2023-05-30 12:29:42,619 DEBUG: Number of GEDI shots that never burned since 1984:         1002328 [in filter_shots at /home/jk871/fire-regen/src/data/gedi_pipeline.py:60]\n"
     ]
    }
   ],
   "source": [
    "gedi_train_burned, gedi_train_unburned = gedi_pipeline.filter_shots(gedi_train)\n",
    "gedi_valid_burned, gedi_valid_unburned = gedi_pipeline.filter_shots(gedi_valid)"
   ]
  },
  {
   "cell_type": "markdown",
   "metadata": {},
   "source": [
    "### Part 1 - Analysis 5.30.1\n",
    "\n",
    "No filtering other than for burn count - let the rest be figured out by the model."
   ]
  },
  {
   "cell_type": "code",
   "execution_count": 9,
   "metadata": {},
   "outputs": [],
   "source": [
    "columns_to_keep = ['agbd', 'beam_type', 'sensitivity', 'pft_class', 'gedi_year', 'gedi_month', 'burn_severity_median',\n",
    "'burn_year_median', 'burn_counts_median', 'elevation', 'slope', 'aspect', 'soil', 'land_cover', 'nbr', 'ndvi',\n",
    "'SR_B1', 'SR_B2', 'SR_B3', 'SR_B4', 'SR_B5', 'SR_B6', 'SR_B7', 'time_since_burn']"
   ]
  },
  {
   "cell_type": "code",
   "execution_count": 10,
   "metadata": {},
   "outputs": [],
   "source": [
    "gedi_data_train= gedi_train_burned[columns_to_keep]\n",
    "gedi_data_valid= gedi_valid_burned[columns_to_keep]"
   ]
  },
  {
   "cell_type": "code",
   "execution_count": 11,
   "metadata": {},
   "outputs": [
    {
     "name": "stderr",
     "output_type": "stream",
     "text": [
      "/tmp/ipykernel_4097298/1011805621.py:3: FutureWarning: The `inplace` parameter in pandas.Categorical.set_categories is deprecated and will be removed in a future version. Removing unused categories will always return a new Categorical object.\n",
      "/tmp/ipykernel_4097298/1011805621.py:5: FutureWarning: The `inplace` parameter in pandas.Categorical.set_categories is deprecated and will be removed in a future version. Removing unused categories will always return a new Categorical object.\n"
     ]
    }
   ],
   "source": [
    "beam_types = 'full', 'coverage'\n",
    "gedi_data_train['beam_type'] = gedi_data_train['beam_type'].astype('category')\n",
    "gedi_data_train['beam_type'].cat.set_categories(beam_types, ordered=False, inplace=True)\n",
    "gedi_data_valid['beam_type'] = gedi_data_valid['beam_type'].astype('category')\n",
    "gedi_data_valid['beam_type'].cat.set_categories(beam_types, ordered=False, inplace=True)"
   ]
  },
  {
   "cell_type": "code",
   "execution_count": 12,
   "metadata": {},
   "outputs": [],
   "source": [
    "dep_var = 'agbd'\n",
    "# Remove any rows where agbd == 0\n",
    "gedi_data_train = gedi_data_train[gedi_data_train.agbd != 0]\n",
    "gedi_data_valid= gedi_data_valid[gedi_data_valid.agbd != 0]"
   ]
  },
  {
   "cell_type": "code",
   "execution_count": 13,
   "metadata": {},
   "outputs": [],
   "source": [
    "# Train on log.\n",
    "gedi_data_train[dep_var] = np.log(gedi_data_train[dep_var])\n",
    "gedi_data_valid[dep_var] = np.log(gedi_data_valid[dep_var])"
   ]
  },
  {
   "cell_type": "code",
   "execution_count": 14,
   "metadata": {},
   "outputs": [],
   "source": [
    "procs = [Categorify, FillMissing]\n",
    "cont, cat = cont_cat_split(gedi_data_train, 1, dep_var=dep_var)\n",
    "train_data = TabularPandas(gedi_data_train, procs, cat, cont, y_names=dep_var)\n",
    "valid_data = TabularPandas(gedi_data_valid, procs, cat, cont, y_names=dep_var)"
   ]
  },
  {
   "cell_type": "code",
   "execution_count": 16,
   "metadata": {},
   "outputs": [],
   "source": [
    "save_pickle(f\"/maps/fire-regen/data/rf/train_5.30.1.pkl\", train_data)\n",
    "save_pickle(f\"/maps/fire-regen/data/rf/valid_5.30.1.pkl\", valid_data)"
   ]
  },
  {
   "cell_type": "code",
   "execution_count": 15,
   "metadata": {},
   "outputs": [],
   "source": [
    "xs, y = train_data.train.xs, train_data.train.y\n",
    "valid_xs, valid_y = valid_data.train.xs, valid_data.train.y"
   ]
  },
  {
   "cell_type": "code",
   "execution_count": 16,
   "metadata": {},
   "outputs": [],
   "source": [
    "m = rf(xs, y)"
   ]
  },
  {
   "cell_type": "code",
   "execution_count": 17,
   "metadata": {},
   "outputs": [
    {
     "data": {
      "text/plain": [
       "(0.664118, 0.770085)"
      ]
     },
     "execution_count": 17,
     "metadata": {},
     "output_type": "execute_result"
    }
   ],
   "source": [
    "m_rmse(m, xs, y), m_rmse(m, valid_xs, valid_y)"
   ]
  },
  {
   "cell_type": "code",
   "execution_count": 18,
   "metadata": {},
   "outputs": [
    {
     "name": "stderr",
     "output_type": "stream",
     "text": [
      "/home/jk871/drought-with-gedi/drought/lib/python3.10/site-packages/sklearn/base.py:413: UserWarning: X has feature names, but DecisionTreeRegressor was fitted without feature names\n",
      "/home/jk871/drought-with-gedi/drought/lib/python3.10/site-packages/sklearn/base.py:413: UserWarning: X has feature names, but DecisionTreeRegressor was fitted without feature names\n",
      "/home/jk871/drought-with-gedi/drought/lib/python3.10/site-packages/sklearn/base.py:413: UserWarning: X has feature names, but DecisionTreeRegressor was fitted without feature names\n",
      "/home/jk871/drought-with-gedi/drought/lib/python3.10/site-packages/sklearn/base.py:413: UserWarning: X has feature names, but DecisionTreeRegressor was fitted without feature names\n",
      "/home/jk871/drought-with-gedi/drought/lib/python3.10/site-packages/sklearn/base.py:413: UserWarning: X has feature names, but DecisionTreeRegressor was fitted without feature names\n",
      "/home/jk871/drought-with-gedi/drought/lib/python3.10/site-packages/sklearn/base.py:413: UserWarning: X has feature names, but DecisionTreeRegressor was fitted without feature names\n",
      "/home/jk871/drought-with-gedi/drought/lib/python3.10/site-packages/sklearn/base.py:413: UserWarning: X has feature names, but DecisionTreeRegressor was fitted without feature names\n",
      "/home/jk871/drought-with-gedi/drought/lib/python3.10/site-packages/sklearn/base.py:413: UserWarning: X has feature names, but DecisionTreeRegressor was fitted without feature names\n",
      "/home/jk871/drought-with-gedi/drought/lib/python3.10/site-packages/sklearn/base.py:413: UserWarning: X has feature names, but DecisionTreeRegressor was fitted without feature names\n",
      "/home/jk871/drought-with-gedi/drought/lib/python3.10/site-packages/sklearn/base.py:413: UserWarning: X has feature names, but DecisionTreeRegressor was fitted without feature names\n",
      "/home/jk871/drought-with-gedi/drought/lib/python3.10/site-packages/sklearn/base.py:413: UserWarning: X has feature names, but DecisionTreeRegressor was fitted without feature names\n",
      "/home/jk871/drought-with-gedi/drought/lib/python3.10/site-packages/sklearn/base.py:413: UserWarning: X has feature names, but DecisionTreeRegressor was fitted without feature names\n",
      "/home/jk871/drought-with-gedi/drought/lib/python3.10/site-packages/sklearn/base.py:413: UserWarning: X has feature names, but DecisionTreeRegressor was fitted without feature names\n",
      "/home/jk871/drought-with-gedi/drought/lib/python3.10/site-packages/sklearn/base.py:413: UserWarning: X has feature names, but DecisionTreeRegressor was fitted without feature names\n",
      "/home/jk871/drought-with-gedi/drought/lib/python3.10/site-packages/sklearn/base.py:413: UserWarning: X has feature names, but DecisionTreeRegressor was fitted without feature names\n",
      "/home/jk871/drought-with-gedi/drought/lib/python3.10/site-packages/sklearn/base.py:413: UserWarning: X has feature names, but DecisionTreeRegressor was fitted without feature names\n",
      "/home/jk871/drought-with-gedi/drought/lib/python3.10/site-packages/sklearn/base.py:413: UserWarning: X has feature names, but DecisionTreeRegressor was fitted without feature names\n",
      "/home/jk871/drought-with-gedi/drought/lib/python3.10/site-packages/sklearn/base.py:413: UserWarning: X has feature names, but DecisionTreeRegressor was fitted without feature names\n",
      "/home/jk871/drought-with-gedi/drought/lib/python3.10/site-packages/sklearn/base.py:413: UserWarning: X has feature names, but DecisionTreeRegressor was fitted without feature names\n",
      "/home/jk871/drought-with-gedi/drought/lib/python3.10/site-packages/sklearn/base.py:413: UserWarning: X has feature names, but DecisionTreeRegressor was fitted without feature names\n",
      "/home/jk871/drought-with-gedi/drought/lib/python3.10/site-packages/sklearn/base.py:413: UserWarning: X has feature names, but DecisionTreeRegressor was fitted without feature names\n",
      "/home/jk871/drought-with-gedi/drought/lib/python3.10/site-packages/sklearn/base.py:413: UserWarning: X has feature names, but DecisionTreeRegressor was fitted without feature names\n",
      "/home/jk871/drought-with-gedi/drought/lib/python3.10/site-packages/sklearn/base.py:413: UserWarning: X has feature names, but DecisionTreeRegressor was fitted without feature names\n",
      "/home/jk871/drought-with-gedi/drought/lib/python3.10/site-packages/sklearn/base.py:413: UserWarning: X has feature names, but DecisionTreeRegressor was fitted without feature names\n",
      "/home/jk871/drought-with-gedi/drought/lib/python3.10/site-packages/sklearn/base.py:413: UserWarning: X has feature names, but DecisionTreeRegressor was fitted without feature names\n",
      "/home/jk871/drought-with-gedi/drought/lib/python3.10/site-packages/sklearn/base.py:413: UserWarning: X has feature names, but DecisionTreeRegressor was fitted without feature names\n",
      "/home/jk871/drought-with-gedi/drought/lib/python3.10/site-packages/sklearn/base.py:413: UserWarning: X has feature names, but DecisionTreeRegressor was fitted without feature names\n",
      "/home/jk871/drought-with-gedi/drought/lib/python3.10/site-packages/sklearn/base.py:413: UserWarning: X has feature names, but DecisionTreeRegressor was fitted without feature names\n",
      "/home/jk871/drought-with-gedi/drought/lib/python3.10/site-packages/sklearn/base.py:413: UserWarning: X has feature names, but DecisionTreeRegressor was fitted without feature names\n",
      "/home/jk871/drought-with-gedi/drought/lib/python3.10/site-packages/sklearn/base.py:413: UserWarning: X has feature names, but DecisionTreeRegressor was fitted without feature names\n",
      "/home/jk871/drought-with-gedi/drought/lib/python3.10/site-packages/sklearn/base.py:413: UserWarning: X has feature names, but DecisionTreeRegressor was fitted without feature names\n",
      "/home/jk871/drought-with-gedi/drought/lib/python3.10/site-packages/sklearn/base.py:413: UserWarning: X has feature names, but DecisionTreeRegressor was fitted without feature names\n",
      "/home/jk871/drought-with-gedi/drought/lib/python3.10/site-packages/sklearn/base.py:413: UserWarning: X has feature names, but DecisionTreeRegressor was fitted without feature names\n",
      "/home/jk871/drought-with-gedi/drought/lib/python3.10/site-packages/sklearn/base.py:413: UserWarning: X has feature names, but DecisionTreeRegressor was fitted without feature names\n",
      "/home/jk871/drought-with-gedi/drought/lib/python3.10/site-packages/sklearn/base.py:413: UserWarning: X has feature names, but DecisionTreeRegressor was fitted without feature names\n",
      "/home/jk871/drought-with-gedi/drought/lib/python3.10/site-packages/sklearn/base.py:413: UserWarning: X has feature names, but DecisionTreeRegressor was fitted without feature names\n",
      "/home/jk871/drought-with-gedi/drought/lib/python3.10/site-packages/sklearn/base.py:413: UserWarning: X has feature names, but DecisionTreeRegressor was fitted without feature names\n",
      "/home/jk871/drought-with-gedi/drought/lib/python3.10/site-packages/sklearn/base.py:413: UserWarning: X has feature names, but DecisionTreeRegressor was fitted without feature names\n",
      "/home/jk871/drought-with-gedi/drought/lib/python3.10/site-packages/sklearn/base.py:413: UserWarning: X has feature names, but DecisionTreeRegressor was fitted without feature names\n",
      "/home/jk871/drought-with-gedi/drought/lib/python3.10/site-packages/sklearn/base.py:413: UserWarning: X has feature names, but DecisionTreeRegressor was fitted without feature names\n",
      "/home/jk871/drought-with-gedi/drought/lib/python3.10/site-packages/sklearn/base.py:413: UserWarning: X has feature names, but DecisionTreeRegressor was fitted without feature names\n",
      "/home/jk871/drought-with-gedi/drought/lib/python3.10/site-packages/sklearn/base.py:413: UserWarning: X has feature names, but DecisionTreeRegressor was fitted without feature names\n",
      "/home/jk871/drought-with-gedi/drought/lib/python3.10/site-packages/sklearn/base.py:413: UserWarning: X has feature names, but DecisionTreeRegressor was fitted without feature names\n",
      "/home/jk871/drought-with-gedi/drought/lib/python3.10/site-packages/sklearn/base.py:413: UserWarning: X has feature names, but DecisionTreeRegressor was fitted without feature names\n",
      "/home/jk871/drought-with-gedi/drought/lib/python3.10/site-packages/sklearn/base.py:413: UserWarning: X has feature names, but DecisionTreeRegressor was fitted without feature names\n",
      "/home/jk871/drought-with-gedi/drought/lib/python3.10/site-packages/sklearn/base.py:413: UserWarning: X has feature names, but DecisionTreeRegressor was fitted without feature names\n",
      "/home/jk871/drought-with-gedi/drought/lib/python3.10/site-packages/sklearn/base.py:413: UserWarning: X has feature names, but DecisionTreeRegressor was fitted without feature names\n",
      "/home/jk871/drought-with-gedi/drought/lib/python3.10/site-packages/sklearn/base.py:413: UserWarning: X has feature names, but DecisionTreeRegressor was fitted without feature names\n",
      "/home/jk871/drought-with-gedi/drought/lib/python3.10/site-packages/sklearn/base.py:413: UserWarning: X has feature names, but DecisionTreeRegressor was fitted without feature names\n",
      "/home/jk871/drought-with-gedi/drought/lib/python3.10/site-packages/sklearn/base.py:413: UserWarning: X has feature names, but DecisionTreeRegressor was fitted without feature names\n"
     ]
    }
   ],
   "source": [
    "preds = np.stack([t.predict(valid_xs) for t in m.estimators_])"
   ]
  },
  {
   "cell_type": "code",
   "execution_count": 19,
   "metadata": {},
   "outputs": [],
   "source": [
    "preds_std = preds.std(0)"
   ]
  },
  {
   "cell_type": "code",
   "execution_count": 20,
   "metadata": {},
   "outputs": [],
   "source": [
    "preds_analysis = valid_xs.copy()\n",
    "preds_analysis['pred_std'] = preds_std"
   ]
  },
  {
   "cell_type": "code",
   "execution_count": 21,
   "metadata": {},
   "outputs": [],
   "source": [
    "preds_analysis['log_agbd'] = valid_y"
   ]
  },
  {
   "cell_type": "code",
   "execution_count": 22,
   "metadata": {},
   "outputs": [
    {
     "data": {
      "text/html": [
       "<div>\n",
       "<style scoped>\n",
       "    .dataframe tbody tr th:only-of-type {\n",
       "        vertical-align: middle;\n",
       "    }\n",
       "\n",
       "    .dataframe tbody tr th {\n",
       "        vertical-align: top;\n",
       "    }\n",
       "\n",
       "    .dataframe thead th {\n",
       "        text-align: right;\n",
       "    }\n",
       "</style>\n",
       "<table border=\"1\" class=\"dataframe\">\n",
       "  <thead>\n",
       "    <tr style=\"text-align: right;\">\n",
       "      <th></th>\n",
       "      <th>beam_type</th>\n",
       "      <th>sensitivity</th>\n",
       "      <th>pft_class</th>\n",
       "      <th>gedi_year</th>\n",
       "      <th>gedi_month</th>\n",
       "      <th>burn_severity_median</th>\n",
       "      <th>burn_year_median</th>\n",
       "      <th>burn_counts_median</th>\n",
       "      <th>elevation</th>\n",
       "      <th>slope</th>\n",
       "      <th>aspect</th>\n",
       "      <th>soil</th>\n",
       "      <th>land_cover</th>\n",
       "      <th>nbr</th>\n",
       "      <th>ndvi</th>\n",
       "      <th>SR_B1</th>\n",
       "      <th>SR_B2</th>\n",
       "      <th>SR_B3</th>\n",
       "      <th>SR_B4</th>\n",
       "      <th>SR_B5</th>\n",
       "      <th>SR_B6</th>\n",
       "      <th>SR_B7</th>\n",
       "      <th>time_since_burn</th>\n",
       "      <th>pred_std</th>\n",
       "      <th>log_agbd</th>\n",
       "    </tr>\n",
       "  </thead>\n",
       "  <tbody>\n",
       "    <tr>\n",
       "      <th>745748</th>\n",
       "      <td>1</td>\n",
       "      <td>0.977603</td>\n",
       "      <td>6</td>\n",
       "      <td>2019</td>\n",
       "      <td>9</td>\n",
       "      <td>2.0</td>\n",
       "      <td>2018.0</td>\n",
       "      <td>1.0</td>\n",
       "      <td>1279</td>\n",
       "      <td>0</td>\n",
       "      <td>308</td>\n",
       "      <td>0</td>\n",
       "      <td>1</td>\n",
       "      <td>0.359526</td>\n",
       "      <td>0.367574</td>\n",
       "      <td>8066.066895</td>\n",
       "      <td>8226.500000</td>\n",
       "      <td>9466.200195</td>\n",
       "      <td>9112.400391</td>\n",
       "      <td>19704.900391</td>\n",
       "      <td>11207.700195</td>\n",
       "      <td>9283.000000</td>\n",
       "      <td>1.0</td>\n",
       "      <td>1.868484</td>\n",
       "      <td>0.806822</td>\n",
       "    </tr>\n",
       "    <tr>\n",
       "      <th>468955</th>\n",
       "      <td>1</td>\n",
       "      <td>0.979026</td>\n",
       "      <td>6</td>\n",
       "      <td>2020</td>\n",
       "      <td>12</td>\n",
       "      <td>2.0</td>\n",
       "      <td>2014.0</td>\n",
       "      <td>1.0</td>\n",
       "      <td>1307</td>\n",
       "      <td>0</td>\n",
       "      <td>180</td>\n",
       "      <td>0</td>\n",
       "      <td>4</td>\n",
       "      <td>0.081663</td>\n",
       "      <td>0.114220</td>\n",
       "      <td>8020.250000</td>\n",
       "      <td>8634.000000</td>\n",
       "      <td>9739.625000</td>\n",
       "      <td>10399.500000</td>\n",
       "      <td>13081.500000</td>\n",
       "      <td>12723.875000</td>\n",
       "      <td>11106.250000</td>\n",
       "      <td>6.0</td>\n",
       "      <td>1.768973</td>\n",
       "      <td>0.021935</td>\n",
       "    </tr>\n",
       "    <tr>\n",
       "      <th>682281</th>\n",
       "      <td>1</td>\n",
       "      <td>0.975760</td>\n",
       "      <td>6</td>\n",
       "      <td>2019</td>\n",
       "      <td>11</td>\n",
       "      <td>1.0</td>\n",
       "      <td>2016.0</td>\n",
       "      <td>1.0</td>\n",
       "      <td>2010</td>\n",
       "      <td>1</td>\n",
       "      <td>180</td>\n",
       "      <td>0</td>\n",
       "      <td>5</td>\n",
       "      <td>0.122590</td>\n",
       "      <td>0.238222</td>\n",
       "      <td>7799.571289</td>\n",
       "      <td>8726.181641</td>\n",
       "      <td>9939.181641</td>\n",
       "      <td>10733.000000</td>\n",
       "      <td>17445.818359</td>\n",
       "      <td>17587.636719</td>\n",
       "      <td>13635.545898</td>\n",
       "      <td>3.0</td>\n",
       "      <td>1.761271</td>\n",
       "      <td>-0.030098</td>\n",
       "    </tr>\n",
       "    <tr>\n",
       "      <th>682572</th>\n",
       "      <td>1</td>\n",
       "      <td>0.974126</td>\n",
       "      <td>6</td>\n",
       "      <td>2021</td>\n",
       "      <td>2</td>\n",
       "      <td>2.0</td>\n",
       "      <td>2016.0</td>\n",
       "      <td>2.0</td>\n",
       "      <td>1985</td>\n",
       "      <td>1</td>\n",
       "      <td>281</td>\n",
       "      <td>0</td>\n",
       "      <td>4</td>\n",
       "      <td>0.120682</td>\n",
       "      <td>0.242079</td>\n",
       "      <td>8223.266602</td>\n",
       "      <td>8666.599609</td>\n",
       "      <td>9790.200195</td>\n",
       "      <td>10268.666992</td>\n",
       "      <td>16828.267578</td>\n",
       "      <td>15860.599609</td>\n",
       "      <td>13203.933594</td>\n",
       "      <td>5.0</td>\n",
       "      <td>1.749144</td>\n",
       "      <td>1.929288</td>\n",
       "    </tr>\n",
       "    <tr>\n",
       "      <th>682260</th>\n",
       "      <td>1</td>\n",
       "      <td>0.970073</td>\n",
       "      <td>6</td>\n",
       "      <td>2019</td>\n",
       "      <td>9</td>\n",
       "      <td>1.5</td>\n",
       "      <td>2016.0</td>\n",
       "      <td>1.0</td>\n",
       "      <td>1971</td>\n",
       "      <td>1</td>\n",
       "      <td>230</td>\n",
       "      <td>0</td>\n",
       "      <td>5</td>\n",
       "      <td>-0.027587</td>\n",
       "      <td>0.093304</td>\n",
       "      <td>8225.066406</td>\n",
       "      <td>8660.099609</td>\n",
       "      <td>9536.700195</td>\n",
       "      <td>10028.099609</td>\n",
       "      <td>12092.000000</td>\n",
       "      <td>13749.700195</td>\n",
       "      <td>12778.099609</td>\n",
       "      <td>3.0</td>\n",
       "      <td>1.740282</td>\n",
       "      <td>3.658994</td>\n",
       "    </tr>\n",
       "    <tr>\n",
       "      <th>...</th>\n",
       "      <td>...</td>\n",
       "      <td>...</td>\n",
       "      <td>...</td>\n",
       "      <td>...</td>\n",
       "      <td>...</td>\n",
       "      <td>...</td>\n",
       "      <td>...</td>\n",
       "      <td>...</td>\n",
       "      <td>...</td>\n",
       "      <td>...</td>\n",
       "      <td>...</td>\n",
       "      <td>...</td>\n",
       "      <td>...</td>\n",
       "      <td>...</td>\n",
       "      <td>...</td>\n",
       "      <td>...</td>\n",
       "      <td>...</td>\n",
       "      <td>...</td>\n",
       "      <td>...</td>\n",
       "      <td>...</td>\n",
       "      <td>...</td>\n",
       "      <td>...</td>\n",
       "      <td>...</td>\n",
       "      <td>...</td>\n",
       "      <td>...</td>\n",
       "    </tr>\n",
       "    <tr>\n",
       "      <th>410749</th>\n",
       "      <td>1</td>\n",
       "      <td>0.950047</td>\n",
       "      <td>1</td>\n",
       "      <td>2020</td>\n",
       "      <td>8</td>\n",
       "      <td>2.0</td>\n",
       "      <td>1987.0</td>\n",
       "      <td>1.0</td>\n",
       "      <td>1119</td>\n",
       "      <td>1</td>\n",
       "      <td>345</td>\n",
       "      <td>0</td>\n",
       "      <td>5</td>\n",
       "      <td>0.060650</td>\n",
       "      <td>0.154580</td>\n",
       "      <td>8519.125000</td>\n",
       "      <td>8809.250000</td>\n",
       "      <td>9475.500000</td>\n",
       "      <td>9863.250000</td>\n",
       "      <td>13470.125000</td>\n",
       "      <td>13711.625000</td>\n",
       "      <td>11929.625000</td>\n",
       "      <td>33.0</td>\n",
       "      <td>0.034213</td>\n",
       "      <td>2.665946</td>\n",
       "    </tr>\n",
       "    <tr>\n",
       "      <th>410751</th>\n",
       "      <td>1</td>\n",
       "      <td>0.956122</td>\n",
       "      <td>1</td>\n",
       "      <td>2020</td>\n",
       "      <td>8</td>\n",
       "      <td>2.0</td>\n",
       "      <td>1987.0</td>\n",
       "      <td>1.0</td>\n",
       "      <td>1116</td>\n",
       "      <td>1</td>\n",
       "      <td>332</td>\n",
       "      <td>0</td>\n",
       "      <td>5</td>\n",
       "      <td>0.081188</td>\n",
       "      <td>0.168016</td>\n",
       "      <td>8384.625000</td>\n",
       "      <td>8684.875000</td>\n",
       "      <td>9396.625000</td>\n",
       "      <td>9726.000000</td>\n",
       "      <td>13654.250000</td>\n",
       "      <td>13399.250000</td>\n",
       "      <td>11603.625000</td>\n",
       "      <td>33.0</td>\n",
       "      <td>0.033928</td>\n",
       "      <td>2.716041</td>\n",
       "    </tr>\n",
       "    <tr>\n",
       "      <th>410773</th>\n",
       "      <td>1</td>\n",
       "      <td>0.959798</td>\n",
       "      <td>1</td>\n",
       "      <td>2020</td>\n",
       "      <td>8</td>\n",
       "      <td>2.5</td>\n",
       "      <td>1987.0</td>\n",
       "      <td>1.0</td>\n",
       "      <td>1124</td>\n",
       "      <td>1</td>\n",
       "      <td>345</td>\n",
       "      <td>0</td>\n",
       "      <td>5</td>\n",
       "      <td>0.073094</td>\n",
       "      <td>0.164005</td>\n",
       "      <td>8413.375000</td>\n",
       "      <td>8649.125000</td>\n",
       "      <td>9264.625000</td>\n",
       "      <td>9551.500000</td>\n",
       "      <td>13299.125000</td>\n",
       "      <td>13158.750000</td>\n",
       "      <td>11487.375000</td>\n",
       "      <td>33.0</td>\n",
       "      <td>0.031449</td>\n",
       "      <td>2.753362</td>\n",
       "    </tr>\n",
       "    <tr>\n",
       "      <th>410663</th>\n",
       "      <td>1</td>\n",
       "      <td>0.953273</td>\n",
       "      <td>1</td>\n",
       "      <td>2019</td>\n",
       "      <td>10</td>\n",
       "      <td>2.0</td>\n",
       "      <td>1987.0</td>\n",
       "      <td>1.0</td>\n",
       "      <td>1113</td>\n",
       "      <td>0</td>\n",
       "      <td>232</td>\n",
       "      <td>0</td>\n",
       "      <td>5</td>\n",
       "      <td>0.082739</td>\n",
       "      <td>0.171265</td>\n",
       "      <td>8333.713867</td>\n",
       "      <td>8667.833008</td>\n",
       "      <td>9287.833008</td>\n",
       "      <td>9598.000000</td>\n",
       "      <td>13565.000000</td>\n",
       "      <td>13367.833008</td>\n",
       "      <td>11491.833008</td>\n",
       "      <td>32.0</td>\n",
       "      <td>0.030184</td>\n",
       "      <td>2.689327</td>\n",
       "    </tr>\n",
       "    <tr>\n",
       "      <th>410970</th>\n",
       "      <td>1</td>\n",
       "      <td>0.952595</td>\n",
       "      <td>1</td>\n",
       "      <td>2020</td>\n",
       "      <td>8</td>\n",
       "      <td>2.0</td>\n",
       "      <td>1987.0</td>\n",
       "      <td>1.0</td>\n",
       "      <td>1126</td>\n",
       "      <td>1</td>\n",
       "      <td>296</td>\n",
       "      <td>0</td>\n",
       "      <td>5</td>\n",
       "      <td>0.080059</td>\n",
       "      <td>0.166029</td>\n",
       "      <td>8461.250000</td>\n",
       "      <td>8743.000000</td>\n",
       "      <td>9445.125000</td>\n",
       "      <td>9808.125000</td>\n",
       "      <td>13713.375000</td>\n",
       "      <td>13480.250000</td>\n",
       "      <td>11680.375000</td>\n",
       "      <td>33.0</td>\n",
       "      <td>0.026959</td>\n",
       "      <td>2.662436</td>\n",
       "    </tr>\n",
       "  </tbody>\n",
       "</table>\n",
       "<p>137848 rows × 25 columns</p>\n",
       "</div>"
      ],
      "text/plain": [
       "        beam_type  sensitivity  pft_class  gedi_year  gedi_month  \\\n",
       "745748          1     0.977603          6       2019           9   \n",
       "468955          1     0.979026          6       2020          12   \n",
       "682281          1     0.975760          6       2019          11   \n",
       "682572          1     0.974126          6       2021           2   \n",
       "682260          1     0.970073          6       2019           9   \n",
       "...           ...          ...        ...        ...         ...   \n",
       "410749          1     0.950047          1       2020           8   \n",
       "410751          1     0.956122          1       2020           8   \n",
       "410773          1     0.959798          1       2020           8   \n",
       "410663          1     0.953273          1       2019          10   \n",
       "410970          1     0.952595          1       2020           8   \n",
       "\n",
       "        burn_severity_median  burn_year_median  burn_counts_median  elevation  \\\n",
       "745748                   2.0            2018.0                 1.0       1279   \n",
       "468955                   2.0            2014.0                 1.0       1307   \n",
       "682281                   1.0            2016.0                 1.0       2010   \n",
       "682572                   2.0            2016.0                 2.0       1985   \n",
       "682260                   1.5            2016.0                 1.0       1971   \n",
       "...                      ...               ...                 ...        ...   \n",
       "410749                   2.0            1987.0                 1.0       1119   \n",
       "410751                   2.0            1987.0                 1.0       1116   \n",
       "410773                   2.5            1987.0                 1.0       1124   \n",
       "410663                   2.0            1987.0                 1.0       1113   \n",
       "410970                   2.0            1987.0                 1.0       1126   \n",
       "\n",
       "        slope  aspect  soil  land_cover       nbr      ndvi        SR_B1  \\\n",
       "745748      0     308     0           1  0.359526  0.367574  8066.066895   \n",
       "468955      0     180     0           4  0.081663  0.114220  8020.250000   \n",
       "682281      1     180     0           5  0.122590  0.238222  7799.571289   \n",
       "682572      1     281     0           4  0.120682  0.242079  8223.266602   \n",
       "682260      1     230     0           5 -0.027587  0.093304  8225.066406   \n",
       "...       ...     ...   ...         ...       ...       ...          ...   \n",
       "410749      1     345     0           5  0.060650  0.154580  8519.125000   \n",
       "410751      1     332     0           5  0.081188  0.168016  8384.625000   \n",
       "410773      1     345     0           5  0.073094  0.164005  8413.375000   \n",
       "410663      0     232     0           5  0.082739  0.171265  8333.713867   \n",
       "410970      1     296     0           5  0.080059  0.166029  8461.250000   \n",
       "\n",
       "              SR_B2        SR_B3         SR_B4         SR_B5         SR_B6  \\\n",
       "745748  8226.500000  9466.200195   9112.400391  19704.900391  11207.700195   \n",
       "468955  8634.000000  9739.625000  10399.500000  13081.500000  12723.875000   \n",
       "682281  8726.181641  9939.181641  10733.000000  17445.818359  17587.636719   \n",
       "682572  8666.599609  9790.200195  10268.666992  16828.267578  15860.599609   \n",
       "682260  8660.099609  9536.700195  10028.099609  12092.000000  13749.700195   \n",
       "...             ...          ...           ...           ...           ...   \n",
       "410749  8809.250000  9475.500000   9863.250000  13470.125000  13711.625000   \n",
       "410751  8684.875000  9396.625000   9726.000000  13654.250000  13399.250000   \n",
       "410773  8649.125000  9264.625000   9551.500000  13299.125000  13158.750000   \n",
       "410663  8667.833008  9287.833008   9598.000000  13565.000000  13367.833008   \n",
       "410970  8743.000000  9445.125000   9808.125000  13713.375000  13480.250000   \n",
       "\n",
       "               SR_B7  time_since_burn  pred_std  log_agbd  \n",
       "745748   9283.000000              1.0  1.868484  0.806822  \n",
       "468955  11106.250000              6.0  1.768973  0.021935  \n",
       "682281  13635.545898              3.0  1.761271 -0.030098  \n",
       "682572  13203.933594              5.0  1.749144  1.929288  \n",
       "682260  12778.099609              3.0  1.740282  3.658994  \n",
       "...              ...              ...       ...       ...  \n",
       "410749  11929.625000             33.0  0.034213  2.665946  \n",
       "410751  11603.625000             33.0  0.033928  2.716041  \n",
       "410773  11487.375000             33.0  0.031449  2.753362  \n",
       "410663  11491.833008             32.0  0.030184  2.689327  \n",
       "410970  11680.375000             33.0  0.026959  2.662436  \n",
       "\n",
       "[137848 rows x 25 columns]"
      ]
     },
     "execution_count": 22,
     "metadata": {},
     "output_type": "execute_result"
    }
   ],
   "source": [
    "preds_analysis.sort_values('pred_std', ascending=False, inplace=True)\n",
    "preds_analysis"
   ]
  },
  {
   "cell_type": "code",
   "execution_count": 23,
   "metadata": {},
   "outputs": [
    {
     "data": {
      "text/html": [
       "<div>\n",
       "<style scoped>\n",
       "    .dataframe tbody tr th:only-of-type {\n",
       "        vertical-align: middle;\n",
       "    }\n",
       "\n",
       "    .dataframe tbody tr th {\n",
       "        vertical-align: top;\n",
       "    }\n",
       "\n",
       "    .dataframe thead th {\n",
       "        text-align: right;\n",
       "    }\n",
       "</style>\n",
       "<table border=\"1\" class=\"dataframe\">\n",
       "  <thead>\n",
       "    <tr style=\"text-align: right;\">\n",
       "      <th></th>\n",
       "      <th>beam_type</th>\n",
       "      <th>sensitivity</th>\n",
       "      <th>pft_class</th>\n",
       "      <th>gedi_year</th>\n",
       "      <th>gedi_month</th>\n",
       "      <th>burn_severity_median</th>\n",
       "      <th>burn_year_median</th>\n",
       "      <th>burn_counts_median</th>\n",
       "      <th>elevation</th>\n",
       "      <th>slope</th>\n",
       "      <th>aspect</th>\n",
       "      <th>soil</th>\n",
       "      <th>land_cover</th>\n",
       "      <th>nbr</th>\n",
       "      <th>ndvi</th>\n",
       "      <th>SR_B1</th>\n",
       "      <th>SR_B2</th>\n",
       "      <th>SR_B3</th>\n",
       "      <th>SR_B4</th>\n",
       "      <th>SR_B5</th>\n",
       "      <th>SR_B6</th>\n",
       "      <th>SR_B7</th>\n",
       "      <th>time_since_burn</th>\n",
       "      <th>pred_std</th>\n",
       "      <th>log_agbd</th>\n",
       "    </tr>\n",
       "  </thead>\n",
       "  <tbody>\n",
       "    <tr>\n",
       "      <th>745748</th>\n",
       "      <td>1</td>\n",
       "      <td>0.977603</td>\n",
       "      <td>6</td>\n",
       "      <td>2019</td>\n",
       "      <td>9</td>\n",
       "      <td>2.0</td>\n",
       "      <td>2018.0</td>\n",
       "      <td>1.0</td>\n",
       "      <td>1279</td>\n",
       "      <td>0</td>\n",
       "      <td>308</td>\n",
       "      <td>0</td>\n",
       "      <td>1</td>\n",
       "      <td>0.359526</td>\n",
       "      <td>0.367574</td>\n",
       "      <td>8066.066895</td>\n",
       "      <td>8226.500000</td>\n",
       "      <td>9466.200195</td>\n",
       "      <td>9112.400391</td>\n",
       "      <td>19704.900391</td>\n",
       "      <td>11207.700195</td>\n",
       "      <td>9283.000000</td>\n",
       "      <td>1.0</td>\n",
       "      <td>1.868484</td>\n",
       "      <td>0.806822</td>\n",
       "    </tr>\n",
       "    <tr>\n",
       "      <th>468955</th>\n",
       "      <td>1</td>\n",
       "      <td>0.979026</td>\n",
       "      <td>6</td>\n",
       "      <td>2020</td>\n",
       "      <td>12</td>\n",
       "      <td>2.0</td>\n",
       "      <td>2014.0</td>\n",
       "      <td>1.0</td>\n",
       "      <td>1307</td>\n",
       "      <td>0</td>\n",
       "      <td>180</td>\n",
       "      <td>0</td>\n",
       "      <td>4</td>\n",
       "      <td>0.081663</td>\n",
       "      <td>0.114220</td>\n",
       "      <td>8020.250000</td>\n",
       "      <td>8634.000000</td>\n",
       "      <td>9739.625000</td>\n",
       "      <td>10399.500000</td>\n",
       "      <td>13081.500000</td>\n",
       "      <td>12723.875000</td>\n",
       "      <td>11106.250000</td>\n",
       "      <td>6.0</td>\n",
       "      <td>1.768973</td>\n",
       "      <td>0.021935</td>\n",
       "    </tr>\n",
       "    <tr>\n",
       "      <th>682281</th>\n",
       "      <td>1</td>\n",
       "      <td>0.975760</td>\n",
       "      <td>6</td>\n",
       "      <td>2019</td>\n",
       "      <td>11</td>\n",
       "      <td>1.0</td>\n",
       "      <td>2016.0</td>\n",
       "      <td>1.0</td>\n",
       "      <td>2010</td>\n",
       "      <td>1</td>\n",
       "      <td>180</td>\n",
       "      <td>0</td>\n",
       "      <td>5</td>\n",
       "      <td>0.122590</td>\n",
       "      <td>0.238222</td>\n",
       "      <td>7799.571289</td>\n",
       "      <td>8726.181641</td>\n",
       "      <td>9939.181641</td>\n",
       "      <td>10733.000000</td>\n",
       "      <td>17445.818359</td>\n",
       "      <td>17587.636719</td>\n",
       "      <td>13635.545898</td>\n",
       "      <td>3.0</td>\n",
       "      <td>1.761271</td>\n",
       "      <td>-0.030098</td>\n",
       "    </tr>\n",
       "    <tr>\n",
       "      <th>682572</th>\n",
       "      <td>1</td>\n",
       "      <td>0.974126</td>\n",
       "      <td>6</td>\n",
       "      <td>2021</td>\n",
       "      <td>2</td>\n",
       "      <td>2.0</td>\n",
       "      <td>2016.0</td>\n",
       "      <td>2.0</td>\n",
       "      <td>1985</td>\n",
       "      <td>1</td>\n",
       "      <td>281</td>\n",
       "      <td>0</td>\n",
       "      <td>4</td>\n",
       "      <td>0.120682</td>\n",
       "      <td>0.242079</td>\n",
       "      <td>8223.266602</td>\n",
       "      <td>8666.599609</td>\n",
       "      <td>9790.200195</td>\n",
       "      <td>10268.666992</td>\n",
       "      <td>16828.267578</td>\n",
       "      <td>15860.599609</td>\n",
       "      <td>13203.933594</td>\n",
       "      <td>5.0</td>\n",
       "      <td>1.749144</td>\n",
       "      <td>1.929288</td>\n",
       "    </tr>\n",
       "    <tr>\n",
       "      <th>682260</th>\n",
       "      <td>1</td>\n",
       "      <td>0.970073</td>\n",
       "      <td>6</td>\n",
       "      <td>2019</td>\n",
       "      <td>9</td>\n",
       "      <td>1.5</td>\n",
       "      <td>2016.0</td>\n",
       "      <td>1.0</td>\n",
       "      <td>1971</td>\n",
       "      <td>1</td>\n",
       "      <td>230</td>\n",
       "      <td>0</td>\n",
       "      <td>5</td>\n",
       "      <td>-0.027587</td>\n",
       "      <td>0.093304</td>\n",
       "      <td>8225.066406</td>\n",
       "      <td>8660.099609</td>\n",
       "      <td>9536.700195</td>\n",
       "      <td>10028.099609</td>\n",
       "      <td>12092.000000</td>\n",
       "      <td>13749.700195</td>\n",
       "      <td>12778.099609</td>\n",
       "      <td>3.0</td>\n",
       "      <td>1.740282</td>\n",
       "      <td>3.658994</td>\n",
       "    </tr>\n",
       "    <tr>\n",
       "      <th>...</th>\n",
       "      <td>...</td>\n",
       "      <td>...</td>\n",
       "      <td>...</td>\n",
       "      <td>...</td>\n",
       "      <td>...</td>\n",
       "      <td>...</td>\n",
       "      <td>...</td>\n",
       "      <td>...</td>\n",
       "      <td>...</td>\n",
       "      <td>...</td>\n",
       "      <td>...</td>\n",
       "      <td>...</td>\n",
       "      <td>...</td>\n",
       "      <td>...</td>\n",
       "      <td>...</td>\n",
       "      <td>...</td>\n",
       "      <td>...</td>\n",
       "      <td>...</td>\n",
       "      <td>...</td>\n",
       "      <td>...</td>\n",
       "      <td>...</td>\n",
       "      <td>...</td>\n",
       "      <td>...</td>\n",
       "      <td>...</td>\n",
       "      <td>...</td>\n",
       "    </tr>\n",
       "    <tr>\n",
       "      <th>694657</th>\n",
       "      <td>1</td>\n",
       "      <td>0.976011</td>\n",
       "      <td>6</td>\n",
       "      <td>2022</td>\n",
       "      <td>11</td>\n",
       "      <td>2.0</td>\n",
       "      <td>2012.0</td>\n",
       "      <td>2.0</td>\n",
       "      <td>1759</td>\n",
       "      <td>5</td>\n",
       "      <td>168</td>\n",
       "      <td>0</td>\n",
       "      <td>5</td>\n",
       "      <td>0.025347</td>\n",
       "      <td>0.167956</td>\n",
       "      <td>8620.833008</td>\n",
       "      <td>9044.666992</td>\n",
       "      <td>9984.666992</td>\n",
       "      <td>10146.500000</td>\n",
       "      <td>14242.833008</td>\n",
       "      <td>14479.333008</td>\n",
       "      <td>13538.666992</td>\n",
       "      <td>10.0</td>\n",
       "      <td>1.525335</td>\n",
       "      <td>0.330472</td>\n",
       "    </tr>\n",
       "    <tr>\n",
       "      <th>1130482</th>\n",
       "      <td>1</td>\n",
       "      <td>0.961186</td>\n",
       "      <td>6</td>\n",
       "      <td>2020</td>\n",
       "      <td>2</td>\n",
       "      <td>2.0</td>\n",
       "      <td>2012.0</td>\n",
       "      <td>1.0</td>\n",
       "      <td>1689</td>\n",
       "      <td>1</td>\n",
       "      <td>146</td>\n",
       "      <td>0</td>\n",
       "      <td>5</td>\n",
       "      <td>0.023391</td>\n",
       "      <td>0.155587</td>\n",
       "      <td>8546.142578</td>\n",
       "      <td>8814.857422</td>\n",
       "      <td>9545.000000</td>\n",
       "      <td>10143.571289</td>\n",
       "      <td>13881.571289</td>\n",
       "      <td>15672.428711</td>\n",
       "      <td>13247.000000</td>\n",
       "      <td>8.0</td>\n",
       "      <td>1.525323</td>\n",
       "      <td>2.884527</td>\n",
       "    </tr>\n",
       "    <tr>\n",
       "      <th>349577</th>\n",
       "      <td>1</td>\n",
       "      <td>0.973006</td>\n",
       "      <td>6</td>\n",
       "      <td>2022</td>\n",
       "      <td>9</td>\n",
       "      <td>3.0</td>\n",
       "      <td>2007.0</td>\n",
       "      <td>1.0</td>\n",
       "      <td>1982</td>\n",
       "      <td>5</td>\n",
       "      <td>132</td>\n",
       "      <td>5</td>\n",
       "      <td>1</td>\n",
       "      <td>0.152142</td>\n",
       "      <td>0.249024</td>\n",
       "      <td>8470.922852</td>\n",
       "      <td>8772.615234</td>\n",
       "      <td>9625.615234</td>\n",
       "      <td>9718.000000</td>\n",
       "      <td>16163.000000</td>\n",
       "      <td>14606.307617</td>\n",
       "      <td>11894.307617</td>\n",
       "      <td>15.0</td>\n",
       "      <td>1.523747</td>\n",
       "      <td>3.219355</td>\n",
       "    </tr>\n",
       "    <tr>\n",
       "      <th>1063255</th>\n",
       "      <td>1</td>\n",
       "      <td>0.958857</td>\n",
       "      <td>6</td>\n",
       "      <td>2019</td>\n",
       "      <td>8</td>\n",
       "      <td>2.5</td>\n",
       "      <td>2016.0</td>\n",
       "      <td>1.0</td>\n",
       "      <td>2475</td>\n",
       "      <td>7</td>\n",
       "      <td>258</td>\n",
       "      <td>0</td>\n",
       "      <td>5</td>\n",
       "      <td>0.027873</td>\n",
       "      <td>0.142271</td>\n",
       "      <td>8952.125000</td>\n",
       "      <td>9451.500000</td>\n",
       "      <td>10157.250000</td>\n",
       "      <td>10657.500000</td>\n",
       "      <td>14193.000000</td>\n",
       "      <td>15596.500000</td>\n",
       "      <td>13423.250000</td>\n",
       "      <td>3.0</td>\n",
       "      <td>1.522736</td>\n",
       "      <td>4.314043</td>\n",
       "    </tr>\n",
       "    <tr>\n",
       "      <th>540564</th>\n",
       "      <td>1</td>\n",
       "      <td>0.968739</td>\n",
       "      <td>6</td>\n",
       "      <td>2022</td>\n",
       "      <td>5</td>\n",
       "      <td>3.5</td>\n",
       "      <td>2008.0</td>\n",
       "      <td>1.0</td>\n",
       "      <td>1963</td>\n",
       "      <td>4</td>\n",
       "      <td>247</td>\n",
       "      <td>0</td>\n",
       "      <td>1</td>\n",
       "      <td>0.119651</td>\n",
       "      <td>0.219821</td>\n",
       "      <td>8518.375000</td>\n",
       "      <td>8883.937500</td>\n",
       "      <td>9746.250000</td>\n",
       "      <td>10079.687500</td>\n",
       "      <td>15759.750000</td>\n",
       "      <td>14945.312500</td>\n",
       "      <td>12391.437500</td>\n",
       "      <td>14.0</td>\n",
       "      <td>1.521888</td>\n",
       "      <td>5.027799</td>\n",
       "    </tr>\n",
       "  </tbody>\n",
       "</table>\n",
       "<p>100 rows × 25 columns</p>\n",
       "</div>"
      ],
      "text/plain": [
       "         beam_type  sensitivity  pft_class  gedi_year  gedi_month  \\\n",
       "745748           1     0.977603          6       2019           9   \n",
       "468955           1     0.979026          6       2020          12   \n",
       "682281           1     0.975760          6       2019          11   \n",
       "682572           1     0.974126          6       2021           2   \n",
       "682260           1     0.970073          6       2019           9   \n",
       "...            ...          ...        ...        ...         ...   \n",
       "694657           1     0.976011          6       2022          11   \n",
       "1130482          1     0.961186          6       2020           2   \n",
       "349577           1     0.973006          6       2022           9   \n",
       "1063255          1     0.958857          6       2019           8   \n",
       "540564           1     0.968739          6       2022           5   \n",
       "\n",
       "         burn_severity_median  burn_year_median  burn_counts_median  \\\n",
       "745748                    2.0            2018.0                 1.0   \n",
       "468955                    2.0            2014.0                 1.0   \n",
       "682281                    1.0            2016.0                 1.0   \n",
       "682572                    2.0            2016.0                 2.0   \n",
       "682260                    1.5            2016.0                 1.0   \n",
       "...                       ...               ...                 ...   \n",
       "694657                    2.0            2012.0                 2.0   \n",
       "1130482                   2.0            2012.0                 1.0   \n",
       "349577                    3.0            2007.0                 1.0   \n",
       "1063255                   2.5            2016.0                 1.0   \n",
       "540564                    3.5            2008.0                 1.0   \n",
       "\n",
       "         elevation  slope  aspect  soil  land_cover       nbr      ndvi  \\\n",
       "745748        1279      0     308     0           1  0.359526  0.367574   \n",
       "468955        1307      0     180     0           4  0.081663  0.114220   \n",
       "682281        2010      1     180     0           5  0.122590  0.238222   \n",
       "682572        1985      1     281     0           4  0.120682  0.242079   \n",
       "682260        1971      1     230     0           5 -0.027587  0.093304   \n",
       "...            ...    ...     ...   ...         ...       ...       ...   \n",
       "694657        1759      5     168     0           5  0.025347  0.167956   \n",
       "1130482       1689      1     146     0           5  0.023391  0.155587   \n",
       "349577        1982      5     132     5           1  0.152142  0.249024   \n",
       "1063255       2475      7     258     0           5  0.027873  0.142271   \n",
       "540564        1963      4     247     0           1  0.119651  0.219821   \n",
       "\n",
       "               SR_B1        SR_B2         SR_B3         SR_B4         SR_B5  \\\n",
       "745748   8066.066895  8226.500000   9466.200195   9112.400391  19704.900391   \n",
       "468955   8020.250000  8634.000000   9739.625000  10399.500000  13081.500000   \n",
       "682281   7799.571289  8726.181641   9939.181641  10733.000000  17445.818359   \n",
       "682572   8223.266602  8666.599609   9790.200195  10268.666992  16828.267578   \n",
       "682260   8225.066406  8660.099609   9536.700195  10028.099609  12092.000000   \n",
       "...              ...          ...           ...           ...           ...   \n",
       "694657   8620.833008  9044.666992   9984.666992  10146.500000  14242.833008   \n",
       "1130482  8546.142578  8814.857422   9545.000000  10143.571289  13881.571289   \n",
       "349577   8470.922852  8772.615234   9625.615234   9718.000000  16163.000000   \n",
       "1063255  8952.125000  9451.500000  10157.250000  10657.500000  14193.000000   \n",
       "540564   8518.375000  8883.937500   9746.250000  10079.687500  15759.750000   \n",
       "\n",
       "                SR_B6         SR_B7  time_since_burn  pred_std  log_agbd  \n",
       "745748   11207.700195   9283.000000              1.0  1.868484  0.806822  \n",
       "468955   12723.875000  11106.250000              6.0  1.768973  0.021935  \n",
       "682281   17587.636719  13635.545898              3.0  1.761271 -0.030098  \n",
       "682572   15860.599609  13203.933594              5.0  1.749144  1.929288  \n",
       "682260   13749.700195  12778.099609              3.0  1.740282  3.658994  \n",
       "...               ...           ...              ...       ...       ...  \n",
       "694657   14479.333008  13538.666992             10.0  1.525335  0.330472  \n",
       "1130482  15672.428711  13247.000000              8.0  1.525323  2.884527  \n",
       "349577   14606.307617  11894.307617             15.0  1.523747  3.219355  \n",
       "1063255  15596.500000  13423.250000              3.0  1.522736  4.314043  \n",
       "540564   14945.312500  12391.437500             14.0  1.521888  5.027799  \n",
       "\n",
       "[100 rows x 25 columns]"
      ]
     },
     "execution_count": 23,
     "metadata": {},
     "output_type": "execute_result"
    }
   ],
   "source": [
    "preds_analysis.head(100)"
   ]
  },
  {
   "cell_type": "code",
   "execution_count": 24,
   "metadata": {},
   "outputs": [
    {
     "data": {
      "text/html": [
       "<div>\n",
       "<style scoped>\n",
       "    .dataframe tbody tr th:only-of-type {\n",
       "        vertical-align: middle;\n",
       "    }\n",
       "\n",
       "    .dataframe tbody tr th {\n",
       "        vertical-align: top;\n",
       "    }\n",
       "\n",
       "    .dataframe thead th {\n",
       "        text-align: right;\n",
       "    }\n",
       "</style>\n",
       "<table border=\"1\" class=\"dataframe\">\n",
       "  <thead>\n",
       "    <tr style=\"text-align: right;\">\n",
       "      <th></th>\n",
       "      <th>beam_type</th>\n",
       "      <th>sensitivity</th>\n",
       "      <th>pft_class</th>\n",
       "      <th>gedi_year</th>\n",
       "      <th>gedi_month</th>\n",
       "      <th>burn_severity_median</th>\n",
       "      <th>burn_year_median</th>\n",
       "      <th>burn_counts_median</th>\n",
       "      <th>elevation</th>\n",
       "      <th>slope</th>\n",
       "      <th>aspect</th>\n",
       "      <th>soil</th>\n",
       "      <th>land_cover</th>\n",
       "      <th>nbr</th>\n",
       "      <th>ndvi</th>\n",
       "      <th>SR_B1</th>\n",
       "      <th>SR_B2</th>\n",
       "      <th>SR_B3</th>\n",
       "      <th>SR_B4</th>\n",
       "      <th>SR_B5</th>\n",
       "      <th>SR_B6</th>\n",
       "      <th>SR_B7</th>\n",
       "      <th>time_since_burn</th>\n",
       "      <th>pred_std</th>\n",
       "      <th>log_agbd</th>\n",
       "    </tr>\n",
       "  </thead>\n",
       "  <tbody>\n",
       "    <tr>\n",
       "      <th>428058</th>\n",
       "      <td>1</td>\n",
       "      <td>0.961834</td>\n",
       "      <td>1</td>\n",
       "      <td>2021</td>\n",
       "      <td>1</td>\n",
       "      <td>2.0</td>\n",
       "      <td>1998.0</td>\n",
       "      <td>1.0</td>\n",
       "      <td>474</td>\n",
       "      <td>1</td>\n",
       "      <td>156</td>\n",
       "      <td>0</td>\n",
       "      <td>5</td>\n",
       "      <td>-0.014059</td>\n",
       "      <td>0.105530</td>\n",
       "      <td>8786.833008</td>\n",
       "      <td>9289.166992</td>\n",
       "      <td>10312.000000</td>\n",
       "      <td>11257.916992</td>\n",
       "      <td>13914.333008</td>\n",
       "      <td>17129.000000</td>\n",
       "      <td>14311.166992</td>\n",
       "      <td>23.0</td>\n",
       "      <td>0.105336</td>\n",
       "      <td>2.652746</td>\n",
       "    </tr>\n",
       "    <tr>\n",
       "      <th>415991</th>\n",
       "      <td>1</td>\n",
       "      <td>0.964788</td>\n",
       "      <td>1</td>\n",
       "      <td>2019</td>\n",
       "      <td>10</td>\n",
       "      <td>4.0</td>\n",
       "      <td>2014.0</td>\n",
       "      <td>1.0</td>\n",
       "      <td>1391</td>\n",
       "      <td>7</td>\n",
       "      <td>279</td>\n",
       "      <td>5</td>\n",
       "      <td>5</td>\n",
       "      <td>0.026762</td>\n",
       "      <td>0.140057</td>\n",
       "      <td>9651.833008</td>\n",
       "      <td>9541.666992</td>\n",
       "      <td>10514.500000</td>\n",
       "      <td>11568.666992</td>\n",
       "      <td>15337.000000</td>\n",
       "      <td>17451.500000</td>\n",
       "      <td>14537.500000</td>\n",
       "      <td>5.0</td>\n",
       "      <td>0.104770</td>\n",
       "      <td>2.898225</td>\n",
       "    </tr>\n",
       "    <tr>\n",
       "      <th>410760</th>\n",
       "      <td>1</td>\n",
       "      <td>0.957843</td>\n",
       "      <td>1</td>\n",
       "      <td>2020</td>\n",
       "      <td>8</td>\n",
       "      <td>2.0</td>\n",
       "      <td>1987.0</td>\n",
       "      <td>1.0</td>\n",
       "      <td>1119</td>\n",
       "      <td>2</td>\n",
       "      <td>263</td>\n",
       "      <td>0</td>\n",
       "      <td>5</td>\n",
       "      <td>0.063529</td>\n",
       "      <td>0.147054</td>\n",
       "      <td>8636.875000</td>\n",
       "      <td>9002.750000</td>\n",
       "      <td>9875.750000</td>\n",
       "      <td>10429.500000</td>\n",
       "      <td>14025.750000</td>\n",
       "      <td>14191.500000</td>\n",
       "      <td>12350.125000</td>\n",
       "      <td>33.0</td>\n",
       "      <td>0.104297</td>\n",
       "      <td>2.656276</td>\n",
       "    </tr>\n",
       "    <tr>\n",
       "      <th>154564</th>\n",
       "      <td>1</td>\n",
       "      <td>0.950710</td>\n",
       "      <td>1</td>\n",
       "      <td>2021</td>\n",
       "      <td>1</td>\n",
       "      <td>2.0</td>\n",
       "      <td>1999.0</td>\n",
       "      <td>1.0</td>\n",
       "      <td>216</td>\n",
       "      <td>1</td>\n",
       "      <td>180</td>\n",
       "      <td>0</td>\n",
       "      <td>5</td>\n",
       "      <td>-0.017159</td>\n",
       "      <td>0.113630</td>\n",
       "      <td>8816.615234</td>\n",
       "      <td>9329.000000</td>\n",
       "      <td>10397.230469</td>\n",
       "      <td>11060.845703</td>\n",
       "      <td>13896.769531</td>\n",
       "      <td>17353.460938</td>\n",
       "      <td>14382.000000</td>\n",
       "      <td>22.0</td>\n",
       "      <td>0.103981</td>\n",
       "      <td>2.838851</td>\n",
       "    </tr>\n",
       "    <tr>\n",
       "      <th>468300</th>\n",
       "      <td>1</td>\n",
       "      <td>0.956083</td>\n",
       "      <td>1</td>\n",
       "      <td>2019</td>\n",
       "      <td>11</td>\n",
       "      <td>4.0</td>\n",
       "      <td>2014.0</td>\n",
       "      <td>1.0</td>\n",
       "      <td>1315</td>\n",
       "      <td>4</td>\n",
       "      <td>85</td>\n",
       "      <td>0</td>\n",
       "      <td>5</td>\n",
       "      <td>0.008639</td>\n",
       "      <td>0.155670</td>\n",
       "      <td>8990.142578</td>\n",
       "      <td>9210.166992</td>\n",
       "      <td>10059.666992</td>\n",
       "      <td>11081.833008</td>\n",
       "      <td>15168.166992</td>\n",
       "      <td>17630.833984</td>\n",
       "      <td>14908.333008</td>\n",
       "      <td>5.0</td>\n",
       "      <td>0.103964</td>\n",
       "      <td>2.716763</td>\n",
       "    </tr>\n",
       "    <tr>\n",
       "      <th>...</th>\n",
       "      <td>...</td>\n",
       "      <td>...</td>\n",
       "      <td>...</td>\n",
       "      <td>...</td>\n",
       "      <td>...</td>\n",
       "      <td>...</td>\n",
       "      <td>...</td>\n",
       "      <td>...</td>\n",
       "      <td>...</td>\n",
       "      <td>...</td>\n",
       "      <td>...</td>\n",
       "      <td>...</td>\n",
       "      <td>...</td>\n",
       "      <td>...</td>\n",
       "      <td>...</td>\n",
       "      <td>...</td>\n",
       "      <td>...</td>\n",
       "      <td>...</td>\n",
       "      <td>...</td>\n",
       "      <td>...</td>\n",
       "      <td>...</td>\n",
       "      <td>...</td>\n",
       "      <td>...</td>\n",
       "      <td>...</td>\n",
       "      <td>...</td>\n",
       "    </tr>\n",
       "    <tr>\n",
       "      <th>410749</th>\n",
       "      <td>1</td>\n",
       "      <td>0.950047</td>\n",
       "      <td>1</td>\n",
       "      <td>2020</td>\n",
       "      <td>8</td>\n",
       "      <td>2.0</td>\n",
       "      <td>1987.0</td>\n",
       "      <td>1.0</td>\n",
       "      <td>1119</td>\n",
       "      <td>1</td>\n",
       "      <td>345</td>\n",
       "      <td>0</td>\n",
       "      <td>5</td>\n",
       "      <td>0.060650</td>\n",
       "      <td>0.154580</td>\n",
       "      <td>8519.125000</td>\n",
       "      <td>8809.250000</td>\n",
       "      <td>9475.500000</td>\n",
       "      <td>9863.250000</td>\n",
       "      <td>13470.125000</td>\n",
       "      <td>13711.625000</td>\n",
       "      <td>11929.625000</td>\n",
       "      <td>33.0</td>\n",
       "      <td>0.034213</td>\n",
       "      <td>2.665946</td>\n",
       "    </tr>\n",
       "    <tr>\n",
       "      <th>410751</th>\n",
       "      <td>1</td>\n",
       "      <td>0.956122</td>\n",
       "      <td>1</td>\n",
       "      <td>2020</td>\n",
       "      <td>8</td>\n",
       "      <td>2.0</td>\n",
       "      <td>1987.0</td>\n",
       "      <td>1.0</td>\n",
       "      <td>1116</td>\n",
       "      <td>1</td>\n",
       "      <td>332</td>\n",
       "      <td>0</td>\n",
       "      <td>5</td>\n",
       "      <td>0.081188</td>\n",
       "      <td>0.168016</td>\n",
       "      <td>8384.625000</td>\n",
       "      <td>8684.875000</td>\n",
       "      <td>9396.625000</td>\n",
       "      <td>9726.000000</td>\n",
       "      <td>13654.250000</td>\n",
       "      <td>13399.250000</td>\n",
       "      <td>11603.625000</td>\n",
       "      <td>33.0</td>\n",
       "      <td>0.033928</td>\n",
       "      <td>2.716041</td>\n",
       "    </tr>\n",
       "    <tr>\n",
       "      <th>410773</th>\n",
       "      <td>1</td>\n",
       "      <td>0.959798</td>\n",
       "      <td>1</td>\n",
       "      <td>2020</td>\n",
       "      <td>8</td>\n",
       "      <td>2.5</td>\n",
       "      <td>1987.0</td>\n",
       "      <td>1.0</td>\n",
       "      <td>1124</td>\n",
       "      <td>1</td>\n",
       "      <td>345</td>\n",
       "      <td>0</td>\n",
       "      <td>5</td>\n",
       "      <td>0.073094</td>\n",
       "      <td>0.164005</td>\n",
       "      <td>8413.375000</td>\n",
       "      <td>8649.125000</td>\n",
       "      <td>9264.625000</td>\n",
       "      <td>9551.500000</td>\n",
       "      <td>13299.125000</td>\n",
       "      <td>13158.750000</td>\n",
       "      <td>11487.375000</td>\n",
       "      <td>33.0</td>\n",
       "      <td>0.031449</td>\n",
       "      <td>2.753362</td>\n",
       "    </tr>\n",
       "    <tr>\n",
       "      <th>410663</th>\n",
       "      <td>1</td>\n",
       "      <td>0.953273</td>\n",
       "      <td>1</td>\n",
       "      <td>2019</td>\n",
       "      <td>10</td>\n",
       "      <td>2.0</td>\n",
       "      <td>1987.0</td>\n",
       "      <td>1.0</td>\n",
       "      <td>1113</td>\n",
       "      <td>0</td>\n",
       "      <td>232</td>\n",
       "      <td>0</td>\n",
       "      <td>5</td>\n",
       "      <td>0.082739</td>\n",
       "      <td>0.171265</td>\n",
       "      <td>8333.713867</td>\n",
       "      <td>8667.833008</td>\n",
       "      <td>9287.833008</td>\n",
       "      <td>9598.000000</td>\n",
       "      <td>13565.000000</td>\n",
       "      <td>13367.833008</td>\n",
       "      <td>11491.833008</td>\n",
       "      <td>32.0</td>\n",
       "      <td>0.030184</td>\n",
       "      <td>2.689327</td>\n",
       "    </tr>\n",
       "    <tr>\n",
       "      <th>410970</th>\n",
       "      <td>1</td>\n",
       "      <td>0.952595</td>\n",
       "      <td>1</td>\n",
       "      <td>2020</td>\n",
       "      <td>8</td>\n",
       "      <td>2.0</td>\n",
       "      <td>1987.0</td>\n",
       "      <td>1.0</td>\n",
       "      <td>1126</td>\n",
       "      <td>1</td>\n",
       "      <td>296</td>\n",
       "      <td>0</td>\n",
       "      <td>5</td>\n",
       "      <td>0.080059</td>\n",
       "      <td>0.166029</td>\n",
       "      <td>8461.250000</td>\n",
       "      <td>8743.000000</td>\n",
       "      <td>9445.125000</td>\n",
       "      <td>9808.125000</td>\n",
       "      <td>13713.375000</td>\n",
       "      <td>13480.250000</td>\n",
       "      <td>11680.375000</td>\n",
       "      <td>33.0</td>\n",
       "      <td>0.026959</td>\n",
       "      <td>2.662436</td>\n",
       "    </tr>\n",
       "  </tbody>\n",
       "</table>\n",
       "<p>100 rows × 25 columns</p>\n",
       "</div>"
      ],
      "text/plain": [
       "        beam_type  sensitivity  pft_class  gedi_year  gedi_month  \\\n",
       "428058          1     0.961834          1       2021           1   \n",
       "415991          1     0.964788          1       2019          10   \n",
       "410760          1     0.957843          1       2020           8   \n",
       "154564          1     0.950710          1       2021           1   \n",
       "468300          1     0.956083          1       2019          11   \n",
       "...           ...          ...        ...        ...         ...   \n",
       "410749          1     0.950047          1       2020           8   \n",
       "410751          1     0.956122          1       2020           8   \n",
       "410773          1     0.959798          1       2020           8   \n",
       "410663          1     0.953273          1       2019          10   \n",
       "410970          1     0.952595          1       2020           8   \n",
       "\n",
       "        burn_severity_median  burn_year_median  burn_counts_median  elevation  \\\n",
       "428058                   2.0            1998.0                 1.0        474   \n",
       "415991                   4.0            2014.0                 1.0       1391   \n",
       "410760                   2.0            1987.0                 1.0       1119   \n",
       "154564                   2.0            1999.0                 1.0        216   \n",
       "468300                   4.0            2014.0                 1.0       1315   \n",
       "...                      ...               ...                 ...        ...   \n",
       "410749                   2.0            1987.0                 1.0       1119   \n",
       "410751                   2.0            1987.0                 1.0       1116   \n",
       "410773                   2.5            1987.0                 1.0       1124   \n",
       "410663                   2.0            1987.0                 1.0       1113   \n",
       "410970                   2.0            1987.0                 1.0       1126   \n",
       "\n",
       "        slope  aspect  soil  land_cover       nbr      ndvi        SR_B1  \\\n",
       "428058      1     156     0           5 -0.014059  0.105530  8786.833008   \n",
       "415991      7     279     5           5  0.026762  0.140057  9651.833008   \n",
       "410760      2     263     0           5  0.063529  0.147054  8636.875000   \n",
       "154564      1     180     0           5 -0.017159  0.113630  8816.615234   \n",
       "468300      4      85     0           5  0.008639  0.155670  8990.142578   \n",
       "...       ...     ...   ...         ...       ...       ...          ...   \n",
       "410749      1     345     0           5  0.060650  0.154580  8519.125000   \n",
       "410751      1     332     0           5  0.081188  0.168016  8384.625000   \n",
       "410773      1     345     0           5  0.073094  0.164005  8413.375000   \n",
       "410663      0     232     0           5  0.082739  0.171265  8333.713867   \n",
       "410970      1     296     0           5  0.080059  0.166029  8461.250000   \n",
       "\n",
       "              SR_B2         SR_B3         SR_B4         SR_B5         SR_B6  \\\n",
       "428058  9289.166992  10312.000000  11257.916992  13914.333008  17129.000000   \n",
       "415991  9541.666992  10514.500000  11568.666992  15337.000000  17451.500000   \n",
       "410760  9002.750000   9875.750000  10429.500000  14025.750000  14191.500000   \n",
       "154564  9329.000000  10397.230469  11060.845703  13896.769531  17353.460938   \n",
       "468300  9210.166992  10059.666992  11081.833008  15168.166992  17630.833984   \n",
       "...             ...           ...           ...           ...           ...   \n",
       "410749  8809.250000   9475.500000   9863.250000  13470.125000  13711.625000   \n",
       "410751  8684.875000   9396.625000   9726.000000  13654.250000  13399.250000   \n",
       "410773  8649.125000   9264.625000   9551.500000  13299.125000  13158.750000   \n",
       "410663  8667.833008   9287.833008   9598.000000  13565.000000  13367.833008   \n",
       "410970  8743.000000   9445.125000   9808.125000  13713.375000  13480.250000   \n",
       "\n",
       "               SR_B7  time_since_burn  pred_std  log_agbd  \n",
       "428058  14311.166992             23.0  0.105336  2.652746  \n",
       "415991  14537.500000              5.0  0.104770  2.898225  \n",
       "410760  12350.125000             33.0  0.104297  2.656276  \n",
       "154564  14382.000000             22.0  0.103981  2.838851  \n",
       "468300  14908.333008              5.0  0.103964  2.716763  \n",
       "...              ...              ...       ...       ...  \n",
       "410749  11929.625000             33.0  0.034213  2.665946  \n",
       "410751  11603.625000             33.0  0.033928  2.716041  \n",
       "410773  11487.375000             33.0  0.031449  2.753362  \n",
       "410663  11491.833008             32.0  0.030184  2.689327  \n",
       "410970  11680.375000             33.0  0.026959  2.662436  \n",
       "\n",
       "[100 rows x 25 columns]"
      ]
     },
     "execution_count": 24,
     "metadata": {},
     "output_type": "execute_result"
    }
   ],
   "source": [
    "preds_analysis.tail(100)"
   ]
  },
  {
   "cell_type": "code",
   "execution_count": 25,
   "metadata": {},
   "outputs": [],
   "source": [
    "row = preds_analysis.head(100)"
   ]
  },
  {
   "cell_type": "code",
   "execution_count": 26,
   "metadata": {},
   "outputs": [],
   "source": [
    "prediction,bias,contributions = treeinterpreter.predict(m, row.drop(columns=['pred_std', 'log_agbd']).values)"
   ]
  },
  {
   "cell_type": "code",
   "execution_count": 30,
   "metadata": {},
   "outputs": [
    {
     "data": {
      "text/plain": [
       "<module 'matplotlib.pyplot' from '/home/jk871/drought-with-gedi/drought/lib/python3.10/site-packages/matplotlib/pyplot.py'>"
      ]
     },
     "execution_count": 30,
     "metadata": {},
     "output_type": "execute_result"
    },
    {
     "data": {
      "image/png": "[encoded data removed]",
      "text/plain": [
       "<Figure size 432x288 with 1 Axes>"
      ]
     },
     "metadata": {
      "needs_background": "light"
     },
     "output_type": "display_data"
    }
   ],
   "source": [
    "waterfall(valid_xs.columns, contributions[0], threshold=0.08, \n",
    "          rotation_value=45,formatting='{:,.3f}')"
   ]
  },
  {
   "cell_type": "code",
   "execution_count": 32,
   "metadata": {},
   "outputs": [
    {
     "data": {
      "text/plain": [
       "beam_type                   2.000000\n",
       "sensitivity                 0.979113\n",
       "pft_class                   1.000000\n",
       "gedi_year                2019.000000\n",
       "gedi_month                  9.000000\n",
       "burn_severity_median        3.000000\n",
       "burn_year_median         2018.000000\n",
       "burn_counts_median          1.000000\n",
       "elevation                1730.000000\n",
       "slope                      19.000000\n",
       "aspect                    180.000000\n",
       "soil                        5.000000\n",
       "land_cover                  1.000000\n",
       "nbr                         0.310630\n",
       "ndvi                        0.345568\n",
       "SR_B1                    7661.799805\n",
       "SR_B2                    8135.166504\n",
       "SR_B3                    9068.416992\n",
       "SR_B4                    8759.333008\n",
       "SR_B5                   18009.916016\n",
       "SR_B6                   11733.416992\n",
       "SR_B7                    9472.916992\n",
       "time_since_burn             1.000000\n",
       "Name: 1718, dtype: float32"
      ]
     },
     "execution_count": 32,
     "metadata": {},
     "output_type": "execute_result"
    }
   ],
   "source": [
    "valid_xs.iloc[0]"
   ]
  },
  {
   "cell_type": "code",
   "execution_count": 33,
   "metadata": {},
   "outputs": [
    {
     "data": {
      "text/plain": [
       "(Index(['beam_type', 'sensitivity', 'pft_class', 'gedi_year', 'gedi_month',\n",
       "        'burn_severity_median', 'burn_year_median', 'burn_counts_median',\n",
       "        'elevation', 'slope', 'aspect', 'soil', 'land_cover', 'nbr', 'ndvi',\n",
       "        'SR_B1', 'SR_B2', 'SR_B3', 'SR_B4', 'SR_B5', 'SR_B6', 'SR_B7',\n",
       "        'time_since_burn'],\n",
       "       dtype='object'),\n",
       " array([-0.00340452,  0.04344435, -0.77379298,  0.03799368,  0.00955391,  0.33364627, -0.03596794,  0.0031045 , -0.07617736, -0.48097621, -0.12547435,  0.05894493,  0.32250505, -0.20078507,\n",
       "        -0.03782286,  0.27045305,  0.12744223,  0.0085133 ,  0.31387944, -0.69037607,  0.2679148 ,  0.4119011 , -0.01872413]))"
      ]
     },
     "execution_count": 33,
     "metadata": {},
     "output_type": "execute_result"
    }
   ],
   "source": [
    "valid_xs.columns, contributions[0]"
   ]
  },
  {
   "cell_type": "code",
   "execution_count": 45,
   "metadata": {},
   "outputs": [
    {
     "data": {
      "image/png": "[encoded data removed]",
      "text/plain": [
       "<Figure size 864x288 with 4 Axes>"
      ]
     },
     "metadata": {
      "needs_background": "light"
     },
     "output_type": "display_data"
    }
   ],
   "source": [
    "from sklearn.inspection import PartialDependenceDisplay\n",
    "\n",
    "fig,ax = plt.subplots(figsize=(12, 4))\n",
    "tree_disp = PartialDependenceDisplay.from_estimator(m, valid_xs, ['pft_class','slope', 'land_cover'], ax=ax)\n",
    "#plot_partial_dependence(m, valid_xs_final, ['pft_class','slope'],\n",
    "#                        grid_resolution=20, ax=ax)"
   ]
  },
  {
   "cell_type": "code",
   "execution_count": 34,
   "metadata": {},
   "outputs": [],
   "source": [
    "fi = rf_feat_importance(m, xs)"
   ]
  },
  {
   "cell_type": "code",
   "execution_count": 35,
   "metadata": {},
   "outputs": [
    {
     "data": {
      "text/plain": [
       "<AxesSubplot: ylabel='cols'>"
      ]
     },
     "execution_count": 35,
     "metadata": {},
     "output_type": "execute_result"
    },
    {
     "data": {
      "image/png": "[encoded data removed]",
      "text/plain": [
       "<Figure size 864x504 with 1 Axes>"
      ]
     },
     "metadata": {
      "needs_background": "light"
     },
     "output_type": "display_data"
    }
   ],
   "source": [
    "plot_fi(fi[:30])"
   ]
  },
  {
   "cell_type": "code",
   "execution_count": null,
   "metadata": {},
   "outputs": [],
   "source": []
  },
  {
   "cell_type": "markdown",
   "metadata": {},
   "source": [
    "### Part 2 - Analysis 5.30.2\n",
    "\n",
    "Filter for trees only - according to pft_class. Also, only full beam."
   ]
  },
  {
   "cell_type": "code",
   "execution_count": 66,
   "metadata": {},
   "outputs": [],
   "source": [
    "gedi_data_train= gedi_train_burned[(gedi_train_burned.pft_class == 1) & (gedi_train_burned.beam_type == \"full\")]\n",
    "gedi_data_valid= gedi_valid_burned[(gedi_valid_burned.pft_class == 1) & (gedi_valid_burned.beam_type == \"full\")]"
   ]
  },
  {
   "cell_type": "code",
   "execution_count": 67,
   "metadata": {},
   "outputs": [
    {
     "name": "stdout",
     "output_type": "stream",
     "text": [
      "2023-05-30 12:50:36,551 DEBUG: Number of shots that happened after fires:                    265364 [in filter_shots_for_regrowth_analysis at /home/jk871/fire-regen/src/data/gedi_pipeline.py:77]\n",
      "2023-05-30 12:50:36,691 DEBUG: Number of shots that burned exactly once:                    236236 [in filter_shots_for_regrowth_analysis at /home/jk871/fire-regen/src/data/gedi_pipeline.py:82]\n",
      "2023-05-30 12:50:36,827 DEBUG: Number of shots that burned in 2-4 categories:                    194757 [in filter_shots_for_regrowth_analysis at /home/jk871/fire-regen/src/data/gedi_pipeline.py:87]\n",
      "2023-05-30 12:50:36,877 DEBUG: Number of GEDI shots that have a perfect match with burn                    raster (all 2x2 pixels have the same severity):                    128702 [in filter_shots_for_regrowth_analysis at /home/jk871/fire-regen/src/data/gedi_pipeline.py:91]\n",
      "2023-05-30 12:50:36,924 DEBUG: Number of shots that happened after fires:                    49850 [in filter_shots_for_regrowth_analysis at /home/jk871/fire-regen/src/data/gedi_pipeline.py:77]\n",
      "2023-05-30 12:50:36,947 DEBUG: Number of shots that burned exactly once:                    45920 [in filter_shots_for_regrowth_analysis at /home/jk871/fire-regen/src/data/gedi_pipeline.py:82]\n",
      "2023-05-30 12:50:36,972 DEBUG: Number of shots that burned in 2-4 categories:                    38191 [in filter_shots_for_regrowth_analysis at /home/jk871/fire-regen/src/data/gedi_pipeline.py:87]\n",
      "2023-05-30 12:50:36,994 DEBUG: Number of GEDI shots that have a perfect match with burn                    raster (all 2x2 pixels have the same severity):                    25843 [in filter_shots_for_regrowth_analysis at /home/jk871/fire-regen/src/data/gedi_pipeline.py:91]\n"
     ]
    },
    {
     "data": {
      "text/plain": [
       "(128702, 25843)"
      ]
     },
     "execution_count": 67,
     "metadata": {},
     "output_type": "execute_result"
    }
   ],
   "source": [
    "# Look at those that only burned once\n",
    "gedi_data_train= gedi_pipeline.filter_shots_for_regrowth_analysis(gedi_data_train)\n",
    "gedi_data_valid= gedi_pipeline.filter_shots_for_regrowth_analysis(gedi_data_valid)\n",
    "gedi_data_train.shape[0], gedi_data_valid.shape[0]"
   ]
  },
  {
   "cell_type": "code",
   "execution_count": 65,
   "metadata": {},
   "outputs": [],
   "source": [
    "columns_to_keep = ['agbd', 'gedi_year', 'gedi_month', 'burn_severity_median',\n",
    "'elevation', 'slope', 'aspect', 'soil', 'land_cover', 'nbr', 'ndvi',\n",
    "'SR_B1', 'SR_B2', 'SR_B3', 'SR_B4', 'SR_B5', 'SR_B6', 'SR_B7', 'time_since_burn']"
   ]
  },
  {
   "cell_type": "code",
   "execution_count": 68,
   "metadata": {},
   "outputs": [],
   "source": [
    "gedi_data_train= gedi_data_train[columns_to_keep]\n",
    "gedi_data_valid= gedi_data_valid[columns_to_keep]"
   ]
  },
  {
   "cell_type": "code",
   "execution_count": 69,
   "metadata": {},
   "outputs": [],
   "source": [
    "dep_var = 'agbd'\n",
    "# Remove any rows where agbd == 0\n",
    "gedi_data_train = gedi_data_train[gedi_data_train.agbd != 0]\n",
    "gedi_data_valid= gedi_data_valid[gedi_data_valid.agbd != 0]"
   ]
  },
  {
   "cell_type": "code",
   "execution_count": 70,
   "metadata": {},
   "outputs": [],
   "source": [
    "# Train on log.\n",
    "gedi_data_train[dep_var] = np.log(gedi_data_train[dep_var])\n",
    "gedi_data_valid[dep_var] = np.log(gedi_data_valid[dep_var])"
   ]
  },
  {
   "cell_type": "code",
   "execution_count": 71,
   "metadata": {},
   "outputs": [],
   "source": [
    "procs = [Categorify, FillMissing]\n",
    "cont, cat = cont_cat_split(gedi_data_train, 1, dep_var=dep_var)\n",
    "train_data = TabularPandas(gedi_data_train, procs, cat, cont, y_names=dep_var)\n",
    "valid_data = TabularPandas(gedi_data_valid, procs, cat, cont, y_names=dep_var)"
   ]
  },
  {
   "cell_type": "code",
   "execution_count": 72,
   "metadata": {},
   "outputs": [],
   "source": [
    "save_pickle(f\"/maps/fire-regen/data/rf/train_5.30.2.pkl\", train_data)\n",
    "save_pickle(f\"/maps/fire-regen/data/rf/valid_5.30.2.pkl\", valid_data)"
   ]
  },
  {
   "cell_type": "code",
   "execution_count": 73,
   "metadata": {},
   "outputs": [],
   "source": [
    "xs, y = train_data.train.xs, train_data.train.y\n",
    "valid_xs, valid_y = valid_data.train.xs, valid_data.train.y"
   ]
  },
  {
   "cell_type": "code",
   "execution_count": 74,
   "metadata": {},
   "outputs": [],
   "source": [
    "# TODO: use OOB predictor\n",
    "m = rf(xs, y, max_samples=100000)"
   ]
  },
  {
   "cell_type": "code",
   "execution_count": 75,
   "metadata": {},
   "outputs": [
    {
     "data": {
      "text/plain": [
       "(0.436773, 0.636015)"
      ]
     },
     "execution_count": 75,
     "metadata": {},
     "output_type": "execute_result"
    }
   ],
   "source": [
    "m_rmse(m, xs, y), m_rmse(m, valid_xs, valid_y)"
   ]
  },
  {
   "cell_type": "code",
   "execution_count": 76,
   "metadata": {},
   "outputs": [],
   "source": [
    "fi = rf_feat_importance(m, xs)"
   ]
  },
  {
   "cell_type": "code",
   "execution_count": 77,
   "metadata": {},
   "outputs": [
    {
     "data": {
      "text/plain": [
       "<AxesSubplot: ylabel='cols'>"
      ]
     },
     "execution_count": 77,
     "metadata": {},
     "output_type": "execute_result"
    },
    {
     "data": {
      "image/png": "[encoded data removed]",
      "text/plain": [
       "<Figure size 864x504 with 1 Axes>"
      ]
     },
     "metadata": {
      "needs_background": "light"
     },
     "output_type": "display_data"
    }
   ],
   "source": [
    "plot_fi(fi[:30])"
   ]
  },
  {
   "cell_type": "code",
   "execution_count": 85,
   "metadata": {},
   "outputs": [
    {
     "data": {
      "image/png": "[encoded data removed]",
      "text/plain": [
       "<Figure size 864x288 with 4 Axes>"
      ]
     },
     "metadata": {
      "needs_background": "light"
     },
     "output_type": "display_data"
    }
   ],
   "source": [
    "from sklearn.inspection import PartialDependenceDisplay\n",
    "\n",
    "fig,ax = plt.subplots(figsize=(12, 4))\n",
    "tree_disp = PartialDependenceDisplay.from_estimator(m, valid_xs, ['slope', 'time_since_burn', 'elevation'], ax=ax)\n",
    "#plot_partial_dependence(m, valid_xs_final, ['pft_class','slope'],\n",
    "#                        grid_resolution=20, ax=ax)"
   ]
  },
  {
   "cell_type": "markdown",
   "metadata": {},
   "source": [
    "### Part 3 - 5.30.3 - Predicting rel agbd, rather than raw"
   ]
  },
  {
   "cell_type": "markdown",
   "metadata": {},
   "source": [
    "But first, I have to calculate rel-agbd for the new data. Gah!"
   ]
  },
  {
   "cell_type": "code",
   "execution_count": 94,
   "metadata": {},
   "outputs": [
    {
     "name": "stdout",
     "output_type": "stream",
     "text": [
      "2023-05-30 13:58:06,421 DEBUG: Logger /home/jk871/fire-regen/src/data/gedi_pipeline.py already set up. [in get_logger at /home/jk871/fire-regen/src/utils/logging_util.py:51]\n"
     ]
    }
   ],
   "source": [
    "import importlib\n",
    "importlib.reload(gedi_pipeline)\n",
    "from src.data import k_nn"
   ]
  },
  {
   "cell_type": "code",
   "execution_count": 86,
   "metadata": {},
   "outputs": [
    {
     "name": "stdout",
     "output_type": "stream",
     "text": [
      "Load training GEDI shots\n",
      "Load validation GEDI shots\n",
      "Load test GEDI shots\n"
     ]
    }
   ],
   "source": [
    "# Load datasets\n",
    "print('Load training GEDI shots')\n",
    "gedi_train = pd.read_csv(f\"/maps/fire-regen/data/rf/gedi_train.csv\", index_col=0)\n",
    "\n",
    "print('Load validation GEDI shots')\n",
    "gedi_valid = pd.read_csv(f\"/maps/fire-regen/data/rf/gedi_validation.csv\", index_col=0)\n",
    "\n",
    "print('Load test GEDI shots')\n",
    "gedi_test = pd.read_csv(f\"/maps/fire-regen/data/rf/gedi_test.csv\", index_col=0)\n",
    "\n",
    "# We're actually going to combine all three here in order to properly calculate knn, then we'll put them back together."
   ]
  },
  {
   "cell_type": "code",
   "execution_count": 87,
   "metadata": {},
   "outputs": [],
   "source": [
    "gedi = pd.concat([gedi_train, gedi_valid, gedi_test])"
   ]
  },
  {
   "cell_type": "code",
   "execution_count": 92,
   "metadata": {},
   "outputs": [
    {
     "name": "stdout",
     "output_type": "stream",
     "text": [
      "2023-05-30 13:56:47,673 DEBUG: Total number of GEDI shots available for the region:         8918782 [in process_gedi_df_for_regrowth_analysis at /home/jk871/fire-regen/src/data/gedi_pipeline.py:144]\n",
      "2023-05-30 13:56:53,397 DEBUG: Excluded shots on the burn boundaries, shots remaining:         8918782 [in filter_shots at /home/jk871/fire-regen/src/data/gedi_pipeline.py:56]\n",
      "2023-05-30 13:56:53,707 DEBUG: Number of GEDI shots that burned at least once:                  1045416 [in filter_shots at /home/jk871/fire-regen/src/data/gedi_pipeline.py:61]\n",
      "2023-05-30 13:56:55,978 DEBUG: Number of GEDI shots that never burned since 1984:         7852535 [in filter_shots at /home/jk871/fire-regen/src/data/gedi_pipeline.py:67]\n",
      "2023-05-30 13:56:56,945 DEBUG: Number of shots that happened after fires:                    1045416 [in filter_shots_for_regrowth_analysis at /home/jk871/fire-regen/src/data/gedi_pipeline.py:84]\n",
      "2023-05-30 13:56:57,249 DEBUG: Number of shots that burned exactly once:                    910024 [in filter_shots_for_regrowth_analysis at /home/jk871/fire-regen/src/data/gedi_pipeline.py:89]\n",
      "2023-05-30 13:56:57,634 DEBUG: Number of shots that burned in 2-4 categories:                    767424 [in filter_shots_for_regrowth_analysis at /home/jk871/fire-regen/src/data/gedi_pipeline.py:94]\n",
      "2023-05-30 13:56:57,812 DEBUG: Number of GEDI shots that have a perfect match with burn                    raster (all 2x2 pixels have the same severity):                    543752 [in filter_shots_for_regrowth_analysis at /home/jk871/fire-regen/src/data/gedi_pipeline.py:98]\n"
     ]
    }
   ],
   "source": [
    "gedi_burned, gedi_unburned = gedi_pipeline.process_gedi_df_for_regrowth_analysis(gedi, trees=False)"
   ]
  },
  {
   "cell_type": "code",
   "execution_count": 93,
   "metadata": {},
   "outputs": [],
   "source": [
    "gedi_burned_trees = gedi_burned[gedi_burned.land_cover==1]\n",
    "gedi_unburned_trees = gedi_unburned[gedi_unburned.land_cover==1]"
   ]
  },
  {
   "cell_type": "code",
   "execution_count": 95,
   "metadata": {},
   "outputs": [],
   "source": [
    "nn_indeces, nn_distances, nn_avg_agbd = k_nn.nearest_neighbors(gedi_burned_trees, gedi_unburned_trees, 'agbd', 200)"
   ]
  },
  {
   "cell_type": "code",
   "execution_count": 96,
   "metadata": {},
   "outputs": [],
   "source": [
    "gedi_burned_trees['rel_agbd'] = gedi_burned_trees.agbd / nn_avg_agbd\n",
    "gedi_burned_trees['nn_avg_agbd'] = nn_avg_agbd\n",
    "gedi_burned_trees['nn_index'] = range(0, nn_distances.shape[0])"
   ]
  },
  {
   "cell_type": "code",
   "execution_count": 165,
   "metadata": {},
   "outputs": [],
   "source": [
    "gedi_data_train= gedi_burned_trees[(gedi_burned_trees.pft_class == 1) & (gedi_burned_trees.beam_type == \"full\")]"
   ]
  },
  {
   "cell_type": "code",
   "execution_count": 166,
   "metadata": {},
   "outputs": [],
   "source": [
    "gedi_data_train = gedi_data_train[(gedi_data_train.gedi_month >4) & (gedi_data_train.gedi_month<11)]"
   ]
  },
  {
   "cell_type": "code",
   "execution_count": 139,
   "metadata": {},
   "outputs": [
    {
     "data": {
      "text/plain": [
       "66692"
      ]
     },
     "execution_count": 139,
     "metadata": {},
     "output_type": "execute_result"
    }
   ],
   "source": [
    "gedi_data_train.shape[0]"
   ]
  },
  {
   "cell_type": "code",
   "execution_count": 167,
   "metadata": {},
   "outputs": [],
   "source": [
    "gedi_data_train = gedi_data_train[gedi_data_train.burn_severity_median == 4]"
   ]
  },
  {
   "cell_type": "code",
   "execution_count": 168,
   "metadata": {},
   "outputs": [],
   "source": [
    "columns_to_keep = ['rel_agbd', 'gedi_year', 'gedi_month',\n",
    "'elevation', 'slope', 'aspect', 'soil', 'land_cover', 'nbr', 'ndvi',\n",
    "'SR_B1', 'SR_B2', 'SR_B3', 'SR_B4', 'SR_B5', 'SR_B6', 'SR_B7', 'time_since_burn']"
   ]
  },
  {
   "cell_type": "code",
   "execution_count": 169,
   "metadata": {},
   "outputs": [],
   "source": [
    "gedi_data_train= gedi_data_train[columns_to_keep]"
   ]
  },
  {
   "cell_type": "code",
   "execution_count": 170,
   "metadata": {},
   "outputs": [],
   "source": [
    "dep_var = 'rel_agbd'\n",
    "# Remove any rows where agbd == 0\n",
    "#gedi_data_train = gedi_data_train[gedi_data_train.rel_agbd != 0]"
   ]
  },
  {
   "cell_type": "code",
   "execution_count": 171,
   "metadata": {},
   "outputs": [],
   "source": [
    "gedi_data_train[dep_var] = np.log(gedi_data_train[dep_var])"
   ]
  },
  {
   "cell_type": "code",
   "execution_count": 172,
   "metadata": {},
   "outputs": [],
   "source": [
    "procs = [Categorify, FillMissing]\n",
    "cont, cat = cont_cat_split(gedi_data_train, 1, dep_var=dep_var)\n",
    "train_data = TabularPandas(gedi_data_train, procs, cat, cont, y_names=dep_var)"
   ]
  },
  {
   "cell_type": "code",
   "execution_count": 173,
   "metadata": {},
   "outputs": [],
   "source": [
    "xs, y = train_data.train.xs, train_data.train.y"
   ]
  },
  {
   "cell_type": "code",
   "execution_count": 174,
   "metadata": {},
   "outputs": [],
   "source": [
    "m = rf(xs, y, max_samples=6000)"
   ]
  },
  {
   "cell_type": "code",
   "execution_count": 175,
   "metadata": {},
   "outputs": [
    {
     "data": {
      "text/plain": [
       "0.543208"
      ]
     },
     "execution_count": 175,
     "metadata": {},
     "output_type": "execute_result"
    }
   ],
   "source": [
    "m_rmse(m, xs, y)"
   ]
  },
  {
   "cell_type": "code",
   "execution_count": 176,
   "metadata": {},
   "outputs": [],
   "source": [
    "fi = rf_feat_importance(m, xs)"
   ]
  },
  {
   "cell_type": "code",
   "execution_count": 177,
   "metadata": {},
   "outputs": [
    {
     "data": {
      "text/plain": [
       "<AxesSubplot: ylabel='cols'>"
      ]
     },
     "execution_count": 177,
     "metadata": {},
     "output_type": "execute_result"
    },
    {
     "data": {
      "image/png": "[encoded data removed]",
      "text/plain": [
       "<Figure size 864x504 with 1 Axes>"
      ]
     },
     "metadata": {
      "needs_background": "light"
     },
     "output_type": "display_data"
    }
   ],
   "source": [
    "plot_fi(fi[:30])"
   ]
  },
  {
   "cell_type": "code",
   "execution_count": 178,
   "metadata": {},
   "outputs": [
    {
     "data": {
      "image/png": "[encoded data removed]",
      "text/plain": [
       "<Figure size 864x288 with 4 Axes>"
      ]
     },
     "metadata": {
      "needs_background": "light"
     },
     "output_type": "display_data"
    }
   ],
   "source": [
    "from sklearn.inspection import PartialDependenceDisplay\n",
    "\n",
    "fig,ax = plt.subplots(figsize=(12, 4))\n",
    "tree_disp = PartialDependenceDisplay.from_estimator(m, xs, ['slope', 'time_since_burn', 'elevation'], ax=ax)\n",
    "#plot_partial_dependence(m, valid_xs_final, ['pft_class','slope'],\n",
    "#                        grid_resolution=20, ax=ax)"
   ]
  },
  {
   "cell_type": "code",
   "execution_count": 181,
   "metadata": {},
   "outputs": [
    {
     "data": {
      "text/plain": [
       "0.3032653298563167"
      ]
     },
     "execution_count": 181,
     "metadata": {},
     "output_type": "execute_result"
    }
   ],
   "source": [
    "np.exp(np.log(0.5) - 0.5)"
   ]
  },
  {
   "cell_type": "code",
   "execution_count": null,
   "metadata": {},
   "outputs": [],
   "source": []
  }
 ],
 "metadata": {
  "kernelspec": {
   "display_name": "Python 3.10.6 64-bit",
   "language": "python",
   "name": "python3"
  },
  "language_info": {
   "codemirror_mode": {
    "name": "ipython",
    "version": 3
   },
   "file_extension": ".py",
   "mimetype": "text/x-python",
   "name": "python",
   "nbconvert_exporter": "python",
   "pygments_lexer": "ipython3",
   "version": "3.10.12"
  },
  "orig_nbformat": 4,
  "vscode": {
   "interpreter": {
    "hash": "31f2aee4e71d21fbe5cf8b01ff0e069b9275f58929596ceb00d14d90e3e16cd6"
   }
  }
 },
 "nbformat": 4,
 "nbformat_minor": 2
}
