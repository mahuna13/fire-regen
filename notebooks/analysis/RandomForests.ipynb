{
 "cells": [
  {
   "cell_type": "code",
   "execution_count": 1,
   "metadata": {},
   "outputs": [
    {
     "name": "stdout",
     "output_type": "stream",
     "text": [
      "2023-05-24 19:22:28,944 DEBUG: Logger /home/jk871/fire-regen/src/data/gedi_pipeline.py already set up. [in get_logger at /home/jk871/fire-regen/src/utils/logging_util.py:51]\n"
     ]
    },
    {
     "data": {
      "text/plain": [
       "<module 'src.data.k_nn' from '/home/jk871/fire-regen/src/data/k_nn.py'>"
      ]
     },
     "execution_count": 1,
     "metadata": {},
     "output_type": "execute_result"
    }
   ],
   "source": [
    "import geopandas as gpd\n",
    "import pandas as pd\n",
    "import ee\n",
    "import numpy as np\n",
    "from scipy.stats import linregress, gaussian_kde\n",
    "from src.data import mtbs\n",
    "from src.data import raster\n",
    "from src.data import pd_utils\n",
    "from src.data import gedi_pipeline\n",
    "from src.visualization.dists import plot_pdf\n",
    "from src.visualization.gedi_viz import geo_plot\n",
    "import rasterio as rio\n",
    "import matplotlib.pyplot as plt\n",
    "from shapely.geometry import Point\n",
    "from rasterio.plot import show\n",
    "pd.options.mode.chained_assignment = None  # default='warn'\n",
    "import seaborn as sns\n",
    "from src.data import k_nn\n",
    "\n",
    "sns.set_theme()\n",
    "\n",
    "import importlib\n",
    "importlib.reload(raster)\n",
    "importlib.reload(gedi_pipeline)\n",
    "importlib.reload(k_nn)"
   ]
  },
  {
   "cell_type": "code",
   "execution_count": 2,
   "metadata": {},
   "outputs": [
    {
     "name": "stdout",
     "output_type": "stream",
     "text": [
      "2023-05-24 19:23:27,353 DEBUG: Total number of GEDI shots available for the region:         9884257 [in process_gedi_shots_for_regrowth_analysis at /home/jk871/fire-regen/src/data/gedi_pipeline.py:101]\n",
      "2023-05-24 19:23:58,076 DEBUG: Excluded shots on the burn boundaries, shots remaining:         9446235 [in filter_shots at /home/jk871/fire-regen/src/data/gedi_pipeline.py:36]\n",
      "2023-05-24 19:23:58,388 DEBUG: Number of GEDI shots that burned at least once:                  1440937 [in filter_shots at /home/jk871/fire-regen/src/data/gedi_pipeline.py:41]\n",
      "2023-05-24 19:23:59,682 DEBUG: Number of GEDI shots that never burned since 1984:         7852535 [in filter_shots at /home/jk871/fire-regen/src/data/gedi_pipeline.py:47]\n",
      "2023-05-24 19:24:00,100 DEBUG: Number of shots that happened after fires:                    1248004 [in filter_shots_for_regrowth_analysis at /home/jk871/fire-regen/src/data/gedi_pipeline.py:64]\n",
      "2023-05-24 19:24:00,307 DEBUG: Number of shots that burned exactly once:                    1085566 [in filter_shots_for_regrowth_analysis at /home/jk871/fire-regen/src/data/gedi_pipeline.py:69]\n",
      "2023-05-24 19:24:00,585 DEBUG: Number of shots that burned in 2-4 categories:                    917889 [in filter_shots_for_regrowth_analysis at /home/jk871/fire-regen/src/data/gedi_pipeline.py:74]\n",
      "2023-05-24 19:24:00,712 DEBUG: Number of GEDI shots that have a perfect match with burn                    raster (all 2x2 pixels have the same severity):                    651178 [in filter_shots_for_regrowth_analysis at /home/jk871/fire-regen/src/data/gedi_pipeline.py:78]\n"
     ]
    }
   ],
   "source": [
    "gedi_burned_trees, gedi_unburned_trees = gedi_pipeline.process_gedi_shots_for_regrowth_analysis('/maps/fire-regen/data/sierras_matched_lc_all_2x2.csv', True)"
   ]
  },
  {
   "cell_type": "code",
   "execution_count": 4,
   "metadata": {},
   "outputs": [],
   "source": [
    "df = pd.concat([gedi_burned_trees, gedi_unburned_trees])"
   ]
  },
  {
   "cell_type": "code",
   "execution_count": 56,
   "metadata": {},
   "outputs": [],
   "source": [
    "df = gedi_burned_trees"
   ]
  },
  {
   "cell_type": "code",
   "execution_count": 5,
   "metadata": {},
   "outputs": [
    {
     "data": {
      "text/plain": [
       "Index(['shot_number', 'absolute_time', 'lon_lowestmode', 'lat_lowestmode',\n",
       "       'agbd', 'agbd_pi_lower', 'agbd_pi_upper', 'agbd_se', 'l2_quality_flag',\n",
       "       'l4_quality_flag', 'degrade_flag', 'beam_type', 'sensitivity',\n",
       "       'pft_class', 'geometry', 'burn_severity_3x3', 'burn_severity_mean',\n",
       "       'burn_severity_std', 'burn_severity_median', 'burn_year_3x3',\n",
       "       'burn_year_mean', 'burn_year_std', 'burn_year_median',\n",
       "       'burn_counts_3x3', 'burn_counts_mean', 'burn_counts_std',\n",
       "       'burn_counts_median', 'land_cover_2x2', 'land_cover_mean',\n",
       "       'land_cover_std', 'land_cover_median', 'gedi_year', 'gedi_month',\n",
       "       'time_since_burn', 'time_since_burn_cat'],\n",
       "      dtype='object')"
      ]
     },
     "execution_count": 5,
     "metadata": {},
     "output_type": "execute_result"
    }
   ],
   "source": [
    "df.columns"
   ]
  },
  {
   "cell_type": "code",
   "execution_count": 9,
   "metadata": {},
   "outputs": [],
   "source": [
    "#cats=[\"Sex\",\"Embarked\"]\n",
    "conts=['agbd', 'time_since_burn', 'lon_lowestmode', 'lat_lowestmode', 'gedi_year']\n",
    "dep=\"burn_severity_mean\""
   ]
  },
  {
   "cell_type": "code",
   "execution_count": 8,
   "metadata": {},
   "outputs": [
    {
     "data": {
      "image/png": "[encoded data removed]",
      "text/plain": [
       "<Figure size 792x360 with 2 Axes>"
      ]
     },
     "metadata": {
      "needs_background": "light"
     },
     "output_type": "display_data"
    }
   ],
   "source": [
    "fig,axs = plt.subplots(1,2, figsize=(11,5))\n",
    "sns.barplot(data=df, y=dep, x=\"burn_year_mean\", ax=axs[0]).set(title=\"Survival rate\")\n",
    "sns.countplot(data=df, x=\"burn_year_mean\", ax=axs[1]).set(title=\"Histogram\");"
   ]
  },
  {
   "cell_type": "code",
   "execution_count": 57,
   "metadata": {},
   "outputs": [],
   "source": [
    "from numpy import random\n",
    "from sklearn.model_selection import train_test_split\n",
    "\n",
    "random.seed(42)\n",
    "trn_df,val_df = train_test_split(df, test_size=0.25)"
   ]
  },
  {
   "cell_type": "code",
   "execution_count": 58,
   "metadata": {},
   "outputs": [],
   "source": [
    "def xs_y(df):\n",
    "    xs = df[conts].copy()\n",
    "    return xs,df[dep] if dep in df else None\n",
    "\n",
    "trn_xs,trn_y = xs_y(trn_df)\n",
    "val_xs,val_y = xs_y(val_df)"
   ]
  },
  {
   "cell_type": "code",
   "execution_count": 59,
   "metadata": {},
   "outputs": [],
   "source": [
    "preds = val_xs.time_since_burn>-1"
   ]
  },
  {
   "cell_type": "code",
   "execution_count": 60,
   "metadata": {},
   "outputs": [
    {
     "data": {
      "text/plain": [
       "1.948634131368938"
      ]
     },
     "execution_count": 60,
     "metadata": {},
     "output_type": "execute_result"
    }
   ],
   "source": [
    "from sklearn.metrics import mean_absolute_error\n",
    "mean_absolute_error(val_y, preds)"
   ]
  },
  {
   "cell_type": "code",
   "execution_count": 61,
   "metadata": {},
   "outputs": [
    {
     "data": {
      "text/plain": [
       "(0.0, 700.0)"
      ]
     },
     "execution_count": 61,
     "metadata": {},
     "output_type": "execute_result"
    },
    {
     "data": {
      "image/png": "[encoded data removed]",
      "text/plain": [
       "<Figure size 1584x720 with 2 Axes>"
      ]
     },
     "metadata": {
      "needs_background": "light"
     },
     "output_type": "display_data"
    }
   ],
   "source": [
    "df_fare = trn_df[trn_df.agbd>0]\n",
    "fig,axs = plt.subplots(1,2, figsize=(22,10))\n",
    "sns.boxenplot(data=df_fare, x=dep, y=\"agbd\", ax=axs[0])\n",
    "sns.kdeplot(data=df_fare, x=\"agbd\", ax=axs[1])\n",
    "axs[0].set_ylim((0, 700))"
   ]
  },
  {
   "cell_type": "code",
   "execution_count": 62,
   "metadata": {},
   "outputs": [],
   "source": [
    "def _side_score(side, y):\n",
    "    tot = side.sum()\n",
    "    if tot<=1: return 0\n",
    "    return y[side].std()*tot"
   ]
  },
  {
   "cell_type": "code",
   "execution_count": 63,
   "metadata": {},
   "outputs": [],
   "source": [
    "    \n",
    "def score(col, y, split):\n",
    "    lhs = col<=split\n",
    "    return (_side_score(lhs,y) + _side_score(~lhs,y))/len(y)"
   ]
  },
  {
   "cell_type": "code",
   "execution_count": 64,
   "metadata": {},
   "outputs": [
    {
     "data": {
      "text/plain": [
       "0.8822052205781528"
      ]
     },
     "execution_count": 64,
     "metadata": {},
     "output_type": "execute_result"
    }
   ],
   "source": [
    "score(trn_xs[\"time_since_burn\"], trn_y, -1)"
   ]
  },
  {
   "cell_type": "code",
   "execution_count": 65,
   "metadata": {},
   "outputs": [
    {
     "data": {
      "text/plain": [
       "0.8156651925242911"
      ]
     },
     "execution_count": 65,
     "metadata": {},
     "output_type": "execute_result"
    }
   ],
   "source": [
    "score(trn_xs[\"agbd\"], trn_y, 150)"
   ]
  },
  {
   "cell_type": "code",
   "execution_count": 66,
   "metadata": {},
   "outputs": [
    {
     "data": {
      "text/plain": [
       "-120.49387599102938"
      ]
     },
     "execution_count": 66,
     "metadata": {},
     "output_type": "execute_result"
    }
   ],
   "source": [
    "trn_xs.lon_lowestmode.mean()"
   ]
  },
  {
   "cell_type": "code",
   "execution_count": 68,
   "metadata": {},
   "outputs": [
    {
     "data": {
      "application/vnd.jupyter.widget-view+json": {
       "model_id": "a55104d93c4d43a491e1d7a47e5b7ab2",
       "version_major": 2,
       "version_minor": 0
      },
      "text/plain": [
       "interactive(children=(Dropdown(description='nm', options=('agbd', 'time_since_burn', 'lon_lowestmode', 'lat_lo…"
      ]
     },
     "metadata": {},
     "output_type": "display_data"
    },
    {
     "data": {
      "text/plain": [
       "<function __main__.iscore(nm, split)>"
      ]
     },
     "execution_count": 68,
     "metadata": {},
     "output_type": "execute_result"
    }
   ],
   "source": [
    "def iscore(nm, split):\n",
    "    col = trn_xs[nm]\n",
    "    return score(col, trn_y, split)\n",
    "\n",
    "from ipywidgets import interact\n",
    "interact(nm=conts, split=90)(iscore)"
   ]
  },
  {
   "cell_type": "code",
   "execution_count": 69,
   "metadata": {},
   "outputs": [],
   "source": [
    "from sklearn.tree import DecisionTreeClassifier, export_graphviz"
   ]
  },
  {
   "cell_type": "code",
   "execution_count": 70,
   "metadata": {},
   "outputs": [],
   "source": [
    "m = DecisionTreeClassifier(max_leaf_nodes=4).fit(trn_xs, trn_y)"
   ]
  },
  {
   "cell_type": "code",
   "execution_count": 80,
   "metadata": {},
   "outputs": [],
   "source": [
    "m = DecisionTreeClassifier(min_samples_leaf=5000).fit(trn_xs, trn_y)"
   ]
  },
  {
   "cell_type": "code",
   "execution_count": 81,
   "metadata": {},
   "outputs": [],
   "source": [
    "import graphviz\n",
    "import regex as re\n",
    "\n",
    "def draw_tree(t, df, size=10, ratio=0.6, precision=2, **kwargs):\n",
    "    s=export_graphviz(t, out_file=None, feature_names=df.columns, filled=True, rounded=True,\n",
    "                      special_characters=True, rotate=False, precision=precision, **kwargs)\n",
    "    gviz_input = re.sub('Tree {', f'Tree {{ size={size}; ratio={ratio}', s)\n",
    "    print(gviz_input)\n",
    "    print(type(gviz_input))\n",
    "    #return graphviz.Source(re.sub('Tree {', f'Tree {{ size={size}; ratio={ratio}', s))"
   ]
  },
  {
   "cell_type": "code",
   "execution_count": 82,
   "metadata": {},
   "outputs": [
    {
     "name": "stdout",
     "output_type": "stream",
     "text": [
      "digraph Tree { size=10; ratio=0.6\n",
      "node [shape=box, style=\"filled, rounded\", color=\"black\", fontname=\"helvetica\"] ;\n",
      "edge [fontname=\"helvetica\"] ;\n",
      "0 [label=<agbd &le; 136.97<br/>gini = 0.65<br/>samples = 195480<br/>value = [81588, 42780, 71112]>, fillcolor=\"#fdf4ee\"] ;\n",
      "1 [label=<lat_lowestmode &le; 38.34<br/>gini = 0.64<br/>samples = 141820<br/>value = [43391, 33959, 64470]>, fillcolor=\"#e4d5f9\"] ;\n",
      "0 -> 1 [labeldistance=2.5, labelangle=45, headlabel=\"True\"] ;\n",
      "2 [label=<agbd &le; 40.43<br/>gini = 0.66<br/>samples = 49767<br/>value = [18959, 15187, 15621]>, fillcolor=\"#fcf3ec\"] ;\n",
      "1 -> 2 ;\n",
      "3 [label=<lat_lowestmode &le; 36.79<br/>gini = 0.65<br/>samples = 19561<br/>value = [4910, 6399, 8252]>, fillcolor=\"#ede3fb\"] ;\n",
      "2 -> 3 ;\n",
      "4 [label=<gini = 0.62<br/>samples = 5436<br/>value = [1442, 1192, 2802]>, fillcolor=\"#d4bcf6\"] ;\n",
      "3 -> 4 ;\n",
      "5 [label=<lat_lowestmode &le; 37.69<br/>gini = 0.65<br/>samples = 14125<br/>value = [3468, 5207, 5450]>, fillcolor=\"#fcfafe\"] ;\n",
      "3 -> 5 ;\n",
      "6 [label=<gini = 0.66<br/>samples = 8334<br/>value = [2386, 3064, 2884]>, fillcolor=\"#f8fefb\"] ;\n",
      "5 -> 6 ;\n",
      "7 [label=<gini = 0.63<br/>samples = 5791<br/>value = [1082, 2143, 2566]>, fillcolor=\"#f0e8fc\"] ;\n",
      "5 -> 7 ;\n",
      "8 [label=<lon_lowestmode &le; -119.97<br/>gini = 0.64<br/>samples = 30206<br/>value = [14049, 8788, 7369]>, fillcolor=\"#f9e0ce\"] ;\n",
      "2 -> 8 ;\n",
      "9 [label=<gini = 0.67<br/>samples = 8545<br/>value = [2672, 2984, 2889]>, fillcolor=\"#fcfffd\"] ;\n",
      "8 -> 9 ;\n",
      "10 [label=<lat_lowestmode &le; 37.29<br/>gini = 0.61<br/>samples = 21661<br/>value = [11377, 5804, 4480]>, fillcolor=\"#f6d3b9\"] ;\n",
      "8 -> 10 ;\n",
      "11 [label=<time_since_burn &le; 2.5<br/>gini = 0.65<br/>samples = 12878<br/>value = [5837, 3520, 3521]>, fillcolor=\"#f9e0ce\"] ;\n",
      "10 -> 11 ;\n",
      "12 [label=<gini = 0.66<br/>samples = 7394<br/>value = [2808, 2298, 2288]>, fillcolor=\"#fcf2eb\"] ;\n",
      "11 -> 12 ;\n",
      "13 [label=<gini = 0.59<br/>samples = 5484<br/>value = [3029, 1222, 1233]>, fillcolor=\"#f4caab\"] ;\n",
      "11 -> 13 ;\n",
      "14 [label=<gini = 0.52<br/>samples = 8783<br/>value = [5540, 2284, 959]>, fillcolor=\"#f2c09c\"] ;\n",
      "10 -> 14 ;\n",
      "15 [label=<lat_lowestmode &le; 39.79<br/>gini = 0.61<br/>samples = 92053<br/>value = [24432, 18772, 48849]>, fillcolor=\"#d2b8f6\"] ;\n",
      "1 -> 15 ;\n",
      "16 [label=<time_since_burn &le; 2.5<br/>gini = 0.54<br/>samples = 43046<br/>value = [8488, 7533, 27025]>, fillcolor=\"#bb95f1\"] ;\n",
      "15 -> 16 ;\n",
      "17 [label=<lat_lowestmode &le; 39.61<br/>gini = 0.39<br/>samples = 16875<br/>value = [1746, 2233, 12896]>, fillcolor=\"#a36fec\"] ;\n",
      "16 -> 17 ;\n",
      "18 [label=<gini = 0.6<br/>samples = 5000<br/>value = [1141, 1112, 2747]>, fillcolor=\"#cbadf4\"] ;\n",
      "17 -> 18 ;\n",
      "19 [label=<lat_lowestmode &le; 39.72<br/>gini = 0.26<br/>samples = 11875<br/>value = [605, 1121, 10149]>, fillcolor=\"#9559e9\"] ;\n",
      "17 -> 19 ;\n",
      "20 [label=<gini = 0.2<br/>samples = 6845<br/>value = [252, 479, 6114]>, fillcolor=\"#8f50e8\"] ;\n",
      "19 -> 20 ;\n",
      "21 [label=<gini = 0.34<br/>samples = 5030<br/>value = [353, 642, 4035]>, fillcolor=\"#9e66eb\"] ;\n",
      "19 -> 21 ;\n",
      "22 [label=<lon_lowestmode &le; -121.17<br/>gini = 0.6<br/>samples = 26171<br/>value = [6742, 5300, 14129]>, fillcolor=\"#cfb4f5\"] ;\n",
      "16 -> 22 ;\n",
      "23 [label=<gini = 0.64<br/>samples = 5000<br/>value = [2232, 1590, 1178]>, fillcolor=\"#fae7da\"] ;\n",
      "22 -> 23 ;\n",
      "24 [label=<time_since_burn &le; 17.5<br/>gini = 0.55<br/>samples = 21171<br/>value = [4510, 3710, 12951]>, fillcolor=\"#bf9bf2\"] ;\n",
      "22 -> 24 ;\n",
      "25 [label=<gini = 0.62<br/>samples = 9570<br/>value = [3081, 1724, 4765]>, fillcolor=\"#deccf8\"] ;\n",
      "24 -> 25 ;\n",
      "26 [label=<lat_lowestmode &le; 39.12<br/>gini = 0.46<br/>samples = 11601<br/>value = [1429, 1986, 8186]>, fillcolor=\"#ae7fee\"] ;\n",
      "24 -> 26 ;\n",
      "27 [label=<gini = 0.39<br/>samples = 6030<br/>value = [627, 807, 4596]>, fillcolor=\"#a46fec\"] ;\n",
      "26 -> 27 ;\n",
      "28 [label=<gini = 0.52<br/>samples = 5571<br/>value = [802, 1179, 3590]>, fillcolor=\"#ba92f1\"] ;\n",
      "26 -> 28 ;\n",
      "29 [label=<lon_lowestmode &le; -121.75<br/>gini = 0.64<br/>samples = 49007<br/>value = [15944, 11239, 21824]>, fillcolor=\"#e9dcfa\"] ;\n",
      "15 -> 29 ;\n",
      "30 [label=<lon_lowestmode &le; -121.9<br/>gini = 0.58<br/>samples = 17184<br/>value = [3819, 3580, 9785]>, fillcolor=\"#c7a7f3\"] ;\n",
      "29 -> 30 ;\n",
      "31 [label=<gini = 0.65<br/>samples = 5091<br/>value = [2239, 1407, 1445]>, fillcolor=\"#f9e4d4\"] ;\n",
      "30 -> 31 ;\n",
      "32 [label=<lat_lowestmode &le; 40.83<br/>gini = 0.48<br/>samples = 12093<br/>value = [1580, 2173, 8340]>, fillcolor=\"#b184ef\"] ;\n",
      "30 -> 32 ;\n",
      "33 [label=<gini = 0.61<br/>samples = 5000<br/>value = [1187, 1146, 2667]>, fillcolor=\"#ceb2f5\"] ;\n",
      "32 -> 33 ;\n",
      "34 [label=<gini = 0.34<br/>samples = 7093<br/>value = [393, 1027, 5673]>, fillcolor=\"#9e67eb\"] ;\n",
      "32 -> 34 ;\n",
      "35 [label=<agbd &le; 39.22<br/>gini = 0.65<br/>samples = 31823<br/>value = [12125, 7659, 12039]>, fillcolor=\"#fffefe\"] ;\n",
      "29 -> 35 ;\n",
      "36 [label=<lat_lowestmode &le; 40.38<br/>gini = 0.63<br/>samples = 14345<br/>value = [3680, 3587, 7078]>, fillcolor=\"#d7c0f7\"] ;\n",
      "35 -> 36 ;\n",
      "37 [label=<gini = 0.55<br/>samples = 8628<br/>value = [1327, 2007, 5294]>, fillcolor=\"#c09df2\"] ;\n",
      "36 -> 37 ;\n",
      "38 [label=<gini = 0.66<br/>samples = 5717<br/>value = [2353, 1580, 1784]>, fillcolor=\"#fbede2\"] ;\n",
      "36 -> 38 ;\n",
      "39 [label=<lat_lowestmode &le; 40.4<br/>gini = 0.63<br/>samples = 17478<br/>value = [8445, 4072, 4961]>, fillcolor=\"#f8dcc8\"] ;\n",
      "35 -> 39 ;\n",
      "40 [label=<lon_lowestmode &le; -121.04<br/>gini = 0.65<br/>samples = 11986<br/>value = [5218, 2832, 3936]>, fillcolor=\"#fbebdf\"] ;\n",
      "39 -> 40 ;\n",
      "41 [label=<gini = 0.62<br/>samples = 6133<br/>value = [3121, 1512, 1500]>, fillcolor=\"#f6d3ba\"] ;\n",
      "40 -> 41 ;\n",
      "42 [label=<gini = 0.65<br/>samples = 5853<br/>value = [2097, 1320, 2436]>, fillcolor=\"#f4edfd\"] ;\n",
      "40 -> 42 ;\n",
      "43 [label=<gini = 0.57<br/>samples = 5492<br/>value = [3227, 1240, 1025]>, fillcolor=\"#f3c4a2\"] ;\n",
      "39 -> 43 ;\n",
      "44 [label=<time_since_burn &le; 26.5<br/>gini = 0.45<br/>samples = 53660<br/>value = [38197, 8821, 6642]>, fillcolor=\"#eeac7d\"] ;\n",
      "0 -> 44 [labeldistance=2.5, labelangle=-45, headlabel=\"False\"] ;\n",
      "45 [label=<agbd &le; 211.5<br/>gini = 0.4<br/>samples = 47867<br/>value = [35893, 7517, 4457]>, fillcolor=\"#eda674\"] ;\n",
      "44 -> 45 ;\n",
      "46 [label=<lat_lowestmode &le; 38.17<br/>gini = 0.5<br/>samples = 19725<br/>value = [13042, 3764, 2919]>, fillcolor=\"#f0b68c\"] ;\n",
      "45 -> 46 ;\n",
      "47 [label=<gini = 0.43<br/>samples = 7506<br/>value = [5418, 1462, 626]>, fillcolor=\"#eead7d\"] ;\n",
      "46 -> 47 ;\n",
      "48 [label=<lat_lowestmode &le; 39.81<br/>gini = 0.54<br/>samples = 12219<br/>value = [7624, 2302, 2293]>, fillcolor=\"#f1bb95\"] ;\n",
      "46 -> 48 ;\n",
      "49 [label=<gini = 0.6<br/>samples = 6600<br/>value = [3534, 1326, 1740]>, fillcolor=\"#f5d0b6\"] ;\n",
      "48 -> 49 ;\n",
      "50 [label=<gini = 0.43<br/>samples = 5619<br/>value = [4090, 976, 553]>, fillcolor=\"#eeaa7a\"] ;\n",
      "48 -> 50 ;\n",
      "51 [label=<time_since_burn &le; 2.5<br/>gini = 0.32<br/>samples = 28142<br/>value = [22851, 3753, 1538]>, fillcolor=\"#eb9c64\"] ;\n",
      "45 -> 51 ;\n",
      "52 [label=<lat_lowestmode &le; 39.58<br/>gini = 0.4<br/>samples = 11335<br/>value = [8573, 1773, 989]>, fillcolor=\"#eda572\"] ;\n",
      "51 -> 52 ;\n",
      "53 [label=<gini = 0.34<br/>samples = 5870<br/>value = [4685, 946, 239]>, fillcolor=\"#eb9f69\"] ;\n",
      "52 -> 53 ;\n",
      "54 [label=<gini = 0.45<br/>samples = 5465<br/>value = [3888, 827, 750]>, fillcolor=\"#eeac7c\"] ;\n",
      "52 -> 54 ;\n",
      "55 [label=<time_since_burn &le; 9.5<br/>gini = 0.26<br/>samples = 16807<br/>value = [14278, 1980, 549]>, fillcolor=\"#e9965b\"] ;\n",
      "51 -> 55 ;\n",
      "56 [label=<agbd &le; 323.92<br/>gini = 0.23<br/>samples = 11080<br/>value = [9655, 1139, 286]>, fillcolor=\"#e99355\"] ;\n",
      "55 -> 56 ;\n",
      "57 [label=<gini = 0.27<br/>samples = 5589<br/>value = [4727, 666, 196]>, fillcolor=\"#ea975c\"] ;\n",
      "56 -> 57 ;\n",
      "58 [label=<gini = 0.19<br/>samples = 5491<br/>value = [4928, 473, 90]>, fillcolor=\"#e88f4f\"] ;\n",
      "56 -> 58 ;\n",
      "59 [label=<gini = 0.32<br/>samples = 5727<br/>value = [4623, 841, 263]>, fillcolor=\"#eb9d66\"] ;\n",
      "55 -> 59 ;\n",
      "60 [label=<gini = 0.65<br/>samples = 5793<br/>value = [2304, 1304, 2185]>, fillcolor=\"#fefbf8\"] ;\n",
      "44 -> 60 ;\n",
      "}\n",
      "<class 'str'>\n"
     ]
    }
   ],
   "source": [
    "draw_tree(m, trn_xs, size=10)"
   ]
  },
  {
   "cell_type": "code",
   "execution_count": null,
   "metadata": {},
   "outputs": [],
   "source": []
  }
 ],
 "metadata": {
  "kernelspec": {
   "display_name": "Python 3.10.6 64-bit",
   "language": "python",
   "name": "python3"
  },
  "language_info": {
   "codemirror_mode": {
    "name": "ipython",
    "version": 3
   },
   "file_extension": ".py",
   "mimetype": "text/x-python",
   "name": "python",
   "nbconvert_exporter": "python",
   "pygments_lexer": "ipython3",
   "version": "3.10.6"
  },
  "orig_nbformat": 4,
  "vscode": {
   "interpreter": {
    "hash": "31f2aee4e71d21fbe5cf8b01ff0e069b9275f58929596ceb00d14d90e3e16cd6"
   }
  }
 },
 "nbformat": 4,
 "nbformat_minor": 2
}
