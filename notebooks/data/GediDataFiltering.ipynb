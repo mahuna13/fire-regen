{
 "cells": [
  {
   "cell_type": "code",
   "execution_count": 17,
   "metadata": {},
   "outputs": [
    {
     "name": "stdout",
     "output_type": "stream",
     "text": [
      "2023-10-25 14:50:28,311 DEBUG: Logger /home/jk871/fire-regen/src/data/gedi_loader.py already set up. [in get_logger at /home/jk871/fire-regen/src/utils/logging_util.py:51]\n",
      "2023-10-25 14:50:28,316 DEBUG: Logger /home/jk871/fire-regen/src/data/gedi_pipeline.py already set up. [in get_logger at /home/jk871/fire-regen/src/utils/logging_util.py:51]\n"
     ]
    },
    {
     "data": {
      "text/plain": [
       "<module 'src.data.gedi_pipeline' from '/home/jk871/fire-regen/src/data/gedi_pipeline.py'>"
      ]
     },
     "execution_count": 17,
     "metadata": {},
     "output_type": "execute_result"
    }
   ],
   "source": [
    "import geopandas as gpd\n",
    "import pandas as pd\n",
    "from src.data import gedi_pipeline\n",
    "from src.data import gedi_loader\n",
    "from src.data.fire_perimeters import FirePerimeters, FirePerimetersDB\n",
    "from src.constants import DATA_PATH, USER_PATH\n",
    "from fastai.tabular.all import save_pickle, load_pickle\n",
    "\n",
    "import importlib\n",
    "importlib.reload(gedi_loader)\n",
    "importlib.reload(gedi_pipeline)\n"
   ]
  },
  {
   "cell_type": "markdown",
   "metadata": {},
   "source": [
    "## Fetch GEDI shots from the postgress database"
   ]
  },
  {
   "cell_type": "code",
   "execution_count": 2,
   "metadata": {},
   "outputs": [
    {
     "name": "stdout",
     "output_type": "stream",
     "text": [
      "2023-10-24 14:14:38,447 INFO: Loading combined GEDI shots for period 2019-2024 in this geometry [in get_combined_l2ab_l4a_shots at /home/jk871/fire-regen/src/data/gedi_loader.py:21]\n",
      "2023-10-24 14:14:38,452 DEBUG: SQL Query: SELECT shot_number, beam_type, absolute_time, lon_lowestmode, lat_lowestmode, elevation_difference_tdx, agbd, agbd_se, fhd_normal, pai, pai_z, pavd_z, rh_98, rh_70, rh_50, rh_25, cover, cover_z, sensitivity_a0, l4_algorithm_run_flag, l4_quality_flag, solar_elevation, gridded_pft_class, geometry FROM filtered_l2ab_l4a_shots WHERE absolute_time between '2019-01-01' and '2024-01-01' and ST_Intersects(geometry, ST_GeomFromText('POLYGON ((-118.177503 35.064873, -118.378625 35.115648, -118.38796 35.118057, -118.396459 35.120259, -118.405377 35.122687, -118.465582 35.140768, -118.466223 35.140997, -118.467088 35.14134, -118.467534 35.141614, -118.791936 35.360254, -118.794871 35.36291, -120.937881 38.087349, -122.221321 40.240918, -122.223932 40.246066, -122.225507 40.250349, -122.247187 40.685109, -122.247727 40.702461, -122.236991 40.729693, -121.977352 41.145554, -121.977105 41.145931, -121.973989 41.149605, -121.445983 41.58938, -121.445458 41.589771, -120.700777 41.993795, -120.005074 41.994926, -120.001072 41.994929, -119.999457 41.9949, -118.022 37.214816, -117.738678 36.506689, -117.735442 36.422457, -117.814117 35.942039, -117.867078 35.680112, -117.970837 35.343166, -117.970949 35.342867, -117.981332 35.318405, -117.982421 35.316757, -118.054266 35.213914, -118.055048 35.212859, -118.056833 35.210454, -118.066013 35.198592, -118.089661 35.168178, -118.103068 35.150953, -118.142863 35.099924, -118.146208 35.095736, -118.147463 35.094178, -118.148188 35.093333, -118.177503 35.064873))', 4326)) [in query at /home/jk871/fire-regen/src/data/gedi_database.py:120]\n",
      "2023-10-24 15:22:43,532 DEBUG: Found 16741121 shots in 2019-2024 in the specified geometry [in get_combined_l2ab_l4a_shots at /home/jk871/fire-regen/src/data/gedi_loader.py:71]\n",
      "2023-10-24 15:23:02,504 INFO: Number of GEDI shots found: 10684625 [in get_combined_l2ab_l4a_shots at /home/jk871/fire-regen/src/data/gedi_loader.py:83]\n"
     ]
    },
    {
     "data": {
      "text/html": [
       "<div>\n",
       "<style scoped>\n",
       "    .dataframe tbody tr th:only-of-type {\n",
       "        vertical-align: middle;\n",
       "    }\n",
       "\n",
       "    .dataframe tbody tr th {\n",
       "        vertical-align: top;\n",
       "    }\n",
       "\n",
       "    .dataframe thead th {\n",
       "        text-align: right;\n",
       "    }\n",
       "</style>\n",
       "<table border=\"1\" class=\"dataframe\">\n",
       "  <thead>\n",
       "    <tr style=\"text-align: right;\">\n",
       "      <th></th>\n",
       "      <th>shot_number</th>\n",
       "      <th>beam_type</th>\n",
       "      <th>absolute_time</th>\n",
       "      <th>lon_lowestmode</th>\n",
       "      <th>lat_lowestmode</th>\n",
       "      <th>elevation_difference_tdx</th>\n",
       "      <th>agbd</th>\n",
       "      <th>agbd_se</th>\n",
       "      <th>fhd_normal</th>\n",
       "      <th>pai</th>\n",
       "      <th>...</th>\n",
       "      <th>rh_98</th>\n",
       "      <th>rh_70</th>\n",
       "      <th>rh_50</th>\n",
       "      <th>rh_25</th>\n",
       "      <th>cover</th>\n",
       "      <th>cover_z</th>\n",
       "      <th>sensitivity_a0</th>\n",
       "      <th>solar_elevation</th>\n",
       "      <th>gridded_pft_class</th>\n",
       "      <th>geometry</th>\n",
       "    </tr>\n",
       "  </thead>\n",
       "  <tbody>\n",
       "    <tr>\n",
       "      <th>8</th>\n",
       "      <td>67510600300537066</td>\n",
       "      <td>full</td>\n",
       "      <td>2020-02-20 21:33:39.077822</td>\n",
       "      <td>-118.950512</td>\n",
       "      <td>35.573568</td>\n",
       "      <td>13.006317</td>\n",
       "      <td>1.271942</td>\n",
       "      <td>3.005720</td>\n",
       "      <td>1.108135</td>\n",
       "      <td>0.044755</td>\n",
       "      <td>...</td>\n",
       "      <td>2.65</td>\n",
       "      <td>0.56</td>\n",
       "      <td>-0.26</td>\n",
       "      <td>-1.38</td>\n",
       "      <td>0.022129</td>\n",
       "      <td>[0.022128826, 0.0, 0.0, 0.0, 0.0, 0.0, 0.0, 0.0, 0.0, 0.0, 0.0, 0.0, 0.0, 0.0, 0.0, 0.0, 0.0, 0.0, 0.0, 0.0, 0.0, 0.0, 0.0, 0.0, 0.0, 0.0, 0.0, 0.0, 0.0, 0.0]</td>\n",
       "      <td>0.960939</td>\n",
       "      <td>39.676262</td>\n",
       "      <td>6</td>\n",
       "      <td>POINT (-118.95051 35.57357)</td>\n",
       "    </tr>\n",
       "    <tr>\n",
       "      <th>9</th>\n",
       "      <td>67510600300537067</td>\n",
       "      <td>full</td>\n",
       "      <td>2020-02-20 21:33:39.086086</td>\n",
       "      <td>-118.950046</td>\n",
       "      <td>35.573222</td>\n",
       "      <td>-1.368866</td>\n",
       "      <td>4.505998</td>\n",
       "      <td>2.994367</td>\n",
       "      <td>1.780912</td>\n",
       "      <td>0.144988</td>\n",
       "      <td>...</td>\n",
       "      <td>4.19</td>\n",
       "      <td>0.93</td>\n",
       "      <td>-0.14</td>\n",
       "      <td>-1.57</td>\n",
       "      <td>0.069927</td>\n",
       "      <td>[0.069927275, 0.0034080811, 0.0, 0.0, 0.0, 0.0, 0.0, 0.0, 0.0, 0.0, 0.0, 0.0, 0.0, 0.0, 0.0, 0.0, 0.0, 0.0, 0.0, 0.0, 0.0, 0.0, 0.0, 0.0, 0.0, 0.0, 0.0, 0.0, 0.0, 0.0]</td>\n",
       "      <td>0.961305</td>\n",
       "      <td>39.676388</td>\n",
       "      <td>6</td>\n",
       "      <td>POINT (-118.95005 35.57322)</td>\n",
       "    </tr>\n",
       "    <tr>\n",
       "      <th>10</th>\n",
       "      <td>67510600300537068</td>\n",
       "      <td>full</td>\n",
       "      <td>2020-02-20 21:33:39.094350</td>\n",
       "      <td>-118.949580</td>\n",
       "      <td>35.572876</td>\n",
       "      <td>-6.435608</td>\n",
       "      <td>2.378324</td>\n",
       "      <td>3.000551</td>\n",
       "      <td>1.428577</td>\n",
       "      <td>0.084072</td>\n",
       "      <td>...</td>\n",
       "      <td>3.29</td>\n",
       "      <td>0.74</td>\n",
       "      <td>-0.14</td>\n",
       "      <td>-1.34</td>\n",
       "      <td>0.041165</td>\n",
       "      <td>[0.041164514, 0.0, 0.0, 0.0, 0.0, 0.0, 0.0, 0.0, 0.0, 0.0, 0.0, 0.0, 0.0, 0.0, 0.0, 0.0, 0.0, 0.0, 0.0, 0.0, 0.0, 0.0, 0.0, 0.0, 0.0, 0.0, 0.0, 0.0, 0.0, 0.0]</td>\n",
       "      <td>0.958994</td>\n",
       "      <td>39.676514</td>\n",
       "      <td>6</td>\n",
       "      <td>POINT (-118.94958 35.57288)</td>\n",
       "    </tr>\n",
       "    <tr>\n",
       "      <th>11</th>\n",
       "      <td>67510600300537069</td>\n",
       "      <td>full</td>\n",
       "      <td>2020-02-20 21:33:39.102614</td>\n",
       "      <td>-118.949117</td>\n",
       "      <td>35.572527</td>\n",
       "      <td>3.049927</td>\n",
       "      <td>1.228436</td>\n",
       "      <td>3.005978</td>\n",
       "      <td>1.049053</td>\n",
       "      <td>0.037528</td>\n",
       "      <td>...</td>\n",
       "      <td>2.62</td>\n",
       "      <td>0.52</td>\n",
       "      <td>-0.26</td>\n",
       "      <td>-1.42</td>\n",
       "      <td>0.018589</td>\n",
       "      <td>[0.018588932, 0.0, 0.0, 0.0, 0.0, 0.0, 0.0, 0.0, 0.0, 0.0, 0.0, 0.0, 0.0, 0.0, 0.0, 0.0, 0.0, 0.0, 0.0, 0.0, 0.0, 0.0, 0.0, 0.0, 0.0, 0.0, 0.0, 0.0, 0.0, 0.0]</td>\n",
       "      <td>0.958495</td>\n",
       "      <td>39.676640</td>\n",
       "      <td>6</td>\n",
       "      <td>POINT (-118.94912 35.57253)</td>\n",
       "    </tr>\n",
       "    <tr>\n",
       "      <th>12</th>\n",
       "      <td>67510600300537070</td>\n",
       "      <td>full</td>\n",
       "      <td>2020-02-20 21:33:39.110878</td>\n",
       "      <td>-118.948652</td>\n",
       "      <td>35.572180</td>\n",
       "      <td>-1.445526</td>\n",
       "      <td>2.014405</td>\n",
       "      <td>3.002018</td>\n",
       "      <td>1.530440</td>\n",
       "      <td>0.082017</td>\n",
       "      <td>...</td>\n",
       "      <td>3.10</td>\n",
       "      <td>0.71</td>\n",
       "      <td>-0.18</td>\n",
       "      <td>-1.34</td>\n",
       "      <td>0.040179</td>\n",
       "      <td>[0.04017861, 0.0, 0.0, 0.0, 0.0, 0.0, 0.0, 0.0, 0.0, 0.0, 0.0, 0.0, 0.0, 0.0, 0.0, 0.0, 0.0, 0.0, 0.0, 0.0, 0.0, 0.0, 0.0, 0.0, 0.0, 0.0, 0.0, 0.0, 0.0, 0.0]</td>\n",
       "      <td>0.959801</td>\n",
       "      <td>39.676765</td>\n",
       "      <td>6</td>\n",
       "      <td>POINT (-118.94865 35.57218)</td>\n",
       "    </tr>\n",
       "    <tr>\n",
       "      <th>...</th>\n",
       "      <td>...</td>\n",
       "      <td>...</td>\n",
       "      <td>...</td>\n",
       "      <td>...</td>\n",
       "      <td>...</td>\n",
       "      <td>...</td>\n",
       "      <td>...</td>\n",
       "      <td>...</td>\n",
       "      <td>...</td>\n",
       "      <td>...</td>\n",
       "      <td>...</td>\n",
       "      <td>...</td>\n",
       "      <td>...</td>\n",
       "      <td>...</td>\n",
       "      <td>...</td>\n",
       "      <td>...</td>\n",
       "      <td>...</td>\n",
       "      <td>...</td>\n",
       "      <td>...</td>\n",
       "      <td>...</td>\n",
       "      <td>...</td>\n",
       "    </tr>\n",
       "    <tr>\n",
       "      <th>16741116</th>\n",
       "      <td>215450800300288921</td>\n",
       "      <td>full</td>\n",
       "      <td>2022-10-02 03:56:02.310842</td>\n",
       "      <td>-119.158988</td>\n",
       "      <td>36.682654</td>\n",
       "      <td>4.067047</td>\n",
       "      <td>66.679573</td>\n",
       "      <td>3.003209</td>\n",
       "      <td>2.582520</td>\n",
       "      <td>0.370241</td>\n",
       "      <td>...</td>\n",
       "      <td>13.79</td>\n",
       "      <td>3.47</td>\n",
       "      <td>0.93</td>\n",
       "      <td>-1.38</td>\n",
       "      <td>0.168965</td>\n",
       "      <td>[0.16818945, 0.14841162, 0.07183538, 0.0018787247, 0.0, 0.0, 0.0, 0.0, 0.0, 0.0, 0.0, 0.0, 0.0, 0.0, 0.0, 0.0, 0.0, 0.0, 0.0, 0.0, 0.0, 0.0, 0.0, 0.0, 0.0, 0.0, 0.0, 0.0, 0.0, 0.0]</td>\n",
       "      <td>0.968020</td>\n",
       "      <td>-27.691675</td>\n",
       "      <td>6</td>\n",
       "      <td>POINT (-119.15899 36.68265)</td>\n",
       "    </tr>\n",
       "    <tr>\n",
       "      <th>16741117</th>\n",
       "      <td>215450800300288922</td>\n",
       "      <td>full</td>\n",
       "      <td>2022-10-02 03:56:02.319106</td>\n",
       "      <td>-119.158513</td>\n",
       "      <td>36.682316</td>\n",
       "      <td>-10.450043</td>\n",
       "      <td>37.816845</td>\n",
       "      <td>2.985407</td>\n",
       "      <td>2.318726</td>\n",
       "      <td>0.521166</td>\n",
       "      <td>...</td>\n",
       "      <td>10.54</td>\n",
       "      <td>3.44</td>\n",
       "      <td>1.27</td>\n",
       "      <td>-1.34</td>\n",
       "      <td>0.229338</td>\n",
       "      <td>[0.2293383, 0.104597256, 0.019259416, 0.0, 0.0, 0.0, 0.0, 0.0, 0.0, 0.0, 0.0, 0.0, 0.0, 0.0, 0.0, 0.0, 0.0, 0.0, 0.0, 0.0, 0.0, 0.0, 0.0, 0.0, 0.0, 0.0, 0.0, 0.0, 0.0, 0.0]</td>\n",
       "      <td>0.964861</td>\n",
       "      <td>-27.692165</td>\n",
       "      <td>6</td>\n",
       "      <td>POINT (-119.15851 36.68232)</td>\n",
       "    </tr>\n",
       "    <tr>\n",
       "      <th>16741118</th>\n",
       "      <td>215450800300288923</td>\n",
       "      <td>full</td>\n",
       "      <td>2022-10-02 03:56:02.327370</td>\n",
       "      <td>-119.158026</td>\n",
       "      <td>36.681969</td>\n",
       "      <td>16.175598</td>\n",
       "      <td>54.210384</td>\n",
       "      <td>2.994337</td>\n",
       "      <td>2.545603</td>\n",
       "      <td>0.820301</td>\n",
       "      <td>...</td>\n",
       "      <td>12.49</td>\n",
       "      <td>5.16</td>\n",
       "      <td>2.13</td>\n",
       "      <td>-0.74</td>\n",
       "      <td>0.336316</td>\n",
       "      <td>[0.33631602, 0.22280551, 0.058055807, 0.0, 0.0, 0.0, 0.0, 0.0, 0.0, 0.0, 0.0, 0.0, 0.0, 0.0, 0.0, 0.0, 0.0, 0.0, 0.0, 0.0, 0.0, 0.0, 0.0, 0.0, 0.0, 0.0, 0.0, 0.0, 0.0, 0.0]</td>\n",
       "      <td>0.966311</td>\n",
       "      <td>-27.692669</td>\n",
       "      <td>6</td>\n",
       "      <td>POINT (-119.15803 36.68197)</td>\n",
       "    </tr>\n",
       "    <tr>\n",
       "      <th>16741119</th>\n",
       "      <td>215450800300288924</td>\n",
       "      <td>full</td>\n",
       "      <td>2022-10-02 03:56:02.335634</td>\n",
       "      <td>-119.157551</td>\n",
       "      <td>36.681631</td>\n",
       "      <td>-5.224457</td>\n",
       "      <td>54.210384</td>\n",
       "      <td>2.994337</td>\n",
       "      <td>2.528261</td>\n",
       "      <td>0.644405</td>\n",
       "      <td>...</td>\n",
       "      <td>12.49</td>\n",
       "      <td>4.11</td>\n",
       "      <td>1.42</td>\n",
       "      <td>-0.67</td>\n",
       "      <td>0.275361</td>\n",
       "      <td>[0.27536142, 0.17869474, 0.049390752, 0.0, 0.0, 0.0, 0.0, 0.0, 0.0, 0.0, 0.0, 0.0, 0.0, 0.0, 0.0, 0.0, 0.0, 0.0, 0.0, 0.0, 0.0, 0.0, 0.0, 0.0, 0.0, 0.0, 0.0, 0.0, 0.0, 0.0]</td>\n",
       "      <td>0.965575</td>\n",
       "      <td>-27.693161</td>\n",
       "      <td>6</td>\n",
       "      <td>POINT (-119.15755 36.68163)</td>\n",
       "    </tr>\n",
       "    <tr>\n",
       "      <th>16741120</th>\n",
       "      <td>215450800300288925</td>\n",
       "      <td>full</td>\n",
       "      <td>2022-10-02 03:56:02.343898</td>\n",
       "      <td>-119.157066</td>\n",
       "      <td>36.681286</td>\n",
       "      <td>-19.119080</td>\n",
       "      <td>10.075660</td>\n",
       "      <td>2.986305</td>\n",
       "      <td>0.636514</td>\n",
       "      <td>0.010246</td>\n",
       "      <td>...</td>\n",
       "      <td>5.83</td>\n",
       "      <td>0.59</td>\n",
       "      <td>-1.30</td>\n",
       "      <td>-4.45</td>\n",
       "      <td>0.005110</td>\n",
       "      <td>[0.0051098005, 0.0, 0.0, 0.0, 0.0, 0.0, 0.0, 0.0, 0.0, 0.0, 0.0, 0.0, 0.0, 0.0, 0.0, 0.0, 0.0, 0.0, 0.0, 0.0, 0.0, 0.0, 0.0, 0.0, 0.0, 0.0, 0.0, 0.0, 0.0, 0.0]</td>\n",
       "      <td>0.964326</td>\n",
       "      <td>-27.693657</td>\n",
       "      <td>6</td>\n",
       "      <td>POINT (-119.15707 36.68129)</td>\n",
       "    </tr>\n",
       "  </tbody>\n",
       "</table>\n",
       "<p>10684625 rows × 22 columns</p>\n",
       "</div>"
      ],
      "text/plain": [
       "                 shot_number beam_type              absolute_time  \\\n",
       "8          67510600300537066      full 2020-02-20 21:33:39.077822   \n",
       "9          67510600300537067      full 2020-02-20 21:33:39.086086   \n",
       "10         67510600300537068      full 2020-02-20 21:33:39.094350   \n",
       "11         67510600300537069      full 2020-02-20 21:33:39.102614   \n",
       "12         67510600300537070      full 2020-02-20 21:33:39.110878   \n",
       "...                      ...       ...                        ...   \n",
       "16741116  215450800300288921      full 2022-10-02 03:56:02.310842   \n",
       "16741117  215450800300288922      full 2022-10-02 03:56:02.319106   \n",
       "16741118  215450800300288923      full 2022-10-02 03:56:02.327370   \n",
       "16741119  215450800300288924      full 2022-10-02 03:56:02.335634   \n",
       "16741120  215450800300288925      full 2022-10-02 03:56:02.343898   \n",
       "\n",
       "          lon_lowestmode  lat_lowestmode  elevation_difference_tdx       agbd  \\\n",
       "8            -118.950512       35.573568                 13.006317   1.271942   \n",
       "9            -118.950046       35.573222                 -1.368866   4.505998   \n",
       "10           -118.949580       35.572876                 -6.435608   2.378324   \n",
       "11           -118.949117       35.572527                  3.049927   1.228436   \n",
       "12           -118.948652       35.572180                 -1.445526   2.014405   \n",
       "...                  ...             ...                       ...        ...   \n",
       "16741116     -119.158988       36.682654                  4.067047  66.679573   \n",
       "16741117     -119.158513       36.682316                -10.450043  37.816845   \n",
       "16741118     -119.158026       36.681969                 16.175598  54.210384   \n",
       "16741119     -119.157551       36.681631                 -5.224457  54.210384   \n",
       "16741120     -119.157066       36.681286                -19.119080  10.075660   \n",
       "\n",
       "           agbd_se  fhd_normal       pai  ...  rh_98 rh_70  rh_50  rh_25  \\\n",
       "8         3.005720    1.108135  0.044755  ...   2.65  0.56  -0.26  -1.38   \n",
       "9         2.994367    1.780912  0.144988  ...   4.19  0.93  -0.14  -1.57   \n",
       "10        3.000551    1.428577  0.084072  ...   3.29  0.74  -0.14  -1.34   \n",
       "11        3.005978    1.049053  0.037528  ...   2.62  0.52  -0.26  -1.42   \n",
       "12        3.002018    1.530440  0.082017  ...   3.10  0.71  -0.18  -1.34   \n",
       "...            ...         ...       ...  ...    ...   ...    ...    ...   \n",
       "16741116  3.003209    2.582520  0.370241  ...  13.79  3.47   0.93  -1.38   \n",
       "16741117  2.985407    2.318726  0.521166  ...  10.54  3.44   1.27  -1.34   \n",
       "16741118  2.994337    2.545603  0.820301  ...  12.49  5.16   2.13  -0.74   \n",
       "16741119  2.994337    2.528261  0.644405  ...  12.49  4.11   1.42  -0.67   \n",
       "16741120  2.986305    0.636514  0.010246  ...   5.83  0.59  -1.30  -4.45   \n",
       "\n",
       "             cover  \\\n",
       "8         0.022129   \n",
       "9         0.069927   \n",
       "10        0.041165   \n",
       "11        0.018589   \n",
       "12        0.040179   \n",
       "...            ...   \n",
       "16741116  0.168965   \n",
       "16741117  0.229338   \n",
       "16741118  0.336316   \n",
       "16741119  0.275361   \n",
       "16741120  0.005110   \n",
       "\n",
       "                                                                                                                                                                                       cover_z  \\\n",
       "8                               [0.022128826, 0.0, 0.0, 0.0, 0.0, 0.0, 0.0, 0.0, 0.0, 0.0, 0.0, 0.0, 0.0, 0.0, 0.0, 0.0, 0.0, 0.0, 0.0, 0.0, 0.0, 0.0, 0.0, 0.0, 0.0, 0.0, 0.0, 0.0, 0.0, 0.0]   \n",
       "9                      [0.069927275, 0.0034080811, 0.0, 0.0, 0.0, 0.0, 0.0, 0.0, 0.0, 0.0, 0.0, 0.0, 0.0, 0.0, 0.0, 0.0, 0.0, 0.0, 0.0, 0.0, 0.0, 0.0, 0.0, 0.0, 0.0, 0.0, 0.0, 0.0, 0.0, 0.0]   \n",
       "10                              [0.041164514, 0.0, 0.0, 0.0, 0.0, 0.0, 0.0, 0.0, 0.0, 0.0, 0.0, 0.0, 0.0, 0.0, 0.0, 0.0, 0.0, 0.0, 0.0, 0.0, 0.0, 0.0, 0.0, 0.0, 0.0, 0.0, 0.0, 0.0, 0.0, 0.0]   \n",
       "11                              [0.018588932, 0.0, 0.0, 0.0, 0.0, 0.0, 0.0, 0.0, 0.0, 0.0, 0.0, 0.0, 0.0, 0.0, 0.0, 0.0, 0.0, 0.0, 0.0, 0.0, 0.0, 0.0, 0.0, 0.0, 0.0, 0.0, 0.0, 0.0, 0.0, 0.0]   \n",
       "12                               [0.04017861, 0.0, 0.0, 0.0, 0.0, 0.0, 0.0, 0.0, 0.0, 0.0, 0.0, 0.0, 0.0, 0.0, 0.0, 0.0, 0.0, 0.0, 0.0, 0.0, 0.0, 0.0, 0.0, 0.0, 0.0, 0.0, 0.0, 0.0, 0.0, 0.0]   \n",
       "...                                                                                                                                                                                        ...   \n",
       "16741116  [0.16818945, 0.14841162, 0.07183538, 0.0018787247, 0.0, 0.0, 0.0, 0.0, 0.0, 0.0, 0.0, 0.0, 0.0, 0.0, 0.0, 0.0, 0.0, 0.0, 0.0, 0.0, 0.0, 0.0, 0.0, 0.0, 0.0, 0.0, 0.0, 0.0, 0.0, 0.0]   \n",
       "16741117          [0.2293383, 0.104597256, 0.019259416, 0.0, 0.0, 0.0, 0.0, 0.0, 0.0, 0.0, 0.0, 0.0, 0.0, 0.0, 0.0, 0.0, 0.0, 0.0, 0.0, 0.0, 0.0, 0.0, 0.0, 0.0, 0.0, 0.0, 0.0, 0.0, 0.0, 0.0]   \n",
       "16741118          [0.33631602, 0.22280551, 0.058055807, 0.0, 0.0, 0.0, 0.0, 0.0, 0.0, 0.0, 0.0, 0.0, 0.0, 0.0, 0.0, 0.0, 0.0, 0.0, 0.0, 0.0, 0.0, 0.0, 0.0, 0.0, 0.0, 0.0, 0.0, 0.0, 0.0, 0.0]   \n",
       "16741119          [0.27536142, 0.17869474, 0.049390752, 0.0, 0.0, 0.0, 0.0, 0.0, 0.0, 0.0, 0.0, 0.0, 0.0, 0.0, 0.0, 0.0, 0.0, 0.0, 0.0, 0.0, 0.0, 0.0, 0.0, 0.0, 0.0, 0.0, 0.0, 0.0, 0.0, 0.0]   \n",
       "16741120                       [0.0051098005, 0.0, 0.0, 0.0, 0.0, 0.0, 0.0, 0.0, 0.0, 0.0, 0.0, 0.0, 0.0, 0.0, 0.0, 0.0, 0.0, 0.0, 0.0, 0.0, 0.0, 0.0, 0.0, 0.0, 0.0, 0.0, 0.0, 0.0, 0.0, 0.0]   \n",
       "\n",
       "          sensitivity_a0 solar_elevation  gridded_pft_class  \\\n",
       "8               0.960939       39.676262                  6   \n",
       "9               0.961305       39.676388                  6   \n",
       "10              0.958994       39.676514                  6   \n",
       "11              0.958495       39.676640                  6   \n",
       "12              0.959801       39.676765                  6   \n",
       "...                  ...             ...                ...   \n",
       "16741116        0.968020      -27.691675                  6   \n",
       "16741117        0.964861      -27.692165                  6   \n",
       "16741118        0.966311      -27.692669                  6   \n",
       "16741119        0.965575      -27.693161                  6   \n",
       "16741120        0.964326      -27.693657                  6   \n",
       "\n",
       "                             geometry  \n",
       "8         POINT (-118.95051 35.57357)  \n",
       "9         POINT (-118.95005 35.57322)  \n",
       "10        POINT (-118.94958 35.57288)  \n",
       "11        POINT (-118.94912 35.57253)  \n",
       "12        POINT (-118.94865 35.57218)  \n",
       "...                               ...  \n",
       "16741116  POINT (-119.15899 36.68265)  \n",
       "16741117  POINT (-119.15851 36.68232)  \n",
       "16741118  POINT (-119.15803 36.68197)  \n",
       "16741119  POINT (-119.15755 36.68163)  \n",
       "16741120  POINT (-119.15707 36.68129)  \n",
       "\n",
       "[10684625 rows x 22 columns]"
      ]
     },
     "execution_count": 2,
     "metadata": {},
     "output_type": "execute_result"
    }
   ],
   "source": [
    "gedi_pipeline.fetch_from_db_gedi_l2ab_l4a_for_sierras(save=True)"
   ]
  },
  {
   "cell_type": "markdown",
   "metadata": {},
   "source": [
    "## Running all stages of the GEDI pipeline"
   ]
  },
  {
   "cell_type": "markdown",
   "metadata": {},
   "source": [
    "### Stage 2 - basic l4a processing"
   ]
  },
  {
   "cell_type": "code",
   "execution_count": 6,
   "metadata": {},
   "outputs": [
    {
     "name": "stdout",
     "output_type": "stream",
     "text": [
      "2023-10-24 15:48:34,041 DEBUG: Saving stage 2 processed shots as pickle. [in stage_2_basic_processing_of_l4a_sierras_data at /home/jk871/fire-regen/src/data/gedi_pipeline.py:695]\n"
     ]
    }
   ],
   "source": [
    "# Combined shots\n",
    "gedi = gedi_pipeline.stage_2_basic_processing_of_l4a_sierras_data(save=True)"
   ]
  },
  {
   "cell_type": "code",
   "execution_count": 7,
   "metadata": {},
   "outputs": [
    {
     "data": {
      "text/plain": [
       "Index(['shot_number', 'beam_type', 'absolute_time', 'longitude', 'latitude',\n",
       "       'elevation_difference_tdx', 'agbd', 'agbd_se', 'fhd_normal', 'pai',\n",
       "       'pai_z', 'pavd_z', 'rh_98', 'rh_70', 'rh_50', 'rh_25', 'cover',\n",
       "       'cover_z', 'sensitivity_a0', 'solar_elevation', 'gridded_pft_class',\n",
       "       'geometry', 'gedi_year', 'gedi_month'],\n",
       "      dtype='object')"
      ]
     },
     "execution_count": 7,
     "metadata": {},
     "output_type": "execute_result"
    }
   ],
   "source": [
    "gedi.columns"
   ]
  },
  {
   "cell_type": "markdown",
   "metadata": {},
   "source": [
    "### Stage 3 - Match with MTBS burn raster\n",
    "\n",
    "This can be done with a 3x3 or 2x2 kernel. 3x3 gives us better precision and guarantees data matching, while 2x2 has lower accuracy but preserves more data points."
   ]
  },
  {
   "cell_type": "code",
   "execution_count": 8,
   "metadata": {},
   "outputs": [
    {
     "name": "stdout",
     "output_type": "stream",
     "text": [
      "2023-10-24 16:00:04,389 DEBUG: Saving stage 3 processed shots as pickle, for kernel 2. [in stage_3_match_burn_raster_l4a_sierras at /home/jk871/fire-regen/src/data/gedi_pipeline.py:669]\n"
     ]
    }
   ],
   "source": [
    "# 2x2 kernel - combined shots\n",
    "gedi_2x2 = gedi_pipeline.stage_3_match_burn_raster_l4a_sierras(2)"
   ]
  },
  {
   "cell_type": "markdown",
   "metadata": {},
   "source": [
    "### Stage 3B - Match with fire perimeters from CalFire\n",
    "\n",
    "These include fires before 1984, as well as fires that are smaller than 1000 acres - which is around 4km^2. This may take a while because we're doing spatial joins between fire perimeters and 9 million GEDI shots."
   ]
  },
  {
   "cell_type": "code",
   "execution_count": 18,
   "metadata": {},
   "outputs": [],
   "source": [
    "# Get Fire perimeter data\n",
    "sierras = gpd.read_file(\"../../data/shapefiles/sierras_convex_hull.shp\")\n",
    "firep_db = FirePerimetersDB('../../data/fire_perimeters.gdb/')\n",
    "sierra_firep = FirePerimeters(firep_db).filter_within_geometry(sierras)"
   ]
  },
  {
   "cell_type": "code",
   "execution_count": null,
   "metadata": {},
   "outputs": [],
   "source": [
    "#TODO: Consider doing this. For now, we won't because the processing time of geo \n",
    "# spatial matching between all of these fires will be time consuming. Instead, let's\n",
    "# focus on fires > 1000 acres that are part of MTBS DB."
   ]
  },
  {
   "cell_type": "markdown",
   "metadata": {},
   "source": [
    "### Stage 4 - Filter based on matching with burn raster"
   ]
  },
  {
   "cell_type": "code",
   "execution_count": 9,
   "metadata": {},
   "outputs": [
    {
     "name": "stdout",
     "output_type": "stream",
     "text": [
      "2023-10-24 16:06:13,185 DEBUG: Read in intermediate data from stage 3. [in stage_4_filter_burns_l4a_sierras at /home/jk871/fire-regen/src/data/gedi_pipeline.py:554]\n",
      "2023-10-24 16:09:37,368 DEBUG: Filter burn areas. [in stage_4_filter_burns_l4a_sierras at /home/jk871/fire-regen/src/data/gedi_pipeline.py:557]\n",
      "2023-10-24 16:09:41,046 DEBUG: Excluded shots on the burn boundaries, shots remaining:         10146077 [in divide_shots_into_burned_and_unburned at /home/jk871/fire-regen/src/data/gedi_pipeline.py:609]\n",
      "2023-10-24 16:09:42,101 DEBUG: Number of GEDI shots that burned at least once:                  1941890 [in divide_shots_into_burned_and_unburned at /home/jk871/fire-regen/src/data/gedi_pipeline.py:614]\n",
      "2023-10-24 16:09:44,950 DEBUG: Number of GEDI shots that never burned since 1984:         8024096 [in divide_shots_into_burned_and_unburned at /home/jk871/fire-regen/src/data/gedi_pipeline.py:621]\n",
      "2023-10-24 16:09:46,519 DEBUG: Number of GEDI shots that have a perfect match with burn                    raster (all surrounding pixels have the same severity):                    1193509 [in exclude_shots_on_burn_boundaries at /home/jk871/fire-regen/src/data/gedi_pipeline.py:647]\n",
      "2023-10-24 16:09:48,918 DEBUG: Saving stage 4 processed burned shots as pkl,             for kernel 2. [in stage_4_filter_burns_l4a_sierras at /home/jk871/fire-regen/src/data/gedi_pipeline.py:561]\n",
      "2023-10-24 16:09:57,621 DEBUG: Saving stage 4 processed unburned shots as pkl,             for kernel 2. [in stage_4_filter_burns_l4a_sierras at /home/jk871/fire-regen/src/data/gedi_pipeline.py:568]\n"
     ]
    }
   ],
   "source": [
    "# 2x2 kernel - combined\n",
    "gedi_2x2 = gedi_pipeline.stage_4_filter_burns_l4a_sierras(2)"
   ]
  },
  {
   "cell_type": "markdown",
   "metadata": {},
   "source": [
    "### Stage 5 - filter for regrowth"
   ]
  },
  {
   "cell_type": "code",
   "execution_count": 6,
   "metadata": {},
   "outputs": [
    {
     "name": "stdout",
     "output_type": "stream",
     "text": [
      "2023-10-25 14:14:37,840 DEBUG: Number of shots that happened after fires:                    858878 [in filter_shots_for_regrowth_analysis at /home/jk871/fire-regen/src/data/gedi_pipeline.py:525]\n",
      "2023-10-25 14:14:38,080 DEBUG: Number of shots that burned in 2-4 categories:                    836766 [in filter_shots_for_regrowth_analysis at /home/jk871/fire-regen/src/data/gedi_pipeline.py:530]\n",
      "2023-10-25 14:14:38,800 DEBUG: Saving stage 5 processed burned shots as pkl,             for kernel 2. [in stage_5_filter_for_regrowth_l4a_sierras at /home/jk871/fire-regen/src/data/gedi_pipeline.py:504]\n",
      "2023-10-25 14:14:43,687 DEBUG: Saving stage 5 processed unburned shots as pkl,             for kernel 2. [in stage_5_filter_for_regrowth_l4a_sierras at /home/jk871/fire-regen/src/data/gedi_pipeline.py:511]\n"
     ]
    }
   ],
   "source": [
    "# combined\n",
    "gedi_burned_2x2, gedi_unburned_2x2 = gedi_pipeline.stage_5_filter_for_regrowth_l4a_sierras(2)"
   ]
  },
  {
   "cell_type": "markdown",
   "metadata": {},
   "source": [
    "### Stage 6 - Match with Land Cover"
   ]
  },
  {
   "cell_type": "code",
   "execution_count": 8,
   "metadata": {},
   "outputs": [
    {
     "name": "stdout",
     "output_type": "stream",
     "text": [
      "2023-10-25 14:20:02,600 DEBUG: Matching land cover for year 1988. [in match_burn_landcover at /home/jk871/fire-regen/src/data/gedi_raster_matching.py:77]\n",
      "2023-10-25 14:20:04,869 DEBUG: Matching land cover for year 2010. [in match_burn_landcover at /home/jk871/fire-regen/src/data/gedi_raster_matching.py:77]\n",
      "2023-10-25 14:20:06,923 DEBUG: Matching land cover for year 2017. [in match_burn_landcover at /home/jk871/fire-regen/src/data/gedi_raster_matching.py:77]\n",
      "2023-10-25 14:20:12,453 DEBUG: Matching land cover for year 2005. [in match_burn_landcover at /home/jk871/fire-regen/src/data/gedi_raster_matching.py:77]\n",
      "2023-10-25 14:20:14,226 DEBUG: Matching land cover for year 2000. [in match_burn_landcover at /home/jk871/fire-regen/src/data/gedi_raster_matching.py:77]\n",
      "2023-10-25 14:20:16,813 DEBUG: Matching land cover for year 1994. [in match_burn_landcover at /home/jk871/fire-regen/src/data/gedi_raster_matching.py:77]\n",
      "2023-10-25 14:20:19,432 DEBUG: Matching land cover for year 2002. [in match_burn_landcover at /home/jk871/fire-regen/src/data/gedi_raster_matching.py:77]\n",
      "2023-10-25 14:20:21,881 DEBUG: Matching land cover for year 2007. [in match_burn_landcover at /home/jk871/fire-regen/src/data/gedi_raster_matching.py:77]\n",
      "2023-10-25 14:20:24,402 DEBUG: Matching land cover for year 1990. [in match_burn_landcover at /home/jk871/fire-regen/src/data/gedi_raster_matching.py:77]\n",
      "2023-10-25 14:20:26,748 DEBUG: Matching land cover for year 2016. [in match_burn_landcover at /home/jk871/fire-regen/src/data/gedi_raster_matching.py:77]\n",
      "2023-10-25 14:20:29,335 DEBUG: Matching land cover for year 2021. [in match_burn_landcover at /home/jk871/fire-regen/src/data/gedi_raster_matching.py:77]\n",
      "2023-10-25 14:20:33,899 DEBUG: Matching land cover for year 2020. [in match_burn_landcover at /home/jk871/fire-regen/src/data/gedi_raster_matching.py:77]\n",
      "2023-10-25 14:20:40,473 DEBUG: Matching land cover for year 2001. [in match_burn_landcover at /home/jk871/fire-regen/src/data/gedi_raster_matching.py:77]\n",
      "2023-10-25 14:20:42,939 DEBUG: Matching land cover for year 2012. [in match_burn_landcover at /home/jk871/fire-regen/src/data/gedi_raster_matching.py:77]\n",
      "2023-10-25 14:20:47,087 DEBUG: Matching land cover for year 2008. [in match_burn_landcover at /home/jk871/fire-regen/src/data/gedi_raster_matching.py:77]\n",
      "2023-10-25 14:20:49,897 DEBUG: Matching land cover for year 2004. [in match_burn_landcover at /home/jk871/fire-regen/src/data/gedi_raster_matching.py:77]\n",
      "2023-10-25 14:20:52,266 DEBUG: Matching land cover for year 1985. [in match_burn_landcover at /home/jk871/fire-regen/src/data/gedi_raster_matching.py:77]\n",
      "2023-10-25 14:20:54,629 DEBUG: Matching land cover for year 1986. [in match_burn_landcover at /home/jk871/fire-regen/src/data/gedi_raster_matching.py:77]\n",
      "2023-10-25 14:20:55,175 DEBUG: Matching land cover for year 1992. [in match_burn_landcover at /home/jk871/fire-regen/src/data/gedi_raster_matching.py:77]\n",
      "2023-10-25 14:20:58,301 DEBUG: Matching land cover for year 1999. [in match_burn_landcover at /home/jk871/fire-regen/src/data/gedi_raster_matching.py:77]\n",
      "2023-10-25 14:21:01,157 DEBUG: Matching land cover for year 2003. [in match_burn_landcover at /home/jk871/fire-regen/src/data/gedi_raster_matching.py:77]\n",
      "2023-10-25 14:21:03,176 DEBUG: Matching land cover for year 2018. [in match_burn_landcover at /home/jk871/fire-regen/src/data/gedi_raster_matching.py:77]\n",
      "2023-10-25 14:21:07,271 DEBUG: Matching land cover for year 2015. [in match_burn_landcover at /home/jk871/fire-regen/src/data/gedi_raster_matching.py:77]\n",
      "2023-10-25 14:21:10,762 DEBUG: Matching land cover for year 1996. [in match_burn_landcover at /home/jk871/fire-regen/src/data/gedi_raster_matching.py:77]\n",
      "2023-10-25 14:21:13,055 DEBUG: Matching land cover for year 2019. [in match_burn_landcover at /home/jk871/fire-regen/src/data/gedi_raster_matching.py:77]\n",
      "2023-10-25 14:21:15,257 DEBUG: Matching land cover for year 1987. [in match_burn_landcover at /home/jk871/fire-regen/src/data/gedi_raster_matching.py:77]\n",
      "2023-10-25 14:21:18,106 DEBUG: Matching land cover for year 2006. [in match_burn_landcover at /home/jk871/fire-regen/src/data/gedi_raster_matching.py:77]\n",
      "2023-10-25 14:21:20,564 DEBUG: Matching land cover for year 1984. [in match_burn_landcover at /home/jk871/fire-regen/src/data/gedi_raster_matching.py:77]\n",
      "2023-10-25 14:21:21,398 DEBUG: Matching land cover for year 1998. [in match_burn_landcover at /home/jk871/fire-regen/src/data/gedi_raster_matching.py:77]\n",
      "2023-10-25 14:21:23,264 DEBUG: Matching land cover for year 2014. [in match_burn_landcover at /home/jk871/fire-regen/src/data/gedi_raster_matching.py:77]\n",
      "2023-10-25 14:21:26,872 DEBUG: Matching land cover for year 2009. [in match_burn_landcover at /home/jk871/fire-regen/src/data/gedi_raster_matching.py:77]\n",
      "2023-10-25 14:21:29,043 DEBUG: Matching land cover for year 1991. [in match_burn_landcover at /home/jk871/fire-regen/src/data/gedi_raster_matching.py:77]\n",
      "2023-10-25 14:21:30,817 DEBUG: Matching land cover for year 1989. [in match_burn_landcover at /home/jk871/fire-regen/src/data/gedi_raster_matching.py:77]\n",
      "2023-10-25 14:21:32,793 DEBUG: Matching land cover for year 2011. [in match_burn_landcover at /home/jk871/fire-regen/src/data/gedi_raster_matching.py:77]\n",
      "2023-10-25 14:21:35,111 DEBUG: Matching land cover for year 1997. [in match_burn_landcover at /home/jk871/fire-regen/src/data/gedi_raster_matching.py:77]\n",
      "2023-10-25 14:21:37,023 DEBUG: Matching land cover for year 2013. [in match_burn_landcover at /home/jk871/fire-regen/src/data/gedi_raster_matching.py:77]\n",
      "2023-10-25 14:21:40,635 DEBUG: Matching land cover for year 1995. [in match_burn_landcover at /home/jk871/fire-regen/src/data/gedi_raster_matching.py:77]\n",
      "2023-10-25 14:21:42,358 DEBUG: Matching land cover for year 1993. [in match_burn_landcover at /home/jk871/fire-regen/src/data/gedi_raster_matching.py:77]\n",
      "2023-10-25 14:21:44,480 DEBUG: Saving stage 6 processed burned shots as pkl,             for kernel 2. [in stage_6_match_land_cover_l4a_sierras at /home/jk871/fire-regen/src/data/gedi_pipeline.py:470]\n"
     ]
    }
   ],
   "source": [
    "# combined\n",
    "gedi_burned_2x2, gedi_unburned_2x2 = gedi_pipeline.stage_6_match_land_cover_l4a_sierras(2)"
   ]
  },
  {
   "cell_type": "markdown",
   "metadata": {},
   "source": [
    "### Stage 7 - Filter based on Land Cover\n",
    "\n",
    "For burned areas, we match each shot with the land cover as it was a year before the fire.\n",
    "\n",
    "TODO: Decide if this is what we want to do - For unburned areas, we match each shot with the land cover from 2021."
   ]
  },
  {
   "cell_type": "markdown",
   "metadata": {},
   "source": [
    "We used to do: for filtering land cover we still use 3x3 kernel, even on 2x2 burn raster matches. This is due to cali forests being rather fragmented, so it's good to be extra certain about the forest cover.\n",
    "\n",
    "However I have since started using 2x2. We can always go back on this decision."
   ]
  },
  {
   "cell_type": "markdown",
   "metadata": {},
   "source": [
    "Number of shots that were trees before they burned with 3x3 filtering - 455534. With 2x2 filtering - 492582."
   ]
  },
  {
   "cell_type": "code",
   "execution_count": 10,
   "metadata": {},
   "outputs": [
    {
     "name": "stdout",
     "output_type": "stream",
     "text": [
      "2023-10-25 14:26:17,600 DEBUG: Number of shots that were trees before they burned:                 492582 [in stage_7_filter_land_cover_l4a_sierras at /home/jk871/fire-regen/src/data/gedi_pipeline.py:400]\n",
      "2023-10-25 14:26:17,757 DEBUG: Saving stage 7 processed burned shots as pkl,             for kernel 2. [in stage_7_filter_land_cover_l4a_sierras at /home/jk871/fire-regen/src/data/gedi_pipeline.py:420]\n"
     ]
    }
   ],
   "source": [
    "# combined\n",
    "gedi_burned_2x2, gedi_unburned_2x2 = gedi_pipeline.stage_7_filter_land_cover_l4a_sierras(2)"
   ]
  },
  {
   "cell_type": "markdown",
   "metadata": {},
   "source": [
    "### Stage 8 - Match Terrain"
   ]
  },
  {
   "cell_type": "code",
   "execution_count": 12,
   "metadata": {},
   "outputs": [
    {
     "name": "stdout",
     "output_type": "stream",
     "text": [
      "2023-10-25 14:37:32,198 DEBUG: Saving stage 8 processed burned shots as pkl,             for kernel 2. [in stage_8_match_terrain_l4a_sierras at /home/jk871/fire-regen/src/data/gedi_pipeline.py:327]\n",
      "2023-10-25 14:37:43,490 DEBUG: Saving stage 8 processed unburned shots as pkl,             for kernel 2. [in stage_8_match_terrain_l4a_sierras at /home/jk871/fire-regen/src/data/gedi_pipeline.py:334]\n"
     ]
    }
   ],
   "source": [
    "# combined\n",
    "gedi_burned_2x2, gedi_unburned_2x2 = gedi_pipeline.stage_8_match_terrain_l4a_sierras(2)"
   ]
  },
  {
   "cell_type": "code",
   "execution_count": 14,
   "metadata": {},
   "outputs": [
    {
     "data": {
      "text/plain": [
       "492582"
      ]
     },
     "execution_count": 14,
     "metadata": {},
     "output_type": "execute_result"
    }
   ],
   "source": [
    "gedi_burned_2x2.shape[0]"
   ]
  },
  {
   "cell_type": "markdown",
   "metadata": {},
   "source": [
    "### Stage 9 - Match Terrain"
   ]
  },
  {
   "cell_type": "code",
   "execution_count": 2,
   "metadata": {},
   "outputs": [
    {
     "name": "stdout",
     "output_type": "stream",
     "text": [
      "2023-10-17 20:08:29,389 DEBUG: Saving stage 9 processed burned shots as pkl,             for kernel 2. [in stage_9_filter_terrain_l4a_sierras at /home/jk871/fire-regen/src/data/gedi_pipeline.py:275]\n",
      "2023-10-17 20:08:32,241 DEBUG: Saving stage 9 processed unburned shots as pkl,             for kernel 2. [in stage_9_filter_terrain_l4a_sierras at /home/jk871/fire-regen/src/data/gedi_pipeline.py:282]\n"
     ]
    }
   ],
   "source": [
    "gedi_burned_2x2, gedi_unburned_2x2 = gedi_pipeline.stage_9_filter_terrain_l4a_sierras(2)"
   ]
  },
  {
   "cell_type": "markdown",
   "metadata": {},
   "source": [
    "### Stage 10 - Match with NDVI"
   ]
  },
  {
   "cell_type": "code",
   "execution_count": 18,
   "metadata": {},
   "outputs": [
    {
     "name": "stdout",
     "output_type": "stream",
     "text": [
      "2023-10-25 14:53:22,643 DEBUG: Match 2019 [in stage_10_match_with_NDVI at /home/jk871/fire-regen/src/data/gedi_pipeline.py:109]\n",
      "2023-10-25 14:55:31,148 DEBUG: Match 2020 [in stage_10_match_with_NDVI at /home/jk871/fire-regen/src/data/gedi_pipeline.py:112]\n",
      "2023-10-25 14:59:17,209 DEBUG: Match 2021 [in stage_10_match_with_NDVI at /home/jk871/fire-regen/src/data/gedi_pipeline.py:115]\n",
      "2023-10-25 15:05:05,391 DEBUG: Match 2022 [in stage_10_match_with_NDVI at /home/jk871/fire-regen/src/data/gedi_pipeline.py:118]\n",
      "2023-10-25 15:11:54,417 DEBUG: Match 2019 [in stage_10_match_with_NDVI at /home/jk871/fire-regen/src/data/gedi_pipeline.py:130]\n",
      "2023-10-25 15:20:33,550 DEBUG: Match 2020 [in stage_10_match_with_NDVI at /home/jk871/fire-regen/src/data/gedi_pipeline.py:133]\n",
      "2023-10-25 15:29:46,543 DEBUG: Match 2021 [in stage_10_match_with_NDVI at /home/jk871/fire-regen/src/data/gedi_pipeline.py:136]\n",
      "2023-10-25 15:50:23,012 DEBUG: Match 2022 [in stage_10_match_with_NDVI at /home/jk871/fire-regen/src/data/gedi_pipeline.py:139]\n"
     ]
    }
   ],
   "source": [
    "gedi_burned_2x2, gedi_unburned_2x2 = gedi_pipeline.stage_10_match_with_NDVI(2)"
   ]
  },
  {
   "cell_type": "code",
   "execution_count": null,
   "metadata": {},
   "outputs": [],
   "source": []
  }
 ],
 "metadata": {
  "kernelspec": {
   "display_name": "Python 3.10.12 ('drought')",
   "language": "python",
   "name": "python3"
  },
  "language_info": {
   "codemirror_mode": {
    "name": "ipython",
    "version": 3
   },
   "file_extension": ".py",
   "mimetype": "text/x-python",
   "name": "python",
   "nbconvert_exporter": "python",
   "pygments_lexer": "ipython3",
   "version": "3.10.12"
  },
  "orig_nbformat": 4,
  "vscode": {
   "interpreter": {
    "hash": "1f736514a98fcc3e6a7aa48aaac16ce5b1041d2c9fa71bed1e40355e31f675cb"
   }
  }
 },
 "nbformat": 4,
 "nbformat_minor": 2
}
