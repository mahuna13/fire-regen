{
 "cells": [
  {
   "cell_type": "code",
   "execution_count": 4,
   "metadata": {},
   "outputs": [
    {
     "name": "stdout",
     "output_type": "stream",
     "text": [
      "2023-10-17 22:30:52,559 DEBUG: Logger /home/jk871/fire-regen/src/data/gedi_loader.py already set up. [in get_logger at /home/jk871/fire-regen/src/utils/logging_util.py:51]\n",
      "2023-10-17 22:30:52,567 DEBUG: Logger /home/jk871/fire-regen/src/data/gedi_pipeline.py already set up. [in get_logger at /home/jk871/fire-regen/src/utils/logging_util.py:51]\n"
     ]
    },
    {
     "data": {
      "text/plain": [
       "<module 'src.data.gedi_pipeline' from '/home/jk871/fire-regen/src/data/gedi_pipeline.py'>"
      ]
     },
     "execution_count": 4,
     "metadata": {},
     "output_type": "execute_result"
    }
   ],
   "source": [
    "import geopandas as gpd\n",
    "import pandas as pd\n",
    "from src.data import gedi_pipeline\n",
    "from src.data import gedi_loader\n",
    "from src.data.fire_perimeters import FirePerimeters, FirePerimetersDB\n",
    "from src.constants import DATA_PATH, USER_PATH\n",
    "from fastai.tabular.all import save_pickle, load_pickle\n",
    "\n",
    "import importlib\n",
    "importlib.reload(gedi_loader)\n",
    "importlib.reload(gedi_pipeline)\n"
   ]
  },
  {
   "cell_type": "markdown",
   "metadata": {},
   "source": [
    "## Running all stages of the GEDI pipeline"
   ]
  },
  {
   "cell_type": "markdown",
   "metadata": {},
   "source": [
    "### Stage 2 - basic l4a processing"
   ]
  },
  {
   "cell_type": "code",
   "execution_count": 13,
   "metadata": {},
   "outputs": [
    {
     "name": "stdout",
     "output_type": "stream",
     "text": [
      "lala\n",
      "2023-10-14 21:39:22,675 DEBUG: Saving stage 2 processed shots as pickle. [in stage_2_basic_processing_of_l4a_sierras_data at /home/jk871/fire-regen/src/data/gedi_pipeline.py:616]\n"
     ]
    },
    {
     "data": {
      "text/html": [
       "<div>\n",
       "<style scoped>\n",
       "    .dataframe tbody tr th:only-of-type {\n",
       "        vertical-align: middle;\n",
       "    }\n",
       "\n",
       "    .dataframe tbody tr th {\n",
       "        vertical-align: top;\n",
       "    }\n",
       "\n",
       "    .dataframe thead th {\n",
       "        text-align: right;\n",
       "    }\n",
       "</style>\n",
       "<table border=\"1\" class=\"dataframe\">\n",
       "  <thead>\n",
       "    <tr style=\"text-align: right;\">\n",
       "      <th></th>\n",
       "      <th>shot_number</th>\n",
       "      <th>beam_type</th>\n",
       "      <th>absolute_time</th>\n",
       "      <th>longitude</th>\n",
       "      <th>latitude</th>\n",
       "      <th>elevation_difference_tdx</th>\n",
       "      <th>agbd</th>\n",
       "      <th>agbd_se</th>\n",
       "      <th>fhd_normal</th>\n",
       "      <th>pai</th>\n",
       "      <th>...</th>\n",
       "      <th>rh_70</th>\n",
       "      <th>rh_50</th>\n",
       "      <th>rh_25</th>\n",
       "      <th>cover</th>\n",
       "      <th>cover_z</th>\n",
       "      <th>sensitivity_a0</th>\n",
       "      <th>gridded_pft_class</th>\n",
       "      <th>geometry</th>\n",
       "      <th>gedi_year</th>\n",
       "      <th>gedi_month</th>\n",
       "    </tr>\n",
       "  </thead>\n",
       "  <tbody>\n",
       "    <tr>\n",
       "      <th>8</th>\n",
       "      <td>67510600300537066</td>\n",
       "      <td>full</td>\n",
       "      <td>2020-02-20 21:33:39.077822+00:00</td>\n",
       "      <td>-118.950512</td>\n",
       "      <td>35.573568</td>\n",
       "      <td>13.006317</td>\n",
       "      <td>1.271942</td>\n",
       "      <td>3.005720</td>\n",
       "      <td>1.108135</td>\n",
       "      <td>0.044755</td>\n",
       "      <td>...</td>\n",
       "      <td>0.56</td>\n",
       "      <td>-0.26</td>\n",
       "      <td>-1.38</td>\n",
       "      <td>0.022129</td>\n",
       "      <td>[0.022128826, 0.0, 0.0, 0.0, 0.0, 0.0, 0.0, 0.0, 0.0, 0.0, 0.0, 0.0, 0.0, 0.0, 0.0, 0.0, 0.0, 0.0, 0.0, 0.0, 0.0, 0.0, 0.0, 0.0, 0.0, 0.0, 0.0, 0.0, 0.0, 0.0]</td>\n",
       "      <td>0.960939</td>\n",
       "      <td>6</td>\n",
       "      <td>POINT (-118.95051 35.57357)</td>\n",
       "      <td>2020</td>\n",
       "      <td>2</td>\n",
       "    </tr>\n",
       "    <tr>\n",
       "      <th>9</th>\n",
       "      <td>67510600300537067</td>\n",
       "      <td>full</td>\n",
       "      <td>2020-02-20 21:33:39.086086+00:00</td>\n",
       "      <td>-118.950046</td>\n",
       "      <td>35.573222</td>\n",
       "      <td>-1.368866</td>\n",
       "      <td>4.505998</td>\n",
       "      <td>2.994367</td>\n",
       "      <td>1.780912</td>\n",
       "      <td>0.144988</td>\n",
       "      <td>...</td>\n",
       "      <td>0.93</td>\n",
       "      <td>-0.14</td>\n",
       "      <td>-1.57</td>\n",
       "      <td>0.069927</td>\n",
       "      <td>[0.069927275, 0.0034080811, 0.0, 0.0, 0.0, 0.0, 0.0, 0.0, 0.0, 0.0, 0.0, 0.0, 0.0, 0.0, 0.0, 0.0, 0.0, 0.0, 0.0, 0.0, 0.0, 0.0, 0.0, 0.0, 0.0, 0.0, 0.0, 0.0, 0.0, 0.0]</td>\n",
       "      <td>0.961305</td>\n",
       "      <td>6</td>\n",
       "      <td>POINT (-118.95005 35.57322)</td>\n",
       "      <td>2020</td>\n",
       "      <td>2</td>\n",
       "    </tr>\n",
       "    <tr>\n",
       "      <th>10</th>\n",
       "      <td>67510600300537068</td>\n",
       "      <td>full</td>\n",
       "      <td>2020-02-20 21:33:39.094350+00:00</td>\n",
       "      <td>-118.949580</td>\n",
       "      <td>35.572876</td>\n",
       "      <td>-6.435608</td>\n",
       "      <td>2.378324</td>\n",
       "      <td>3.000551</td>\n",
       "      <td>1.428577</td>\n",
       "      <td>0.084072</td>\n",
       "      <td>...</td>\n",
       "      <td>0.74</td>\n",
       "      <td>-0.14</td>\n",
       "      <td>-1.34</td>\n",
       "      <td>0.041165</td>\n",
       "      <td>[0.041164514, 0.0, 0.0, 0.0, 0.0, 0.0, 0.0, 0.0, 0.0, 0.0, 0.0, 0.0, 0.0, 0.0, 0.0, 0.0, 0.0, 0.0, 0.0, 0.0, 0.0, 0.0, 0.0, 0.0, 0.0, 0.0, 0.0, 0.0, 0.0, 0.0]</td>\n",
       "      <td>0.958994</td>\n",
       "      <td>6</td>\n",
       "      <td>POINT (-118.94958 35.57288)</td>\n",
       "      <td>2020</td>\n",
       "      <td>2</td>\n",
       "    </tr>\n",
       "    <tr>\n",
       "      <th>11</th>\n",
       "      <td>67510600300537069</td>\n",
       "      <td>full</td>\n",
       "      <td>2020-02-20 21:33:39.102614+00:00</td>\n",
       "      <td>-118.949117</td>\n",
       "      <td>35.572527</td>\n",
       "      <td>3.049927</td>\n",
       "      <td>1.228436</td>\n",
       "      <td>3.005978</td>\n",
       "      <td>1.049053</td>\n",
       "      <td>0.037528</td>\n",
       "      <td>...</td>\n",
       "      <td>0.52</td>\n",
       "      <td>-0.26</td>\n",
       "      <td>-1.42</td>\n",
       "      <td>0.018589</td>\n",
       "      <td>[0.018588932, 0.0, 0.0, 0.0, 0.0, 0.0, 0.0, 0.0, 0.0, 0.0, 0.0, 0.0, 0.0, 0.0, 0.0, 0.0, 0.0, 0.0, 0.0, 0.0, 0.0, 0.0, 0.0, 0.0, 0.0, 0.0, 0.0, 0.0, 0.0, 0.0]</td>\n",
       "      <td>0.958495</td>\n",
       "      <td>6</td>\n",
       "      <td>POINT (-118.94912 35.57253)</td>\n",
       "      <td>2020</td>\n",
       "      <td>2</td>\n",
       "    </tr>\n",
       "    <tr>\n",
       "      <th>12</th>\n",
       "      <td>67510600300537070</td>\n",
       "      <td>full</td>\n",
       "      <td>2020-02-20 21:33:39.110878+00:00</td>\n",
       "      <td>-118.948652</td>\n",
       "      <td>35.572180</td>\n",
       "      <td>-1.445526</td>\n",
       "      <td>2.014405</td>\n",
       "      <td>3.002018</td>\n",
       "      <td>1.530440</td>\n",
       "      <td>0.082017</td>\n",
       "      <td>...</td>\n",
       "      <td>0.71</td>\n",
       "      <td>-0.18</td>\n",
       "      <td>-1.34</td>\n",
       "      <td>0.040179</td>\n",
       "      <td>[0.04017861, 0.0, 0.0, 0.0, 0.0, 0.0, 0.0, 0.0, 0.0, 0.0, 0.0, 0.0, 0.0, 0.0, 0.0, 0.0, 0.0, 0.0, 0.0, 0.0, 0.0, 0.0, 0.0, 0.0, 0.0, 0.0, 0.0, 0.0, 0.0, 0.0]</td>\n",
       "      <td>0.959801</td>\n",
       "      <td>6</td>\n",
       "      <td>POINT (-118.94865 35.57218)</td>\n",
       "      <td>2020</td>\n",
       "      <td>2</td>\n",
       "    </tr>\n",
       "    <tr>\n",
       "      <th>...</th>\n",
       "      <td>...</td>\n",
       "      <td>...</td>\n",
       "      <td>...</td>\n",
       "      <td>...</td>\n",
       "      <td>...</td>\n",
       "      <td>...</td>\n",
       "      <td>...</td>\n",
       "      <td>...</td>\n",
       "      <td>...</td>\n",
       "      <td>...</td>\n",
       "      <td>...</td>\n",
       "      <td>...</td>\n",
       "      <td>...</td>\n",
       "      <td>...</td>\n",
       "      <td>...</td>\n",
       "      <td>...</td>\n",
       "      <td>...</td>\n",
       "      <td>...</td>\n",
       "      <td>...</td>\n",
       "      <td>...</td>\n",
       "      <td>...</td>\n",
       "    </tr>\n",
       "    <tr>\n",
       "      <th>16741116</th>\n",
       "      <td>215450800300288921</td>\n",
       "      <td>full</td>\n",
       "      <td>2022-10-02 03:56:02.310842+00:00</td>\n",
       "      <td>-119.158988</td>\n",
       "      <td>36.682654</td>\n",
       "      <td>4.067047</td>\n",
       "      <td>66.679573</td>\n",
       "      <td>3.003209</td>\n",
       "      <td>2.582520</td>\n",
       "      <td>0.370241</td>\n",
       "      <td>...</td>\n",
       "      <td>3.47</td>\n",
       "      <td>0.93</td>\n",
       "      <td>-1.38</td>\n",
       "      <td>0.168965</td>\n",
       "      <td>[0.16818945, 0.14841162, 0.07183538, 0.0018787247, 0.0, 0.0, 0.0, 0.0, 0.0, 0.0, 0.0, 0.0, 0.0, 0.0, 0.0, 0.0, 0.0, 0.0, 0.0, 0.0, 0.0, 0.0, 0.0, 0.0, 0.0, 0.0, 0.0, 0.0, 0.0, 0.0]</td>\n",
       "      <td>0.968020</td>\n",
       "      <td>6</td>\n",
       "      <td>POINT (-119.15899 36.68265)</td>\n",
       "      <td>2022</td>\n",
       "      <td>10</td>\n",
       "    </tr>\n",
       "    <tr>\n",
       "      <th>16741117</th>\n",
       "      <td>215450800300288922</td>\n",
       "      <td>full</td>\n",
       "      <td>2022-10-02 03:56:02.319106+00:00</td>\n",
       "      <td>-119.158513</td>\n",
       "      <td>36.682316</td>\n",
       "      <td>-10.450043</td>\n",
       "      <td>37.816845</td>\n",
       "      <td>2.985407</td>\n",
       "      <td>2.318726</td>\n",
       "      <td>0.521166</td>\n",
       "      <td>...</td>\n",
       "      <td>3.44</td>\n",
       "      <td>1.27</td>\n",
       "      <td>-1.34</td>\n",
       "      <td>0.229338</td>\n",
       "      <td>[0.2293383, 0.104597256, 0.019259416, 0.0, 0.0, 0.0, 0.0, 0.0, 0.0, 0.0, 0.0, 0.0, 0.0, 0.0, 0.0, 0.0, 0.0, 0.0, 0.0, 0.0, 0.0, 0.0, 0.0, 0.0, 0.0, 0.0, 0.0, 0.0, 0.0, 0.0]</td>\n",
       "      <td>0.964861</td>\n",
       "      <td>6</td>\n",
       "      <td>POINT (-119.15851 36.68232)</td>\n",
       "      <td>2022</td>\n",
       "      <td>10</td>\n",
       "    </tr>\n",
       "    <tr>\n",
       "      <th>16741118</th>\n",
       "      <td>215450800300288923</td>\n",
       "      <td>full</td>\n",
       "      <td>2022-10-02 03:56:02.327370+00:00</td>\n",
       "      <td>-119.158026</td>\n",
       "      <td>36.681969</td>\n",
       "      <td>16.175598</td>\n",
       "      <td>54.210384</td>\n",
       "      <td>2.994337</td>\n",
       "      <td>2.545603</td>\n",
       "      <td>0.820301</td>\n",
       "      <td>...</td>\n",
       "      <td>5.16</td>\n",
       "      <td>2.13</td>\n",
       "      <td>-0.74</td>\n",
       "      <td>0.336316</td>\n",
       "      <td>[0.33631602, 0.22280551, 0.058055807, 0.0, 0.0, 0.0, 0.0, 0.0, 0.0, 0.0, 0.0, 0.0, 0.0, 0.0, 0.0, 0.0, 0.0, 0.0, 0.0, 0.0, 0.0, 0.0, 0.0, 0.0, 0.0, 0.0, 0.0, 0.0, 0.0, 0.0]</td>\n",
       "      <td>0.966311</td>\n",
       "      <td>6</td>\n",
       "      <td>POINT (-119.15803 36.68197)</td>\n",
       "      <td>2022</td>\n",
       "      <td>10</td>\n",
       "    </tr>\n",
       "    <tr>\n",
       "      <th>16741119</th>\n",
       "      <td>215450800300288924</td>\n",
       "      <td>full</td>\n",
       "      <td>2022-10-02 03:56:02.335634+00:00</td>\n",
       "      <td>-119.157551</td>\n",
       "      <td>36.681631</td>\n",
       "      <td>-5.224457</td>\n",
       "      <td>54.210384</td>\n",
       "      <td>2.994337</td>\n",
       "      <td>2.528261</td>\n",
       "      <td>0.644405</td>\n",
       "      <td>...</td>\n",
       "      <td>4.11</td>\n",
       "      <td>1.42</td>\n",
       "      <td>-0.67</td>\n",
       "      <td>0.275361</td>\n",
       "      <td>[0.27536142, 0.17869474, 0.049390752, 0.0, 0.0, 0.0, 0.0, 0.0, 0.0, 0.0, 0.0, 0.0, 0.0, 0.0, 0.0, 0.0, 0.0, 0.0, 0.0, 0.0, 0.0, 0.0, 0.0, 0.0, 0.0, 0.0, 0.0, 0.0, 0.0, 0.0]</td>\n",
       "      <td>0.965575</td>\n",
       "      <td>6</td>\n",
       "      <td>POINT (-119.15755 36.68163)</td>\n",
       "      <td>2022</td>\n",
       "      <td>10</td>\n",
       "    </tr>\n",
       "    <tr>\n",
       "      <th>16741120</th>\n",
       "      <td>215450800300288925</td>\n",
       "      <td>full</td>\n",
       "      <td>2022-10-02 03:56:02.343898+00:00</td>\n",
       "      <td>-119.157066</td>\n",
       "      <td>36.681286</td>\n",
       "      <td>-19.119080</td>\n",
       "      <td>10.075660</td>\n",
       "      <td>2.986305</td>\n",
       "      <td>0.636514</td>\n",
       "      <td>0.010246</td>\n",
       "      <td>...</td>\n",
       "      <td>0.59</td>\n",
       "      <td>-1.30</td>\n",
       "      <td>-4.45</td>\n",
       "      <td>0.005110</td>\n",
       "      <td>[0.0051098005, 0.0, 0.0, 0.0, 0.0, 0.0, 0.0, 0.0, 0.0, 0.0, 0.0, 0.0, 0.0, 0.0, 0.0, 0.0, 0.0, 0.0, 0.0, 0.0, 0.0, 0.0, 0.0, 0.0, 0.0, 0.0, 0.0, 0.0, 0.0, 0.0]</td>\n",
       "      <td>0.964326</td>\n",
       "      <td>6</td>\n",
       "      <td>POINT (-119.15707 36.68129)</td>\n",
       "      <td>2022</td>\n",
       "      <td>10</td>\n",
       "    </tr>\n",
       "  </tbody>\n",
       "</table>\n",
       "<p>10684625 rows × 23 columns</p>\n",
       "</div>"
      ],
      "text/plain": [
       "                 shot_number beam_type                    absolute_time  \\\n",
       "8          67510600300537066      full 2020-02-20 21:33:39.077822+00:00   \n",
       "9          67510600300537067      full 2020-02-20 21:33:39.086086+00:00   \n",
       "10         67510600300537068      full 2020-02-20 21:33:39.094350+00:00   \n",
       "11         67510600300537069      full 2020-02-20 21:33:39.102614+00:00   \n",
       "12         67510600300537070      full 2020-02-20 21:33:39.110878+00:00   \n",
       "...                      ...       ...                              ...   \n",
       "16741116  215450800300288921      full 2022-10-02 03:56:02.310842+00:00   \n",
       "16741117  215450800300288922      full 2022-10-02 03:56:02.319106+00:00   \n",
       "16741118  215450800300288923      full 2022-10-02 03:56:02.327370+00:00   \n",
       "16741119  215450800300288924      full 2022-10-02 03:56:02.335634+00:00   \n",
       "16741120  215450800300288925      full 2022-10-02 03:56:02.343898+00:00   \n",
       "\n",
       "           longitude   latitude  elevation_difference_tdx       agbd  \\\n",
       "8        -118.950512  35.573568                 13.006317   1.271942   \n",
       "9        -118.950046  35.573222                 -1.368866   4.505998   \n",
       "10       -118.949580  35.572876                 -6.435608   2.378324   \n",
       "11       -118.949117  35.572527                  3.049927   1.228436   \n",
       "12       -118.948652  35.572180                 -1.445526   2.014405   \n",
       "...              ...        ...                       ...        ...   \n",
       "16741116 -119.158988  36.682654                  4.067047  66.679573   \n",
       "16741117 -119.158513  36.682316                -10.450043  37.816845   \n",
       "16741118 -119.158026  36.681969                 16.175598  54.210384   \n",
       "16741119 -119.157551  36.681631                 -5.224457  54.210384   \n",
       "16741120 -119.157066  36.681286                -19.119080  10.075660   \n",
       "\n",
       "           agbd_se  fhd_normal       pai  ... rh_70 rh_50  rh_25     cover  \\\n",
       "8         3.005720    1.108135  0.044755  ...  0.56 -0.26  -1.38  0.022129   \n",
       "9         2.994367    1.780912  0.144988  ...  0.93 -0.14  -1.57  0.069927   \n",
       "10        3.000551    1.428577  0.084072  ...  0.74 -0.14  -1.34  0.041165   \n",
       "11        3.005978    1.049053  0.037528  ...  0.52 -0.26  -1.42  0.018589   \n",
       "12        3.002018    1.530440  0.082017  ...  0.71 -0.18  -1.34  0.040179   \n",
       "...            ...         ...       ...  ...   ...   ...    ...       ...   \n",
       "16741116  3.003209    2.582520  0.370241  ...  3.47  0.93  -1.38  0.168965   \n",
       "16741117  2.985407    2.318726  0.521166  ...  3.44  1.27  -1.34  0.229338   \n",
       "16741118  2.994337    2.545603  0.820301  ...  5.16  2.13  -0.74  0.336316   \n",
       "16741119  2.994337    2.528261  0.644405  ...  4.11  1.42  -0.67  0.275361   \n",
       "16741120  2.986305    0.636514  0.010246  ...  0.59 -1.30  -4.45  0.005110   \n",
       "\n",
       "                                                                                                                                                                                       cover_z  \\\n",
       "8                               [0.022128826, 0.0, 0.0, 0.0, 0.0, 0.0, 0.0, 0.0, 0.0, 0.0, 0.0, 0.0, 0.0, 0.0, 0.0, 0.0, 0.0, 0.0, 0.0, 0.0, 0.0, 0.0, 0.0, 0.0, 0.0, 0.0, 0.0, 0.0, 0.0, 0.0]   \n",
       "9                      [0.069927275, 0.0034080811, 0.0, 0.0, 0.0, 0.0, 0.0, 0.0, 0.0, 0.0, 0.0, 0.0, 0.0, 0.0, 0.0, 0.0, 0.0, 0.0, 0.0, 0.0, 0.0, 0.0, 0.0, 0.0, 0.0, 0.0, 0.0, 0.0, 0.0, 0.0]   \n",
       "10                              [0.041164514, 0.0, 0.0, 0.0, 0.0, 0.0, 0.0, 0.0, 0.0, 0.0, 0.0, 0.0, 0.0, 0.0, 0.0, 0.0, 0.0, 0.0, 0.0, 0.0, 0.0, 0.0, 0.0, 0.0, 0.0, 0.0, 0.0, 0.0, 0.0, 0.0]   \n",
       "11                              [0.018588932, 0.0, 0.0, 0.0, 0.0, 0.0, 0.0, 0.0, 0.0, 0.0, 0.0, 0.0, 0.0, 0.0, 0.0, 0.0, 0.0, 0.0, 0.0, 0.0, 0.0, 0.0, 0.0, 0.0, 0.0, 0.0, 0.0, 0.0, 0.0, 0.0]   \n",
       "12                               [0.04017861, 0.0, 0.0, 0.0, 0.0, 0.0, 0.0, 0.0, 0.0, 0.0, 0.0, 0.0, 0.0, 0.0, 0.0, 0.0, 0.0, 0.0, 0.0, 0.0, 0.0, 0.0, 0.0, 0.0, 0.0, 0.0, 0.0, 0.0, 0.0, 0.0]   \n",
       "...                                                                                                                                                                                        ...   \n",
       "16741116  [0.16818945, 0.14841162, 0.07183538, 0.0018787247, 0.0, 0.0, 0.0, 0.0, 0.0, 0.0, 0.0, 0.0, 0.0, 0.0, 0.0, 0.0, 0.0, 0.0, 0.0, 0.0, 0.0, 0.0, 0.0, 0.0, 0.0, 0.0, 0.0, 0.0, 0.0, 0.0]   \n",
       "16741117          [0.2293383, 0.104597256, 0.019259416, 0.0, 0.0, 0.0, 0.0, 0.0, 0.0, 0.0, 0.0, 0.0, 0.0, 0.0, 0.0, 0.0, 0.0, 0.0, 0.0, 0.0, 0.0, 0.0, 0.0, 0.0, 0.0, 0.0, 0.0, 0.0, 0.0, 0.0]   \n",
       "16741118          [0.33631602, 0.22280551, 0.058055807, 0.0, 0.0, 0.0, 0.0, 0.0, 0.0, 0.0, 0.0, 0.0, 0.0, 0.0, 0.0, 0.0, 0.0, 0.0, 0.0, 0.0, 0.0, 0.0, 0.0, 0.0, 0.0, 0.0, 0.0, 0.0, 0.0, 0.0]   \n",
       "16741119          [0.27536142, 0.17869474, 0.049390752, 0.0, 0.0, 0.0, 0.0, 0.0, 0.0, 0.0, 0.0, 0.0, 0.0, 0.0, 0.0, 0.0, 0.0, 0.0, 0.0, 0.0, 0.0, 0.0, 0.0, 0.0, 0.0, 0.0, 0.0, 0.0, 0.0, 0.0]   \n",
       "16741120                       [0.0051098005, 0.0, 0.0, 0.0, 0.0, 0.0, 0.0, 0.0, 0.0, 0.0, 0.0, 0.0, 0.0, 0.0, 0.0, 0.0, 0.0, 0.0, 0.0, 0.0, 0.0, 0.0, 0.0, 0.0, 0.0, 0.0, 0.0, 0.0, 0.0, 0.0]   \n",
       "\n",
       "          sensitivity_a0  gridded_pft_class                     geometry  \\\n",
       "8               0.960939                  6  POINT (-118.95051 35.57357)   \n",
       "9               0.961305                  6  POINT (-118.95005 35.57322)   \n",
       "10              0.958994                  6  POINT (-118.94958 35.57288)   \n",
       "11              0.958495                  6  POINT (-118.94912 35.57253)   \n",
       "12              0.959801                  6  POINT (-118.94865 35.57218)   \n",
       "...                  ...                ...                          ...   \n",
       "16741116        0.968020                  6  POINT (-119.15899 36.68265)   \n",
       "16741117        0.964861                  6  POINT (-119.15851 36.68232)   \n",
       "16741118        0.966311                  6  POINT (-119.15803 36.68197)   \n",
       "16741119        0.965575                  6  POINT (-119.15755 36.68163)   \n",
       "16741120        0.964326                  6  POINT (-119.15707 36.68129)   \n",
       "\n",
       "          gedi_year  gedi_month  \n",
       "8              2020           2  \n",
       "9              2020           2  \n",
       "10             2020           2  \n",
       "11             2020           2  \n",
       "12             2020           2  \n",
       "...             ...         ...  \n",
       "16741116       2022          10  \n",
       "16741117       2022          10  \n",
       "16741118       2022          10  \n",
       "16741119       2022          10  \n",
       "16741120       2022          10  \n",
       "\n",
       "[10684625 rows x 23 columns]"
      ]
     },
     "execution_count": 13,
     "metadata": {},
     "output_type": "execute_result"
    }
   ],
   "source": [
    "# Combined shots\n",
    "gedi = gedi_pipeline.stage_2_basic_processing_of_l4a_sierras_data(save=True)"
   ]
  },
  {
   "cell_type": "markdown",
   "metadata": {},
   "source": [
    "### Stage 3 - Match with MTBS burn raster\n",
    "\n",
    "This can be done with a 3x3 or 2x2 kernel. 3x3 gives us better precision and guarantees data matching, while 2x2 has lower accuracy but preserves more data points."
   ]
  },
  {
   "cell_type": "code",
   "execution_count": 16,
   "metadata": {},
   "outputs": [
    {
     "name": "stdout",
     "output_type": "stream",
     "text": [
      "2023-10-14 21:55:58,401 DEBUG: Saving stage 3 processed shots as pickle, for kernel 2. [in stage_3_match_burn_raster_l4a_sierras at /home/jk871/fire-regen/src/data/gedi_pipeline.py:589]\n"
     ]
    }
   ],
   "source": [
    "# 2x2 kernel - combined shots\n",
    "gedi_2x2 = gedi_pipeline.stage_3_match_burn_raster_l4a_sierras(2)"
   ]
  },
  {
   "cell_type": "markdown",
   "metadata": {},
   "source": [
    "### Stage 3B - Match with fire perimeters from CalFire\n",
    "\n",
    "These include fires before 1984, as well as fires that are smaller than 1000 acres - which is around 4km^2. This may take a while because we're doing spatial joins between fire perimeters and 9 million GEDI shots."
   ]
  },
  {
   "cell_type": "code",
   "execution_count": 18,
   "metadata": {},
   "outputs": [],
   "source": [
    "# Get Fire perimeter data\n",
    "sierras = gpd.read_file(\"../../data/shapefiles/sierras_convex_hull.shp\")\n",
    "firep_db = FirePerimetersDB('../../data/fire_perimeters.gdb/')\n",
    "sierra_firep = FirePerimeters(firep_db).filter_within_geometry(sierras)"
   ]
  },
  {
   "cell_type": "code",
   "execution_count": null,
   "metadata": {},
   "outputs": [],
   "source": [
    "#TODO: Consider doing this. For now, we won't because the processing time of geo \n",
    "# spatial matching between all of these fires will be time consuming. Instead, let's\n",
    "# focus on fires > 1000 acres that are part of MTBS DB."
   ]
  },
  {
   "cell_type": "markdown",
   "metadata": {},
   "source": [
    "### Stage 4 - Filter based on matching with burn raster"
   ]
  },
  {
   "cell_type": "markdown",
   "metadata": {},
   "source": [
    "For 3x3 shots, after filtering, we end up with 7,410,955 unburned shots, and 630,201 burned shots. Burned shots in this case include also the ones\n",
    "that burned more than once."
   ]
  },
  {
   "cell_type": "code",
   "execution_count": 6,
   "metadata": {},
   "outputs": [
    {
     "name": "stdout",
     "output_type": "stream",
     "text": [
      "2023-10-07 23:11:14,257 DEBUG: Read in intermediate data from stage 3. [in stage_4_filter_burns_l4a_sierras at /home/jk871/fire-regen/src/data/gedi_pipeline.py:474]\n",
      "2023-10-07 23:11:49,996 DEBUG: Filter burn areas. [in stage_4_filter_burns_l4a_sierras at /home/jk871/fire-regen/src/data/gedi_pipeline.py:477]\n",
      "2023-10-07 23:11:51,652 DEBUG: Excluded shots on the burn boundaries, shots remaining:         9081829 [in divide_shots_into_burned_and_unburned at /home/jk871/fire-regen/src/data/gedi_pipeline.py:529]\n",
      "2023-10-07 23:11:52,017 DEBUG: Number of GEDI shots that burned at least once:                  1576860 [in divide_shots_into_burned_and_unburned at /home/jk871/fire-regen/src/data/gedi_pipeline.py:534]\n",
      "2023-10-07 23:11:53,178 DEBUG: Number of GEDI shots that never burned since 1984:         7410955 [in divide_shots_into_burned_and_unburned at /home/jk871/fire-regen/src/data/gedi_pipeline.py:541]\n",
      "2023-10-07 23:11:53,596 DEBUG: Number of GEDI shots that have a perfect match with burn                    raster (all surrounding pixels have the same severity):                    630201 [in exclude_shots_on_burn_boundaries at /home/jk871/fire-regen/src/data/gedi_pipeline.py:567]\n",
      "2023-10-07 23:11:54,283 DEBUG: Saving stage 4 processed burned shots as pkl,             for kernel 3. [in stage_4_filter_burns_l4a_sierras at /home/jk871/fire-regen/src/data/gedi_pipeline.py:481]\n",
      "2023-10-07 23:11:54,925 DEBUG: Saving stage 4 processed unburned shots as pkl,             for kernel 3. [in stage_4_filter_burns_l4a_sierras at /home/jk871/fire-regen/src/data/gedi_pipeline.py:488]\n"
     ]
    }
   ],
   "source": [
    "# 3x3 kernel\n",
    "gedi_3x3 = gedi_pipeline.stage_4_filter_burns_l4a_sierras(3)"
   ]
  },
  {
   "cell_type": "markdown",
   "metadata": {},
   "source": [
    "For 2x2 shots, after filtering, we end up with 7,434,797 unburned shots, and 1,097,405 burned shots. Burned shots in this case include also the ones\n",
    "that burned more than once."
   ]
  },
  {
   "cell_type": "code",
   "execution_count": 7,
   "metadata": {},
   "outputs": [
    {
     "name": "stdout",
     "output_type": "stream",
     "text": [
      "2023-10-07 23:13:32,486 DEBUG: Read in intermediate data from stage 3. [in stage_4_filter_burns_l4a_sierras at /home/jk871/fire-regen/src/data/gedi_pipeline.py:474]\n",
      "2023-10-07 23:14:07,180 DEBUG: Filter burn areas. [in stage_4_filter_burns_l4a_sierras at /home/jk871/fire-regen/src/data/gedi_pipeline.py:477]\n",
      "2023-10-07 23:14:08,783 DEBUG: Excluded shots on the burn boundaries, shots remaining:         9386970 [in divide_shots_into_burned_and_unburned at /home/jk871/fire-regen/src/data/gedi_pipeline.py:529]\n",
      "2023-10-07 23:14:09,169 DEBUG: Number of GEDI shots that burned at least once:                  1785162 [in divide_shots_into_burned_and_unburned at /home/jk871/fire-regen/src/data/gedi_pipeline.py:534]\n",
      "2023-10-07 23:14:10,297 DEBUG: Number of GEDI shots that never burned since 1984:         7434797 [in divide_shots_into_burned_and_unburned at /home/jk871/fire-regen/src/data/gedi_pipeline.py:541]\n",
      "2023-10-07 23:14:10,782 DEBUG: Number of GEDI shots that have a perfect match with burn                    raster (all surrounding pixels have the same severity):                    1097405 [in exclude_shots_on_burn_boundaries at /home/jk871/fire-regen/src/data/gedi_pipeline.py:567]\n",
      "2023-10-07 23:14:11,494 DEBUG: Saving stage 4 processed burned shots as pkl,             for kernel 2. [in stage_4_filter_burns_l4a_sierras at /home/jk871/fire-regen/src/data/gedi_pipeline.py:481]\n",
      "2023-10-07 23:14:12,486 DEBUG: Saving stage 4 processed unburned shots as pkl,             for kernel 2. [in stage_4_filter_burns_l4a_sierras at /home/jk871/fire-regen/src/data/gedi_pipeline.py:488]\n"
     ]
    }
   ],
   "source": [
    "# 2x2 kernel\n",
    "gedi_2x2 = gedi_pipeline.stage_4_filter_burns_l4a_sierras(2)"
   ]
  },
  {
   "cell_type": "code",
   "execution_count": 18,
   "metadata": {},
   "outputs": [
    {
     "name": "stdout",
     "output_type": "stream",
     "text": [
      "2023-10-14 22:07:28,437 DEBUG: Read in intermediate data from stage 3. [in stage_4_filter_burns_l4a_sierras at /home/jk871/fire-regen/src/data/gedi_pipeline.py:474]\n",
      "2023-10-14 22:12:10,841 DEBUG: Filter burn areas. [in stage_4_filter_burns_l4a_sierras at /home/jk871/fire-regen/src/data/gedi_pipeline.py:477]\n",
      "2023-10-14 22:12:23,777 DEBUG: Excluded shots on the burn boundaries, shots remaining:         10146077 [in divide_shots_into_burned_and_unburned at /home/jk871/fire-regen/src/data/gedi_pipeline.py:529]\n",
      "2023-10-14 22:12:28,219 DEBUG: Number of GEDI shots that burned at least once:                  1941890 [in divide_shots_into_burned_and_unburned at /home/jk871/fire-regen/src/data/gedi_pipeline.py:534]\n",
      "2023-10-14 22:13:08,184 DEBUG: Number of GEDI shots that never burned since 1984:         8024096 [in divide_shots_into_burned_and_unburned at /home/jk871/fire-regen/src/data/gedi_pipeline.py:541]\n",
      "2023-10-14 22:13:14,926 DEBUG: Number of GEDI shots that have a perfect match with burn                    raster (all surrounding pixels have the same severity):                    1193509 [in exclude_shots_on_burn_boundaries at /home/jk871/fire-regen/src/data/gedi_pipeline.py:567]\n",
      "2023-10-14 22:13:17,319 DEBUG: Saving stage 4 processed burned shots as pkl,             for kernel 2. [in stage_4_filter_burns_l4a_sierras at /home/jk871/fire-regen/src/data/gedi_pipeline.py:481]\n",
      "2023-10-14 22:13:25,931 DEBUG: Saving stage 4 processed unburned shots as pkl,             for kernel 2. [in stage_4_filter_burns_l4a_sierras at /home/jk871/fire-regen/src/data/gedi_pipeline.py:488]\n"
     ]
    }
   ],
   "source": [
    "# 2x2 kernel - combined\n",
    "gedi_2x2 = gedi_pipeline.stage_4_filter_burns_l4a_sierras(2)"
   ]
  },
  {
   "cell_type": "markdown",
   "metadata": {},
   "source": [
    "### Stage 5 - filter for regrowth"
   ]
  },
  {
   "cell_type": "markdown",
   "metadata": {},
   "source": [
    "Burned shots left - 436,817."
   ]
  },
  {
   "cell_type": "code",
   "execution_count": 34,
   "metadata": {},
   "outputs": [
    {
     "name": "stdout",
     "output_type": "stream",
     "text": [
      "2023-06-15 21:23:39,298 DEBUG: Number of shots that happened after fires:                    446058 [in filter_shots_for_regrowth_analysis at /home/jk871/fire-regen/src/data/gedi_pipeline.py:331]\n",
      "2023-06-15 21:23:39,369 DEBUG: Number of shots that burned in 2-4 categories:                    436817 [in filter_shots_for_regrowth_analysis at /home/jk871/fire-regen/src/data/gedi_pipeline.py:336]\n",
      "2023-06-15 21:23:39,378 DEBUG: Saving stage 5 processed burned shots as pkl,             for kernel 3. [in stage_5_filter_for_regrowth_l4a_sierras at /home/jk871/fire-regen/src/data/gedi_pipeline.py:310]\n",
      "2023-06-15 21:23:40,000 DEBUG: Saving stage 5 processed unburned shots as pkl,             for kernel 3. [in stage_5_filter_for_regrowth_l4a_sierras at /home/jk871/fire-regen/src/data/gedi_pipeline.py:317]\n"
     ]
    }
   ],
   "source": [
    "gedi_burned_3x3, gedi_unburned_3x3 = gedi_pipeline.stage_5_filter_for_regrowth_l4a_sierras(3)"
   ]
  },
  {
   "cell_type": "markdown",
   "metadata": {},
   "source": [
    "Burned shots left - 755,887."
   ]
  },
  {
   "cell_type": "code",
   "execution_count": 35,
   "metadata": {},
   "outputs": [
    {
     "name": "stdout",
     "output_type": "stream",
     "text": [
      "2023-06-15 21:24:00,342 DEBUG: Number of shots that happened after fires:                    774368 [in filter_shots_for_regrowth_analysis at /home/jk871/fire-regen/src/data/gedi_pipeline.py:331]\n",
      "2023-06-15 21:24:00,456 DEBUG: Number of shots that burned in 2-4 categories:                    755887 [in filter_shots_for_regrowth_analysis at /home/jk871/fire-regen/src/data/gedi_pipeline.py:336]\n",
      "2023-06-15 21:24:00,471 DEBUG: Saving stage 5 processed burned shots as pkl,             for kernel 2. [in stage_5_filter_for_regrowth_l4a_sierras at /home/jk871/fire-regen/src/data/gedi_pipeline.py:310]\n",
      "2023-06-15 21:24:01,445 DEBUG: Saving stage 5 processed unburned shots as pkl,             for kernel 2. [in stage_5_filter_for_regrowth_l4a_sierras at /home/jk871/fire-regen/src/data/gedi_pipeline.py:317]\n"
     ]
    }
   ],
   "source": [
    "gedi_burned_2x2, gedi_unburned_2x2 = gedi_pipeline.stage_5_filter_for_regrowth_l4a_sierras(2)"
   ]
  },
  {
   "cell_type": "code",
   "execution_count": 20,
   "metadata": {},
   "outputs": [
    {
     "name": "stdout",
     "output_type": "stream",
     "text": [
      "2023-10-14 22:26:39,619 DEBUG: Number of shots that happened after fires:                    858878 [in filter_shots_for_regrowth_analysis at /home/jk871/fire-regen/src/data/gedi_pipeline.py:445]\n",
      "2023-10-14 22:26:39,966 DEBUG: Number of shots that burned in 2-4 categories:                    836766 [in filter_shots_for_regrowth_analysis at /home/jk871/fire-regen/src/data/gedi_pipeline.py:450]\n",
      "2023-10-14 22:26:40,777 DEBUG: Saving stage 5 processed burned shots as pkl,             for kernel 2. [in stage_5_filter_for_regrowth_l4a_sierras at /home/jk871/fire-regen/src/data/gedi_pipeline.py:424]\n",
      "2023-10-14 22:26:46,369 DEBUG: Saving stage 5 processed unburned shots as pkl,             for kernel 2. [in stage_5_filter_for_regrowth_l4a_sierras at /home/jk871/fire-regen/src/data/gedi_pipeline.py:431]\n"
     ]
    }
   ],
   "source": [
    "# combined\n",
    "gedi_burned_2x2, gedi_unburned_2x2 = gedi_pipeline.stage_5_filter_for_regrowth_l4a_sierras(2)"
   ]
  },
  {
   "cell_type": "markdown",
   "metadata": {},
   "source": [
    "### Stage 6 - Match with Land Cover"
   ]
  },
  {
   "cell_type": "code",
   "execution_count": 40,
   "metadata": {},
   "outputs": [
    {
     "name": "stdout",
     "output_type": "stream",
     "text": [
      "2023-06-15 21:33:49,375 DEBUG: Matching land cover for year 2017. [in match_burn_landcover at /home/jk871/fire-regen/src/data/gedi_raster_matching.py:88]\n",
      "2023-06-15 21:33:53,573 DEBUG: Matching land cover for year 1996. [in match_burn_landcover at /home/jk871/fire-regen/src/data/gedi_raster_matching.py:88]\n",
      "2023-06-15 21:33:55,485 DEBUG: Matching land cover for year 2004. [in match_burn_landcover at /home/jk871/fire-regen/src/data/gedi_raster_matching.py:88]\n",
      "2023-06-15 21:33:57,418 DEBUG: Matching land cover for year 1995. [in match_burn_landcover at /home/jk871/fire-regen/src/data/gedi_raster_matching.py:88]\n",
      "2023-06-15 21:33:59,024 DEBUG: Matching land cover for year 2015. [in match_burn_landcover at /home/jk871/fire-regen/src/data/gedi_raster_matching.py:88]\n",
      "2023-06-15 21:34:01,550 DEBUG: Matching land cover for year 1991. [in match_burn_landcover at /home/jk871/fire-regen/src/data/gedi_raster_matching.py:88]\n",
      "2023-06-15 21:34:03,495 DEBUG: Matching land cover for year 1985. [in match_burn_landcover at /home/jk871/fire-regen/src/data/gedi_raster_matching.py:88]\n",
      "2023-06-15 21:34:05,810 DEBUG: Matching land cover for year 2001. [in match_burn_landcover at /home/jk871/fire-regen/src/data/gedi_raster_matching.py:88]\n",
      "2023-06-15 21:34:08,023 DEBUG: Matching land cover for year 2018. [in match_burn_landcover at /home/jk871/fire-regen/src/data/gedi_raster_matching.py:88]\n",
      "2023-06-15 21:34:11,354 DEBUG: Matching land cover for year 2020. [in match_burn_landcover at /home/jk871/fire-regen/src/data/gedi_raster_matching.py:88]\n",
      "2023-06-15 21:34:15,864 DEBUG: Matching land cover for year 1984. [in match_burn_landcover at /home/jk871/fire-regen/src/data/gedi_raster_matching.py:88]\n",
      "2023-06-15 21:34:16,388 DEBUG: Matching land cover for year 1988. [in match_burn_landcover at /home/jk871/fire-regen/src/data/gedi_raster_matching.py:88]\n",
      "2023-06-15 21:34:18,761 DEBUG: Matching land cover for year 1999. [in match_burn_landcover at /home/jk871/fire-regen/src/data/gedi_raster_matching.py:88]\n",
      "2023-06-15 21:34:21,184 DEBUG: Matching land cover for year 2019. [in match_burn_landcover at /home/jk871/fire-regen/src/data/gedi_raster_matching.py:88]\n",
      "2023-06-15 21:34:23,787 DEBUG: Matching land cover for year 2012. [in match_burn_landcover at /home/jk871/fire-regen/src/data/gedi_raster_matching.py:88]\n",
      "2023-06-15 21:34:27,257 DEBUG: Matching land cover for year 2006. [in match_burn_landcover at /home/jk871/fire-regen/src/data/gedi_raster_matching.py:88]\n",
      "2023-06-15 21:34:29,663 DEBUG: Matching land cover for year 1987. [in match_burn_landcover at /home/jk871/fire-regen/src/data/gedi_raster_matching.py:88]\n",
      "2023-06-15 21:34:32,065 DEBUG: Matching land cover for year 2011. [in match_burn_landcover at /home/jk871/fire-regen/src/data/gedi_raster_matching.py:88]\n",
      "2023-06-15 21:34:34,427 DEBUG: Matching land cover for year 2007. [in match_burn_landcover at /home/jk871/fire-regen/src/data/gedi_raster_matching.py:88]\n",
      "2023-06-15 21:34:37,513 DEBUG: Matching land cover for year 1992. [in match_burn_landcover at /home/jk871/fire-regen/src/data/gedi_raster_matching.py:88]\n",
      "2023-06-15 21:34:41,432 DEBUG: Matching land cover for year 2016. [in match_burn_landcover at /home/jk871/fire-regen/src/data/gedi_raster_matching.py:88]\n",
      "2023-06-15 21:34:45,218 DEBUG: Matching land cover for year 1994. [in match_burn_landcover at /home/jk871/fire-regen/src/data/gedi_raster_matching.py:88]\n",
      "2023-06-15 21:34:48,503 DEBUG: Matching land cover for year 2008. [in match_burn_landcover at /home/jk871/fire-regen/src/data/gedi_raster_matching.py:88]\n",
      "2023-06-15 21:34:52,040 DEBUG: Matching land cover for year 1990. [in match_burn_landcover at /home/jk871/fire-regen/src/data/gedi_raster_matching.py:88]\n",
      "2023-06-15 21:34:55,295 DEBUG: Matching land cover for year 2013. [in match_burn_landcover at /home/jk871/fire-regen/src/data/gedi_raster_matching.py:88]\n",
      "2023-06-15 21:34:58,882 DEBUG: Matching land cover for year 2000. [in match_burn_landcover at /home/jk871/fire-regen/src/data/gedi_raster_matching.py:88]\n",
      "2023-06-15 21:35:02,229 DEBUG: Matching land cover for year 2003. [in match_burn_landcover at /home/jk871/fire-regen/src/data/gedi_raster_matching.py:88]\n",
      "2023-06-15 21:35:05,487 DEBUG: Matching land cover for year 1986. [in match_burn_landcover at /home/jk871/fire-regen/src/data/gedi_raster_matching.py:88]\n",
      "2023-06-15 21:35:05,769 DEBUG: Matching land cover for year 2009. [in match_burn_landcover at /home/jk871/fire-regen/src/data/gedi_raster_matching.py:88]\n",
      "2023-06-15 21:35:09,195 DEBUG: Matching land cover for year 1997. [in match_burn_landcover at /home/jk871/fire-regen/src/data/gedi_raster_matching.py:88]\n",
      "2023-06-15 21:35:12,258 DEBUG: Matching land cover for year 1998. [in match_burn_landcover at /home/jk871/fire-regen/src/data/gedi_raster_matching.py:88]\n",
      "2023-06-15 21:35:15,366 DEBUG: Matching land cover for year 2005. [in match_burn_landcover at /home/jk871/fire-regen/src/data/gedi_raster_matching.py:88]\n",
      "2023-06-15 21:35:18,448 DEBUG: Matching land cover for year 2014. [in match_burn_landcover at /home/jk871/fire-regen/src/data/gedi_raster_matching.py:88]\n",
      "2023-06-15 21:35:22,275 DEBUG: Matching land cover for year 2010. [in match_burn_landcover at /home/jk871/fire-regen/src/data/gedi_raster_matching.py:88]\n",
      "2023-06-15 21:35:25,602 DEBUG: Matching land cover for year 2021. [in match_burn_landcover at /home/jk871/fire-regen/src/data/gedi_raster_matching.py:88]\n",
      "2023-06-15 21:35:28,719 DEBUG: Matching land cover for year 2002. [in match_burn_landcover at /home/jk871/fire-regen/src/data/gedi_raster_matching.py:88]\n",
      "2023-06-15 21:35:31,937 DEBUG: Matching land cover for year 1989. [in match_burn_landcover at /home/jk871/fire-regen/src/data/gedi_raster_matching.py:88]\n",
      "2023-06-15 21:35:34,645 DEBUG: Matching land cover for year 1993. [in match_burn_landcover at /home/jk871/fire-regen/src/data/gedi_raster_matching.py:88]\n",
      "2023-06-15 21:40:29,826 DEBUG: Saving stage 6 processed burned shots as pkl,             for kernel 3. [in stage_6_match_land_cover_l4a_sierras at /home/jk871/fire-regen/src/data/gedi_pipeline.py:287]\n",
      "2023-06-15 21:40:32,169 DEBUG: Saving stage 6 processed unburned shots as pkl,             for kernel 3. [in stage_6_match_land_cover_l4a_sierras at /home/jk871/fire-regen/src/data/gedi_pipeline.py:294]\n"
     ]
    }
   ],
   "source": [
    "gedi_burned_3x3, gedi_unburned_3x3 = gedi_pipeline.stage_6_match_land_cover_l4a_sierras(3)"
   ]
  },
  {
   "cell_type": "code",
   "execution_count": 41,
   "metadata": {},
   "outputs": [
    {
     "name": "stdout",
     "output_type": "stream",
     "text": [
      "2023-06-15 21:41:33,877 DEBUG: Matching land cover for year 2017. [in match_burn_landcover at /home/jk871/fire-regen/src/data/gedi_raster_matching.py:88]\n",
      "2023-06-15 21:41:37,398 DEBUG: Matching land cover for year 1996. [in match_burn_landcover at /home/jk871/fire-regen/src/data/gedi_raster_matching.py:88]\n",
      "2023-06-15 21:41:38,190 DEBUG: Matching land cover for year 2004. [in match_burn_landcover at /home/jk871/fire-regen/src/data/gedi_raster_matching.py:88]\n",
      "2023-06-15 21:41:38,820 DEBUG: Matching land cover for year 1995. [in match_burn_landcover at /home/jk871/fire-regen/src/data/gedi_raster_matching.py:88]\n",
      "2023-06-15 21:41:39,243 DEBUG: Matching land cover for year 2015. [in match_burn_landcover at /home/jk871/fire-regen/src/data/gedi_raster_matching.py:88]\n",
      "2023-06-15 21:41:41,038 DEBUG: Matching land cover for year 1991. [in match_burn_landcover at /home/jk871/fire-regen/src/data/gedi_raster_matching.py:88]\n",
      "2023-06-15 21:41:41,367 DEBUG: Matching land cover for year 1985. [in match_burn_landcover at /home/jk871/fire-regen/src/data/gedi_raster_matching.py:88]\n",
      "2023-06-15 21:41:42,232 DEBUG: Matching land cover for year 2001. [in match_burn_landcover at /home/jk871/fire-regen/src/data/gedi_raster_matching.py:88]\n",
      "2023-06-15 21:41:43,163 DEBUG: Matching land cover for year 2018. [in match_burn_landcover at /home/jk871/fire-regen/src/data/gedi_raster_matching.py:88]\n",
      "2023-06-15 21:41:45,408 DEBUG: Matching land cover for year 2020. [in match_burn_landcover at /home/jk871/fire-regen/src/data/gedi_raster_matching.py:88]\n",
      "2023-06-15 21:41:49,608 DEBUG: Matching land cover for year 1984. [in match_burn_landcover at /home/jk871/fire-regen/src/data/gedi_raster_matching.py:88]\n",
      "2023-06-15 21:41:50,308 DEBUG: Matching land cover for year 1988. [in match_burn_landcover at /home/jk871/fire-regen/src/data/gedi_raster_matching.py:88]\n",
      "2023-06-15 21:41:50,998 DEBUG: Matching land cover for year 2006. [in match_burn_landcover at /home/jk871/fire-regen/src/data/gedi_raster_matching.py:88]\n",
      "2023-06-15 21:41:51,738 DEBUG: Matching land cover for year 1999. [in match_burn_landcover at /home/jk871/fire-regen/src/data/gedi_raster_matching.py:88]\n",
      "2023-06-15 21:41:52,991 DEBUG: Matching land cover for year 2019. [in match_burn_landcover at /home/jk871/fire-regen/src/data/gedi_raster_matching.py:88]\n",
      "2023-06-15 21:41:53,757 DEBUG: Matching land cover for year 2012. [in match_burn_landcover at /home/jk871/fire-regen/src/data/gedi_raster_matching.py:88]\n",
      "2023-06-15 21:41:56,536 DEBUG: Matching land cover for year 1987. [in match_burn_landcover at /home/jk871/fire-regen/src/data/gedi_raster_matching.py:88]\n",
      "2023-06-15 21:41:57,787 DEBUG: Matching land cover for year 2011. [in match_burn_landcover at /home/jk871/fire-regen/src/data/gedi_raster_matching.py:88]\n",
      "2023-06-15 21:41:58,466 DEBUG: Matching land cover for year 2007. [in match_burn_landcover at /home/jk871/fire-regen/src/data/gedi_raster_matching.py:88]\n",
      "2023-06-15 21:41:59,739 DEBUG: Matching land cover for year 1992. [in match_burn_landcover at /home/jk871/fire-regen/src/data/gedi_raster_matching.py:88]\n",
      "2023-06-15 21:42:01,487 DEBUG: Matching land cover for year 1998. [in match_burn_landcover at /home/jk871/fire-regen/src/data/gedi_raster_matching.py:88]\n",
      "2023-06-15 21:42:02,069 DEBUG: Matching land cover for year 2016. [in match_burn_landcover at /home/jk871/fire-regen/src/data/gedi_raster_matching.py:88]\n",
      "2023-06-15 21:42:03,425 DEBUG: Matching land cover for year 1994. [in match_burn_landcover at /home/jk871/fire-regen/src/data/gedi_raster_matching.py:88]\n",
      "2023-06-15 21:42:04,508 DEBUG: Matching land cover for year 2008. [in match_burn_landcover at /home/jk871/fire-regen/src/data/gedi_raster_matching.py:88]\n",
      "2023-06-15 21:42:06,005 DEBUG: Matching land cover for year 1990. [in match_burn_landcover at /home/jk871/fire-regen/src/data/gedi_raster_matching.py:88]\n",
      "2023-06-15 21:42:06,750 DEBUG: Matching land cover for year 2013. [in match_burn_landcover at /home/jk871/fire-regen/src/data/gedi_raster_matching.py:88]\n",
      "2023-06-15 21:42:08,680 DEBUG: Matching land cover for year 2003. [in match_burn_landcover at /home/jk871/fire-regen/src/data/gedi_raster_matching.py:88]\n",
      "2023-06-15 21:42:09,385 DEBUG: Matching land cover for year 2000. [in match_burn_landcover at /home/jk871/fire-regen/src/data/gedi_raster_matching.py:88]\n",
      "2023-06-15 21:42:10,297 DEBUG: Matching land cover for year 1986. [in match_burn_landcover at /home/jk871/fire-regen/src/data/gedi_raster_matching.py:88]\n",
      "2023-06-15 21:42:10,750 DEBUG: Matching land cover for year 2009. [in match_burn_landcover at /home/jk871/fire-regen/src/data/gedi_raster_matching.py:88]\n",
      "2023-06-15 21:42:11,665 DEBUG: Matching land cover for year 1997. [in match_burn_landcover at /home/jk871/fire-regen/src/data/gedi_raster_matching.py:88]\n",
      "2023-06-15 21:42:12,037 DEBUG: Matching land cover for year 2010. [in match_burn_landcover at /home/jk871/fire-regen/src/data/gedi_raster_matching.py:88]\n",
      "2023-06-15 21:42:12,700 DEBUG: Matching land cover for year 2005. [in match_burn_landcover at /home/jk871/fire-regen/src/data/gedi_raster_matching.py:88]\n",
      "2023-06-15 21:42:13,347 DEBUG: Matching land cover for year 2014. [in match_burn_landcover at /home/jk871/fire-regen/src/data/gedi_raster_matching.py:88]\n",
      "2023-06-15 21:42:15,174 DEBUG: Matching land cover for year 2002. [in match_burn_landcover at /home/jk871/fire-regen/src/data/gedi_raster_matching.py:88]\n",
      "2023-06-15 21:42:16,142 DEBUG: Matching land cover for year 2021. [in match_burn_landcover at /home/jk871/fire-regen/src/data/gedi_raster_matching.py:88]\n",
      "2023-06-15 21:42:17,163 DEBUG: Matching land cover for year 1989. [in match_burn_landcover at /home/jk871/fire-regen/src/data/gedi_raster_matching.py:88]\n",
      "2023-06-15 21:42:17,552 DEBUG: Matching land cover for year 1993. [in match_burn_landcover at /home/jk871/fire-regen/src/data/gedi_raster_matching.py:88]\n",
      "2023-06-15 21:47:19,775 DEBUG: Saving stage 6 processed burned shots as pkl,             for kernel 2. [in stage_6_match_land_cover_l4a_sierras at /home/jk871/fire-regen/src/data/gedi_pipeline.py:287]\n",
      "2023-06-15 21:47:23,723 DEBUG: Saving stage 6 processed unburned shots as pkl,             for kernel 2. [in stage_6_match_land_cover_l4a_sierras at /home/jk871/fire-regen/src/data/gedi_pipeline.py:294]\n"
     ]
    }
   ],
   "source": [
    "gedi_burned_2x2, gedi_unburned_2x2 = gedi_pipeline.stage_6_match_land_cover_l4a_sierras(2)"
   ]
  },
  {
   "cell_type": "code",
   "execution_count": 22,
   "metadata": {},
   "outputs": [
    {
     "name": "stdout",
     "output_type": "stream",
     "text": [
      "2023-10-14 22:33:02,962 DEBUG: Matching land cover for year 1988. [in match_burn_landcover at /home/jk871/fire-regen/src/data/gedi_raster_matching.py:77]\n",
      "2023-10-14 22:33:07,254 DEBUG: Matching land cover for year 2010. [in match_burn_landcover at /home/jk871/fire-regen/src/data/gedi_raster_matching.py:77]\n",
      "2023-10-14 22:33:10,597 DEBUG: Matching land cover for year 2017. [in match_burn_landcover at /home/jk871/fire-regen/src/data/gedi_raster_matching.py:77]\n",
      "2023-10-14 22:33:18,428 DEBUG: Matching land cover for year 2005. [in match_burn_landcover at /home/jk871/fire-regen/src/data/gedi_raster_matching.py:77]\n",
      "2023-10-14 22:33:22,211 DEBUG: Matching land cover for year 2000. [in match_burn_landcover at /home/jk871/fire-regen/src/data/gedi_raster_matching.py:77]\n",
      "2023-10-14 22:33:27,025 DEBUG: Matching land cover for year 1994. [in match_burn_landcover at /home/jk871/fire-regen/src/data/gedi_raster_matching.py:77]\n",
      "2023-10-14 22:33:30,824 DEBUG: Matching land cover for year 2002. [in match_burn_landcover at /home/jk871/fire-regen/src/data/gedi_raster_matching.py:77]\n",
      "2023-10-14 22:33:35,093 DEBUG: Matching land cover for year 2007. [in match_burn_landcover at /home/jk871/fire-regen/src/data/gedi_raster_matching.py:77]\n",
      "2023-10-14 22:33:39,274 DEBUG: Matching land cover for year 1990. [in match_burn_landcover at /home/jk871/fire-regen/src/data/gedi_raster_matching.py:77]\n",
      "2023-10-14 22:33:42,734 DEBUG: Matching land cover for year 2016. [in match_burn_landcover at /home/jk871/fire-regen/src/data/gedi_raster_matching.py:77]\n",
      "2023-10-14 22:33:46,041 DEBUG: Matching land cover for year 2021. [in match_burn_landcover at /home/jk871/fire-regen/src/data/gedi_raster_matching.py:77]\n",
      "2023-10-14 22:33:52,517 DEBUG: Matching land cover for year 2020. [in match_burn_landcover at /home/jk871/fire-regen/src/data/gedi_raster_matching.py:77]\n",
      "2023-10-14 22:34:00,589 DEBUG: Matching land cover for year 2001. [in match_burn_landcover at /home/jk871/fire-regen/src/data/gedi_raster_matching.py:77]\n",
      "2023-10-14 22:34:04,934 DEBUG: Matching land cover for year 2012. [in match_burn_landcover at /home/jk871/fire-regen/src/data/gedi_raster_matching.py:77]\n",
      "2023-10-14 22:34:11,719 DEBUG: Matching land cover for year 2008. [in match_burn_landcover at /home/jk871/fire-regen/src/data/gedi_raster_matching.py:77]\n",
      "2023-10-14 22:34:16,909 DEBUG: Matching land cover for year 2004. [in match_burn_landcover at /home/jk871/fire-regen/src/data/gedi_raster_matching.py:77]\n",
      "2023-10-14 22:34:20,872 DEBUG: Matching land cover for year 1985. [in match_burn_landcover at /home/jk871/fire-regen/src/data/gedi_raster_matching.py:77]\n",
      "2023-10-14 22:34:24,889 DEBUG: Matching land cover for year 1986. [in match_burn_landcover at /home/jk871/fire-regen/src/data/gedi_raster_matching.py:77]\n",
      "2023-10-14 22:34:25,629 DEBUG: Matching land cover for year 1992. [in match_burn_landcover at /home/jk871/fire-regen/src/data/gedi_raster_matching.py:77]\n",
      "2023-10-14 22:34:31,293 DEBUG: Matching land cover for year 1999. [in match_burn_landcover at /home/jk871/fire-regen/src/data/gedi_raster_matching.py:77]\n",
      "2023-10-14 22:34:35,981 DEBUG: Matching land cover for year 2003. [in match_burn_landcover at /home/jk871/fire-regen/src/data/gedi_raster_matching.py:77]\n",
      "2023-10-14 22:34:40,221 DEBUG: Matching land cover for year 2018. [in match_burn_landcover at /home/jk871/fire-regen/src/data/gedi_raster_matching.py:77]\n",
      "2023-10-14 22:34:45,760 DEBUG: Matching land cover for year 2015. [in match_burn_landcover at /home/jk871/fire-regen/src/data/gedi_raster_matching.py:77]\n",
      "2023-10-14 22:34:58,549 DEBUG: Matching land cover for year 1996. [in match_burn_landcover at /home/jk871/fire-regen/src/data/gedi_raster_matching.py:77]\n",
      "2023-10-14 22:35:19,092 DEBUG: Matching land cover for year 2019. [in match_burn_landcover at /home/jk871/fire-regen/src/data/gedi_raster_matching.py:77]\n",
      "2023-10-14 22:35:29,801 DEBUG: Matching land cover for year 1987. [in match_burn_landcover at /home/jk871/fire-regen/src/data/gedi_raster_matching.py:77]\n",
      "2023-10-14 22:35:46,033 DEBUG: Matching land cover for year 2006. [in match_burn_landcover at /home/jk871/fire-regen/src/data/gedi_raster_matching.py:77]\n",
      "2023-10-14 22:36:30,035 DEBUG: Matching land cover for year 1984. [in match_burn_landcover at /home/jk871/fire-regen/src/data/gedi_raster_matching.py:77]\n",
      "2023-10-14 22:36:40,681 DEBUG: Matching land cover for year 1998. [in match_burn_landcover at /home/jk871/fire-regen/src/data/gedi_raster_matching.py:77]\n",
      "2023-10-14 22:36:58,130 DEBUG: Matching land cover for year 2014. [in match_burn_landcover at /home/jk871/fire-regen/src/data/gedi_raster_matching.py:77]\n",
      "2023-10-14 22:37:03,813 DEBUG: Matching land cover for year 2009. [in match_burn_landcover at /home/jk871/fire-regen/src/data/gedi_raster_matching.py:77]\n",
      "2023-10-14 22:37:07,623 DEBUG: Matching land cover for year 1991. [in match_burn_landcover at /home/jk871/fire-regen/src/data/gedi_raster_matching.py:77]\n",
      "2023-10-14 22:37:09,818 DEBUG: Matching land cover for year 1989. [in match_burn_landcover at /home/jk871/fire-regen/src/data/gedi_raster_matching.py:77]\n",
      "2023-10-14 22:37:12,373 DEBUG: Matching land cover for year 2011. [in match_burn_landcover at /home/jk871/fire-regen/src/data/gedi_raster_matching.py:77]\n",
      "2023-10-14 22:37:22,974 DEBUG: Matching land cover for year 1997. [in match_burn_landcover at /home/jk871/fire-regen/src/data/gedi_raster_matching.py:77]\n",
      "2023-10-14 22:37:25,327 DEBUG: Matching land cover for year 2013. [in match_burn_landcover at /home/jk871/fire-regen/src/data/gedi_raster_matching.py:77]\n",
      "2023-10-14 22:37:35,378 DEBUG: Matching land cover for year 1995. [in match_burn_landcover at /home/jk871/fire-regen/src/data/gedi_raster_matching.py:77]\n",
      "2023-10-14 22:37:37,681 DEBUG: Matching land cover for year 1993. [in match_burn_landcover at /home/jk871/fire-regen/src/data/gedi_raster_matching.py:77]\n",
      "2023-10-14 22:45:59,072 DEBUG: Saving stage 6 processed burned shots as pkl,             for kernel 2. [in stage_6_match_land_cover_l4a_sierras at /home/jk871/fire-regen/src/data/gedi_pipeline.py:386]\n",
      "2023-10-14 22:46:09,365 DEBUG: Saving stage 6 processed unburned shots as pkl,             for kernel 2. [in stage_6_match_land_cover_l4a_sierras at /home/jk871/fire-regen/src/data/gedi_pipeline.py:393]\n"
     ]
    }
   ],
   "source": [
    "# combined\n",
    "gedi_burned_2x2, gedi_unburned_2x2 = gedi_pipeline.stage_6_match_land_cover_l4a_sierras(2)"
   ]
  },
  {
   "cell_type": "markdown",
   "metadata": {},
   "source": [
    "### Stage 7 - Filter based on Land Cover\n",
    "\n",
    "For burned areas, we match each shot with the land cover as it was a year before the fire.\n",
    "\n",
    "For unburned areas, we match each shot with the land cover from 2021."
   ]
  },
  {
   "cell_type": "markdown",
   "metadata": {},
   "source": [
    "Burned shots left - 225814, unburned left - 2707122."
   ]
  },
  {
   "cell_type": "code",
   "execution_count": 47,
   "metadata": {},
   "outputs": [
    {
     "name": "stdout",
     "output_type": "stream",
     "text": [
      "2023-06-15 21:51:31,791 DEBUG: Number of shots that were trees before they burned:                 225814 [in stage_7_filter_land_cover_l4a_sierras at /home/jk871/fire-regen/src/data/gedi_pipeline.py:240]\n",
      "2023-06-15 21:51:33,124 DEBUG: Number of unburned shots that were trees in 2021:             2707122 [in stage_7_filter_land_cover_l4a_sierras at /home/jk871/fire-regen/src/data/gedi_pipeline.py:247]\n",
      "2023-06-15 21:51:33,748 DEBUG: Saving stage 7 processed burned shots as pkl,             for kernel 3. [in stage_7_filter_land_cover_l4a_sierras at /home/jk871/fire-regen/src/data/gedi_pipeline.py:260]\n",
      "2023-06-15 21:51:34,086 DEBUG: Saving stage 7 processed unburned shots as pkl,             for kernel 3. [in stage_7_filter_land_cover_l4a_sierras at /home/jk871/fire-regen/src/data/gedi_pipeline.py:267]\n"
     ]
    }
   ],
   "source": [
    "gedi_burned_3x3, gedi_unburned_3x3 = gedi_pipeline.stage_7_filter_land_cover_l4a_sierras(3)"
   ]
  },
  {
   "cell_type": "markdown",
   "metadata": {},
   "source": [
    "Interestingly, for filtering land cover we still use 3x3 kernel, even on 2x2 burn raster matches. This is due to cali forests being rather fragmented, so it's good to be extra certain about the forest cover.\n",
    "\n",
    "Burned shots left -417824, unburned left - 2715511."
   ]
  },
  {
   "cell_type": "code",
   "execution_count": 50,
   "metadata": {},
   "outputs": [
    {
     "name": "stdout",
     "output_type": "stream",
     "text": [
      "2023-06-15 21:54:18,372 DEBUG: Number of shots that were trees before they burned:                 417824 [in stage_7_filter_land_cover_l4a_sierras at /home/jk871/fire-regen/src/data/gedi_pipeline.py:240]\n",
      "2023-06-15 21:54:19,961 DEBUG: Number of unburned shots that were trees in 2021:             2715511 [in stage_7_filter_land_cover_l4a_sierras at /home/jk871/fire-regen/src/data/gedi_pipeline.py:247]\n",
      "2023-06-15 21:54:20,824 DEBUG: Saving stage 7 processed burned shots as pkl,             for kernel 2. [in stage_7_filter_land_cover_l4a_sierras at /home/jk871/fire-regen/src/data/gedi_pipeline.py:260]\n",
      "2023-06-15 21:54:21,660 DEBUG: Saving stage 7 processed unburned shots as pkl,             for kernel 2. [in stage_7_filter_land_cover_l4a_sierras at /home/jk871/fire-regen/src/data/gedi_pipeline.py:267]\n"
     ]
    }
   ],
   "source": [
    "gedi_burned_2x2, gedi_unburned_2x2 = gedi_pipeline.stage_7_filter_land_cover_l4a_sierras(2)"
   ]
  },
  {
   "cell_type": "code",
   "execution_count": 24,
   "metadata": {},
   "outputs": [
    {
     "name": "stdout",
     "output_type": "stream",
     "text": [
      "2023-10-14 22:52:56,075 DEBUG: Number of shots that were trees before they burned:                 455534 [in stage_7_filter_land_cover_l4a_sierras at /home/jk871/fire-regen/src/data/gedi_pipeline.py:320]\n",
      "2023-10-14 22:53:11,959 DEBUG: Number of unburned shots that were trees in 2021:             2664182 [in stage_7_filter_land_cover_l4a_sierras at /home/jk871/fire-regen/src/data/gedi_pipeline.py:327]\n",
      "2023-10-14 22:53:13,648 DEBUG: Saving stage 7 processed burned shots as pkl,             for kernel 2. [in stage_7_filter_land_cover_l4a_sierras at /home/jk871/fire-regen/src/data/gedi_pipeline.py:340]\n",
      "2023-10-14 22:53:17,026 DEBUG: Saving stage 7 processed unburned shots as pkl,             for kernel 2. [in stage_7_filter_land_cover_l4a_sierras at /home/jk871/fire-regen/src/data/gedi_pipeline.py:347]\n"
     ]
    }
   ],
   "source": [
    "# combined\n",
    "gedi_burned_2x2, gedi_unburned_2x2 = gedi_pipeline.stage_7_filter_land_cover_l4a_sierras(2)"
   ]
  },
  {
   "cell_type": "markdown",
   "metadata": {},
   "source": [
    "### Stage 8 - Match Terrain"
   ]
  },
  {
   "cell_type": "code",
   "execution_count": 2,
   "metadata": {},
   "outputs": [
    {
     "name": "stdout",
     "output_type": "stream",
     "text": [
      "2023-06-24 14:36:00,399 DEBUG: Saving stage 8 processed burned shots as pkl,             for kernel 3. [in stage_8_match_terrain_l4a_sierras at /home/jk871/fire-regen/src/data/gedi_pipeline.py:247]\n",
      "2023-06-24 14:36:03,935 DEBUG: Saving stage 8 processed unburned shots as pkl,             for kernel 3. [in stage_8_match_terrain_l4a_sierras at /home/jk871/fire-regen/src/data/gedi_pipeline.py:254]\n"
     ]
    }
   ],
   "source": [
    "gedi_burned_3x3, gedi_unburned_3x3 = gedi_pipeline.stage_8_match_terrain_l4a_sierras(3)"
   ]
  },
  {
   "cell_type": "code",
   "execution_count": 7,
   "metadata": {},
   "outputs": [
    {
     "name": "stdout",
     "output_type": "stream",
     "text": [
      "2023-06-24 14:44:08,059 DEBUG: Saving stage 8 processed burned shots as pkl,             for kernel 3. [in stage_8_match_terrain_l4a_sierras_B at /home/jk871/fire-regen/src/data/gedi_pipeline.py:270]\n",
      "2023-06-24 14:44:11,902 DEBUG: Saving stage 8 processed unburned shots as pkl,             for kernel 3. [in stage_8_match_terrain_l4a_sierras_B at /home/jk871/fire-regen/src/data/gedi_pipeline.py:277]\n"
     ]
    }
   ],
   "source": [
    "gedi_burned_3x3, gedi_unburned_3x3 = gedi_pipeline.stage_8_match_terrain_l4a_sierras_B(3)"
   ]
  },
  {
   "cell_type": "code",
   "execution_count": 4,
   "metadata": {},
   "outputs": [
    {
     "data": {
      "text/plain": [
       "7829875"
      ]
     },
     "execution_count": 4,
     "metadata": {},
     "output_type": "execute_result"
    }
   ],
   "source": [
    "gedi_unburned_3x3.shape[0]"
   ]
  },
  {
   "cell_type": "code",
   "execution_count": 8,
   "metadata": {},
   "outputs": [
    {
     "name": "stdout",
     "output_type": "stream",
     "text": [
      "2023-06-24 14:48:29,053 DEBUG: Saving stage 8 processed burned shots as pkl,             for kernel 2. [in stage_8_match_terrain_l4a_sierras at /home/jk871/fire-regen/src/data/gedi_pipeline.py:247]\n",
      "2023-06-24 14:48:35,920 DEBUG: Saving stage 8 processed unburned shots as pkl,             for kernel 2. [in stage_8_match_terrain_l4a_sierras at /home/jk871/fire-regen/src/data/gedi_pipeline.py:254]\n"
     ]
    }
   ],
   "source": [
    "gedi_burned_2x2, gedi_unburned_2x2 = gedi_pipeline.stage_8_match_terrain_l4a_sierras(2)"
   ]
  },
  {
   "cell_type": "code",
   "execution_count": 9,
   "metadata": {},
   "outputs": [
    {
     "name": "stdout",
     "output_type": "stream",
     "text": [
      "2023-06-24 14:56:18,959 DEBUG: Saving stage 8 processed burned shots as pkl,             for kernel 2. [in stage_8_match_terrain_l4a_sierras_B at /home/jk871/fire-regen/src/data/gedi_pipeline.py:270]\n",
      "2023-06-24 14:56:24,976 DEBUG: Saving stage 8 processed unburned shots as pkl,             for kernel 2. [in stage_8_match_terrain_l4a_sierras_B at /home/jk871/fire-regen/src/data/gedi_pipeline.py:277]\n"
     ]
    }
   ],
   "source": [
    "gedi_burned_2x2, gedi_unburned_2x2 = gedi_pipeline.stage_8_match_terrain_l4a_sierras_B(2)"
   ]
  },
  {
   "cell_type": "code",
   "execution_count": 2,
   "metadata": {},
   "outputs": [
    {
     "name": "stdout",
     "output_type": "stream",
     "text": [
      "2023-10-15 09:58:37,162 DEBUG: Saving stage 8 processed burned shots as pkl,             for kernel 2. [in stage_8_match_terrain_l4a_sierras at /home/jk871/fire-regen/src/data/gedi_pipeline.py:247]\n",
      "2023-10-15 09:58:49,195 DEBUG: Saving stage 8 processed unburned shots as pkl,             for kernel 2. [in stage_8_match_terrain_l4a_sierras at /home/jk871/fire-regen/src/data/gedi_pipeline.py:254]\n"
     ]
    }
   ],
   "source": [
    "# combined\n",
    "gedi_burned_2x2, gedi_unburned_2x2 = gedi_pipeline.stage_8_match_terrain_l4a_sierras(2)"
   ]
  },
  {
   "cell_type": "code",
   "execution_count": 5,
   "metadata": {},
   "outputs": [
    {
     "data": {
      "text/plain": [
       "7852535"
      ]
     },
     "execution_count": 5,
     "metadata": {},
     "output_type": "execute_result"
    }
   ],
   "source": [
    "gedi_unburned_2x2.shape[0]"
   ]
  },
  {
   "cell_type": "markdown",
   "metadata": {},
   "source": [
    "### Stage 9 - Match Terrain"
   ]
  },
  {
   "cell_type": "code",
   "execution_count": 10,
   "metadata": {},
   "outputs": [
    {
     "name": "stdout",
     "output_type": "stream",
     "text": [
      "2023-06-24 15:10:46,451 DEBUG: Saving stage 9 processed burned shots as pkl,             for kernel 3. [in stage_9_filter_terrain_l4a_sierras at /home/jk871/fire-regen/src/data/gedi_pipeline.py:195]\n",
      "2023-06-24 15:10:47,047 DEBUG: Saving stage 9 processed unburned shots as pkl,             for kernel 3. [in stage_9_filter_terrain_l4a_sierras at /home/jk871/fire-regen/src/data/gedi_pipeline.py:202]\n"
     ]
    }
   ],
   "source": [
    "gedi_burned_3x3, gedi_unburned_3x3 = gedi_pipeline.stage_9_filter_terrain_l4a_sierras(3)"
   ]
  },
  {
   "cell_type": "code",
   "execution_count": 11,
   "metadata": {},
   "outputs": [
    {
     "name": "stdout",
     "output_type": "stream",
     "text": [
      "2023-06-24 15:11:56,687 DEBUG: Saving stage 9-B processed burned shots as pkl,             for kernel 3. [in stage_9_filter_terrain_l4a_sierras_B at /home/jk871/fire-regen/src/data/gedi_pipeline.py:144]\n",
      "2023-06-24 15:11:56,987 DEBUG: Saving stage 9-B processed unburned shots as pkl,             for kernel 3. [in stage_9_filter_terrain_l4a_sierras_B at /home/jk871/fire-regen/src/data/gedi_pipeline.py:151]\n"
     ]
    }
   ],
   "source": [
    "gedi_burned_3x3, gedi_unburned_3x3 = gedi_pipeline.stage_9_filter_terrain_l4a_sierras_B(3)"
   ]
  },
  {
   "cell_type": "code",
   "execution_count": 2,
   "metadata": {},
   "outputs": [
    {
     "name": "stdout",
     "output_type": "stream",
     "text": [
      "2023-10-17 20:08:29,389 DEBUG: Saving stage 9 processed burned shots as pkl,             for kernel 2. [in stage_9_filter_terrain_l4a_sierras at /home/jk871/fire-regen/src/data/gedi_pipeline.py:275]\n",
      "2023-10-17 20:08:32,241 DEBUG: Saving stage 9 processed unburned shots as pkl,             for kernel 2. [in stage_9_filter_terrain_l4a_sierras at /home/jk871/fire-regen/src/data/gedi_pipeline.py:282]\n"
     ]
    }
   ],
   "source": [
    "gedi_burned_2x2, gedi_unburned_2x2 = gedi_pipeline.stage_9_filter_terrain_l4a_sierras(2)"
   ]
  },
  {
   "cell_type": "markdown",
   "metadata": {},
   "source": [
    "### Stage 10 - Match with NDVI"
   ]
  },
  {
   "cell_type": "code",
   "execution_count": 5,
   "metadata": {},
   "outputs": [
    {
     "name": "stdout",
     "output_type": "stream",
     "text": [
      "2023-10-17 22:31:51,008 DEBUG: Match 2019 [in stage_10_match_with_NDVI at /home/jk871/fire-regen/src/data/gedi_pipeline.py:109]\n",
      "2023-10-17 22:32:25,952 DEBUG: Match 2020 [in stage_10_match_with_NDVI at /home/jk871/fire-regen/src/data/gedi_pipeline.py:112]\n",
      "2023-10-17 22:35:10,684 DEBUG: Match 2021 [in stage_10_match_with_NDVI at /home/jk871/fire-regen/src/data/gedi_pipeline.py:115]\n",
      "2023-10-17 22:38:51,305 DEBUG: Match 2022 [in stage_10_match_with_NDVI at /home/jk871/fire-regen/src/data/gedi_pipeline.py:118]\n",
      "2023-10-17 22:42:11,686 DEBUG: Match 2019 [in stage_10_match_with_NDVI at /home/jk871/fire-regen/src/data/gedi_pipeline.py:130]\n",
      "2023-10-17 22:45:42,057 DEBUG: Match 2020 [in stage_10_match_with_NDVI at /home/jk871/fire-regen/src/data/gedi_pipeline.py:133]\n",
      "2023-10-17 22:48:48,787 DEBUG: Match 2021 [in stage_10_match_with_NDVI at /home/jk871/fire-regen/src/data/gedi_pipeline.py:136]\n",
      "2023-10-17 22:50:56,301 DEBUG: Match 2022 [in stage_10_match_with_NDVI at /home/jk871/fire-regen/src/data/gedi_pipeline.py:139]\n",
      "2023-10-17 22:54:38,780 DEBUG: Saving stage 10 processed burned shots as pkl,             for kernel 2. [in stage_10_match_with_NDVI at /home/jk871/fire-regen/src/data/gedi_pipeline.py:146]\n",
      "2023-10-17 22:55:01,236 DEBUG: Saving stage 10 processed unburned shots as pkl,             for kernel 2. [in stage_10_match_with_NDVI at /home/jk871/fire-regen/src/data/gedi_pipeline.py:153]\n"
     ]
    }
   ],
   "source": [
    "gedi_burned_2x2, gedi_unburned_2x2 = gedi_pipeline.stage_10_match_with_NDVI(2)"
   ]
  }
 ],
 "metadata": {
  "kernelspec": {
   "display_name": "Python 3.10.12 ('drought')",
   "language": "python",
   "name": "python3"
  },
  "language_info": {
   "codemirror_mode": {
    "name": "ipython",
    "version": 3
   },
   "file_extension": ".py",
   "mimetype": "text/x-python",
   "name": "python",
   "nbconvert_exporter": "python",
   "pygments_lexer": "ipython3",
   "version": "3.10.12"
  },
  "orig_nbformat": 4,
  "vscode": {
   "interpreter": {
    "hash": "1f736514a98fcc3e6a7aa48aaac16ce5b1041d2c9fa71bed1e40355e31f675cb"
   }
  }
 },
 "nbformat": 4,
 "nbformat_minor": 2
}
