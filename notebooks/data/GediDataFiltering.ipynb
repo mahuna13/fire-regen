{
 "cells": [
  {
   "cell_type": "code",
   "execution_count": 1,
   "metadata": {},
   "outputs": [
    {
     "name": "stdout",
     "output_type": "stream",
     "text": [
      "2023-12-25 22:13:06,097 DEBUG: Logger /home/jk871/fire-regen/src/data/gedi_loader.py already set up. [in get_logger at /home/jk871/fire-regen/src/utils/logging_util.py:51]\n",
      "2023-12-25 22:13:06,099 DEBUG: Logger /home/jk871/fire-regen/src/data/processing/burn_areas_overlay.py already set up. [in get_logger at /home/jk871/fire-regen/src/utils/logging_util.py:51]\n",
      "2023-12-25 22:13:06,100 DEBUG: Logger /home/jk871/fire-regen/src/data/processing/severity_overlay.py already set up. [in get_logger at /home/jk871/fire-regen/src/utils/logging_util.py:51]\n",
      "2023-12-25 22:13:06,101 DEBUG: Logger /home/jk871/fire-regen/src/data/processing/raster_overlays.py already set up. [in get_logger at /home/jk871/fire-regen/src/utils/logging_util.py:51]\n"
     ]
    },
    {
     "data": {
      "text/plain": [
       "<module 'src.data.adapters.mtbs' from '/home/jk871/fire-regen/src/data/adapters/mtbs.py'>"
      ]
     },
     "execution_count": 1,
     "metadata": {},
     "output_type": "execute_result"
    }
   ],
   "source": [
    "import geopandas as gpd\n",
    "import pandas as pd\n",
    "#from src.data import gedi_pipeline\n",
    "from src.data import gedi_loader\n",
    "from src.data.processing import raster_overlays\n",
    "#from src.data.fire_perimeters import FirePerimeters, FirePerimetersDB\n",
    "from src.data import fire_perimeters\n",
    "from src.constants import DATA_PATH, USER_PATH, GEDI_INTERMEDIATE_PATH\n",
    "from src.data.processing import burn_boundaries_overlay as bb\n",
    "from src.data.processing import burn_areas_overlay as ba\n",
    "from src.data.processing import severity_overlay as se\n",
    "from fastai.tabular.all import save_pickle, load_pickle\n",
    "\n",
    "import importlib\n",
    "importlib.reload(gedi_loader)\n",
    "importlib.reload(ba)\n",
    "importlib.reload(se)\n",
    "importlib.reload(raster_overlays)\n",
    "importlib.reload(se.mtbs)\n"
   ]
  },
  {
   "cell_type": "markdown",
   "metadata": {},
   "source": [
    "# Raster Overlays"
   ]
  },
  {
   "cell_type": "markdown",
   "metadata": {},
   "source": [
    "### Terain Overlay"
   ]
  },
  {
   "cell_type": "code",
   "execution_count": 5,
   "metadata": {},
   "outputs": [
    {
     "name": "stdout",
     "output_type": "stream",
     "text": [
      "2023-12-20 04:49:19,342 INFO: Starting raster matching. [in overlay_terrain at /home/jk871/fire-regen/src/data/processing/raster_overlays.py:28]\n",
      "2023-12-20 04:55:52,531 INFO: Saving the results. [in _save_overlay at /home/jk871/fire-regen/src/data/processing/raster_overlays.py:84]\n"
     ]
    }
   ],
   "source": [
    "terrain_overlay = raster_overlays.overlay_terrain(input_path, get_output_path(\"terrain_overlay.pkl\"))"
   ]
  },
  {
   "cell_type": "code",
   "execution_count": 6,
   "metadata": {},
   "outputs": [
    {
     "data": {
      "text/html": [
       "<div>\n",
       "<style scoped>\n",
       "    .dataframe tbody tr th:only-of-type {\n",
       "        vertical-align: middle;\n",
       "    }\n",
       "\n",
       "    .dataframe tbody tr th {\n",
       "        vertical-align: top;\n",
       "    }\n",
       "\n",
       "    .dataframe thead th {\n",
       "        text-align: right;\n",
       "    }\n",
       "</style>\n",
       "<table border=\"1\" class=\"dataframe\">\n",
       "  <thead>\n",
       "    <tr style=\"text-align: right;\">\n",
       "      <th></th>\n",
       "      <th>shot_number</th>\n",
       "      <th>aspect_mean</th>\n",
       "      <th>aspect_std</th>\n",
       "      <th>aspect_median</th>\n",
       "      <th>elevation_mean</th>\n",
       "      <th>elevation_std</th>\n",
       "      <th>elevation_median</th>\n",
       "      <th>slope_mean</th>\n",
       "      <th>slope_std</th>\n",
       "      <th>slope_median</th>\n",
       "      <th>soil_mean</th>\n",
       "      <th>soil_std</th>\n",
       "      <th>soil_median</th>\n",
       "    </tr>\n",
       "  </thead>\n",
       "  <tbody>\n",
       "    <tr>\n",
       "      <th>8</th>\n",
       "      <td>67510600300537066</td>\n",
       "      <td>267.177032</td>\n",
       "      <td>7.301920</td>\n",
       "      <td>270.000000</td>\n",
       "      <td>313.25</td>\n",
       "      <td>3.832428</td>\n",
       "      <td>313.0</td>\n",
       "      <td>12.963442</td>\n",
       "      <td>2.374389</td>\n",
       "      <td>12.358957</td>\n",
       "      <td>5.0</td>\n",
       "      <td>0.0</td>\n",
       "      <td>5.0</td>\n",
       "    </tr>\n",
       "    <tr>\n",
       "      <th>9</th>\n",
       "      <td>67510600300537067</td>\n",
       "      <td>158.472961</td>\n",
       "      <td>35.881050</td>\n",
       "      <td>161.792511</td>\n",
       "      <td>309.25</td>\n",
       "      <td>1.299038</td>\n",
       "      <td>309.0</td>\n",
       "      <td>5.814262</td>\n",
       "      <td>0.182565</td>\n",
       "      <td>5.858659</td>\n",
       "      <td>5.0</td>\n",
       "      <td>0.0</td>\n",
       "      <td>5.0</td>\n",
       "    </tr>\n",
       "    <tr>\n",
       "      <th>10</th>\n",
       "      <td>67510600300537068</td>\n",
       "      <td>143.297958</td>\n",
       "      <td>36.715893</td>\n",
       "      <td>144.011108</td>\n",
       "      <td>305.25</td>\n",
       "      <td>0.433013</td>\n",
       "      <td>305.0</td>\n",
       "      <td>3.073896</td>\n",
       "      <td>1.918475</td>\n",
       "      <td>2.697114</td>\n",
       "      <td>5.0</td>\n",
       "      <td>0.0</td>\n",
       "      <td>5.0</td>\n",
       "    </tr>\n",
       "    <tr>\n",
       "      <th>11</th>\n",
       "      <td>67510600300537069</td>\n",
       "      <td>202.538391</td>\n",
       "      <td>27.707811</td>\n",
       "      <td>191.142242</td>\n",
       "      <td>304.75</td>\n",
       "      <td>0.433013</td>\n",
       "      <td>305.0</td>\n",
       "      <td>2.293120</td>\n",
       "      <td>0.811833</td>\n",
       "      <td>2.620381</td>\n",
       "      <td>5.0</td>\n",
       "      <td>0.0</td>\n",
       "      <td>5.0</td>\n",
       "    </tr>\n",
       "    <tr>\n",
       "      <th>12</th>\n",
       "      <td>67510600300537070</td>\n",
       "      <td>172.685654</td>\n",
       "      <td>29.456881</td>\n",
       "      <td>175.019272</td>\n",
       "      <td>296.50</td>\n",
       "      <td>1.118034</td>\n",
       "      <td>296.5</td>\n",
       "      <td>4.075963</td>\n",
       "      <td>1.687787</td>\n",
       "      <td>3.782256</td>\n",
       "      <td>5.0</td>\n",
       "      <td>0.0</td>\n",
       "      <td>5.0</td>\n",
       "    </tr>\n",
       "    <tr>\n",
       "      <th>...</th>\n",
       "      <td>...</td>\n",
       "      <td>...</td>\n",
       "      <td>...</td>\n",
       "      <td>...</td>\n",
       "      <td>...</td>\n",
       "      <td>...</td>\n",
       "      <td>...</td>\n",
       "      <td>...</td>\n",
       "      <td>...</td>\n",
       "      <td>...</td>\n",
       "      <td>...</td>\n",
       "      <td>...</td>\n",
       "      <td>...</td>\n",
       "    </tr>\n",
       "    <tr>\n",
       "      <th>16741116</th>\n",
       "      <td>215450800300288921</td>\n",
       "      <td>197.856506</td>\n",
       "      <td>8.215816</td>\n",
       "      <td>199.609589</td>\n",
       "      <td>482.00</td>\n",
       "      <td>3.674235</td>\n",
       "      <td>482.5</td>\n",
       "      <td>13.273947</td>\n",
       "      <td>0.539055</td>\n",
       "      <td>13.527273</td>\n",
       "      <td>5.0</td>\n",
       "      <td>0.0</td>\n",
       "      <td>5.0</td>\n",
       "    </tr>\n",
       "    <tr>\n",
       "      <th>16741117</th>\n",
       "      <td>215450800300288922</td>\n",
       "      <td>208.330902</td>\n",
       "      <td>2.960200</td>\n",
       "      <td>208.687943</td>\n",
       "      <td>478.00</td>\n",
       "      <td>3.162278</td>\n",
       "      <td>478.0</td>\n",
       "      <td>13.720282</td>\n",
       "      <td>0.929227</td>\n",
       "      <td>13.790260</td>\n",
       "      <td>5.0</td>\n",
       "      <td>0.0</td>\n",
       "      <td>5.0</td>\n",
       "    </tr>\n",
       "    <tr>\n",
       "      <th>16741118</th>\n",
       "      <td>215450800300288923</td>\n",
       "      <td>233.247452</td>\n",
       "      <td>6.421886</td>\n",
       "      <td>232.773621</td>\n",
       "      <td>471.75</td>\n",
       "      <td>4.264680</td>\n",
       "      <td>471.5</td>\n",
       "      <td>16.132710</td>\n",
       "      <td>1.807897</td>\n",
       "      <td>15.654735</td>\n",
       "      <td>5.0</td>\n",
       "      <td>0.0</td>\n",
       "      <td>5.0</td>\n",
       "    </tr>\n",
       "    <tr>\n",
       "      <th>16741119</th>\n",
       "      <td>215450800300288924</td>\n",
       "      <td>239.399811</td>\n",
       "      <td>13.376448</td>\n",
       "      <td>239.410217</td>\n",
       "      <td>475.75</td>\n",
       "      <td>2.586020</td>\n",
       "      <td>476.0</td>\n",
       "      <td>12.533563</td>\n",
       "      <td>0.249763</td>\n",
       "      <td>12.601324</td>\n",
       "      <td>5.0</td>\n",
       "      <td>0.0</td>\n",
       "      <td>5.0</td>\n",
       "    </tr>\n",
       "    <tr>\n",
       "      <th>16741120</th>\n",
       "      <td>215450800300288925</td>\n",
       "      <td>260.931335</td>\n",
       "      <td>7.104249</td>\n",
       "      <td>261.346558</td>\n",
       "      <td>488.00</td>\n",
       "      <td>4.527693</td>\n",
       "      <td>488.0</td>\n",
       "      <td>18.475735</td>\n",
       "      <td>1.930345</td>\n",
       "      <td>17.931253</td>\n",
       "      <td>5.0</td>\n",
       "      <td>0.0</td>\n",
       "      <td>5.0</td>\n",
       "    </tr>\n",
       "  </tbody>\n",
       "</table>\n",
       "<p>10684605 rows × 13 columns</p>\n",
       "</div>"
      ],
      "text/plain": [
       "                 shot_number  aspect_mean  aspect_std  aspect_median  \\\n",
       "8          67510600300537066   267.177032    7.301920     270.000000   \n",
       "9          67510600300537067   158.472961   35.881050     161.792511   \n",
       "10         67510600300537068   143.297958   36.715893     144.011108   \n",
       "11         67510600300537069   202.538391   27.707811     191.142242   \n",
       "12         67510600300537070   172.685654   29.456881     175.019272   \n",
       "...                      ...          ...         ...            ...   \n",
       "16741116  215450800300288921   197.856506    8.215816     199.609589   \n",
       "16741117  215450800300288922   208.330902    2.960200     208.687943   \n",
       "16741118  215450800300288923   233.247452    6.421886     232.773621   \n",
       "16741119  215450800300288924   239.399811   13.376448     239.410217   \n",
       "16741120  215450800300288925   260.931335    7.104249     261.346558   \n",
       "\n",
       "          elevation_mean  elevation_std  elevation_median  slope_mean  \\\n",
       "8                 313.25       3.832428             313.0   12.963442   \n",
       "9                 309.25       1.299038             309.0    5.814262   \n",
       "10                305.25       0.433013             305.0    3.073896   \n",
       "11                304.75       0.433013             305.0    2.293120   \n",
       "12                296.50       1.118034             296.5    4.075963   \n",
       "...                  ...            ...               ...         ...   \n",
       "16741116          482.00       3.674235             482.5   13.273947   \n",
       "16741117          478.00       3.162278             478.0   13.720282   \n",
       "16741118          471.75       4.264680             471.5   16.132710   \n",
       "16741119          475.75       2.586020             476.0   12.533563   \n",
       "16741120          488.00       4.527693             488.0   18.475735   \n",
       "\n",
       "          slope_std  slope_median  soil_mean  soil_std  soil_median  \n",
       "8          2.374389     12.358957        5.0       0.0          5.0  \n",
       "9          0.182565      5.858659        5.0       0.0          5.0  \n",
       "10         1.918475      2.697114        5.0       0.0          5.0  \n",
       "11         0.811833      2.620381        5.0       0.0          5.0  \n",
       "12         1.687787      3.782256        5.0       0.0          5.0  \n",
       "...             ...           ...        ...       ...          ...  \n",
       "16741116   0.539055     13.527273        5.0       0.0          5.0  \n",
       "16741117   0.929227     13.790260        5.0       0.0          5.0  \n",
       "16741118   1.807897     15.654735        5.0       0.0          5.0  \n",
       "16741119   0.249763     12.601324        5.0       0.0          5.0  \n",
       "16741120   1.930345     17.931253        5.0       0.0          5.0  \n",
       "\n",
       "[10684605 rows x 13 columns]"
      ]
     },
     "execution_count": 6,
     "metadata": {},
     "output_type": "execute_result"
    }
   ],
   "source": [
    "terrain_overlay"
   ]
  },
  {
   "cell_type": "markdown",
   "metadata": {},
   "source": [
    "### Landsat Overlay"
   ]
  },
  {
   "cell_type": "code",
   "execution_count": 7,
   "metadata": {},
   "outputs": [
    {
     "name": "stdout",
     "output_type": "stream",
     "text": [
      "2023-12-20 05:04:16,974 DEBUG: Match Landsat for year 2019 [in overlay_landsat at /home/jk871/fire-regen/src/data/processing/raster_overlays.py:47]\n",
      "2023-12-20 05:06:38,803 DEBUG: Match Landsat for year 2020 [in overlay_landsat at /home/jk871/fire-regen/src/data/processing/raster_overlays.py:47]\n",
      "2023-12-20 05:09:16,509 DEBUG: Match Landsat for year 2021 [in overlay_landsat at /home/jk871/fire-regen/src/data/processing/raster_overlays.py:47]\n",
      "2023-12-20 05:11:40,033 DEBUG: Match Landsat for year 2022 [in overlay_landsat at /home/jk871/fire-regen/src/data/processing/raster_overlays.py:47]\n",
      "2023-12-20 05:13:56,075 INFO: Saving the results. [in _save_overlay at /home/jk871/fire-regen/src/data/processing/raster_overlays.py:84]\n"
     ]
    }
   ],
   "source": [
    "landsat_overlay = raster_overlays.overlay_landsat(input_path, get_output_path(\"landsat_overlay.pkl\"))"
   ]
  },
  {
   "cell_type": "markdown",
   "metadata": {},
   "source": [
    "### Dynamic World Overlay"
   ]
  },
  {
   "cell_type": "code",
   "execution_count": 9,
   "metadata": {},
   "outputs": [
    {
     "name": "stdout",
     "output_type": "stream",
     "text": [
      "2023-12-20 05:16:54,894 DEBUG: Match with Dynamic World for year 2018 [in overlay_dynamic_world at /home/jk871/fire-regen/src/data/processing/raster_overlays.py:67]\n",
      "2023-12-20 05:20:17,686 DEBUG: Match with Dynamic World for year 2019 [in overlay_dynamic_world at /home/jk871/fire-regen/src/data/processing/raster_overlays.py:67]\n",
      "2023-12-20 05:24:57,238 DEBUG: Match with Dynamic World for year 2020 [in overlay_dynamic_world at /home/jk871/fire-regen/src/data/processing/raster_overlays.py:67]\n",
      "2023-12-20 05:28:54,545 DEBUG: Match with Dynamic World for year 2021 [in overlay_dynamic_world at /home/jk871/fire-regen/src/data/processing/raster_overlays.py:67]\n",
      "2023-12-20 05:34:17,783 DEBUG: Match with Dynamic World for year 2022 [in overlay_dynamic_world at /home/jk871/fire-regen/src/data/processing/raster_overlays.py:67]\n",
      "2023-12-20 05:34:58,171 INFO: Saving the results. [in _save_overlay at /home/jk871/fire-regen/src/data/processing/raster_overlays.py:84]\n"
     ]
    }
   ],
   "source": [
    "dy_overlay = raster_overlays.overlay_dynamic_world(input_path, get_output_path(\"dynamic_world_overlay.pkl\"))"
   ]
  },
  {
   "cell_type": "code",
   "execution_count": 10,
   "metadata": {},
   "outputs": [
    {
     "data": {
      "text/html": [
       "<div>\n",
       "<style scoped>\n",
       "    .dataframe tbody tr th:only-of-type {\n",
       "        vertical-align: middle;\n",
       "    }\n",
       "\n",
       "    .dataframe tbody tr th {\n",
       "        vertical-align: top;\n",
       "    }\n",
       "\n",
       "    .dataframe thead th {\n",
       "        text-align: right;\n",
       "    }\n",
       "</style>\n",
       "<table border=\"1\" class=\"dataframe\">\n",
       "  <thead>\n",
       "    <tr style=\"text-align: right;\">\n",
       "      <th></th>\n",
       "      <th>shot_number</th>\n",
       "      <th>dw_land_cover_mean</th>\n",
       "      <th>dw_land_cover_std</th>\n",
       "      <th>dw_land_cover_median</th>\n",
       "    </tr>\n",
       "  </thead>\n",
       "  <tbody>\n",
       "    <tr>\n",
       "      <th>162</th>\n",
       "      <td>52820200200087271</td>\n",
       "      <td>7.000000</td>\n",
       "      <td>0.000000</td>\n",
       "      <td>7.0</td>\n",
       "    </tr>\n",
       "    <tr>\n",
       "      <th>166</th>\n",
       "      <td>49050800300290802</td>\n",
       "      <td>7.000000</td>\n",
       "      <td>0.000000</td>\n",
       "      <td>7.0</td>\n",
       "    </tr>\n",
       "    <tr>\n",
       "      <th>167</th>\n",
       "      <td>49050800300290803</td>\n",
       "      <td>7.000000</td>\n",
       "      <td>0.000000</td>\n",
       "      <td>7.0</td>\n",
       "    </tr>\n",
       "    <tr>\n",
       "      <th>168</th>\n",
       "      <td>49050800300290808</td>\n",
       "      <td>6.666667</td>\n",
       "      <td>0.942809</td>\n",
       "      <td>7.0</td>\n",
       "    </tr>\n",
       "    <tr>\n",
       "      <th>169</th>\n",
       "      <td>49050800300290817</td>\n",
       "      <td>7.000000</td>\n",
       "      <td>0.000000</td>\n",
       "      <td>7.0</td>\n",
       "    </tr>\n",
       "    <tr>\n",
       "      <th>...</th>\n",
       "      <td>...</td>\n",
       "      <td>...</td>\n",
       "      <td>...</td>\n",
       "      <td>...</td>\n",
       "    </tr>\n",
       "    <tr>\n",
       "      <th>16739933</th>\n",
       "      <td>233870600200454560</td>\n",
       "      <td>1.000000</td>\n",
       "      <td>0.000000</td>\n",
       "      <td>1.0</td>\n",
       "    </tr>\n",
       "    <tr>\n",
       "      <th>16739934</th>\n",
       "      <td>233870800200082578</td>\n",
       "      <td>1.000000</td>\n",
       "      <td>0.000000</td>\n",
       "      <td>1.0</td>\n",
       "    </tr>\n",
       "    <tr>\n",
       "      <th>16739935</th>\n",
       "      <td>233870800200082579</td>\n",
       "      <td>1.000000</td>\n",
       "      <td>0.000000</td>\n",
       "      <td>1.0</td>\n",
       "    </tr>\n",
       "    <tr>\n",
       "      <th>16739936</th>\n",
       "      <td>233870800200082582</td>\n",
       "      <td>4.555556</td>\n",
       "      <td>1.257079</td>\n",
       "      <td>5.0</td>\n",
       "    </tr>\n",
       "    <tr>\n",
       "      <th>16739937</th>\n",
       "      <td>233870800200082586</td>\n",
       "      <td>6.000000</td>\n",
       "      <td>0.000000</td>\n",
       "      <td>6.0</td>\n",
       "    </tr>\n",
       "  </tbody>\n",
       "</table>\n",
       "<p>10684625 rows × 4 columns</p>\n",
       "</div>"
      ],
      "text/plain": [
       "                 shot_number  dw_land_cover_mean  dw_land_cover_std  \\\n",
       "162        52820200200087271            7.000000           0.000000   \n",
       "166        49050800300290802            7.000000           0.000000   \n",
       "167        49050800300290803            7.000000           0.000000   \n",
       "168        49050800300290808            6.666667           0.942809   \n",
       "169        49050800300290817            7.000000           0.000000   \n",
       "...                      ...                 ...                ...   \n",
       "16739933  233870600200454560            1.000000           0.000000   \n",
       "16739934  233870800200082578            1.000000           0.000000   \n",
       "16739935  233870800200082579            1.000000           0.000000   \n",
       "16739936  233870800200082582            4.555556           1.257079   \n",
       "16739937  233870800200082586            6.000000           0.000000   \n",
       "\n",
       "          dw_land_cover_median  \n",
       "162                        7.0  \n",
       "166                        7.0  \n",
       "167                        7.0  \n",
       "168                        7.0  \n",
       "169                        7.0  \n",
       "...                        ...  \n",
       "16739933                   1.0  \n",
       "16739934                   1.0  \n",
       "16739935                   1.0  \n",
       "16739936                   5.0  \n",
       "16739937                   6.0  \n",
       "\n",
       "[10684625 rows x 4 columns]"
      ]
     },
     "execution_count": 10,
     "metadata": {},
     "output_type": "execute_result"
    }
   ],
   "source": [
    "dy_overlay"
   ]
  },
  {
   "cell_type": "markdown",
   "metadata": {},
   "source": [
    "## Running all stages of the GEDI pipeline"
   ]
  },
  {
   "cell_type": "markdown",
   "metadata": {},
   "source": [
    "### Stage 3 - Match with MTBS burn raster\n",
    "\n",
    "This can be done with a 3x3 or 2x2 kernel. 3x3 gives us better precision and guarantees data matching, while 2x2 has lower accuracy but preserves more data points."
   ]
  },
  {
   "cell_type": "code",
   "execution_count": null,
   "metadata": {},
   "outputs": [],
   "source": [
    "# 2x2 kernel - combined shots\n",
    "gedi_2x2 = gedi_pipeline.stage_3_match_burn_raster_l4a_sierras(2)"
   ]
  },
  {
   "cell_type": "markdown",
   "metadata": {},
   "source": [
    "### Stage 3B - Match with fire perimeters from CalFire\n",
    "\n",
    "These include fires before 1984, as well as fires that are smaller than 1000 acres - which is around 4km^2. This may take a while because we're doing spatial joins between fire perimeters and 9 million GEDI shots."
   ]
  },
  {
   "cell_type": "code",
   "execution_count": null,
   "metadata": {},
   "outputs": [],
   "source": [
    "# Get Fire perimeter data\n",
    "sierras = gpd.read_file(\"../../data/shapefiles/sierras_convex_hull.shp\")\n",
    "firep_db = FirePerimetersDB('../../data/fire_perimeters.gdb/')\n",
    "sierra_firep = FirePerimeters(firep_db).filter_within_geometry(sierras)"
   ]
  },
  {
   "cell_type": "code",
   "execution_count": null,
   "metadata": {},
   "outputs": [],
   "source": [
    "#TODO: Consider doing this. For now, we won't because the processing time of geo \n",
    "# spatial matching between all of these fires will be time consuming. Instead, let's\n",
    "# focus on fires > 1000 acres that are part of MTBS DB."
   ]
  },
  {
   "cell_type": "markdown",
   "metadata": {},
   "source": [
    "### Stage 4 - Filter based on matching with burn raster"
   ]
  },
  {
   "cell_type": "code",
   "execution_count": null,
   "metadata": {},
   "outputs": [],
   "source": [
    "# 2x2 kernel - combined\n",
    "gedi_2x2 = gedi_pipeline.stage_4_filter_burns_l4a_sierras(2)"
   ]
  },
  {
   "cell_type": "code",
   "execution_count": null,
   "metadata": {},
   "outputs": [],
   "source": [
    "# 2x2 kernel - combined\n",
    "gedi_2x2 = gedi_pipeline.stage_4_filter_burns_l4a_sierras(2)"
   ]
  },
  {
   "cell_type": "markdown",
   "metadata": {},
   "source": [
    "### Stage 5 - Terrain Match"
   ]
  },
  {
   "cell_type": "code",
   "execution_count": null,
   "metadata": {},
   "outputs": [],
   "source": [
    "gedi_burned_2x2, gedi_unburned_2x2 = gedi_pipeline.stage_5_match_terrain(2)"
   ]
  },
  {
   "cell_type": "markdown",
   "metadata": {},
   "source": [
    "### Stage 6 - Filter Terrain"
   ]
  },
  {
   "cell_type": "code",
   "execution_count": null,
   "metadata": {},
   "outputs": [],
   "source": [
    "gedi_burned_2x2, gedi_unburned_2x2 = gedi_pipeline.stage_6_filter_terrain(2)"
   ]
  },
  {
   "cell_type": "markdown",
   "metadata": {},
   "source": [
    "### Stage 7 - Match Land Cover"
   ]
  },
  {
   "cell_type": "code",
   "execution_count": null,
   "metadata": {},
   "outputs": [],
   "source": [
    "gedi_burned_2x2, gedi_unburned_2x2 = gedi_pipeline.stage_7_match_land_cover(2)"
   ]
  },
  {
   "cell_type": "markdown",
   "metadata": {},
   "source": [
    "### Stage 8 - Match with Landsat"
   ]
  },
  {
   "cell_type": "code",
   "execution_count": null,
   "metadata": {},
   "outputs": [],
   "source": [
    "gedi_burned_2x2, gedi_unburned_2x2 = gedi_pipeline.stage_8_match_with_NDVI(2)"
   ]
  },
  {
   "cell_type": "markdown",
   "metadata": {},
   "source": [
    "### Stage 6 - Match Land Cover"
   ]
  },
  {
   "cell_type": "markdown",
   "metadata": {},
   "source": [
    "### Stage 7 - Match with Landsat"
   ]
  },
  {
   "cell_type": "markdown",
   "metadata": {},
   "source": [
    "### Stage 5 - filter for regrowth"
   ]
  },
  {
   "cell_type": "code",
   "execution_count": null,
   "metadata": {},
   "outputs": [],
   "source": [
    "# combined\n",
    "gedi_burned_2x2, gedi_unburned_2x2 = gedi_pipeline.stage_5_filter_for_regrowth_l4a_sierras(2)"
   ]
  },
  {
   "cell_type": "markdown",
   "metadata": {},
   "source": [
    "### Stage 6 - Match with Land Cover"
   ]
  },
  {
   "cell_type": "code",
   "execution_count": null,
   "metadata": {},
   "outputs": [],
   "source": [
    "# combined\n",
    "gedi_burned_2x2, gedi_unburned_2x2 = gedi_pipeline.stage_6_match_land_cover_l4a_sierras(2)"
   ]
  },
  {
   "cell_type": "markdown",
   "metadata": {},
   "source": [
    "### Stage 7 - Filter based on Land Cover\n",
    "\n",
    "For burned areas, we match each shot with the land cover as it was a year before the fire.\n",
    "\n",
    "TODO: Decide if this is what we want to do - For unburned areas, we match each shot with the land cover from 2021."
   ]
  },
  {
   "cell_type": "markdown",
   "metadata": {},
   "source": [
    "We used to do: for filtering land cover we still use 3x3 kernel, even on 2x2 burn raster matches. This is due to cali forests being rather fragmented, so it's good to be extra certain about the forest cover.\n",
    "\n",
    "However I have since started using 2x2. We can always go back on this decision."
   ]
  },
  {
   "cell_type": "markdown",
   "metadata": {},
   "source": [
    "Number of shots that were trees before they burned with 3x3 filtering - 455534. With 2x2 filtering - 492582."
   ]
  },
  {
   "cell_type": "code",
   "execution_count": null,
   "metadata": {},
   "outputs": [],
   "source": [
    "# combined\n",
    "gedi_burned_2x2, gedi_unburned_2x2 = gedi_pipeline.stage_7_filter_land_cover_l4a_sierras(2)"
   ]
  },
  {
   "cell_type": "markdown",
   "metadata": {},
   "source": [
    "### Stage 8 - Match Terrain"
   ]
  },
  {
   "cell_type": "code",
   "execution_count": null,
   "metadata": {},
   "outputs": [],
   "source": [
    "# combined\n",
    "gedi_burned_2x2, gedi_unburned_2x2 = gedi_pipeline.stage_8_match_terrain_l4a_sierras(2)"
   ]
  },
  {
   "cell_type": "code",
   "execution_count": null,
   "metadata": {},
   "outputs": [],
   "source": [
    "gedi_burned_2x2.shape[0]"
   ]
  },
  {
   "cell_type": "markdown",
   "metadata": {},
   "source": [
    "### Stage 9 - Match Terrain"
   ]
  },
  {
   "cell_type": "code",
   "execution_count": null,
   "metadata": {},
   "outputs": [],
   "source": [
    "gedi_burned_2x2, gedi_unburned_2x2 = gedi_pipeline.stage_9_filter_terrain_l4a_sierras(2)"
   ]
  },
  {
   "cell_type": "markdown",
   "metadata": {},
   "source": [
    "### Stage 10 - Match with NDVI"
   ]
  },
  {
   "cell_type": "code",
   "execution_count": null,
   "metadata": {},
   "outputs": [],
   "source": [
    "gedi_burned_2x2, gedi_unburned_2x2 = gedi_pipeline.stage_10_match_with_NDVI(2)"
   ]
  },
  {
   "cell_type": "markdown",
   "metadata": {},
   "source": [
    "### Stage 11 - Match with Dynamic World"
   ]
  },
  {
   "cell_type": "code",
   "execution_count": null,
   "metadata": {},
   "outputs": [],
   "source": [
    "gedi_burned_2x2, gedi_unburned_2x2 = gedi_pipeline.stage_11_match_with_dynamic_world()"
   ]
  },
  {
   "cell_type": "code",
   "execution_count": null,
   "metadata": {},
   "outputs": [],
   "source": []
  }
 ],
 "metadata": {
  "kernelspec": {
   "display_name": "Python 3.10.12 ('drought')",
   "language": "python",
   "name": "python3"
  },
  "language_info": {
   "codemirror_mode": {
    "name": "ipython",
    "version": 3
   },
   "file_extension": ".py",
   "mimetype": "text/x-python",
   "name": "python",
   "nbconvert_exporter": "python",
   "pygments_lexer": "ipython3",
   "version": "3.10.12"
  },
  "orig_nbformat": 4,
  "vscode": {
   "interpreter": {
    "hash": "1f736514a98fcc3e6a7aa48aaac16ce5b1041d2c9fa71bed1e40355e31f675cb"
   }
  }
 },
 "nbformat": 4,
 "nbformat_minor": 2
}
