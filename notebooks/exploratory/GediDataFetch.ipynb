{
 "cells": [
  {
   "cell_type": "code",
   "execution_count": 52,
   "metadata": {},
   "outputs": [
    {
     "name": "stdout",
     "output_type": "stream",
     "text": [
      "2023-06-15 21:58:13,693 DEBUG: Logger /home/jk871/fire-regen/src/data/gedi_pipeline.py already set up. [in get_logger at /home/jk871/fire-regen/src/utils/logging_util.py:51]\n"
     ]
    },
    {
     "data": {
      "text/plain": [
       "<module 'src.data.gedi_pipeline' from '/home/jk871/fire-regen/src/data/gedi_pipeline.py'>"
      ]
     },
     "execution_count": 52,
     "metadata": {},
     "output_type": "execute_result"
    }
   ],
   "source": [
    "import geopandas as gpd\n",
    "from src.data import gedi_pipeline\n",
    "from src.data.fire_perimeters import FirePerimeters, FirePerimetersDB\n",
    "\n",
    "import importlib\n",
    "importlib.reload(gedi_pipeline)\n"
   ]
  },
  {
   "cell_type": "markdown",
   "metadata": {},
   "source": [
    "## Running all stages of the GEDI pipeline"
   ]
  },
  {
   "cell_type": "markdown",
   "metadata": {},
   "source": [
    "### Stage 2 - basic l4a processing"
   ]
  },
  {
   "cell_type": "code",
   "execution_count": 3,
   "metadata": {},
   "outputs": [
    {
     "name": "stdout",
     "output_type": "stream",
     "text": [
      "2023-06-15 20:13:58,198 DEBUG: Saving stage 2 processed shots as pickle. [in stage_2_basic_processing_of_l4a_sierras_data at /home/jk871/fire-regen/src/data/gedi_pipeline.py:458]\n"
     ]
    },
    {
     "data": {
      "text/html": [
       "<div>\n",
       "<style scoped>\n",
       "    .dataframe tbody tr th:only-of-type {\n",
       "        vertical-align: middle;\n",
       "    }\n",
       "\n",
       "    .dataframe tbody tr th {\n",
       "        vertical-align: top;\n",
       "    }\n",
       "\n",
       "    .dataframe thead th {\n",
       "        text-align: right;\n",
       "    }\n",
       "</style>\n",
       "<table border=\"1\" class=\"dataframe\">\n",
       "  <thead>\n",
       "    <tr style=\"text-align: right;\">\n",
       "      <th></th>\n",
       "      <th>shot_number</th>\n",
       "      <th>longitude</th>\n",
       "      <th>latitude</th>\n",
       "      <th>agbd</th>\n",
       "      <th>agbd_pi_lower</th>\n",
       "      <th>agbd_pi_upper</th>\n",
       "      <th>agbd_se</th>\n",
       "      <th>beam_type</th>\n",
       "      <th>sensitivity</th>\n",
       "      <th>pft_class</th>\n",
       "      <th>gedi_year</th>\n",
       "      <th>gedi_month</th>\n",
       "      <th>absolute_time</th>\n",
       "    </tr>\n",
       "  </thead>\n",
       "  <tbody>\n",
       "    <tr>\n",
       "      <th>0</th>\n",
       "      <td>184890800200086632</td>\n",
       "      <td>-117.983310</td>\n",
       "      <td>37.034945</td>\n",
       "      <td>19.594500</td>\n",
       "      <td>2.419877</td>\n",
       "      <td>53.254089</td>\n",
       "      <td>2.981980</td>\n",
       "      <td>full</td>\n",
       "      <td>0.959151</td>\n",
       "      <td>6</td>\n",
       "      <td>2022</td>\n",
       "      <td>3</td>\n",
       "      <td>2022-03-19 02:41:53.252278+00:00</td>\n",
       "    </tr>\n",
       "    <tr>\n",
       "      <th>1</th>\n",
       "      <td>184891100200081451</td>\n",
       "      <td>-117.985725</td>\n",
       "      <td>37.040705</td>\n",
       "      <td>17.788033</td>\n",
       "      <td>1.812951</td>\n",
       "      <td>50.249866</td>\n",
       "      <td>2.982302</td>\n",
       "      <td>full</td>\n",
       "      <td>0.966117</td>\n",
       "      <td>6</td>\n",
       "      <td>2022</td>\n",
       "      <td>3</td>\n",
       "      <td>2022-03-19 02:41:53.339050+00:00</td>\n",
       "    </tr>\n",
       "    <tr>\n",
       "      <th>2</th>\n",
       "      <td>184891100200081452</td>\n",
       "      <td>-117.985239</td>\n",
       "      <td>37.041043</td>\n",
       "      <td>16.219337</td>\n",
       "      <td>1.336309</td>\n",
       "      <td>47.591499</td>\n",
       "      <td>2.982735</td>\n",
       "      <td>full</td>\n",
       "      <td>0.966954</td>\n",
       "      <td>6</td>\n",
       "      <td>2022</td>\n",
       "      <td>3</td>\n",
       "      <td>2022-03-19 02:41:53.347314+00:00</td>\n",
       "    </tr>\n",
       "    <tr>\n",
       "      <th>3</th>\n",
       "      <td>184891100200081453</td>\n",
       "      <td>-117.984755</td>\n",
       "      <td>37.041380</td>\n",
       "      <td>6.750648</td>\n",
       "      <td>-9999.000000</td>\n",
       "      <td>29.955231</td>\n",
       "      <td>2.990220</td>\n",
       "      <td>full</td>\n",
       "      <td>0.970945</td>\n",
       "      <td>6</td>\n",
       "      <td>2022</td>\n",
       "      <td>3</td>\n",
       "      <td>2022-03-19 02:41:53.355578+00:00</td>\n",
       "    </tr>\n",
       "    <tr>\n",
       "      <th>4</th>\n",
       "      <td>184891100200081454</td>\n",
       "      <td>-117.984267</td>\n",
       "      <td>37.041720</td>\n",
       "      <td>4.370386</td>\n",
       "      <td>-9999.000000</td>\n",
       "      <td>24.677294</td>\n",
       "      <td>2.994677</td>\n",
       "      <td>full</td>\n",
       "      <td>0.961078</td>\n",
       "      <td>6</td>\n",
       "      <td>2022</td>\n",
       "      <td>3</td>\n",
       "      <td>2022-03-19 02:41:53.363842+00:00</td>\n",
       "    </tr>\n",
       "    <tr>\n",
       "      <th>...</th>\n",
       "      <td>...</td>\n",
       "      <td>...</td>\n",
       "      <td>...</td>\n",
       "      <td>...</td>\n",
       "      <td>...</td>\n",
       "      <td>...</td>\n",
       "      <td>...</td>\n",
       "      <td>...</td>\n",
       "      <td>...</td>\n",
       "      <td>...</td>\n",
       "      <td>...</td>\n",
       "      <td>...</td>\n",
       "      <td>...</td>\n",
       "    </tr>\n",
       "    <tr>\n",
       "      <th>27629560</th>\n",
       "      <td>145740600300499241</td>\n",
       "      <td>-120.454065</td>\n",
       "      <td>40.766560</td>\n",
       "      <td>4.699281</td>\n",
       "      <td>-9999.000000</td>\n",
       "      <td>25.447033</td>\n",
       "      <td>2.993938</td>\n",
       "      <td>full</td>\n",
       "      <td>0.957520</td>\n",
       "      <td>6</td>\n",
       "      <td>2021</td>\n",
       "      <td>7</td>\n",
       "      <td>2021-07-09 13:28:27.680490+00:00</td>\n",
       "    </tr>\n",
       "    <tr>\n",
       "      <th>27629561</th>\n",
       "      <td>145740600300499242</td>\n",
       "      <td>-120.453532</td>\n",
       "      <td>40.766257</td>\n",
       "      <td>2.924632</td>\n",
       "      <td>-9999.000000</td>\n",
       "      <td>21.060156</td>\n",
       "      <td>2.998635</td>\n",
       "      <td>full</td>\n",
       "      <td>0.957790</td>\n",
       "      <td>6</td>\n",
       "      <td>2021</td>\n",
       "      <td>7</td>\n",
       "      <td>2021-07-09 13:28:27.688756+00:00</td>\n",
       "    </tr>\n",
       "    <tr>\n",
       "      <th>27629562</th>\n",
       "      <td>145740600300499244</td>\n",
       "      <td>-120.452463</td>\n",
       "      <td>40.765649</td>\n",
       "      <td>1.500722</td>\n",
       "      <td>-9999.000000</td>\n",
       "      <td>16.865877</td>\n",
       "      <td>3.004451</td>\n",
       "      <td>full</td>\n",
       "      <td>0.954659</td>\n",
       "      <td>6</td>\n",
       "      <td>2021</td>\n",
       "      <td>7</td>\n",
       "      <td>2021-07-09 13:28:27.705288+00:00</td>\n",
       "    </tr>\n",
       "    <tr>\n",
       "      <th>27629564</th>\n",
       "      <td>145740800300301239</td>\n",
       "      <td>-120.463172</td>\n",
       "      <td>40.762280</td>\n",
       "      <td>3.823108</td>\n",
       "      <td>-9999.000000</td>\n",
       "      <td>23.357908</td>\n",
       "      <td>2.996024</td>\n",
       "      <td>full</td>\n",
       "      <td>0.955201</td>\n",
       "      <td>6</td>\n",
       "      <td>2021</td>\n",
       "      <td>7</td>\n",
       "      <td>2021-07-09 13:28:27.978045+00:00</td>\n",
       "    </tr>\n",
       "    <tr>\n",
       "      <th>27629565</th>\n",
       "      <td>145740800300301248</td>\n",
       "      <td>-120.458287</td>\n",
       "      <td>40.759501</td>\n",
       "      <td>6.291953</td>\n",
       "      <td>-9999.000000</td>\n",
       "      <td>28.983778</td>\n",
       "      <td>2.990940</td>\n",
       "      <td>full</td>\n",
       "      <td>0.954473</td>\n",
       "      <td>6</td>\n",
       "      <td>2021</td>\n",
       "      <td>7</td>\n",
       "      <td>2021-07-09 13:28:28.052421+00:00</td>\n",
       "    </tr>\n",
       "  </tbody>\n",
       "</table>\n",
       "<p>9884257 rows × 13 columns</p>\n",
       "</div>"
      ],
      "text/plain": [
       "                 shot_number   longitude   latitude       agbd  agbd_pi_lower  \\\n",
       "0         184890800200086632 -117.983310  37.034945  19.594500       2.419877   \n",
       "1         184891100200081451 -117.985725  37.040705  17.788033       1.812951   \n",
       "2         184891100200081452 -117.985239  37.041043  16.219337       1.336309   \n",
       "3         184891100200081453 -117.984755  37.041380   6.750648   -9999.000000   \n",
       "4         184891100200081454 -117.984267  37.041720   4.370386   -9999.000000   \n",
       "...                      ...         ...        ...        ...            ...   \n",
       "27629560  145740600300499241 -120.454065  40.766560   4.699281   -9999.000000   \n",
       "27629561  145740600300499242 -120.453532  40.766257   2.924632   -9999.000000   \n",
       "27629562  145740600300499244 -120.452463  40.765649   1.500722   -9999.000000   \n",
       "27629564  145740800300301239 -120.463172  40.762280   3.823108   -9999.000000   \n",
       "27629565  145740800300301248 -120.458287  40.759501   6.291953   -9999.000000   \n",
       "\n",
       "          agbd_pi_upper   agbd_se beam_type  sensitivity  pft_class  \\\n",
       "0             53.254089  2.981980      full     0.959151          6   \n",
       "1             50.249866  2.982302      full     0.966117          6   \n",
       "2             47.591499  2.982735      full     0.966954          6   \n",
       "3             29.955231  2.990220      full     0.970945          6   \n",
       "4             24.677294  2.994677      full     0.961078          6   \n",
       "...                 ...       ...       ...          ...        ...   \n",
       "27629560      25.447033  2.993938      full     0.957520          6   \n",
       "27629561      21.060156  2.998635      full     0.957790          6   \n",
       "27629562      16.865877  3.004451      full     0.954659          6   \n",
       "27629564      23.357908  2.996024      full     0.955201          6   \n",
       "27629565      28.983778  2.990940      full     0.954473          6   \n",
       "\n",
       "          gedi_year  gedi_month                    absolute_time  \n",
       "0              2022           3 2022-03-19 02:41:53.252278+00:00  \n",
       "1              2022           3 2022-03-19 02:41:53.339050+00:00  \n",
       "2              2022           3 2022-03-19 02:41:53.347314+00:00  \n",
       "3              2022           3 2022-03-19 02:41:53.355578+00:00  \n",
       "4              2022           3 2022-03-19 02:41:53.363842+00:00  \n",
       "...             ...         ...                              ...  \n",
       "27629560       2021           7 2021-07-09 13:28:27.680490+00:00  \n",
       "27629561       2021           7 2021-07-09 13:28:27.688756+00:00  \n",
       "27629562       2021           7 2021-07-09 13:28:27.705288+00:00  \n",
       "27629564       2021           7 2021-07-09 13:28:27.978045+00:00  \n",
       "27629565       2021           7 2021-07-09 13:28:28.052421+00:00  \n",
       "\n",
       "[9884257 rows x 13 columns]"
      ]
     },
     "execution_count": 3,
     "metadata": {},
     "output_type": "execute_result"
    }
   ],
   "source": [
    "gedi = gedi_pipeline.stage_2_basic_processing_of_l4a_sierras_data(save=True)\n",
    "gedi"
   ]
  },
  {
   "cell_type": "markdown",
   "metadata": {},
   "source": [
    "### Stage 3 - Match with MTBS burn raster\n",
    "\n",
    "This can be done with a 3x3 or 2x2 kernel. 3x3 gives us better precision and guarantees data matching, while 2x2 has lower accuracy but preserves more data points."
   ]
  },
  {
   "cell_type": "code",
   "execution_count": 5,
   "metadata": {},
   "outputs": [
    {
     "name": "stdout",
     "output_type": "stream",
     "text": [
      "2023-06-15 20:27:59,044 DEBUG: Saving stage 3 processed shots as pickle, for kernel 3. [in stage_3_match_burn_raster_l4a_sierras at /home/jk871/fire-regen/src/data/gedi_pipeline.py:440]\n"
     ]
    }
   ],
   "source": [
    "# 3x3 kernel\n",
    "gedi_3x3 = gedi_pipeline.stage_3_match_burn_raster_l4a_sierras(3)"
   ]
  },
  {
   "cell_type": "code",
   "execution_count": 6,
   "metadata": {},
   "outputs": [
    {
     "name": "stdout",
     "output_type": "stream",
     "text": [
      "2023-06-15 20:38:19,290 DEBUG: Saving stage 3 processed shots as pickle, for kernel 2. [in stage_3_match_burn_raster_l4a_sierras at /home/jk871/fire-regen/src/data/gedi_pipeline.py:440]\n"
     ]
    }
   ],
   "source": [
    "# 2x2 kernel\n",
    "gedi_2x2 = gedi_pipeline.stage_3_match_burn_raster_l4a_sierras(2)"
   ]
  },
  {
   "cell_type": "markdown",
   "metadata": {},
   "source": [
    "### Stage 3B - Match with fire perimeters from CalFire\n",
    "\n",
    "These include fires before 1984, as well as fires that are smaller than 1000 acres - which is around 4km^2. This may take a while because we're doing spatial joins between fire perimeters and 9 million GEDI shots."
   ]
  },
  {
   "cell_type": "code",
   "execution_count": 18,
   "metadata": {},
   "outputs": [],
   "source": [
    "# Get Fire perimeter data\n",
    "sierras = gpd.read_file(\"../../data/shapefiles/sierras_convex_hull.shp\")\n",
    "firep_db = FirePerimetersDB('../../data/fire_perimeters.gdb/')\n",
    "sierra_firep = FirePerimeters(firep_db).filter_within_geometry(sierras)"
   ]
  },
  {
   "cell_type": "code",
   "execution_count": null,
   "metadata": {},
   "outputs": [],
   "source": [
    "#TODO: Consider doing this. For now, we won't because the processing time of geo \n",
    "# spatial matching between all of these fires will be time consuming. Instead, let's\n",
    "# focus on fires > 1000 acres that are part of MTBS DB."
   ]
  },
  {
   "cell_type": "markdown",
   "metadata": {},
   "source": [
    "### Stage 4 - Filter based on matching with burn raster"
   ]
  },
  {
   "cell_type": "markdown",
   "metadata": {},
   "source": [
    "For 3x3 shots, after filtering, we end up with 7,829,875 unburned shots, and 516,474 burned shots. Burned shots in this case include also the ones\n",
    "that burned more than once."
   ]
  },
  {
   "cell_type": "code",
   "execution_count": 31,
   "metadata": {},
   "outputs": [
    {
     "name": "stdout",
     "output_type": "stream",
     "text": [
      "2023-06-15 21:14:00,748 DEBUG: Read in intermediate data from stage 3. [in stage_4_filter_burns_l4a_sierras at /home/jk871/fire-regen/src/data/gedi_pipeline.py:358]\n",
      "2023-06-15 21:14:35,947 DEBUG: Filter burn areas. [in stage_4_filter_burns_l4a_sierras at /home/jk871/fire-regen/src/data/gedi_pipeline.py:361]\n",
      "2023-06-15 21:14:37,652 DEBUG: Excluded shots on the burn boundaries, shots remaining:         9178162 [in divide_shots_into_burned_and_unburned at /home/jk871/fire-regen/src/data/gedi_pipeline.py:413]\n",
      "2023-06-15 21:14:37,947 DEBUG: Number of GEDI shots that burned at least once:                  1262136 [in divide_shots_into_burned_and_unburned at /home/jk871/fire-regen/src/data/gedi_pipeline.py:418]\n",
      "2023-06-15 21:14:39,144 DEBUG: Number of GEDI shots that never burned since 1984:         7829875 [in divide_shots_into_burned_and_unburned at /home/jk871/fire-regen/src/data/gedi_pipeline.py:425]\n",
      "2023-06-15 21:14:39,548 DEBUG: Number of GEDI shots that have a perfect match with burn                    raster (all surrounding pixels have the same severity):                    516474 [in exclude_shots_on_burn_boundaries at /home/jk871/fire-regen/src/data/gedi_pipeline.py:451]\n",
      "2023-06-15 21:14:40,254 DEBUG: Saving stage 4 processed burned shots as pkl,             for kernel 3. [in stage_4_filter_burns_l4a_sierras at /home/jk871/fire-regen/src/data/gedi_pipeline.py:365]\n",
      "2023-06-15 21:14:40,920 DEBUG: Saving stage 4 processed unburned shots as pkl,             for kernel 3. [in stage_4_filter_burns_l4a_sierras at /home/jk871/fire-regen/src/data/gedi_pipeline.py:372]\n"
     ]
    }
   ],
   "source": [
    "# 3x3 kernel\n",
    "gedi_3x3 = gedi_pipeline.stage_4_filter_burns_l4a_sierras(3)"
   ]
  },
  {
   "cell_type": "markdown",
   "metadata": {},
   "source": [
    "For 2x2 shots, after filtering, we end up with 7,852,535 unburned shots, and 895,053 burned shots. Burned shots in this case include also the ones\n",
    "that burned more than once."
   ]
  },
  {
   "cell_type": "code",
   "execution_count": 32,
   "metadata": {},
   "outputs": [
    {
     "name": "stdout",
     "output_type": "stream",
     "text": [
      "2023-06-15 21:15:02,444 DEBUG: Read in intermediate data from stage 3. [in stage_4_filter_burns_l4a_sierras at /home/jk871/fire-regen/src/data/gedi_pipeline.py:358]\n",
      "2023-06-15 21:15:36,383 DEBUG: Filter burn areas. [in stage_4_filter_burns_l4a_sierras at /home/jk871/fire-regen/src/data/gedi_pipeline.py:361]\n",
      "2023-06-15 21:15:38,059 DEBUG: Excluded shots on the burn boundaries, shots remaining:         9446235 [in divide_shots_into_burned_and_unburned at /home/jk871/fire-regen/src/data/gedi_pipeline.py:413]\n",
      "2023-06-15 21:15:38,397 DEBUG: Number of GEDI shots that burned at least once:                  1440937 [in divide_shots_into_burned_and_unburned at /home/jk871/fire-regen/src/data/gedi_pipeline.py:418]\n",
      "2023-06-15 21:15:39,644 DEBUG: Number of GEDI shots that never burned since 1984:         7852535 [in divide_shots_into_burned_and_unburned at /home/jk871/fire-regen/src/data/gedi_pipeline.py:425]\n",
      "2023-06-15 21:15:40,146 DEBUG: Number of GEDI shots that have a perfect match with burn                    raster (all surrounding pixels have the same severity):                    895053 [in exclude_shots_on_burn_boundaries at /home/jk871/fire-regen/src/data/gedi_pipeline.py:451]\n",
      "2023-06-15 21:15:40,909 DEBUG: Saving stage 4 processed burned shots as pkl,             for kernel 2. [in stage_4_filter_burns_l4a_sierras at /home/jk871/fire-regen/src/data/gedi_pipeline.py:365]\n",
      "2023-06-15 21:15:42,117 DEBUG: Saving stage 4 processed unburned shots as pkl,             for kernel 2. [in stage_4_filter_burns_l4a_sierras at /home/jk871/fire-regen/src/data/gedi_pipeline.py:372]\n"
     ]
    }
   ],
   "source": [
    "# 2x2 kernel\n",
    "gedi_2x2 = gedi_pipeline.stage_4_filter_burns_l4a_sierras(2)"
   ]
  },
  {
   "cell_type": "markdown",
   "metadata": {},
   "source": [
    "### Stage 5 - filter for regrowth"
   ]
  },
  {
   "cell_type": "markdown",
   "metadata": {},
   "source": [
    "Burned shots left - 436,817."
   ]
  },
  {
   "cell_type": "code",
   "execution_count": 34,
   "metadata": {},
   "outputs": [
    {
     "name": "stdout",
     "output_type": "stream",
     "text": [
      "2023-06-15 21:23:39,298 DEBUG: Number of shots that happened after fires:                    446058 [in filter_shots_for_regrowth_analysis at /home/jk871/fire-regen/src/data/gedi_pipeline.py:331]\n",
      "2023-06-15 21:23:39,369 DEBUG: Number of shots that burned in 2-4 categories:                    436817 [in filter_shots_for_regrowth_analysis at /home/jk871/fire-regen/src/data/gedi_pipeline.py:336]\n",
      "2023-06-15 21:23:39,378 DEBUG: Saving stage 5 processed burned shots as pkl,             for kernel 3. [in stage_5_filter_for_regrowth_l4a_sierras at /home/jk871/fire-regen/src/data/gedi_pipeline.py:310]\n",
      "2023-06-15 21:23:40,000 DEBUG: Saving stage 5 processed unburned shots as pkl,             for kernel 3. [in stage_5_filter_for_regrowth_l4a_sierras at /home/jk871/fire-regen/src/data/gedi_pipeline.py:317]\n"
     ]
    }
   ],
   "source": [
    "gedi_burned_3x3, gedi_unburned_3x3 = gedi_pipeline.stage_5_filter_for_regrowth_l4a_sierras(3)"
   ]
  },
  {
   "cell_type": "markdown",
   "metadata": {},
   "source": [
    "Burned shots left - 755,887."
   ]
  },
  {
   "cell_type": "code",
   "execution_count": 35,
   "metadata": {},
   "outputs": [
    {
     "name": "stdout",
     "output_type": "stream",
     "text": [
      "2023-06-15 21:24:00,342 DEBUG: Number of shots that happened after fires:                    774368 [in filter_shots_for_regrowth_analysis at /home/jk871/fire-regen/src/data/gedi_pipeline.py:331]\n",
      "2023-06-15 21:24:00,456 DEBUG: Number of shots that burned in 2-4 categories:                    755887 [in filter_shots_for_regrowth_analysis at /home/jk871/fire-regen/src/data/gedi_pipeline.py:336]\n",
      "2023-06-15 21:24:00,471 DEBUG: Saving stage 5 processed burned shots as pkl,             for kernel 2. [in stage_5_filter_for_regrowth_l4a_sierras at /home/jk871/fire-regen/src/data/gedi_pipeline.py:310]\n",
      "2023-06-15 21:24:01,445 DEBUG: Saving stage 5 processed unburned shots as pkl,             for kernel 2. [in stage_5_filter_for_regrowth_l4a_sierras at /home/jk871/fire-regen/src/data/gedi_pipeline.py:317]\n"
     ]
    }
   ],
   "source": [
    "gedi_burned_2x2, gedi_unburned_2x2 = gedi_pipeline.stage_5_filter_for_regrowth_l4a_sierras(2)"
   ]
  },
  {
   "cell_type": "markdown",
   "metadata": {},
   "source": [
    "### Stage 6 - Match with Land Cover"
   ]
  },
  {
   "cell_type": "code",
   "execution_count": 40,
   "metadata": {},
   "outputs": [
    {
     "name": "stdout",
     "output_type": "stream",
     "text": [
      "2023-06-15 21:33:49,375 DEBUG: Matching land cover for year 2017. [in match_burn_landcover at /home/jk871/fire-regen/src/data/gedi_raster_matching.py:88]\n",
      "2023-06-15 21:33:53,573 DEBUG: Matching land cover for year 1996. [in match_burn_landcover at /home/jk871/fire-regen/src/data/gedi_raster_matching.py:88]\n",
      "2023-06-15 21:33:55,485 DEBUG: Matching land cover for year 2004. [in match_burn_landcover at /home/jk871/fire-regen/src/data/gedi_raster_matching.py:88]\n",
      "2023-06-15 21:33:57,418 DEBUG: Matching land cover for year 1995. [in match_burn_landcover at /home/jk871/fire-regen/src/data/gedi_raster_matching.py:88]\n",
      "2023-06-15 21:33:59,024 DEBUG: Matching land cover for year 2015. [in match_burn_landcover at /home/jk871/fire-regen/src/data/gedi_raster_matching.py:88]\n",
      "2023-06-15 21:34:01,550 DEBUG: Matching land cover for year 1991. [in match_burn_landcover at /home/jk871/fire-regen/src/data/gedi_raster_matching.py:88]\n",
      "2023-06-15 21:34:03,495 DEBUG: Matching land cover for year 1985. [in match_burn_landcover at /home/jk871/fire-regen/src/data/gedi_raster_matching.py:88]\n",
      "2023-06-15 21:34:05,810 DEBUG: Matching land cover for year 2001. [in match_burn_landcover at /home/jk871/fire-regen/src/data/gedi_raster_matching.py:88]\n",
      "2023-06-15 21:34:08,023 DEBUG: Matching land cover for year 2018. [in match_burn_landcover at /home/jk871/fire-regen/src/data/gedi_raster_matching.py:88]\n",
      "2023-06-15 21:34:11,354 DEBUG: Matching land cover for year 2020. [in match_burn_landcover at /home/jk871/fire-regen/src/data/gedi_raster_matching.py:88]\n",
      "2023-06-15 21:34:15,864 DEBUG: Matching land cover for year 1984. [in match_burn_landcover at /home/jk871/fire-regen/src/data/gedi_raster_matching.py:88]\n",
      "2023-06-15 21:34:16,388 DEBUG: Matching land cover for year 1988. [in match_burn_landcover at /home/jk871/fire-regen/src/data/gedi_raster_matching.py:88]\n",
      "2023-06-15 21:34:18,761 DEBUG: Matching land cover for year 1999. [in match_burn_landcover at /home/jk871/fire-regen/src/data/gedi_raster_matching.py:88]\n",
      "2023-06-15 21:34:21,184 DEBUG: Matching land cover for year 2019. [in match_burn_landcover at /home/jk871/fire-regen/src/data/gedi_raster_matching.py:88]\n",
      "2023-06-15 21:34:23,787 DEBUG: Matching land cover for year 2012. [in match_burn_landcover at /home/jk871/fire-regen/src/data/gedi_raster_matching.py:88]\n",
      "2023-06-15 21:34:27,257 DEBUG: Matching land cover for year 2006. [in match_burn_landcover at /home/jk871/fire-regen/src/data/gedi_raster_matching.py:88]\n",
      "2023-06-15 21:34:29,663 DEBUG: Matching land cover for year 1987. [in match_burn_landcover at /home/jk871/fire-regen/src/data/gedi_raster_matching.py:88]\n",
      "2023-06-15 21:34:32,065 DEBUG: Matching land cover for year 2011. [in match_burn_landcover at /home/jk871/fire-regen/src/data/gedi_raster_matching.py:88]\n",
      "2023-06-15 21:34:34,427 DEBUG: Matching land cover for year 2007. [in match_burn_landcover at /home/jk871/fire-regen/src/data/gedi_raster_matching.py:88]\n",
      "2023-06-15 21:34:37,513 DEBUG: Matching land cover for year 1992. [in match_burn_landcover at /home/jk871/fire-regen/src/data/gedi_raster_matching.py:88]\n",
      "2023-06-15 21:34:41,432 DEBUG: Matching land cover for year 2016. [in match_burn_landcover at /home/jk871/fire-regen/src/data/gedi_raster_matching.py:88]\n",
      "2023-06-15 21:34:45,218 DEBUG: Matching land cover for year 1994. [in match_burn_landcover at /home/jk871/fire-regen/src/data/gedi_raster_matching.py:88]\n",
      "2023-06-15 21:34:48,503 DEBUG: Matching land cover for year 2008. [in match_burn_landcover at /home/jk871/fire-regen/src/data/gedi_raster_matching.py:88]\n",
      "2023-06-15 21:34:52,040 DEBUG: Matching land cover for year 1990. [in match_burn_landcover at /home/jk871/fire-regen/src/data/gedi_raster_matching.py:88]\n",
      "2023-06-15 21:34:55,295 DEBUG: Matching land cover for year 2013. [in match_burn_landcover at /home/jk871/fire-regen/src/data/gedi_raster_matching.py:88]\n",
      "2023-06-15 21:34:58,882 DEBUG: Matching land cover for year 2000. [in match_burn_landcover at /home/jk871/fire-regen/src/data/gedi_raster_matching.py:88]\n",
      "2023-06-15 21:35:02,229 DEBUG: Matching land cover for year 2003. [in match_burn_landcover at /home/jk871/fire-regen/src/data/gedi_raster_matching.py:88]\n",
      "2023-06-15 21:35:05,487 DEBUG: Matching land cover for year 1986. [in match_burn_landcover at /home/jk871/fire-regen/src/data/gedi_raster_matching.py:88]\n",
      "2023-06-15 21:35:05,769 DEBUG: Matching land cover for year 2009. [in match_burn_landcover at /home/jk871/fire-regen/src/data/gedi_raster_matching.py:88]\n",
      "2023-06-15 21:35:09,195 DEBUG: Matching land cover for year 1997. [in match_burn_landcover at /home/jk871/fire-regen/src/data/gedi_raster_matching.py:88]\n",
      "2023-06-15 21:35:12,258 DEBUG: Matching land cover for year 1998. [in match_burn_landcover at /home/jk871/fire-regen/src/data/gedi_raster_matching.py:88]\n",
      "2023-06-15 21:35:15,366 DEBUG: Matching land cover for year 2005. [in match_burn_landcover at /home/jk871/fire-regen/src/data/gedi_raster_matching.py:88]\n",
      "2023-06-15 21:35:18,448 DEBUG: Matching land cover for year 2014. [in match_burn_landcover at /home/jk871/fire-regen/src/data/gedi_raster_matching.py:88]\n",
      "2023-06-15 21:35:22,275 DEBUG: Matching land cover for year 2010. [in match_burn_landcover at /home/jk871/fire-regen/src/data/gedi_raster_matching.py:88]\n",
      "2023-06-15 21:35:25,602 DEBUG: Matching land cover for year 2021. [in match_burn_landcover at /home/jk871/fire-regen/src/data/gedi_raster_matching.py:88]\n",
      "2023-06-15 21:35:28,719 DEBUG: Matching land cover for year 2002. [in match_burn_landcover at /home/jk871/fire-regen/src/data/gedi_raster_matching.py:88]\n",
      "2023-06-15 21:35:31,937 DEBUG: Matching land cover for year 1989. [in match_burn_landcover at /home/jk871/fire-regen/src/data/gedi_raster_matching.py:88]\n",
      "2023-06-15 21:35:34,645 DEBUG: Matching land cover for year 1993. [in match_burn_landcover at /home/jk871/fire-regen/src/data/gedi_raster_matching.py:88]\n",
      "2023-06-15 21:40:29,826 DEBUG: Saving stage 6 processed burned shots as pkl,             for kernel 3. [in stage_6_match_land_cover_l4a_sierras at /home/jk871/fire-regen/src/data/gedi_pipeline.py:287]\n",
      "2023-06-15 21:40:32,169 DEBUG: Saving stage 6 processed unburned shots as pkl,             for kernel 3. [in stage_6_match_land_cover_l4a_sierras at /home/jk871/fire-regen/src/data/gedi_pipeline.py:294]\n"
     ]
    }
   ],
   "source": [
    "gedi_burned_3x3, gedi_unburned_3x3 = gedi_pipeline.stage_6_match_land_cover_l4a_sierras(3)"
   ]
  },
  {
   "cell_type": "code",
   "execution_count": 41,
   "metadata": {},
   "outputs": [
    {
     "name": "stdout",
     "output_type": "stream",
     "text": [
      "2023-06-15 21:41:33,877 DEBUG: Matching land cover for year 2017. [in match_burn_landcover at /home/jk871/fire-regen/src/data/gedi_raster_matching.py:88]\n",
      "2023-06-15 21:41:37,398 DEBUG: Matching land cover for year 1996. [in match_burn_landcover at /home/jk871/fire-regen/src/data/gedi_raster_matching.py:88]\n",
      "2023-06-15 21:41:38,190 DEBUG: Matching land cover for year 2004. [in match_burn_landcover at /home/jk871/fire-regen/src/data/gedi_raster_matching.py:88]\n",
      "2023-06-15 21:41:38,820 DEBUG: Matching land cover for year 1995. [in match_burn_landcover at /home/jk871/fire-regen/src/data/gedi_raster_matching.py:88]\n",
      "2023-06-15 21:41:39,243 DEBUG: Matching land cover for year 2015. [in match_burn_landcover at /home/jk871/fire-regen/src/data/gedi_raster_matching.py:88]\n",
      "2023-06-15 21:41:41,038 DEBUG: Matching land cover for year 1991. [in match_burn_landcover at /home/jk871/fire-regen/src/data/gedi_raster_matching.py:88]\n",
      "2023-06-15 21:41:41,367 DEBUG: Matching land cover for year 1985. [in match_burn_landcover at /home/jk871/fire-regen/src/data/gedi_raster_matching.py:88]\n",
      "2023-06-15 21:41:42,232 DEBUG: Matching land cover for year 2001. [in match_burn_landcover at /home/jk871/fire-regen/src/data/gedi_raster_matching.py:88]\n",
      "2023-06-15 21:41:43,163 DEBUG: Matching land cover for year 2018. [in match_burn_landcover at /home/jk871/fire-regen/src/data/gedi_raster_matching.py:88]\n",
      "2023-06-15 21:41:45,408 DEBUG: Matching land cover for year 2020. [in match_burn_landcover at /home/jk871/fire-regen/src/data/gedi_raster_matching.py:88]\n",
      "2023-06-15 21:41:49,608 DEBUG: Matching land cover for year 1984. [in match_burn_landcover at /home/jk871/fire-regen/src/data/gedi_raster_matching.py:88]\n",
      "2023-06-15 21:41:50,308 DEBUG: Matching land cover for year 1988. [in match_burn_landcover at /home/jk871/fire-regen/src/data/gedi_raster_matching.py:88]\n",
      "2023-06-15 21:41:50,998 DEBUG: Matching land cover for year 2006. [in match_burn_landcover at /home/jk871/fire-regen/src/data/gedi_raster_matching.py:88]\n",
      "2023-06-15 21:41:51,738 DEBUG: Matching land cover for year 1999. [in match_burn_landcover at /home/jk871/fire-regen/src/data/gedi_raster_matching.py:88]\n",
      "2023-06-15 21:41:52,991 DEBUG: Matching land cover for year 2019. [in match_burn_landcover at /home/jk871/fire-regen/src/data/gedi_raster_matching.py:88]\n",
      "2023-06-15 21:41:53,757 DEBUG: Matching land cover for year 2012. [in match_burn_landcover at /home/jk871/fire-regen/src/data/gedi_raster_matching.py:88]\n",
      "2023-06-15 21:41:56,536 DEBUG: Matching land cover for year 1987. [in match_burn_landcover at /home/jk871/fire-regen/src/data/gedi_raster_matching.py:88]\n",
      "2023-06-15 21:41:57,787 DEBUG: Matching land cover for year 2011. [in match_burn_landcover at /home/jk871/fire-regen/src/data/gedi_raster_matching.py:88]\n",
      "2023-06-15 21:41:58,466 DEBUG: Matching land cover for year 2007. [in match_burn_landcover at /home/jk871/fire-regen/src/data/gedi_raster_matching.py:88]\n",
      "2023-06-15 21:41:59,739 DEBUG: Matching land cover for year 1992. [in match_burn_landcover at /home/jk871/fire-regen/src/data/gedi_raster_matching.py:88]\n",
      "2023-06-15 21:42:01,487 DEBUG: Matching land cover for year 1998. [in match_burn_landcover at /home/jk871/fire-regen/src/data/gedi_raster_matching.py:88]\n",
      "2023-06-15 21:42:02,069 DEBUG: Matching land cover for year 2016. [in match_burn_landcover at /home/jk871/fire-regen/src/data/gedi_raster_matching.py:88]\n",
      "2023-06-15 21:42:03,425 DEBUG: Matching land cover for year 1994. [in match_burn_landcover at /home/jk871/fire-regen/src/data/gedi_raster_matching.py:88]\n",
      "2023-06-15 21:42:04,508 DEBUG: Matching land cover for year 2008. [in match_burn_landcover at /home/jk871/fire-regen/src/data/gedi_raster_matching.py:88]\n",
      "2023-06-15 21:42:06,005 DEBUG: Matching land cover for year 1990. [in match_burn_landcover at /home/jk871/fire-regen/src/data/gedi_raster_matching.py:88]\n",
      "2023-06-15 21:42:06,750 DEBUG: Matching land cover for year 2013. [in match_burn_landcover at /home/jk871/fire-regen/src/data/gedi_raster_matching.py:88]\n",
      "2023-06-15 21:42:08,680 DEBUG: Matching land cover for year 2003. [in match_burn_landcover at /home/jk871/fire-regen/src/data/gedi_raster_matching.py:88]\n",
      "2023-06-15 21:42:09,385 DEBUG: Matching land cover for year 2000. [in match_burn_landcover at /home/jk871/fire-regen/src/data/gedi_raster_matching.py:88]\n",
      "2023-06-15 21:42:10,297 DEBUG: Matching land cover for year 1986. [in match_burn_landcover at /home/jk871/fire-regen/src/data/gedi_raster_matching.py:88]\n",
      "2023-06-15 21:42:10,750 DEBUG: Matching land cover for year 2009. [in match_burn_landcover at /home/jk871/fire-regen/src/data/gedi_raster_matching.py:88]\n",
      "2023-06-15 21:42:11,665 DEBUG: Matching land cover for year 1997. [in match_burn_landcover at /home/jk871/fire-regen/src/data/gedi_raster_matching.py:88]\n",
      "2023-06-15 21:42:12,037 DEBUG: Matching land cover for year 2010. [in match_burn_landcover at /home/jk871/fire-regen/src/data/gedi_raster_matching.py:88]\n",
      "2023-06-15 21:42:12,700 DEBUG: Matching land cover for year 2005. [in match_burn_landcover at /home/jk871/fire-regen/src/data/gedi_raster_matching.py:88]\n",
      "2023-06-15 21:42:13,347 DEBUG: Matching land cover for year 2014. [in match_burn_landcover at /home/jk871/fire-regen/src/data/gedi_raster_matching.py:88]\n",
      "2023-06-15 21:42:15,174 DEBUG: Matching land cover for year 2002. [in match_burn_landcover at /home/jk871/fire-regen/src/data/gedi_raster_matching.py:88]\n",
      "2023-06-15 21:42:16,142 DEBUG: Matching land cover for year 2021. [in match_burn_landcover at /home/jk871/fire-regen/src/data/gedi_raster_matching.py:88]\n",
      "2023-06-15 21:42:17,163 DEBUG: Matching land cover for year 1989. [in match_burn_landcover at /home/jk871/fire-regen/src/data/gedi_raster_matching.py:88]\n",
      "2023-06-15 21:42:17,552 DEBUG: Matching land cover for year 1993. [in match_burn_landcover at /home/jk871/fire-regen/src/data/gedi_raster_matching.py:88]\n",
      "2023-06-15 21:47:19,775 DEBUG: Saving stage 6 processed burned shots as pkl,             for kernel 2. [in stage_6_match_land_cover_l4a_sierras at /home/jk871/fire-regen/src/data/gedi_pipeline.py:287]\n",
      "2023-06-15 21:47:23,723 DEBUG: Saving stage 6 processed unburned shots as pkl,             for kernel 2. [in stage_6_match_land_cover_l4a_sierras at /home/jk871/fire-regen/src/data/gedi_pipeline.py:294]\n"
     ]
    }
   ],
   "source": [
    "gedi_burned_2x2, gedi_unburned_2x2 = gedi_pipeline.stage_6_match_land_cover_l4a_sierras(2)"
   ]
  },
  {
   "cell_type": "markdown",
   "metadata": {},
   "source": [
    "### Stage 7 - Filter based on Land Cover\n",
    "\n",
    "For burned areas, we match each shot with the land cover as it was a year before the fire.\n",
    "\n",
    "For unburned areas, we match each shot with the land cover from 2021."
   ]
  },
  {
   "cell_type": "markdown",
   "metadata": {},
   "source": [
    "Burned shots left - 225814, unburned left - 2707122."
   ]
  },
  {
   "cell_type": "code",
   "execution_count": 47,
   "metadata": {},
   "outputs": [
    {
     "name": "stdout",
     "output_type": "stream",
     "text": [
      "2023-06-15 21:51:31,791 DEBUG: Number of shots that were trees before they burned:                 225814 [in stage_7_filter_land_cover_l4a_sierras at /home/jk871/fire-regen/src/data/gedi_pipeline.py:240]\n",
      "2023-06-15 21:51:33,124 DEBUG: Number of unburned shots that were trees in 2021:             2707122 [in stage_7_filter_land_cover_l4a_sierras at /home/jk871/fire-regen/src/data/gedi_pipeline.py:247]\n",
      "2023-06-15 21:51:33,748 DEBUG: Saving stage 7 processed burned shots as pkl,             for kernel 3. [in stage_7_filter_land_cover_l4a_sierras at /home/jk871/fire-regen/src/data/gedi_pipeline.py:260]\n",
      "2023-06-15 21:51:34,086 DEBUG: Saving stage 7 processed unburned shots as pkl,             for kernel 3. [in stage_7_filter_land_cover_l4a_sierras at /home/jk871/fire-regen/src/data/gedi_pipeline.py:267]\n"
     ]
    }
   ],
   "source": [
    "gedi_burned_3x3, gedi_unburned_3x3 = gedi_pipeline.stage_7_filter_land_cover_l4a_sierras(3)"
   ]
  },
  {
   "cell_type": "markdown",
   "metadata": {},
   "source": [
    "Interestingly, for filtering land cover we still use 3x3 kernel, even on 2x2 burn raster matches. This is due to cali forests being rather fragmented, so it's good to be extra certain about the forest cover.\n",
    "\n",
    "Burned shots left -417824, unburned left - 2715511."
   ]
  },
  {
   "cell_type": "code",
   "execution_count": 50,
   "metadata": {},
   "outputs": [
    {
     "name": "stdout",
     "output_type": "stream",
     "text": [
      "2023-06-15 21:54:18,372 DEBUG: Number of shots that were trees before they burned:                 417824 [in stage_7_filter_land_cover_l4a_sierras at /home/jk871/fire-regen/src/data/gedi_pipeline.py:240]\n",
      "2023-06-15 21:54:19,961 DEBUG: Number of unburned shots that were trees in 2021:             2715511 [in stage_7_filter_land_cover_l4a_sierras at /home/jk871/fire-regen/src/data/gedi_pipeline.py:247]\n",
      "2023-06-15 21:54:20,824 DEBUG: Saving stage 7 processed burned shots as pkl,             for kernel 2. [in stage_7_filter_land_cover_l4a_sierras at /home/jk871/fire-regen/src/data/gedi_pipeline.py:260]\n",
      "2023-06-15 21:54:21,660 DEBUG: Saving stage 7 processed unburned shots as pkl,             for kernel 2. [in stage_7_filter_land_cover_l4a_sierras at /home/jk871/fire-regen/src/data/gedi_pipeline.py:267]\n"
     ]
    }
   ],
   "source": [
    "gedi_burned_2x2, gedi_unburned_2x2 = gedi_pipeline.stage_7_filter_land_cover_l4a_sierras(2)"
   ]
  },
  {
   "cell_type": "markdown",
   "metadata": {},
   "source": [
    "### Stage 8 - Match Terrain"
   ]
  },
  {
   "cell_type": "code",
   "execution_count": 51,
   "metadata": {},
   "outputs": [
    {
     "name": "stdout",
     "output_type": "stream",
     "text": [
      "2023-06-15 21:57:11,647 DEBUG: Saving stage 8 processed burned shots as pkl,             for kernel 3. [in stage_8_match_terrain_l4a_sierras at /home/jk871/fire-regen/src/data/gedi_pipeline.py:199]\n",
      "2023-06-15 21:57:16,016 DEBUG: Saving stage 8 processed unburned shots as pkl,             for kernel 3. [in stage_8_match_terrain_l4a_sierras at /home/jk871/fire-regen/src/data/gedi_pipeline.py:206]\n"
     ]
    }
   ],
   "source": [
    "gedi_burned_3x3, gedi_unburned_3x3 = gedi_pipeline.stage_8_match_terrain_l4a_sierras(3)"
   ]
  },
  {
   "cell_type": "code",
   "execution_count": 53,
   "metadata": {},
   "outputs": [
    {
     "name": "stdout",
     "output_type": "stream",
     "text": [
      "2023-06-15 22:00:08,142 DEBUG: Saving stage 8 processed burned shots as pkl,             for kernel 2. [in stage_8_match_terrain_l4a_sierras at /home/jk871/fire-regen/src/data/gedi_pipeline.py:199]\n",
      "2023-06-15 22:00:15,279 DEBUG: Saving stage 8 processed unburned shots as pkl,             for kernel 2. [in stage_8_match_terrain_l4a_sierras at /home/jk871/fire-regen/src/data/gedi_pipeline.py:206]\n"
     ]
    }
   ],
   "source": [
    "gedi_burned_2x2, gedi_unburned_2x2 = gedi_pipeline.stage_8_match_terrain_l4a_sierras(2)"
   ]
  },
  {
   "cell_type": "markdown",
   "metadata": {},
   "source": [
    "### Stage 9 - Match Terrain"
   ]
  },
  {
   "cell_type": "code",
   "execution_count": 54,
   "metadata": {},
   "outputs": [
    {
     "name": "stdout",
     "output_type": "stream",
     "text": [
      "2023-06-15 22:01:32,666 DEBUG: Saving stage 9 processed burned shots as pkl,             for kernel 3. [in stage_9_filter_terrain_l4a_sierras at /home/jk871/fire-regen/src/data/gedi_pipeline.py:159]\n",
      "2023-06-15 22:01:33,110 DEBUG: Saving stage 9 processed unburned shots as pkl,             for kernel 3. [in stage_9_filter_terrain_l4a_sierras at /home/jk871/fire-regen/src/data/gedi_pipeline.py:166]\n"
     ]
    }
   ],
   "source": [
    "gedi_burned_3x3, gedi_unburned_3x3 = gedi_pipeline.stage_9_filter_terrain_l4a_sierras(3)"
   ]
  },
  {
   "cell_type": "code",
   "execution_count": null,
   "metadata": {},
   "outputs": [],
   "source": [
    "gedi_burned_2x2, gedi_unburned_2x2 = gedi_pipeline.stage_9_filter_terrain_l4a_sierras(2)"
   ]
  }
 ],
 "metadata": {
  "kernelspec": {
   "display_name": "fire-regen-env",
   "language": "python",
   "name": "fire-regen-env"
  },
  "language_info": {
   "codemirror_mode": {
    "name": "ipython",
    "version": 3
   },
   "file_extension": ".py",
   "mimetype": "text/x-python",
   "name": "python",
   "nbconvert_exporter": "python",
   "pygments_lexer": "ipython3",
   "version": "3.10.6"
  },
  "orig_nbformat": 4,
  "vscode": {
   "interpreter": {
    "hash": "31f2aee4e71d21fbe5cf8b01ff0e069b9275f58929596ceb00d14d90e3e16cd6"
   }
  }
 },
 "nbformat": 4,
 "nbformat_minor": 2
}
