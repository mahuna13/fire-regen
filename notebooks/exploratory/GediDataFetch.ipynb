{
 "cells": [
  {
   "cell_type": "code",
   "execution_count": 3,
   "metadata": {},
   "outputs": [],
   "source": [
    "import geopandas as gpd\n",
    "from src.data import gedi_loader\n",
    "import geopandas as gpd\n",
    "import pandas as pd\n",
    "import ee\n",
    "from src.data import mtbs\n",
    "from src.data import raster\n",
    "import rasterio as rio\n",
    "import matplotlib.pyplot as plt\n",
    "from shapely.geometry import Point\n",
    "from rasterio.plot import show\n",
    "pd.options.mode.chained_assignment = None  # default='warn'\n",
    "import seaborn as sns\n",
    "sns.set_theme()\n",
    "\n",
    "import importlib\n",
    "importlib.reload(raster)\n"
   ]
  },
  {
   "cell_type": "code",
   "execution_count": 2,
   "metadata": {},
   "outputs": [],
   "source": [
    "# Fetch simplified regions of interest - to avoid processing problems with really complicated shapes.\n",
    "seki = gpd.read_file(\"../../data/shapefiles/seki_convex_hull.shp\")\n",
    "sierras = gpd.read_file(\"../../data/shapefiles/sierras_convex_hull.shp\")"
   ]
  },
  {
   "cell_type": "code",
   "execution_count": 4,
   "metadata": {},
   "outputs": [
    {
     "name": "stdout",
     "output_type": "stream",
     "text": [
      "2023-05-22 21:55:37,075 INFO: Loading Level 2B GEDI shots for period 2019-2023 in this geometry [in get_l2b_gedi_shots at /home/jk871/fire-regen/src/data/gedi_loader.py:20]\n",
      "2023-05-22 21:55:37,081 DEBUG: SQL Query: SELECT shot_number, absolute_time, lon_lowestmode, lat_lowestmode, fhd_normal, pai, pai_z, pavd_z, rh100, cover, cover_z, l2b_quality_flag, degrade_flag, beam_type, sensitivity, gridded_pft_class, geometry FROM level_2b WHERE absolute_time between '2019-01-01' and '2023-01-01' and ST_Intersects(geometry, ST_GeomFromText('POLYGON ((-118.177503 35.064873, -118.378625 35.115648, -118.38796 35.118057, -118.396459 35.120259, -118.405377 35.122687, -118.465582 35.140768, -118.466223 35.140997, -118.467088 35.14134, -118.467534 35.141614, -118.791936 35.360254, -118.794871 35.36291, -120.937881 38.087349, -122.221321 40.240918, -122.223932 40.246066, -122.225507 40.250349, -122.247187 40.685109, -122.247727 40.702461, -122.236991 40.729693, -121.977352 41.145554, -121.977105 41.145931, -121.973989 41.149605, -121.445983 41.58938, -121.445458 41.589771, -120.700777 41.993795, -120.005074 41.994926, -120.001072 41.994929, -119.999457 41.9949, -118.022 37.214816, -117.738678 36.506689, -117.735442 36.422457, -117.814117 35.942039, -117.867078 35.680112, -117.970837 35.343166, -117.970949 35.342867, -117.981332 35.318405, -117.982421 35.316757, -118.054266 35.213914, -118.055048 35.212859, -118.056833 35.210454, -118.066013 35.198592, -118.089661 35.168178, -118.103068 35.150953, -118.142863 35.099924, -118.146208 35.095736, -118.147463 35.094178, -118.148188 35.093333, -118.177503 35.064873))', 4326)) [in query at /home/jk871/fire-regen/src/data/gedi_database.py:120]\n",
      "2023-05-22 22:48:26,262 DEBUG: Found 27662321 shots in 2019-2023 in the specified geometry [in get_l2b_gedi_shots at /home/jk871/fire-regen/src/data/gedi_loader.py:47]\n",
      "2023-05-22 22:49:24,306 INFO: Number of GEDI shots found: 15628962 [in get_l2b_gedi_shots at /home/jk871/fire-regen/src/data/gedi_loader.py:59]\n"
     ]
    }
   ],
   "source": [
    "gedi_l2b_sierras = gedi_loader.get_l2b_gedi_shots(geometry=sierras.geometry)"
   ]
  },
  {
   "cell_type": "code",
   "execution_count": 5,
   "metadata": {},
   "outputs": [
    {
     "data": {
      "text/plain": [
       "(15628962, 15)"
      ]
     },
     "execution_count": 5,
     "metadata": {},
     "output_type": "execute_result"
    }
   ],
   "source": [
    "gedi_l2b_sierras.shape"
   ]
  },
  {
   "cell_type": "code",
   "execution_count": 6,
   "metadata": {},
   "outputs": [
    {
     "ename": "TypeError",
     "evalue": "get_l2b_gedi_shots() missing 1 required positional argument: 'geometry'",
     "output_type": "error",
     "traceback": [
      "\u001b[0;31m---------------------------------------------------------------------------\u001b[0m",
      "\u001b[0;31mTypeError\u001b[0m                                 Traceback (most recent call last)",
      "\u001b[1;32m/home/jk871/fire-regen/notebooks/exploratory/GediDataFetch.ipynb Cell 5\u001b[0m in \u001b[0;36m<cell line: 1>\u001b[0;34m()\u001b[0m\n\u001b[0;32m----> <a href='vscode-notebook-cell://ssh-remote%2Bsherwood/home/jk871/fire-regen/notebooks/exploratory/GediDataFetch.ipynb#W1sdnNjb2RlLXJlbW90ZQ%3D%3D?line=0'>1</a>\u001b[0m gedi_l2b_sierras \u001b[39m=\u001b[39m gedi_loader\u001b[39m.\u001b[39;49mget_l2b_gedi_shots(save_file_path\u001b[39m=\u001b[39;49m\u001b[39m'\u001b[39;49m\u001b[39m/maps/fire-regen/data/sierras_gedi_l2b_shots.csv\u001b[39;49m\u001b[39m'\u001b[39;49m)\n",
      "\u001b[0;31mTypeError\u001b[0m: get_l2b_gedi_shots() missing 1 required positional argument: 'geometry'"
     ]
    }
   ],
   "source": [
    "gedi_l2b_sierras = gedi_loader.get_l2b_gedi_shots(save_file_path='/maps/fire-regen/data/sierras_gedi_l2b_shots.csv')"
   ]
  },
  {
   "cell_type": "code",
   "execution_count": 7,
   "metadata": {},
   "outputs": [],
   "source": [
    "gedi_l2b_sierras.to_csv('/maps/fire-regen/data/sierras_gedi_l2b_shots.csv')"
   ]
  },
  {
   "cell_type": "code",
   "execution_count": null,
   "metadata": {},
   "outputs": [],
   "source": []
  }
 ],
 "metadata": {
  "kernelspec": {
   "display_name": "drought",
   "language": "python",
   "name": "drought"
  },
  "language_info": {
   "codemirror_mode": {
    "name": "ipython",
    "version": 3
   },
   "file_extension": ".py",
   "mimetype": "text/x-python",
   "name": "python",
   "nbconvert_exporter": "python",
   "pygments_lexer": "ipython3",
   "version": "3.10.6"
  },
  "orig_nbformat": 4,
  "vscode": {
   "interpreter": {
    "hash": "31f2aee4e71d21fbe5cf8b01ff0e069b9275f58929596ceb00d14d90e3e16cd6"
   }
  }
 },
 "nbformat": 4,
 "nbformat_minor": 2
}
