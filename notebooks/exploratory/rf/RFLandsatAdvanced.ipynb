{
 "cells": [
  {
   "cell_type": "code",
   "execution_count": 13,
   "metadata": {},
   "outputs": [
    {
     "name": "stdout",
     "output_type": "stream",
     "text": [
      "2023-06-13 17:32:09,081 DEBUG: Logger /home/jk871/fire-regen/src/data/gedi_pipeline.py already set up. [in get_logger at /home/jk871/fire-regen/src/utils/logging_util.py:51]\n",
      "2023-06-13 17:32:09,082 DEBUG: Logger /home/jk871/fire-regen/src/data/ee_utils.py already set up. [in get_logger at /home/jk871/fire-regen/src/utils/logging_util.py:51]\n",
      "2023-06-13 17:32:09,084 DEBUG: Logger /home/jk871/fire-regen/src/data/gedi_raster_matching.py already set up. [in get_logger at /home/jk871/fire-regen/src/utils/logging_util.py:51]\n",
      "2023-06-13 17:32:09,086 DEBUG: Logger /home/jk871/fire-regen/src/data/fire_perimeters.py already set up. [in get_logger at /home/jk871/fire-regen/src/utils/logging_util.py:51]\n"
     ]
    },
    {
     "data": {
      "text/plain": [
       "<module 'src.data.raster' from '/home/jk871/fire-regen/src/data/raster.py'>"
      ]
     },
     "execution_count": 13,
     "metadata": {},
     "output_type": "execute_result"
    }
   ],
   "source": [
    "import pandas as pd\n",
    "from src.data import gedi_pipeline\n",
    "from src.constants import DATA_PATH, USER_PATH\n",
    "import seaborn as sns\n",
    "import geopandas as gpd\n",
    "\n",
    "from fastbook import *\n",
    "from pandas.api.types import is_string_dtype, is_numeric_dtype, is_categorical_dtype\n",
    "from fastai.tabular.all import *\n",
    "from sklearn.ensemble import RandomForestRegressor\n",
    "from sklearn.tree import DecisionTreeRegressor\n",
    "from dtreeviz.trees import *\n",
    "from IPython.display import Image, display_svg, SVG\n",
    "from sklearn.metrics import *\n",
    "\n",
    "pd.options.display.max_rows = 20\n",
    "pd.options.display.max_columns = 8\n",
    "import ee\n",
    "import geopandas as gpd\n",
    "from src.data import gedi_pipeline\n",
    "from src.data.ee import lcms_import\n",
    "from src.processing.regen import regen_analysis\n",
    "from src.data import ee_utils\n",
    "from src.data.fire_perimeters import FirePerimeters, FirePerimetersDB, Fire, match_gedi_to_raster, FireRastersDB\n",
    "from src.data import fire_perimeters\n",
    "from src.data import gedi_raster_matching\n",
    "from src.data import raster\n",
    "from src.processing.control import random_control\n",
    "import rasterio as rio\n",
    "import matplotlib.pyplot as plt\n",
    "import pandas as pd\n",
    "from src.constants import DATA_PATH, USER_PATH\n",
    "from fitter import Fitter, get_common_distributions, get_distributions\n",
    "import seaborn as sns\n",
    "from src.processing.control import random_control, eval, nearest, terrain_clustering\n",
    "from src.data import k_nn\n",
    "from src.data import clustering\n",
    "import numpy as np\n",
    "from src.data import shape_processor\n",
    "from src.processing.rf import split_data\n",
    "\n",
    "import importlib\n",
    "importlib.reload(regen_analysis)\n",
    "importlib.reload(gedi_pipeline)\n",
    "importlib.reload(ee_utils)\n",
    "importlib.reload(gedi_raster_matching)\n",
    "importlib.reload(raster)\n",
    "importlib.reload(fire_perimeters)\n",
    "importlib.reload(random_control)\n",
    "importlib.reload(eval)\n",
    "importlib.reload(terrain_clustering)\n",
    "importlib.reload(k_nn)\n",
    "importlib.reload(clustering)\n",
    "importlib.reload(raster)"
   ]
  },
  {
   "cell_type": "code",
   "execution_count": 2,
   "metadata": {},
   "outputs": [],
   "source": [
    "sierras = gpd.read_file(f\"{USER_PATH}/data/shapefiles/sierras.shp\")\n",
    "sierras_box = shape_processor.get_box(sierras)"
   ]
  },
  {
   "cell_type": "code",
   "execution_count": 3,
   "metadata": {},
   "outputs": [],
   "source": [
    "def r_mse(pred,y): return round(math.sqrt(mean_squared_error(y, pred)), 6)\n",
    "def m_rmse(m, xs, y): return r_mse(m.predict(xs), y)\n",
    "def r_squared(pred, y):\n",
    "    return r2_score(y, pred)\n",
    "def m_r2(m, xs, y): return r_squared(m.predict(xs), y)"
   ]
  },
  {
   "cell_type": "code",
   "execution_count": 4,
   "metadata": {},
   "outputs": [],
   "source": [
    "sierras = gpd.read_file(f\"{USER_PATH}/data/shapefiles/sierras_convex_hull.shp\")\n",
    "seki = gpd.read_file(f\"{USER_PATH}/data/shapefiles/seki_convex_hull.shp\")"
   ]
  },
  {
   "cell_type": "code",
   "execution_count": 5,
   "metadata": {},
   "outputs": [],
   "source": [
    "gedi_burned, gedi_unburned = gedi_pipeline.load_stage_9(3)"
   ]
  },
  {
   "cell_type": "code",
   "execution_count": 9,
   "metadata": {},
   "outputs": [],
   "source": [
    "spectral = list(gedi_raster_matching.LANDSAT8_ADV_BANDS.values())"
   ]
  },
  {
   "cell_type": "code",
   "execution_count": 18,
   "metadata": {},
   "outputs": [],
   "source": [
    "spectral = list(gedi_raster_matching.LANDSAT8_ADV_BANDS.values())\n",
    "\n",
    "def create_4_year_stack_of_landsat8_data(gedi: gpd.GeoDataFrame, year):\n",
    "    rasters = []\n",
    "    gedi_match = gedi.copy()\n",
    "\n",
    "    for year in range(year, year + 4):\n",
    "        print(f'Matching gedi shots from {year}')\n",
    "        raster = gedi_raster_matching.get_landsat_raster_sampler(year)\n",
    "\n",
    "        print(f'Sample raster')\n",
    "        gedi_match = raster.sample_3x3(gedi_match, 'longitude', 'latitude')\n",
    "\n",
    "        print(f'Process columns')\n",
    "        gedi_match.rename(columns=dict(zip([f\"{x}_mean\" for x in spectral], [f\"{x}_{year}\" for x in spectral])), inplace=True)\n",
    "        gedi_match = gedi_match.drop(columns=[f\"{x}_3x3\" for x in spectral] + [f\"{x}_median\" for x in spectral] + [f\"{x}_std\" for x in spectral])\n",
    "\n",
    "    return gedi_match\n"
   ]
  },
  {
   "cell_type": "code",
   "execution_count": 19,
   "metadata": {},
   "outputs": [
    {
     "name": "stdout",
     "output_type": "stream",
     "text": [
      "Matching gedi shots from 2013\n",
      "Sample raster\n",
      "Process columns\n",
      "Matching gedi shots from 2014\n",
      "Sample raster\n",
      "Process columns\n",
      "Matching gedi shots from 2015\n",
      "Sample raster\n",
      "Process columns\n",
      "Matching gedi shots from 2016\n",
      "Sample raster\n"
     ]
    },
    {
     "name": "stderr",
     "output_type": "stream",
     "text": [
      "/maps-priv/maps/fire-regen/fire-regen-env/lib/python3.10/site-packages/geopandas/geodataframe.py:1538: PerformanceWarning: DataFrame is highly fragmented.  This is usually the result of calling `frame.insert` many times, which has poor performance.  Consider joining all columns at once using pd.concat(axis=1) instead. To get a de-fragmented frame, use `newframe = frame.copy()`\n",
      "/maps-priv/maps/fire-regen/fire-regen-env/lib/python3.10/site-packages/geopandas/geodataframe.py:1538: PerformanceWarning: DataFrame is highly fragmented.  This is usually the result of calling `frame.insert` many times, which has poor performance.  Consider joining all columns at once using pd.concat(axis=1) instead. To get a de-fragmented frame, use `newframe = frame.copy()`\n",
      "/maps-priv/maps/fire-regen/fire-regen-env/lib/python3.10/site-packages/geopandas/geodataframe.py:1538: PerformanceWarning: DataFrame is highly fragmented.  This is usually the result of calling `frame.insert` many times, which has poor performance.  Consider joining all columns at once using pd.concat(axis=1) instead. To get a de-fragmented frame, use `newframe = frame.copy()`\n",
      "/maps-priv/maps/fire-regen/fire-regen-env/lib/python3.10/site-packages/geopandas/geodataframe.py:1538: PerformanceWarning: DataFrame is highly fragmented.  This is usually the result of calling `frame.insert` many times, which has poor performance.  Consider joining all columns at once using pd.concat(axis=1) instead. To get a de-fragmented frame, use `newframe = frame.copy()`\n",
      "/maps-priv/maps/fire-regen/fire-regen-env/lib/python3.10/site-packages/geopandas/geodataframe.py:1538: PerformanceWarning: DataFrame is highly fragmented.  This is usually the result of calling `frame.insert` many times, which has poor performance.  Consider joining all columns at once using pd.concat(axis=1) instead. To get a de-fragmented frame, use `newframe = frame.copy()`\n",
      "/maps-priv/maps/fire-regen/fire-regen-env/lib/python3.10/site-packages/geopandas/geodataframe.py:1538: PerformanceWarning: DataFrame is highly fragmented.  This is usually the result of calling `frame.insert` many times, which has poor performance.  Consider joining all columns at once using pd.concat(axis=1) instead. To get a de-fragmented frame, use `newframe = frame.copy()`\n",
      "/maps-priv/maps/fire-regen/fire-regen-env/lib/python3.10/site-packages/geopandas/geodataframe.py:1538: PerformanceWarning: DataFrame is highly fragmented.  This is usually the result of calling `frame.insert` many times, which has poor performance.  Consider joining all columns at once using pd.concat(axis=1) instead. To get a de-fragmented frame, use `newframe = frame.copy()`\n",
      "/maps-priv/maps/fire-regen/fire-regen-env/lib/python3.10/site-packages/geopandas/geodataframe.py:1538: PerformanceWarning: DataFrame is highly fragmented.  This is usually the result of calling `frame.insert` many times, which has poor performance.  Consider joining all columns at once using pd.concat(axis=1) instead. To get a de-fragmented frame, use `newframe = frame.copy()`\n",
      "/maps-priv/maps/fire-regen/fire-regen-env/lib/python3.10/site-packages/geopandas/geodataframe.py:1538: PerformanceWarning: DataFrame is highly fragmented.  This is usually the result of calling `frame.insert` many times, which has poor performance.  Consider joining all columns at once using pd.concat(axis=1) instead. To get a de-fragmented frame, use `newframe = frame.copy()`\n",
      "/maps-priv/maps/fire-regen/fire-regen-env/lib/python3.10/site-packages/geopandas/geodataframe.py:1538: PerformanceWarning: DataFrame is highly fragmented.  This is usually the result of calling `frame.insert` many times, which has poor performance.  Consider joining all columns at once using pd.concat(axis=1) instead. To get a de-fragmented frame, use `newframe = frame.copy()`\n",
      "/maps-priv/maps/fire-regen/fire-regen-env/lib/python3.10/site-packages/geopandas/geodataframe.py:1538: PerformanceWarning: DataFrame is highly fragmented.  This is usually the result of calling `frame.insert` many times, which has poor performance.  Consider joining all columns at once using pd.concat(axis=1) instead. To get a de-fragmented frame, use `newframe = frame.copy()`\n",
      "/maps-priv/maps/fire-regen/fire-regen-env/lib/python3.10/site-packages/geopandas/geodataframe.py:1538: PerformanceWarning: DataFrame is highly fragmented.  This is usually the result of calling `frame.insert` many times, which has poor performance.  Consider joining all columns at once using pd.concat(axis=1) instead. To get a de-fragmented frame, use `newframe = frame.copy()`\n",
      "/maps-priv/maps/fire-regen/fire-regen-env/lib/python3.10/site-packages/geopandas/geodataframe.py:1538: PerformanceWarning: DataFrame is highly fragmented.  This is usually the result of calling `frame.insert` many times, which has poor performance.  Consider joining all columns at once using pd.concat(axis=1) instead. To get a de-fragmented frame, use `newframe = frame.copy()`\n",
      "/maps-priv/maps/fire-regen/fire-regen-env/lib/python3.10/site-packages/geopandas/geodataframe.py:1538: PerformanceWarning: DataFrame is highly fragmented.  This is usually the result of calling `frame.insert` many times, which has poor performance.  Consider joining all columns at once using pd.concat(axis=1) instead. To get a de-fragmented frame, use `newframe = frame.copy()`\n",
      "/maps-priv/maps/fire-regen/fire-regen-env/lib/python3.10/site-packages/geopandas/geodataframe.py:1538: PerformanceWarning: DataFrame is highly fragmented.  This is usually the result of calling `frame.insert` many times, which has poor performance.  Consider joining all columns at once using pd.concat(axis=1) instead. To get a de-fragmented frame, use `newframe = frame.copy()`\n"
     ]
    },
    {
     "name": "stdout",
     "output_type": "stream",
     "text": [
      "Process columns\n"
     ]
    }
   ],
   "source": [
    "gedi_matched = create_4_year_stack_of_landsat8_data(gedi_unburned, 2013)"
   ]
  },
  {
   "cell_type": "code",
   "execution_count": null,
   "metadata": {},
   "outputs": [],
   "source": [
    "from fastai import save_pickle"
   ]
  },
  {
   "cell_type": "code",
   "execution_count": 21,
   "metadata": {},
   "outputs": [
    {
     "data": {
      "text/html": [
       "<div>\n",
       "<style scoped>\n",
       "    .dataframe tbody tr th:only-of-type {\n",
       "        vertical-align: middle;\n",
       "    }\n",
       "\n",
       "    .dataframe tbody tr th {\n",
       "        vertical-align: top;\n",
       "    }\n",
       "\n",
       "    .dataframe thead th {\n",
       "        text-align: right;\n",
       "    }\n",
       "</style>\n",
       "<table border=\"1\" class=\"dataframe\">\n",
       "  <thead>\n",
       "    <tr style=\"text-align: right;\">\n",
       "      <th></th>\n",
       "      <th>shot_number</th>\n",
       "      <th>longitude</th>\n",
       "      <th>latitude</th>\n",
       "      <th>agbd</th>\n",
       "      <th>...</th>\n",
       "      <th>SVVI_2016</th>\n",
       "      <th>brightness_2016</th>\n",
       "      <th>greenness_2016</th>\n",
       "      <th>wetness_2016</th>\n",
       "    </tr>\n",
       "  </thead>\n",
       "  <tbody>\n",
       "    <tr>\n",
       "      <th>68</th>\n",
       "      <td>184891100200081436</td>\n",
       "      <td>-117.993053</td>\n",
       "      <td>37.035598</td>\n",
       "      <td>42.480953</td>\n",
       "      <td>...</td>\n",
       "      <td>0.0</td>\n",
       "      <td>0.317389</td>\n",
       "      <td>0.044610</td>\n",
       "      <td>-0.079194</td>\n",
       "    </tr>\n",
       "    <tr>\n",
       "      <th>69</th>\n",
       "      <td>184891100200081437</td>\n",
       "      <td>-117.992563</td>\n",
       "      <td>37.035940</td>\n",
       "      <td>41.270653</td>\n",
       "      <td>...</td>\n",
       "      <td>0.0</td>\n",
       "      <td>0.326052</td>\n",
       "      <td>0.042205</td>\n",
       "      <td>-0.081095</td>\n",
       "    </tr>\n",
       "    <tr>\n",
       "      <th>70</th>\n",
       "      <td>184891100200081438</td>\n",
       "      <td>-117.992074</td>\n",
       "      <td>37.036281</td>\n",
       "      <td>17.788033</td>\n",
       "      <td>...</td>\n",
       "      <td>0.0</td>\n",
       "      <td>0.322470</td>\n",
       "      <td>0.045124</td>\n",
       "      <td>-0.074491</td>\n",
       "    </tr>\n",
       "    <tr>\n",
       "      <th>71</th>\n",
       "      <td>184891100200081439</td>\n",
       "      <td>-117.991585</td>\n",
       "      <td>37.036622</td>\n",
       "      <td>33.051270</td>\n",
       "      <td>...</td>\n",
       "      <td>0.0</td>\n",
       "      <td>0.331342</td>\n",
       "      <td>0.043995</td>\n",
       "      <td>-0.082600</td>\n",
       "    </tr>\n",
       "    <tr>\n",
       "      <th>73</th>\n",
       "      <td>184891100200081441</td>\n",
       "      <td>-117.990609</td>\n",
       "      <td>37.037302</td>\n",
       "      <td>28.863516</td>\n",
       "      <td>...</td>\n",
       "      <td>0.0</td>\n",
       "      <td>0.316270</td>\n",
       "      <td>0.038827</td>\n",
       "      <td>-0.081900</td>\n",
       "    </tr>\n",
       "    <tr>\n",
       "      <th>...</th>\n",
       "      <td>...</td>\n",
       "      <td>...</td>\n",
       "      <td>...</td>\n",
       "      <td>...</td>\n",
       "      <td>...</td>\n",
       "      <td>...</td>\n",
       "      <td>...</td>\n",
       "      <td>...</td>\n",
       "      <td>...</td>\n",
       "    </tr>\n",
       "    <tr>\n",
       "      <th>27623080</th>\n",
       "      <td>42030300300286920</td>\n",
       "      <td>-119.951223</td>\n",
       "      <td>36.868402</td>\n",
       "      <td>15.163097</td>\n",
       "      <td>...</td>\n",
       "      <td>0.0</td>\n",
       "      <td>0.306733</td>\n",
       "      <td>0.149824</td>\n",
       "      <td>-0.016079</td>\n",
       "    </tr>\n",
       "    <tr>\n",
       "      <th>27623083</th>\n",
       "      <td>42030300300286932</td>\n",
       "      <td>-119.945451</td>\n",
       "      <td>36.864333</td>\n",
       "      <td>15.163097</td>\n",
       "      <td>...</td>\n",
       "      <td>0.0</td>\n",
       "      <td>0.314836</td>\n",
       "      <td>0.160930</td>\n",
       "      <td>-0.014573</td>\n",
       "    </tr>\n",
       "    <tr>\n",
       "      <th>27624716</th>\n",
       "      <td>187680600300533641</td>\n",
       "      <td>-119.909263</td>\n",
       "      <td>36.864995</td>\n",
       "      <td>19.482615</td>\n",
       "      <td>...</td>\n",
       "      <td>0.0</td>\n",
       "      <td>0.342519</td>\n",
       "      <td>0.153760</td>\n",
       "      <td>-0.022117</td>\n",
       "    </tr>\n",
       "    <tr>\n",
       "      <th>27626129</th>\n",
       "      <td>21830200200228428</td>\n",
       "      <td>-119.881873</td>\n",
       "      <td>36.860581</td>\n",
       "      <td>1.564893</td>\n",
       "      <td>...</td>\n",
       "      <td>0.0</td>\n",
       "      <td>0.372792</td>\n",
       "      <td>0.166644</td>\n",
       "      <td>-0.017677</td>\n",
       "    </tr>\n",
       "    <tr>\n",
       "      <th>27626281</th>\n",
       "      <td>175890600200401429</td>\n",
       "      <td>-119.878273</td>\n",
       "      <td>36.859059</td>\n",
       "      <td>1.331117</td>\n",
       "      <td>...</td>\n",
       "      <td>0.0</td>\n",
       "      <td>0.342033</td>\n",
       "      <td>0.173636</td>\n",
       "      <td>-0.003904</td>\n",
       "    </tr>\n",
       "  </tbody>\n",
       "</table>\n",
       "<p>2011962 rows × 86 columns</p>\n",
       "</div>"
      ],
      "text/plain": [
       "                 shot_number   longitude   latitude       agbd  ...  \\\n",
       "68        184891100200081436 -117.993053  37.035598  42.480953  ...   \n",
       "69        184891100200081437 -117.992563  37.035940  41.270653  ...   \n",
       "70        184891100200081438 -117.992074  37.036281  17.788033  ...   \n",
       "71        184891100200081439 -117.991585  37.036622  33.051270  ...   \n",
       "73        184891100200081441 -117.990609  37.037302  28.863516  ...   \n",
       "...                      ...         ...        ...        ...  ...   \n",
       "27623080   42030300300286920 -119.951223  36.868402  15.163097  ...   \n",
       "27623083   42030300300286932 -119.945451  36.864333  15.163097  ...   \n",
       "27624716  187680600300533641 -119.909263  36.864995  19.482615  ...   \n",
       "27626129   21830200200228428 -119.881873  36.860581   1.564893  ...   \n",
       "27626281  175890600200401429 -119.878273  36.859059   1.331117  ...   \n",
       "\n",
       "          SVVI_2016  brightness_2016  greenness_2016 wetness_2016  \n",
       "68              0.0         0.317389        0.044610    -0.079194  \n",
       "69              0.0         0.326052        0.042205    -0.081095  \n",
       "70              0.0         0.322470        0.045124    -0.074491  \n",
       "71              0.0         0.331342        0.043995    -0.082600  \n",
       "73              0.0         0.316270        0.038827    -0.081900  \n",
       "...             ...              ...             ...          ...  \n",
       "27623080        0.0         0.306733        0.149824    -0.016079  \n",
       "27623083        0.0         0.314836        0.160930    -0.014573  \n",
       "27624716        0.0         0.342519        0.153760    -0.022117  \n",
       "27626129        0.0         0.372792        0.166644    -0.017677  \n",
       "27626281        0.0         0.342033        0.173636    -0.003904  \n",
       "\n",
       "[2011962 rows x 86 columns]"
      ]
     },
     "execution_count": 21,
     "metadata": {},
     "output_type": "execute_result"
    }
   ],
   "source": [
    "gedi_matched"
   ]
  },
  {
   "cell_type": "code",
   "execution_count": 73,
   "metadata": {},
   "outputs": [],
   "source": [
    "spectral = [ \"NDVI\"]\n",
    "years = [2013, 2014, 2015, 2016]\n",
    "spectral_columns = [f\"{x}_{y}\" for x in spectral for y in years]\n",
    "columns_to_use = ['agbd', 'pft_class', 'elevation', 'slope', 'aspect', 'soil', 'gedi_year']"
   ]
  },
  {
   "cell_type": "code",
   "execution_count": 52,
   "metadata": {},
   "outputs": [],
   "source": [
    "gedi_unburned_ready = split_data.spatial_split_train_and_test_data(gedi_matched, sierras_box, 5000)"
   ]
  },
  {
   "cell_type": "code",
   "execution_count": 74,
   "metadata": {},
   "outputs": [],
   "source": [
    "df = gedi_unburned_ready[columns_to_use]"
   ]
  },
  {
   "cell_type": "code",
   "execution_count": 75,
   "metadata": {},
   "outputs": [],
   "source": [
    "procs = [Categorify, FillMissing, Normalize]\n",
    "#procs = [Categorify, Normalize]"
   ]
  },
  {
   "cell_type": "code",
   "execution_count": 76,
   "metadata": {},
   "outputs": [],
   "source": [
    "dep_var = 'agbd'"
   ]
  },
  {
   "cell_type": "code",
   "execution_count": 77,
   "metadata": {},
   "outputs": [],
   "source": [
    "cont,cat = cont_cat_split(df, 1, dep_var=dep_var)\n"
   ]
  },
  {
   "cell_type": "code",
   "execution_count": 78,
   "metadata": {},
   "outputs": [],
   "source": [
    "splits = IndexSplitter(gedi_unburned_ready[gedi_unburned_ready.dataset == \"test\"].index)((range_of(df)))"
   ]
  },
  {
   "cell_type": "code",
   "execution_count": 79,
   "metadata": {},
   "outputs": [],
   "source": [
    "to = TabularPandas(df, procs, cat, cont, y_names=dep_var, splits=splits)"
   ]
  },
  {
   "cell_type": "code",
   "execution_count": 80,
   "metadata": {},
   "outputs": [
    {
     "data": {
      "text/plain": [
       "(1707744, 304218)"
      ]
     },
     "execution_count": 80,
     "metadata": {},
     "output_type": "execute_result"
    }
   ],
   "source": [
    "len(to.train),len(to.valid)\n"
   ]
  },
  {
   "cell_type": "code",
   "execution_count": 81,
   "metadata": {},
   "outputs": [],
   "source": [
    "xs,y = to.train.xs,to.train.y\n",
    "valid_xs,valid_y = to.valid.xs,to.valid.y"
   ]
  },
  {
   "cell_type": "code",
   "execution_count": 82,
   "metadata": {},
   "outputs": [],
   "source": [
    "def rf(xs, y, n_estimators=100, max_samples=200_000,\n",
    "       max_features=0.5, min_samples_leaf=5, **kwargs):\n",
    "    return RandomForestRegressor(n_jobs=-1, n_estimators=n_estimators,\n",
    "        max_samples=max_samples, max_features=max_features,\n",
    "        min_samples_leaf=min_samples_leaf, oob_score=True).fit(xs, y)"
   ]
  },
  {
   "cell_type": "code",
   "execution_count": 83,
   "metadata": {},
   "outputs": [],
   "source": [
    "m = rf(xs, y)"
   ]
  },
  {
   "cell_type": "code",
   "execution_count": 51,
   "metadata": {},
   "outputs": [
    {
     "data": {
      "text/plain": [
       "(106.204806, 112.400351, 0.3812623280899755, 0.3040000904538761)"
      ]
     },
     "execution_count": 51,
     "metadata": {},
     "output_type": "execute_result"
    }
   ],
   "source": [
    "m_rmse(m, xs, y), m_rmse(m, valid_xs, valid_y), m_r2(m, xs, y), m_r2(m, valid_xs, valid_y)"
   ]
  },
  {
   "cell_type": "code",
   "execution_count": 84,
   "metadata": {},
   "outputs": [
    {
     "data": {
      "text/plain": [
       "(117.129873, 123.636398, 0.24741844892518816, 0.15789443984271445)"
      ]
     },
     "execution_count": 84,
     "metadata": {},
     "output_type": "execute_result"
    }
   ],
   "source": [
    "m_rmse(m, xs, y), m_rmse(m, valid_xs, valid_y), m_r2(m, xs, y), m_r2(m, valid_xs, valid_y)"
   ]
  },
  {
   "cell_type": "code",
   "execution_count": null,
   "metadata": {},
   "outputs": [],
   "source": []
  }
 ],
 "metadata": {
  "kernelspec": {
   "display_name": "fire-regen-env",
   "language": "python",
   "name": "fire-regen-env"
  },
  "language_info": {
   "codemirror_mode": {
    "name": "ipython",
    "version": 3
   },
   "file_extension": ".py",
   "mimetype": "text/x-python",
   "name": "python",
   "nbconvert_exporter": "python",
   "pygments_lexer": "ipython3",
   "version": "3.10.6"
  },
  "orig_nbformat": 4,
  "vscode": {
   "interpreter": {
    "hash": "31f2aee4e71d21fbe5cf8b01ff0e069b9275f58929596ceb00d14d90e3e16cd6"
   }
  }
 },
 "nbformat": 4,
 "nbformat_minor": 2
}
