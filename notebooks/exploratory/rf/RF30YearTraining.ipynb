{
 "cells": [
  {
   "cell_type": "code",
   "execution_count": 69,
   "metadata": {},
   "outputs": [
    {
     "data": {
      "text/plain": [
       "<module 'src.processing.rf.train' from '/home/jk871/fire-regen/src/processing/rf/train.py'>"
      ]
     },
     "execution_count": 69,
     "metadata": {},
     "output_type": "execute_result"
    }
   ],
   "source": [
    "from fastai.tabular.all import load_pickle\n",
    "from src.constants import DATA_PATH, USER_PATH\n",
    "from src.data import gedi_raster_matching\n",
    "from src.processing.rf import split_data\n",
    "from src.data import shape_processor\n",
    "import geopandas as gpd\n",
    "from fastai.tabular.all import *\n",
    "from sklearn.metrics import *\n",
    "from src.processing.rf import train\n",
    "\n",
    "import importlib\n",
    "importlib.reload(train)"
   ]
  },
  {
   "cell_type": "code",
   "execution_count": 14,
   "metadata": {},
   "outputs": [],
   "source": [
    "sierras = gpd.read_file(f\"{USER_PATH}/data/shapefiles/sierras.shp\")\n",
    "sierras_box = shape_processor.get_box(sierras)"
   ]
  },
  {
   "cell_type": "code",
   "execution_count": 63,
   "metadata": {},
   "outputs": [],
   "source": [
    "train.logger.setLevel(\"INFO\")"
   ]
  },
  {
   "cell_type": "code",
   "execution_count": 64,
   "metadata": {},
   "outputs": [
    {
     "name": "stdout",
     "output_type": "stream",
     "text": [
      "2023-06-15 00:55:53,218 INFO: Year 1989 - Training rmse: 87.958536; R^2: 0.5481941032478064 [in train_rf at /home/jk871/fire-regen/src/processing/rf/train.py:65]\n",
      "2023-06-15 00:55:53,220 INFO: Year 1989 - Validation error: 0.4540503026351832 [in train_rf at /home/jk871/fire-regen/src/processing/rf/train.py:66]\n",
      "2023-06-15 00:55:53,221 INFO: Year 1989 - Test rmse: 101.83703; R^2: 0.46462784526378165 [in train_rf at /home/jk871/fire-regen/src/processing/rf/train.py:67]\n",
      "2023-06-15 00:58:21,933 INFO: Year 1990 - Training rmse: 87.80602; R^2: 0.5497595642139608 [in train_rf at /home/jk871/fire-regen/src/processing/rf/train.py:65]\n",
      "2023-06-15 00:58:21,936 INFO: Year 1990 - Validation error: 0.45575319044575846 [in train_rf at /home/jk871/fire-regen/src/processing/rf/train.py:66]\n",
      "2023-06-15 00:58:21,937 INFO: Year 1990 - Test rmse: 101.441328; R^2: 0.46878029637887075 [in train_rf at /home/jk871/fire-regen/src/processing/rf/train.py:67]\n",
      "2023-06-15 01:01:00,036 INFO: Year 1991 - Training rmse: 87.461456; R^2: 0.5532862500164966 [in train_rf at /home/jk871/fire-regen/src/processing/rf/train.py:65]\n",
      "2023-06-15 01:01:00,038 INFO: Year 1991 - Validation error: 0.46011811631152255 [in train_rf at /home/jk871/fire-regen/src/processing/rf/train.py:66]\n",
      "2023-06-15 01:01:00,039 INFO: Year 1991 - Test rmse: 101.015597; R^2: 0.47322980656574576 [in train_rf at /home/jk871/fire-regen/src/processing/rf/train.py:67]\n",
      "2023-06-15 01:03:27,314 INFO: Year 1992 - Training rmse: 87.293421; R^2: 0.5550010985581166 [in train_rf at /home/jk871/fire-regen/src/processing/rf/train.py:65]\n",
      "2023-06-15 01:03:27,316 INFO: Year 1992 - Validation error: 0.46237512035367956 [in train_rf at /home/jk871/fire-regen/src/processing/rf/train.py:66]\n",
      "2023-06-15 01:03:27,317 INFO: Year 1992 - Test rmse: 100.96116; R^2: 0.4737973965611205 [in train_rf at /home/jk871/fire-regen/src/processing/rf/train.py:67]\n",
      "2023-06-15 01:06:00,968 INFO: Year 1993 - Training rmse: 86.784475; R^2: 0.560174914754457 [in train_rf at /home/jk871/fire-regen/src/processing/rf/train.py:65]\n",
      "2023-06-15 01:06:00,972 INFO: Year 1993 - Validation error: 0.46856470828598795 [in train_rf at /home/jk871/fire-regen/src/processing/rf/train.py:66]\n",
      "2023-06-15 01:06:00,972 INFO: Year 1993 - Test rmse: 100.250246; R^2: 0.4811817766500359 [in train_rf at /home/jk871/fire-regen/src/processing/rf/train.py:67]\n",
      "2023-06-15 01:08:32,210 INFO: Year 1994 - Training rmse: 86.601253; R^2: 0.5620301056339907 [in train_rf at /home/jk871/fire-regen/src/processing/rf/train.py:65]\n",
      "2023-06-15 01:08:32,213 INFO: Year 1994 - Validation error: 0.47051693201714306 [in train_rf at /home/jk871/fire-regen/src/processing/rf/train.py:66]\n",
      "2023-06-15 01:08:32,214 INFO: Year 1994 - Test rmse: 100.085223; R^2: 0.48288843718128693 [in train_rf at /home/jk871/fire-regen/src/processing/rf/train.py:67]\n",
      "2023-06-15 01:10:59,781 INFO: Year 1995 - Training rmse: 86.396814; R^2: 0.5640954898445627 [in train_rf at /home/jk871/fire-regen/src/processing/rf/train.py:65]\n",
      "2023-06-15 01:10:59,784 INFO: Year 1995 - Validation error: 0.4731204639367571 [in train_rf at /home/jk871/fire-regen/src/processing/rf/train.py:66]\n",
      "2023-06-15 01:10:59,784 INFO: Year 1995 - Test rmse: 99.967038; R^2: 0.48410896859565067 [in train_rf at /home/jk871/fire-regen/src/processing/rf/train.py:67]\n",
      "2023-06-15 01:13:29,877 INFO: Year 1996 - Training rmse: 86.313165; R^2: 0.5649391562397842 [in train_rf at /home/jk871/fire-regen/src/processing/rf/train.py:65]\n",
      "2023-06-15 01:13:29,879 INFO: Year 1996 - Validation error: 0.47392539184158033 [in train_rf at /home/jk871/fire-regen/src/processing/rf/train.py:66]\n",
      "2023-06-15 01:13:29,880 INFO: Year 1996 - Test rmse: 99.847392; R^2: 0.48534312593729256 [in train_rf at /home/jk871/fire-regen/src/processing/rf/train.py:67]\n",
      "2023-06-15 01:15:55,913 INFO: Year 1997 - Training rmse: 86.072352; R^2: 0.5673634001266571 [in train_rf at /home/jk871/fire-regen/src/processing/rf/train.py:65]\n",
      "2023-06-15 01:15:55,916 INFO: Year 1997 - Validation error: 0.4769629234186109 [in train_rf at /home/jk871/fire-regen/src/processing/rf/train.py:66]\n",
      "2023-06-15 01:15:55,917 INFO: Year 1997 - Test rmse: 99.594393; R^2: 0.48794795565097093 [in train_rf at /home/jk871/fire-regen/src/processing/rf/train.py:67]\n",
      "2023-06-15 01:18:31,204 INFO: Year 1998 - Training rmse: 86.142634; R^2: 0.5666565810812285 [in train_rf at /home/jk871/fire-regen/src/processing/rf/train.py:65]\n",
      "2023-06-15 01:18:31,207 INFO: Year 1998 - Validation error: 0.47603538469558726 [in train_rf at /home/jk871/fire-regen/src/processing/rf/train.py:66]\n",
      "2023-06-15 01:18:31,208 INFO: Year 1998 - Test rmse: 99.738532; R^2: 0.4864647320722747 [in train_rf at /home/jk871/fire-regen/src/processing/rf/train.py:67]\n",
      "2023-06-15 01:21:06,639 INFO: Year 1999 - Training rmse: 86.056539; R^2: 0.5675223558880464 [in train_rf at /home/jk871/fire-regen/src/processing/rf/train.py:65]\n",
      "2023-06-15 01:21:06,641 INFO: Year 1999 - Validation error: 0.4771863847834642 [in train_rf at /home/jk871/fire-regen/src/processing/rf/train.py:66]\n",
      "2023-06-15 01:21:06,642 INFO: Year 1999 - Test rmse: 99.658017; R^2: 0.4872935173986077 [in train_rf at /home/jk871/fire-regen/src/processing/rf/train.py:67]\n",
      "2023-06-15 01:23:41,334 INFO: Year 2000 - Training rmse: 85.936329; R^2: 0.5687297479137223 [in train_rf at /home/jk871/fire-regen/src/processing/rf/train.py:65]\n",
      "2023-06-15 01:23:41,336 INFO: Year 2000 - Validation error: 0.47887752276439777 [in train_rf at /home/jk871/fire-regen/src/processing/rf/train.py:66]\n",
      "2023-06-15 01:23:41,337 INFO: Year 2000 - Test rmse: 99.372925; R^2: 0.4902227181997758 [in train_rf at /home/jk871/fire-regen/src/processing/rf/train.py:67]\n",
      "2023-06-15 01:26:10,297 INFO: Year 2001 - Training rmse: 85.802102; R^2: 0.5700759228599206 [in train_rf at /home/jk871/fire-regen/src/processing/rf/train.py:65]\n",
      "2023-06-15 01:26:10,301 INFO: Year 2001 - Validation error: 0.48035901379177226 [in train_rf at /home/jk871/fire-regen/src/processing/rf/train.py:66]\n",
      "2023-06-15 01:26:10,301 INFO: Year 2001 - Test rmse: 99.177663; R^2: 0.4922241202178761 [in train_rf at /home/jk871/fire-regen/src/processing/rf/train.py:67]\n",
      "2023-06-15 01:28:40,553 INFO: Year 2002 - Training rmse: 85.590143; R^2: 0.5721974083998023 [in train_rf at /home/jk871/fire-regen/src/processing/rf/train.py:65]\n",
      "2023-06-15 01:28:40,556 INFO: Year 2002 - Validation error: 0.4831571353160524 [in train_rf at /home/jk871/fire-regen/src/processing/rf/train.py:66]\n",
      "2023-06-15 01:28:40,557 INFO: Year 2002 - Test rmse: 99.028611; R^2: 0.49374922190588033 [in train_rf at /home/jk871/fire-regen/src/processing/rf/train.py:67]\n",
      "2023-06-15 01:31:05,823 INFO: Year 2003 - Training rmse: 85.334616; R^2: 0.5747479739583439 [in train_rf at /home/jk871/fire-regen/src/processing/rf/train.py:65]\n",
      "2023-06-15 01:31:05,826 INFO: Year 2003 - Validation error: 0.4866274581423172 [in train_rf at /home/jk871/fire-regen/src/processing/rf/train.py:66]\n",
      "2023-06-15 01:31:05,827 INFO: Year 2003 - Test rmse: 98.695994; R^2: 0.49714430310235946 [in train_rf at /home/jk871/fire-regen/src/processing/rf/train.py:67]\n",
      "2023-06-15 01:33:38,207 INFO: Year 2004 - Training rmse: 85.302874; R^2: 0.5750642768069316 [in train_rf at /home/jk871/fire-regen/src/processing/rf/train.py:65]\n",
      "2023-06-15 01:33:38,211 INFO: Year 2004 - Validation error: 0.48670975635384084 [in train_rf at /home/jk871/fire-regen/src/processing/rf/train.py:66]\n",
      "2023-06-15 01:33:38,212 INFO: Year 2004 - Test rmse: 98.805817; R^2: 0.4960245848137874 [in train_rf at /home/jk871/fire-regen/src/processing/rf/train.py:67]\n",
      "2023-06-15 01:36:09,022 INFO: Year 2005 - Training rmse: 85.219015; R^2: 0.5758993554756876 [in train_rf at /home/jk871/fire-regen/src/processing/rf/train.py:65]\n",
      "2023-06-15 01:36:09,026 INFO: Year 2005 - Validation error: 0.48776601794903474 [in train_rf at /home/jk871/fire-regen/src/processing/rf/train.py:66]\n",
      "2023-06-15 01:36:09,026 INFO: Year 2005 - Test rmse: 98.730687; R^2: 0.4967907196262412 [in train_rf at /home/jk871/fire-regen/src/processing/rf/train.py:67]\n",
      "2023-06-15 01:38:45,018 INFO: Year 2006 - Training rmse: 85.185921; R^2: 0.5762286883515064 [in train_rf at /home/jk871/fire-regen/src/processing/rf/train.py:65]\n",
      "2023-06-15 01:38:45,021 INFO: Year 2006 - Validation error: 0.4880500488715781 [in train_rf at /home/jk871/fire-regen/src/processing/rf/train.py:66]\n",
      "2023-06-15 01:38:45,022 INFO: Year 2006 - Test rmse: 98.767352; R^2: 0.4964168997843109 [in train_rf at /home/jk871/fire-regen/src/processing/rf/train.py:67]\n",
      "2023-06-15 01:41:18,517 INFO: Year 2007 - Training rmse: 85.004585; R^2: 0.5780309382735129 [in train_rf at /home/jk871/fire-regen/src/processing/rf/train.py:65]\n",
      "2023-06-15 01:41:18,521 INFO: Year 2007 - Validation error: 0.4898355813945745 [in train_rf at /home/jk871/fire-regen/src/processing/rf/train.py:66]\n",
      "2023-06-15 01:41:18,522 INFO: Year 2007 - Test rmse: 98.555353; R^2: 0.49857641125950425 [in train_rf at /home/jk871/fire-regen/src/processing/rf/train.py:67]\n",
      "2023-06-15 01:43:55,125 INFO: Year 2008 - Training rmse: 84.819435; R^2: 0.5798671282422334 [in train_rf at /home/jk871/fire-regen/src/processing/rf/train.py:65]\n",
      "2023-06-15 01:43:55,128 INFO: Year 2008 - Validation error: 0.4922600620094616 [in train_rf at /home/jk871/fire-regen/src/processing/rf/train.py:66]\n",
      "2023-06-15 01:43:55,129 INFO: Year 2008 - Test rmse: 98.255952; R^2: 0.5016183239255158 [in train_rf at /home/jk871/fire-regen/src/processing/rf/train.py:67]\n",
      "2023-06-15 01:46:20,747 INFO: Year 2009 - Training rmse: 84.46064; R^2: 0.5834140213861307 [in train_rf at /home/jk871/fire-regen/src/processing/rf/train.py:65]\n",
      "2023-06-15 01:46:20,750 INFO: Year 2009 - Validation error: 0.49665700813416314 [in train_rf at /home/jk871/fire-regen/src/processing/rf/train.py:66]\n",
      "2023-06-15 01:46:20,752 INFO: Year 2009 - Test rmse: 97.843509; R^2: 0.5057936009996207 [in train_rf at /home/jk871/fire-regen/src/processing/rf/train.py:67]\n",
      "2023-06-15 01:49:04,553 INFO: Year 2010 - Training rmse: 84.399075; R^2: 0.5840211151380391 [in train_rf at /home/jk871/fire-regen/src/processing/rf/train.py:65]\n",
      "2023-06-15 01:49:04,557 INFO: Year 2010 - Validation error: 0.49748718366485356 [in train_rf at /home/jk871/fire-regen/src/processing/rf/train.py:66]\n",
      "2023-06-15 01:49:04,558 INFO: Year 2010 - Test rmse: 97.852134; R^2: 0.5057064665352196 [in train_rf at /home/jk871/fire-regen/src/processing/rf/train.py:67]\n",
      "2023-06-15 01:51:40,710 INFO: Year 2011 - Training rmse: 84.304631; R^2: 0.5849515701857431 [in train_rf at /home/jk871/fire-regen/src/processing/rf/train.py:65]\n",
      "2023-06-15 01:51:40,713 INFO: Year 2011 - Validation error: 0.4987516970781688 [in train_rf at /home/jk871/fire-regen/src/processing/rf/train.py:66]\n",
      "2023-06-15 01:51:40,714 INFO: Year 2011 - Test rmse: 97.516154; R^2: 0.5090950029320342 [in train_rf at /home/jk871/fire-regen/src/processing/rf/train.py:67]\n",
      "2023-06-15 01:54:14,184 INFO: Year 2012 - Training rmse: 84.319937; R^2: 0.5848008487205854 [in train_rf at /home/jk871/fire-regen/src/processing/rf/train.py:65]\n",
      "2023-06-15 01:54:14,188 INFO: Year 2012 - Validation error: 0.4985220059587667 [in train_rf at /home/jk871/fire-regen/src/processing/rf/train.py:66]\n",
      "2023-06-15 01:54:14,189 INFO: Year 2012 - Test rmse: 97.389388; R^2: 0.5103704729770833 [in train_rf at /home/jk871/fire-regen/src/processing/rf/train.py:67]\n"
     ]
    },
    {
     "ename": "KeyError",
     "evalue": "\"['SR_B6_2008', 'SR_B6_2009', 'SR_B6_2010', 'SR_B6_2011', 'SR_B6_2012'] not in index\"",
     "output_type": "error",
     "traceback": [
      "\u001b[0;31m---------------------------------------------------------------------------\u001b[0m",
      "\u001b[0;31mKeyError\u001b[0m                                  Traceback (most recent call last)",
      "Cell \u001b[0;32mIn[64], line 2\u001b[0m\n\u001b[1;32m      1\u001b[0m \u001b[39mfor\u001b[39;00m year \u001b[39min\u001b[39;00m \u001b[39mrange\u001b[39m(\u001b[39m1989\u001b[39m, \u001b[39m2021\u001b[39m):\n\u001b[0;32m----> 2\u001b[0m     train\u001b[39m.\u001b[39;49mtrain_rf(year, sierras_box, \u001b[39mTrue\u001b[39;49;00m)\n",
      "File \u001b[0;32m~/fire-regen/src/processing/rf/train.py:45\u001b[0m, in \u001b[0;36mtrain_rf\u001b[0;34m(year, geometry, save)\u001b[0m\n\u001b[1;32m     41\u001b[0m gedi_prepared \u001b[39m=\u001b[39m split_data\u001b[39m.\u001b[39mspatial_split_train_and_test_data(\n\u001b[1;32m     42\u001b[0m     gedi, geometry, \u001b[39m5000\u001b[39m)\n\u001b[1;32m     44\u001b[0m logger\u001b[39m.\u001b[39mdebug(\u001b[39m\"\u001b[39m\u001b[39mPrepare data for training.\u001b[39m\u001b[39m\"\u001b[39m)\n\u001b[0;32m---> 45\u001b[0m df \u001b[39m=\u001b[39m gedi_prepared[columns_to_use]\n\u001b[1;32m     46\u001b[0m procs \u001b[39m=\u001b[39m [Categorify, FillMissing, Normalize]\n\u001b[1;32m     47\u001b[0m dep_var \u001b[39m=\u001b[39m \u001b[39m'\u001b[39m\u001b[39magbd\u001b[39m\u001b[39m'\u001b[39m\n",
      "File \u001b[0;32m/maps-priv/maps/fire-regen/fire-regen-env/lib/python3.10/site-packages/pandas/core/frame.py:3767\u001b[0m, in \u001b[0;36mDataFrame.__getitem__\u001b[0;34m(self, key)\u001b[0m\n\u001b[1;32m   3765\u001b[0m     \u001b[39mif\u001b[39;00m is_iterator(key):\n\u001b[1;32m   3766\u001b[0m         key \u001b[39m=\u001b[39m \u001b[39mlist\u001b[39m(key)\n\u001b[0;32m-> 3767\u001b[0m     indexer \u001b[39m=\u001b[39m \u001b[39mself\u001b[39;49m\u001b[39m.\u001b[39;49mcolumns\u001b[39m.\u001b[39;49m_get_indexer_strict(key, \u001b[39m\"\u001b[39;49m\u001b[39mcolumns\u001b[39;49m\u001b[39m\"\u001b[39;49m)[\u001b[39m1\u001b[39m]\n\u001b[1;32m   3769\u001b[0m \u001b[39m# take() does not accept boolean indexers\u001b[39;00m\n\u001b[1;32m   3770\u001b[0m \u001b[39mif\u001b[39;00m \u001b[39mgetattr\u001b[39m(indexer, \u001b[39m\"\u001b[39m\u001b[39mdtype\u001b[39m\u001b[39m\"\u001b[39m, \u001b[39mNone\u001b[39;00m) \u001b[39m==\u001b[39m \u001b[39mbool\u001b[39m:\n",
      "File \u001b[0;32m/maps-priv/maps/fire-regen/fire-regen-env/lib/python3.10/site-packages/pandas/core/indexes/base.py:5876\u001b[0m, in \u001b[0;36mIndex._get_indexer_strict\u001b[0;34m(self, key, axis_name)\u001b[0m\n\u001b[1;32m   5873\u001b[0m \u001b[39melse\u001b[39;00m:\n\u001b[1;32m   5874\u001b[0m     keyarr, indexer, new_indexer \u001b[39m=\u001b[39m \u001b[39mself\u001b[39m\u001b[39m.\u001b[39m_reindex_non_unique(keyarr)\n\u001b[0;32m-> 5876\u001b[0m \u001b[39mself\u001b[39;49m\u001b[39m.\u001b[39;49m_raise_if_missing(keyarr, indexer, axis_name)\n\u001b[1;32m   5878\u001b[0m keyarr \u001b[39m=\u001b[39m \u001b[39mself\u001b[39m\u001b[39m.\u001b[39mtake(indexer)\n\u001b[1;32m   5879\u001b[0m \u001b[39mif\u001b[39;00m \u001b[39misinstance\u001b[39m(key, Index):\n\u001b[1;32m   5880\u001b[0m     \u001b[39m# GH 42790 - Preserve name from an Index\u001b[39;00m\n",
      "File \u001b[0;32m/maps-priv/maps/fire-regen/fire-regen-env/lib/python3.10/site-packages/pandas/core/indexes/base.py:5938\u001b[0m, in \u001b[0;36mIndex._raise_if_missing\u001b[0;34m(self, key, indexer, axis_name)\u001b[0m\n\u001b[1;32m   5935\u001b[0m     \u001b[39mraise\u001b[39;00m \u001b[39mKeyError\u001b[39;00m(\u001b[39mf\u001b[39m\u001b[39m\"\u001b[39m\u001b[39mNone of [\u001b[39m\u001b[39m{\u001b[39;00mkey\u001b[39m}\u001b[39;00m\u001b[39m] are in the [\u001b[39m\u001b[39m{\u001b[39;00maxis_name\u001b[39m}\u001b[39;00m\u001b[39m]\u001b[39m\u001b[39m\"\u001b[39m)\n\u001b[1;32m   5937\u001b[0m not_found \u001b[39m=\u001b[39m \u001b[39mlist\u001b[39m(ensure_index(key)[missing_mask\u001b[39m.\u001b[39mnonzero()[\u001b[39m0\u001b[39m]]\u001b[39m.\u001b[39munique())\n\u001b[0;32m-> 5938\u001b[0m \u001b[39mraise\u001b[39;00m \u001b[39mKeyError\u001b[39;00m(\u001b[39mf\u001b[39m\u001b[39m\"\u001b[39m\u001b[39m{\u001b[39;00mnot_found\u001b[39m}\u001b[39;00m\u001b[39m not in index\u001b[39m\u001b[39m\"\u001b[39m)\n",
      "\u001b[0;31mKeyError\u001b[0m: \"['SR_B6_2008', 'SR_B6_2009', 'SR_B6_2010', 'SR_B6_2011', 'SR_B6_2012'] not in index\""
     ]
    }
   ],
   "source": [
    "for year in range(2013, 2021):\n",
    "    train.train_rf(year, sierras_box, True)"
   ]
  },
  {
   "cell_type": "code",
   "execution_count": 70,
   "metadata": {},
   "outputs": [
    {
     "name": "stdout",
     "output_type": "stream",
     "text": [
      "2023-06-15 02:00:55,400 INFO: Year 2013 - Training rmse: 84.418224; R^2: 0.5838323322281558 [in train_rf at /home/jk871/fire-regen/src/processing/rf/train.py:65]\n",
      "2023-06-15 02:00:55,402 INFO: Year 2013 - Validation error: 0.49730821210077125 [in train_rf at /home/jk871/fire-regen/src/processing/rf/train.py:66]\n",
      "2023-06-15 02:00:55,403 INFO: Year 2013 - Test rmse: 97.581337; R^2: 0.5084385024961824 [in train_rf at /home/jk871/fire-regen/src/processing/rf/train.py:67]\n",
      "2023-06-15 02:03:33,812 INFO: Year 2014 - Training rmse: 84.410814; R^2: 0.5839053890803528 [in train_rf at /home/jk871/fire-regen/src/processing/rf/train.py:65]\n",
      "2023-06-15 02:03:33,814 INFO: Year 2014 - Validation error: 0.4972549498201686 [in train_rf at /home/jk871/fire-regen/src/processing/rf/train.py:66]\n",
      "2023-06-15 02:03:33,815 INFO: Year 2014 - Test rmse: 97.763967; R^2: 0.5065968004372481 [in train_rf at /home/jk871/fire-regen/src/processing/rf/train.py:67]\n",
      "2023-06-15 02:06:09,806 INFO: Year 2015 - Training rmse: 84.158465; R^2: 0.5863895275068125 [in train_rf at /home/jk871/fire-regen/src/processing/rf/train.py:65]\n",
      "2023-06-15 02:06:09,808 INFO: Year 2015 - Validation error: 0.49994166073163493 [in train_rf at /home/jk871/fire-regen/src/processing/rf/train.py:66]\n",
      "2023-06-15 02:06:09,810 INFO: Year 2015 - Test rmse: 97.572429; R^2: 0.5085282441849446 [in train_rf at /home/jk871/fire-regen/src/processing/rf/train.py:67]\n",
      "2023-06-15 02:08:44,720 INFO: Year 2016 - Training rmse: 84.062414; R^2: 0.5873331067427829 [in train_rf at /home/jk871/fire-regen/src/processing/rf/train.py:65]\n",
      "2023-06-15 02:08:44,723 INFO: Year 2016 - Validation error: 0.5007213767738457 [in train_rf at /home/jk871/fire-regen/src/processing/rf/train.py:66]\n",
      "2023-06-15 02:08:44,724 INFO: Year 2016 - Test rmse: 97.550172; R^2: 0.5087524383318505 [in train_rf at /home/jk871/fire-regen/src/processing/rf/train.py:67]\n",
      "2023-06-15 02:11:32,945 INFO: Year 2017 - Training rmse: 83.79016; R^2: 0.5900018042207695 [in train_rf at /home/jk871/fire-regen/src/processing/rf/train.py:65]\n",
      "2023-06-15 02:11:32,948 INFO: Year 2017 - Validation error: 0.5037419682238402 [in train_rf at /home/jk871/fire-regen/src/processing/rf/train.py:66]\n",
      "2023-06-15 02:11:32,950 INFO: Year 2017 - Test rmse: 97.193431; R^2: 0.5123388560404951 [in train_rf at /home/jk871/fire-regen/src/processing/rf/train.py:67]\n",
      "2023-06-15 02:14:18,152 INFO: Year 2018 - Training rmse: 83.70516; R^2: 0.5908332132191267 [in train_rf at /home/jk871/fire-regen/src/processing/rf/train.py:65]\n",
      "2023-06-15 02:14:18,155 INFO: Year 2018 - Validation error: 0.5047055332263237 [in train_rf at /home/jk871/fire-regen/src/processing/rf/train.py:66]\n",
      "2023-06-15 02:14:18,156 INFO: Year 2018 - Test rmse: 97.066567; R^2: 0.5136110841887205 [in train_rf at /home/jk871/fire-regen/src/processing/rf/train.py:67]\n",
      "2023-06-15 02:17:01,361 INFO: Year 2019 - Training rmse: 83.599784; R^2: 0.5918627656353888 [in train_rf at /home/jk871/fire-regen/src/processing/rf/train.py:65]\n",
      "2023-06-15 02:17:01,364 INFO: Year 2019 - Validation error: 0.5059076035962754 [in train_rf at /home/jk871/fire-regen/src/processing/rf/train.py:66]\n",
      "2023-06-15 02:17:01,365 INFO: Year 2019 - Test rmse: 96.935827; R^2: 0.5149204450883718 [in train_rf at /home/jk871/fire-regen/src/processing/rf/train.py:67]\n",
      "2023-06-15 02:19:41,104 INFO: Year 2020 - Training rmse: 83.666011; R^2: 0.5912158650097373 [in train_rf at /home/jk871/fire-regen/src/processing/rf/train.py:65]\n",
      "2023-06-15 02:19:41,106 INFO: Year 2020 - Validation error: 0.5051101804694113 [in train_rf at /home/jk871/fire-regen/src/processing/rf/train.py:66]\n",
      "2023-06-15 02:19:41,107 INFO: Year 2020 - Test rmse: 96.882732; R^2: 0.5154516886953646 [in train_rf at /home/jk871/fire-regen/src/processing/rf/train.py:67]\n"
     ]
    }
   ],
   "source": [
    "for year in range(2013, 2021):\n",
    "    train.train_rf(year, sierras_box, True)"
   ]
  },
  {
   "cell_type": "code",
   "execution_count": 32,
   "metadata": {},
   "outputs": [
    {
     "name": "stdout",
     "output_type": "stream",
     "text": [
      "2023-06-14 23:12:38,988 INFO: Year 1989 - Training rmse: 96.991041; R^2: 0.4657929542492045 [in train_rf at /home/jk871/fire-regen/src/processing/rf/train.py:65]\n",
      "2023-06-14 23:12:38,990 INFO: Year 1989 - Test rmse: 98.993638; R^2: 0.4183134283627967 [in train_rf at /home/jk871/fire-regen/src/processing/rf/train.py:66]\n"
     ]
    },
    {
     "data": {
      "text/html": [
       "<style>#sk-container-id-3 {color: black;background-color: white;}#sk-container-id-3 pre{padding: 0;}#sk-container-id-3 div.sk-toggleable {background-color: white;}#sk-container-id-3 label.sk-toggleable__label {cursor: pointer;display: block;width: 100%;margin-bottom: 0;padding: 0.3em;box-sizing: border-box;text-align: center;}#sk-container-id-3 label.sk-toggleable__label-arrow:before {content: \"▸\";float: left;margin-right: 0.25em;color: #696969;}#sk-container-id-3 label.sk-toggleable__label-arrow:hover:before {color: black;}#sk-container-id-3 div.sk-estimator:hover label.sk-toggleable__label-arrow:before {color: black;}#sk-container-id-3 div.sk-toggleable__content {max-height: 0;max-width: 0;overflow: hidden;text-align: left;background-color: #f0f8ff;}#sk-container-id-3 div.sk-toggleable__content pre {margin: 0.2em;color: black;border-radius: 0.25em;background-color: #f0f8ff;}#sk-container-id-3 input.sk-toggleable__control:checked~div.sk-toggleable__content {max-height: 200px;max-width: 100%;overflow: auto;}#sk-container-id-3 input.sk-toggleable__control:checked~label.sk-toggleable__label-arrow:before {content: \"▾\";}#sk-container-id-3 div.sk-estimator input.sk-toggleable__control:checked~label.sk-toggleable__label {background-color: #d4ebff;}#sk-container-id-3 div.sk-label input.sk-toggleable__control:checked~label.sk-toggleable__label {background-color: #d4ebff;}#sk-container-id-3 input.sk-hidden--visually {border: 0;clip: rect(1px 1px 1px 1px);clip: rect(1px, 1px, 1px, 1px);height: 1px;margin: -1px;overflow: hidden;padding: 0;position: absolute;width: 1px;}#sk-container-id-3 div.sk-estimator {font-family: monospace;background-color: #f0f8ff;border: 1px dotted black;border-radius: 0.25em;box-sizing: border-box;margin-bottom: 0.5em;}#sk-container-id-3 div.sk-estimator:hover {background-color: #d4ebff;}#sk-container-id-3 div.sk-parallel-item::after {content: \"\";width: 100%;border-bottom: 1px solid gray;flex-grow: 1;}#sk-container-id-3 div.sk-label:hover label.sk-toggleable__label {background-color: #d4ebff;}#sk-container-id-3 div.sk-serial::before {content: \"\";position: absolute;border-left: 1px solid gray;box-sizing: border-box;top: 0;bottom: 0;left: 50%;z-index: 0;}#sk-container-id-3 div.sk-serial {display: flex;flex-direction: column;align-items: center;background-color: white;padding-right: 0.2em;padding-left: 0.2em;position: relative;}#sk-container-id-3 div.sk-item {position: relative;z-index: 1;}#sk-container-id-3 div.sk-parallel {display: flex;align-items: stretch;justify-content: center;background-color: white;position: relative;}#sk-container-id-3 div.sk-item::before, #sk-container-id-3 div.sk-parallel-item::before {content: \"\";position: absolute;border-left: 1px solid gray;box-sizing: border-box;top: 0;bottom: 0;left: 50%;z-index: -1;}#sk-container-id-3 div.sk-parallel-item {display: flex;flex-direction: column;z-index: 1;position: relative;background-color: white;}#sk-container-id-3 div.sk-parallel-item:first-child::after {align-self: flex-end;width: 50%;}#sk-container-id-3 div.sk-parallel-item:last-child::after {align-self: flex-start;width: 50%;}#sk-container-id-3 div.sk-parallel-item:only-child::after {width: 0;}#sk-container-id-3 div.sk-dashed-wrapped {border: 1px dashed gray;margin: 0 0.4em 0.5em 0.4em;box-sizing: border-box;padding-bottom: 0.4em;background-color: white;}#sk-container-id-3 div.sk-label label {font-family: monospace;font-weight: bold;display: inline-block;line-height: 1.2em;}#sk-container-id-3 div.sk-label-container {text-align: center;}#sk-container-id-3 div.sk-container {/* jupyter's `normalize.less` sets `[hidden] { display: none; }` but bootstrap.min.css set `[hidden] { display: none !important; }` so we also need the `!important` here to be able to override the default hidden behavior on the sphinx rendered scikit-learn.org. See: https://github.com/scikit-learn/scikit-learn/issues/21755 */display: inline-block !important;position: relative;}#sk-container-id-3 div.sk-text-repr-fallback {display: none;}</style><div id=\"sk-container-id-3\" class=\"sk-top-container\"><div class=\"sk-text-repr-fallback\"><pre>RandomForestRegressor(max_features=0.5, max_samples=100000, min_samples_leaf=5,\n",
       "                      n_jobs=-1, oob_score=True)</pre><b>In a Jupyter environment, please rerun this cell to show the HTML representation or trust the notebook. <br />On GitHub, the HTML representation is unable to render, please try loading this page with nbviewer.org.</b></div><div class=\"sk-container\" hidden><div class=\"sk-item\"><div class=\"sk-estimator sk-toggleable\"><input class=\"sk-toggleable__control sk-hidden--visually\" id=\"sk-estimator-id-3\" type=\"checkbox\" checked><label for=\"sk-estimator-id-3\" class=\"sk-toggleable__label sk-toggleable__label-arrow\">RandomForestRegressor</label><div class=\"sk-toggleable__content\"><pre>RandomForestRegressor(max_features=0.5, max_samples=100000, min_samples_leaf=5,\n",
       "                      n_jobs=-1, oob_score=True)</pre></div></div></div></div></div>"
      ],
      "text/plain": [
       "RandomForestRegressor(max_features=0.5, max_samples=100000, min_samples_leaf=5,\n",
       "                      n_jobs=-1, oob_score=True)"
      ]
     },
     "execution_count": 32,
     "metadata": {},
     "output_type": "execute_result"
    }
   ],
   "source": [
    "train.train_rf(1989, sierras_box, False, 100000)"
   ]
  },
  {
   "cell_type": "code",
   "execution_count": 33,
   "metadata": {},
   "outputs": [
    {
     "name": "stdout",
     "output_type": "stream",
     "text": [
      "2023-06-14 23:14:58,879 INFO: Year 1989 - Training rmse: 86.077962; R^2: 0.5792439952736699 [in train_rf at /home/jk871/fire-regen/src/processing/rf/train.py:65]\n",
      "2023-06-14 23:14:58,881 INFO: Year 1989 - Test rmse: 97.991388; R^2: 0.43003224577920696 [in train_rf at /home/jk871/fire-regen/src/processing/rf/train.py:66]\n"
     ]
    },
    {
     "data": {
      "text/html": [
       "<style>#sk-container-id-4 {color: black;background-color: white;}#sk-container-id-4 pre{padding: 0;}#sk-container-id-4 div.sk-toggleable {background-color: white;}#sk-container-id-4 label.sk-toggleable__label {cursor: pointer;display: block;width: 100%;margin-bottom: 0;padding: 0.3em;box-sizing: border-box;text-align: center;}#sk-container-id-4 label.sk-toggleable__label-arrow:before {content: \"▸\";float: left;margin-right: 0.25em;color: #696969;}#sk-container-id-4 label.sk-toggleable__label-arrow:hover:before {color: black;}#sk-container-id-4 div.sk-estimator:hover label.sk-toggleable__label-arrow:before {color: black;}#sk-container-id-4 div.sk-toggleable__content {max-height: 0;max-width: 0;overflow: hidden;text-align: left;background-color: #f0f8ff;}#sk-container-id-4 div.sk-toggleable__content pre {margin: 0.2em;color: black;border-radius: 0.25em;background-color: #f0f8ff;}#sk-container-id-4 input.sk-toggleable__control:checked~div.sk-toggleable__content {max-height: 200px;max-width: 100%;overflow: auto;}#sk-container-id-4 input.sk-toggleable__control:checked~label.sk-toggleable__label-arrow:before {content: \"▾\";}#sk-container-id-4 div.sk-estimator input.sk-toggleable__control:checked~label.sk-toggleable__label {background-color: #d4ebff;}#sk-container-id-4 div.sk-label input.sk-toggleable__control:checked~label.sk-toggleable__label {background-color: #d4ebff;}#sk-container-id-4 input.sk-hidden--visually {border: 0;clip: rect(1px 1px 1px 1px);clip: rect(1px, 1px, 1px, 1px);height: 1px;margin: -1px;overflow: hidden;padding: 0;position: absolute;width: 1px;}#sk-container-id-4 div.sk-estimator {font-family: monospace;background-color: #f0f8ff;border: 1px dotted black;border-radius: 0.25em;box-sizing: border-box;margin-bottom: 0.5em;}#sk-container-id-4 div.sk-estimator:hover {background-color: #d4ebff;}#sk-container-id-4 div.sk-parallel-item::after {content: \"\";width: 100%;border-bottom: 1px solid gray;flex-grow: 1;}#sk-container-id-4 div.sk-label:hover label.sk-toggleable__label {background-color: #d4ebff;}#sk-container-id-4 div.sk-serial::before {content: \"\";position: absolute;border-left: 1px solid gray;box-sizing: border-box;top: 0;bottom: 0;left: 50%;z-index: 0;}#sk-container-id-4 div.sk-serial {display: flex;flex-direction: column;align-items: center;background-color: white;padding-right: 0.2em;padding-left: 0.2em;position: relative;}#sk-container-id-4 div.sk-item {position: relative;z-index: 1;}#sk-container-id-4 div.sk-parallel {display: flex;align-items: stretch;justify-content: center;background-color: white;position: relative;}#sk-container-id-4 div.sk-item::before, #sk-container-id-4 div.sk-parallel-item::before {content: \"\";position: absolute;border-left: 1px solid gray;box-sizing: border-box;top: 0;bottom: 0;left: 50%;z-index: -1;}#sk-container-id-4 div.sk-parallel-item {display: flex;flex-direction: column;z-index: 1;position: relative;background-color: white;}#sk-container-id-4 div.sk-parallel-item:first-child::after {align-self: flex-end;width: 50%;}#sk-container-id-4 div.sk-parallel-item:last-child::after {align-self: flex-start;width: 50%;}#sk-container-id-4 div.sk-parallel-item:only-child::after {width: 0;}#sk-container-id-4 div.sk-dashed-wrapped {border: 1px dashed gray;margin: 0 0.4em 0.5em 0.4em;box-sizing: border-box;padding-bottom: 0.4em;background-color: white;}#sk-container-id-4 div.sk-label label {font-family: monospace;font-weight: bold;display: inline-block;line-height: 1.2em;}#sk-container-id-4 div.sk-label-container {text-align: center;}#sk-container-id-4 div.sk-container {/* jupyter's `normalize.less` sets `[hidden] { display: none; }` but bootstrap.min.css set `[hidden] { display: none !important; }` so we also need the `!important` here to be able to override the default hidden behavior on the sphinx rendered scikit-learn.org. See: https://github.com/scikit-learn/scikit-learn/issues/21755 */display: inline-block !important;position: relative;}#sk-container-id-4 div.sk-text-repr-fallback {display: none;}</style><div id=\"sk-container-id-4\" class=\"sk-top-container\"><div class=\"sk-text-repr-fallback\"><pre>RandomForestRegressor(max_features=0.5, max_samples=500000, min_samples_leaf=5,\n",
       "                      n_jobs=-1, oob_score=True)</pre><b>In a Jupyter environment, please rerun this cell to show the HTML representation or trust the notebook. <br />On GitHub, the HTML representation is unable to render, please try loading this page with nbviewer.org.</b></div><div class=\"sk-container\" hidden><div class=\"sk-item\"><div class=\"sk-estimator sk-toggleable\"><input class=\"sk-toggleable__control sk-hidden--visually\" id=\"sk-estimator-id-4\" type=\"checkbox\" checked><label for=\"sk-estimator-id-4\" class=\"sk-toggleable__label sk-toggleable__label-arrow\">RandomForestRegressor</label><div class=\"sk-toggleable__content\"><pre>RandomForestRegressor(max_features=0.5, max_samples=500000, min_samples_leaf=5,\n",
       "                      n_jobs=-1, oob_score=True)</pre></div></div></div></div></div>"
      ],
      "text/plain": [
       "RandomForestRegressor(max_features=0.5, max_samples=500000, min_samples_leaf=5,\n",
       "                      n_jobs=-1, oob_score=True)"
      ]
     },
     "execution_count": 33,
     "metadata": {},
     "output_type": "execute_result"
    }
   ],
   "source": [
    "train.train_rf(1989, sierras_box, False, 500000)"
   ]
  },
  {
   "cell_type": "code",
   "execution_count": 34,
   "metadata": {},
   "outputs": [
    {
     "name": "stdout",
     "output_type": "stream",
     "text": [
      "2023-06-14 23:17:42,253 INFO: Year 1989 - Training rmse: 76.421374; R^2: 0.6683530191770475 [in train_rf at /home/jk871/fire-regen/src/processing/rf/train.py:65]\n",
      "2023-06-14 23:17:42,255 INFO: Year 1989 - Test rmse: 97.766359; R^2: 0.43264699942380425 [in train_rf at /home/jk871/fire-regen/src/processing/rf/train.py:66]\n"
     ]
    },
    {
     "data": {
      "text/html": [
       "<style>#sk-container-id-5 {color: black;background-color: white;}#sk-container-id-5 pre{padding: 0;}#sk-container-id-5 div.sk-toggleable {background-color: white;}#sk-container-id-5 label.sk-toggleable__label {cursor: pointer;display: block;width: 100%;margin-bottom: 0;padding: 0.3em;box-sizing: border-box;text-align: center;}#sk-container-id-5 label.sk-toggleable__label-arrow:before {content: \"▸\";float: left;margin-right: 0.25em;color: #696969;}#sk-container-id-5 label.sk-toggleable__label-arrow:hover:before {color: black;}#sk-container-id-5 div.sk-estimator:hover label.sk-toggleable__label-arrow:before {color: black;}#sk-container-id-5 div.sk-toggleable__content {max-height: 0;max-width: 0;overflow: hidden;text-align: left;background-color: #f0f8ff;}#sk-container-id-5 div.sk-toggleable__content pre {margin: 0.2em;color: black;border-radius: 0.25em;background-color: #f0f8ff;}#sk-container-id-5 input.sk-toggleable__control:checked~div.sk-toggleable__content {max-height: 200px;max-width: 100%;overflow: auto;}#sk-container-id-5 input.sk-toggleable__control:checked~label.sk-toggleable__label-arrow:before {content: \"▾\";}#sk-container-id-5 div.sk-estimator input.sk-toggleable__control:checked~label.sk-toggleable__label {background-color: #d4ebff;}#sk-container-id-5 div.sk-label input.sk-toggleable__control:checked~label.sk-toggleable__label {background-color: #d4ebff;}#sk-container-id-5 input.sk-hidden--visually {border: 0;clip: rect(1px 1px 1px 1px);clip: rect(1px, 1px, 1px, 1px);height: 1px;margin: -1px;overflow: hidden;padding: 0;position: absolute;width: 1px;}#sk-container-id-5 div.sk-estimator {font-family: monospace;background-color: #f0f8ff;border: 1px dotted black;border-radius: 0.25em;box-sizing: border-box;margin-bottom: 0.5em;}#sk-container-id-5 div.sk-estimator:hover {background-color: #d4ebff;}#sk-container-id-5 div.sk-parallel-item::after {content: \"\";width: 100%;border-bottom: 1px solid gray;flex-grow: 1;}#sk-container-id-5 div.sk-label:hover label.sk-toggleable__label {background-color: #d4ebff;}#sk-container-id-5 div.sk-serial::before {content: \"\";position: absolute;border-left: 1px solid gray;box-sizing: border-box;top: 0;bottom: 0;left: 50%;z-index: 0;}#sk-container-id-5 div.sk-serial {display: flex;flex-direction: column;align-items: center;background-color: white;padding-right: 0.2em;padding-left: 0.2em;position: relative;}#sk-container-id-5 div.sk-item {position: relative;z-index: 1;}#sk-container-id-5 div.sk-parallel {display: flex;align-items: stretch;justify-content: center;background-color: white;position: relative;}#sk-container-id-5 div.sk-item::before, #sk-container-id-5 div.sk-parallel-item::before {content: \"\";position: absolute;border-left: 1px solid gray;box-sizing: border-box;top: 0;bottom: 0;left: 50%;z-index: -1;}#sk-container-id-5 div.sk-parallel-item {display: flex;flex-direction: column;z-index: 1;position: relative;background-color: white;}#sk-container-id-5 div.sk-parallel-item:first-child::after {align-self: flex-end;width: 50%;}#sk-container-id-5 div.sk-parallel-item:last-child::after {align-self: flex-start;width: 50%;}#sk-container-id-5 div.sk-parallel-item:only-child::after {width: 0;}#sk-container-id-5 div.sk-dashed-wrapped {border: 1px dashed gray;margin: 0 0.4em 0.5em 0.4em;box-sizing: border-box;padding-bottom: 0.4em;background-color: white;}#sk-container-id-5 div.sk-label label {font-family: monospace;font-weight: bold;display: inline-block;line-height: 1.2em;}#sk-container-id-5 div.sk-label-container {text-align: center;}#sk-container-id-5 div.sk-container {/* jupyter's `normalize.less` sets `[hidden] { display: none; }` but bootstrap.min.css set `[hidden] { display: none !important; }` so we also need the `!important` here to be able to override the default hidden behavior on the sphinx rendered scikit-learn.org. See: https://github.com/scikit-learn/scikit-learn/issues/21755 */display: inline-block !important;position: relative;}#sk-container-id-5 div.sk-text-repr-fallback {display: none;}</style><div id=\"sk-container-id-5\" class=\"sk-top-container\"><div class=\"sk-text-repr-fallback\"><pre>RandomForestRegressor(max_features=0.5, max_samples=1000000, min_samples_leaf=5,\n",
       "                      n_jobs=-1, oob_score=True)</pre><b>In a Jupyter environment, please rerun this cell to show the HTML representation or trust the notebook. <br />On GitHub, the HTML representation is unable to render, please try loading this page with nbviewer.org.</b></div><div class=\"sk-container\" hidden><div class=\"sk-item\"><div class=\"sk-estimator sk-toggleable\"><input class=\"sk-toggleable__control sk-hidden--visually\" id=\"sk-estimator-id-5\" type=\"checkbox\" checked><label for=\"sk-estimator-id-5\" class=\"sk-toggleable__label sk-toggleable__label-arrow\">RandomForestRegressor</label><div class=\"sk-toggleable__content\"><pre>RandomForestRegressor(max_features=0.5, max_samples=1000000, min_samples_leaf=5,\n",
       "                      n_jobs=-1, oob_score=True)</pre></div></div></div></div></div>"
      ],
      "text/plain": [
       "RandomForestRegressor(max_features=0.5, max_samples=1000000, min_samples_leaf=5,\n",
       "                      n_jobs=-1, oob_score=True)"
      ]
     },
     "execution_count": 34,
     "metadata": {},
     "output_type": "execute_result"
    }
   ],
   "source": [
    "train.train_rf(1989, sierras_box, False, 1000000)"
   ]
  },
  {
   "cell_type": "code",
   "execution_count": 36,
   "metadata": {},
   "outputs": [
    {
     "name": "stdout",
     "output_type": "stream",
     "text": [
      "2023-06-14 23:24:36,870 INFO: Year 1989 - Training rmse: 63.506829; R^2: 0.7709727128697679 [in train_rf at /home/jk871/fire-regen/src/processing/rf/train.py:65]\n",
      "2023-06-14 23:24:36,873 INFO: Year 1989 - Test rmse: 97.526852; R^2: 0.4354233859148915 [in train_rf at /home/jk871/fire-regen/src/processing/rf/train.py:66]\n"
     ]
    }
   ],
   "source": [
    "m = train.train_rf(1989, sierras_box, False, 2000000)"
   ]
  },
  {
   "cell_type": "code",
   "execution_count": 38,
   "metadata": {},
   "outputs": [
    {
     "data": {
      "text/plain": [
       "0.4799393912765938"
      ]
     },
     "execution_count": 38,
     "metadata": {},
     "output_type": "execute_result"
    }
   ],
   "source": [
    "m.oob_score_"
   ]
  },
  {
   "cell_type": "code",
   "execution_count": 40,
   "metadata": {},
   "outputs": [
    {
     "name": "stdout",
     "output_type": "stream",
     "text": [
      "2023-06-14 23:31:33,975 INFO: Year 1989 - Training rmse: 60.069448; R^2: 0.7950944862910087 [in train_rf at /home/jk871/fire-regen/src/processing/rf/train.py:65]\n",
      "2023-06-14 23:31:33,977 INFO: Year 1989 - Test rmse: 97.503701; R^2: 0.43569140205325463 [in train_rf at /home/jk871/fire-regen/src/processing/rf/train.py:66]\n"
     ]
    }
   ],
   "source": [
    "m = train.train_rf(1989, sierras_box, False, 2382769)"
   ]
  },
  {
   "cell_type": "code",
   "execution_count": 41,
   "metadata": {},
   "outputs": [
    {
     "data": {
      "text/plain": [
       "0.4803990739166447"
      ]
     },
     "execution_count": 41,
     "metadata": {},
     "output_type": "execute_result"
    }
   ],
   "source": [
    "m.oob_score_"
   ]
  },
  {
   "cell_type": "code",
   "execution_count": 44,
   "metadata": {},
   "outputs": [
    {
     "name": "stdout",
     "output_type": "stream",
     "text": [
      "2023-06-14 23:36:02,178 INFO: Year 1989 - Training rmse: 59.681742; R^2: 0.791992551442581 [in train_rf at /home/jk871/fire-regen/src/processing/rf/train.py:65]\n",
      "2023-06-14 23:36:02,181 INFO: Year 1989 - Test rmse: 101.595558; R^2: 0.4671637441086409 [in train_rf at /home/jk871/fire-regen/src/processing/rf/train.py:66]\n"
     ]
    }
   ],
   "source": [
    "m = train.train_rf(1989, sierras_box, False, 2371820)"
   ]
  },
  {
   "cell_type": "code",
   "execution_count": 45,
   "metadata": {},
   "outputs": [
    {
     "data": {
      "text/plain": [
       "0.4731439122787672"
      ]
     },
     "execution_count": 45,
     "metadata": {},
     "output_type": "execute_result"
    }
   ],
   "source": [
    "m.oob_score_\n"
   ]
  },
  {
   "cell_type": "code",
   "execution_count": 46,
   "metadata": {},
   "outputs": [
    {
     "name": "stdout",
     "output_type": "stream",
     "text": [
      "2023-06-14 23:40:41,451 INFO: Year 1995 - Training rmse: 58.777375; R^2: 0.7982487280539422 [in train_rf at /home/jk871/fire-regen/src/processing/rf/train.py:65]\n",
      "2023-06-14 23:40:41,453 INFO: Year 1995 - Test rmse: 99.708522; R^2: 0.4867737195955265 [in train_rf at /home/jk871/fire-regen/src/processing/rf/train.py:66]\n"
     ]
    }
   ],
   "source": [
    "m = train.train_rf(1995, sierras_box, False, 2371820)"
   ]
  },
  {
   "cell_type": "code",
   "execution_count": 47,
   "metadata": {},
   "outputs": [
    {
     "name": "stdout",
     "output_type": "stream",
     "text": [
      "2023-06-14 23:50:29,341 INFO: Year 2000 - Training rmse: 58.588286; R^2: 0.7995447182824061 [in train_rf at /home/jk871/fire-regen/src/processing/rf/train.py:65]\n",
      "2023-06-14 23:50:29,343 INFO: Year 2000 - Test rmse: 99.062884; R^2: 0.4933987411257702 [in train_rf at /home/jk871/fire-regen/src/processing/rf/train.py:66]\n"
     ]
    }
   ],
   "source": [
    "m = train.train_rf(2000, sierras_box, False, 2371820)"
   ]
  },
  {
   "cell_type": "code",
   "execution_count": 48,
   "metadata": {},
   "outputs": [
    {
     "name": "stdout",
     "output_type": "stream",
     "text": [
      "2023-06-14 23:54:56,232 INFO: Year 2012 - Training rmse: 57.864341; R^2: 0.8044679559279784 [in train_rf at /home/jk871/fire-regen/src/processing/rf/train.py:65]\n",
      "2023-06-14 23:54:56,235 INFO: Year 2012 - Test rmse: 97.23395; R^2: 0.5119321681561235 [in train_rf at /home/jk871/fire-regen/src/processing/rf/train.py:66]\n"
     ]
    }
   ],
   "source": [
    "m = train.train_rf(2012, sierras_box, False, 2371820)"
   ]
  },
  {
   "cell_type": "code",
   "execution_count": 50,
   "metadata": {},
   "outputs": [
    {
     "data": {
      "text/plain": [
       "2371820"
      ]
     },
     "execution_count": 50,
     "metadata": {},
     "output_type": "execute_result"
    }
   ],
   "source": [
    "len(m.oob_prediction_)"
   ]
  },
  {
   "cell_type": "code",
   "execution_count": 51,
   "metadata": {},
   "outputs": [
    {
     "name": "stdout",
     "output_type": "stream",
     "text": [
      "2023-06-14 23:59:15,448 INFO: Year 2012 - Training rmse: 59.78638; R^2: 0.7912625269224258 [in train_rf at /home/jk871/fire-regen/src/processing/rf/train.py:65]\n",
      "2023-06-14 23:59:15,449 INFO: Year 2012 - Test rmse: 97.244161; R^2: 0.5118296575966395 [in train_rf at /home/jk871/fire-regen/src/processing/rf/train.py:66]\n"
     ]
    }
   ],
   "source": [
    "m = train.train_rf(2012, sierras_box, False, 0.85)"
   ]
  },
  {
   "cell_type": "code",
   "execution_count": 52,
   "metadata": {},
   "outputs": [
    {
     "data": {
      "text/plain": [
       "0.510500005938225"
      ]
     },
     "execution_count": 52,
     "metadata": {},
     "output_type": "execute_result"
    }
   ],
   "source": [
    "m.oob_score_"
   ]
  },
  {
   "cell_type": "code",
   "execution_count": 53,
   "metadata": {},
   "outputs": [
    {
     "name": "stdout",
     "output_type": "stream",
     "text": [
      "2023-06-15 00:04:53,958 INFO: Year 2012 - Training rmse: 60.837103; R^2: 0.783861088016937 [in train_rf at /home/jk871/fire-regen/src/processing/rf/train.py:65]\n",
      "2023-06-15 00:04:53,962 INFO: Year 2012 - Test rmse: 97.273605; R^2: 0.5115339866350861 [in train_rf at /home/jk871/fire-regen/src/processing/rf/train.py:66]\n"
     ]
    }
   ],
   "source": [
    "m = train.train_rf(2012, sierras_box, False, 0.85)"
   ]
  },
  {
   "cell_type": "code",
   "execution_count": 55,
   "metadata": {},
   "outputs": [
    {
     "name": "stdout",
     "output_type": "stream",
     "text": [
      "2023-06-15 00:09:18,954 INFO: Year 2012 - Training rmse: 87.810459; R^2: 0.5497140362966227 [in train_rf at /home/jk871/fire-regen/src/processing/rf/train.py:65]\n",
      "2023-06-15 00:09:18,956 INFO: Year 2012 - Validation error: 0.49301645461126953 [in train_rf at /home/jk871/fire-regen/src/processing/rf/train.py:66]\n",
      "2023-06-15 00:09:18,957 INFO: Year 2012 - Test rmse: 97.631476; R^2: 0.507933230513813 [in train_rf at /home/jk871/fire-regen/src/processing/rf/train.py:67]\n"
     ]
    }
   ],
   "source": [
    "m = train.train_rf(2012, sierras_box, False, 0.85, 50)"
   ]
  },
  {
   "cell_type": "code",
   "execution_count": 56,
   "metadata": {},
   "outputs": [
    {
     "name": "stdout",
     "output_type": "stream",
     "text": [
      "2023-06-15 00:13:06,636 INFO: Year 2012 - Training rmse: 84.314019; R^2: 0.5848591307878841 [in train_rf at /home/jk871/fire-regen/src/processing/rf/train.py:65]\n",
      "2023-06-15 00:13:06,637 INFO: Year 2012 - Validation error: 0.49849635802229064 [in train_rf at /home/jk871/fire-regen/src/processing/rf/train.py:66]\n",
      "2023-06-15 00:13:06,638 INFO: Year 2012 - Test rmse: 97.40405; R^2: 0.5102230294650381 [in train_rf at /home/jk871/fire-regen/src/processing/rf/train.py:67]\n"
     ]
    }
   ],
   "source": [
    "m = train.train_rf(2012, sierras_box, False, 0.85, 30)"
   ]
  },
  {
   "cell_type": "code",
   "execution_count": 57,
   "metadata": {},
   "outputs": [
    {
     "name": "stdout",
     "output_type": "stream",
     "text": [
      "2023-06-15 00:16:46,122 INFO: Year 2012 - Training rmse: 91.022346; R^2: 0.5161709317034404 [in train_rf at /home/jk871/fire-regen/src/processing/rf/train.py:65]\n",
      "2023-06-15 00:16:46,124 INFO: Year 2012 - Validation error: 0.48499099119988753 [in train_rf at /home/jk871/fire-regen/src/processing/rf/train.py:66]\n",
      "2023-06-15 00:16:46,125 INFO: Year 2012 - Test rmse: 98.036908; R^2: 0.5038379532963564 [in train_rf at /home/jk871/fire-regen/src/processing/rf/train.py:67]\n"
     ]
    }
   ],
   "source": [
    "m = train.train_rf(2012, sierras_box, False, 0.85, 100)"
   ]
  },
  {
   "cell_type": "code",
   "execution_count": 58,
   "metadata": {},
   "outputs": [
    {
     "name": "stdout",
     "output_type": "stream",
     "text": [
      "2023-06-15 00:21:43,791 INFO: Year 2012 - Training rmse: 39.830633; R^2: 0.9073532199636012 [in train_rf at /home/jk871/fire-regen/src/processing/rf/train.py:65]\n",
      "2023-06-15 00:21:43,794 INFO: Year 2012 - Validation error: 0.505852052315728 [in train_rf at /home/jk871/fire-regen/src/processing/rf/train.py:66]\n",
      "2023-06-15 00:21:43,795 INFO: Year 2012 - Test rmse: 97.772102; R^2: 0.5065146908076577 [in train_rf at /home/jk871/fire-regen/src/processing/rf/train.py:67]\n"
     ]
    }
   ],
   "source": [
    "m = train.train_rf(2012, sierras_box, False, 0.85, 1)"
   ]
  },
  {
   "cell_type": "code",
   "execution_count": 60,
   "metadata": {},
   "outputs": [
    {
     "name": "stdout",
     "output_type": "stream",
     "text": [
      "2023-06-15 00:27:35,190 INFO: Year 2012 - Training rmse: 84.265218; R^2: 0.5853395585963024 [in train_rf at /home/jk871/fire-regen/src/processing/rf/train.py:65]\n",
      "2023-06-15 00:27:35,193 INFO: Year 2012 - Validation error: 0.49982737429263735 [in train_rf at /home/jk871/fire-regen/src/processing/rf/train.py:66]\n",
      "2023-06-15 00:27:35,193 INFO: Year 2012 - Test rmse: 97.34662; R^2: 0.510800414208999 [in train_rf at /home/jk871/fire-regen/src/processing/rf/train.py:67]\n"
     ]
    }
   ],
   "source": [
    "# 200 trees\n",
    "m = train.train_rf(2012, sierras_box, False, 0.85, 30)"
   ]
  },
  {
   "cell_type": "code",
   "execution_count": null,
   "metadata": {},
   "outputs": [],
   "source": []
  }
 ],
 "metadata": {
  "kernelspec": {
   "display_name": "fire-regen-env",
   "language": "python",
   "name": "fire-regen-env"
  },
  "language_info": {
   "codemirror_mode": {
    "name": "ipython",
    "version": 3
   },
   "file_extension": ".py",
   "mimetype": "text/x-python",
   "name": "python",
   "nbconvert_exporter": "python",
   "pygments_lexer": "ipython3",
   "version": "3.10.6"
  },
  "orig_nbformat": 4,
  "vscode": {
   "interpreter": {
    "hash": "31f2aee4e71d21fbe5cf8b01ff0e069b9275f58929596ceb00d14d90e3e16cd6"
   }
  }
 },
 "nbformat": 4,
 "nbformat_minor": 2
}
