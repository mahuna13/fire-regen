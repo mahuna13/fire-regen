{
 "cells": [
  {
   "cell_type": "code",
   "execution_count": 72,
   "metadata": {},
   "outputs": [
    {
     "name": "stdout",
     "output_type": "stream",
     "text": [
      "2023-06-01 13:50:12,728 DEBUG: Logger /home/jk871/fire-regen/src/data/gedi_pipeline.py already set up. [in get_logger at /home/jk871/fire-regen/src/utils/logging_util.py:51]\n"
     ]
    },
    {
     "data": {
      "text/plain": [
       "<module 'src.processing.control.placebo' from '/home/jk871/fire-regen/src/processing/control/placebo.py'>"
      ]
     },
     "execution_count": 72,
     "metadata": {},
     "output_type": "execute_result"
    }
   ],
   "source": [
    "from src.data import gedi_pipeline\n",
    "from src.data import k_nn\n",
    "from src.processing.control import placebo\n",
    "from src.data import clustering\n",
    "\n",
    "import numpy as np\n",
    "import importlib\n",
    "importlib.reload(gedi_pipeline)\n",
    "importlib.reload(k_nn)\n",
    "importlib.reload(placebo)"
   ]
  },
  {
   "cell_type": "markdown",
   "metadata": {},
   "source": [
    "### Test Placibo methods on a smaller set of GEDI shots "
   ]
  },
  {
   "cell_type": "code",
   "execution_count": 54,
   "metadata": {},
   "outputs": [
    {
     "name": "stdout",
     "output_type": "stream",
     "text": [
      "Total number of GEDI shots available for the region: 312314\n"
     ]
    }
   ],
   "source": [
    "gedi_gpd= gedi_pipeline.get_gedi_as_gdp('/maps/fire-regen/data/seki_matched_all.csv')\n",
    "print(f'Total number of GEDI shots available for the region: {gedi_gpd.shape[0]}')"
   ]
  },
  {
   "cell_type": "code",
   "execution_count": 57,
   "metadata": {},
   "outputs": [],
   "source": [
    "gedi_gpd = gedi_pipeline.process_shots(gedi_gpd)"
   ]
  },
  {
   "cell_type": "code",
   "execution_count": 58,
   "metadata": {},
   "outputs": [
    {
     "name": "stdout",
     "output_type": "stream",
     "text": [
      "2023-06-01 13:39:36,841 DEBUG: Excluded shots on the burn boundaries, shots remaining:         282025 [in filter_shots at /home/jk871/fire-regen/src/data/gedi_pipeline.py:57]\n",
      "2023-06-01 13:39:36,854 DEBUG: Number of GEDI shots that burned at least once:                  56387 [in filter_shots at /home/jk871/fire-regen/src/data/gedi_pipeline.py:62]\n",
      "2023-06-01 13:39:36,889 DEBUG: Number of GEDI shots that never burned since 1984:         215157 [in filter_shots at /home/jk871/fire-regen/src/data/gedi_pipeline.py:68]\n"
     ]
    }
   ],
   "source": [
    "gedi_burned, gedi_unburned = gedi_pipeline.filter_shots(gedi_gpd)"
   ]
  },
  {
   "cell_type": "code",
   "execution_count": 5,
   "metadata": {},
   "outputs": [
    {
     "name": "stdout",
     "output_type": "stream",
     "text": [
      "2023-06-01 11:52:06,652 DEBUG: Number of shots that happened after fires:                    37578 [in filter_shots_for_regrowth_analysis at /home/jk871/fire-regen/src/data/gedi_pipeline.py:85]\n",
      "2023-06-01 11:52:06,666 DEBUG: Number of shots that burned exactly once:                    34411 [in filter_shots_for_regrowth_analysis at /home/jk871/fire-regen/src/data/gedi_pipeline.py:90]\n",
      "2023-06-01 11:52:06,681 DEBUG: Number of shots that burned in 2-4 categories:                    27777 [in filter_shots_for_regrowth_analysis at /home/jk871/fire-regen/src/data/gedi_pipeline.py:95]\n",
      "2023-06-01 11:52:06,687 DEBUG: Number of GEDI shots that have a perfect match with burn                    raster (all 2x2 pixels have the same severity):                    17565 [in filter_shots_for_regrowth_analysis at /home/jk871/fire-regen/src/data/gedi_pipeline.py:99]\n"
     ]
    }
   ],
   "source": [
    "gedi_burned = gedi_pipeline.filter_shots_for_regrowth_analysis(gedi_burned)"
   ]
  },
  {
   "cell_type": "code",
   "execution_count": 59,
   "metadata": {},
   "outputs": [
    {
     "name": "stdout",
     "output_type": "stream",
     "text": [
      "GEDI shots that burned trees: 37728\n",
      "GEDI tree shots that didn't burn: 62823\n"
     ]
    }
   ],
   "source": [
    "gedi_burned_trees = gedi_pipeline.filter_for_trees(gedi_burned)\n",
    "gedi_unburned_trees = gedi_pipeline.filter_for_trees(gedi_unburned)\n",
    "print(f'GEDI shots that burned trees: {gedi_burned_trees.shape[0]}')\n",
    "print(f'GEDI tree shots that didn\\'t burn: {gedi_unburned_trees.shape[0]}')"
   ]
  },
  {
   "cell_type": "markdown",
   "metadata": {},
   "source": [
    "### Debugging of k_nn lib"
   ]
  },
  {
   "cell_type": "code",
   "execution_count": 31,
   "metadata": {},
   "outputs": [],
   "source": [
    "nn_indeces, nn_distances, nn_avg_agbd = k_nn.nearest_neighbors_old(gedi_burned_trees, gedi_unburned_trees, 'agbd', 200)"
   ]
  },
  {
   "cell_type": "code",
   "execution_count": 32,
   "metadata": {},
   "outputs": [],
   "source": [
    "nn_indeces_new, nn_distances_new = k_nn.nearest_neighbors(gedi_burned_trees, gedi_unburned_trees, 200)"
   ]
  },
  {
   "cell_type": "code",
   "execution_count": 46,
   "metadata": {},
   "outputs": [],
   "source": [
    "result = placebo.closest_200_mean(gedi_burned_trees, gedi_unburned_trees, 'agbd', 'nn_agbd')"
   ]
  },
  {
   "cell_type": "code",
   "execution_count": 48,
   "metadata": {},
   "outputs": [
    {
     "data": {
      "text/plain": [
       "462       214.981030\n",
       "683       190.635328\n",
       "901       168.270555\n",
       "938       175.380558\n",
       "1062      170.336469\n",
       "             ...    \n",
       "767284     98.904641\n",
       "767479    104.267835\n",
       "767506    105.929505\n",
       "767563    105.929505\n",
       "767909    100.340058\n",
       "Name: nn_agbd, Length: 11721, dtype: float64"
      ]
     },
     "execution_count": 48,
     "metadata": {},
     "output_type": "execute_result"
    }
   ],
   "source": [
    "result.nn_agbd"
   ]
  },
  {
   "cell_type": "code",
   "execution_count": 49,
   "metadata": {},
   "outputs": [
    {
     "data": {
      "text/plain": [
       "array([214.98103021, 190.63532797, 168.27055503, ..., 105.92950545,\n",
       "       105.92950545, 100.34005766])"
      ]
     },
     "execution_count": 49,
     "metadata": {},
     "output_type": "execute_result"
    }
   ],
   "source": [
    "nn_avg_agbd"
   ]
  },
  {
   "cell_type": "code",
   "execution_count": 54,
   "metadata": {},
   "outputs": [
    {
     "data": {
      "text/plain": [
       "0.0"
      ]
     },
     "execution_count": 54,
     "metadata": {},
     "output_type": "execute_result"
    }
   ],
   "source": [
    "placebo.calculate_rmse(result.agbd, result.agbd)"
   ]
  },
  {
   "cell_type": "code",
   "execution_count": 58,
   "metadata": {},
   "outputs": [
    {
     "data": {
      "text/plain": [
       "0.708212"
      ]
     },
     "execution_count": 58,
     "metadata": {},
     "output_type": "execute_result"
    }
   ],
   "source": [
    "placebo.evaluate_control(gedi_unburned_trees, gedi_unburned_trees, 'agbd', 'nn_agbd', placebo.closest_200_mean)"
   ]
  },
  {
   "cell_type": "code",
   "execution_count": null,
   "metadata": {},
   "outputs": [],
   "source": [
    "placebo.evaluate_control(gedi_unburned_trees, gedi_unburned_trees, 'agbd', 'nn_agbd', placebo.closest_200_median)"
   ]
  },
  {
   "cell_type": "markdown",
   "metadata": {},
   "source": [
    "## Evaluate Existing Control Methods"
   ]
  },
  {
   "cell_type": "markdown",
   "metadata": {},
   "source": [
    "### Nearest Neighbour - no clustering"
   ]
  },
  {
   "cell_type": "code",
   "execution_count": 41,
   "metadata": {},
   "outputs": [],
   "source": [
    "# 200 closest\n",
    "matched_idx_200, matched_distances_200 = placebo.get_nearest_neighbors(gedi_unburned_trees, 200)"
   ]
  },
  {
   "cell_type": "code",
   "execution_count": 42,
   "metadata": {},
   "outputs": [
    {
     "name": "stdout",
     "output_type": "stream",
     "text": [
      "Taking the mean of the closest 200 results in the error of: 4.15668\n"
     ]
    }
   ],
   "source": [
    "rmse_200_mean = placebo.calc_rmse_from_matches(gedi_unburned_trees, gedi_unburned_trees, matched_idx_200, 'agbd', lambda x: x.mean())\n",
    "print(f'Taking the mean of the closest 200 results in the error of: {rmse_200_mean}')"
   ]
  },
  {
   "cell_type": "code",
   "execution_count": 43,
   "metadata": {},
   "outputs": [
    {
     "name": "stdout",
     "output_type": "stream",
     "text": [
      "Taking the median of the closest 200 results in the error of: 3.356693\n"
     ]
    }
   ],
   "source": [
    "rmse_200_median = placebo.calc_rmse_from_matches(gedi_unburned_trees, gedi_unburned_trees, matched_idx_200, 'agbd', lambda x: x.median())\n",
    "print(f'Taking the median of the closest 200 results in the error of: {rmse_200_median}')"
   ]
  },
  {
   "cell_type": "code",
   "execution_count": 44,
   "metadata": {},
   "outputs": [],
   "source": [
    "# 10 closest\n",
    "matched_idx_10, matched_distances_10 = placebo.get_nearest_neighbors(gedi_unburned_trees, 10)"
   ]
  },
  {
   "cell_type": "code",
   "execution_count": 45,
   "metadata": {},
   "outputs": [
    {
     "name": "stdout",
     "output_type": "stream",
     "text": [
      "Taking the mean of the closest 10 results in the error of: 4.34879\n"
     ]
    }
   ],
   "source": [
    "rmse_10_mean = placebo.calc_rmse_from_matches(gedi_unburned_trees, gedi_unburned_trees, matched_idx_10, 'agbd', lambda x: x.mean())\n",
    "print(f'Taking the mean of the closest 10 results in the error of: {rmse_10_mean}')"
   ]
  },
  {
   "cell_type": "code",
   "execution_count": 46,
   "metadata": {},
   "outputs": [
    {
     "name": "stdout",
     "output_type": "stream",
     "text": [
      "Taking the median of the closest 10 results in the error of: 4.165484\n"
     ]
    }
   ],
   "source": [
    "rmse_10_median = placebo.calc_rmse_from_matches(gedi_unburned_trees, gedi_unburned_trees, matched_idx_10, 'agbd', lambda x: x.median())\n",
    "print(f'Taking the median of the closest 10 results in the error of: {rmse_10_median}')"
   ]
  },
  {
   "cell_type": "code",
   "execution_count": 48,
   "metadata": {},
   "outputs": [],
   "source": [
    "# 1000 closest\n",
    "matched_idx_1000, matched_distances_1000 = placebo.get_nearest_neighbors(gedi_unburned_trees, 1000)"
   ]
  },
  {
   "cell_type": "code",
   "execution_count": 49,
   "metadata": {},
   "outputs": [
    {
     "name": "stdout",
     "output_type": "stream",
     "text": [
      "Taking the mean of the closest 1000 results in the error of: 4.191309\n"
     ]
    }
   ],
   "source": [
    "rmse_1000_mean = placebo.calc_rmse_from_matches(gedi_unburned_trees, gedi_unburned_trees, matched_idx_1000, 'agbd', lambda x: x.mean())\n",
    "print(f'Taking the mean of the closest 1000 results in the error of: {rmse_1000_mean}')"
   ]
  },
  {
   "cell_type": "code",
   "execution_count": 50,
   "metadata": {},
   "outputs": [
    {
     "name": "stdout",
     "output_type": "stream",
     "text": [
      "Taking the median of the closest 1000 results in the error of: 3.31847\n"
     ]
    }
   ],
   "source": [
    "rmse_1000_median = placebo.calc_rmse_from_matches(gedi_unburned_trees, gedi_unburned_trees, matched_idx_1000, 'agbd', lambda x: x.median())\n",
    "print(f'Taking the median of the closest 1000 results in the error of: {rmse_1000_median}')"
   ]
  },
  {
   "cell_type": "code",
   "execution_count": 51,
   "metadata": {},
   "outputs": [
    {
     "name": "stdout",
     "output_type": "stream",
     "text": [
      "Closest point in the error of: 4.732752\n"
     ]
    }
   ],
   "source": [
    "rmse_closest = placebo.calc_rmse_from_closest_point(gedi_unburned_trees, gedi_unburned_trees, matched_idx_1000, 'agbd')\n",
    "print(f'Closest point in the error of: {rmse_closest}')"
   ]
  },
  {
   "cell_type": "markdown",
   "metadata": {},
   "source": [
    "### Algo 2 - Take only points within certain distance"
   ]
  },
  {
   "cell_type": "code",
   "execution_count": 52,
   "metadata": {},
   "outputs": [
    {
     "name": "stdout",
     "output_type": "stream",
     "text": [
      "Taking the mean of the points within 200m radius results in the error of: 3.885359\n"
     ]
    }
   ],
   "source": [
    "rmse_200m_mean = placebo.calc_rmse_from_matches_based_on_distance(gedi_unburned_trees, gedi_unburned_trees, matched_idx_1000, matched_distances_1000, 'agbd', lambda x: x.mean(), 200)\n",
    "print(f'Taking the mean of the points within 200m radius results in the error of: {rmse_200m_mean}')"
   ]
  },
  {
   "cell_type": "code",
   "execution_count": 53,
   "metadata": {},
   "outputs": [
    {
     "name": "stdout",
     "output_type": "stream",
     "text": [
      "Taking the median of the points within 500m radius results in the error of: 3.183494\n"
     ]
    }
   ],
   "source": [
    "rmse_500m_median = placebo.calc_rmse_from_matches_based_on_distance(gedi_unburned_trees, gedi_unburned_trees, matched_idx_1000, matched_distances_1000, 'agbd', lambda x: x.median(), 500)\n",
    "print(f'Taking the median of the points within 500m radius results in the error of: {rmse_500m_median}')"
   ]
  },
  {
   "cell_type": "code",
   "execution_count": null,
   "metadata": {},
   "outputs": [],
   "source": []
  },
  {
   "cell_type": "code",
   "execution_count": 9,
   "metadata": {},
   "outputs": [],
   "source": [
    "stack = np.stack([matched_idx_10, matched_distances_10], axis=1)"
   ]
  },
  {
   "cell_type": "code",
   "execution_count": 11,
   "metadata": {},
   "outputs": [
    {
     "data": {
      "text/plain": [
       "<numpy.ndenumerate at 0x7f6b9a1578b0>"
      ]
     },
     "execution_count": 11,
     "metadata": {},
     "output_type": "execute_result"
    }
   ],
   "source": [
    "np.ndenumerate(stack)"
   ]
  },
  {
   "cell_type": "code",
   "execution_count": 13,
   "metadata": {},
   "outputs": [
    {
     "name": "stdout",
     "output_type": "stream",
     "text": [
      "[[0.00000000e+00 1.00000000e+00 2.00000000e+00 3.00000000e+00\n",
      "  7.40000000e+01 7.50000000e+01 7.60000000e+01 8.10000000e+01\n",
      "  8.20000000e+01 8.30000000e+01]\n",
      " [0.00000000e+00 5.65361779e+01 1.12769481e+02 9.74615980e+02\n",
      "  8.31387229e+03 8.67403501e+03 8.71122442e+03 8.73322032e+03\n",
      "  8.83777454e+03 8.87311421e+03]]\n",
      "[[1.00000000e+00 2.00000000e+00 0.00000000e+00 3.00000000e+00\n",
      "  7.40000000e+01 7.50000000e+01 7.60000000e+01 8.10000000e+01\n",
      "  8.20000000e+01 8.30000000e+01]\n",
      " [0.00000000e+00 5.62333040e+01 5.65361779e+01 9.40989370e+02\n",
      "  8.27922806e+03 8.63712681e+03 8.67410529e+03 8.69886241e+03\n",
      "  8.80273449e+03 8.83785191e+03]]\n",
      "[[2.00000000e+00 1.00000000e+00 0.00000000e+00 3.00000000e+00\n",
      "  7.40000000e+01 7.50000000e+01 7.60000000e+01 8.10000000e+01\n",
      "  8.20000000e+01 8.30000000e+01]\n",
      " [0.00000000e+00 5.62333040e+01 1.12769481e+02 9.09809742e+02\n",
      "  8.24502074e+03 8.60063857e+03 8.63740453e+03 8.66493055e+03\n",
      "  8.76811595e+03 8.80300961e+03]]\n",
      "[[3.00000000e+00 2.00000000e+00 1.00000000e+00 0.00000000e+00\n",
      "  7.40000000e+01 7.50000000e+01 7.60000000e+01 8.10000000e+01\n",
      "  8.20000000e+01 8.30000000e+01]\n",
      " [0.00000000e+00 9.09809742e+02 9.40989370e+02 9.74615980e+02\n",
      "  7.33925799e+03 7.70097597e+03 7.73846482e+03 7.75861678e+03\n",
      "  7.86321849e+03 7.89862907e+03]]\n",
      "[[4.00000000e+00 9.40000000e+01 8.00000000e+01 9.30000000e+01\n",
      "  7.90000000e+01 7.80000000e+01 9.50000000e+01 8.80000000e+01\n",
      "  3.60000000e+01 8.70000000e+01]\n",
      " [0.00000000e+00 6.09364259e+03 6.19686101e+03 6.31151103e+03\n",
      "  6.35686198e+03 6.41027759e+03 6.42593909e+03 6.50117300e+03\n",
      "  6.52663451e+03 6.55353556e+03]]\n",
      "[[  5.          12.           6.          35.           7.\n",
      "   13.           8.          14.          15.           9.        ]\n",
      " [  0.          27.85799071 111.54576524 142.05379858 226.53750092\n",
      "  243.59087113 283.69469483 299.59487798 355.73378142 401.09620931]]\n",
      "[[  6.          12.           5.           7.          13.\n",
      "   35.           8.          14.          15.           9.        ]\n",
      " [  0.          98.51109192 111.54576524 114.99220205 133.01664418\n",
      "  164.43104288 172.14942099 188.62429017 244.57326213 289.55145886]]\n",
      "[[  7.          13.           8.          14.           6.\n",
      "   15.           9.          16.          12.           5.        ]\n",
      " [  0.          28.14128289  57.15722961  75.86283603 114.99220205\n",
      "  130.58163486 174.55934501 186.10259775 211.98380515 226.53750092]]\n",
      "[[  8.          14.          13.           7.          15.\n",
      "    9.          16.           6.          10.          17.        ]\n",
      " [  0.          27.79683537  47.24992376  57.15722961  75.07946089\n",
      "  117.40234865 129.62474558 172.14942099 175.32942414 185.14716245]]\n",
      "[[  9.          16.          15.          10.          17.\n",
      "   14.          11.           8.          13.           7.        ]\n",
      " [  0.          25.50277563  51.62831786  57.92712956  70.2894526\n",
      "  104.94314096 115.92230502 117.40234865 160.20714029 174.55934501]]\n",
      "[[ 10.          17.          16.           9.          11.\n",
      "   15.          14.           8.          13.           7.        ]\n",
      " [  0.          25.0099311   53.30721357  57.92712956  57.99517592\n",
      "  106.58422101 161.94622358 175.32942414 217.69136434 232.48646848]]\n",
      "[[ 11.          17.          10.          16.           9.\n",
      "   15.          14.           8.          13.           7.        ]\n",
      " [  0.          55.02508531  57.99517592 108.43406528 115.92230502\n",
      "  163.66909316 219.50038331 233.32458087 275.42821988 290.48164331]]\n",
      "[[ 12.           5.           6.          35.           7.\n",
      "   13.           8.          14.          15.           9.        ]\n",
      " [  0.          27.85799071  98.51109192 117.22180172 211.98380515\n",
      "  226.68587925 268.87028545 282.87418801 339.14135286 385.94242346]]\n",
      "[[ 13.           7.           8.          14.          15.\n",
      "    6.           9.          16.          10.          17.        ]\n",
      " [  0.          28.14128289  47.24992376  56.18872395 112.45608262\n",
      "  133.01664418 160.20714029 168.59102431 217.69136434 224.75126912]]\n",
      "[[ 14.           8.          13.          15.           7.\n",
      "    9.          16.          10.          17.           6.        ]\n",
      " [  0.          27.79683537  56.18872395  56.26736273  75.86283603\n",
      "  104.94314096 112.40230043 161.94622358 168.5625462  188.62429017]]\n",
      "[[ 15.           9.          16.          14.           8.\n",
      "   10.          17.          13.           7.          11.        ]\n",
      " [  0.          51.62831786  56.13495787  56.26736273  75.07946089\n",
      "  106.58422101 112.29520778 112.45608262 130.58163486 163.66909316]]\n",
      "[[ 16.           9.          10.          15.          17.\n",
      "   11.          14.           8.          13.           7.        ]\n",
      " [  0.          25.50277563  53.30721357  56.13495787  56.16025011\n",
      "  108.43406528 112.40230043 129.62474558 168.59102431 186.10259775]]\n",
      "[[ 17.          10.          11.          16.           9.\n",
      "   15.          14.           8.          13.           7.        ]\n",
      " [  0.          25.0099311   55.02508531  56.16025011  70.2894526\n",
      "  112.29520778 168.5625462  185.14716245 224.75126912 241.93167034]]\n",
      "[[ 18.          19.          36.          20.          37.\n",
      "   21.          38.          22.          39.          23.        ]\n",
      " [  0.          58.18558537  66.95285726 116.22318885 162.53321773\n",
      "  174.28709019 215.58808821 232.41371306 270.10575739 289.42678857]]\n",
      "[[ 19.          20.          18.          36.          37.\n",
      "   21.          38.          22.          39.          23.        ]\n",
      " [  0.          58.03761556  58.18558537 102.89946347 111.47541202\n",
      "  116.10151755 161.05728332 174.22813646 214.12714253 231.24133142]]\n",
      "[[ 20.          19.          21.          37.          38.\n",
      "   22.          18.          36.          39.          23.        ]\n",
      " [  0.          58.03761556  58.06390259  72.18443667 110.41449268\n",
      "  116.19052426 116.22318885 153.02633904 159.84701361 173.20379584]]\n",
      "[[ 21.          20.          22.          37.          38.\n",
      "   39.          23.          19.          40.          24.        ]\n",
      " [  0.          58.06390259  58.12662433  68.80379831  71.97133475\n",
      "  109.47762711 115.14008963 116.10151755 158.89263814 171.60893577]]\n",
      "[[ 22.          23.          21.          38.          39.\n",
      "   37.          40.          24.          20.          41.        ]\n",
      " [  0.          57.01423346  58.12662433  70.12701047  71.84704229\n",
      "  104.9465099  108.74461391 113.48391808 116.19052426 158.06198382]]\n",
      "[[ 23.          24.          22.          39.          40.\n",
      "   38.          41.          25.          21.          37.        ]\n",
      " [  0.          56.46987797  57.01423346  70.56526082  71.90736315\n",
      "  105.69456004 108.7860992  113.5185075  115.14008963 153.89735924]]\n",
      "[[ 24.          23.          25.          40.          41.\n",
      "   39.          22.          26.          38.          27.        ]\n",
      " [  0.          56.46987797  57.04884765  70.43198101  72.0551638\n",
      "  105.73490474 113.48391808 113.96557823 154.09881448 171.56332955]]\n",
      "[[ 25.          26.          24.          41.          40.\n",
      "   23.          27.          39.          42.          22.        ]\n",
      " [  0.          56.91674224  57.04884765  70.61657836 106.08397841\n",
      "  113.5185075  114.51451728 154.75503784 158.25845379 170.53268472]]\n",
      "[[ 26.          25.          27.          41.          42.\n",
      "   24.          28.          40.          43.          23.        ]\n",
      " [  0.          56.91674224  57.59806608 106.1213884  109.08004413\n",
      "  113.96557823 114.49781968 154.95875682 158.35587889 170.435229  ]]\n",
      "[[ 27.          28.          26.          42.          43.\n",
      "   29.          25.          41.          30.          24.        ]\n",
      " [  0.          56.90006784  57.59806608  72.27641092 108.80451352\n",
      "  113.9555582  114.51451728 155.69717735 170.98771978 171.56332955]]\n",
      "[[ 28.          27.          29.          42.          43.\n",
      "   30.          26.          31.          25.          41.        ]\n",
      " [  0.          56.90006784  57.05550462  71.48361626  72.38981871\n",
      "  114.0876671  114.49781968 171.28383105 171.41447154 208.67267652]]\n",
      "[[ 29.          30.          28.          43.          42.\n",
      "   27.          31.          32.          26.          33.        ]\n",
      " [  0.          57.03216313  57.05550462  71.64820075 107.26113008\n",
      "  113.9555582  114.22832817 170.88786736 171.55328925 227.91710717]]\n",
      "[[ 30.          29.          31.          43.          32.\n",
      "   28.          42.          33.          27.          34.        ]\n",
      " [  0.          57.03216313  57.19618025 107.38593785 113.85571658\n",
      "  114.0876671  156.21277897 170.88495226 170.98771978 227.78265894]]\n",
      "[[ 31.          32.          30.          33.          29.\n",
      "   43.          34.          28.          42.          27.        ]\n",
      " [  0.          56.65973058  57.19618025 113.68888937 114.22832817\n",
      "  156.49166799 170.58660279 171.28383105 209.47127182 228.18386801]]\n",
      "[[ 32.          31.          33.          30.          34.\n",
      "   29.          43.          28.          42.          27.        ]\n",
      " [  0.          56.65973058  57.0292416  113.85571658 113.92694251\n",
      "  170.88786736 209.16332959 227.9433599  263.80798625 284.84342339]]\n",
      "[[ 33.          34.          32.          31.          30.\n",
      "   29.          43.          28.          42.          27.        ]\n",
      " [  0.          56.89771441  57.0292416  113.68888937 170.88495226\n",
      "  227.91710717 263.88712424 284.97260127 319.34408948 341.87266415]]\n",
      "[[ 34.          33.          32.          31.          30.\n",
      "   29.          43.          28.          42.          27.        ]\n",
      " [  0.          56.89771441 113.92694251 170.58660279 227.78265894\n",
      "  284.81480853 319.27836417 341.87029676 375.18902798 398.77036228]]\n",
      "[[ 35.          12.           5.           6.           7.\n",
      "   13.           8.          14.          15.           9.        ]\n",
      " [  0.         117.22180172 142.05379858 164.43104288 245.00442213\n",
      "  246.48512631 293.7282916  297.06236557 349.44295766 400.71372313]]\n",
      "[[ 36.          18.          19.          20.          37.\n",
      "   21.          38.          22.          39.          23.        ]\n",
      " [  0.          66.95285726 102.89946347 153.02633904 172.69412499\n",
      "  207.35094284 228.97061579 263.34349838 285.41377774 318.9239153 ]]\n",
      "[[ 37.          38.          21.          20.          22.\n",
      "   19.          39.          23.          18.          40.        ]\n",
      " [  0.          56.27681474  68.80379831  72.18443667 104.9465099\n",
      "  111.47541202 112.72010171 153.89735924 162.53321773 169.47970791]]\n",
      "[[ 38.          37.          39.          22.          21.\n",
      "   23.          20.          40.          24.          19.        ]\n",
      " [  0.          56.27681474  56.44329133  70.12701047  71.97133475\n",
      "  105.69456004 110.41449268 113.20291457 154.09881448 161.05728332]]\n",
      "[[ 39.          38.          40.          23.          22.\n",
      "   24.          21.          37.          41.          25.        ]\n",
      " [  0.          56.44329133  56.75963793  70.56526082  71.84704229\n",
      "  105.73490474 109.47762711 112.72010171 113.71448951 154.75503784]]\n",
      "[[ 40.          39.          41.          24.          23.\n",
      "   25.          22.          38.          26.          21.        ]\n",
      " [  0.          56.75963793  56.9548573   70.43198101  71.90736315\n",
      "  106.08397841 108.74461391 113.20291457 154.95875682 158.89263814]]\n",
      "[[ 41.          40.          25.          24.          26.\n",
      "   23.          39.          27.          22.          38.        ]\n",
      " [  0.          56.9548573   70.61657836  72.0551638  106.1213884\n",
      "  108.7860992  113.71448951 155.69717735 158.06198382 170.15774716]]\n",
      "[[ 42.          43.          28.          27.          29.\n",
      "   26.          30.          25.          41.          31.        ]\n",
      " [  0.          56.978597    71.48361626  72.27641092 107.26113008\n",
      "  109.08004413 156.21277897 158.25845379 170.62091777 209.47127182]]\n",
      "[[ 43.          42.          29.          28.          30.\n",
      "   27.          31.          26.          32.          25.        ]\n",
      " [  0.          56.978597    71.64820075  72.38981871 107.38593785\n",
      "  108.80451352 156.49166799 158.35587889 209.16332959 211.44722497]]\n",
      "[[ 44.          45.          53.          52.          46.\n",
      "   56.          58.          59.          47.          55.        ]\n",
      " [  0.          56.80985326  73.85947346 123.72943172 170.43557209\n",
      "  235.50992813 261.80255659 263.05941312 284.17236403 285.4112461 ]]\n",
      "[[ 45.          53.          44.          46.          52.\n",
      "   59.          56.          47.          58.          55.        ]\n",
      " [  0.          18.88332741  56.80985326 113.62571883 158.76284986\n",
      "  206.63876142 218.38131659 227.36251084 287.66588271 290.27100511]]\n",
      "[[ 46.          59.          53.          45.          47.\n",
      "   44.          56.          52.          55.          58.        ]\n",
      " [  0.          95.19047809  97.59426392 113.62571883 113.73679243\n",
      "  170.43557209 226.95116176 253.70478747 330.48352307 361.30553929]]\n",
      "[[ 47.          59.          46.          53.          45.\n",
      "   44.          56.          52.          55.          58.        ]\n",
      " [  0.          35.35869887 113.73679243 211.09449853 227.36251084\n",
      "  284.17236403 284.92187731 359.75174274 400.07170984 451.91938164]]\n",
      "[[  48.           49.           47.           59.           46.\n",
      "    56.           53.           45.           44.           55.        ]\n",
      " [   0.           56.69824809  906.69564564  929.60908911 1020.43241873\n",
      "  1114.98770932 1117.6302918  1134.05812825 1190.86797732 1221.01331768]]\n",
      "[[  49.           48.           47.           59.           46.\n",
      "    56.           53.           45.           44.           55.        ]\n",
      " [   0.           56.69824809  963.39389374  986.28433428 1077.13066667\n",
      "  1170.6770538  1174.32674739 1190.75637595 1247.56622489 1276.21167645]]\n",
      "[[ 50.          51.          57.          58.          54.\n",
      "   55.          52.          56.          44.          45.        ]\n",
      " [  0.         182.06438935 249.53785819 304.07997916 339.53854856\n",
      "  389.93146776 403.75920875 496.73632827 518.92025636 561.87695724]]\n",
      "[[ 51.          57.          58.          50.          54.\n",
      "   52.          55.          56.          44.          45.        ]\n",
      " [  0.          99.77161985 138.88446013 182.06438935 208.32725604\n",
      "  221.69618672 243.12912375 333.55506655 338.14505515 379.91179576]]\n",
      "[[ 52.          44.          58.          45.          53.\n",
      "   55.          56.          57.          54.          51.        ]\n",
      " [  0.         123.72943172 139.64332403 158.76284986 165.39268251\n",
      "  187.20119281 188.08312461 188.59393802 212.04557736 221.69618672]]\n",
      "[[ 53.          45.          44.          46.          52.\n",
      "   59.          56.          47.          55.          58.        ]\n",
      " [  0.          18.88332741  73.85947346  97.59426392 165.39268251\n",
      "  191.8652977  206.79096315 211.09449853 284.75974438 289.25573863]]\n",
      "[[ 54.          55.          58.          57.          56.\n",
      "   51.          52.          44.          53.          45.        ]\n",
      " [  0.          57.80570384  94.30145563 108.59314478 174.66922896\n",
      "  208.32725604 212.04557736 323.10422903 331.85597243 335.30017158]]\n",
      "[[ 55.          54.          58.          56.          57.\n",
      "   52.          51.          53.          44.          45.        ]\n",
      " [  0.          57.80570384 108.91242455 116.86353419 146.23618614\n",
      "  187.20119281 243.12912375 284.75974438 285.4112461  290.27100511]]\n",
      "[[ 56.          55.          54.          52.          58.\n",
      "   53.          45.          46.          44.          57.        ]\n",
      " [  0.         116.86353419 174.66922896 188.08312461 195.60650658\n",
      "  206.79096315 218.38131659 226.95116176 235.50992813 247.3363852 ]]\n",
      "[[ 57.          58.          51.          54.          55.\n",
      "   52.          56.          50.          44.          45.        ]\n",
      " [  0.          57.290233    99.77161985 108.59314478 146.23618614\n",
      "  188.59393802 247.3363852  249.53785819 312.27701915 341.91906417]]\n",
      "[[ 58.          57.          54.          55.          51.\n",
      "   52.          56.          44.          45.          53.        ]\n",
      " [  0.          57.290233    94.30145563 108.91242455 138.88446013\n",
      "  139.64332403 195.60650658 261.80255659 287.66588271 289.25573863]]\n",
      "[[ 59.          47.          46.          53.          45.\n",
      "   44.          56.          52.          55.          58.        ]\n",
      " [  0.          35.35869887  95.19047809 191.8652977  206.63876142\n",
      "  263.05941312 292.73064524 348.08030281 405.25261768 448.98065867]]\n",
      "[[ 60.          61.          65.          66.          70.\n",
      "   67.          68.          69.          63.          71.        ]\n",
      " [  0.          56.45109948 203.99572707 429.4830888  459.38866836\n",
      "  481.93122641 643.1880213  698.01836214 700.17320292 733.03774648]]\n",
      "[[ 61.          60.          65.          66.          70.\n",
      "   67.          68.          63.          69.          71.        ]\n",
      " [  0.          56.45109948 152.09430393 374.92663421 406.54382242\n",
      "  428.12952378 591.21200173 645.02439488 646.51803681 677.92087651]]\n",
      "[[ 62.          64.          73.          72.          71.\n",
      "   69.          63.          68.          67.          70.        ]\n",
      " [  0.          18.83955784 266.96036219 303.45637341 345.33501824\n",
      "  356.49716985 375.76689421 409.64074714 572.58467921 593.15880872]]\n",
      "[[ 63.          71.          72.          68.          69.\n",
      "   73.          67.          70.          66.          62.        ]\n",
      " [  0.          32.93170699  88.78574974 131.56912456 138.64602461\n",
      "  145.35506354 223.48864686 251.91642071 271.40612077 375.76689421]]\n",
      "[[ 64.          62.          73.          72.          71.\n",
      "   69.          63.          68.          67.          70.        ]\n",
      " [  0.          18.83955784 285.57733287 322.29556681 364.06389715\n",
      "  372.931055   394.4147506  426.50825408 590.15499675 610.43356763]]\n",
      "[[ 65.          61.          60.          66.          70.\n",
      "   67.          68.          63.          69.          71.        ]\n",
      " [  0.         152.09430393 203.99572707 283.35032976 327.49904148\n",
      "  339.98392689 509.52232175 537.26347728 566.24434814 569.91212677]]\n",
      "[[ 66.          70.          67.          68.          63.\n",
      "   69.          65.          71.          72.          61.        ]\n",
      " [  0.          51.6153003   56.63359749 226.17199682 271.40612077\n",
      "  282.89402295 283.35032976 304.11861992 360.10999612 374.92663421]]\n",
      "[[ 67.          70.          66.          68.          63.\n",
      "   69.          71.          72.          65.          73.        ]\n",
      " [  0.          31.834082    56.63359749 169.53840019 223.48864686\n",
      "  226.26042604 255.56260346 312.10431876 339.98392689 368.79064706]]\n",
      "[[ 68.          69.          63.          71.          67.\n",
      "   70.          72.          66.          73.          62.        ]\n",
      " [  0.          56.72202643 131.56912456 149.37585702 169.53840019\n",
      "  185.51185205 197.89474179 226.17199682 249.93930297 409.64074714]]\n",
      "[[ 69.          68.          63.          71.          72.\n",
      "   73.          67.          70.          66.          62.        ]\n",
      " [  0.          56.72202643 138.64602461 144.07738762 180.29267775\n",
      "  225.15895182 226.26042604 241.71078865 282.89402295 356.49716985]]\n",
      "[[ 70.          67.          66.          68.          69.\n",
      "   63.          71.          65.          72.          73.        ]\n",
      " [  0.          31.834082    51.6153003  185.51185205 241.71078865\n",
      "  251.91642071 283.498348   327.49904148 340.11698155 396.85473768]]\n",
      "[[ 71.          63.          72.          73.          69.\n",
      "   68.          67.          70.          66.          62.        ]\n",
      " [  0.          32.93170699  56.61865289 113.35639831 144.07738762\n",
      "  149.37585702 255.56260346 283.498348   304.11861992 345.33501824]]\n",
      "[[ 72.          71.          73.          63.          69.\n",
      "   68.          62.          67.          64.          70.        ]\n",
      " [  0.          56.61865289  56.73775655  88.78574974 180.29267775\n",
      "  197.89474179 303.45637341 312.10431876 322.29556681 340.11698155]]\n",
      "[[ 73.          72.          71.          63.          69.\n",
      "   68.          62.          64.          67.          70.        ]\n",
      " [  0.          56.73775655 113.35639831 145.35506354 225.15895182\n",
      "  249.93930297 266.96036219 285.57733287 368.79064706 396.85473768]]\n",
      "[[ 74.          81.          82.          75.          83.\n",
      "   76.          89.          90.          91.          84.        ]\n",
      " [  0.         423.00023735 529.19894382 566.6170466  571.50862021\n",
      "  623.25580588 707.94203738 764.27795371 819.15724121 859.97897507]]\n",
      "[[ 75.          76.          83.          82.          84.\n",
      "   81.          92.          74.          77.          91.        ]\n",
      " [  0.          56.63876488 386.79232754 408.93971802 422.14432745\n",
      "  508.40736321 519.44667057 566.6170466  678.65207567 700.06586081]]\n",
      "[[ 76.          75.          84.          83.          82.\n",
      "   92.          81.          77.          74.          91.        ]\n",
      " [  0.          56.63876488 396.75242896 408.94233422 437.34885318\n",
      "  488.92457884 549.31726168 622.01332475 623.25580588 712.2806648 ]]\n",
      "[[ 77.          78.          79.          93.          85.\n",
      "   86.          80.          87.          88.          95.        ]\n",
      " [  0.         169.747936   226.39171735 260.84275921 367.76717228\n",
      "  378.48431776 396.43823014 397.07178933 422.4936808  448.30489514]]\n",
      "[[ 78.          79.          93.          77.          80.\n",
      "   94.          95.          87.          88.          86.        ]\n",
      " [  0.          56.64378285 101.9698385  169.747936   226.69030168\n",
      "  331.1428512  364.54042419 365.63779679 367.8251818  372.16032777]]\n",
      "[[ 79.          78.          93.          80.          77.\n",
      "   94.          95.          88.          87.          86.        ]\n",
      " [  0.          56.64378285  63.15669085 170.04651946 226.39171735\n",
      "  287.21053266 350.68882104 365.63734403 372.16045913 386.95213742]]\n",
      "[[ 80.          93.          79.          94.          78.\n",
      "   95.          77.          88.          87.          86.        ]\n",
      " [  0.         152.64238653 170.04651946 198.73810422 226.69030168\n",
      "  362.9999411  396.43823014 409.14523961 437.58077207 471.13399518]]\n",
      "[[ 81.          82.          83.          89.          90.\n",
      "   91.          74.          75.          76.          84.        ]\n",
      " [  0.         169.75194225 226.39864333 328.18085358 344.35485245\n",
      "  396.97708803 423.00023735 508.40736321 549.31726168 565.55568971]]\n",
      "[[ 82.          83.          81.          90.          91.\n",
      "   89.          84.          75.          76.          92.        ]\n",
      " [  0.          56.64670109 169.75194225 327.99533626 329.25939215\n",
      "  392.76893169 395.80375761 408.93971802 437.34885318 487.50237505]]\n",
      "[[ 83.          82.          81.          91.          84.\n",
      "   90.          75.          76.          89.          92.        ]\n",
      " [  0.          56.64670109 226.39864333 323.76591862 339.15706287\n",
      "  341.6639418  386.79232754 408.94233422 427.35235904 431.32237709]]\n",
      "[[ 84.          92.          83.          82.          76.\n",
      "   75.          91.          85.          90.          81.        ]\n",
      " [  0.         106.02165439 339.15706287 395.80375761 396.75242896\n",
      "  422.14432745 466.58108316 509.292036   553.07255673 565.55568971]]\n",
      "[[ 85.          86.          87.          88.          95.\n",
      "   77.          78.          79.          92.          93.        ]\n",
      " [  0.          56.62135244 113.25809051 169.90248804 243.98491337\n",
      "  367.76717228 386.94746256 409.11059757 425.2924063  472.2670613 ]]\n",
      "[[ 86.          85.          87.          88.          95.\n",
      "   78.          77.          79.          93.          80.        ]\n",
      " [  0.          56.62135244  56.63673809 113.28113563 187.60383283\n",
      "  372.16032777 378.48431776 386.95213742 449.66324458 471.13399518]]\n",
      "[[ 87.          86.          88.          85.          95.\n",
      "   78.          79.          77.          93.          80.        ]\n",
      " [  0.          56.63673809  56.64439754 113.25809051 131.4145334\n",
      "  365.63779679 372.16045913 397.07178933 433.3222599  437.58077207]]\n",
      "[[ 88.          87.          95.          86.          85.\n",
      "   79.          78.          80.          77.          93.        ]\n",
      " [  0.          56.64439754  75.8861658  113.28113563 169.90248804\n",
      "  365.63734403 367.8251818  409.14523961 422.4936808  423.97499393]]\n",
      "[[ 89.          90.          91.          81.          82.\n",
      "   83.          84.          74.          92.          75.        ]\n",
      " [  0.         169.55368086 282.01107882 328.18085358 392.76893169\n",
      "  427.35235904 697.70743272 707.94203738 754.16183122 799.89992121]]\n",
      "[[ 90.          91.          89.          82.          83.\n",
      "   81.          84.          92.          75.          76.        ]\n",
      " [  0.         112.45744046 169.55368086 327.99533626 341.6639418\n",
      "  344.35485245 553.07255673 598.3216696  728.44697886 748.7492491 ]]\n",
      "[[ 91.          90.          89.          83.          82.\n",
      "   81.          84.          92.          75.          76.        ]\n",
      " [  0.         112.45744046 282.01107882 323.76591862 329.25939215\n",
      "  396.97708803 466.58108316 499.97457654 700.06586081 712.2806648 ]]\n",
      "[[ 92.          84.          85.          83.          86.\n",
      "   82.          76.          91.          75.          87.        ]\n",
      " [  0.         106.02165439 425.2924063  431.32237709 481.43100152\n",
      "  487.50237505 488.92457884 499.97457654 519.44667057 537.68596263]]\n",
      "[[ 93.          79.          78.          80.          94.\n",
      "   77.          95.          88.          87.          86.        ]\n",
      " [  0.          63.15669085 101.9698385  152.64238653 229.29152122\n",
      "  260.84275921 403.33721949 423.97499393 433.3222599  449.66324458]]\n",
      "[[ 94.          80.          93.          79.          78.\n",
      "   77.          95.          88.          87.          86.        ]\n",
      " [  0.         198.73810422 229.29152122 287.21053266 331.1428512\n",
      "  479.07382495 561.08911512 603.47334095 626.85757535 654.31922473]]\n",
      "[[ 95.          88.          87.          86.          85.\n",
      "   79.          80.          78.          93.          77.        ]\n",
      " [  0.          75.8861658  131.4145334  187.60383283 243.98491337\n",
      "  350.68882104 362.9999411  364.54042419 403.33721949 448.30489514]]\n",
      "[[  96.           97.           98.           99.           11.\n",
      "    17.           10.           16.            9.           15.        ]\n",
      " [   0.           56.70732607  113.2974147   170.36829453 2005.84063713\n",
      "  2031.97738307 2052.49252049 2078.00464543 2099.64812427 2124.50198716]]\n",
      "[[  97.           98.           96.           99.           11.\n",
      "    17.           10.           16.            9.           15.        ]\n",
      " [   0.           56.5900891    56.70732607  113.66096914 2051.41059351\n",
      "  2078.33146966 2098.61664111 2124.85346953 2146.28942301 2171.81355797]]\n",
      "[[  98.           97.           99.           96.           11.\n",
      "    17.           10.           16.            9.           15.        ]\n",
      " [   0.           56.5900891    57.0708879   113.2974147  2097.4218354\n",
      "  2125.08454147 2145.145365   2172.0683813  2193.30146496 2219.46079634]]\n",
      "[[  99.           98.           97.           96.           11.\n",
      "    17.           10.           16.            9.           15.        ]\n",
      " [   0.           57.0708879   113.66096914  170.36829453 2144.36059935\n",
      "  2172.73188449 2192.5720815  2220.15107202 2241.18426653 2267.95133604]]\n"
     ]
    }
   ],
   "source": [
    "output = np.empty(stack.shape[0])\n",
    "for row in stack:\n",
    "    print(row)\n",
    "    "
   ]
  },
  {
   "cell_type": "code",
   "execution_count": null,
   "metadata": {},
   "outputs": [],
   "source": [
    "np.apply_along_axis(lambda x: print(x), 1, stack)"
   ]
  },
  {
   "cell_type": "code",
   "execution_count": 116,
   "metadata": {},
   "outputs": [
    {
     "data": {
      "text/plain": [
       "array([   0,    1,    2, 7161, 8297, 8296])"
      ]
     },
     "execution_count": 116,
     "metadata": {},
     "output_type": "execute_result"
    }
   ],
   "source": [
    "matched_idx_10[0][np.where(matched_distances_10[0] < 250)[0]]"
   ]
  },
  {
   "cell_type": "code",
   "execution_count": 114,
   "metadata": {},
   "outputs": [
    {
     "data": {
      "text/plain": [
       "array([1, 2])"
      ]
     },
     "execution_count": 114,
     "metadata": {},
     "output_type": "execute_result"
    }
   ],
   "source": [
    "matched_idx_10[0][np.array([1,2])]"
   ]
  },
  {
   "cell_type": "code",
   "execution_count": 117,
   "metadata": {},
   "outputs": [
    {
     "data": {
      "text/plain": [
       "(array([0, 1, 2, 3, 4, 5]),)"
      ]
     },
     "execution_count": 117,
     "metadata": {},
     "output_type": "execute_result"
    }
   ],
   "source": [
    "np.where(matched_distances_10[0] < 250)"
   ]
  },
  {
   "cell_type": "code",
   "execution_count": 118,
   "metadata": {},
   "outputs": [
    {
     "data": {
      "text/plain": [
       "array([    0,     1,     2,  7161,  8297,  8296,  8295, 61543, 61530,\n",
       "        8293])"
      ]
     },
     "execution_count": 118,
     "metadata": {},
     "output_type": "execute_result"
    }
   ],
   "source": [
    "matched_idx_10[0]"
   ]
  },
  {
   "cell_type": "code",
   "execution_count": null,
   "metadata": {},
   "outputs": [],
   "source": []
  },
  {
   "cell_type": "markdown",
   "metadata": {},
   "source": [
    "### Evaluate clustering"
   ]
  },
  {
   "cell_type": "code",
   "execution_count": 74,
   "metadata": {},
   "outputs": [
    {
     "name": "stdout",
     "output_type": "stream",
     "text": [
      "[{'architecture': 'Zen',\n",
      "  'filepath': '/home/jk871/fire-regen/fire-regen-env/lib/python3.10/site-packages/numpy.libs/libopenblas64_p-r0-15028c96.3.21.so',\n",
      "  'internal_api': 'openblas',\n",
      "  'num_threads': 1,\n",
      "  'prefix': 'libopenblas',\n",
      "  'threading_layer': 'pthreads',\n",
      "  'user_api': 'blas',\n",
      "  'version': '0.3.21'},\n",
      " {'architecture': 'Zen',\n",
      "  'filepath': '/home/jk871/fire-regen/fire-regen-env/lib/python3.10/site-packages/scipy.libs/libopenblasp-r0-41284840.3.18.so',\n",
      "  'internal_api': 'openblas',\n",
      "  'num_threads': 1,\n",
      "  'prefix': 'libopenblas',\n",
      "  'threading_layer': 'pthreads',\n",
      "  'user_api': 'blas',\n",
      "  'version': '0.3.18'},\n",
      " {'filepath': '/home/jk871/fire-regen/fire-regen-env/lib/python3.10/site-packages/scikit_learn.libs/libgomp-a34b3233.so.1.0.0',\n",
      "  'internal_api': 'openmp',\n",
      "  'num_threads': 1,\n",
      "  'prefix': 'libgomp',\n",
      "  'user_api': 'openmp',\n",
      "  'version': None}]\n"
     ]
    },
    {
     "name": "stderr",
     "output_type": "stream",
     "text": [
      "/home/jk871/fire-regen/fire-regen-env/lib/python3.10/site-packages/sklearn/cluster/_kmeans.py:870: FutureWarning: The default value of `n_init` will change from 3 to 'auto' in 1.4. Set the value of `n_init` explicitly to suppress the warning\n",
      "  warnings.warn(\n"
     ]
    }
   ],
   "source": [
    "terrain_all_clustered_in_5 = clustering.cluster(gedi_unburned_trees, ['elevation', 'aspect', 'slope', 'soil'], 5)"
   ]
  },
  {
   "cell_type": "code",
   "execution_count": 75,
   "metadata": {},
   "outputs": [
    {
     "data": {
      "text/plain": [
       "3.376876"
      ]
     },
     "execution_count": 75,
     "metadata": {},
     "output_type": "execute_result"
    }
   ],
   "source": [
    "placebo.find_closest_in_cluster(terrain_all_clustered_in_5, \"agbd\", \"nn_agbd\", 5, lambda x: x.median(), 100)"
   ]
  },
  {
   "cell_type": "code",
   "execution_count": 76,
   "metadata": {},
   "outputs": [
    {
     "data": {
      "text/plain": [
       "3.247833"
      ]
     },
     "execution_count": 76,
     "metadata": {},
     "output_type": "execute_result"
    }
   ],
   "source": [
    "placebo.find_closest_in_cluster(terrain_all_clustered_in_5, \"agbd\", \"nn_agbd\", 5, lambda x: x.median(), 200)"
   ]
  },
  {
   "cell_type": "code",
   "execution_count": 77,
   "metadata": {},
   "outputs": [
    {
     "name": "stdout",
     "output_type": "stream",
     "text": [
      "[{'architecture': 'Zen',\n",
      "  'filepath': '/home/jk871/fire-regen/fire-regen-env/lib/python3.10/site-packages/numpy.libs/libopenblas64_p-r0-15028c96.3.21.so',\n",
      "  'internal_api': 'openblas',\n",
      "  'num_threads': 1,\n",
      "  'prefix': 'libopenblas',\n",
      "  'threading_layer': 'pthreads',\n",
      "  'user_api': 'blas',\n",
      "  'version': '0.3.21'},\n",
      " {'architecture': 'Zen',\n",
      "  'filepath': '/home/jk871/fire-regen/fire-regen-env/lib/python3.10/site-packages/scipy.libs/libopenblasp-r0-41284840.3.18.so',\n",
      "  'internal_api': 'openblas',\n",
      "  'num_threads': 1,\n",
      "  'prefix': 'libopenblas',\n",
      "  'threading_layer': 'pthreads',\n",
      "  'user_api': 'blas',\n",
      "  'version': '0.3.18'},\n",
      " {'filepath': '/home/jk871/fire-regen/fire-regen-env/lib/python3.10/site-packages/scikit_learn.libs/libgomp-a34b3233.so.1.0.0',\n",
      "  'internal_api': 'openmp',\n",
      "  'num_threads': 1,\n",
      "  'prefix': 'libgomp',\n",
      "  'user_api': 'openmp',\n",
      "  'version': None}]\n"
     ]
    },
    {
     "name": "stderr",
     "output_type": "stream",
     "text": [
      "/home/jk871/fire-regen/fire-regen-env/lib/python3.10/site-packages/sklearn/cluster/_kmeans.py:870: FutureWarning: The default value of `n_init` will change from 3 to 'auto' in 1.4. Set the value of `n_init` explicitly to suppress the warning\n",
      "  warnings.warn(\n"
     ]
    }
   ],
   "source": [
    "terrain_all_clustered_in_10 = clustering.cluster(gedi_unburned_trees, ['elevation', 'aspect', 'slope', 'soil'], 10)"
   ]
  },
  {
   "cell_type": "code",
   "execution_count": 78,
   "metadata": {},
   "outputs": [
    {
     "data": {
      "text/plain": [
       "3.343398"
      ]
     },
     "execution_count": 78,
     "metadata": {},
     "output_type": "execute_result"
    }
   ],
   "source": [
    "placebo.find_closest_in_cluster(terrain_all_clustered_in_10, \"agbd\", \"nn_agbd\", 10, lambda x: x.median(), 200)"
   ]
  },
  {
   "cell_type": "code",
   "execution_count": 79,
   "metadata": {},
   "outputs": [
    {
     "name": "stdout",
     "output_type": "stream",
     "text": [
      "[{'architecture': 'Zen',\n",
      "  'filepath': '/home/jk871/fire-regen/fire-regen-env/lib/python3.10/site-packages/numpy.libs/libopenblas64_p-r0-15028c96.3.21.so',\n",
      "  'internal_api': 'openblas',\n",
      "  'num_threads': 1,\n",
      "  'prefix': 'libopenblas',\n",
      "  'threading_layer': 'pthreads',\n",
      "  'user_api': 'blas',\n",
      "  'version': '0.3.21'},\n",
      " {'architecture': 'Zen',\n",
      "  'filepath': '/home/jk871/fire-regen/fire-regen-env/lib/python3.10/site-packages/scipy.libs/libopenblasp-r0-41284840.3.18.so',\n",
      "  'internal_api': 'openblas',\n",
      "  'num_threads': 1,\n",
      "  'prefix': 'libopenblas',\n",
      "  'threading_layer': 'pthreads',\n",
      "  'user_api': 'blas',\n",
      "  'version': '0.3.18'},\n",
      " {'filepath': '/home/jk871/fire-regen/fire-regen-env/lib/python3.10/site-packages/scikit_learn.libs/libgomp-a34b3233.so.1.0.0',\n",
      "  'internal_api': 'openmp',\n",
      "  'num_threads': 1,\n",
      "  'prefix': 'libgomp',\n",
      "  'user_api': 'openmp',\n",
      "  'version': None}]\n"
     ]
    },
    {
     "name": "stderr",
     "output_type": "stream",
     "text": [
      "/home/jk871/fire-regen/fire-regen-env/lib/python3.10/site-packages/sklearn/cluster/_kmeans.py:870: FutureWarning: The default value of `n_init` will change from 3 to 'auto' in 1.4. Set the value of `n_init` explicitly to suppress the warning\n",
      "  warnings.warn(\n"
     ]
    }
   ],
   "source": [
    "slope_elev_clustered_in_5 = clustering.cluster(gedi_unburned_trees, ['elevation', 'slope'], 5)"
   ]
  },
  {
   "cell_type": "code",
   "execution_count": 80,
   "metadata": {},
   "outputs": [
    {
     "data": {
      "text/plain": [
       "3.226492"
      ]
     },
     "execution_count": 80,
     "metadata": {},
     "output_type": "execute_result"
    }
   ],
   "source": [
    "placebo.find_closest_in_cluster(slope_elev_clustered_in_5, \"agbd\", \"nn_agbd\", 5, lambda x: x.median(), 200)"
   ]
  },
  {
   "cell_type": "code",
   "execution_count": 81,
   "metadata": {},
   "outputs": [
    {
     "data": {
      "text/plain": [
       "3.338938"
      ]
     },
     "execution_count": 81,
     "metadata": {},
     "output_type": "execute_result"
    }
   ],
   "source": [
    "placebo.find_closest_in_cluster(slope_elev_clustered_in_5, \"agbd\", \"nn_agbd\", 5, lambda x: x.median(), 50)"
   ]
  },
  {
   "cell_type": "code",
   "execution_count": 82,
   "metadata": {},
   "outputs": [
    {
     "data": {
      "text/plain": [
       "4.148457"
      ]
     },
     "execution_count": 82,
     "metadata": {},
     "output_type": "execute_result"
    }
   ],
   "source": [
    "placebo.find_closest_in_cluster(slope_elev_clustered_in_5, \"agbd\", \"nn_agbd\", 5, lambda x: x.mean(), 200)"
   ]
  },
  {
   "cell_type": "code",
   "execution_count": 83,
   "metadata": {},
   "outputs": [
    {
     "data": {
      "text/plain": [
       "3.170006"
      ]
     },
     "execution_count": 83,
     "metadata": {},
     "output_type": "execute_result"
    }
   ],
   "source": [
    "placebo.find_closest_in_cluster(slope_elev_clustered_in_5, \"agbd\", \"nn_agbd\", 5, lambda x: x.median(), 500)"
   ]
  },
  {
   "cell_type": "code",
   "execution_count": 84,
   "metadata": {},
   "outputs": [
    {
     "data": {
      "text/plain": [
       "3.137952"
      ]
     },
     "execution_count": 84,
     "metadata": {},
     "output_type": "execute_result"
    }
   ],
   "source": [
    "placebo.find_closest_in_cluster(slope_elev_clustered_in_5, \"agbd\", \"nn_agbd\", 5, lambda x: x.median(), 1000)"
   ]
  },
  {
   "cell_type": "code",
   "execution_count": null,
   "metadata": {},
   "outputs": [],
   "source": []
  }
 ],
 "metadata": {
  "kernelspec": {
   "display_name": "fire-regen-env",
   "language": "python",
   "name": "fire-regen-env"
  },
  "language_info": {
   "codemirror_mode": {
    "name": "ipython",
    "version": 3
   },
   "file_extension": ".py",
   "mimetype": "text/x-python",
   "name": "python",
   "nbconvert_exporter": "python",
   "pygments_lexer": "ipython3",
   "version": "3.10.6"
  },
  "orig_nbformat": 4,
  "vscode": {
   "interpreter": {
    "hash": "31f2aee4e71d21fbe5cf8b01ff0e069b9275f58929596ceb00d14d90e3e16cd6"
   }
  }
 },
 "nbformat": 4,
 "nbformat_minor": 2
}
