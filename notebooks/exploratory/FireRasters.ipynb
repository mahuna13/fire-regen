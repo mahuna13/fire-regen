{
 "cells": [
  {
   "cell_type": "code",
   "execution_count": 47,
   "metadata": {},
   "outputs": [
    {
     "name": "stdout",
     "output_type": "stream",
     "text": [
      "2023-05-25 10:49:53,136 DEBUG: Logger /home/jk871/fire-regen/src/data/ee_utils.py already set up. [in get_logger at /home/jk871/fire-regen/src/utils/logging_util.py:51]\n"
     ]
    },
    {
     "data": {
      "text/plain": [
       "<module 'src.data.terrain' from '/home/jk871/fire-regen/src/data/terrain.py'>"
      ]
     },
     "execution_count": 47,
     "metadata": {},
     "output_type": "execute_result"
    }
   ],
   "source": [
    "import ee\n",
    "import geopandas as gpd\n",
    "import fiona\n",
    "import shapely\n",
    "import contextily as cx\n",
    "import json\n",
    "from src.visualization import ee_viz\n",
    "from src.data import mtbs\n",
    "from src.data import land_cover\n",
    "from src.data import shape_processor\n",
    "import src.data.ee_utils as ee_utils\n",
    "import numpy as np\n",
    "from src.data import terrain\n",
    "\n",
    "import importlib\n",
    "importlib.reload(ee_viz)\n",
    "importlib.reload(ee_utils)\n",
    "importlib.reload(mtbs)\n",
    "importlib.reload(terrain)"
   ]
  },
  {
   "cell_type": "code",
   "execution_count": 3,
   "metadata": {},
   "outputs": [
    {
     "data": {
      "text/html": [
       "<p>To authorize access needed by Earth Engine, open the following\n",
       "        URL in a web browser and follow the instructions:</p>\n",
       "        <p><a href=https://code.earthengine.google.com/client-auth?scopes=https%3A//www.googleapis.com/auth/earthengine%20https%3A//www.googleapis.com/auth/devstorage.full_control&request_id=c2I7-aNks6Ppl5LcP96xGaV6TlKvwh2hZBck_d2uqOg&tc=yVmACIdAVR6QAsGM6w5AwMIJ7yGnhVDGaBNaG7roJS0&cc=8scHocVmRMGofYcBQMRSI9tYejIYbA8EeidBVHa2-jQ>https://code.earthengine.google.com/client-auth?scopes=https%3A//www.googleapis.com/auth/earthengine%20https%3A//www.googleapis.com/auth/devstorage.full_control&request_id=c2I7-aNks6Ppl5LcP96xGaV6TlKvwh2hZBck_d2uqOg&tc=yVmACIdAVR6QAsGM6w5AwMIJ7yGnhVDGaBNaG7roJS0&cc=8scHocVmRMGofYcBQMRSI9tYejIYbA8EeidBVHa2-jQ</a></p>\n",
       "        <p>The authorization workflow will generate a code, which you should paste in the box below.</p>\n",
       "        "
      ],
      "text/plain": [
       "<IPython.core.display.HTML object>"
      ]
     },
     "metadata": {},
     "output_type": "display_data"
    },
    {
     "name": "stdout",
     "output_type": "stream",
     "text": [
      "\n",
      "Successfully saved authorization token.\n"
     ]
    }
   ],
   "source": [
    "ee.Authenticate()"
   ]
  },
  {
   "cell_type": "code",
   "execution_count": 2,
   "metadata": {},
   "outputs": [],
   "source": [
    "ee.Initialize()"
   ]
  },
  {
   "cell_type": "markdown",
   "metadata": {},
   "source": [
    "### Get Regions of interest"
   ]
  },
  {
   "cell_type": "code",
   "execution_count": 5,
   "metadata": {},
   "outputs": [],
   "source": [
    "# Fetch simplified regions of interest - to avoid processing problems with really complicated shapes.\n",
    "seki = gpd.read_file(\"../../data/shapefiles/seki_convex_hull.shp\")\n",
    "sierras = gpd.read_file(\"../../data/shapefiles/sierras_convex_hull.shp\")"
   ]
  },
  {
   "cell_type": "code",
   "execution_count": 6,
   "metadata": {},
   "outputs": [],
   "source": [
    "seki_complex = gpd.read_file(\"../../data/shapefiles/seki.shp\")\n",
    "seki_box = shape_processor.get_box(seki_complex)"
   ]
  },
  {
   "cell_type": "code",
   "execution_count": 7,
   "metadata": {},
   "outputs": [],
   "source": [
    "sierras_complex = gpd.read_file(\"../../data/shapefiles/sierras.shp\")\n",
    "sierras_box = shape_processor.get_box(sierras_complex)"
   ]
  },
  {
   "cell_type": "code",
   "execution_count": null,
   "metadata": {},
   "outputs": [],
   "source": [
    "seki.to_crs(3857).explore()"
   ]
  },
  {
   "cell_type": "code",
   "execution_count": 44,
   "metadata": {},
   "outputs": [
    {
     "data": {
      "text/html": [
       "<div style=\"width:100%;\"><div style=\"position:relative;width:100%;height:0;padding-bottom:60%;\"><span style=\"color:#565656\">Make this Notebook Trusted to load map: File -> Trust Notebook</span><iframe srcdoc=\"&lt;!DOCTYPE html&gt;\n",
       "&lt;html&gt;\n",
       "&lt;head&gt;\n",
       "    \n",
       "    &lt;meta http-equiv=&quot;content-type&quot; content=&quot;text/html; charset=UTF-8&quot; /&gt;\n",
       "    \n",
       "        &lt;script&gt;\n",
       "            L_NO_TOUCH = false;\n",
       "            L_DISABLE_3D = false;\n",
       "        &lt;/script&gt;\n",
       "    \n",
       "    &lt;style&gt;html, body {width: 100%;height: 100%;margin: 0;padding: 0;}&lt;/style&gt;\n",
       "    &lt;style&gt;#map {position:absolute;top:0;bottom:0;right:0;left:0;}&lt;/style&gt;\n",
       "    &lt;script src=&quot;https://cdn.jsdelivr.net/npm/leaflet@1.9.3/dist/leaflet.js&quot;&gt;&lt;/script&gt;\n",
       "    &lt;script src=&quot;https://code.jquery.com/jquery-1.12.4.min.js&quot;&gt;&lt;/script&gt;\n",
       "    &lt;script src=&quot;https://cdn.jsdelivr.net/npm/bootstrap@5.2.2/dist/js/bootstrap.bundle.min.js&quot;&gt;&lt;/script&gt;\n",
       "    &lt;script src=&quot;https://cdnjs.cloudflare.com/ajax/libs/Leaflet.awesome-markers/2.0.2/leaflet.awesome-markers.js&quot;&gt;&lt;/script&gt;\n",
       "    &lt;link rel=&quot;stylesheet&quot; href=&quot;https://cdn.jsdelivr.net/npm/leaflet@1.9.3/dist/leaflet.css&quot;/&gt;\n",
       "    &lt;link rel=&quot;stylesheet&quot; href=&quot;https://cdn.jsdelivr.net/npm/bootstrap@5.2.2/dist/css/bootstrap.min.css&quot;/&gt;\n",
       "    &lt;link rel=&quot;stylesheet&quot; href=&quot;https://netdna.bootstrapcdn.com/bootstrap/3.0.0/css/bootstrap.min.css&quot;/&gt;\n",
       "    &lt;link rel=&quot;stylesheet&quot; href=&quot;https://cdn.jsdelivr.net/npm/@fortawesome/fontawesome-free@6.2.0/css/all.min.css&quot;/&gt;\n",
       "    &lt;link rel=&quot;stylesheet&quot; href=&quot;https://cdnjs.cloudflare.com/ajax/libs/Leaflet.awesome-markers/2.0.2/leaflet.awesome-markers.css&quot;/&gt;\n",
       "    &lt;link rel=&quot;stylesheet&quot; href=&quot;https://cdn.jsdelivr.net/gh/python-visualization/folium/folium/templates/leaflet.awesome.rotate.min.css&quot;/&gt;\n",
       "    \n",
       "            &lt;meta name=&quot;viewport&quot; content=&quot;width=device-width,\n",
       "                initial-scale=1.0, maximum-scale=1.0, user-scalable=no&quot; /&gt;\n",
       "            &lt;style&gt;\n",
       "                #map_505c5a813081dd26c9e0f490b0badbf6 {\n",
       "                    position: relative;\n",
       "                    width: 100.0%;\n",
       "                    height: 100.0%;\n",
       "                    left: 0.0%;\n",
       "                    top: 0.0%;\n",
       "                }\n",
       "                .leaflet-container { font-size: 1rem; }\n",
       "            &lt;/style&gt;\n",
       "        \n",
       "    \n",
       "                    &lt;style&gt;\n",
       "                        .foliumtooltip {\n",
       "                            \n",
       "                        }\n",
       "                       .foliumtooltip table{\n",
       "                            margin: auto;\n",
       "                        }\n",
       "                        .foliumtooltip tr{\n",
       "                            text-align: left;\n",
       "                        }\n",
       "                        .foliumtooltip th{\n",
       "                            padding: 2px; padding-right: 8px;\n",
       "                        }\n",
       "                    &lt;/style&gt;\n",
       "            \n",
       "&lt;/head&gt;\n",
       "&lt;body&gt;\n",
       "    \n",
       "    \n",
       "            &lt;div class=&quot;folium-map&quot; id=&quot;map_505c5a813081dd26c9e0f490b0badbf6&quot; &gt;&lt;/div&gt;\n",
       "        \n",
       "&lt;/body&gt;\n",
       "&lt;script&gt;\n",
       "    \n",
       "    \n",
       "            var map_505c5a813081dd26c9e0f490b0badbf6 = L.map(\n",
       "                &quot;map_505c5a813081dd26c9e0f490b0badbf6&quot;,\n",
       "                {\n",
       "                    center: [38.529900913720695, -119.99158443785402],\n",
       "                    crs: L.CRS.EPSG3857,\n",
       "                    zoom: 10,\n",
       "                    zoomControl: true,\n",
       "                    preferCanvas: false,\n",
       "                }\n",
       "            );\n",
       "            L.control.scale().addTo(map_505c5a813081dd26c9e0f490b0badbf6);\n",
       "\n",
       "            \n",
       "\n",
       "        \n",
       "    \n",
       "            var tile_layer_88047fe0ac559bf132cdeb755534ce5f = L.tileLayer(\n",
       "                &quot;https://{s}.tile.openstreetmap.org/{z}/{x}/{y}.png&quot;,\n",
       "                {&quot;attribution&quot;: &quot;Data by \\u0026copy; \\u003ca target=\\&quot;_blank\\&quot; href=\\&quot;http://openstreetmap.org\\&quot;\\u003eOpenStreetMap\\u003c/a\\u003e, under \\u003ca target=\\&quot;_blank\\&quot; href=\\&quot;http://www.openstreetmap.org/copyright\\&quot;\\u003eODbL\\u003c/a\\u003e.&quot;, &quot;detectRetina&quot;: false, &quot;maxNativeZoom&quot;: 18, &quot;maxZoom&quot;: 18, &quot;minZoom&quot;: 0, &quot;noWrap&quot;: false, &quot;opacity&quot;: 1, &quot;subdomains&quot;: &quot;abc&quot;, &quot;tms&quot;: false}\n",
       "            ).addTo(map_505c5a813081dd26c9e0f490b0badbf6);\n",
       "        \n",
       "    \n",
       "            map_505c5a813081dd26c9e0f490b0badbf6.fitBounds(\n",
       "                [[35.06487270397809, -122.24772734966812], [41.9949291234633, -117.73544152603992]],\n",
       "                {}\n",
       "            );\n",
       "        \n",
       "    \n",
       "        function geo_json_b3db0e7e8e16229a83136d4764797006_styler(feature) {\n",
       "            switch(feature.id) {\n",
       "                default:\n",
       "                    return {&quot;fillOpacity&quot;: 0.5, &quot;weight&quot;: 2};\n",
       "            }\n",
       "        }\n",
       "        function geo_json_b3db0e7e8e16229a83136d4764797006_highlighter(feature) {\n",
       "            switch(feature.id) {\n",
       "                default:\n",
       "                    return {&quot;fillOpacity&quot;: 0.75};\n",
       "            }\n",
       "        }\n",
       "        function geo_json_b3db0e7e8e16229a83136d4764797006_pointToLayer(feature, latlng) {\n",
       "            var opts = {&quot;bubblingMouseEvents&quot;: true, &quot;color&quot;: &quot;#3388ff&quot;, &quot;dashArray&quot;: null, &quot;dashOffset&quot;: null, &quot;fill&quot;: true, &quot;fillColor&quot;: &quot;#3388ff&quot;, &quot;fillOpacity&quot;: 0.2, &quot;fillRule&quot;: &quot;evenodd&quot;, &quot;lineCap&quot;: &quot;round&quot;, &quot;lineJoin&quot;: &quot;round&quot;, &quot;opacity&quot;: 1.0, &quot;radius&quot;: 2, &quot;stroke&quot;: true, &quot;weight&quot;: 3};\n",
       "            \n",
       "            let style = geo_json_b3db0e7e8e16229a83136d4764797006_styler(feature)\n",
       "            Object.assign(opts, style)\n",
       "            \n",
       "            return new L.CircleMarker(latlng, opts)\n",
       "        }\n",
       "\n",
       "        function geo_json_b3db0e7e8e16229a83136d4764797006_onEachFeature(feature, layer) {\n",
       "            layer.on({\n",
       "                mouseout: function(e) {\n",
       "                    if(typeof e.target.setStyle === &quot;function&quot;){\n",
       "                        geo_json_b3db0e7e8e16229a83136d4764797006.resetStyle(e.target);\n",
       "                    }\n",
       "                },\n",
       "                mouseover: function(e) {\n",
       "                    if(typeof e.target.setStyle === &quot;function&quot;){\n",
       "                        const highlightStyle = geo_json_b3db0e7e8e16229a83136d4764797006_highlighter(e.target.feature)\n",
       "                        e.target.setStyle(highlightStyle);\n",
       "                    }\n",
       "                },\n",
       "            });\n",
       "        };\n",
       "        var geo_json_b3db0e7e8e16229a83136d4764797006 = L.geoJson(null, {\n",
       "                onEachFeature: geo_json_b3db0e7e8e16229a83136d4764797006_onEachFeature,\n",
       "            \n",
       "                style: geo_json_b3db0e7e8e16229a83136d4764797006_styler,\n",
       "                pointToLayer: geo_json_b3db0e7e8e16229a83136d4764797006_pointToLayer\n",
       "        });\n",
       "\n",
       "        function geo_json_b3db0e7e8e16229a83136d4764797006_add (data) {\n",
       "            geo_json_b3db0e7e8e16229a83136d4764797006\n",
       "                .addData(data)\n",
       "                .addTo(map_505c5a813081dd26c9e0f490b0badbf6);\n",
       "        }\n",
       "            geo_json_b3db0e7e8e16229a83136d4764797006_add({&quot;bbox&quot;: [-122.24772734966812, 35.06487270397809, -117.73544152603992, 41.9949291234633], &quot;features&quot;: [{&quot;bbox&quot;: [-122.24772734966812, 35.06487270397809, -117.73544152603992, 41.9949291234633], &quot;geometry&quot;: {&quot;coordinates&quot;: [[[-117.73544152603992, 35.06487270397809], [-117.73544152603992, 41.9949291234633], [-122.24772734966812, 41.9949291234633], [-122.24772734966812, 35.06487270397809], [-117.73544152603992, 35.06487270397809]]], &quot;type&quot;: &quot;Polygon&quot;}, &quot;id&quot;: &quot;0&quot;, &quot;properties&quot;: {}, &quot;type&quot;: &quot;Feature&quot;}], &quot;type&quot;: &quot;FeatureCollection&quot;});\n",
       "\n",
       "        \n",
       "    \n",
       "    geo_json_b3db0e7e8e16229a83136d4764797006.bindTooltip(\n",
       "    function(layer){\n",
       "    let div = L.DomUtil.create(&#x27;div&#x27;);\n",
       "    \n",
       "    return div\n",
       "    }\n",
       "    ,{&quot;className&quot;: &quot;foliumtooltip&quot;, &quot;sticky&quot;: true});\n",
       "                     \n",
       "&lt;/script&gt;\n",
       "&lt;/html&gt;\" style=\"position:absolute;width:100%;height:100%;left:0;top:0;border:none !important;\" allowfullscreen webkitallowfullscreen mozallowfullscreen></iframe></div></div>"
      ],
      "text/plain": [
       "<folium.folium.Map at 0x7f25e9c16710>"
      ]
     },
     "execution_count": 44,
     "metadata": {},
     "output_type": "execute_result"
    }
   ],
   "source": [
    "sierras.to_crs(3857).explore()"
   ]
  },
  {
   "cell_type": "markdown",
   "metadata": {},
   "source": [
    "### Get Burn Severity Data"
   ]
  },
  {
   "cell_type": "code",
   "execution_count": 12,
   "metadata": {},
   "outputs": [],
   "source": [
    "burn_severity_ic = mtbs.get_burn_severity_data().sort('system:time_start', False).filterDate('2020', '2021')"
   ]
  },
  {
   "cell_type": "code",
   "execution_count": 13,
   "metadata": {},
   "outputs": [
    {
     "data": {
      "text/html": [
       "<div><style>:root {\n",
       "  --font-color-primary: var(--jp-content-font-color0, rgba(0, 0, 0, 1));\n",
       "  --font-color-secondary: var(--jp-content-font-color2, rgba(0, 0, 0, 0.6));\n",
       "  --font-color-accent: rgba(123, 31, 162, 1);\n",
       "  --border-color: var(--jp-border-color2, #e0e0e0);\n",
       "  --background-color: var(--jp-layout-color0, white);\n",
       "  --background-color-row-even: var(--jp-layout-color1, white);\n",
       "  --background-color-row-odd: var(--jp-layout-color2, #eeeeee);\n",
       "}\n",
       "\n",
       "html[theme=\"dark\"],\n",
       "body[data-theme=\"dark\"],\n",
       "body.vscode-dark {\n",
       "  --font-color-primary: rgba(255, 255, 255, 1);\n",
       "  --font-color-secondary: rgba(255, 255, 255, 0.6);\n",
       "  --font-color-accent: rgb(173, 132, 190);\n",
       "  --border-color: #2e2e2e;\n",
       "  --background-color: #111111;\n",
       "  --background-color-row-even: #111111;\n",
       "  --background-color-row-odd: #313131;\n",
       "}\n",
       "\n",
       ".ee {\n",
       "  padding: 1em;\n",
       "  line-height: 1.5em;\n",
       "  min-width: 300px;\n",
       "  max-width: 1200px;\n",
       "  overflow-y: scroll;\n",
       "  max-height: 600px;\n",
       "  border: 1px solid var(--border-color);\n",
       "  font-family: monospace;\n",
       "}\n",
       "\n",
       ".ee li {\n",
       "  list-style-type: none;\n",
       "}\n",
       "\n",
       ".ee ul {\n",
       "  padding-left: 1.5em !important;\n",
       "  margin: 0;\n",
       "}\n",
       "\n",
       ".ee > ul {\n",
       "  padding-left: 0 !important;\n",
       "}\n",
       "\n",
       ".ee-open,\n",
       ".ee-shut {\n",
       "  color: var(--font-color-secondary);\n",
       "  cursor: pointer;\n",
       "  margin: 0;\n",
       "}\n",
       "\n",
       ".ee-open:hover,\n",
       ".ee-shut:hover {\n",
       "  color: var(--font-color-primary);\n",
       "}\n",
       "\n",
       ".ee-k {\n",
       "  color: var(--font-color-accent);\n",
       "  margin-right: 6px;\n",
       "}\n",
       "\n",
       ".ee-v {\n",
       "  color: var(--font-color-primary);\n",
       "}\n",
       "\n",
       ".ee-toggle {\n",
       "  display: none;\n",
       "}\n",
       "\n",
       ".ee-shut + ul {\n",
       "  display: none;\n",
       "}\n",
       "\n",
       ".ee-open + ul {\n",
       "  display: block;\n",
       "}\n",
       "\n",
       ".ee-shut::before {\n",
       "  display: inline-block;\n",
       "  content: \"▼\";\n",
       "  margin-right: 6px;\n",
       "  transform: rotate(-90deg);\n",
       "  transition: transform 0.2s;\n",
       "}\n",
       "\n",
       ".ee-open::before {\n",
       "  transform: rotate(0deg);\n",
       "  display: inline-block;\n",
       "  content: \"▼\";\n",
       "  margin-right: 6px;\n",
       "  transition: transform 0.2s;\n",
       "}\n",
       "</style><div class='ee'><ul><li><label class='ee-shut'>ImageCollection USFS/GTAC/MTBS/annual_burn_severity_mosaics/v1  (1 element)<input type='checkbox' class='ee-toggle'></label><ul><li><span class='ee-k'>type:</span><span class='ee-v'>ImageCollection</span></li><li><span class='ee-k'>id:</span><span class='ee-v'>USFS/GTAC/MTBS/annual_burn_severity_mosaics/v1</span></li><li><span class='ee-k'>version:</span><span class='ee-v'>1674741129965103</span></li><li><label class='ee-shut'>bands: []<input type='checkbox' class='ee-toggle'></label><ul></ul></li><li><label class='ee-shut'>properties: Object (1 property)<input type='checkbox' class='ee-toggle'></label><ul><li><span class='ee-k'>max_mirrored_version:</span><span class='ee-v'>1674664673587549</span></li></ul></li><li><label class='ee-shut'>features: List (1 element)<input type='checkbox' class='ee-toggle'></label><ul><li><label class='ee-shut'>0: Image USFS/GTAC/MTBS/annual_burn_severity_mosaics/v1/mtbs_CONUS_2020 (2 bands)<input type='checkbox' class='ee-toggle'></label><ul><li><span class='ee-k'>type:</span><span class='ee-v'>Image</span></li><li><span class='ee-k'>id:</span><span class='ee-v'>USFS/GTAC/MTBS/annual_burn_severity_mosaics/v1/mtbs_CONUS_2020</span></li><li><span class='ee-k'>version:</span><span class='ee-v'>1663903488017803</span></li><li><label class='ee-shut'>bands: List (2 elements)<input type='checkbox' class='ee-toggle'></label><ul><li><label class='ee-shut'>0: \"burn_severity\", unsigned int8, PROJCS[\"USA_Contiguous_Albers_Equal_Area_Conic_USGS_version\", \n",
       "  GEOGCS[\"GCS_North_American_1983\", \n",
       "    DATUM[\"D_North_American_1983\", \n",
       "      SPHEROID[\"GRS_1980\", 6378137.0, 298.257222101]], \n",
       "    PRIMEM[\"Greenwich\", 0.0], \n",
       "    UNIT[\"degree\", 0.017453292519943295], \n",
       "    AXIS[\"Longitude\", EAST], \n",
       "    AXIS[\"Latitude\", NORTH]], \n",
       "  PROJECTION[\"Albers_Conic_Equal_Area\"], \n",
       "  PARAMETER[\"central_meridian\", -96.0], \n",
       "  PARAMETER[\"latitude_of_origin\", 23.0], \n",
       "  PARAMETER[\"standard_parallel_1\", 29.5], \n",
       "  PARAMETER[\"false_easting\", 0.0], \n",
       "  PARAMETER[\"false_northing\", 0.0], \n",
       "  PARAMETER[\"standard_parallel_2\", 45.5], \n",
       "  UNIT[\"m\", 1.0], \n",
       "  AXIS[\"x\", EAST], \n",
       "  AXIS[\"y\", NORTH]], 136925x90777 px<input type='checkbox' class='ee-toggle'></label><ul><li><span class='ee-k'>id:</span><span class='ee-v'>burn_severity</span></li><li><span class='ee-k'>crs:</span><span class='ee-v'>PROJCS[\"USA_Contiguous_Albers_Equal_Area_Conic_USGS_version\", \n",
       "  GEOGCS[\"GCS_North_American_1983\", \n",
       "    DATUM[\"D_North_American_1983\", \n",
       "      SPHEROID[\"GRS_1980\", 6378137.0, 298.257222101]], \n",
       "    PRIMEM[\"Greenwich\", 0.0], \n",
       "    UNIT[\"degree\", 0.017453292519943295], \n",
       "    AXIS[\"Longitude\", EAST], \n",
       "    AXIS[\"Latitude\", NORTH]], \n",
       "  PROJECTION[\"Albers_Conic_Equal_Area\"], \n",
       "  PARAMETER[\"central_meridian\", -96.0], \n",
       "  PARAMETER[\"latitude_of_origin\", 23.0], \n",
       "  PARAMETER[\"standard_parallel_1\", 29.5], \n",
       "  PARAMETER[\"false_easting\", 0.0], \n",
       "  PARAMETER[\"false_northing\", 0.0], \n",
       "  PARAMETER[\"standard_parallel_2\", 45.5], \n",
       "  UNIT[\"m\", 1.0], \n",
       "  AXIS[\"x\", EAST], \n",
       "  AXIS[\"y\", NORTH]]</span></li><li><label class='ee-shut'>crs_transform: [30, 0, -2323545, 0, -30, 3098835]<input type='checkbox' class='ee-toggle'></label><ul><li><span class='ee-k'>0:</span><span class='ee-v'>30</span></li><li><span class='ee-k'>1:</span><span class='ee-v'>0</span></li><li><span class='ee-k'>2:</span><span class='ee-v'>-2323545</span></li><li><span class='ee-k'>3:</span><span class='ee-v'>0</span></li><li><span class='ee-k'>4:</span><span class='ee-v'>-30</span></li><li><span class='ee-k'>5:</span><span class='ee-v'>3098835</span></li></ul></li><li><label class='ee-shut'>data_type: unsigned int8<input type='checkbox' class='ee-toggle'></label><ul><li><span class='ee-k'>type:</span><span class='ee-v'>PixelType</span></li><li><span class='ee-k'>max:</span><span class='ee-v'>255</span></li><li><span class='ee-k'>min:</span><span class='ee-v'>0</span></li><li><span class='ee-k'>precision:</span><span class='ee-v'>int</span></li></ul></li><li><label class='ee-shut'>dimensions: [136925, 90777]<input type='checkbox' class='ee-toggle'></label><ul><li><span class='ee-k'>0:</span><span class='ee-v'>136925</span></li><li><span class='ee-k'>1:</span><span class='ee-v'>90777</span></li></ul></li></ul></li><li><label class='ee-shut'>1: \"burn_year\", signed int32, EPSG:4326<input type='checkbox' class='ee-toggle'></label><ul><li><span class='ee-k'>id:</span><span class='ee-v'>burn_year</span></li><li><span class='ee-k'>crs:</span><span class='ee-v'>EPSG:4326</span></li><li><label class='ee-shut'>crs_transform: [1, 0, 0, 0, 1, 0]<input type='checkbox' class='ee-toggle'></label><ul><li><span class='ee-k'>0:</span><span class='ee-v'>1</span></li><li><span class='ee-k'>1:</span><span class='ee-v'>0</span></li><li><span class='ee-k'>2:</span><span class='ee-v'>0</span></li><li><span class='ee-k'>3:</span><span class='ee-v'>0</span></li><li><span class='ee-k'>4:</span><span class='ee-v'>1</span></li><li><span class='ee-k'>5:</span><span class='ee-v'>0</span></li></ul></li><li><label class='ee-shut'>data_type: signed int32<input type='checkbox' class='ee-toggle'></label><ul><li><span class='ee-k'>type:</span><span class='ee-v'>PixelType</span></li><li><span class='ee-k'>max:</span><span class='ee-v'>2147483647</span></li><li><span class='ee-k'>min:</span><span class='ee-v'>-2147483648</span></li><li><span class='ee-k'>precision:</span><span class='ee-v'>int</span></li></ul></li></ul></li></ul></li><li><label class='ee-shut'>properties: Object (7 properties)<input type='checkbox' class='ee-toggle'></label><ul><li><label class='ee-shut'>Severity_class_names: List (7 elements)<input type='checkbox' class='ee-toggle'></label><ul><li><span class='ee-k'>0:</span><span class='ee-v'>Background</span></li><li><span class='ee-k'>1:</span><span class='ee-v'>Unburned to Low</span></li><li><span class='ee-k'>2:</span><span class='ee-v'>Low</span></li><li><span class='ee-k'>3:</span><span class='ee-v'>Moderate</span></li><li><span class='ee-k'>4:</span><span class='ee-v'>High</span></li><li><span class='ee-k'>5:</span><span class='ee-v'>Increased Greenness</span></li><li><span class='ee-k'>6:</span><span class='ee-v'>Non-Mapping Area</span></li></ul></li><li><label class='ee-shut'>Severity_class_palette: List (7 elements)<input type='checkbox' class='ee-toggle'></label><ul><li><span class='ee-k'>0:</span><span class='ee-v'>000000</span></li><li><span class='ee-k'>1:</span><span class='ee-v'>006400</span></li><li><span class='ee-k'>2:</span><span class='ee-v'>7FFFD4</span></li><li><span class='ee-k'>3:</span><span class='ee-v'>FFFF00</span></li><li><span class='ee-k'>4:</span><span class='ee-v'>FF0000</span></li><li><span class='ee-k'>5:</span><span class='ee-v'>7FFF00</span></li><li><span class='ee-k'>6:</span><span class='ee-v'>FFFFFF</span></li></ul></li><li><label class='ee-shut'>Severity_class_values: [0, 1, 2, 3, 4, 5, 6]<input type='checkbox' class='ee-toggle'></label><ul><li><span class='ee-k'>0:</span><span class='ee-v'>0</span></li><li><span class='ee-k'>1:</span><span class='ee-v'>1</span></li><li><span class='ee-k'>2:</span><span class='ee-v'>2</span></li><li><span class='ee-k'>3:</span><span class='ee-v'>3</span></li><li><span class='ee-k'>4:</span><span class='ee-v'>4</span></li><li><span class='ee-k'>5:</span><span class='ee-v'>5</span></li><li><span class='ee-k'>6:</span><span class='ee-v'>6</span></li></ul></li><li><span class='ee-k'>system:asset_size:</span><span class='ee-v'>13898413</span></li><li><label class='ee-shut'>system:footprint: LinearRing (18 vertices)<input type='checkbox' class='ee-toggle'></label><ul><li><span class='ee-k'>type:</span><span class='ee-v'>LinearRing</span></li><li><label class='ee-shut'>coordinates: List (18 elements)<input type='checkbox' class='ee-toggle'></label><ul><li><label class='ee-shut'>0: [-112.5323991290371, 49.96673892567311]<input type='checkbox' class='ee-toggle'></label><ul><li><span class='ee-k'>0:</span><span class='ee-v'>-112.5323991290371</span></li><li><span class='ee-k'>1:</span><span class='ee-v'>49.96673892567311</span></li></ul></li><li><label class='ee-shut'>1: [-120.61914423495203, 48.77114419992507]<input type='checkbox' class='ee-toggle'></label><ul><li><span class='ee-k'>0:</span><span class='ee-v'>-120.61914423495203</span></li><li><span class='ee-k'>1:</span><span class='ee-v'>48.77114419992507</span></li></ul></li><li><label class='ee-shut'>2: [-127.18319903695439, 47.41777707268082]<input type='checkbox' class='ee-toggle'></label><ul><li><span class='ee-k'>0:</span><span class='ee-v'>-127.18319903695439</span></li><li><span class='ee-k'>1:</span><span class='ee-v'>47.41777707268082</span></li></ul></li><li><label class='ee-shut'>3: [-124.78541204465687, 42.24509857429661]<input type='checkbox' class='ee-toggle'></label><ul><li><span class='ee-k'>0:</span><span class='ee-v'>-124.78541204465687</span></li><li><span class='ee-k'>1:</span><span class='ee-v'>42.24509857429661</span></li></ul></li><li><label class='ee-shut'>4: [-121.51015439157548, 33.58066095225862]<input type='checkbox' class='ee-toggle'></label><ul><li><span class='ee-k'>0:</span><span class='ee-v'>-121.51015439157548</span></li><li><span class='ee-k'>1:</span><span class='ee-v'>33.58066095225862</span></li></ul></li><li><label class='ee-shut'>5: [-118.67349736472315, 23.891199874287228]<input type='checkbox' class='ee-toggle'></label><ul><li><span class='ee-k'>0:</span><span class='ee-v'>-118.67349736472315</span></li><li><span class='ee-k'>1:</span><span class='ee-v'>23.891199874287228</span></li></ul></li><li><label class='ee-shut'>6: [-112.86859264698684, 25.044672968316544]<input type='checkbox' class='ee-toggle'></label><ul><li><span class='ee-k'>0:</span><span class='ee-v'>-112.86859264698684</span></li><li><span class='ee-k'>1:</span><span class='ee-v'>25.044672968316544</span></li></ul></li><li><label class='ee-shut'>7: [-102.82084063376942, 26.21049430673586]<input type='checkbox' class='ee-toggle'></label><ul><li><span class='ee-k'>0:</span><span class='ee-v'>-102.82084063376942</span></li><li><span class='ee-k'>1:</span><span class='ee-v'>26.21049430673586</span></li></ul></li><li><label class='ee-shut'>8: [-92.61856757606023, 26.379839823119664]<input type='checkbox' class='ee-toggle'></label><ul><li><span class='ee-k'>0:</span><span class='ee-v'>-92.61856757606023</span></li><li><span class='ee-k'>1:</span><span class='ee-v'>26.379839823119664</span></li></ul></li><li><label class='ee-shut'>9: [-87.53190494974585, 26.088557678669968]<input type='checkbox' class='ee-toggle'></label><ul><li><span class='ee-k'>0:</span><span class='ee-v'>-87.53190494974585</span></li><li><span class='ee-k'>1:</span><span class='ee-v'>26.088557678669968</span></li></ul></li><li><label class='ee-shut'>10: [-78.4535205353115, 24.928771467322456]<input type='checkbox' class='ee-toggle'></label><ul><li><span class='ee-k'>0:</span><span class='ee-v'>-78.4535205353115</span></li><li><span class='ee-k'>1:</span><span class='ee-v'>24.928771467322456</span></li></ul></li><li><label class='ee-shut'>11: [-76.78197166175563, 32.482301699060685]<input type='checkbox' class='ee-toggle'></label><ul><li><span class='ee-k'>0:</span><span class='ee-v'>-76.78197166175563</span></li><li><span class='ee-k'>1:</span><span class='ee-v'>32.482301699060685</span></li></ul></li><li><label class='ee-shut'>12: [-73.0077199290648, 45.27572884351343]<input type='checkbox' class='ee-toggle'></label><ul><li><span class='ee-k'>0:</span><span class='ee-v'>-73.0077199290648</span></li><li><span class='ee-k'>1:</span><span class='ee-v'>45.27572884351343</span></li></ul></li><li><label class='ee-shut'>13: [-71.71653996320137, 48.830856733330165]<input type='checkbox' class='ee-toggle'></label><ul><li><span class='ee-k'>0:</span><span class='ee-v'>-71.71653996320137</span></li><li><span class='ee-k'>1:</span><span class='ee-v'>48.830856733330165</span></li></ul></li><li><label class='ee-shut'>14: [-84.185242231627, 50.4386271545783]<input type='checkbox' class='ee-toggle'></label><ul><li><span class='ee-k'>0:</span><span class='ee-v'>-84.185242231627</span></li><li><span class='ee-k'>1:</span><span class='ee-v'>50.4386271545783</span></li></ul></li><li><label class='ee-shut'>15: [-91.27220445304641, 50.84842558217524]<input type='checkbox' class='ee-toggle'></label><ul><li><span class='ee-k'>0:</span><span class='ee-v'>-91.27220445304641</span></li><li><span class='ee-k'>1:</span><span class='ee-v'>50.84842558217524</span></li></ul></li><li><label class='ee-shut'>16: [-105.52489125625732, 50.60986946937413]<input type='checkbox' class='ee-toggle'></label><ul><li><span class='ee-k'>0:</span><span class='ee-v'>-105.52489125625732</span></li><li><span class='ee-k'>1:</span><span class='ee-v'>50.60986946937413</span></li></ul></li><li><label class='ee-shut'>17: [-112.5323991290371, 49.96673892567311]<input type='checkbox' class='ee-toggle'></label><ul><li><span class='ee-k'>0:</span><span class='ee-v'>-112.5323991290371</span></li><li><span class='ee-k'>1:</span><span class='ee-v'>49.96673892567311</span></li></ul></li></ul></li></ul></li><li><span class='ee-k'>system:index:</span><span class='ee-v'>mtbs_CONUS_2020</span></li><li><span class='ee-k'>system:time_start:</span><span class='ee-v'>1590969600000</span></li></ul></li></ul></li></ul></li></ul></li></ul></div><script>function toggleHeader() {\n",
       "    const parent = this.parentElement;\n",
       "    parent.className = parent.className === \"ee-open\" ? \"ee-shut\" : \"ee-open\";\n",
       "}\n",
       "\n",
       "for (let c of document.getElementsByClassName(\"ee-toggle\")) {\n",
       "    c.onclick = toggleHeader;\n",
       "}</script></div>"
      ],
      "text/plain": [
       "<ee.imagecollection.ImageCollection at 0x7f81708efcd0>"
      ]
     },
     "execution_count": 13,
     "metadata": {},
     "output_type": "execute_result"
    }
   ],
   "source": [
    "burn_severity_ic"
   ]
  },
  {
   "cell_type": "code",
   "execution_count": 14,
   "metadata": {},
   "outputs": [
    {
     "name": "stdout",
     "output_type": "stream",
     "text": [
      "{'max': {'burn_severity': 6, 'burn_year': 2020}, 'mean': {'burn_severity': 2.5847411171975057, 'burn_year': 2020}, 'min': {'burn_severity': 1, 'burn_year': 2020}, 'std': {'burn_severity': 0.9584508443717643, 'burn_year': 0}, 'sum': {'burn_severity': 14269359.91372549, 'burn_year': 11151641777.176472}}\n"
     ]
    },
    {
     "name": "stdout",
     "output_type": "stream",
     "text": [
      "{'max': {'burn_severity': 6, 'burn_year': 2020}, 'mean': {'burn_severity': 2.5847411171975057, 'burn_year': 2020}, 'min': {'burn_severity': 1, 'burn_year': 2020}, 'std': {'burn_severity': 0.9584508443717643, 'burn_year': 0}, 'sum': {'burn_severity': 14269359.91372549, 'burn_year': 11151641777.176472}}\n"
     ]
    },
    {
     "data": {
      "application/vnd.jupyter.widget-view+json": {
       "model_id": "f3c8dccdc97c466e93d37bf7a3493692",
       "version_major": 2,
       "version_minor": 0
      },
      "text/plain": [
       "Map(center=[38.81702351908157, -119.91791513913883], controls=(WidgetControl(options=['position', 'transparent…"
      ]
     },
     "metadata": {},
     "output_type": "display_data"
    }
   ],
   "source": [
    "ee_viz.viz_burn_severity(burn_severity_ic.first(), sierras.geometry.iloc[0], ['burn_severity', 'burn_year'])"
   ]
  },
  {
   "cell_type": "markdown",
   "metadata": {},
   "source": [
    "### Get aggregated burn data - last burn severity for each pixel, and burn count for each pixel"
   ]
  },
  {
   "cell_type": "code",
   "execution_count": 6,
   "metadata": {},
   "outputs": [
    {
     "data": {
      "text/html": [
       "<div><style>:root {\n",
       "  --font-color-primary: var(--jp-content-font-color0, rgba(0, 0, 0, 1));\n",
       "  --font-color-secondary: var(--jp-content-font-color2, rgba(0, 0, 0, 0.6));\n",
       "  --font-color-accent: rgba(123, 31, 162, 1);\n",
       "  --border-color: var(--jp-border-color2, #e0e0e0);\n",
       "  --background-color: var(--jp-layout-color0, white);\n",
       "  --background-color-row-even: var(--jp-layout-color1, white);\n",
       "  --background-color-row-odd: var(--jp-layout-color2, #eeeeee);\n",
       "}\n",
       "\n",
       "html[theme=\"dark\"],\n",
       "body[data-theme=\"dark\"],\n",
       "body.vscode-dark {\n",
       "  --font-color-primary: rgba(255, 255, 255, 1);\n",
       "  --font-color-secondary: rgba(255, 255, 255, 0.6);\n",
       "  --font-color-accent: rgb(173, 132, 190);\n",
       "  --border-color: #2e2e2e;\n",
       "  --background-color: #111111;\n",
       "  --background-color-row-even: #111111;\n",
       "  --background-color-row-odd: #313131;\n",
       "}\n",
       "\n",
       ".ee {\n",
       "  padding: 1em;\n",
       "  line-height: 1.5em;\n",
       "  min-width: 300px;\n",
       "  max-width: 1200px;\n",
       "  overflow-y: scroll;\n",
       "  max-height: 600px;\n",
       "  border: 1px solid var(--border-color);\n",
       "  font-family: monospace;\n",
       "}\n",
       "\n",
       ".ee li {\n",
       "  list-style-type: none;\n",
       "}\n",
       "\n",
       ".ee ul {\n",
       "  padding-left: 1.5em !important;\n",
       "  margin: 0;\n",
       "}\n",
       "\n",
       ".ee > ul {\n",
       "  padding-left: 0 !important;\n",
       "}\n",
       "\n",
       ".ee-open,\n",
       ".ee-shut {\n",
       "  color: var(--font-color-secondary);\n",
       "  cursor: pointer;\n",
       "  margin: 0;\n",
       "}\n",
       "\n",
       ".ee-open:hover,\n",
       ".ee-shut:hover {\n",
       "  color: var(--font-color-primary);\n",
       "}\n",
       "\n",
       ".ee-k {\n",
       "  color: var(--font-color-accent);\n",
       "  margin-right: 6px;\n",
       "}\n",
       "\n",
       ".ee-v {\n",
       "  color: var(--font-color-primary);\n",
       "}\n",
       "\n",
       ".ee-toggle {\n",
       "  display: none;\n",
       "}\n",
       "\n",
       ".ee-shut + ul {\n",
       "  display: none;\n",
       "}\n",
       "\n",
       ".ee-open + ul {\n",
       "  display: block;\n",
       "}\n",
       "\n",
       ".ee-shut::before {\n",
       "  display: inline-block;\n",
       "  content: \"▼\";\n",
       "  margin-right: 6px;\n",
       "  transform: rotate(-90deg);\n",
       "  transition: transform 0.2s;\n",
       "}\n",
       "\n",
       ".ee-open::before {\n",
       "  transform: rotate(0deg);\n",
       "  display: inline-block;\n",
       "  content: \"▼\";\n",
       "  margin-right: 6px;\n",
       "  transition: transform 0.2s;\n",
       "}\n",
       "</style><div class='ee'><ul><li><label class='ee-shut'>Image (3 bands)<input type='checkbox' class='ee-toggle'></label><ul><li><span class='ee-k'>type:</span><span class='ee-v'>Image</span></li><li><label class='ee-shut'>bands: List (3 elements)<input type='checkbox' class='ee-toggle'></label><ul><li><label class='ee-shut'>0: \"last_burn_severity\", unsigned int16, EPSG:4326<input type='checkbox' class='ee-toggle'></label><ul><li><span class='ee-k'>id:</span><span class='ee-v'>last_burn_severity</span></li><li><span class='ee-k'>crs:</span><span class='ee-v'>EPSG:4326</span></li><li><label class='ee-shut'>crs_transform: [1, 0, 0, 0, 1, 0]<input type='checkbox' class='ee-toggle'></label><ul><li><span class='ee-k'>0:</span><span class='ee-v'>1</span></li><li><span class='ee-k'>1:</span><span class='ee-v'>0</span></li><li><span class='ee-k'>2:</span><span class='ee-v'>0</span></li><li><span class='ee-k'>3:</span><span class='ee-v'>0</span></li><li><span class='ee-k'>4:</span><span class='ee-v'>1</span></li><li><span class='ee-k'>5:</span><span class='ee-v'>0</span></li></ul></li><li><label class='ee-shut'>data_type: unsigned int16<input type='checkbox' class='ee-toggle'></label><ul><li><span class='ee-k'>type:</span><span class='ee-v'>PixelType</span></li><li><span class='ee-k'>max:</span><span class='ee-v'>65535</span></li><li><span class='ee-k'>min:</span><span class='ee-v'>0</span></li><li><span class='ee-k'>precision:</span><span class='ee-v'>int</span></li></ul></li></ul></li><li><label class='ee-shut'>1: \"last_burn_year\", unsigned int16, EPSG:4326<input type='checkbox' class='ee-toggle'></label><ul><li><span class='ee-k'>id:</span><span class='ee-v'>last_burn_year</span></li><li><span class='ee-k'>crs:</span><span class='ee-v'>EPSG:4326</span></li><li><label class='ee-shut'>crs_transform: [1, 0, 0, 0, 1, 0]<input type='checkbox' class='ee-toggle'></label><ul><li><span class='ee-k'>0:</span><span class='ee-v'>1</span></li><li><span class='ee-k'>1:</span><span class='ee-v'>0</span></li><li><span class='ee-k'>2:</span><span class='ee-v'>0</span></li><li><span class='ee-k'>3:</span><span class='ee-v'>0</span></li><li><span class='ee-k'>4:</span><span class='ee-v'>1</span></li><li><span class='ee-k'>5:</span><span class='ee-v'>0</span></li></ul></li><li><label class='ee-shut'>data_type: unsigned int16<input type='checkbox' class='ee-toggle'></label><ul><li><span class='ee-k'>type:</span><span class='ee-v'>PixelType</span></li><li><span class='ee-k'>max:</span><span class='ee-v'>65535</span></li><li><span class='ee-k'>min:</span><span class='ee-v'>0</span></li><li><span class='ee-k'>precision:</span><span class='ee-v'>int</span></li></ul></li></ul></li><li><label class='ee-shut'>2: \"burn_count\", unsigned int16, EPSG:4326<input type='checkbox' class='ee-toggle'></label><ul><li><span class='ee-k'>id:</span><span class='ee-v'>burn_count</span></li><li><span class='ee-k'>crs:</span><span class='ee-v'>EPSG:4326</span></li><li><label class='ee-shut'>crs_transform: [1, 0, 0, 0, 1, 0]<input type='checkbox' class='ee-toggle'></label><ul><li><span class='ee-k'>0:</span><span class='ee-v'>1</span></li><li><span class='ee-k'>1:</span><span class='ee-v'>0</span></li><li><span class='ee-k'>2:</span><span class='ee-v'>0</span></li><li><span class='ee-k'>3:</span><span class='ee-v'>0</span></li><li><span class='ee-k'>4:</span><span class='ee-v'>1</span></li><li><span class='ee-k'>5:</span><span class='ee-v'>0</span></li></ul></li><li><label class='ee-shut'>data_type: unsigned int16<input type='checkbox' class='ee-toggle'></label><ul><li><span class='ee-k'>type:</span><span class='ee-v'>PixelType</span></li><li><span class='ee-k'>max:</span><span class='ee-v'>65535</span></li><li><span class='ee-k'>min:</span><span class='ee-v'>0</span></li><li><span class='ee-k'>precision:</span><span class='ee-v'>int</span></li></ul></li></ul></li></ul></li></ul></li></ul></div><script>function toggleHeader() {\n",
       "    const parent = this.parentElement;\n",
       "    parent.className = parent.className === \"ee-open\" ? \"ee-shut\" : \"ee-open\";\n",
       "}\n",
       "\n",
       "for (let c of document.getElementsByClassName(\"ee-toggle\")) {\n",
       "    c.onclick = toggleHeader;\n",
       "}</script></div>"
      ],
      "text/plain": [
       "<ee.image.Image at 0x7fad3651b1c0>"
      ]
     },
     "execution_count": 6,
     "metadata": {},
     "output_type": "execute_result"
    }
   ],
   "source": [
    "burn_data = mtbs.get_aggregated_burn_data()\n",
    "burn_data"
   ]
  },
  {
   "cell_type": "code",
   "execution_count": null,
   "metadata": {},
   "outputs": [],
   "source": [
    "ee_viz.viz_burn_severity(burn_data, seki.geometry.iloc[0], ['last_burn_severity', 'last_burn_year', 'burn_count'])"
   ]
  },
  {
   "cell_type": "code",
   "execution_count": 8,
   "metadata": {},
   "outputs": [
    {
     "data": {
      "application/vnd.jupyter.widget-view+json": {
       "model_id": "7e65c7d1b80c40f393bd7a3848a31b5b",
       "version_major": 2,
       "version_minor": 0
      },
      "text/plain": [
       "Map(center=[38.529900913720695, -119.99158443785402], controls=(WidgetControl(options=['position', 'transparen…"
      ]
     },
     "metadata": {},
     "output_type": "display_data"
    }
   ],
   "source": [
    "ee_viz.viz_burn_severity(burn_data, sierras_box.geometry.iloc[0], ['last_burn_severity', 'last_burn_year', 'burn_count'])"
   ]
  },
  {
   "cell_type": "markdown",
   "metadata": {},
   "source": [
    "### Save Fire Raster as Geo Tiff"
   ]
  },
  {
   "cell_type": "code",
   "execution_count": null,
   "metadata": {},
   "outputs": [],
   "source": [
    "ee_utils.save_image_to_drive(burn_data, polygon=seki_box.geometry[0], img_name='burn_data', scale=30)"
   ]
  },
  {
   "cell_type": "code",
   "execution_count": null,
   "metadata": {},
   "outputs": [],
   "source": [
    "ee_utils.save_image_to_drive(burn_data, polygon=sierras_box.geometry[0], img_name='burn_data_sierras', scale=30)"
   ]
  },
  {
   "cell_type": "markdown",
   "metadata": {},
   "source": [
    "### Get Landsat data"
   ]
  },
  {
   "cell_type": "code",
   "execution_count": 35,
   "metadata": {},
   "outputs": [
    {
     "name": "stdout",
     "output_type": "stream",
     "text": [
      "2023-05-25 10:38:36,224 DEBUG: Logger /home/jk871/fire-regen/src/data/ee_utils.py already set up. [in get_logger at /home/jk871/fire-regen/src/utils/logging_util.py:51]\n"
     ]
    },
    {
     "data": {
      "text/plain": [
       "<module 'src.data.ee_utils' from '/home/jk871/fire-regen/src/data/ee_utils.py'>"
      ]
     },
     "execution_count": 35,
     "metadata": {},
     "output_type": "execute_result"
    }
   ],
   "source": [
    "from src.data.ee import landsat_import\n",
    "importlib.reload(landsat_import)\n",
    "importlib.reload(ee_utils)"
   ]
  },
  {
   "cell_type": "code",
   "execution_count": 24,
   "metadata": {},
   "outputs": [],
   "source": [
    "ls8_2018 = landsat_import.get_landsat(sierras.geometry[0], '2019-01-01')\n",
    "ls8_2019 = landsat_import.get_landsat(sierras.geometry[0], '2020-01-01')\n",
    "ls8_2020 = landsat_import.get_landsat(sierras.geometry[0], '2021-01-01')\n",
    "ls8_2021 = landsat_import.get_landsat(sierras.geometry[0], '2022-01-01')\n",
    "ls8_2022 = landsat_import.get_landsat(sierras.geometry[0], '2023-01-01')"
   ]
  },
  {
   "cell_type": "code",
   "execution_count": 32,
   "metadata": {},
   "outputs": [
    {
     "data": {
      "text/plain": [
       "['SR_B1', 'SR_B2', 'SR_B3', 'SR_B4', 'SR_B5', 'SR_B6', 'SR_B7', 'nbr', 'ndvi']"
      ]
     },
     "execution_count": 32,
     "metadata": {},
     "output_type": "execute_result"
    }
   ],
   "source": [
    "ls8.bandNames().getInfo()"
   ]
  },
  {
   "cell_type": "code",
   "execution_count": null,
   "metadata": {},
   "outputs": [],
   "source": [
    "bands = ['SR']"
   ]
  },
  {
   "cell_type": "code",
   "execution_count": 36,
   "metadata": {},
   "outputs": [],
   "source": [
    "ee_utils.save_image_to_drive_per_band(ls8_2018, polygon=sierras_box.geometry[0], img_name=\"landsat_2018\", scale=30)"
   ]
  },
  {
   "cell_type": "code",
   "execution_count": 41,
   "metadata": {},
   "outputs": [],
   "source": [
    "ee_utils.save_image_to_drive_per_band(ls8_2019, polygon=sierras_box.geometry[0], img_name=\"landsat_2019\", scale=30)"
   ]
  },
  {
   "cell_type": "code",
   "execution_count": 42,
   "metadata": {},
   "outputs": [],
   "source": [
    "ee_utils.save_image_to_drive_per_band(ls8_2020, polygon=sierras_box.geometry[0], img_name=\"landsat_2020\", scale=30)"
   ]
  },
  {
   "cell_type": "code",
   "execution_count": 43,
   "metadata": {},
   "outputs": [],
   "source": [
    "ee_utils.save_image_to_drive_per_band(ls8_2021, polygon=sierras_box.geometry[0], img_name=\"landsat_2021\", scale=30)"
   ]
  },
  {
   "cell_type": "code",
   "execution_count": 44,
   "metadata": {},
   "outputs": [],
   "source": [
    "ee_utils.save_image_to_drive_per_band(ls8_2022, polygon=sierras_box.geometry[0], img_name=\"landsat_2022\", scale=30)"
   ]
  },
  {
   "cell_type": "markdown",
   "metadata": {},
   "source": [
    "### Get Land Cover Raster from Dynamic World"
   ]
  },
  {
   "cell_type": "code",
   "execution_count": 45,
   "metadata": {},
   "outputs": [],
   "source": [
    "dw_2018 = land_cover.get_land_cover('2018-01-01', '2019-01-01', sierras.geometry[0])\n",
    "dw_2019 = land_cover.get_land_cover('2019-01-01', '2020-01-01', sierras.geometry[0])\n",
    "dw_2020 = land_cover.get_land_cover('2020-01-01', '2021-01-01', sierras.geometry[0])\n",
    "dw_2021 = land_cover.get_land_cover('2021-01-01', '2022-01-01', sierras.geometry[0])\n",
    "dw_2022 = land_cover.get_land_cover('2022-01-01', '2023-01-01', sierras.geometry[0])"
   ]
  },
  {
   "cell_type": "code",
   "execution_count": 46,
   "metadata": {},
   "outputs": [],
   "source": [
    "ee_utils.save_image_to_drive(dw_2018, polygon=sierras_box.geometry[0], img_name='dynamic_world_2018', scale=30)\n",
    "ee_utils.save_image_to_drive(dw_2019, polygon=sierras_box.geometry[0], img_name='dynamic_world_2019', scale=30)\n",
    "ee_utils.save_image_to_drive(dw_2020, polygon=sierras_box.geometry[0], img_name='dynamic_world_2020', scale=30)\n",
    "ee_utils.save_image_to_drive(dw_2021, polygon=sierras_box.geometry[0], img_name='dynamic_world_2021', scale=30)\n",
    "ee_utils.save_image_to_drive(dw_2022, polygon=sierras_box.geometry[0], img_name='dynamic_world_2022', scale=30)"
   ]
  },
  {
   "cell_type": "markdown",
   "metadata": {},
   "source": [
    "### Get Terrain Data"
   ]
  },
  {
   "cell_type": "code",
   "execution_count": 48,
   "metadata": {},
   "outputs": [
    {
     "data": {
      "text/html": [
       "<div><style>:root {\n",
       "  --font-color-primary: var(--jp-content-font-color0, rgba(0, 0, 0, 1));\n",
       "  --font-color-secondary: var(--jp-content-font-color2, rgba(0, 0, 0, 0.6));\n",
       "  --font-color-accent: rgba(123, 31, 162, 1);\n",
       "  --border-color: var(--jp-border-color2, #e0e0e0);\n",
       "  --background-color: var(--jp-layout-color0, white);\n",
       "  --background-color-row-even: var(--jp-layout-color1, white);\n",
       "  --background-color-row-odd: var(--jp-layout-color2, #eeeeee);\n",
       "}\n",
       "\n",
       "html[theme=\"dark\"],\n",
       "body[data-theme=\"dark\"],\n",
       "body.vscode-dark {\n",
       "  --font-color-primary: rgba(255, 255, 255, 1);\n",
       "  --font-color-secondary: rgba(255, 255, 255, 0.6);\n",
       "  --font-color-accent: rgb(173, 132, 190);\n",
       "  --border-color: #2e2e2e;\n",
       "  --background-color: #111111;\n",
       "  --background-color-row-even: #111111;\n",
       "  --background-color-row-odd: #313131;\n",
       "}\n",
       "\n",
       ".ee {\n",
       "  padding: 1em;\n",
       "  line-height: 1.5em;\n",
       "  min-width: 300px;\n",
       "  max-width: 1200px;\n",
       "  overflow-y: scroll;\n",
       "  max-height: 600px;\n",
       "  border: 1px solid var(--border-color);\n",
       "  font-family: monospace;\n",
       "}\n",
       "\n",
       ".ee li {\n",
       "  list-style-type: none;\n",
       "}\n",
       "\n",
       ".ee ul {\n",
       "  padding-left: 1.5em !important;\n",
       "  margin: 0;\n",
       "}\n",
       "\n",
       ".ee > ul {\n",
       "  padding-left: 0 !important;\n",
       "}\n",
       "\n",
       ".ee-open,\n",
       ".ee-shut {\n",
       "  color: var(--font-color-secondary);\n",
       "  cursor: pointer;\n",
       "  margin: 0;\n",
       "}\n",
       "\n",
       ".ee-open:hover,\n",
       ".ee-shut:hover {\n",
       "  color: var(--font-color-primary);\n",
       "}\n",
       "\n",
       ".ee-k {\n",
       "  color: var(--font-color-accent);\n",
       "  margin-right: 6px;\n",
       "}\n",
       "\n",
       ".ee-v {\n",
       "  color: var(--font-color-primary);\n",
       "}\n",
       "\n",
       ".ee-toggle {\n",
       "  display: none;\n",
       "}\n",
       "\n",
       ".ee-shut + ul {\n",
       "  display: none;\n",
       "}\n",
       "\n",
       ".ee-open + ul {\n",
       "  display: block;\n",
       "}\n",
       "\n",
       ".ee-shut::before {\n",
       "  display: inline-block;\n",
       "  content: \"▼\";\n",
       "  margin-right: 6px;\n",
       "  transform: rotate(-90deg);\n",
       "  transition: transform 0.2s;\n",
       "}\n",
       "\n",
       ".ee-open::before {\n",
       "  transform: rotate(0deg);\n",
       "  display: inline-block;\n",
       "  content: \"▼\";\n",
       "  margin-right: 6px;\n",
       "  transition: transform 0.2s;\n",
       "}\n",
       "</style><div class='ee'><ul><li><label class='ee-shut'>Image CGIAR/SRTM90_V4 (4 bands)<input type='checkbox' class='ee-toggle'></label><ul><li><span class='ee-k'>type:</span><span class='ee-v'>Image</span></li><li><span class='ee-k'>id:</span><span class='ee-v'>CGIAR/SRTM90_V4</span></li><li><span class='ee-k'>version:</span><span class='ee-v'>1641990053291277</span></li><li><label class='ee-shut'>bands: List (4 elements)<input type='checkbox' class='ee-toggle'></label><ul><li><label class='ee-shut'>0: \"elevation\", signed int16, EPSG:4326, 5416x8317 px<input type='checkbox' class='ee-toggle'></label><ul><li><span class='ee-k'>id:</span><span class='ee-v'>elevation</span></li><li><span class='ee-k'>crs:</span><span class='ee-v'>EPSG:4326</span></li><li><label class='ee-shut'>crs_transform: List (6 elements)<input type='checkbox' class='ee-toggle'></label><ul><li><span class='ee-k'>0:</span><span class='ee-v'>0.000833333333333</span></li><li><span class='ee-k'>1:</span><span class='ee-v'>0</span></li><li><span class='ee-k'>2:</span><span class='ee-v'>-180</span></li><li><span class='ee-k'>3:</span><span class='ee-v'>0</span></li><li><span class='ee-k'>4:</span><span class='ee-v'>-0.000833333333333</span></li><li><span class='ee-k'>5:</span><span class='ee-v'>60</span></li></ul></li><li><label class='ee-shut'>data_type: signed int16<input type='checkbox' class='ee-toggle'></label><ul><li><span class='ee-k'>type:</span><span class='ee-v'>PixelType</span></li><li><span class='ee-k'>max:</span><span class='ee-v'>32767</span></li><li><span class='ee-k'>min:</span><span class='ee-v'>-32768</span></li><li><span class='ee-k'>precision:</span><span class='ee-v'>int</span></li></ul></li><li><label class='ee-shut'>dimensions: [5416, 8317]<input type='checkbox' class='ee-toggle'></label><ul><li><span class='ee-k'>0:</span><span class='ee-v'>5416</span></li><li><span class='ee-k'>1:</span><span class='ee-v'>8317</span></li></ul></li><li><label class='ee-shut'>origin: [69302, 21606]<input type='checkbox' class='ee-toggle'></label><ul><li><span class='ee-k'>0:</span><span class='ee-v'>69302</span></li><li><span class='ee-k'>1:</span><span class='ee-v'>21606</span></li></ul></li></ul></li><li><label class='ee-shut'>1: \"slope\", float, EPSG:4326, 5416x8318 px<input type='checkbox' class='ee-toggle'></label><ul><li><span class='ee-k'>id:</span><span class='ee-v'>slope</span></li><li><span class='ee-k'>crs:</span><span class='ee-v'>EPSG:4326</span></li><li><label class='ee-shut'>crs_transform: List (6 elements)<input type='checkbox' class='ee-toggle'></label><ul><li><span class='ee-k'>0:</span><span class='ee-v'>0.000833333333333</span></li><li><span class='ee-k'>1:</span><span class='ee-v'>0</span></li><li><span class='ee-k'>2:</span><span class='ee-v'>-180</span></li><li><span class='ee-k'>3:</span><span class='ee-v'>0</span></li><li><span class='ee-k'>4:</span><span class='ee-v'>-0.000833333333333</span></li><li><span class='ee-k'>5:</span><span class='ee-v'>60</span></li></ul></li><li><label class='ee-shut'>data_type: float<input type='checkbox' class='ee-toggle'></label><ul><li><span class='ee-k'>type:</span><span class='ee-v'>PixelType</span></li><li><span class='ee-k'>max:</span><span class='ee-v'>90</span></li><li><span class='ee-k'>min:</span><span class='ee-v'>0</span></li><li><span class='ee-k'>precision:</span><span class='ee-v'>float</span></li></ul></li><li><label class='ee-shut'>dimensions: [5416, 8318]<input type='checkbox' class='ee-toggle'></label><ul><li><span class='ee-k'>0:</span><span class='ee-v'>5416</span></li><li><span class='ee-k'>1:</span><span class='ee-v'>8318</span></li></ul></li><li><label class='ee-shut'>origin: [69302, 21605]<input type='checkbox' class='ee-toggle'></label><ul><li><span class='ee-k'>0:</span><span class='ee-v'>69302</span></li><li><span class='ee-k'>1:</span><span class='ee-v'>21605</span></li></ul></li></ul></li><li><label class='ee-shut'>2: \"aspect\", float, EPSG:4326, 5416x8318 px<input type='checkbox' class='ee-toggle'></label><ul><li><span class='ee-k'>id:</span><span class='ee-v'>aspect</span></li><li><span class='ee-k'>crs:</span><span class='ee-v'>EPSG:4326</span></li><li><label class='ee-shut'>crs_transform: List (6 elements)<input type='checkbox' class='ee-toggle'></label><ul><li><span class='ee-k'>0:</span><span class='ee-v'>0.000833333333333</span></li><li><span class='ee-k'>1:</span><span class='ee-v'>0</span></li><li><span class='ee-k'>2:</span><span class='ee-v'>-180</span></li><li><span class='ee-k'>3:</span><span class='ee-v'>0</span></li><li><span class='ee-k'>4:</span><span class='ee-v'>-0.000833333333333</span></li><li><span class='ee-k'>5:</span><span class='ee-v'>60</span></li></ul></li><li><label class='ee-shut'>data_type: float<input type='checkbox' class='ee-toggle'></label><ul><li><span class='ee-k'>type:</span><span class='ee-v'>PixelType</span></li><li><span class='ee-k'>max:</span><span class='ee-v'>360</span></li><li><span class='ee-k'>min:</span><span class='ee-v'>0</span></li><li><span class='ee-k'>precision:</span><span class='ee-v'>float</span></li></ul></li><li><label class='ee-shut'>dimensions: [5416, 8318]<input type='checkbox' class='ee-toggle'></label><ul><li><span class='ee-k'>0:</span><span class='ee-v'>5416</span></li><li><span class='ee-k'>1:</span><span class='ee-v'>8318</span></li></ul></li><li><label class='ee-shut'>origin: [69302, 21605]<input type='checkbox' class='ee-toggle'></label><ul><li><span class='ee-k'>0:</span><span class='ee-v'>69302</span></li><li><span class='ee-k'>1:</span><span class='ee-v'>21605</span></li></ul></li></ul></li><li><label class='ee-shut'>3: \"soil\", unsigned int8, PROJCS[\"NAD_1983_Albers\", \n",
       "  GEOGCS[\"NAD83\", \n",
       "    DATUM[\"North_American_Datum_1983\", \n",
       "      SPHEROID[\"GRS 1980\", 6378137.0, 298.2572221010042, AUTHORITY[\"EPSG\",\"7019\"]], \n",
       "      AUTHORITY[\"EPSG\",\"6269\"]], \n",
       "    PRIMEM[\"Greenwich\", 0.0], \n",
       "    UNIT[\"degree\", 0.017453292519943295], \n",
       "    AXIS[\"Longitude\", EAST], \n",
       "    AXIS[\"Latitude\", NORTH], \n",
       "    AUTHORITY[\"EPSG\",\"4269\"]], \n",
       "  PROJECTION[\"Albers_Conic_Equal_Area\"], \n",
       "  PARAMETER[\"central_meridian\", -96.0], \n",
       "  PARAMETER[\"latitude_of_origin\", 37.5], \n",
       "  PARAMETER[\"standard_parallel_1\", 29.5], \n",
       "  PARAMETER[\"false_easting\", 0.0], \n",
       "  PARAMETER[\"false_northing\", 0.0], \n",
       "  PARAMETER[\"standard_parallel_2\", 45.5], \n",
       "  UNIT[\"m\", 1.0], \n",
       "  AXIS[\"x\", EAST], \n",
       "  AXIS[\"y\", NORTH]], 3015x8955 px<input type='checkbox' class='ee-toggle'></label><ul><li><span class='ee-k'>id:</span><span class='ee-v'>soil</span></li><li><span class='ee-k'>crs:</span><span class='ee-v'>PROJCS[\"NAD_1983_Albers\", \n",
       "  GEOGCS[\"NAD83\", \n",
       "    DATUM[\"North_American_Datum_1983\", \n",
       "      SPHEROID[\"GRS 1980\", 6378137.0, 298.2572221010042, AUTHORITY[\"EPSG\",\"7019\"]], \n",
       "      AUTHORITY[\"EPSG\",\"6269\"]], \n",
       "    PRIMEM[\"Greenwich\", 0.0], \n",
       "    UNIT[\"degree\", 0.017453292519943295], \n",
       "    AXIS[\"Longitude\", EAST], \n",
       "    AXIS[\"Latitude\", NORTH], \n",
       "    AUTHORITY[\"EPSG\",\"4269\"]], \n",
       "  PROJECTION[\"Albers_Conic_Equal_Area\"], \n",
       "  PARAMETER[\"central_meridian\", -96.0], \n",
       "  PARAMETER[\"latitude_of_origin\", 37.5], \n",
       "  PARAMETER[\"standard_parallel_1\", 29.5], \n",
       "  PARAMETER[\"false_easting\", 0.0], \n",
       "  PARAMETER[\"false_northing\", 0.0], \n",
       "  PARAMETER[\"standard_parallel_2\", 45.5], \n",
       "  UNIT[\"m\", 1.0], \n",
       "  AXIS[\"x\", EAST], \n",
       "  AXIS[\"y\", NORTH]]</span></li><li><label class='ee-shut'>crs_transform: List (6 elements)<input type='checkbox' class='ee-toggle'></label><ul><li><span class='ee-k'>0:</span><span class='ee-v'>90</span></li><li><span class='ee-k'>1:</span><span class='ee-v'>0</span></li><li><span class='ee-k'>2:</span><span class='ee-v'>-2459025.0000000014</span></li><li><span class='ee-k'>3:</span><span class='ee-v'>0</span></li><li><span class='ee-k'>4:</span><span class='ee-v'>-90</span></li><li><span class='ee-k'>5:</span><span class='ee-v'>1585228.7394226622</span></li></ul></li><li><label class='ee-shut'>data_type: unsigned int8<input type='checkbox' class='ee-toggle'></label><ul><li><span class='ee-k'>type:</span><span class='ee-v'>PixelType</span></li><li><span class='ee-k'>max:</span><span class='ee-v'>255</span></li><li><span class='ee-k'>min:</span><span class='ee-v'>0</span></li><li><span class='ee-k'>precision:</span><span class='ee-v'>int</span></li></ul></li><li><label class='ee-shut'>dimensions: [3015, 8955]<input type='checkbox' class='ee-toggle'></label><ul><li><span class='ee-k'>0:</span><span class='ee-v'>3015</span></li><li><span class='ee-k'>1:</span><span class='ee-v'>8955</span></li></ul></li><li><label class='ee-shut'>origin: [3060, 9101]<input type='checkbox' class='ee-toggle'></label><ul><li><span class='ee-k'>0:</span><span class='ee-v'>3060</span></li><li><span class='ee-k'>1:</span><span class='ee-v'>9101</span></li></ul></li></ul></li></ul></li><li><label class='ee-shut'>properties: Object (26 properties)<input type='checkbox' class='ee-toggle'></label><ul><li><label class='ee-shut'>date_range: [950227200000, 951177600000]<input type='checkbox' class='ee-toggle'></label><ul><li><span class='ee-k'>0:</span><span class='ee-v'>950227200000</span></li><li><span class='ee-k'>1:</span><span class='ee-v'>951177600000</span></li></ul></li><li><span class='ee-k'>description:</span><span class='ee-v'><p>The Shuttle Radar Topography Mission (SRTM) digital\n",
       "elevation dataset was originally produced to provide consistent,\n",
       "high-quality elevation data at near global scope. This version\n",
       "of the SRTM digital elevation data has been processed to fill data\n",
       "voids, and to facilitate its ease of use.</p><p><b>Provider: <a href=\"https://srtm.csi.cgiar.org/\">NASA/CGIAR</a></b><br><p><b>Bands</b><table class=\"eecat\"><tr><th scope=\"col\">Name</th><th scope=\"col\">Description</th></tr><tr><td>elevation</td><td><p>Elevation</p></td></tr></table><p><b>Terms of Use</b><br><p>DISTRIBUTION. Users are prohibited from any commercial, non-free resale, or\n",
       "redistribution without explicit written permission from CIAT. Users should\n",
       "acknowledge CIAT as the source used in the creation of any reports,\n",
       "publications, new datasets, derived products, or services resulting from the\n",
       "use of this dataset. CIAT also request reprints of any publications and\n",
       "notification of any redistributing efforts. For commercial access to\n",
       "the data, send requests to <a href=\"mailto:a.jarvis@cgiar.org\">Andy Jarvis</a>.</p><p>NO WARRANTY OR LIABILITY. CIAT provides these data without any warranty of\n",
       "any kind whatsoever, either express or implied, including warranties of\n",
       "merchantability and fitness for a particular purpose. CIAT shall not be\n",
       "liable for incidental, consequential, or special damages arising out of\n",
       "the use of any data.</p><p>ACKNOWLEDGMENT AND CITATION. Any users are kindly asked to cite this data\n",
       "in any published material produced using this data, and if possible link\n",
       "web pages to the <a href=\"https://srtm.csi.cgiar.org\">CIAT-CSI SRTM website</a>.</p><p><b>Suggested citation(s)</b><ul><li><p>Jarvis, A., H.I. Reuter, A. Nelson, E. Guevara. 2008. Hole-filled\n",
       "SRTM for the globe Version 4, available from the CGIAR-CSI SRTM\n",
       "90m Database: https://srtm.csi.cgiar.org.</p></li></ul><style>\n",
       "  table.eecat {\n",
       "  border: 1px solid black;\n",
       "  border-collapse: collapse;\n",
       "  font-size: 13px;\n",
       "  }\n",
       "  table.eecat td, tr, th {\n",
       "  text-align: left; vertical-align: top;\n",
       "  border: 1px solid gray; padding: 3px;\n",
       "  }\n",
       "  td.nobreak { white-space: nowrap; }\n",
       "</style></span></li><li><label class='ee-shut'>keywords: List (6 elements)<input type='checkbox' class='ee-toggle'></label><ul><li><span class='ee-k'>0:</span><span class='ee-v'>cgiar</span></li><li><span class='ee-k'>1:</span><span class='ee-v'>dem</span></li><li><span class='ee-k'>2:</span><span class='ee-v'>elevation</span></li><li><span class='ee-k'>3:</span><span class='ee-v'>geophysical</span></li><li><span class='ee-k'>4:</span><span class='ee-v'>srtm</span></li><li><span class='ee-k'>5:</span><span class='ee-v'>topography</span></li></ul></li><li><span class='ee-k'>period:</span><span class='ee-v'>0</span></li><li><label class='ee-shut'>product_tags: List (5 elements)<input type='checkbox' class='ee-toggle'></label><ul><li><span class='ee-k'>0:</span><span class='ee-v'>srtm</span></li><li><span class='ee-k'>1:</span><span class='ee-v'>elevation</span></li><li><span class='ee-k'>2:</span><span class='ee-v'>topography</span></li><li><span class='ee-k'>3:</span><span class='ee-v'>dem</span></li><li><span class='ee-k'>4:</span><span class='ee-v'>geophysical</span></li></ul></li><li><span class='ee-k'>provider:</span><span class='ee-v'>NASA/CGIAR</span></li><li><span class='ee-k'>provider_url:</span><span class='ee-v'>https://srtm.csi.cgiar.org/</span></li><li><span class='ee-k'>sample:</span><span class='ee-v'>https://mw1.google.com/ges/dd/images/SRTM90_V4_sample.png</span></li><li><label class='ee-shut'>source_tags: ['cgiar']<input type='checkbox' class='ee-toggle'></label><ul><li><span class='ee-k'>0:</span><span class='ee-v'>cgiar</span></li></ul></li><li><span class='ee-k'>system:asset_size:</span><span class='ee-v'>18827626666</span></li><li><label class='ee-shut'>system:footprint: Polygon (47 vertices)<input type='checkbox' class='ee-toggle'></label><ul><li><span class='ee-k'>type:</span><span class='ee-v'>Polygon</span></li><li><label class='ee-shut'>coordinates: List (1 element)<input type='checkbox' class='ee-toggle'></label><ul><li><label class='ee-shut'>0: List (47 elements)<input type='checkbox' class='ee-toggle'></label><ul><li><label class='ee-shut'>0: [-118.17750293819088, 35.06487270397809]<input type='checkbox' class='ee-toggle'></label><ul><li><span class='ee-k'>0:</span><span class='ee-v'>-118.17750293819088</span></li><li><span class='ee-k'>1:</span><span class='ee-v'>35.06487270397809</span></li></ul></li><li><label class='ee-shut'>1: [-118.14818792896162, 35.09333254043961]<input type='checkbox' class='ee-toggle'></label><ul><li><span class='ee-k'>0:</span><span class='ee-v'>-118.14818792896162</span></li><li><span class='ee-k'>1:</span><span class='ee-v'>35.09333254043961</span></li></ul></li><li><label class='ee-shut'>2: [-118.14746295349303, 35.09417805052628]<input type='checkbox' class='ee-toggle'></label><ul><li><span class='ee-k'>0:</span><span class='ee-v'>-118.14746295349303</span></li><li><span class='ee-k'>1:</span><span class='ee-v'>35.09417805052628</span></li></ul></li><li><label class='ee-shut'>3: [-118.14620843913079, 35.09573619198541]<input type='checkbox' class='ee-toggle'></label><ul><li><span class='ee-k'>0:</span><span class='ee-v'>-118.14620843913079</span></li><li><span class='ee-k'>1:</span><span class='ee-v'>35.09573619198541</span></li></ul></li><li><label class='ee-shut'>4: [-118.14286269978767, 35.099924418658105]<input type='checkbox' class='ee-toggle'></label><ul><li><span class='ee-k'>0:</span><span class='ee-v'>-118.14286269978767</span></li><li><span class='ee-k'>1:</span><span class='ee-v'>35.099924418658105</span></li></ul></li><li><label class='ee-shut'>5: [-118.103067525839, 35.15095262856707]<input type='checkbox' class='ee-toggle'></label><ul><li><span class='ee-k'>0:</span><span class='ee-v'>-118.103067525839</span></li><li><span class='ee-k'>1:</span><span class='ee-v'>35.15095262856707</span></li></ul></li><li><label class='ee-shut'>6: [-118.0896612688631, 35.168178271881224]<input type='checkbox' class='ee-toggle'></label><ul><li><span class='ee-k'>0:</span><span class='ee-v'>-118.0896612688631</span></li><li><span class='ee-k'>1:</span><span class='ee-v'>35.168178271881224</span></li></ul></li><li><label class='ee-shut'>7: [-118.06601303366868, 35.19859162952154]<input type='checkbox' class='ee-toggle'></label><ul><li><span class='ee-k'>0:</span><span class='ee-v'>-118.06601303366868</span></li><li><span class='ee-k'>1:</span><span class='ee-v'>35.19859162952154</span></li></ul></li><li><label class='ee-shut'>8: [-118.05683332405344, 35.2104542823614]<input type='checkbox' class='ee-toggle'></label><ul><li><span class='ee-k'>0:</span><span class='ee-v'>-118.05683332405344</span></li><li><span class='ee-k'>1:</span><span class='ee-v'>35.2104542823614</span></li></ul></li><li><label class='ee-shut'>9: [-118.05504757747318, 35.21285923526058]<input type='checkbox' class='ee-toggle'></label><ul><li><span class='ee-k'>0:</span><span class='ee-v'>-118.05504757747318</span></li><li><span class='ee-k'>1:</span><span class='ee-v'>35.21285923526058</span></li></ul></li><li><label class='ee-shut'>10: [-118.05426606293894, 35.21391420120049]<input type='checkbox' class='ee-toggle'></label><ul><li><span class='ee-k'>0:</span><span class='ee-v'>-118.05426606293894</span></li><li><span class='ee-k'>1:</span><span class='ee-v'>35.21391420120049</span></li></ul></li><li><label class='ee-shut'>11: [-117.98242099750604, 35.31675709507674]<input type='checkbox' class='ee-toggle'></label><ul><li><span class='ee-k'>0:</span><span class='ee-v'>-117.98242099750604</span></li><li><span class='ee-k'>1:</span><span class='ee-v'>35.31675709507674</span></li></ul></li><li><label class='ee-shut'>12: [-117.98133224027998, 35.318404828472346]<input type='checkbox' class='ee-toggle'></label><ul><li><span class='ee-k'>0:</span><span class='ee-v'>-117.98133224027998</span></li><li><span class='ee-k'>1:</span><span class='ee-v'>35.318404828472346</span></li></ul></li><li><label class='ee-shut'>13: [-117.97094855462207, 35.34286716529096]<input type='checkbox' class='ee-toggle'></label><ul><li><span class='ee-k'>0:</span><span class='ee-v'>-117.97094855462207</span></li><li><span class='ee-k'>1:</span><span class='ee-v'>35.34286716529096</span></li></ul></li><li><label class='ee-shut'>14: [-117.97083695511769, 35.34316552934237]<input type='checkbox' class='ee-toggle'></label><ul><li><span class='ee-k'>0:</span><span class='ee-v'>-117.97083695511769</span></li><li><span class='ee-k'>1:</span><span class='ee-v'>35.34316552934237</span></li></ul></li><li><label class='ee-shut'>15: [-117.86707833101968, 35.68011174170034]<input type='checkbox' class='ee-toggle'></label><ul><li><span class='ee-k'>0:</span><span class='ee-v'>-117.86707833101968</span></li><li><span class='ee-k'>1:</span><span class='ee-v'>35.68011174170034</span></li></ul></li><li><label class='ee-shut'>16: [-117.81411686076872, 35.942038802280784]<input type='checkbox' class='ee-toggle'></label><ul><li><span class='ee-k'>0:</span><span class='ee-v'>-117.81411686076872</span></li><li><span class='ee-k'>1:</span><span class='ee-v'>35.942038802280784</span></li></ul></li><li><label class='ee-shut'>17: [-117.73544152603992, 36.42245748050914]<input type='checkbox' class='ee-toggle'></label><ul><li><span class='ee-k'>0:</span><span class='ee-v'>-117.73544152603992</span></li><li><span class='ee-k'>1:</span><span class='ee-v'>36.42245748050914</span></li></ul></li><li><label class='ee-shut'>18: [-117.73867765385036, 36.50668915904252]<input type='checkbox' class='ee-toggle'></label><ul><li><span class='ee-k'>0:</span><span class='ee-v'>-117.73867765385036</span></li><li><span class='ee-k'>1:</span><span class='ee-v'>36.50668915904252</span></li></ul></li><li><label class='ee-shut'>19: [-118.02200027035937, 37.2148160938853]<input type='checkbox' class='ee-toggle'></label><ul><li><span class='ee-k'>0:</span><span class='ee-v'>-118.02200027035937</span></li><li><span class='ee-k'>1:</span><span class='ee-v'>37.2148160938853</span></li></ul></li><li><label class='ee-shut'>20: [-119.99945699362799, 41.99490041329722]<input type='checkbox' class='ee-toggle'></label><ul><li><span class='ee-k'>0:</span><span class='ee-v'>-119.99945699362799</span></li><li><span class='ee-k'>1:</span><span class='ee-v'>41.99490041329722</span></li></ul></li><li><label class='ee-shut'>21: [-120.00107172253773, 41.9949291234633]<input type='checkbox' class='ee-toggle'></label><ul><li><span class='ee-k'>0:</span><span class='ee-v'>-120.00107172253773</span></li><li><span class='ee-k'>1:</span><span class='ee-v'>41.9949291234633</span></li></ul></li><li><label class='ee-shut'>22: [-120.00507367311101, 41.99492586408598]<input type='checkbox' class='ee-toggle'></label><ul><li><span class='ee-k'>0:</span><span class='ee-v'>-120.00507367311101</span></li><li><span class='ee-k'>1:</span><span class='ee-v'>41.99492586408598</span></li></ul></li><li><label class='ee-shut'>23: [-120.70077705666155, 41.99379479733542]<input type='checkbox' class='ee-toggle'></label><ul><li><span class='ee-k'>0:</span><span class='ee-v'>-120.70077705666155</span></li><li><span class='ee-k'>1:</span><span class='ee-v'>41.99379479733542</span></li></ul></li><li><label class='ee-shut'>24: [-121.44545806543425, 41.58977106802627]<input type='checkbox' class='ee-toggle'></label><ul><li><span class='ee-k'>0:</span><span class='ee-v'>-121.44545806543425</span></li><li><span class='ee-k'>1:</span><span class='ee-v'>41.58977106802627</span></li></ul></li><li><label class='ee-shut'>25: [-121.44598335709327, 41.58937987752227]<input type='checkbox' class='ee-toggle'></label><ul><li><span class='ee-k'>0:</span><span class='ee-v'>-121.44598335709327</span></li><li><span class='ee-k'>1:</span><span class='ee-v'>41.58937987752227</span></li></ul></li><li><label class='ee-shut'>26: [-121.97398943205056, 41.14960528855393]<input type='checkbox' class='ee-toggle'></label><ul><li><span class='ee-k'>0:</span><span class='ee-v'>-121.97398943205056</span></li><li><span class='ee-k'>1:</span><span class='ee-v'>41.14960528855393</span></li></ul></li><li><label class='ee-shut'>27: [-121.97710538144565, 41.14593109666133]<input type='checkbox' class='ee-toggle'></label><ul><li><span class='ee-k'>0:</span><span class='ee-v'>-121.97710538144565</span></li><li><span class='ee-k'>1:</span><span class='ee-v'>41.14593109666133</span></li></ul></li><li><label class='ee-shut'>28: [-121.97735233819871, 41.14555402648315]<input type='checkbox' class='ee-toggle'></label><ul><li><span class='ee-k'>0:</span><span class='ee-v'>-121.97735233819871</span></li><li><span class='ee-k'>1:</span><span class='ee-v'>41.14555402648315</span></li></ul></li><li><label class='ee-shut'>29: [-122.23699050932254, 40.7296932875822]<input type='checkbox' class='ee-toggle'></label><ul><li><span class='ee-k'>0:</span><span class='ee-v'>-122.23699050932254</span></li><li><span class='ee-k'>1:</span><span class='ee-v'>40.7296932875822</span></li></ul></li><li><label class='ee-shut'>30: [-122.24772734966812, 40.702460527246075]<input type='checkbox' class='ee-toggle'></label><ul><li><span class='ee-k'>0:</span><span class='ee-v'>-122.24772734966812</span></li><li><span class='ee-k'>1:</span><span class='ee-v'>40.702460527246075</span></li></ul></li><li><label class='ee-shut'>31: [-122.2471872358069, 40.68510937189072]<input type='checkbox' class='ee-toggle'></label><ul><li><span class='ee-k'>0:</span><span class='ee-v'>-122.2471872358069</span></li><li><span class='ee-k'>1:</span><span class='ee-v'>40.68510937189072</span></li></ul></li><li><label class='ee-shut'>32: [-122.22550682851434, 40.25034864572589]<input type='checkbox' class='ee-toggle'></label><ul><li><span class='ee-k'>0:</span><span class='ee-v'>-122.22550682851434</span></li><li><span class='ee-k'>1:</span><span class='ee-v'>40.25034864572589</span></li></ul></li><li><label class='ee-shut'>33: [-122.22393228304391, 40.2460659983166]<input type='checkbox' class='ee-toggle'></label><ul><li><span class='ee-k'>0:</span><span class='ee-v'>-122.22393228304391</span></li><li><span class='ee-k'>1:</span><span class='ee-v'>40.2460659983166</span></li></ul></li><li><label class='ee-shut'>34: [-122.22132117246544, 40.24091767904078]<input type='checkbox' class='ee-toggle'></label><ul><li><span class='ee-k'>0:</span><span class='ee-v'>-122.22132117246544</span></li><li><span class='ee-k'>1:</span><span class='ee-v'>40.24091767904078</span></li></ul></li><li><label class='ee-shut'>35: [-120.93788118830922, 38.08734940674765]<input type='checkbox' class='ee-toggle'></label><ul><li><span class='ee-k'>0:</span><span class='ee-v'>-120.93788118830922</span></li><li><span class='ee-k'>1:</span><span class='ee-v'>38.08734940674765</span></li></ul></li><li><label class='ee-shut'>36: [-118.79487124997759, 35.362910357534936]<input type='checkbox' class='ee-toggle'></label><ul><li><span class='ee-k'>0:</span><span class='ee-v'>-118.79487124997759</span></li><li><span class='ee-k'>1:</span><span class='ee-v'>35.362910357534936</span></li></ul></li><li><label class='ee-shut'>37: [-118.79193623026387, 35.36025374403502]<input type='checkbox' class='ee-toggle'></label><ul><li><span class='ee-k'>0:</span><span class='ee-v'>-118.79193623026387</span></li><li><span class='ee-k'>1:</span><span class='ee-v'>35.36025374403502</span></li></ul></li><li><label class='ee-shut'>38: [-118.46753357765866, 35.14161448552489]<input type='checkbox' class='ee-toggle'></label><ul><li><span class='ee-k'>0:</span><span class='ee-v'>-118.46753357765866</span></li><li><span class='ee-k'>1:</span><span class='ee-v'>35.14161448552489</span></li></ul></li><li><label class='ee-shut'>39: [-118.46708758747629, 35.141340376149465]<input type='checkbox' class='ee-toggle'></label><ul><li><span class='ee-k'>0:</span><span class='ee-v'>-118.46708758747629</span></li><li><span class='ee-k'>1:</span><span class='ee-v'>35.141340376149465</span></li></ul></li><li><label class='ee-shut'>40: [-118.46622306860979, 35.14099705239552]<input type='checkbox' class='ee-toggle'></label><ul><li><span class='ee-k'>0:</span><span class='ee-v'>-118.46622306860979</span></li><li><span class='ee-k'>1:</span><span class='ee-v'>35.14099705239552</span></li></ul></li><li><label class='ee-shut'>41: [-118.46558159783507, 35.14076819014658]<input type='checkbox' class='ee-toggle'></label><ul><li><span class='ee-k'>0:</span><span class='ee-v'>-118.46558159783507</span></li><li><span class='ee-k'>1:</span><span class='ee-v'>35.14076819014658</span></li></ul></li><li><label class='ee-shut'>42: [-118.40537703749938, 35.12268683135797]<input type='checkbox' class='ee-toggle'></label><ul><li><span class='ee-k'>0:</span><span class='ee-v'>-118.40537703749938</span></li><li><span class='ee-k'>1:</span><span class='ee-v'>35.12268683135797</span></li></ul></li><li><label class='ee-shut'>43: [-118.39645908078826, 35.120258555786116]<input type='checkbox' class='ee-toggle'></label><ul><li><span class='ee-k'>0:</span><span class='ee-v'>-118.39645908078826</span></li><li><span class='ee-k'>1:</span><span class='ee-v'>35.120258555786116</span></li></ul></li><li><label class='ee-shut'>44: [-118.3879596321, 35.11805717265226]<input type='checkbox' class='ee-toggle'></label><ul><li><span class='ee-k'>0:</span><span class='ee-v'>-118.3879596321</span></li><li><span class='ee-k'>1:</span><span class='ee-v'>35.11805717265226</span></li></ul></li><li><label class='ee-shut'>45: [-118.37862475468911, 35.115648111909444]<input type='checkbox' class='ee-toggle'></label><ul><li><span class='ee-k'>0:</span><span class='ee-v'>-118.37862475468911</span></li><li><span class='ee-k'>1:</span><span class='ee-v'>35.115648111909444</span></li></ul></li><li><label class='ee-shut'>46: [-118.17750293819088, 35.06487270397809]<input type='checkbox' class='ee-toggle'></label><ul><li><span class='ee-k'>0:</span><span class='ee-v'>-118.17750293819088</span></li><li><span class='ee-k'>1:</span><span class='ee-v'>35.06487270397809</span></li></ul></li></ul></li></ul></li></ul></li><li><span class='ee-k'>system:time_end:</span><span class='ee-v'>951177600000</span></li><li><span class='ee-k'>system:time_start:</span><span class='ee-v'>950227200000</span></li><li><span class='ee-k'>system:visualization_0_bands:</span><span class='ee-v'>elevation</span></li><li><span class='ee-k'>system:visualization_0_gamma:</span><span class='ee-v'>1.6</span></li><li><span class='ee-k'>system:visualization_0_max:</span><span class='ee-v'>8000.0</span></li><li><span class='ee-k'>system:visualization_0_min:</span><span class='ee-v'>-100.0</span></li><li><span class='ee-k'>system:visualization_0_name:</span><span class='ee-v'>Elevation</span></li><li><label class='ee-shut'>tags: List (6 elements)<input type='checkbox' class='ee-toggle'></label><ul><li><span class='ee-k'>0:</span><span class='ee-v'>cgiar</span></li><li><span class='ee-k'>1:</span><span class='ee-v'>dem</span></li><li><span class='ee-k'>2:</span><span class='ee-v'>elevation</span></li><li><span class='ee-k'>3:</span><span class='ee-v'>geophysical</span></li><li><span class='ee-k'>4:</span><span class='ee-v'>srtm</span></li><li><span class='ee-k'>5:</span><span class='ee-v'>topography</span></li></ul></li><li><span class='ee-k'>thumb:</span><span class='ee-v'>https://mw1.google.com/ges/dd/images/SRTM90_V4_thumb.png</span></li><li><span class='ee-k'>title:</span><span class='ee-v'>SRTM Digital Elevation Data Version 4</span></li><li><span class='ee-k'>type_name:</span><span class='ee-v'>Image</span></li><li><span class='ee-k'>visualization_0_bands:</span><span class='ee-v'>elevation</span></li><li><span class='ee-k'>visualization_0_max:</span><span class='ee-v'>8000.0</span></li><li><span class='ee-k'>visualization_0_min:</span><span class='ee-v'>-100.0</span></li><li><span class='ee-k'>visualization_0_name:</span><span class='ee-v'>Elevation</span></li></ul></li></ul></li></ul></div><script>function toggleHeader() {\n",
       "    const parent = this.parentElement;\n",
       "    parent.className = parent.className === \"ee-open\" ? \"ee-shut\" : \"ee-open\";\n",
       "}\n",
       "\n",
       "for (let c of document.getElementsByClassName(\"ee-toggle\")) {\n",
       "    c.onclick = toggleHeader;\n",
       "}</script></div>"
      ],
      "text/plain": [
       "<ee.image.Image at 0x7f32570ea2c0>"
      ]
     },
     "execution_count": 48,
     "metadata": {},
     "output_type": "execute_result"
    }
   ],
   "source": [
    "terrain_img = terrain.get_terrain_image(sierras.geometry[0], 30)\n",
    "terrain_img"
   ]
  },
  {
   "cell_type": "code",
   "execution_count": 49,
   "metadata": {},
   "outputs": [],
   "source": [
    "ee_utils.save_image_to_drive_per_band(terrain_img, polygon=sierras_box.geometry[0], img_name=\"terrain\", scale=30)"
   ]
  }
 ],
 "metadata": {
  "kernelspec": {
   "display_name": "drought",
   "language": "python",
   "name": "drought"
  },
  "language_info": {
   "codemirror_mode": {
    "name": "ipython",
    "version": 3
   },
   "file_extension": ".py",
   "mimetype": "text/x-python",
   "name": "python",
   "nbconvert_exporter": "python",
   "pygments_lexer": "ipython3",
   "version": "3.10.6"
  },
  "orig_nbformat": 4,
  "vscode": {
   "interpreter": {
    "hash": "31f2aee4e71d21fbe5cf8b01ff0e069b9275f58929596ceb00d14d90e3e16cd6"
   }
  }
 },
 "nbformat": 4,
 "nbformat_minor": 2
}
