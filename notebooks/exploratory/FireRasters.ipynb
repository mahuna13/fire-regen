{
 "cells": [
  {
   "cell_type": "code",
   "execution_count": null,
   "metadata": {},
   "outputs": [],
   "source": [
    "import ee\n",
    "import geopandas as gpd\n",
    "import fiona\n",
    "import shapely\n",
    "import contextily as cx\n",
    "import json\n",
    "from src.visualization import ee_viz\n",
    "from src.data import mtbs\n",
    "from src.data import shape_processor\n",
    "import src.data.ee_utils as ee_utils\n",
    "import numpy as np\n",
    "\n",
    "import importlib\n",
    "importlib.reload(ee_viz)\n",
    "importlib.reload(ee_utils)\n",
    "importlib.reload(mtbs)"
   ]
  },
  {
   "cell_type": "code",
   "execution_count": null,
   "metadata": {},
   "outputs": [],
   "source": [
    "ee.Initialize()"
   ]
  },
  {
   "cell_type": "markdown",
   "metadata": {},
   "source": [
    "### Get Regions of interest"
   ]
  },
  {
   "cell_type": "code",
   "execution_count": null,
   "metadata": {},
   "outputs": [],
   "source": [
    "# Fetch simplified regions of interest - to avoid processing problems with really complicated shapes.\n",
    "seki = gpd.read_file(\"../../data/shapefiles/seki_convex_hull.shp\")\n",
    "sierras = gpd.read_file(\"../../data/shapefiles/sierras_convex_hull.shp\")"
   ]
  },
  {
   "cell_type": "code",
   "execution_count": null,
   "metadata": {},
   "outputs": [],
   "source": [
    "seki_complex = gpd.read_file(\"../../data/shapefiles/seki.shp\")\n",
    "seki_box = shape_processor.get_box(seki_complex)"
   ]
  },
  {
   "cell_type": "code",
   "execution_count": null,
   "metadata": {},
   "outputs": [],
   "source": [
    "sierras_complex = gpd.read_file(\"../../data/shapefiles/sierras.shp\")\n",
    "sierras_box = shape_processor.get_box(sierras_complex)"
   ]
  },
  {
   "cell_type": "code",
   "execution_count": null,
   "metadata": {},
   "outputs": [],
   "source": [
    "seki.to_crs(3857).explore()"
   ]
  },
  {
   "cell_type": "code",
   "execution_count": null,
   "metadata": {},
   "outputs": [],
   "source": [
    "sierras.to_crs(3857).explore()"
   ]
  },
  {
   "cell_type": "markdown",
   "metadata": {},
   "source": [
    "### Get Burn Severity Data"
   ]
  },
  {
   "cell_type": "code",
   "execution_count": null,
   "metadata": {},
   "outputs": [],
   "source": [
    "burn_severity_ic = mtbs.get_burn_severity_data().sort('system:time_start', False)"
   ]
  },
  {
   "cell_type": "code",
   "execution_count": null,
   "metadata": {},
   "outputs": [],
   "source": [
    "ee_viz.viz_burn_severity(burn_severity_ic.first(), seki.geometry.iloc[0], ['burn_severity', 'burn_year'])"
   ]
  },
  {
   "cell_type": "markdown",
   "metadata": {},
   "source": [
    "### Get aggregated burn data - last burn severity for each pixel, and burn count for each pixel"
   ]
  },
  {
   "cell_type": "code",
   "execution_count": null,
   "metadata": {},
   "outputs": [],
   "source": [
    "burn_data = mtbs.get_aggregated_burn_data()\n",
    "burn_data"
   ]
  },
  {
   "cell_type": "code",
   "execution_count": null,
   "metadata": {},
   "outputs": [],
   "source": [
    "ee_viz.viz_burn_severity(burn_data, seki.geometry.iloc[0], ['last_burn_severity', 'last_burn_year', 'burn_count'])"
   ]
  },
  {
   "cell_type": "code",
   "execution_count": null,
   "metadata": {},
   "outputs": [],
   "source": [
    "ee_viz.viz_burn_severity(burn_data, sierras.geometry.iloc[0], ['last_burn_severity', 'last_burn_year', 'burn_count'])"
   ]
  },
  {
   "cell_type": "markdown",
   "metadata": {},
   "source": [
    "### Save Fire Raster as Geo Tiff"
   ]
  },
  {
   "cell_type": "code",
   "execution_count": null,
   "metadata": {},
   "outputs": [],
   "source": [
    "ee_utils.save_image_to_drive(burn_data, polygon=seki_box.geometry[0], img_name='burn_data', scale=30)"
   ]
  },
  {
   "cell_type": "code",
   "execution_count": null,
   "metadata": {},
   "outputs": [],
   "source": [
    "ee_utils.save_image_to_drive(burn_data, polygon=sierras_box.geometry[0], img_name='burn_data_sierras', scale=30)"
   ]
  },
  {
   "cell_type": "code",
   "execution_count": null,
   "metadata": {},
   "outputs": [],
   "source": []
  }
 ],
 "metadata": {
  "kernelspec": {
   "display_name": "Python 3.10.6 ('drought': venv)",
   "language": "python",
   "name": "python3"
  },
  "language_info": {
   "codemirror_mode": {
    "name": "ipython",
    "version": 3
   },
   "file_extension": ".py",
   "mimetype": "text/x-python",
   "name": "python",
   "nbconvert_exporter": "python",
   "pygments_lexer": "ipython3",
   "version": "3.10.6"
  },
  "orig_nbformat": 4,
  "vscode": {
   "interpreter": {
    "hash": "1f736514a98fcc3e6a7aa48aaac16ce5b1041d2c9fa71bed1e40355e31f675cb"
   }
  }
 },
 "nbformat": 4,
 "nbformat_minor": 2
}
