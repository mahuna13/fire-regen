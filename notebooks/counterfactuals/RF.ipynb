{
 "cells": [
  {
   "cell_type": "code",
   "execution_count": 1,
   "metadata": {},
   "outputs": [
    {
     "name": "stdout",
     "output_type": "stream",
     "text": [
      "2024-02-09 19:44:02,075 DEBUG: Logger /home/jk871/fire-regen/src/data/utils/raster.py already set up. [in get_logger at /home/jk871/fire-regen/src/utils/logging_util.py:51]\n",
      "2024-02-09 19:44:02,077 DEBUG: Logger /home/jk871/fire-regen/src/data/utils/raster.py already set up. [in get_logger at /home/jk871/fire-regen/src/utils/logging_util.py:51]\n",
      "2024-02-09 19:44:02,368 DEBUG: Logger /home/jk871/fire-regen/src/data/processing/severity_overlay.py already set up. [in get_logger at /home/jk871/fire-regen/src/utils/logging_util.py:51]\n",
      "2024-02-09 19:44:02,369 DEBUG: Logger /home/jk871/fire-regen/src/data/processing/raster_overlays.py already set up. [in get_logger at /home/jk871/fire-regen/src/utils/logging_util.py:51]\n",
      "2024-02-09 19:44:02,371 DEBUG: Logger /home/jk871/fire-regen/src/data/pipelines/aggregate_analysis.py already set up. [in get_logger at /home/jk871/fire-regen/src/utils/logging_util.py:51]\n",
      "2024-02-09 19:44:02,384 DEBUG: Logger /home/jk871/fire-regen/src/counterfactuals/nearby/nearby.py already set up. [in get_logger at /home/jk871/fire-regen/src/utils/logging_util.py:51]\n",
      "2024-02-09 19:44:02,385 DEBUG: Logger /home/jk871/fire-regen/src/counterfactuals/rf/train.py already set up. [in get_logger at /home/jk871/fire-regen/src/utils/logging_util.py:51]\n",
      "2024-02-09 19:44:02,386 DEBUG: Logger /home/jk871/fire-regen/src/counterfactuals/rf/rf.py already set up. [in get_logger at /home/jk871/fire-regen/src/utils/logging_util.py:51]\n"
     ]
    },
    {
     "data": {
      "text/plain": [
       "<module 'src.counterfactuals.rf.rf' from '/home/jk871/fire-regen/src/counterfactuals/rf/rf.py'>"
      ]
     },
     "execution_count": 1,
     "metadata": {},
     "output_type": "execute_result"
    }
   ],
   "source": [
    "# imports\n",
    "from fastai.tabular.all import *\n",
    "from src.data.utils import gedi_utils\n",
    "from src.data.pipelines.extract_gedi_data import SIERRAS_GEDI_ID_COLUMNS, SEKI_GEDI_ID_COLUMNS, SIERRAS_GEDI_ALL_COLUMNS, SEKI_GEDI_ALL_COLUMNS\n",
    "from src.data.gedi import gedi_loader\n",
    "from src.constants import DATA_PATH, GEDI_INTERMEDIATE_PATH, INTERMEDIATE_RESULTS\n",
    "from fastai.tabular.all import load_pickle, save_pickle\n",
    "from src.data.processing import severity_overlay as se\n",
    "from src.data.processing import raster_overlays as ro\n",
    "from src.data.adapters import calfire_perimeters as cp\n",
    "from src.data.pipelines import run_overlays as overlays\n",
    "from src.data.adapters import mtbs as mtbs_adapter\n",
    "from src.data.pipelines import aggregate_analysis as aa\n",
    "import numpy as np\n",
    "from scipy import stats\n",
    "import statsmodels.api as sm\n",
    "from src.utils.eval import mse, rmse, r_squared, rma_regression\n",
    "# Plotting\n",
    "import seaborn as sns\n",
    "import matplotlib.pyplot as plt\n",
    "sns.set_theme(style=\"white\", palette=\"Set2\")\n",
    "palette = sns.color_palette(\"Set2\")\n",
    "from src.data.processing import gedi_raster_matching\n",
    "\n",
    "from src.counterfactuals.nearby import nearby\n",
    "from src.counterfactuals.rf import train\n",
    "from src.counterfactuals.rf import rf\n",
    "\n",
    "import pandas as pd\n",
    "\n",
    "import importlib\n",
    "importlib.reload(se)\n",
    "importlib.reload(ro)\n",
    "importlib.reload(gedi_utils)\n",
    "importlib.reload(aa)\n",
    "importlib.reload(nearby)\n",
    "importlib.reload(train)\n",
    "importlib.reload(rf)"
   ]
  },
  {
   "cell_type": "code",
   "execution_count": 3,
   "metadata": {},
   "outputs": [],
   "source": [
    "INPUT_PATH = f\"{DATA_PATH}/evaluation/placebo_sets\""
   ]
  },
  {
   "cell_type": "code",
   "execution_count": 73,
   "metadata": {},
   "outputs": [],
   "source": [
    "test_landsat_simple = load_pickle(f\"{INPUT_PATH}/set1/placebo_aug_landsat.pkl\")\n",
    "calibration_landsat_simple = load_pickle(f\"{INPUT_PATH}/set1/calibration_aug_landsat.pkl\")"
   ]
  },
  {
   "cell_type": "code",
   "execution_count": 17,
   "metadata": {},
   "outputs": [],
   "source": [
    "def evaluate_placebo_set(outcome_variable, df_i):\n",
    "    df = df_i[[outcome_variable, f\"{outcome_variable}_cf\"]].dropna()\n",
    "    fig, ax = plt.subplots(1, 1, figsize=(15, 5))\n",
    "\n",
    "    print(f\"Evaluating Placebo Set 1:\")\n",
    "    #df = load_pickle(f\"{INPUT_PATH}/matching_placebo_set_1_1.pkl\").dropna()\n",
    "    x_cf = df[f\"{outcome_variable}_cf\"].to_numpy()\n",
    "    x = df[outcome_variable].to_numpy()\n",
    "    outcome_diff = x_cf - x\n",
    "\n",
    "    # Print stats\n",
    "    a = rmse(x, x_cf)\n",
    "    b = r_squared(x, x_cf)\n",
    "    print(f\"RMSE: {a}\")\n",
    "    print(f\"R^2: {b}\")\n",
    "    print(f\"RMA regression: {rma_regression(x, x_cf)}\")\n",
    "\n",
    "    sns.kdeplot(outcome_diff, ax=ax)\n",
    "    ax.axvline(x=0)\n"
   ]
  },
  {
   "cell_type": "code",
   "execution_count": 4,
   "metadata": {},
   "outputs": [],
   "source": [
    "test_landsat_simple = load_pickle(f\"{INPUT_PATH}/set1/placebo_aug_landsat.pkl\")\n",
    "calibration_landsat_simple = load_pickle(f\"{INPUT_PATH}/set1/calibration_aug_landsat.pkl\")"
   ]
  },
  {
   "cell_type": "markdown",
   "metadata": {},
   "source": [
    "# Test with all unburned (without land cover)"
   ]
  },
  {
   "cell_type": "code",
   "execution_count": 13,
   "metadata": {},
   "outputs": [],
   "source": [
    "unburned = load_pickle(\"/maps/fire-regen/data/intermediate/pipelines/severity_aggregated_info_da_no_lc_for_unburned.pkl\")"
   ]
  },
  {
   "cell_type": "code",
   "execution_count": 14,
   "metadata": {},
   "outputs": [],
   "source": [
    "unburned = unburned[unburned.YSF < 0]"
   ]
  },
  {
   "cell_type": "code",
   "execution_count": 15,
   "metadata": {},
   "outputs": [
    {
     "data": {
      "text/plain": [
       "4039069"
      ]
     },
     "execution_count": 15,
     "metadata": {},
     "output_type": "execute_result"
    }
   ],
   "source": [
    "len(unburned)"
   ]
  },
  {
   "cell_type": "code",
   "execution_count": null,
   "metadata": {},
   "outputs": [
    {
     "data": {
      "text/plain": [
       "(0.0, 110.0)"
      ]
     },
     "execution_count": 13,
     "metadata": {},
     "output_type": "execute_result"
    },
    {
     "data": {
      "image/png": "[encoded data removed]",
      "text/plain": [
       "<Figure size 2520x360 with 1 Axes>"
      ]
     },
     "metadata": {
      "needs_background": "light"
     },
     "output_type": "display_data"
    }
   ],
   "source": [
    "fig, ax = plt.subplots(1, 1, figsize=(35, 5))\n",
    "sns.histplot(unburned, x=\"rh_98\")\n",
    "ax.set_xlim(0, 110)"
   ]
  },
  {
   "cell_type": "code",
   "execution_count": null,
   "metadata": {},
   "outputs": [],
   "source": [
    "test_ds = load_pickle(f\"{INPUT_PATH}/set1/placebo_aug_monthly_landsat.pkl\")\n",
    "calibration = load_pickle(f\"{INPUT_PATH}/set1/calibration_ext_aug_monthly_landsat.pkl\")"
   ]
  },
  {
   "cell_type": "code",
   "execution_count": null,
   "metadata": {},
   "outputs": [],
   "source": [
    "from src.data.processing import advanced_landsat_overlay as alo\n",
    "GEDI_VARIABLES = ['agbd', 'cover', 'fhd_normal', 'pai', 'rh_25', 'rh_50', 'rh_70', 'rh_98']\n",
    "TERRAIN_VARIABLES = ['slope', 'elevation', 'aspect']\n",
    "TS_LANDSAT = []\n",
    "for month in range(1, 13):\n",
    "    for band in alo.MONTHLY_BANDS:\n",
    "        TS_LANDSAT.append(f\"{band}_{month}\")"
   ]
  },
  {
   "cell_type": "code",
   "execution_count": null,
   "metadata": {},
   "outputs": [],
   "source": [
    "FEATURES = TERRAIN_VARIABLES + TS_LANDSAT"
   ]
  },
  {
   "cell_type": "code",
   "execution_count": null,
   "metadata": {},
   "outputs": [
    {
     "data": {
      "text/plain": [
       "357797"
      ]
     },
     "execution_count": 34,
     "metadata": {},
     "output_type": "execute_result"
    }
   ],
   "source": [
    "len(calibration[calibration.rh_98 < 3])"
   ]
  },
  {
   "cell_type": "code",
   "execution_count": null,
   "metadata": {},
   "outputs": [
    {
     "data": {
      "text/plain": [
       "(0.0, 110.0)"
      ]
     },
     "execution_count": 37,
     "metadata": {},
     "output_type": "execute_result"
    },
    {
     "data": {
      "image/png": "[encoded data removed]",
      "text/plain": [
       "<Figure size 2520x360 with 1 Axes>"
      ]
     },
     "metadata": {},
     "output_type": "display_data"
    }
   ],
   "source": [
    "fig, ax = plt.subplots(1, 1, figsize=(35, 5))\n",
    "sns.histplot(calibration[calibration.rh_98 > 3], x=\"rh_98\")\n",
    "ax.set_xlim(0, 110)"
   ]
  },
  {
   "cell_type": "code",
   "execution_count": null,
   "metadata": {},
   "outputs": [
    {
     "name": "stdout",
     "output_type": "stream",
     "text": [
      "2024-02-06 05:28:59,209 INFO: PREP PREP PREP-- [in prep_data_for_rf at /home/jk871/fire-regen/src/counterfactuals/rf/train.py:51]\n"
     ]
    },
    {
     "name": "stderr",
     "output_type": "stream",
     "text": [
      "/home/jk871/drought-with-gedi/drought/lib/python3.10/site-packages/fastai/tabular/core.py:314: PerformanceWarning: DataFrame is highly fragmented.  This is usually the result of calling `frame.insert` many times, which has poor performance.  Consider joining all columns at once using pd.concat(axis=1) instead. To get a de-fragmented frame, use `newframe = frame.copy()`\n",
      "  to.loc[:,n+'_na'] = missing[n]\n",
      "/home/jk871/drought-with-gedi/drought/lib/python3.10/site-packages/fastai/tabular/core.py:314: PerformanceWarning: DataFrame is highly fragmented.  This is usually the result of calling `frame.insert` many times, which has poor performance.  Consider joining all columns at once using pd.concat(axis=1) instead. To get a de-fragmented frame, use `newframe = frame.copy()`\n",
      "  to.loc[:,n+'_na'] = missing[n]\n",
      "/home/jk871/drought-with-gedi/drought/lib/python3.10/site-packages/fastai/tabular/core.py:314: PerformanceWarning: DataFrame is highly fragmented.  This is usually the result of calling `frame.insert` many times, which has poor performance.  Consider joining all columns at once using pd.concat(axis=1) instead. To get a de-fragmented frame, use `newframe = frame.copy()`\n",
      "  to.loc[:,n+'_na'] = missing[n]\n",
      "/home/jk871/drought-with-gedi/drought/lib/python3.10/site-packages/fastai/tabular/core.py:314: PerformanceWarning: DataFrame is highly fragmented.  This is usually the result of calling `frame.insert` many times, which has poor performance.  Consider joining all columns at once using pd.concat(axis=1) instead. To get a de-fragmented frame, use `newframe = frame.copy()`\n",
      "  to.loc[:,n+'_na'] = missing[n]\n",
      "/home/jk871/drought-with-gedi/drought/lib/python3.10/site-packages/fastai/tabular/core.py:314: PerformanceWarning: DataFrame is highly fragmented.  This is usually the result of calling `frame.insert` many times, which has poor performance.  Consider joining all columns at once using pd.concat(axis=1) instead. To get a de-fragmented frame, use `newframe = frame.copy()`\n",
      "  to.loc[:,n+'_na'] = missing[n]\n",
      "/home/jk871/drought-with-gedi/drought/lib/python3.10/site-packages/fastai/tabular/core.py:314: PerformanceWarning: DataFrame is highly fragmented.  This is usually the result of calling `frame.insert` many times, which has poor performance.  Consider joining all columns at once using pd.concat(axis=1) instead. To get a de-fragmented frame, use `newframe = frame.copy()`\n",
      "  to.loc[:,n+'_na'] = missing[n]\n",
      "/home/jk871/drought-with-gedi/drought/lib/python3.10/site-packages/fastai/tabular/core.py:314: PerformanceWarning: DataFrame is highly fragmented.  This is usually the result of calling `frame.insert` many times, which has poor performance.  Consider joining all columns at once using pd.concat(axis=1) instead. To get a de-fragmented frame, use `newframe = frame.copy()`\n",
      "  to.loc[:,n+'_na'] = missing[n]\n",
      "/home/jk871/drought-with-gedi/drought/lib/python3.10/site-packages/fastai/tabular/core.py:314: PerformanceWarning: DataFrame is highly fragmented.  This is usually the result of calling `frame.insert` many times, which has poor performance.  Consider joining all columns at once using pd.concat(axis=1) instead. To get a de-fragmented frame, use `newframe = frame.copy()`\n",
      "  to.loc[:,n+'_na'] = missing[n]\n",
      "/home/jk871/drought-with-gedi/drought/lib/python3.10/site-packages/fastai/tabular/core.py:314: PerformanceWarning: DataFrame is highly fragmented.  This is usually the result of calling `frame.insert` many times, which has poor performance.  Consider joining all columns at once using pd.concat(axis=1) instead. To get a de-fragmented frame, use `newframe = frame.copy()`\n",
      "  to.loc[:,n+'_na'] = missing[n]\n",
      "/home/jk871/drought-with-gedi/drought/lib/python3.10/site-packages/fastai/tabular/core.py:314: PerformanceWarning: DataFrame is highly fragmented.  This is usually the result of calling `frame.insert` many times, which has poor performance.  Consider joining all columns at once using pd.concat(axis=1) instead. To get a de-fragmented frame, use `newframe = frame.copy()`\n",
      "  to.loc[:,n+'_na'] = missing[n]\n",
      "/home/jk871/drought-with-gedi/drought/lib/python3.10/site-packages/fastai/tabular/core.py:314: PerformanceWarning: DataFrame is highly fragmented.  This is usually the result of calling `frame.insert` many times, which has poor performance.  Consider joining all columns at once using pd.concat(axis=1) instead. To get a de-fragmented frame, use `newframe = frame.copy()`\n",
      "  to.loc[:,n+'_na'] = missing[n]\n",
      "/home/jk871/drought-with-gedi/drought/lib/python3.10/site-packages/fastai/tabular/core.py:314: PerformanceWarning: DataFrame is highly fragmented.  This is usually the result of calling `frame.insert` many times, which has poor performance.  Consider joining all columns at once using pd.concat(axis=1) instead. To get a de-fragmented frame, use `newframe = frame.copy()`\n",
      "  to.loc[:,n+'_na'] = missing[n]\n",
      "/home/jk871/drought-with-gedi/drought/lib/python3.10/site-packages/fastai/tabular/core.py:314: PerformanceWarning: DataFrame is highly fragmented.  This is usually the result of calling `frame.insert` many times, which has poor performance.  Consider joining all columns at once using pd.concat(axis=1) instead. To get a de-fragmented frame, use `newframe = frame.copy()`\n",
      "  to.loc[:,n+'_na'] = missing[n]\n",
      "/home/jk871/drought-with-gedi/drought/lib/python3.10/site-packages/fastai/tabular/core.py:314: PerformanceWarning: DataFrame is highly fragmented.  This is usually the result of calling `frame.insert` many times, which has poor performance.  Consider joining all columns at once using pd.concat(axis=1) instead. To get a de-fragmented frame, use `newframe = frame.copy()`\n",
      "  to.loc[:,n+'_na'] = missing[n]\n",
      "/home/jk871/drought-with-gedi/drought/lib/python3.10/site-packages/fastai/tabular/core.py:314: PerformanceWarning: DataFrame is highly fragmented.  This is usually the result of calling `frame.insert` many times, which has poor performance.  Consider joining all columns at once using pd.concat(axis=1) instead. To get a de-fragmented frame, use `newframe = frame.copy()`\n",
      "  to.loc[:,n+'_na'] = missing[n]\n",
      "/home/jk871/drought-with-gedi/drought/lib/python3.10/site-packages/fastai/tabular/core.py:314: PerformanceWarning: DataFrame is highly fragmented.  This is usually the result of calling `frame.insert` many times, which has poor performance.  Consider joining all columns at once using pd.concat(axis=1) instead. To get a de-fragmented frame, use `newframe = frame.copy()`\n",
      "  to.loc[:,n+'_na'] = missing[n]\n",
      "/home/jk871/drought-with-gedi/drought/lib/python3.10/site-packages/fastai/tabular/core.py:314: PerformanceWarning: DataFrame is highly fragmented.  This is usually the result of calling `frame.insert` many times, which has poor performance.  Consider joining all columns at once using pd.concat(axis=1) instead. To get a de-fragmented frame, use `newframe = frame.copy()`\n",
      "  to.loc[:,n+'_na'] = missing[n]\n",
      "/home/jk871/drought-with-gedi/drought/lib/python3.10/site-packages/fastai/tabular/core.py:314: PerformanceWarning: DataFrame is highly fragmented.  This is usually the result of calling `frame.insert` many times, which has poor performance.  Consider joining all columns at once using pd.concat(axis=1) instead. To get a de-fragmented frame, use `newframe = frame.copy()`\n",
      "  to.loc[:,n+'_na'] = missing[n]\n",
      "/home/jk871/drought-with-gedi/drought/lib/python3.10/site-packages/fastai/tabular/core.py:314: PerformanceWarning: DataFrame is highly fragmented.  This is usually the result of calling `frame.insert` many times, which has poor performance.  Consider joining all columns at once using pd.concat(axis=1) instead. To get a de-fragmented frame, use `newframe = frame.copy()`\n",
      "  to.loc[:,n+'_na'] = missing[n]\n",
      "/home/jk871/drought-with-gedi/drought/lib/python3.10/site-packages/fastai/tabular/core.py:314: PerformanceWarning: DataFrame is highly fragmented.  This is usually the result of calling `frame.insert` many times, which has poor performance.  Consider joining all columns at once using pd.concat(axis=1) instead. To get a de-fragmented frame, use `newframe = frame.copy()`\n",
      "  to.loc[:,n+'_na'] = missing[n]\n",
      "/home/jk871/drought-with-gedi/drought/lib/python3.10/site-packages/fastai/tabular/core.py:314: PerformanceWarning: DataFrame is highly fragmented.  This is usually the result of calling `frame.insert` many times, which has poor performance.  Consider joining all columns at once using pd.concat(axis=1) instead. To get a de-fragmented frame, use `newframe = frame.copy()`\n",
      "  to.loc[:,n+'_na'] = missing[n]\n",
      "/home/jk871/drought-with-gedi/drought/lib/python3.10/site-packages/fastai/tabular/core.py:314: PerformanceWarning: DataFrame is highly fragmented.  This is usually the result of calling `frame.insert` many times, which has poor performance.  Consider joining all columns at once using pd.concat(axis=1) instead. To get a de-fragmented frame, use `newframe = frame.copy()`\n",
      "  to.loc[:,n+'_na'] = missing[n]\n",
      "/home/jk871/drought-with-gedi/drought/lib/python3.10/site-packages/fastai/tabular/core.py:314: PerformanceWarning: DataFrame is highly fragmented.  This is usually the result of calling `frame.insert` many times, which has poor performance.  Consider joining all columns at once using pd.concat(axis=1) instead. To get a de-fragmented frame, use `newframe = frame.copy()`\n",
      "  to.loc[:,n+'_na'] = missing[n]\n",
      "/home/jk871/drought-with-gedi/drought/lib/python3.10/site-packages/fastai/tabular/core.py:314: PerformanceWarning: DataFrame is highly fragmented.  This is usually the result of calling `frame.insert` many times, which has poor performance.  Consider joining all columns at once using pd.concat(axis=1) instead. To get a de-fragmented frame, use `newframe = frame.copy()`\n",
      "  to.loc[:,n+'_na'] = missing[n]\n",
      "/home/jk871/drought-with-gedi/drought/lib/python3.10/site-packages/fastai/tabular/core.py:314: PerformanceWarning: DataFrame is highly fragmented.  This is usually the result of calling `frame.insert` many times, which has poor performance.  Consider joining all columns at once using pd.concat(axis=1) instead. To get a de-fragmented frame, use `newframe = frame.copy()`\n",
      "  to.loc[:,n+'_na'] = missing[n]\n",
      "/home/jk871/drought-with-gedi/drought/lib/python3.10/site-packages/fastai/tabular/core.py:314: PerformanceWarning: DataFrame is highly fragmented.  This is usually the result of calling `frame.insert` many times, which has poor performance.  Consider joining all columns at once using pd.concat(axis=1) instead. To get a de-fragmented frame, use `newframe = frame.copy()`\n",
      "  to.loc[:,n+'_na'] = missing[n]\n",
      "/home/jk871/drought-with-gedi/drought/lib/python3.10/site-packages/fastai/tabular/core.py:314: PerformanceWarning: DataFrame is highly fragmented.  This is usually the result of calling `frame.insert` many times, which has poor performance.  Consider joining all columns at once using pd.concat(axis=1) instead. To get a de-fragmented frame, use `newframe = frame.copy()`\n",
      "  to.loc[:,n+'_na'] = missing[n]\n",
      "/home/jk871/drought-with-gedi/drought/lib/python3.10/site-packages/fastai/tabular/core.py:314: PerformanceWarning: DataFrame is highly fragmented.  This is usually the result of calling `frame.insert` many times, which has poor performance.  Consider joining all columns at once using pd.concat(axis=1) instead. To get a de-fragmented frame, use `newframe = frame.copy()`\n",
      "  to.loc[:,n+'_na'] = missing[n]\n",
      "/home/jk871/drought-with-gedi/drought/lib/python3.10/site-packages/fastai/tabular/core.py:314: PerformanceWarning: DataFrame is highly fragmented.  This is usually the result of calling `frame.insert` many times, which has poor performance.  Consider joining all columns at once using pd.concat(axis=1) instead. To get a de-fragmented frame, use `newframe = frame.copy()`\n",
      "  to.loc[:,n+'_na'] = missing[n]\n",
      "/home/jk871/drought-with-gedi/drought/lib/python3.10/site-packages/fastai/tabular/core.py:314: PerformanceWarning: DataFrame is highly fragmented.  This is usually the result of calling `frame.insert` many times, which has poor performance.  Consider joining all columns at once using pd.concat(axis=1) instead. To get a de-fragmented frame, use `newframe = frame.copy()`\n",
      "  to.loc[:,n+'_na'] = missing[n]\n",
      "/home/jk871/drought-with-gedi/drought/lib/python3.10/site-packages/fastai/tabular/core.py:314: PerformanceWarning: DataFrame is highly fragmented.  This is usually the result of calling `frame.insert` many times, which has poor performance.  Consider joining all columns at once using pd.concat(axis=1) instead. To get a de-fragmented frame, use `newframe = frame.copy()`\n",
      "  to.loc[:,n+'_na'] = missing[n]\n",
      "/home/jk871/drought-with-gedi/drought/lib/python3.10/site-packages/fastai/tabular/core.py:314: PerformanceWarning: DataFrame is highly fragmented.  This is usually the result of calling `frame.insert` many times, which has poor performance.  Consider joining all columns at once using pd.concat(axis=1) instead. To get a de-fragmented frame, use `newframe = frame.copy()`\n",
      "  to.loc[:,n+'_na'] = missing[n]\n",
      "/home/jk871/drought-with-gedi/drought/lib/python3.10/site-packages/fastai/tabular/core.py:314: PerformanceWarning: DataFrame is highly fragmented.  This is usually the result of calling `frame.insert` many times, which has poor performance.  Consider joining all columns at once using pd.concat(axis=1) instead. To get a de-fragmented frame, use `newframe = frame.copy()`\n",
      "  to.loc[:,n+'_na'] = missing[n]\n",
      "/home/jk871/drought-with-gedi/drought/lib/python3.10/site-packages/fastai/tabular/core.py:314: PerformanceWarning: DataFrame is highly fragmented.  This is usually the result of calling `frame.insert` many times, which has poor performance.  Consider joining all columns at once using pd.concat(axis=1) instead. To get a de-fragmented frame, use `newframe = frame.copy()`\n",
      "  to.loc[:,n+'_na'] = missing[n]\n",
      "/home/jk871/drought-with-gedi/drought/lib/python3.10/site-packages/fastai/tabular/core.py:314: PerformanceWarning: DataFrame is highly fragmented.  This is usually the result of calling `frame.insert` many times, which has poor performance.  Consider joining all columns at once using pd.concat(axis=1) instead. To get a de-fragmented frame, use `newframe = frame.copy()`\n",
      "  to.loc[:,n+'_na'] = missing[n]\n",
      "/home/jk871/drought-with-gedi/drought/lib/python3.10/site-packages/fastai/tabular/core.py:314: PerformanceWarning: DataFrame is highly fragmented.  This is usually the result of calling `frame.insert` many times, which has poor performance.  Consider joining all columns at once using pd.concat(axis=1) instead. To get a de-fragmented frame, use `newframe = frame.copy()`\n",
      "  to.loc[:,n+'_na'] = missing[n]\n",
      "/home/jk871/drought-with-gedi/drought/lib/python3.10/site-packages/fastai/tabular/core.py:314: PerformanceWarning: DataFrame is highly fragmented.  This is usually the result of calling `frame.insert` many times, which has poor performance.  Consider joining all columns at once using pd.concat(axis=1) instead. To get a de-fragmented frame, use `newframe = frame.copy()`\n",
      "  to.loc[:,n+'_na'] = missing[n]\n",
      "/home/jk871/drought-with-gedi/drought/lib/python3.10/site-packages/fastai/tabular/core.py:314: PerformanceWarning: DataFrame is highly fragmented.  This is usually the result of calling `frame.insert` many times, which has poor performance.  Consider joining all columns at once using pd.concat(axis=1) instead. To get a de-fragmented frame, use `newframe = frame.copy()`\n",
      "  to.loc[:,n+'_na'] = missing[n]\n",
      "/home/jk871/drought-with-gedi/drought/lib/python3.10/site-packages/fastai/tabular/core.py:314: PerformanceWarning: DataFrame is highly fragmented.  This is usually the result of calling `frame.insert` many times, which has poor performance.  Consider joining all columns at once using pd.concat(axis=1) instead. To get a de-fragmented frame, use `newframe = frame.copy()`\n",
      "  to.loc[:,n+'_na'] = missing[n]\n",
      "/home/jk871/drought-with-gedi/drought/lib/python3.10/site-packages/fastai/tabular/core.py:314: PerformanceWarning: DataFrame is highly fragmented.  This is usually the result of calling `frame.insert` many times, which has poor performance.  Consider joining all columns at once using pd.concat(axis=1) instead. To get a de-fragmented frame, use `newframe = frame.copy()`\n",
      "  to.loc[:,n+'_na'] = missing[n]\n",
      "/home/jk871/drought-with-gedi/drought/lib/python3.10/site-packages/fastai/tabular/core.py:314: PerformanceWarning: DataFrame is highly fragmented.  This is usually the result of calling `frame.insert` many times, which has poor performance.  Consider joining all columns at once using pd.concat(axis=1) instead. To get a de-fragmented frame, use `newframe = frame.copy()`\n",
      "  to.loc[:,n+'_na'] = missing[n]\n",
      "/home/jk871/drought-with-gedi/drought/lib/python3.10/site-packages/fastai/tabular/core.py:314: PerformanceWarning: DataFrame is highly fragmented.  This is usually the result of calling `frame.insert` many times, which has poor performance.  Consider joining all columns at once using pd.concat(axis=1) instead. To get a de-fragmented frame, use `newframe = frame.copy()`\n",
      "  to.loc[:,n+'_na'] = missing[n]\n",
      "/home/jk871/drought-with-gedi/drought/lib/python3.10/site-packages/fastai/tabular/core.py:314: PerformanceWarning: DataFrame is highly fragmented.  This is usually the result of calling `frame.insert` many times, which has poor performance.  Consider joining all columns at once using pd.concat(axis=1) instead. To get a de-fragmented frame, use `newframe = frame.copy()`\n",
      "  to.loc[:,n+'_na'] = missing[n]\n",
      "/home/jk871/drought-with-gedi/drought/lib/python3.10/site-packages/fastai/tabular/core.py:314: PerformanceWarning: DataFrame is highly fragmented.  This is usually the result of calling `frame.insert` many times, which has poor performance.  Consider joining all columns at once using pd.concat(axis=1) instead. To get a de-fragmented frame, use `newframe = frame.copy()`\n",
      "  to.loc[:,n+'_na'] = missing[n]\n",
      "/home/jk871/drought-with-gedi/drought/lib/python3.10/site-packages/fastai/tabular/core.py:314: PerformanceWarning: DataFrame is highly fragmented.  This is usually the result of calling `frame.insert` many times, which has poor performance.  Consider joining all columns at once using pd.concat(axis=1) instead. To get a de-fragmented frame, use `newframe = frame.copy()`\n",
      "  to.loc[:,n+'_na'] = missing[n]\n",
      "/home/jk871/drought-with-gedi/drought/lib/python3.10/site-packages/fastai/tabular/core.py:314: PerformanceWarning: DataFrame is highly fragmented.  This is usually the result of calling `frame.insert` many times, which has poor performance.  Consider joining all columns at once using pd.concat(axis=1) instead. To get a de-fragmented frame, use `newframe = frame.copy()`\n",
      "  to.loc[:,n+'_na'] = missing[n]\n",
      "/home/jk871/drought-with-gedi/drought/lib/python3.10/site-packages/fastai/tabular/core.py:314: PerformanceWarning: DataFrame is highly fragmented.  This is usually the result of calling `frame.insert` many times, which has poor performance.  Consider joining all columns at once using pd.concat(axis=1) instead. To get a de-fragmented frame, use `newframe = frame.copy()`\n",
      "  to.loc[:,n+'_na'] = missing[n]\n",
      "/home/jk871/drought-with-gedi/drought/lib/python3.10/site-packages/fastai/tabular/core.py:314: PerformanceWarning: DataFrame is highly fragmented.  This is usually the result of calling `frame.insert` many times, which has poor performance.  Consider joining all columns at once using pd.concat(axis=1) instead. To get a de-fragmented frame, use `newframe = frame.copy()`\n",
      "  to.loc[:,n+'_na'] = missing[n]\n",
      "/home/jk871/drought-with-gedi/drought/lib/python3.10/site-packages/fastai/tabular/core.py:314: PerformanceWarning: DataFrame is highly fragmented.  This is usually the result of calling `frame.insert` many times, which has poor performance.  Consider joining all columns at once using pd.concat(axis=1) instead. To get a de-fragmented frame, use `newframe = frame.copy()`\n",
      "  to.loc[:,n+'_na'] = missing[n]\n",
      "/home/jk871/drought-with-gedi/drought/lib/python3.10/site-packages/fastai/tabular/core.py:314: PerformanceWarning: DataFrame is highly fragmented.  This is usually the result of calling `frame.insert` many times, which has poor performance.  Consider joining all columns at once using pd.concat(axis=1) instead. To get a de-fragmented frame, use `newframe = frame.copy()`\n",
      "  to.loc[:,n+'_na'] = missing[n]\n",
      "/home/jk871/drought-with-gedi/drought/lib/python3.10/site-packages/fastai/tabular/core.py:314: PerformanceWarning: DataFrame is highly fragmented.  This is usually the result of calling `frame.insert` many times, which has poor performance.  Consider joining all columns at once using pd.concat(axis=1) instead. To get a de-fragmented frame, use `newframe = frame.copy()`\n",
      "  to.loc[:,n+'_na'] = missing[n]\n",
      "/home/jk871/drought-with-gedi/drought/lib/python3.10/site-packages/fastai/tabular/core.py:314: PerformanceWarning: DataFrame is highly fragmented.  This is usually the result of calling `frame.insert` many times, which has poor performance.  Consider joining all columns at once using pd.concat(axis=1) instead. To get a de-fragmented frame, use `newframe = frame.copy()`\n",
      "  to.loc[:,n+'_na'] = missing[n]\n",
      "/home/jk871/drought-with-gedi/drought/lib/python3.10/site-packages/fastai/tabular/core.py:314: PerformanceWarning: DataFrame is highly fragmented.  This is usually the result of calling `frame.insert` many times, which has poor performance.  Consider joining all columns at once using pd.concat(axis=1) instead. To get a de-fragmented frame, use `newframe = frame.copy()`\n",
      "  to.loc[:,n+'_na'] = missing[n]\n",
      "/home/jk871/drought-with-gedi/drought/lib/python3.10/site-packages/fastai/tabular/core.py:314: PerformanceWarning: DataFrame is highly fragmented.  This is usually the result of calling `frame.insert` many times, which has poor performance.  Consider joining all columns at once using pd.concat(axis=1) instead. To get a de-fragmented frame, use `newframe = frame.copy()`\n",
      "  to.loc[:,n+'_na'] = missing[n]\n",
      "/home/jk871/drought-with-gedi/drought/lib/python3.10/site-packages/fastai/tabular/core.py:314: PerformanceWarning: DataFrame is highly fragmented.  This is usually the result of calling `frame.insert` many times, which has poor performance.  Consider joining all columns at once using pd.concat(axis=1) instead. To get a de-fragmented frame, use `newframe = frame.copy()`\n",
      "  to.loc[:,n+'_na'] = missing[n]\n",
      "/home/jk871/drought-with-gedi/drought/lib/python3.10/site-packages/fastai/tabular/core.py:314: PerformanceWarning: DataFrame is highly fragmented.  This is usually the result of calling `frame.insert` many times, which has poor performance.  Consider joining all columns at once using pd.concat(axis=1) instead. To get a de-fragmented frame, use `newframe = frame.copy()`\n",
      "  to.loc[:,n+'_na'] = missing[n]\n",
      "/home/jk871/drought-with-gedi/drought/lib/python3.10/site-packages/fastai/tabular/core.py:314: PerformanceWarning: DataFrame is highly fragmented.  This is usually the result of calling `frame.insert` many times, which has poor performance.  Consider joining all columns at once using pd.concat(axis=1) instead. To get a de-fragmented frame, use `newframe = frame.copy()`\n",
      "  to.loc[:,n+'_na'] = missing[n]\n",
      "/home/jk871/drought-with-gedi/drought/lib/python3.10/site-packages/fastai/tabular/core.py:314: PerformanceWarning: DataFrame is highly fragmented.  This is usually the result of calling `frame.insert` many times, which has poor performance.  Consider joining all columns at once using pd.concat(axis=1) instead. To get a de-fragmented frame, use `newframe = frame.copy()`\n",
      "  to.loc[:,n+'_na'] = missing[n]\n",
      "/home/jk871/drought-with-gedi/drought/lib/python3.10/site-packages/fastai/tabular/core.py:314: PerformanceWarning: DataFrame is highly fragmented.  This is usually the result of calling `frame.insert` many times, which has poor performance.  Consider joining all columns at once using pd.concat(axis=1) instead. To get a de-fragmented frame, use `newframe = frame.copy()`\n",
      "  to.loc[:,n+'_na'] = missing[n]\n",
      "/home/jk871/drought-with-gedi/drought/lib/python3.10/site-packages/fastai/tabular/core.py:314: PerformanceWarning: DataFrame is highly fragmented.  This is usually the result of calling `frame.insert` many times, which has poor performance.  Consider joining all columns at once using pd.concat(axis=1) instead. To get a de-fragmented frame, use `newframe = frame.copy()`\n",
      "  to.loc[:,n+'_na'] = missing[n]\n",
      "/home/jk871/drought-with-gedi/drought/lib/python3.10/site-packages/fastai/tabular/core.py:314: PerformanceWarning: DataFrame is highly fragmented.  This is usually the result of calling `frame.insert` many times, which has poor performance.  Consider joining all columns at once using pd.concat(axis=1) instead. To get a de-fragmented frame, use `newframe = frame.copy()`\n",
      "  to.loc[:,n+'_na'] = missing[n]\n",
      "/home/jk871/drought-with-gedi/drought/lib/python3.10/site-packages/fastai/tabular/core.py:314: PerformanceWarning: DataFrame is highly fragmented.  This is usually the result of calling `frame.insert` many times, which has poor performance.  Consider joining all columns at once using pd.concat(axis=1) instead. To get a de-fragmented frame, use `newframe = frame.copy()`\n",
      "  to.loc[:,n+'_na'] = missing[n]\n",
      "/home/jk871/drought-with-gedi/drought/lib/python3.10/site-packages/fastai/tabular/core.py:314: PerformanceWarning: DataFrame is highly fragmented.  This is usually the result of calling `frame.insert` many times, which has poor performance.  Consider joining all columns at once using pd.concat(axis=1) instead. To get a de-fragmented frame, use `newframe = frame.copy()`\n",
      "  to.loc[:,n+'_na'] = missing[n]\n",
      "/home/jk871/drought-with-gedi/drought/lib/python3.10/site-packages/fastai/tabular/core.py:314: PerformanceWarning: DataFrame is highly fragmented.  This is usually the result of calling `frame.insert` many times, which has poor performance.  Consider joining all columns at once using pd.concat(axis=1) instead. To get a de-fragmented frame, use `newframe = frame.copy()`\n",
      "  to.loc[:,n+'_na'] = missing[n]\n",
      "/home/jk871/drought-with-gedi/drought/lib/python3.10/site-packages/fastai/tabular/core.py:314: PerformanceWarning: DataFrame is highly fragmented.  This is usually the result of calling `frame.insert` many times, which has poor performance.  Consider joining all columns at once using pd.concat(axis=1) instead. To get a de-fragmented frame, use `newframe = frame.copy()`\n",
      "  to.loc[:,n+'_na'] = missing[n]\n",
      "/home/jk871/drought-with-gedi/drought/lib/python3.10/site-packages/fastai/tabular/core.py:314: PerformanceWarning: DataFrame is highly fragmented.  This is usually the result of calling `frame.insert` many times, which has poor performance.  Consider joining all columns at once using pd.concat(axis=1) instead. To get a de-fragmented frame, use `newframe = frame.copy()`\n",
      "  to.loc[:,n+'_na'] = missing[n]\n",
      "/home/jk871/drought-with-gedi/drought/lib/python3.10/site-packages/fastai/tabular/core.py:314: PerformanceWarning: DataFrame is highly fragmented.  This is usually the result of calling `frame.insert` many times, which has poor performance.  Consider joining all columns at once using pd.concat(axis=1) instead. To get a de-fragmented frame, use `newframe = frame.copy()`\n",
      "  to.loc[:,n+'_na'] = missing[n]\n",
      "/home/jk871/drought-with-gedi/drought/lib/python3.10/site-packages/fastai/tabular/core.py:314: PerformanceWarning: DataFrame is highly fragmented.  This is usually the result of calling `frame.insert` many times, which has poor performance.  Consider joining all columns at once using pd.concat(axis=1) instead. To get a de-fragmented frame, use `newframe = frame.copy()`\n",
      "  to.loc[:,n+'_na'] = missing[n]\n",
      "/home/jk871/drought-with-gedi/drought/lib/python3.10/site-packages/fastai/tabular/core.py:314: PerformanceWarning: DataFrame is highly fragmented.  This is usually the result of calling `frame.insert` many times, which has poor performance.  Consider joining all columns at once using pd.concat(axis=1) instead. To get a de-fragmented frame, use `newframe = frame.copy()`\n",
      "  to.loc[:,n+'_na'] = missing[n]\n",
      "/home/jk871/drought-with-gedi/drought/lib/python3.10/site-packages/fastai/tabular/core.py:314: PerformanceWarning: DataFrame is highly fragmented.  This is usually the result of calling `frame.insert` many times, which has poor performance.  Consider joining all columns at once using pd.concat(axis=1) instead. To get a de-fragmented frame, use `newframe = frame.copy()`\n",
      "  to.loc[:,n+'_na'] = missing[n]\n",
      "/home/jk871/drought-with-gedi/drought/lib/python3.10/site-packages/fastai/tabular/core.py:314: PerformanceWarning: DataFrame is highly fragmented.  This is usually the result of calling `frame.insert` many times, which has poor performance.  Consider joining all columns at once using pd.concat(axis=1) instead. To get a de-fragmented frame, use `newframe = frame.copy()`\n",
      "  to.loc[:,n+'_na'] = missing[n]\n",
      "/home/jk871/drought-with-gedi/drought/lib/python3.10/site-packages/fastai/tabular/core.py:314: PerformanceWarning: DataFrame is highly fragmented.  This is usually the result of calling `frame.insert` many times, which has poor performance.  Consider joining all columns at once using pd.concat(axis=1) instead. To get a de-fragmented frame, use `newframe = frame.copy()`\n",
      "  to.loc[:,n+'_na'] = missing[n]\n",
      "/home/jk871/drought-with-gedi/drought/lib/python3.10/site-packages/fastai/tabular/core.py:314: PerformanceWarning: DataFrame is highly fragmented.  This is usually the result of calling `frame.insert` many times, which has poor performance.  Consider joining all columns at once using pd.concat(axis=1) instead. To get a de-fragmented frame, use `newframe = frame.copy()`\n",
      "  to.loc[:,n+'_na'] = missing[n]\n",
      "/home/jk871/drought-with-gedi/drought/lib/python3.10/site-packages/fastai/tabular/core.py:314: PerformanceWarning: DataFrame is highly fragmented.  This is usually the result of calling `frame.insert` many times, which has poor performance.  Consider joining all columns at once using pd.concat(axis=1) instead. To get a de-fragmented frame, use `newframe = frame.copy()`\n",
      "  to.loc[:,n+'_na'] = missing[n]\n",
      "/home/jk871/drought-with-gedi/drought/lib/python3.10/site-packages/fastai/tabular/core.py:314: PerformanceWarning: DataFrame is highly fragmented.  This is usually the result of calling `frame.insert` many times, which has poor performance.  Consider joining all columns at once using pd.concat(axis=1) instead. To get a de-fragmented frame, use `newframe = frame.copy()`\n",
      "  to.loc[:,n+'_na'] = missing[n]\n",
      "/home/jk871/drought-with-gedi/drought/lib/python3.10/site-packages/fastai/tabular/core.py:314: PerformanceWarning: DataFrame is highly fragmented.  This is usually the result of calling `frame.insert` many times, which has poor performance.  Consider joining all columns at once using pd.concat(axis=1) instead. To get a de-fragmented frame, use `newframe = frame.copy()`\n",
      "  to.loc[:,n+'_na'] = missing[n]\n",
      "/home/jk871/drought-with-gedi/drought/lib/python3.10/site-packages/fastai/tabular/core.py:314: PerformanceWarning: DataFrame is highly fragmented.  This is usually the result of calling `frame.insert` many times, which has poor performance.  Consider joining all columns at once using pd.concat(axis=1) instead. To get a de-fragmented frame, use `newframe = frame.copy()`\n",
      "  to.loc[:,n+'_na'] = missing[n]\n",
      "/home/jk871/drought-with-gedi/drought/lib/python3.10/site-packages/fastai/tabular/core.py:314: PerformanceWarning: DataFrame is highly fragmented.  This is usually the result of calling `frame.insert` many times, which has poor performance.  Consider joining all columns at once using pd.concat(axis=1) instead. To get a de-fragmented frame, use `newframe = frame.copy()`\n",
      "  to.loc[:,n+'_na'] = missing[n]\n",
      "/home/jk871/drought-with-gedi/drought/lib/python3.10/site-packages/fastai/tabular/core.py:314: PerformanceWarning: DataFrame is highly fragmented.  This is usually the result of calling `frame.insert` many times, which has poor performance.  Consider joining all columns at once using pd.concat(axis=1) instead. To get a de-fragmented frame, use `newframe = frame.copy()`\n",
      "  to.loc[:,n+'_na'] = missing[n]\n",
      "/home/jk871/drought-with-gedi/drought/lib/python3.10/site-packages/fastai/tabular/core.py:314: PerformanceWarning: DataFrame is highly fragmented.  This is usually the result of calling `frame.insert` many times, which has poor performance.  Consider joining all columns at once using pd.concat(axis=1) instead. To get a de-fragmented frame, use `newframe = frame.copy()`\n",
      "  to.loc[:,n+'_na'] = missing[n]\n",
      "/home/jk871/drought-with-gedi/drought/lib/python3.10/site-packages/fastai/tabular/core.py:314: PerformanceWarning: DataFrame is highly fragmented.  This is usually the result of calling `frame.insert` many times, which has poor performance.  Consider joining all columns at once using pd.concat(axis=1) instead. To get a de-fragmented frame, use `newframe = frame.copy()`\n",
      "  to.loc[:,n+'_na'] = missing[n]\n",
      "/home/jk871/drought-with-gedi/drought/lib/python3.10/site-packages/fastai/tabular/core.py:314: PerformanceWarning: DataFrame is highly fragmented.  This is usually the result of calling `frame.insert` many times, which has poor performance.  Consider joining all columns at once using pd.concat(axis=1) instead. To get a de-fragmented frame, use `newframe = frame.copy()`\n",
      "  to.loc[:,n+'_na'] = missing[n]\n",
      "/home/jk871/drought-with-gedi/drought/lib/python3.10/site-packages/fastai/tabular/core.py:314: PerformanceWarning: DataFrame is highly fragmented.  This is usually the result of calling `frame.insert` many times, which has poor performance.  Consider joining all columns at once using pd.concat(axis=1) instead. To get a de-fragmented frame, use `newframe = frame.copy()`\n",
      "  to.loc[:,n+'_na'] = missing[n]\n",
      "/home/jk871/drought-with-gedi/drought/lib/python3.10/site-packages/fastai/tabular/core.py:314: PerformanceWarning: DataFrame is highly fragmented.  This is usually the result of calling `frame.insert` many times, which has poor performance.  Consider joining all columns at once using pd.concat(axis=1) instead. To get a de-fragmented frame, use `newframe = frame.copy()`\n",
      "  to.loc[:,n+'_na'] = missing[n]\n",
      "/home/jk871/drought-with-gedi/drought/lib/python3.10/site-packages/fastai/tabular/core.py:314: PerformanceWarning: DataFrame is highly fragmented.  This is usually the result of calling `frame.insert` many times, which has poor performance.  Consider joining all columns at once using pd.concat(axis=1) instead. To get a de-fragmented frame, use `newframe = frame.copy()`\n",
      "  to.loc[:,n+'_na'] = missing[n]\n",
      "/home/jk871/drought-with-gedi/drought/lib/python3.10/site-packages/fastai/tabular/core.py:314: PerformanceWarning: DataFrame is highly fragmented.  This is usually the result of calling `frame.insert` many times, which has poor performance.  Consider joining all columns at once using pd.concat(axis=1) instead. To get a de-fragmented frame, use `newframe = frame.copy()`\n",
      "  to.loc[:,n+'_na'] = missing[n]\n",
      "/home/jk871/drought-with-gedi/drought/lib/python3.10/site-packages/fastai/tabular/core.py:314: PerformanceWarning: DataFrame is highly fragmented.  This is usually the result of calling `frame.insert` many times, which has poor performance.  Consider joining all columns at once using pd.concat(axis=1) instead. To get a de-fragmented frame, use `newframe = frame.copy()`\n",
      "  to.loc[:,n+'_na'] = missing[n]\n",
      "/home/jk871/drought-with-gedi/drought/lib/python3.10/site-packages/fastai/tabular/core.py:314: PerformanceWarning: DataFrame is highly fragmented.  This is usually the result of calling `frame.insert` many times, which has poor performance.  Consider joining all columns at once using pd.concat(axis=1) instead. To get a de-fragmented frame, use `newframe = frame.copy()`\n",
      "  to.loc[:,n+'_na'] = missing[n]\n",
      "/home/jk871/drought-with-gedi/drought/lib/python3.10/site-packages/fastai/tabular/core.py:314: PerformanceWarning: DataFrame is highly fragmented.  This is usually the result of calling `frame.insert` many times, which has poor performance.  Consider joining all columns at once using pd.concat(axis=1) instead. To get a de-fragmented frame, use `newframe = frame.copy()`\n",
      "  to.loc[:,n+'_na'] = missing[n]\n",
      "/home/jk871/drought-with-gedi/drought/lib/python3.10/site-packages/fastai/tabular/core.py:314: PerformanceWarning: DataFrame is highly fragmented.  This is usually the result of calling `frame.insert` many times, which has poor performance.  Consider joining all columns at once using pd.concat(axis=1) instead. To get a de-fragmented frame, use `newframe = frame.copy()`\n",
      "  to.loc[:,n+'_na'] = missing[n]\n",
      "/home/jk871/drought-with-gedi/drought/lib/python3.10/site-packages/fastai/tabular/core.py:314: PerformanceWarning: DataFrame is highly fragmented.  This is usually the result of calling `frame.insert` many times, which has poor performance.  Consider joining all columns at once using pd.concat(axis=1) instead. To get a de-fragmented frame, use `newframe = frame.copy()`\n",
      "  to.loc[:,n+'_na'] = missing[n]\n",
      "/home/jk871/drought-with-gedi/drought/lib/python3.10/site-packages/fastai/tabular/core.py:314: PerformanceWarning: DataFrame is highly fragmented.  This is usually the result of calling `frame.insert` many times, which has poor performance.  Consider joining all columns at once using pd.concat(axis=1) instead. To get a de-fragmented frame, use `newframe = frame.copy()`\n",
      "  to.loc[:,n+'_na'] = missing[n]\n",
      "/home/jk871/drought-with-gedi/drought/lib/python3.10/site-packages/fastai/tabular/core.py:314: PerformanceWarning: DataFrame is highly fragmented.  This is usually the result of calling `frame.insert` many times, which has poor performance.  Consider joining all columns at once using pd.concat(axis=1) instead. To get a de-fragmented frame, use `newframe = frame.copy()`\n",
      "  to.loc[:,n+'_na'] = missing[n]\n",
      "/home/jk871/drought-with-gedi/drought/lib/python3.10/site-packages/fastai/tabular/core.py:314: PerformanceWarning: DataFrame is highly fragmented.  This is usually the result of calling `frame.insert` many times, which has poor performance.  Consider joining all columns at once using pd.concat(axis=1) instead. To get a de-fragmented frame, use `newframe = frame.copy()`\n",
      "  to.loc[:,n+'_na'] = missing[n]\n",
      "/home/jk871/drought-with-gedi/drought/lib/python3.10/site-packages/fastai/tabular/core.py:314: PerformanceWarning: DataFrame is highly fragmented.  This is usually the result of calling `frame.insert` many times, which has poor performance.  Consider joining all columns at once using pd.concat(axis=1) instead. To get a de-fragmented frame, use `newframe = frame.copy()`\n",
      "  to.loc[:,n+'_na'] = missing[n]\n",
      "/home/jk871/drought-with-gedi/drought/lib/python3.10/site-packages/fastai/tabular/core.py:314: PerformanceWarning: DataFrame is highly fragmented.  This is usually the result of calling `frame.insert` many times, which has poor performance.  Consider joining all columns at once using pd.concat(axis=1) instead. To get a de-fragmented frame, use `newframe = frame.copy()`\n",
      "  to.loc[:,n+'_na'] = missing[n]\n"
     ]
    },
    {
     "name": "stdout",
     "output_type": "stream",
     "text": [
      "2024-02-06 05:29:13,180 DEBUG: Start model training. [in train_rf at /home/jk871/fire-regen/src/counterfactuals/rf/train.py:30]\n",
      "2024-02-06 05:37:54,347 DEBUG: Training complete. [in train_rf at /home/jk871/fire-regen/src/counterfactuals/rf/train.py:32]\n",
      "2024-02-06 05:37:59,124 INFO: Training rmse: 5.771539482983663; R^2: 0.7073536652150522 [in train_rf at /home/jk871/fire-regen/src/counterfactuals/rf/train.py:37]\n",
      "2024-02-06 05:37:59,125 INFO: Validation error: 0.6345919249392273 [in train_rf at /home/jk871/fire-regen/src/counterfactuals/rf/train.py:38]\n"
     ]
    }
   ],
   "source": [
    "m, to = train_for_var(\"rh_98\", FEATURES, df=calibration[calibration.rh_98 > 3])"
   ]
  },
  {
   "cell_type": "code",
   "execution_count": null,
   "metadata": {},
   "outputs": [
    {
     "name": "stdout",
     "output_type": "stream",
     "text": [
      "2024-02-06 05:49:45,535 INFO: PREP PREP PREP-- [in prep_data_for_rf at /home/jk871/fire-regen/src/counterfactuals/rf/train.py:51]\n"
     ]
    },
    {
     "name": "stderr",
     "output_type": "stream",
     "text": [
      "/home/jk871/drought-with-gedi/drought/lib/python3.10/site-packages/fastai/tabular/core.py:314: PerformanceWarning: DataFrame is highly fragmented.  This is usually the result of calling `frame.insert` many times, which has poor performance.  Consider joining all columns at once using pd.concat(axis=1) instead. To get a de-fragmented frame, use `newframe = frame.copy()`\n",
      "  to.loc[:,n+'_na'] = missing[n]\n",
      "/home/jk871/drought-with-gedi/drought/lib/python3.10/site-packages/fastai/tabular/core.py:314: PerformanceWarning: DataFrame is highly fragmented.  This is usually the result of calling `frame.insert` many times, which has poor performance.  Consider joining all columns at once using pd.concat(axis=1) instead. To get a de-fragmented frame, use `newframe = frame.copy()`\n",
      "  to.loc[:,n+'_na'] = missing[n]\n",
      "/home/jk871/drought-with-gedi/drought/lib/python3.10/site-packages/fastai/tabular/core.py:314: PerformanceWarning: DataFrame is highly fragmented.  This is usually the result of calling `frame.insert` many times, which has poor performance.  Consider joining all columns at once using pd.concat(axis=1) instead. To get a de-fragmented frame, use `newframe = frame.copy()`\n",
      "  to.loc[:,n+'_na'] = missing[n]\n",
      "/home/jk871/drought-with-gedi/drought/lib/python3.10/site-packages/fastai/tabular/core.py:314: PerformanceWarning: DataFrame is highly fragmented.  This is usually the result of calling `frame.insert` many times, which has poor performance.  Consider joining all columns at once using pd.concat(axis=1) instead. To get a de-fragmented frame, use `newframe = frame.copy()`\n",
      "  to.loc[:,n+'_na'] = missing[n]\n",
      "/home/jk871/drought-with-gedi/drought/lib/python3.10/site-packages/fastai/tabular/core.py:314: PerformanceWarning: DataFrame is highly fragmented.  This is usually the result of calling `frame.insert` many times, which has poor performance.  Consider joining all columns at once using pd.concat(axis=1) instead. To get a de-fragmented frame, use `newframe = frame.copy()`\n",
      "  to.loc[:,n+'_na'] = missing[n]\n",
      "/home/jk871/drought-with-gedi/drought/lib/python3.10/site-packages/fastai/tabular/core.py:314: PerformanceWarning: DataFrame is highly fragmented.  This is usually the result of calling `frame.insert` many times, which has poor performance.  Consider joining all columns at once using pd.concat(axis=1) instead. To get a de-fragmented frame, use `newframe = frame.copy()`\n",
      "  to.loc[:,n+'_na'] = missing[n]\n",
      "/home/jk871/drought-with-gedi/drought/lib/python3.10/site-packages/fastai/tabular/core.py:314: PerformanceWarning: DataFrame is highly fragmented.  This is usually the result of calling `frame.insert` many times, which has poor performance.  Consider joining all columns at once using pd.concat(axis=1) instead. To get a de-fragmented frame, use `newframe = frame.copy()`\n",
      "  to.loc[:,n+'_na'] = missing[n]\n",
      "/home/jk871/drought-with-gedi/drought/lib/python3.10/site-packages/fastai/tabular/core.py:314: PerformanceWarning: DataFrame is highly fragmented.  This is usually the result of calling `frame.insert` many times, which has poor performance.  Consider joining all columns at once using pd.concat(axis=1) instead. To get a de-fragmented frame, use `newframe = frame.copy()`\n",
      "  to.loc[:,n+'_na'] = missing[n]\n",
      "/home/jk871/drought-with-gedi/drought/lib/python3.10/site-packages/fastai/tabular/core.py:314: PerformanceWarning: DataFrame is highly fragmented.  This is usually the result of calling `frame.insert` many times, which has poor performance.  Consider joining all columns at once using pd.concat(axis=1) instead. To get a de-fragmented frame, use `newframe = frame.copy()`\n",
      "  to.loc[:,n+'_na'] = missing[n]\n",
      "/home/jk871/drought-with-gedi/drought/lib/python3.10/site-packages/fastai/tabular/core.py:314: PerformanceWarning: DataFrame is highly fragmented.  This is usually the result of calling `frame.insert` many times, which has poor performance.  Consider joining all columns at once using pd.concat(axis=1) instead. To get a de-fragmented frame, use `newframe = frame.copy()`\n",
      "  to.loc[:,n+'_na'] = missing[n]\n",
      "/home/jk871/drought-with-gedi/drought/lib/python3.10/site-packages/fastai/tabular/core.py:314: PerformanceWarning: DataFrame is highly fragmented.  This is usually the result of calling `frame.insert` many times, which has poor performance.  Consider joining all columns at once using pd.concat(axis=1) instead. To get a de-fragmented frame, use `newframe = frame.copy()`\n",
      "  to.loc[:,n+'_na'] = missing[n]\n",
      "/home/jk871/drought-with-gedi/drought/lib/python3.10/site-packages/fastai/tabular/core.py:314: PerformanceWarning: DataFrame is highly fragmented.  This is usually the result of calling `frame.insert` many times, which has poor performance.  Consider joining all columns at once using pd.concat(axis=1) instead. To get a de-fragmented frame, use `newframe = frame.copy()`\n",
      "  to.loc[:,n+'_na'] = missing[n]\n",
      "/home/jk871/drought-with-gedi/drought/lib/python3.10/site-packages/fastai/tabular/core.py:314: PerformanceWarning: DataFrame is highly fragmented.  This is usually the result of calling `frame.insert` many times, which has poor performance.  Consider joining all columns at once using pd.concat(axis=1) instead. To get a de-fragmented frame, use `newframe = frame.copy()`\n",
      "  to.loc[:,n+'_na'] = missing[n]\n",
      "/home/jk871/drought-with-gedi/drought/lib/python3.10/site-packages/fastai/tabular/core.py:314: PerformanceWarning: DataFrame is highly fragmented.  This is usually the result of calling `frame.insert` many times, which has poor performance.  Consider joining all columns at once using pd.concat(axis=1) instead. To get a de-fragmented frame, use `newframe = frame.copy()`\n",
      "  to.loc[:,n+'_na'] = missing[n]\n",
      "/home/jk871/drought-with-gedi/drought/lib/python3.10/site-packages/fastai/tabular/core.py:314: PerformanceWarning: DataFrame is highly fragmented.  This is usually the result of calling `frame.insert` many times, which has poor performance.  Consider joining all columns at once using pd.concat(axis=1) instead. To get a de-fragmented frame, use `newframe = frame.copy()`\n",
      "  to.loc[:,n+'_na'] = missing[n]\n",
      "/home/jk871/drought-with-gedi/drought/lib/python3.10/site-packages/fastai/tabular/core.py:314: PerformanceWarning: DataFrame is highly fragmented.  This is usually the result of calling `frame.insert` many times, which has poor performance.  Consider joining all columns at once using pd.concat(axis=1) instead. To get a de-fragmented frame, use `newframe = frame.copy()`\n",
      "  to.loc[:,n+'_na'] = missing[n]\n",
      "/home/jk871/drought-with-gedi/drought/lib/python3.10/site-packages/fastai/tabular/core.py:314: PerformanceWarning: DataFrame is highly fragmented.  This is usually the result of calling `frame.insert` many times, which has poor performance.  Consider joining all columns at once using pd.concat(axis=1) instead. To get a de-fragmented frame, use `newframe = frame.copy()`\n",
      "  to.loc[:,n+'_na'] = missing[n]\n",
      "/home/jk871/drought-with-gedi/drought/lib/python3.10/site-packages/fastai/tabular/core.py:314: PerformanceWarning: DataFrame is highly fragmented.  This is usually the result of calling `frame.insert` many times, which has poor performance.  Consider joining all columns at once using pd.concat(axis=1) instead. To get a de-fragmented frame, use `newframe = frame.copy()`\n",
      "  to.loc[:,n+'_na'] = missing[n]\n",
      "/home/jk871/drought-with-gedi/drought/lib/python3.10/site-packages/fastai/tabular/core.py:314: PerformanceWarning: DataFrame is highly fragmented.  This is usually the result of calling `frame.insert` many times, which has poor performance.  Consider joining all columns at once using pd.concat(axis=1) instead. To get a de-fragmented frame, use `newframe = frame.copy()`\n",
      "  to.loc[:,n+'_na'] = missing[n]\n",
      "/home/jk871/drought-with-gedi/drought/lib/python3.10/site-packages/fastai/tabular/core.py:314: PerformanceWarning: DataFrame is highly fragmented.  This is usually the result of calling `frame.insert` many times, which has poor performance.  Consider joining all columns at once using pd.concat(axis=1) instead. To get a de-fragmented frame, use `newframe = frame.copy()`\n",
      "  to.loc[:,n+'_na'] = missing[n]\n",
      "/home/jk871/drought-with-gedi/drought/lib/python3.10/site-packages/fastai/tabular/core.py:314: PerformanceWarning: DataFrame is highly fragmented.  This is usually the result of calling `frame.insert` many times, which has poor performance.  Consider joining all columns at once using pd.concat(axis=1) instead. To get a de-fragmented frame, use `newframe = frame.copy()`\n",
      "  to.loc[:,n+'_na'] = missing[n]\n",
      "/home/jk871/drought-with-gedi/drought/lib/python3.10/site-packages/fastai/tabular/core.py:314: PerformanceWarning: DataFrame is highly fragmented.  This is usually the result of calling `frame.insert` many times, which has poor performance.  Consider joining all columns at once using pd.concat(axis=1) instead. To get a de-fragmented frame, use `newframe = frame.copy()`\n",
      "  to.loc[:,n+'_na'] = missing[n]\n",
      "/home/jk871/drought-with-gedi/drought/lib/python3.10/site-packages/fastai/tabular/core.py:314: PerformanceWarning: DataFrame is highly fragmented.  This is usually the result of calling `frame.insert` many times, which has poor performance.  Consider joining all columns at once using pd.concat(axis=1) instead. To get a de-fragmented frame, use `newframe = frame.copy()`\n",
      "  to.loc[:,n+'_na'] = missing[n]\n",
      "/home/jk871/drought-with-gedi/drought/lib/python3.10/site-packages/fastai/tabular/core.py:314: PerformanceWarning: DataFrame is highly fragmented.  This is usually the result of calling `frame.insert` many times, which has poor performance.  Consider joining all columns at once using pd.concat(axis=1) instead. To get a de-fragmented frame, use `newframe = frame.copy()`\n",
      "  to.loc[:,n+'_na'] = missing[n]\n",
      "/home/jk871/drought-with-gedi/drought/lib/python3.10/site-packages/fastai/tabular/core.py:314: PerformanceWarning: DataFrame is highly fragmented.  This is usually the result of calling `frame.insert` many times, which has poor performance.  Consider joining all columns at once using pd.concat(axis=1) instead. To get a de-fragmented frame, use `newframe = frame.copy()`\n",
      "  to.loc[:,n+'_na'] = missing[n]\n",
      "/home/jk871/drought-with-gedi/drought/lib/python3.10/site-packages/fastai/tabular/core.py:314: PerformanceWarning: DataFrame is highly fragmented.  This is usually the result of calling `frame.insert` many times, which has poor performance.  Consider joining all columns at once using pd.concat(axis=1) instead. To get a de-fragmented frame, use `newframe = frame.copy()`\n",
      "  to.loc[:,n+'_na'] = missing[n]\n",
      "/home/jk871/drought-with-gedi/drought/lib/python3.10/site-packages/fastai/tabular/core.py:314: PerformanceWarning: DataFrame is highly fragmented.  This is usually the result of calling `frame.insert` many times, which has poor performance.  Consider joining all columns at once using pd.concat(axis=1) instead. To get a de-fragmented frame, use `newframe = frame.copy()`\n",
      "  to.loc[:,n+'_na'] = missing[n]\n",
      "/home/jk871/drought-with-gedi/drought/lib/python3.10/site-packages/fastai/tabular/core.py:314: PerformanceWarning: DataFrame is highly fragmented.  This is usually the result of calling `frame.insert` many times, which has poor performance.  Consider joining all columns at once using pd.concat(axis=1) instead. To get a de-fragmented frame, use `newframe = frame.copy()`\n",
      "  to.loc[:,n+'_na'] = missing[n]\n",
      "/home/jk871/drought-with-gedi/drought/lib/python3.10/site-packages/fastai/tabular/core.py:314: PerformanceWarning: DataFrame is highly fragmented.  This is usually the result of calling `frame.insert` many times, which has poor performance.  Consider joining all columns at once using pd.concat(axis=1) instead. To get a de-fragmented frame, use `newframe = frame.copy()`\n",
      "  to.loc[:,n+'_na'] = missing[n]\n",
      "/home/jk871/drought-with-gedi/drought/lib/python3.10/site-packages/fastai/tabular/core.py:314: PerformanceWarning: DataFrame is highly fragmented.  This is usually the result of calling `frame.insert` many times, which has poor performance.  Consider joining all columns at once using pd.concat(axis=1) instead. To get a de-fragmented frame, use `newframe = frame.copy()`\n",
      "  to.loc[:,n+'_na'] = missing[n]\n",
      "/home/jk871/drought-with-gedi/drought/lib/python3.10/site-packages/fastai/tabular/core.py:314: PerformanceWarning: DataFrame is highly fragmented.  This is usually the result of calling `frame.insert` many times, which has poor performance.  Consider joining all columns at once using pd.concat(axis=1) instead. To get a de-fragmented frame, use `newframe = frame.copy()`\n",
      "  to.loc[:,n+'_na'] = missing[n]\n",
      "/home/jk871/drought-with-gedi/drought/lib/python3.10/site-packages/fastai/tabular/core.py:314: PerformanceWarning: DataFrame is highly fragmented.  This is usually the result of calling `frame.insert` many times, which has poor performance.  Consider joining all columns at once using pd.concat(axis=1) instead. To get a de-fragmented frame, use `newframe = frame.copy()`\n",
      "  to.loc[:,n+'_na'] = missing[n]\n",
      "/home/jk871/drought-with-gedi/drought/lib/python3.10/site-packages/fastai/tabular/core.py:314: PerformanceWarning: DataFrame is highly fragmented.  This is usually the result of calling `frame.insert` many times, which has poor performance.  Consider joining all columns at once using pd.concat(axis=1) instead. To get a de-fragmented frame, use `newframe = frame.copy()`\n",
      "  to.loc[:,n+'_na'] = missing[n]\n",
      "/home/jk871/drought-with-gedi/drought/lib/python3.10/site-packages/fastai/tabular/core.py:314: PerformanceWarning: DataFrame is highly fragmented.  This is usually the result of calling `frame.insert` many times, which has poor performance.  Consider joining all columns at once using pd.concat(axis=1) instead. To get a de-fragmented frame, use `newframe = frame.copy()`\n",
      "  to.loc[:,n+'_na'] = missing[n]\n",
      "/home/jk871/drought-with-gedi/drought/lib/python3.10/site-packages/fastai/tabular/core.py:314: PerformanceWarning: DataFrame is highly fragmented.  This is usually the result of calling `frame.insert` many times, which has poor performance.  Consider joining all columns at once using pd.concat(axis=1) instead. To get a de-fragmented frame, use `newframe = frame.copy()`\n",
      "  to.loc[:,n+'_na'] = missing[n]\n",
      "/home/jk871/drought-with-gedi/drought/lib/python3.10/site-packages/fastai/tabular/core.py:314: PerformanceWarning: DataFrame is highly fragmented.  This is usually the result of calling `frame.insert` many times, which has poor performance.  Consider joining all columns at once using pd.concat(axis=1) instead. To get a de-fragmented frame, use `newframe = frame.copy()`\n",
      "  to.loc[:,n+'_na'] = missing[n]\n",
      "/home/jk871/drought-with-gedi/drought/lib/python3.10/site-packages/fastai/tabular/core.py:314: PerformanceWarning: DataFrame is highly fragmented.  This is usually the result of calling `frame.insert` many times, which has poor performance.  Consider joining all columns at once using pd.concat(axis=1) instead. To get a de-fragmented frame, use `newframe = frame.copy()`\n",
      "  to.loc[:,n+'_na'] = missing[n]\n",
      "/home/jk871/drought-with-gedi/drought/lib/python3.10/site-packages/fastai/tabular/core.py:314: PerformanceWarning: DataFrame is highly fragmented.  This is usually the result of calling `frame.insert` many times, which has poor performance.  Consider joining all columns at once using pd.concat(axis=1) instead. To get a de-fragmented frame, use `newframe = frame.copy()`\n",
      "  to.loc[:,n+'_na'] = missing[n]\n",
      "/home/jk871/drought-with-gedi/drought/lib/python3.10/site-packages/fastai/tabular/core.py:314: PerformanceWarning: DataFrame is highly fragmented.  This is usually the result of calling `frame.insert` many times, which has poor performance.  Consider joining all columns at once using pd.concat(axis=1) instead. To get a de-fragmented frame, use `newframe = frame.copy()`\n",
      "  to.loc[:,n+'_na'] = missing[n]\n",
      "/home/jk871/drought-with-gedi/drought/lib/python3.10/site-packages/fastai/tabular/core.py:314: PerformanceWarning: DataFrame is highly fragmented.  This is usually the result of calling `frame.insert` many times, which has poor performance.  Consider joining all columns at once using pd.concat(axis=1) instead. To get a de-fragmented frame, use `newframe = frame.copy()`\n",
      "  to.loc[:,n+'_na'] = missing[n]\n",
      "/home/jk871/drought-with-gedi/drought/lib/python3.10/site-packages/fastai/tabular/core.py:314: PerformanceWarning: DataFrame is highly fragmented.  This is usually the result of calling `frame.insert` many times, which has poor performance.  Consider joining all columns at once using pd.concat(axis=1) instead. To get a de-fragmented frame, use `newframe = frame.copy()`\n",
      "  to.loc[:,n+'_na'] = missing[n]\n",
      "/home/jk871/drought-with-gedi/drought/lib/python3.10/site-packages/fastai/tabular/core.py:314: PerformanceWarning: DataFrame is highly fragmented.  This is usually the result of calling `frame.insert` many times, which has poor performance.  Consider joining all columns at once using pd.concat(axis=1) instead. To get a de-fragmented frame, use `newframe = frame.copy()`\n",
      "  to.loc[:,n+'_na'] = missing[n]\n",
      "/home/jk871/drought-with-gedi/drought/lib/python3.10/site-packages/fastai/tabular/core.py:314: PerformanceWarning: DataFrame is highly fragmented.  This is usually the result of calling `frame.insert` many times, which has poor performance.  Consider joining all columns at once using pd.concat(axis=1) instead. To get a de-fragmented frame, use `newframe = frame.copy()`\n",
      "  to.loc[:,n+'_na'] = missing[n]\n",
      "/home/jk871/drought-with-gedi/drought/lib/python3.10/site-packages/fastai/tabular/core.py:314: PerformanceWarning: DataFrame is highly fragmented.  This is usually the result of calling `frame.insert` many times, which has poor performance.  Consider joining all columns at once using pd.concat(axis=1) instead. To get a de-fragmented frame, use `newframe = frame.copy()`\n",
      "  to.loc[:,n+'_na'] = missing[n]\n",
      "/home/jk871/drought-with-gedi/drought/lib/python3.10/site-packages/fastai/tabular/core.py:314: PerformanceWarning: DataFrame is highly fragmented.  This is usually the result of calling `frame.insert` many times, which has poor performance.  Consider joining all columns at once using pd.concat(axis=1) instead. To get a de-fragmented frame, use `newframe = frame.copy()`\n",
      "  to.loc[:,n+'_na'] = missing[n]\n",
      "/home/jk871/drought-with-gedi/drought/lib/python3.10/site-packages/fastai/tabular/core.py:314: PerformanceWarning: DataFrame is highly fragmented.  This is usually the result of calling `frame.insert` many times, which has poor performance.  Consider joining all columns at once using pd.concat(axis=1) instead. To get a de-fragmented frame, use `newframe = frame.copy()`\n",
      "  to.loc[:,n+'_na'] = missing[n]\n",
      "/home/jk871/drought-with-gedi/drought/lib/python3.10/site-packages/fastai/tabular/core.py:314: PerformanceWarning: DataFrame is highly fragmented.  This is usually the result of calling `frame.insert` many times, which has poor performance.  Consider joining all columns at once using pd.concat(axis=1) instead. To get a de-fragmented frame, use `newframe = frame.copy()`\n",
      "  to.loc[:,n+'_na'] = missing[n]\n",
      "/home/jk871/drought-with-gedi/drought/lib/python3.10/site-packages/fastai/tabular/core.py:314: PerformanceWarning: DataFrame is highly fragmented.  This is usually the result of calling `frame.insert` many times, which has poor performance.  Consider joining all columns at once using pd.concat(axis=1) instead. To get a de-fragmented frame, use `newframe = frame.copy()`\n",
      "  to.loc[:,n+'_na'] = missing[n]\n",
      "/home/jk871/drought-with-gedi/drought/lib/python3.10/site-packages/fastai/tabular/core.py:314: PerformanceWarning: DataFrame is highly fragmented.  This is usually the result of calling `frame.insert` many times, which has poor performance.  Consider joining all columns at once using pd.concat(axis=1) instead. To get a de-fragmented frame, use `newframe = frame.copy()`\n",
      "  to.loc[:,n+'_na'] = missing[n]\n",
      "/home/jk871/drought-with-gedi/drought/lib/python3.10/site-packages/fastai/tabular/core.py:314: PerformanceWarning: DataFrame is highly fragmented.  This is usually the result of calling `frame.insert` many times, which has poor performance.  Consider joining all columns at once using pd.concat(axis=1) instead. To get a de-fragmented frame, use `newframe = frame.copy()`\n",
      "  to.loc[:,n+'_na'] = missing[n]\n",
      "/home/jk871/drought-with-gedi/drought/lib/python3.10/site-packages/fastai/tabular/core.py:314: PerformanceWarning: DataFrame is highly fragmented.  This is usually the result of calling `frame.insert` many times, which has poor performance.  Consider joining all columns at once using pd.concat(axis=1) instead. To get a de-fragmented frame, use `newframe = frame.copy()`\n",
      "  to.loc[:,n+'_na'] = missing[n]\n",
      "/home/jk871/drought-with-gedi/drought/lib/python3.10/site-packages/fastai/tabular/core.py:314: PerformanceWarning: DataFrame is highly fragmented.  This is usually the result of calling `frame.insert` many times, which has poor performance.  Consider joining all columns at once using pd.concat(axis=1) instead. To get a de-fragmented frame, use `newframe = frame.copy()`\n",
      "  to.loc[:,n+'_na'] = missing[n]\n",
      "/home/jk871/drought-with-gedi/drought/lib/python3.10/site-packages/fastai/tabular/core.py:314: PerformanceWarning: DataFrame is highly fragmented.  This is usually the result of calling `frame.insert` many times, which has poor performance.  Consider joining all columns at once using pd.concat(axis=1) instead. To get a de-fragmented frame, use `newframe = frame.copy()`\n",
      "  to.loc[:,n+'_na'] = missing[n]\n",
      "/home/jk871/drought-with-gedi/drought/lib/python3.10/site-packages/fastai/tabular/core.py:314: PerformanceWarning: DataFrame is highly fragmented.  This is usually the result of calling `frame.insert` many times, which has poor performance.  Consider joining all columns at once using pd.concat(axis=1) instead. To get a de-fragmented frame, use `newframe = frame.copy()`\n",
      "  to.loc[:,n+'_na'] = missing[n]\n",
      "/home/jk871/drought-with-gedi/drought/lib/python3.10/site-packages/fastai/tabular/core.py:314: PerformanceWarning: DataFrame is highly fragmented.  This is usually the result of calling `frame.insert` many times, which has poor performance.  Consider joining all columns at once using pd.concat(axis=1) instead. To get a de-fragmented frame, use `newframe = frame.copy()`\n",
      "  to.loc[:,n+'_na'] = missing[n]\n",
      "/home/jk871/drought-with-gedi/drought/lib/python3.10/site-packages/fastai/tabular/core.py:314: PerformanceWarning: DataFrame is highly fragmented.  This is usually the result of calling `frame.insert` many times, which has poor performance.  Consider joining all columns at once using pd.concat(axis=1) instead. To get a de-fragmented frame, use `newframe = frame.copy()`\n",
      "  to.loc[:,n+'_na'] = missing[n]\n",
      "/home/jk871/drought-with-gedi/drought/lib/python3.10/site-packages/fastai/tabular/core.py:314: PerformanceWarning: DataFrame is highly fragmented.  This is usually the result of calling `frame.insert` many times, which has poor performance.  Consider joining all columns at once using pd.concat(axis=1) instead. To get a de-fragmented frame, use `newframe = frame.copy()`\n",
      "  to.loc[:,n+'_na'] = missing[n]\n",
      "/home/jk871/drought-with-gedi/drought/lib/python3.10/site-packages/fastai/tabular/core.py:314: PerformanceWarning: DataFrame is highly fragmented.  This is usually the result of calling `frame.insert` many times, which has poor performance.  Consider joining all columns at once using pd.concat(axis=1) instead. To get a de-fragmented frame, use `newframe = frame.copy()`\n",
      "  to.loc[:,n+'_na'] = missing[n]\n",
      "/home/jk871/drought-with-gedi/drought/lib/python3.10/site-packages/fastai/tabular/core.py:314: PerformanceWarning: DataFrame is highly fragmented.  This is usually the result of calling `frame.insert` many times, which has poor performance.  Consider joining all columns at once using pd.concat(axis=1) instead. To get a de-fragmented frame, use `newframe = frame.copy()`\n",
      "  to.loc[:,n+'_na'] = missing[n]\n",
      "/home/jk871/drought-with-gedi/drought/lib/python3.10/site-packages/fastai/tabular/core.py:314: PerformanceWarning: DataFrame is highly fragmented.  This is usually the result of calling `frame.insert` many times, which has poor performance.  Consider joining all columns at once using pd.concat(axis=1) instead. To get a de-fragmented frame, use `newframe = frame.copy()`\n",
      "  to.loc[:,n+'_na'] = missing[n]\n",
      "/home/jk871/drought-with-gedi/drought/lib/python3.10/site-packages/fastai/tabular/core.py:314: PerformanceWarning: DataFrame is highly fragmented.  This is usually the result of calling `frame.insert` many times, which has poor performance.  Consider joining all columns at once using pd.concat(axis=1) instead. To get a de-fragmented frame, use `newframe = frame.copy()`\n",
      "  to.loc[:,n+'_na'] = missing[n]\n",
      "/home/jk871/drought-with-gedi/drought/lib/python3.10/site-packages/fastai/tabular/core.py:314: PerformanceWarning: DataFrame is highly fragmented.  This is usually the result of calling `frame.insert` many times, which has poor performance.  Consider joining all columns at once using pd.concat(axis=1) instead. To get a de-fragmented frame, use `newframe = frame.copy()`\n",
      "  to.loc[:,n+'_na'] = missing[n]\n",
      "/home/jk871/drought-with-gedi/drought/lib/python3.10/site-packages/fastai/tabular/core.py:314: PerformanceWarning: DataFrame is highly fragmented.  This is usually the result of calling `frame.insert` many times, which has poor performance.  Consider joining all columns at once using pd.concat(axis=1) instead. To get a de-fragmented frame, use `newframe = frame.copy()`\n",
      "  to.loc[:,n+'_na'] = missing[n]\n",
      "/home/jk871/drought-with-gedi/drought/lib/python3.10/site-packages/fastai/tabular/core.py:314: PerformanceWarning: DataFrame is highly fragmented.  This is usually the result of calling `frame.insert` many times, which has poor performance.  Consider joining all columns at once using pd.concat(axis=1) instead. To get a de-fragmented frame, use `newframe = frame.copy()`\n",
      "  to.loc[:,n+'_na'] = missing[n]\n",
      "/home/jk871/drought-with-gedi/drought/lib/python3.10/site-packages/fastai/tabular/core.py:314: PerformanceWarning: DataFrame is highly fragmented.  This is usually the result of calling `frame.insert` many times, which has poor performance.  Consider joining all columns at once using pd.concat(axis=1) instead. To get a de-fragmented frame, use `newframe = frame.copy()`\n",
      "  to.loc[:,n+'_na'] = missing[n]\n",
      "/home/jk871/drought-with-gedi/drought/lib/python3.10/site-packages/fastai/tabular/core.py:314: PerformanceWarning: DataFrame is highly fragmented.  This is usually the result of calling `frame.insert` many times, which has poor performance.  Consider joining all columns at once using pd.concat(axis=1) instead. To get a de-fragmented frame, use `newframe = frame.copy()`\n",
      "  to.loc[:,n+'_na'] = missing[n]\n",
      "/home/jk871/drought-with-gedi/drought/lib/python3.10/site-packages/fastai/tabular/core.py:314: PerformanceWarning: DataFrame is highly fragmented.  This is usually the result of calling `frame.insert` many times, which has poor performance.  Consider joining all columns at once using pd.concat(axis=1) instead. To get a de-fragmented frame, use `newframe = frame.copy()`\n",
      "  to.loc[:,n+'_na'] = missing[n]\n",
      "/home/jk871/drought-with-gedi/drought/lib/python3.10/site-packages/fastai/tabular/core.py:314: PerformanceWarning: DataFrame is highly fragmented.  This is usually the result of calling `frame.insert` many times, which has poor performance.  Consider joining all columns at once using pd.concat(axis=1) instead. To get a de-fragmented frame, use `newframe = frame.copy()`\n",
      "  to.loc[:,n+'_na'] = missing[n]\n",
      "/home/jk871/drought-with-gedi/drought/lib/python3.10/site-packages/fastai/tabular/core.py:314: PerformanceWarning: DataFrame is highly fragmented.  This is usually the result of calling `frame.insert` many times, which has poor performance.  Consider joining all columns at once using pd.concat(axis=1) instead. To get a de-fragmented frame, use `newframe = frame.copy()`\n",
      "  to.loc[:,n+'_na'] = missing[n]\n",
      "/home/jk871/drought-with-gedi/drought/lib/python3.10/site-packages/fastai/tabular/core.py:314: PerformanceWarning: DataFrame is highly fragmented.  This is usually the result of calling `frame.insert` many times, which has poor performance.  Consider joining all columns at once using pd.concat(axis=1) instead. To get a de-fragmented frame, use `newframe = frame.copy()`\n",
      "  to.loc[:,n+'_na'] = missing[n]\n",
      "/home/jk871/drought-with-gedi/drought/lib/python3.10/site-packages/fastai/tabular/core.py:314: PerformanceWarning: DataFrame is highly fragmented.  This is usually the result of calling `frame.insert` many times, which has poor performance.  Consider joining all columns at once using pd.concat(axis=1) instead. To get a de-fragmented frame, use `newframe = frame.copy()`\n",
      "  to.loc[:,n+'_na'] = missing[n]\n",
      "/home/jk871/drought-with-gedi/drought/lib/python3.10/site-packages/fastai/tabular/core.py:314: PerformanceWarning: DataFrame is highly fragmented.  This is usually the result of calling `frame.insert` many times, which has poor performance.  Consider joining all columns at once using pd.concat(axis=1) instead. To get a de-fragmented frame, use `newframe = frame.copy()`\n",
      "  to.loc[:,n+'_na'] = missing[n]\n",
      "/home/jk871/drought-with-gedi/drought/lib/python3.10/site-packages/fastai/tabular/core.py:314: PerformanceWarning: DataFrame is highly fragmented.  This is usually the result of calling `frame.insert` many times, which has poor performance.  Consider joining all columns at once using pd.concat(axis=1) instead. To get a de-fragmented frame, use `newframe = frame.copy()`\n",
      "  to.loc[:,n+'_na'] = missing[n]\n",
      "/home/jk871/drought-with-gedi/drought/lib/python3.10/site-packages/fastai/tabular/core.py:314: PerformanceWarning: DataFrame is highly fragmented.  This is usually the result of calling `frame.insert` many times, which has poor performance.  Consider joining all columns at once using pd.concat(axis=1) instead. To get a de-fragmented frame, use `newframe = frame.copy()`\n",
      "  to.loc[:,n+'_na'] = missing[n]\n",
      "/home/jk871/drought-with-gedi/drought/lib/python3.10/site-packages/fastai/tabular/core.py:314: PerformanceWarning: DataFrame is highly fragmented.  This is usually the result of calling `frame.insert` many times, which has poor performance.  Consider joining all columns at once using pd.concat(axis=1) instead. To get a de-fragmented frame, use `newframe = frame.copy()`\n",
      "  to.loc[:,n+'_na'] = missing[n]\n",
      "/home/jk871/drought-with-gedi/drought/lib/python3.10/site-packages/fastai/tabular/core.py:314: PerformanceWarning: DataFrame is highly fragmented.  This is usually the result of calling `frame.insert` many times, which has poor performance.  Consider joining all columns at once using pd.concat(axis=1) instead. To get a de-fragmented frame, use `newframe = frame.copy()`\n",
      "  to.loc[:,n+'_na'] = missing[n]\n",
      "/home/jk871/drought-with-gedi/drought/lib/python3.10/site-packages/fastai/tabular/core.py:314: PerformanceWarning: DataFrame is highly fragmented.  This is usually the result of calling `frame.insert` many times, which has poor performance.  Consider joining all columns at once using pd.concat(axis=1) instead. To get a de-fragmented frame, use `newframe = frame.copy()`\n",
      "  to.loc[:,n+'_na'] = missing[n]\n",
      "/home/jk871/drought-with-gedi/drought/lib/python3.10/site-packages/fastai/tabular/core.py:314: PerformanceWarning: DataFrame is highly fragmented.  This is usually the result of calling `frame.insert` many times, which has poor performance.  Consider joining all columns at once using pd.concat(axis=1) instead. To get a de-fragmented frame, use `newframe = frame.copy()`\n",
      "  to.loc[:,n+'_na'] = missing[n]\n",
      "/home/jk871/drought-with-gedi/drought/lib/python3.10/site-packages/fastai/tabular/core.py:314: PerformanceWarning: DataFrame is highly fragmented.  This is usually the result of calling `frame.insert` many times, which has poor performance.  Consider joining all columns at once using pd.concat(axis=1) instead. To get a de-fragmented frame, use `newframe = frame.copy()`\n",
      "  to.loc[:,n+'_na'] = missing[n]\n",
      "/home/jk871/drought-with-gedi/drought/lib/python3.10/site-packages/fastai/tabular/core.py:314: PerformanceWarning: DataFrame is highly fragmented.  This is usually the result of calling `frame.insert` many times, which has poor performance.  Consider joining all columns at once using pd.concat(axis=1) instead. To get a de-fragmented frame, use `newframe = frame.copy()`\n",
      "  to.loc[:,n+'_na'] = missing[n]\n",
      "/home/jk871/drought-with-gedi/drought/lib/python3.10/site-packages/fastai/tabular/core.py:314: PerformanceWarning: DataFrame is highly fragmented.  This is usually the result of calling `frame.insert` many times, which has poor performance.  Consider joining all columns at once using pd.concat(axis=1) instead. To get a de-fragmented frame, use `newframe = frame.copy()`\n",
      "  to.loc[:,n+'_na'] = missing[n]\n",
      "/home/jk871/drought-with-gedi/drought/lib/python3.10/site-packages/fastai/tabular/core.py:314: PerformanceWarning: DataFrame is highly fragmented.  This is usually the result of calling `frame.insert` many times, which has poor performance.  Consider joining all columns at once using pd.concat(axis=1) instead. To get a de-fragmented frame, use `newframe = frame.copy()`\n",
      "  to.loc[:,n+'_na'] = missing[n]\n",
      "/home/jk871/drought-with-gedi/drought/lib/python3.10/site-packages/fastai/tabular/core.py:314: PerformanceWarning: DataFrame is highly fragmented.  This is usually the result of calling `frame.insert` many times, which has poor performance.  Consider joining all columns at once using pd.concat(axis=1) instead. To get a de-fragmented frame, use `newframe = frame.copy()`\n",
      "  to.loc[:,n+'_na'] = missing[n]\n",
      "/home/jk871/drought-with-gedi/drought/lib/python3.10/site-packages/fastai/tabular/core.py:314: PerformanceWarning: DataFrame is highly fragmented.  This is usually the result of calling `frame.insert` many times, which has poor performance.  Consider joining all columns at once using pd.concat(axis=1) instead. To get a de-fragmented frame, use `newframe = frame.copy()`\n",
      "  to.loc[:,n+'_na'] = missing[n]\n",
      "/home/jk871/drought-with-gedi/drought/lib/python3.10/site-packages/fastai/tabular/core.py:314: PerformanceWarning: DataFrame is highly fragmented.  This is usually the result of calling `frame.insert` many times, which has poor performance.  Consider joining all columns at once using pd.concat(axis=1) instead. To get a de-fragmented frame, use `newframe = frame.copy()`\n",
      "  to.loc[:,n+'_na'] = missing[n]\n",
      "/home/jk871/drought-with-gedi/drought/lib/python3.10/site-packages/fastai/tabular/core.py:314: PerformanceWarning: DataFrame is highly fragmented.  This is usually the result of calling `frame.insert` many times, which has poor performance.  Consider joining all columns at once using pd.concat(axis=1) instead. To get a de-fragmented frame, use `newframe = frame.copy()`\n",
      "  to.loc[:,n+'_na'] = missing[n]\n",
      "/home/jk871/drought-with-gedi/drought/lib/python3.10/site-packages/fastai/tabular/core.py:314: PerformanceWarning: DataFrame is highly fragmented.  This is usually the result of calling `frame.insert` many times, which has poor performance.  Consider joining all columns at once using pd.concat(axis=1) instead. To get a de-fragmented frame, use `newframe = frame.copy()`\n",
      "  to.loc[:,n+'_na'] = missing[n]\n",
      "/home/jk871/drought-with-gedi/drought/lib/python3.10/site-packages/fastai/tabular/core.py:314: PerformanceWarning: DataFrame is highly fragmented.  This is usually the result of calling `frame.insert` many times, which has poor performance.  Consider joining all columns at once using pd.concat(axis=1) instead. To get a de-fragmented frame, use `newframe = frame.copy()`\n",
      "  to.loc[:,n+'_na'] = missing[n]\n",
      "/home/jk871/drought-with-gedi/drought/lib/python3.10/site-packages/fastai/tabular/core.py:314: PerformanceWarning: DataFrame is highly fragmented.  This is usually the result of calling `frame.insert` many times, which has poor performance.  Consider joining all columns at once using pd.concat(axis=1) instead. To get a de-fragmented frame, use `newframe = frame.copy()`\n",
      "  to.loc[:,n+'_na'] = missing[n]\n",
      "/home/jk871/drought-with-gedi/drought/lib/python3.10/site-packages/fastai/tabular/core.py:314: PerformanceWarning: DataFrame is highly fragmented.  This is usually the result of calling `frame.insert` many times, which has poor performance.  Consider joining all columns at once using pd.concat(axis=1) instead. To get a de-fragmented frame, use `newframe = frame.copy()`\n",
      "  to.loc[:,n+'_na'] = missing[n]\n",
      "/home/jk871/drought-with-gedi/drought/lib/python3.10/site-packages/fastai/tabular/core.py:314: PerformanceWarning: DataFrame is highly fragmented.  This is usually the result of calling `frame.insert` many times, which has poor performance.  Consider joining all columns at once using pd.concat(axis=1) instead. To get a de-fragmented frame, use `newframe = frame.copy()`\n",
      "  to.loc[:,n+'_na'] = missing[n]\n",
      "/home/jk871/drought-with-gedi/drought/lib/python3.10/site-packages/fastai/tabular/core.py:314: PerformanceWarning: DataFrame is highly fragmented.  This is usually the result of calling `frame.insert` many times, which has poor performance.  Consider joining all columns at once using pd.concat(axis=1) instead. To get a de-fragmented frame, use `newframe = frame.copy()`\n",
      "  to.loc[:,n+'_na'] = missing[n]\n",
      "/home/jk871/drought-with-gedi/drought/lib/python3.10/site-packages/fastai/tabular/core.py:314: PerformanceWarning: DataFrame is highly fragmented.  This is usually the result of calling `frame.insert` many times, which has poor performance.  Consider joining all columns at once using pd.concat(axis=1) instead. To get a de-fragmented frame, use `newframe = frame.copy()`\n",
      "  to.loc[:,n+'_na'] = missing[n]\n",
      "/home/jk871/drought-with-gedi/drought/lib/python3.10/site-packages/fastai/tabular/core.py:314: PerformanceWarning: DataFrame is highly fragmented.  This is usually the result of calling `frame.insert` many times, which has poor performance.  Consider joining all columns at once using pd.concat(axis=1) instead. To get a de-fragmented frame, use `newframe = frame.copy()`\n",
      "  to.loc[:,n+'_na'] = missing[n]\n",
      "/home/jk871/drought-with-gedi/drought/lib/python3.10/site-packages/fastai/tabular/core.py:314: PerformanceWarning: DataFrame is highly fragmented.  This is usually the result of calling `frame.insert` many times, which has poor performance.  Consider joining all columns at once using pd.concat(axis=1) instead. To get a de-fragmented frame, use `newframe = frame.copy()`\n",
      "  to.loc[:,n+'_na'] = missing[n]\n",
      "/home/jk871/drought-with-gedi/drought/lib/python3.10/site-packages/fastai/tabular/core.py:314: PerformanceWarning: DataFrame is highly fragmented.  This is usually the result of calling `frame.insert` many times, which has poor performance.  Consider joining all columns at once using pd.concat(axis=1) instead. To get a de-fragmented frame, use `newframe = frame.copy()`\n",
      "  to.loc[:,n+'_na'] = missing[n]\n"
     ]
    }
   ],
   "source": [
    "calibration_tall = calibration[calibration.rh_98 > 3]\n",
    "to_test = train.prep_data_for_rf(calibration_tall, FEATURES, \"rh_98\")"
   ]
  },
  {
   "cell_type": "code",
   "execution_count": null,
   "metadata": {},
   "outputs": [],
   "source": [
    "calibration_tall[\"rh_98_cf\"] = m.predict(to_test.train.xs)"
   ]
  },
  {
   "cell_type": "code",
   "execution_count": null,
   "metadata": {},
   "outputs": [
    {
     "data": {
      "text/plain": [
       "5.56663246332941"
      ]
     },
     "execution_count": 29,
     "metadata": {},
     "output_type": "execute_result"
    }
   ],
   "source": [
    "rmse(calibration.rh_98, calibration.rh_98_cf)"
   ]
  },
  {
   "cell_type": "code",
   "execution_count": null,
   "metadata": {},
   "outputs": [
    {
     "data": {
      "text/plain": [
       "0.740622632179973"
      ]
     },
     "execution_count": 30,
     "metadata": {},
     "output_type": "execute_result"
    }
   ],
   "source": [
    "r_squared(calibration.rh_98, calibration.rh_98_cf)"
   ]
  },
  {
   "cell_type": "code",
   "execution_count": null,
   "metadata": {},
   "outputs": [
    {
     "name": "stdout",
     "output_type": "stream",
     "text": [
      "2024-02-06 05:48:22,231 INFO: PREP PREP PREP-- [in prep_data_for_rf at /home/jk871/fire-regen/src/counterfactuals/rf/train.py:51]\n"
     ]
    },
    {
     "name": "stderr",
     "output_type": "stream",
     "text": [
      "/home/jk871/drought-with-gedi/drought/lib/python3.10/site-packages/fastai/tabular/core.py:314: PerformanceWarning: DataFrame is highly fragmented.  This is usually the result of calling `frame.insert` many times, which has poor performance.  Consider joining all columns at once using pd.concat(axis=1) instead. To get a de-fragmented frame, use `newframe = frame.copy()`\n",
      "  to.loc[:,n+'_na'] = missing[n]\n",
      "/home/jk871/drought-with-gedi/drought/lib/python3.10/site-packages/fastai/tabular/core.py:314: PerformanceWarning: DataFrame is highly fragmented.  This is usually the result of calling `frame.insert` many times, which has poor performance.  Consider joining all columns at once using pd.concat(axis=1) instead. To get a de-fragmented frame, use `newframe = frame.copy()`\n",
      "  to.loc[:,n+'_na'] = missing[n]\n",
      "/home/jk871/drought-with-gedi/drought/lib/python3.10/site-packages/fastai/tabular/core.py:314: PerformanceWarning: DataFrame is highly fragmented.  This is usually the result of calling `frame.insert` many times, which has poor performance.  Consider joining all columns at once using pd.concat(axis=1) instead. To get a de-fragmented frame, use `newframe = frame.copy()`\n",
      "  to.loc[:,n+'_na'] = missing[n]\n",
      "/home/jk871/drought-with-gedi/drought/lib/python3.10/site-packages/fastai/tabular/core.py:314: PerformanceWarning: DataFrame is highly fragmented.  This is usually the result of calling `frame.insert` many times, which has poor performance.  Consider joining all columns at once using pd.concat(axis=1) instead. To get a de-fragmented frame, use `newframe = frame.copy()`\n",
      "  to.loc[:,n+'_na'] = missing[n]\n",
      "/home/jk871/drought-with-gedi/drought/lib/python3.10/site-packages/fastai/tabular/core.py:314: PerformanceWarning: DataFrame is highly fragmented.  This is usually the result of calling `frame.insert` many times, which has poor performance.  Consider joining all columns at once using pd.concat(axis=1) instead. To get a de-fragmented frame, use `newframe = frame.copy()`\n",
      "  to.loc[:,n+'_na'] = missing[n]\n",
      "/home/jk871/drought-with-gedi/drought/lib/python3.10/site-packages/fastai/tabular/core.py:314: PerformanceWarning: DataFrame is highly fragmented.  This is usually the result of calling `frame.insert` many times, which has poor performance.  Consider joining all columns at once using pd.concat(axis=1) instead. To get a de-fragmented frame, use `newframe = frame.copy()`\n",
      "  to.loc[:,n+'_na'] = missing[n]\n",
      "/home/jk871/drought-with-gedi/drought/lib/python3.10/site-packages/fastai/tabular/core.py:314: PerformanceWarning: DataFrame is highly fragmented.  This is usually the result of calling `frame.insert` many times, which has poor performance.  Consider joining all columns at once using pd.concat(axis=1) instead. To get a de-fragmented frame, use `newframe = frame.copy()`\n",
      "  to.loc[:,n+'_na'] = missing[n]\n",
      "/home/jk871/drought-with-gedi/drought/lib/python3.10/site-packages/fastai/tabular/core.py:314: PerformanceWarning: DataFrame is highly fragmented.  This is usually the result of calling `frame.insert` many times, which has poor performance.  Consider joining all columns at once using pd.concat(axis=1) instead. To get a de-fragmented frame, use `newframe = frame.copy()`\n",
      "  to.loc[:,n+'_na'] = missing[n]\n",
      "/home/jk871/drought-with-gedi/drought/lib/python3.10/site-packages/fastai/tabular/core.py:314: PerformanceWarning: DataFrame is highly fragmented.  This is usually the result of calling `frame.insert` many times, which has poor performance.  Consider joining all columns at once using pd.concat(axis=1) instead. To get a de-fragmented frame, use `newframe = frame.copy()`\n",
      "  to.loc[:,n+'_na'] = missing[n]\n",
      "/home/jk871/drought-with-gedi/drought/lib/python3.10/site-packages/fastai/tabular/core.py:314: PerformanceWarning: DataFrame is highly fragmented.  This is usually the result of calling `frame.insert` many times, which has poor performance.  Consider joining all columns at once using pd.concat(axis=1) instead. To get a de-fragmented frame, use `newframe = frame.copy()`\n",
      "  to.loc[:,n+'_na'] = missing[n]\n",
      "/home/jk871/drought-with-gedi/drought/lib/python3.10/site-packages/fastai/tabular/core.py:314: PerformanceWarning: DataFrame is highly fragmented.  This is usually the result of calling `frame.insert` many times, which has poor performance.  Consider joining all columns at once using pd.concat(axis=1) instead. To get a de-fragmented frame, use `newframe = frame.copy()`\n",
      "  to.loc[:,n+'_na'] = missing[n]\n",
      "/home/jk871/drought-with-gedi/drought/lib/python3.10/site-packages/fastai/tabular/core.py:314: PerformanceWarning: DataFrame is highly fragmented.  This is usually the result of calling `frame.insert` many times, which has poor performance.  Consider joining all columns at once using pd.concat(axis=1) instead. To get a de-fragmented frame, use `newframe = frame.copy()`\n",
      "  to.loc[:,n+'_na'] = missing[n]\n",
      "/home/jk871/drought-with-gedi/drought/lib/python3.10/site-packages/fastai/tabular/core.py:314: PerformanceWarning: DataFrame is highly fragmented.  This is usually the result of calling `frame.insert` many times, which has poor performance.  Consider joining all columns at once using pd.concat(axis=1) instead. To get a de-fragmented frame, use `newframe = frame.copy()`\n",
      "  to.loc[:,n+'_na'] = missing[n]\n",
      "/home/jk871/drought-with-gedi/drought/lib/python3.10/site-packages/fastai/tabular/core.py:314: PerformanceWarning: DataFrame is highly fragmented.  This is usually the result of calling `frame.insert` many times, which has poor performance.  Consider joining all columns at once using pd.concat(axis=1) instead. To get a de-fragmented frame, use `newframe = frame.copy()`\n",
      "  to.loc[:,n+'_na'] = missing[n]\n",
      "/home/jk871/drought-with-gedi/drought/lib/python3.10/site-packages/fastai/tabular/core.py:314: PerformanceWarning: DataFrame is highly fragmented.  This is usually the result of calling `frame.insert` many times, which has poor performance.  Consider joining all columns at once using pd.concat(axis=1) instead. To get a de-fragmented frame, use `newframe = frame.copy()`\n",
      "  to.loc[:,n+'_na'] = missing[n]\n",
      "/home/jk871/drought-with-gedi/drought/lib/python3.10/site-packages/fastai/tabular/core.py:314: PerformanceWarning: DataFrame is highly fragmented.  This is usually the result of calling `frame.insert` many times, which has poor performance.  Consider joining all columns at once using pd.concat(axis=1) instead. To get a de-fragmented frame, use `newframe = frame.copy()`\n",
      "  to.loc[:,n+'_na'] = missing[n]\n",
      "/home/jk871/drought-with-gedi/drought/lib/python3.10/site-packages/fastai/tabular/core.py:314: PerformanceWarning: DataFrame is highly fragmented.  This is usually the result of calling `frame.insert` many times, which has poor performance.  Consider joining all columns at once using pd.concat(axis=1) instead. To get a de-fragmented frame, use `newframe = frame.copy()`\n",
      "  to.loc[:,n+'_na'] = missing[n]\n",
      "/home/jk871/drought-with-gedi/drought/lib/python3.10/site-packages/fastai/tabular/core.py:314: PerformanceWarning: DataFrame is highly fragmented.  This is usually the result of calling `frame.insert` many times, which has poor performance.  Consider joining all columns at once using pd.concat(axis=1) instead. To get a de-fragmented frame, use `newframe = frame.copy()`\n",
      "  to.loc[:,n+'_na'] = missing[n]\n",
      "/home/jk871/drought-with-gedi/drought/lib/python3.10/site-packages/fastai/tabular/core.py:314: PerformanceWarning: DataFrame is highly fragmented.  This is usually the result of calling `frame.insert` many times, which has poor performance.  Consider joining all columns at once using pd.concat(axis=1) instead. To get a de-fragmented frame, use `newframe = frame.copy()`\n",
      "  to.loc[:,n+'_na'] = missing[n]\n",
      "/home/jk871/drought-with-gedi/drought/lib/python3.10/site-packages/fastai/tabular/core.py:314: PerformanceWarning: DataFrame is highly fragmented.  This is usually the result of calling `frame.insert` many times, which has poor performance.  Consider joining all columns at once using pd.concat(axis=1) instead. To get a de-fragmented frame, use `newframe = frame.copy()`\n",
      "  to.loc[:,n+'_na'] = missing[n]\n",
      "/home/jk871/drought-with-gedi/drought/lib/python3.10/site-packages/fastai/tabular/core.py:314: PerformanceWarning: DataFrame is highly fragmented.  This is usually the result of calling `frame.insert` many times, which has poor performance.  Consider joining all columns at once using pd.concat(axis=1) instead. To get a de-fragmented frame, use `newframe = frame.copy()`\n",
      "  to.loc[:,n+'_na'] = missing[n]\n",
      "/home/jk871/drought-with-gedi/drought/lib/python3.10/site-packages/fastai/tabular/core.py:314: PerformanceWarning: DataFrame is highly fragmented.  This is usually the result of calling `frame.insert` many times, which has poor performance.  Consider joining all columns at once using pd.concat(axis=1) instead. To get a de-fragmented frame, use `newframe = frame.copy()`\n",
      "  to.loc[:,n+'_na'] = missing[n]\n",
      "/home/jk871/drought-with-gedi/drought/lib/python3.10/site-packages/fastai/tabular/core.py:314: PerformanceWarning: DataFrame is highly fragmented.  This is usually the result of calling `frame.insert` many times, which has poor performance.  Consider joining all columns at once using pd.concat(axis=1) instead. To get a de-fragmented frame, use `newframe = frame.copy()`\n",
      "  to.loc[:,n+'_na'] = missing[n]\n",
      "/home/jk871/drought-with-gedi/drought/lib/python3.10/site-packages/fastai/tabular/core.py:314: PerformanceWarning: DataFrame is highly fragmented.  This is usually the result of calling `frame.insert` many times, which has poor performance.  Consider joining all columns at once using pd.concat(axis=1) instead. To get a de-fragmented frame, use `newframe = frame.copy()`\n",
      "  to.loc[:,n+'_na'] = missing[n]\n",
      "/home/jk871/drought-with-gedi/drought/lib/python3.10/site-packages/fastai/tabular/core.py:314: PerformanceWarning: DataFrame is highly fragmented.  This is usually the result of calling `frame.insert` many times, which has poor performance.  Consider joining all columns at once using pd.concat(axis=1) instead. To get a de-fragmented frame, use `newframe = frame.copy()`\n",
      "  to.loc[:,n+'_na'] = missing[n]\n",
      "/home/jk871/drought-with-gedi/drought/lib/python3.10/site-packages/fastai/tabular/core.py:314: PerformanceWarning: DataFrame is highly fragmented.  This is usually the result of calling `frame.insert` many times, which has poor performance.  Consider joining all columns at once using pd.concat(axis=1) instead. To get a de-fragmented frame, use `newframe = frame.copy()`\n",
      "  to.loc[:,n+'_na'] = missing[n]\n",
      "/home/jk871/drought-with-gedi/drought/lib/python3.10/site-packages/fastai/tabular/core.py:314: PerformanceWarning: DataFrame is highly fragmented.  This is usually the result of calling `frame.insert` many times, which has poor performance.  Consider joining all columns at once using pd.concat(axis=1) instead. To get a de-fragmented frame, use `newframe = frame.copy()`\n",
      "  to.loc[:,n+'_na'] = missing[n]\n",
      "/home/jk871/drought-with-gedi/drought/lib/python3.10/site-packages/fastai/tabular/core.py:314: PerformanceWarning: DataFrame is highly fragmented.  This is usually the result of calling `frame.insert` many times, which has poor performance.  Consider joining all columns at once using pd.concat(axis=1) instead. To get a de-fragmented frame, use `newframe = frame.copy()`\n",
      "  to.loc[:,n+'_na'] = missing[n]\n",
      "/home/jk871/drought-with-gedi/drought/lib/python3.10/site-packages/fastai/tabular/core.py:314: PerformanceWarning: DataFrame is highly fragmented.  This is usually the result of calling `frame.insert` many times, which has poor performance.  Consider joining all columns at once using pd.concat(axis=1) instead. To get a de-fragmented frame, use `newframe = frame.copy()`\n",
      "  to.loc[:,n+'_na'] = missing[n]\n",
      "/home/jk871/drought-with-gedi/drought/lib/python3.10/site-packages/fastai/tabular/core.py:314: PerformanceWarning: DataFrame is highly fragmented.  This is usually the result of calling `frame.insert` many times, which has poor performance.  Consider joining all columns at once using pd.concat(axis=1) instead. To get a de-fragmented frame, use `newframe = frame.copy()`\n",
      "  to.loc[:,n+'_na'] = missing[n]\n",
      "/home/jk871/drought-with-gedi/drought/lib/python3.10/site-packages/fastai/tabular/core.py:314: PerformanceWarning: DataFrame is highly fragmented.  This is usually the result of calling `frame.insert` many times, which has poor performance.  Consider joining all columns at once using pd.concat(axis=1) instead. To get a de-fragmented frame, use `newframe = frame.copy()`\n",
      "  to.loc[:,n+'_na'] = missing[n]\n",
      "/home/jk871/drought-with-gedi/drought/lib/python3.10/site-packages/fastai/tabular/core.py:314: PerformanceWarning: DataFrame is highly fragmented.  This is usually the result of calling `frame.insert` many times, which has poor performance.  Consider joining all columns at once using pd.concat(axis=1) instead. To get a de-fragmented frame, use `newframe = frame.copy()`\n",
      "  to.loc[:,n+'_na'] = missing[n]\n",
      "/home/jk871/drought-with-gedi/drought/lib/python3.10/site-packages/fastai/tabular/core.py:314: PerformanceWarning: DataFrame is highly fragmented.  This is usually the result of calling `frame.insert` many times, which has poor performance.  Consider joining all columns at once using pd.concat(axis=1) instead. To get a de-fragmented frame, use `newframe = frame.copy()`\n",
      "  to.loc[:,n+'_na'] = missing[n]\n",
      "/home/jk871/drought-with-gedi/drought/lib/python3.10/site-packages/fastai/tabular/core.py:314: PerformanceWarning: DataFrame is highly fragmented.  This is usually the result of calling `frame.insert` many times, which has poor performance.  Consider joining all columns at once using pd.concat(axis=1) instead. To get a de-fragmented frame, use `newframe = frame.copy()`\n",
      "  to.loc[:,n+'_na'] = missing[n]\n",
      "/home/jk871/drought-with-gedi/drought/lib/python3.10/site-packages/fastai/tabular/core.py:314: PerformanceWarning: DataFrame is highly fragmented.  This is usually the result of calling `frame.insert` many times, which has poor performance.  Consider joining all columns at once using pd.concat(axis=1) instead. To get a de-fragmented frame, use `newframe = frame.copy()`\n",
      "  to.loc[:,n+'_na'] = missing[n]\n",
      "/home/jk871/drought-with-gedi/drought/lib/python3.10/site-packages/fastai/tabular/core.py:314: PerformanceWarning: DataFrame is highly fragmented.  This is usually the result of calling `frame.insert` many times, which has poor performance.  Consider joining all columns at once using pd.concat(axis=1) instead. To get a de-fragmented frame, use `newframe = frame.copy()`\n",
      "  to.loc[:,n+'_na'] = missing[n]\n",
      "/home/jk871/drought-with-gedi/drought/lib/python3.10/site-packages/fastai/tabular/core.py:314: PerformanceWarning: DataFrame is highly fragmented.  This is usually the result of calling `frame.insert` many times, which has poor performance.  Consider joining all columns at once using pd.concat(axis=1) instead. To get a de-fragmented frame, use `newframe = frame.copy()`\n",
      "  to.loc[:,n+'_na'] = missing[n]\n",
      "/home/jk871/drought-with-gedi/drought/lib/python3.10/site-packages/fastai/tabular/core.py:314: PerformanceWarning: DataFrame is highly fragmented.  This is usually the result of calling `frame.insert` many times, which has poor performance.  Consider joining all columns at once using pd.concat(axis=1) instead. To get a de-fragmented frame, use `newframe = frame.copy()`\n",
      "  to.loc[:,n+'_na'] = missing[n]\n",
      "/home/jk871/drought-with-gedi/drought/lib/python3.10/site-packages/fastai/tabular/core.py:314: PerformanceWarning: DataFrame is highly fragmented.  This is usually the result of calling `frame.insert` many times, which has poor performance.  Consider joining all columns at once using pd.concat(axis=1) instead. To get a de-fragmented frame, use `newframe = frame.copy()`\n",
      "  to.loc[:,n+'_na'] = missing[n]\n",
      "/home/jk871/drought-with-gedi/drought/lib/python3.10/site-packages/fastai/tabular/core.py:314: PerformanceWarning: DataFrame is highly fragmented.  This is usually the result of calling `frame.insert` many times, which has poor performance.  Consider joining all columns at once using pd.concat(axis=1) instead. To get a de-fragmented frame, use `newframe = frame.copy()`\n",
      "  to.loc[:,n+'_na'] = missing[n]\n",
      "/home/jk871/drought-with-gedi/drought/lib/python3.10/site-packages/fastai/tabular/core.py:314: PerformanceWarning: DataFrame is highly fragmented.  This is usually the result of calling `frame.insert` many times, which has poor performance.  Consider joining all columns at once using pd.concat(axis=1) instead. To get a de-fragmented frame, use `newframe = frame.copy()`\n",
      "  to.loc[:,n+'_na'] = missing[n]\n",
      "/home/jk871/drought-with-gedi/drought/lib/python3.10/site-packages/fastai/tabular/core.py:314: PerformanceWarning: DataFrame is highly fragmented.  This is usually the result of calling `frame.insert` many times, which has poor performance.  Consider joining all columns at once using pd.concat(axis=1) instead. To get a de-fragmented frame, use `newframe = frame.copy()`\n",
      "  to.loc[:,n+'_na'] = missing[n]\n",
      "/home/jk871/drought-with-gedi/drought/lib/python3.10/site-packages/fastai/tabular/core.py:314: PerformanceWarning: DataFrame is highly fragmented.  This is usually the result of calling `frame.insert` many times, which has poor performance.  Consider joining all columns at once using pd.concat(axis=1) instead. To get a de-fragmented frame, use `newframe = frame.copy()`\n",
      "  to.loc[:,n+'_na'] = missing[n]\n",
      "/home/jk871/drought-with-gedi/drought/lib/python3.10/site-packages/fastai/tabular/core.py:314: PerformanceWarning: DataFrame is highly fragmented.  This is usually the result of calling `frame.insert` many times, which has poor performance.  Consider joining all columns at once using pd.concat(axis=1) instead. To get a de-fragmented frame, use `newframe = frame.copy()`\n",
      "  to.loc[:,n+'_na'] = missing[n]\n",
      "/home/jk871/drought-with-gedi/drought/lib/python3.10/site-packages/fastai/tabular/core.py:314: PerformanceWarning: DataFrame is highly fragmented.  This is usually the result of calling `frame.insert` many times, which has poor performance.  Consider joining all columns at once using pd.concat(axis=1) instead. To get a de-fragmented frame, use `newframe = frame.copy()`\n",
      "  to.loc[:,n+'_na'] = missing[n]\n",
      "/home/jk871/drought-with-gedi/drought/lib/python3.10/site-packages/fastai/tabular/core.py:314: PerformanceWarning: DataFrame is highly fragmented.  This is usually the result of calling `frame.insert` many times, which has poor performance.  Consider joining all columns at once using pd.concat(axis=1) instead. To get a de-fragmented frame, use `newframe = frame.copy()`\n",
      "  to.loc[:,n+'_na'] = missing[n]\n",
      "/home/jk871/drought-with-gedi/drought/lib/python3.10/site-packages/fastai/tabular/core.py:314: PerformanceWarning: DataFrame is highly fragmented.  This is usually the result of calling `frame.insert` many times, which has poor performance.  Consider joining all columns at once using pd.concat(axis=1) instead. To get a de-fragmented frame, use `newframe = frame.copy()`\n",
      "  to.loc[:,n+'_na'] = missing[n]\n",
      "/home/jk871/drought-with-gedi/drought/lib/python3.10/site-packages/fastai/tabular/core.py:314: PerformanceWarning: DataFrame is highly fragmented.  This is usually the result of calling `frame.insert` many times, which has poor performance.  Consider joining all columns at once using pd.concat(axis=1) instead. To get a de-fragmented frame, use `newframe = frame.copy()`\n",
      "  to.loc[:,n+'_na'] = missing[n]\n",
      "/home/jk871/drought-with-gedi/drought/lib/python3.10/site-packages/fastai/tabular/core.py:314: PerformanceWarning: DataFrame is highly fragmented.  This is usually the result of calling `frame.insert` many times, which has poor performance.  Consider joining all columns at once using pd.concat(axis=1) instead. To get a de-fragmented frame, use `newframe = frame.copy()`\n",
      "  to.loc[:,n+'_na'] = missing[n]\n",
      "/home/jk871/drought-with-gedi/drought/lib/python3.10/site-packages/fastai/tabular/core.py:314: PerformanceWarning: DataFrame is highly fragmented.  This is usually the result of calling `frame.insert` many times, which has poor performance.  Consider joining all columns at once using pd.concat(axis=1) instead. To get a de-fragmented frame, use `newframe = frame.copy()`\n",
      "  to.loc[:,n+'_na'] = missing[n]\n",
      "/home/jk871/drought-with-gedi/drought/lib/python3.10/site-packages/fastai/tabular/core.py:314: PerformanceWarning: DataFrame is highly fragmented.  This is usually the result of calling `frame.insert` many times, which has poor performance.  Consider joining all columns at once using pd.concat(axis=1) instead. To get a de-fragmented frame, use `newframe = frame.copy()`\n",
      "  to.loc[:,n+'_na'] = missing[n]\n",
      "/home/jk871/drought-with-gedi/drought/lib/python3.10/site-packages/fastai/tabular/core.py:314: PerformanceWarning: DataFrame is highly fragmented.  This is usually the result of calling `frame.insert` many times, which has poor performance.  Consider joining all columns at once using pd.concat(axis=1) instead. To get a de-fragmented frame, use `newframe = frame.copy()`\n",
      "  to.loc[:,n+'_na'] = missing[n]\n",
      "/home/jk871/drought-with-gedi/drought/lib/python3.10/site-packages/fastai/tabular/core.py:314: PerformanceWarning: DataFrame is highly fragmented.  This is usually the result of calling `frame.insert` many times, which has poor performance.  Consider joining all columns at once using pd.concat(axis=1) instead. To get a de-fragmented frame, use `newframe = frame.copy()`\n",
      "  to.loc[:,n+'_na'] = missing[n]\n",
      "/home/jk871/drought-with-gedi/drought/lib/python3.10/site-packages/fastai/tabular/core.py:314: PerformanceWarning: DataFrame is highly fragmented.  This is usually the result of calling `frame.insert` many times, which has poor performance.  Consider joining all columns at once using pd.concat(axis=1) instead. To get a de-fragmented frame, use `newframe = frame.copy()`\n",
      "  to.loc[:,n+'_na'] = missing[n]\n",
      "/home/jk871/drought-with-gedi/drought/lib/python3.10/site-packages/fastai/tabular/core.py:314: PerformanceWarning: DataFrame is highly fragmented.  This is usually the result of calling `frame.insert` many times, which has poor performance.  Consider joining all columns at once using pd.concat(axis=1) instead. To get a de-fragmented frame, use `newframe = frame.copy()`\n",
      "  to.loc[:,n+'_na'] = missing[n]\n",
      "/home/jk871/drought-with-gedi/drought/lib/python3.10/site-packages/fastai/tabular/core.py:314: PerformanceWarning: DataFrame is highly fragmented.  This is usually the result of calling `frame.insert` many times, which has poor performance.  Consider joining all columns at once using pd.concat(axis=1) instead. To get a de-fragmented frame, use `newframe = frame.copy()`\n",
      "  to.loc[:,n+'_na'] = missing[n]\n",
      "/home/jk871/drought-with-gedi/drought/lib/python3.10/site-packages/fastai/tabular/core.py:314: PerformanceWarning: DataFrame is highly fragmented.  This is usually the result of calling `frame.insert` many times, which has poor performance.  Consider joining all columns at once using pd.concat(axis=1) instead. To get a de-fragmented frame, use `newframe = frame.copy()`\n",
      "  to.loc[:,n+'_na'] = missing[n]\n",
      "/home/jk871/drought-with-gedi/drought/lib/python3.10/site-packages/fastai/tabular/core.py:314: PerformanceWarning: DataFrame is highly fragmented.  This is usually the result of calling `frame.insert` many times, which has poor performance.  Consider joining all columns at once using pd.concat(axis=1) instead. To get a de-fragmented frame, use `newframe = frame.copy()`\n",
      "  to.loc[:,n+'_na'] = missing[n]\n",
      "/home/jk871/drought-with-gedi/drought/lib/python3.10/site-packages/fastai/tabular/core.py:314: PerformanceWarning: DataFrame is highly fragmented.  This is usually the result of calling `frame.insert` many times, which has poor performance.  Consider joining all columns at once using pd.concat(axis=1) instead. To get a de-fragmented frame, use `newframe = frame.copy()`\n",
      "  to.loc[:,n+'_na'] = missing[n]\n",
      "/home/jk871/drought-with-gedi/drought/lib/python3.10/site-packages/fastai/tabular/core.py:314: PerformanceWarning: DataFrame is highly fragmented.  This is usually the result of calling `frame.insert` many times, which has poor performance.  Consider joining all columns at once using pd.concat(axis=1) instead. To get a de-fragmented frame, use `newframe = frame.copy()`\n",
      "  to.loc[:,n+'_na'] = missing[n]\n",
      "/home/jk871/drought-with-gedi/drought/lib/python3.10/site-packages/fastai/tabular/core.py:314: PerformanceWarning: DataFrame is highly fragmented.  This is usually the result of calling `frame.insert` many times, which has poor performance.  Consider joining all columns at once using pd.concat(axis=1) instead. To get a de-fragmented frame, use `newframe = frame.copy()`\n",
      "  to.loc[:,n+'_na'] = missing[n]\n",
      "/home/jk871/drought-with-gedi/drought/lib/python3.10/site-packages/fastai/tabular/core.py:314: PerformanceWarning: DataFrame is highly fragmented.  This is usually the result of calling `frame.insert` many times, which has poor performance.  Consider joining all columns at once using pd.concat(axis=1) instead. To get a de-fragmented frame, use `newframe = frame.copy()`\n",
      "  to.loc[:,n+'_na'] = missing[n]\n",
      "/home/jk871/drought-with-gedi/drought/lib/python3.10/site-packages/fastai/tabular/core.py:314: PerformanceWarning: DataFrame is highly fragmented.  This is usually the result of calling `frame.insert` many times, which has poor performance.  Consider joining all columns at once using pd.concat(axis=1) instead. To get a de-fragmented frame, use `newframe = frame.copy()`\n",
      "  to.loc[:,n+'_na'] = missing[n]\n",
      "/home/jk871/drought-with-gedi/drought/lib/python3.10/site-packages/fastai/tabular/core.py:314: PerformanceWarning: DataFrame is highly fragmented.  This is usually the result of calling `frame.insert` many times, which has poor performance.  Consider joining all columns at once using pd.concat(axis=1) instead. To get a de-fragmented frame, use `newframe = frame.copy()`\n",
      "  to.loc[:,n+'_na'] = missing[n]\n",
      "/home/jk871/drought-with-gedi/drought/lib/python3.10/site-packages/fastai/tabular/core.py:314: PerformanceWarning: DataFrame is highly fragmented.  This is usually the result of calling `frame.insert` many times, which has poor performance.  Consider joining all columns at once using pd.concat(axis=1) instead. To get a de-fragmented frame, use `newframe = frame.copy()`\n",
      "  to.loc[:,n+'_na'] = missing[n]\n",
      "/home/jk871/drought-with-gedi/drought/lib/python3.10/site-packages/fastai/tabular/core.py:314: PerformanceWarning: DataFrame is highly fragmented.  This is usually the result of calling `frame.insert` many times, which has poor performance.  Consider joining all columns at once using pd.concat(axis=1) instead. To get a de-fragmented frame, use `newframe = frame.copy()`\n",
      "  to.loc[:,n+'_na'] = missing[n]\n",
      "/home/jk871/drought-with-gedi/drought/lib/python3.10/site-packages/fastai/tabular/core.py:314: PerformanceWarning: DataFrame is highly fragmented.  This is usually the result of calling `frame.insert` many times, which has poor performance.  Consider joining all columns at once using pd.concat(axis=1) instead. To get a de-fragmented frame, use `newframe = frame.copy()`\n",
      "  to.loc[:,n+'_na'] = missing[n]\n",
      "/home/jk871/drought-with-gedi/drought/lib/python3.10/site-packages/fastai/tabular/core.py:314: PerformanceWarning: DataFrame is highly fragmented.  This is usually the result of calling `frame.insert` many times, which has poor performance.  Consider joining all columns at once using pd.concat(axis=1) instead. To get a de-fragmented frame, use `newframe = frame.copy()`\n",
      "  to.loc[:,n+'_na'] = missing[n]\n",
      "/home/jk871/drought-with-gedi/drought/lib/python3.10/site-packages/fastai/tabular/core.py:314: PerformanceWarning: DataFrame is highly fragmented.  This is usually the result of calling `frame.insert` many times, which has poor performance.  Consider joining all columns at once using pd.concat(axis=1) instead. To get a de-fragmented frame, use `newframe = frame.copy()`\n",
      "  to.loc[:,n+'_na'] = missing[n]\n",
      "/home/jk871/drought-with-gedi/drought/lib/python3.10/site-packages/fastai/tabular/core.py:314: PerformanceWarning: DataFrame is highly fragmented.  This is usually the result of calling `frame.insert` many times, which has poor performance.  Consider joining all columns at once using pd.concat(axis=1) instead. To get a de-fragmented frame, use `newframe = frame.copy()`\n",
      "  to.loc[:,n+'_na'] = missing[n]\n",
      "/home/jk871/drought-with-gedi/drought/lib/python3.10/site-packages/fastai/tabular/core.py:314: PerformanceWarning: DataFrame is highly fragmented.  This is usually the result of calling `frame.insert` many times, which has poor performance.  Consider joining all columns at once using pd.concat(axis=1) instead. To get a de-fragmented frame, use `newframe = frame.copy()`\n",
      "  to.loc[:,n+'_na'] = missing[n]\n",
      "/home/jk871/drought-with-gedi/drought/lib/python3.10/site-packages/fastai/tabular/core.py:314: PerformanceWarning: DataFrame is highly fragmented.  This is usually the result of calling `frame.insert` many times, which has poor performance.  Consider joining all columns at once using pd.concat(axis=1) instead. To get a de-fragmented frame, use `newframe = frame.copy()`\n",
      "  to.loc[:,n+'_na'] = missing[n]\n",
      "/home/jk871/drought-with-gedi/drought/lib/python3.10/site-packages/fastai/tabular/core.py:314: PerformanceWarning: DataFrame is highly fragmented.  This is usually the result of calling `frame.insert` many times, which has poor performance.  Consider joining all columns at once using pd.concat(axis=1) instead. To get a de-fragmented frame, use `newframe = frame.copy()`\n",
      "  to.loc[:,n+'_na'] = missing[n]\n",
      "/home/jk871/drought-with-gedi/drought/lib/python3.10/site-packages/fastai/tabular/core.py:314: PerformanceWarning: DataFrame is highly fragmented.  This is usually the result of calling `frame.insert` many times, which has poor performance.  Consider joining all columns at once using pd.concat(axis=1) instead. To get a de-fragmented frame, use `newframe = frame.copy()`\n",
      "  to.loc[:,n+'_na'] = missing[n]\n",
      "/home/jk871/drought-with-gedi/drought/lib/python3.10/site-packages/fastai/tabular/core.py:314: PerformanceWarning: DataFrame is highly fragmented.  This is usually the result of calling `frame.insert` many times, which has poor performance.  Consider joining all columns at once using pd.concat(axis=1) instead. To get a de-fragmented frame, use `newframe = frame.copy()`\n",
      "  to.loc[:,n+'_na'] = missing[n]\n",
      "/home/jk871/drought-with-gedi/drought/lib/python3.10/site-packages/fastai/tabular/core.py:314: PerformanceWarning: DataFrame is highly fragmented.  This is usually the result of calling `frame.insert` many times, which has poor performance.  Consider joining all columns at once using pd.concat(axis=1) instead. To get a de-fragmented frame, use `newframe = frame.copy()`\n",
      "  to.loc[:,n+'_na'] = missing[n]\n",
      "/home/jk871/drought-with-gedi/drought/lib/python3.10/site-packages/fastai/tabular/core.py:314: PerformanceWarning: DataFrame is highly fragmented.  This is usually the result of calling `frame.insert` many times, which has poor performance.  Consider joining all columns at once using pd.concat(axis=1) instead. To get a de-fragmented frame, use `newframe = frame.copy()`\n",
      "  to.loc[:,n+'_na'] = missing[n]\n",
      "/home/jk871/drought-with-gedi/drought/lib/python3.10/site-packages/fastai/tabular/core.py:314: PerformanceWarning: DataFrame is highly fragmented.  This is usually the result of calling `frame.insert` many times, which has poor performance.  Consider joining all columns at once using pd.concat(axis=1) instead. To get a de-fragmented frame, use `newframe = frame.copy()`\n",
      "  to.loc[:,n+'_na'] = missing[n]\n",
      "/home/jk871/drought-with-gedi/drought/lib/python3.10/site-packages/fastai/tabular/core.py:314: PerformanceWarning: DataFrame is highly fragmented.  This is usually the result of calling `frame.insert` many times, which has poor performance.  Consider joining all columns at once using pd.concat(axis=1) instead. To get a de-fragmented frame, use `newframe = frame.copy()`\n",
      "  to.loc[:,n+'_na'] = missing[n]\n",
      "/home/jk871/drought-with-gedi/drought/lib/python3.10/site-packages/fastai/tabular/core.py:314: PerformanceWarning: DataFrame is highly fragmented.  This is usually the result of calling `frame.insert` many times, which has poor performance.  Consider joining all columns at once using pd.concat(axis=1) instead. To get a de-fragmented frame, use `newframe = frame.copy()`\n",
      "  to.loc[:,n+'_na'] = missing[n]\n",
      "/home/jk871/drought-with-gedi/drought/lib/python3.10/site-packages/fastai/tabular/core.py:314: PerformanceWarning: DataFrame is highly fragmented.  This is usually the result of calling `frame.insert` many times, which has poor performance.  Consider joining all columns at once using pd.concat(axis=1) instead. To get a de-fragmented frame, use `newframe = frame.copy()`\n",
      "  to.loc[:,n+'_na'] = missing[n]\n",
      "/home/jk871/drought-with-gedi/drought/lib/python3.10/site-packages/fastai/tabular/core.py:314: PerformanceWarning: DataFrame is highly fragmented.  This is usually the result of calling `frame.insert` many times, which has poor performance.  Consider joining all columns at once using pd.concat(axis=1) instead. To get a de-fragmented frame, use `newframe = frame.copy()`\n",
      "  to.loc[:,n+'_na'] = missing[n]\n",
      "/home/jk871/drought-with-gedi/drought/lib/python3.10/site-packages/fastai/tabular/core.py:314: PerformanceWarning: DataFrame is highly fragmented.  This is usually the result of calling `frame.insert` many times, which has poor performance.  Consider joining all columns at once using pd.concat(axis=1) instead. To get a de-fragmented frame, use `newframe = frame.copy()`\n",
      "  to.loc[:,n+'_na'] = missing[n]\n",
      "/home/jk871/drought-with-gedi/drought/lib/python3.10/site-packages/fastai/tabular/core.py:314: PerformanceWarning: DataFrame is highly fragmented.  This is usually the result of calling `frame.insert` many times, which has poor performance.  Consider joining all columns at once using pd.concat(axis=1) instead. To get a de-fragmented frame, use `newframe = frame.copy()`\n",
      "  to.loc[:,n+'_na'] = missing[n]\n",
      "/home/jk871/drought-with-gedi/drought/lib/python3.10/site-packages/fastai/tabular/core.py:314: PerformanceWarning: DataFrame is highly fragmented.  This is usually the result of calling `frame.insert` many times, which has poor performance.  Consider joining all columns at once using pd.concat(axis=1) instead. To get a de-fragmented frame, use `newframe = frame.copy()`\n",
      "  to.loc[:,n+'_na'] = missing[n]\n",
      "/home/jk871/drought-with-gedi/drought/lib/python3.10/site-packages/fastai/tabular/core.py:314: PerformanceWarning: DataFrame is highly fragmented.  This is usually the result of calling `frame.insert` many times, which has poor performance.  Consider joining all columns at once using pd.concat(axis=1) instead. To get a de-fragmented frame, use `newframe = frame.copy()`\n",
      "  to.loc[:,n+'_na'] = missing[n]\n",
      "/home/jk871/drought-with-gedi/drought/lib/python3.10/site-packages/fastai/tabular/core.py:314: PerformanceWarning: DataFrame is highly fragmented.  This is usually the result of calling `frame.insert` many times, which has poor performance.  Consider joining all columns at once using pd.concat(axis=1) instead. To get a de-fragmented frame, use `newframe = frame.copy()`\n",
      "  to.loc[:,n+'_na'] = missing[n]\n",
      "/home/jk871/drought-with-gedi/drought/lib/python3.10/site-packages/fastai/tabular/core.py:314: PerformanceWarning: DataFrame is highly fragmented.  This is usually the result of calling `frame.insert` many times, which has poor performance.  Consider joining all columns at once using pd.concat(axis=1) instead. To get a de-fragmented frame, use `newframe = frame.copy()`\n",
      "  to.loc[:,n+'_na'] = missing[n]\n",
      "/home/jk871/drought-with-gedi/drought/lib/python3.10/site-packages/fastai/tabular/core.py:314: PerformanceWarning: DataFrame is highly fragmented.  This is usually the result of calling `frame.insert` many times, which has poor performance.  Consider joining all columns at once using pd.concat(axis=1) instead. To get a de-fragmented frame, use `newframe = frame.copy()`\n",
      "  to.loc[:,n+'_na'] = missing[n]\n",
      "/home/jk871/drought-with-gedi/drought/lib/python3.10/site-packages/fastai/tabular/core.py:314: PerformanceWarning: DataFrame is highly fragmented.  This is usually the result of calling `frame.insert` many times, which has poor performance.  Consider joining all columns at once using pd.concat(axis=1) instead. To get a de-fragmented frame, use `newframe = frame.copy()`\n",
      "  to.loc[:,n+'_na'] = missing[n]\n",
      "/home/jk871/drought-with-gedi/drought/lib/python3.10/site-packages/fastai/tabular/core.py:314: PerformanceWarning: DataFrame is highly fragmented.  This is usually the result of calling `frame.insert` many times, which has poor performance.  Consider joining all columns at once using pd.concat(axis=1) instead. To get a de-fragmented frame, use `newframe = frame.copy()`\n",
      "  to.loc[:,n+'_na'] = missing[n]\n",
      "/home/jk871/drought-with-gedi/drought/lib/python3.10/site-packages/fastai/tabular/core.py:314: PerformanceWarning: DataFrame is highly fragmented.  This is usually the result of calling `frame.insert` many times, which has poor performance.  Consider joining all columns at once using pd.concat(axis=1) instead. To get a de-fragmented frame, use `newframe = frame.copy()`\n",
      "  to.loc[:,n+'_na'] = missing[n]\n",
      "/home/jk871/drought-with-gedi/drought/lib/python3.10/site-packages/fastai/tabular/core.py:314: PerformanceWarning: DataFrame is highly fragmented.  This is usually the result of calling `frame.insert` many times, which has poor performance.  Consider joining all columns at once using pd.concat(axis=1) instead. To get a de-fragmented frame, use `newframe = frame.copy()`\n",
      "  to.loc[:,n+'_na'] = missing[n]\n",
      "/home/jk871/drought-with-gedi/drought/lib/python3.10/site-packages/fastai/tabular/core.py:314: PerformanceWarning: DataFrame is highly fragmented.  This is usually the result of calling `frame.insert` many times, which has poor performance.  Consider joining all columns at once using pd.concat(axis=1) instead. To get a de-fragmented frame, use `newframe = frame.copy()`\n",
      "  to.loc[:,n+'_na'] = missing[n]\n",
      "/home/jk871/drought-with-gedi/drought/lib/python3.10/site-packages/fastai/tabular/core.py:314: PerformanceWarning: DataFrame is highly fragmented.  This is usually the result of calling `frame.insert` many times, which has poor performance.  Consider joining all columns at once using pd.concat(axis=1) instead. To get a de-fragmented frame, use `newframe = frame.copy()`\n",
      "  to.loc[:,n+'_na'] = missing[n]\n",
      "/home/jk871/drought-with-gedi/drought/lib/python3.10/site-packages/fastai/tabular/core.py:314: PerformanceWarning: DataFrame is highly fragmented.  This is usually the result of calling `frame.insert` many times, which has poor performance.  Consider joining all columns at once using pd.concat(axis=1) instead. To get a de-fragmented frame, use `newframe = frame.copy()`\n",
      "  to.loc[:,n+'_na'] = missing[n]\n"
     ]
    }
   ],
   "source": [
    "get_cf(\"rh_98\", m, FEATURES, df=calibration[calibration.rh_98 > 3], tf=test_ds)"
   ]
  },
  {
   "cell_type": "code",
   "execution_count": null,
   "metadata": {},
   "outputs": [
    {
     "name": "stdout",
     "output_type": "stream",
     "text": [
      "Evaluating Placebo Set 1:\n",
      "RMSE: 7.838384793969203\n",
      "R^2: 0.4802985747168427\n",
      "RMA regression: (0.4668240421555384, 1.588101876795923)\n"
     ]
    },
    {
     "data": {
      "image/png": "[encoded data removed]",
      "text/plain": [
       "<Figure size 1080x360 with 1 Axes>"
      ]
     },
     "metadata": {},
     "output_type": "display_data"
    }
   ],
   "source": [
    "evaluate_placebo_set(\"rh_98\", test_ds)"
   ]
  },
  {
   "cell_type": "code",
   "execution_count": null,
   "metadata": {},
   "outputs": [
    {
     "name": "stdout",
     "output_type": "stream",
     "text": [
      "[0.0, 100.0, 0.0, 100.0]\n"
     ]
    },
    {
     "data": {
      "text/plain": [
       "(0.0, 50.0)"
      ]
     },
     "execution_count": 44,
     "metadata": {},
     "output_type": "execute_result"
    },
    {
     "data": {
      "image/png": "[encoded data removed]",
      "text/plain": [
       "<Figure size 1080x1080 with 1 Axes>"
      ]
     },
     "metadata": {},
     "output_type": "display_data"
    }
   ],
   "source": [
    "heatmap, xedges, yedges = np.histogram2d(calibration_tall.rh_98, calibration_tall.rh_98_cf, bins=100, range=[[0, 100], [0, 100]])\n",
    "extent = [xedges[0], xedges[-1], yedges[0], yedges[-1]]\n",
    "print(extent)\n",
    "\n",
    "fig, ax = plt.subplots(1, 1, figsize=(15, 15))\n",
    "plt.imshow(heatmap.T, extent=extent, origin='lower', cmap=plt.cm.inferno)\n",
    "fig.set_facecolor(\"white\")\n",
    "plt.gcf().set_facecolor(\"white\")\n",
    "ax.set_xlim((0, 50))\n",
    "ax.set_ylim((0, 50))"
   ]
  },
  {
   "cell_type": "markdown",
   "metadata": {},
   "source": [
    "# Monthly Landsat with Tree Canopy Cover"
   ]
  },
  {
   "cell_type": "code",
   "execution_count": 5,
   "metadata": {},
   "outputs": [],
   "source": [
    "year = 2019\n",
    "test_ds = load_pickle(f\"{INPUT_PATH}/set1/placebo_aug_monthly_landsat_{year}.pkl\")\n",
    "calibration_ds = load_pickle(f\"{INPUT_PATH}/set1/calibration_aug_monthly_landsat_{year}.pkl\")"
   ]
  },
  {
   "cell_type": "code",
   "execution_count": 6,
   "metadata": {},
   "outputs": [],
   "source": [
    "test_ds[\"NDVI_2020\"] = test_landsat_simple.NDVI_2020\n",
    "calibration_ds[\"NDVI_2020\"] = calibration_landsat_simple.NDVI_2020"
   ]
  },
  {
   "cell_type": "code",
   "execution_count": 7,
   "metadata": {},
   "outputs": [],
   "source": [
    "trainer = rf.MonthlyLandsatRF(2019, additional_features=[\"tcc_2000\", \"tcc_2005\", \"tcc_2010\", \"tcc_2015\"])"
   ]
  },
  {
   "cell_type": "code",
   "execution_count": 8,
   "metadata": {},
   "outputs": [
    {
     "name": "stdout",
     "output_type": "stream",
     "text": [
      "2024-02-08 22:23:08,119 INFO: Training with features ['SR_B1_1', 'SR_B2_1', 'SR_B3_1', 'SR_B4_1', 'SR_B5_1', 'SR_B6_1', 'SR_B7_1', 'NDVI_1', 'SR_B1_2', 'SR_B2_2', 'SR_B3_2', 'SR_B4_2', 'SR_B5_2', 'SR_B6_2', 'SR_B7_2', 'NDVI_2', 'SR_B1_3', 'SR_B2_3', 'SR_B3_3', 'SR_B4_3', 'SR_B5_3', 'SR_B6_3', 'SR_B7_3', 'NDVI_3', 'SR_B1_4', 'SR_B2_4', 'SR_B3_4', 'SR_B4_4', 'SR_B5_4', 'SR_B6_4', 'SR_B7_4', 'NDVI_4', 'SR_B1_5', 'SR_B2_5', 'SR_B3_5', 'SR_B4_5', 'SR_B5_5', 'SR_B6_5', 'SR_B7_5', 'NDVI_5', 'SR_B1_6', 'SR_B2_6', 'SR_B3_6', 'SR_B4_6', 'SR_B5_6', 'SR_B6_6', 'SR_B7_6', 'NDVI_6', 'SR_B1_7', 'SR_B2_7', 'SR_B3_7', 'SR_B4_7', 'SR_B5_7', 'SR_B6_7', 'SR_B7_7', 'NDVI_7', 'SR_B1_8', 'SR_B2_8', 'SR_B3_8', 'SR_B4_8', 'SR_B5_8', 'SR_B6_8', 'SR_B7_8', 'NDVI_8', 'SR_B1_9', 'SR_B2_9', 'SR_B3_9', 'SR_B4_9', 'SR_B5_9', 'SR_B6_9', 'SR_B7_9', 'NDVI_9', 'SR_B1_10', 'SR_B2_10', 'SR_B3_10', 'SR_B4_10', 'SR_B5_10', 'SR_B6_10', 'SR_B7_10', 'NDVI_10', 'SR_B1_11', 'SR_B2_11', 'SR_B3_11', 'SR_B4_11', 'SR_B5_11', 'SR_B6_11', 'SR_B7_11', 'NDVI_11', 'SR_B1_12', 'SR_B2_12', 'SR_B3_12', 'SR_B4_12', 'SR_B5_12', 'SR_B6_12', 'SR_B7_12', 'NDVI_12', 'slope', 'elevation', 'aspect', 'tcc_2000', 'tcc_2005', 'tcc_2010', 'tcc_2015']. [in train at /home/jk871/fire-regen/src/counterfactuals/rf/rf.py:58]\n",
      "2024-02-08 22:24:17,619 INFO: PREP PREP PREP-- [in prep_data_for_rf at /home/jk871/fire-regen/src/counterfactuals/rf/train.py:76]\n",
      "2024-02-08 22:24:33,529 DEBUG: Start model training. [in train_rf at /home/jk871/fire-regen/src/counterfactuals/rf/train.py:45]\n",
      "2024-02-08 22:28:26,300 DEBUG: Training complete.\n",
      " [in train_rf at /home/jk871/fire-regen/src/counterfactuals/rf/train.py:47]\n",
      "2024-02-08 22:28:26,302 INFO: Training Accuracy: [in train_rf at /home/jk871/fire-regen/src/counterfactuals/rf/train.py:49]\n",
      "2024-02-08 22:28:27,644 INFO: RMSE: 0.019161446533604583; [in log_accuracy at /home/jk871/fire-regen/src/counterfactuals/rf/train.py:65]\n",
      "2024-02-08 22:28:27,659 INFO: R^2: 0.9790993679201037 [in log_accuracy at /home/jk871/fire-regen/src/counterfactuals/rf/train.py:66]\n",
      "2024-02-08 22:28:27,711 INFO: RMA: (0.9739172112030916, -0.6185432943186785) [in log_accuracy at /home/jk871/fire-regen/src/counterfactuals/rf/train.py:67]\n",
      "2024-02-08 22:28:27,712 INFO: Validation error: 0.974680949603192 [in train_rf at /home/jk871/fire-regen/src/counterfactuals/rf/train.py:52]\n",
      "2024-02-08 22:28:27,712 INFO: Test Accuracy: [in train_rf at /home/jk871/fire-regen/src/counterfactuals/rf/train.py:55]\n",
      "2024-02-08 22:28:28,297 INFO: RMSE: 0.025455188456744715; [in log_accuracy at /home/jk871/fire-regen/src/counterfactuals/rf/train.py:65]\n",
      "2024-02-08 22:28:28,301 INFO: R^2: 0.9546001448911499 [in log_accuracy at /home/jk871/fire-regen/src/counterfactuals/rf/train.py:66]\n",
      "2024-02-08 22:28:28,309 INFO: RMA: (0.947115122386224, -0.6311576217287495) [in log_accuracy at /home/jk871/fire-regen/src/counterfactuals/rf/train.py:67]\n"
     ]
    }
   ],
   "source": [
    "m, to = trainer.train(\"NDVI_2020\", calibration_ds, test_ds)"
   ]
  },
  {
   "cell_type": "code",
   "execution_count": 9,
   "metadata": {},
   "outputs": [
    {
     "name": "stdout",
     "output_type": "stream",
     "text": [
      "2024-02-08 22:29:04,511 INFO: Training with features ['SR_B1_1', 'SR_B2_1', 'SR_B3_1', 'SR_B4_1', 'SR_B5_1', 'SR_B6_1', 'SR_B7_1', 'NDVI_1', 'SR_B1_2', 'SR_B2_2', 'SR_B3_2', 'SR_B4_2', 'SR_B5_2', 'SR_B6_2', 'SR_B7_2', 'NDVI_2', 'SR_B1_3', 'SR_B2_3', 'SR_B3_3', 'SR_B4_3', 'SR_B5_3', 'SR_B6_3', 'SR_B7_3', 'NDVI_3', 'SR_B1_4', 'SR_B2_4', 'SR_B3_4', 'SR_B4_4', 'SR_B5_4', 'SR_B6_4', 'SR_B7_4', 'NDVI_4', 'SR_B1_5', 'SR_B2_5', 'SR_B3_5', 'SR_B4_5', 'SR_B5_5', 'SR_B6_5', 'SR_B7_5', 'NDVI_5', 'SR_B1_6', 'SR_B2_6', 'SR_B3_6', 'SR_B4_6', 'SR_B5_6', 'SR_B6_6', 'SR_B7_6', 'NDVI_6', 'SR_B1_7', 'SR_B2_7', 'SR_B3_7', 'SR_B4_7', 'SR_B5_7', 'SR_B6_7', 'SR_B7_7', 'NDVI_7', 'SR_B1_8', 'SR_B2_8', 'SR_B3_8', 'SR_B4_8', 'SR_B5_8', 'SR_B6_8', 'SR_B7_8', 'NDVI_8', 'SR_B1_9', 'SR_B2_9', 'SR_B3_9', 'SR_B4_9', 'SR_B5_9', 'SR_B6_9', 'SR_B7_9', 'NDVI_9', 'SR_B1_10', 'SR_B2_10', 'SR_B3_10', 'SR_B4_10', 'SR_B5_10', 'SR_B6_10', 'SR_B7_10', 'NDVI_10', 'SR_B1_11', 'SR_B2_11', 'SR_B3_11', 'SR_B4_11', 'SR_B5_11', 'SR_B6_11', 'SR_B7_11', 'NDVI_11', 'SR_B1_12', 'SR_B2_12', 'SR_B3_12', 'SR_B4_12', 'SR_B5_12', 'SR_B6_12', 'SR_B7_12', 'NDVI_12', 'slope', 'elevation', 'aspect', 'tcc_2000', 'tcc_2005', 'tcc_2010', 'tcc_2015']. [in train at /home/jk871/fire-regen/src/counterfactuals/rf/rf.py:58]\n",
      "2024-02-08 22:29:36,201 INFO: PREP PREP PREP-- [in prep_data_for_rf at /home/jk871/fire-regen/src/counterfactuals/rf/train.py:76]\n",
      "2024-02-08 22:29:50,947 DEBUG: Start model training. [in train_rf at /home/jk871/fire-regen/src/counterfactuals/rf/train.py:45]\n",
      "2024-02-08 22:33:45,564 DEBUG: Training complete.\n",
      " [in train_rf at /home/jk871/fire-regen/src/counterfactuals/rf/train.py:47]\n",
      "2024-02-08 22:33:45,566 INFO: Training Accuracy: [in train_rf at /home/jk871/fire-regen/src/counterfactuals/rf/train.py:49]\n",
      "2024-02-08 22:33:46,909 INFO: RMSE: 6.471057347295707; [in log_accuracy at /home/jk871/fire-regen/src/counterfactuals/rf/train.py:65]\n",
      "2024-02-08 22:33:46,924 INFO: R^2: 0.6197123308667171 [in log_accuracy at /home/jk871/fire-regen/src/counterfactuals/rf/train.py:66]\n",
      "2024-02-08 22:33:46,975 INFO: RMA: (0.5540800391691253, -2.3609991736795024) [in log_accuracy at /home/jk871/fire-regen/src/counterfactuals/rf/train.py:67]\n",
      "2024-02-08 22:33:46,975 INFO: Validation error: 0.5211932757850011 [in train_rf at /home/jk871/fire-regen/src/counterfactuals/rf/train.py:52]\n",
      "2024-02-08 22:33:46,976 INFO: Test Accuracy: [in train_rf at /home/jk871/fire-regen/src/counterfactuals/rf/train.py:55]\n",
      "2024-02-08 22:33:47,599 INFO: RMSE: 7.7626596564896415; [in log_accuracy at /home/jk871/fire-regen/src/counterfactuals/rf/train.py:65]\n",
      "2024-02-08 22:33:47,604 INFO: R^2: 0.49029154347583936 [in log_accuracy at /home/jk871/fire-regen/src/counterfactuals/rf/train.py:66]\n",
      "2024-02-08 22:33:47,621 INFO: RMA: (0.4755327470625826, 1.2353578808376469) [in log_accuracy at /home/jk871/fire-regen/src/counterfactuals/rf/train.py:67]\n"
     ]
    }
   ],
   "source": [
    "m, to = trainer.train(\"rh_98\", calibration_ds, test_ds)"
   ]
  },
  {
   "cell_type": "markdown",
   "metadata": {},
   "source": [
    "# Monthly on extended unburned dataset"
   ]
  },
  {
   "cell_type": "code",
   "execution_count": 3,
   "metadata": {},
   "outputs": [],
   "source": [
    "test_ds = load_pickle(f\"{INPUT_PATH}/set1/placebo_aug_monthly_landsat_2019.pkl\")\n",
    "calibration_ds = load_pickle(f\"{INPUT_PATH}/set1/calibration_aug_monthly_landsat_2019.pkl\")"
   ]
  },
  {
   "cell_type": "code",
   "execution_count": 47,
   "metadata": {},
   "outputs": [
    {
     "data": {
      "text/plain": [
       "<AxesSubplot: xlabel='tcc_2015', ylabel='Count'>"
      ]
     },
     "execution_count": 47,
     "metadata": {},
     "output_type": "execute_result"
    },
    {
     "data": {
      "image/png": "[encoded data removed]",
      "text/plain": [
       "<Figure size 432x288 with 1 Axes>"
      ]
     },
     "metadata": {
      "needs_background": "light"
     },
     "output_type": "display_data"
    }
   ],
   "source": [
    "sns.histplot(calibration_ds, x=\"tcc_2015\")"
   ]
  },
  {
   "cell_type": "code",
   "execution_count": 42,
   "metadata": {},
   "outputs": [],
   "source": [
    "calibration_ds = calibration_ds[calibration_ds.tcc_2015 > 30]"
   ]
  },
  {
   "cell_type": "code",
   "execution_count": 33,
   "metadata": {},
   "outputs": [
    {
     "data": {
      "text/plain": [
       "3021703"
      ]
     },
     "execution_count": 33,
     "metadata": {},
     "output_type": "execute_result"
    }
   ],
   "source": [
    "len(calibration_ds)"
   ]
  },
  {
   "cell_type": "code",
   "execution_count": 4,
   "metadata": {},
   "outputs": [],
   "source": [
    "trainer = rf.MonthlyLandsatRF(2019, additional_features=[\"tcc_2000\", \"tcc_2005\", \"tcc_2010\", \"tcc_2015\"])"
   ]
  },
  {
   "cell_type": "code",
   "execution_count": 49,
   "metadata": {},
   "outputs": [
    {
     "name": "stdout",
     "output_type": "stream",
     "text": [
      "2024-02-08 23:48:57,359 INFO: Training with features ['SR_B1_1', 'SR_B2_1', 'SR_B3_1', 'SR_B4_1', 'SR_B5_1', 'SR_B6_1', 'SR_B7_1', 'NDVI_1', 'SR_B1_2', 'SR_B2_2', 'SR_B3_2', 'SR_B4_2', 'SR_B5_2', 'SR_B6_2', 'SR_B7_2', 'NDVI_2', 'SR_B1_3', 'SR_B2_3', 'SR_B3_3', 'SR_B4_3', 'SR_B5_3', 'SR_B6_3', 'SR_B7_3', 'NDVI_3', 'SR_B1_4', 'SR_B2_4', 'SR_B3_4', 'SR_B4_4', 'SR_B5_4', 'SR_B6_4', 'SR_B7_4', 'NDVI_4', 'SR_B1_5', 'SR_B2_5', 'SR_B3_5', 'SR_B4_5', 'SR_B5_5', 'SR_B6_5', 'SR_B7_5', 'NDVI_5', 'SR_B1_6', 'SR_B2_6', 'SR_B3_6', 'SR_B4_6', 'SR_B5_6', 'SR_B6_6', 'SR_B7_6', 'NDVI_6', 'SR_B1_7', 'SR_B2_7', 'SR_B3_7', 'SR_B4_7', 'SR_B5_7', 'SR_B6_7', 'SR_B7_7', 'NDVI_7', 'SR_B1_8', 'SR_B2_8', 'SR_B3_8', 'SR_B4_8', 'SR_B5_8', 'SR_B6_8', 'SR_B7_8', 'NDVI_8', 'SR_B1_9', 'SR_B2_9', 'SR_B3_9', 'SR_B4_9', 'SR_B5_9', 'SR_B6_9', 'SR_B7_9', 'NDVI_9', 'SR_B1_10', 'SR_B2_10', 'SR_B3_10', 'SR_B4_10', 'SR_B5_10', 'SR_B6_10', 'SR_B7_10', 'NDVI_10', 'SR_B1_11', 'SR_B2_11', 'SR_B3_11', 'SR_B4_11', 'SR_B5_11', 'SR_B6_11', 'SR_B7_11', 'NDVI_11', 'SR_B1_12', 'SR_B2_12', 'SR_B3_12', 'SR_B4_12', 'SR_B5_12', 'SR_B6_12', 'SR_B7_12', 'NDVI_12', 'slope', 'elevation', 'aspect', 'tcc_2000', 'tcc_2005', 'tcc_2010', 'tcc_2015']. [in train at /home/jk871/fire-regen/src/counterfactuals/rf/rf.py:58]\n",
      "2024-02-08 23:49:00,130 INFO: PREP PREP PREP-- [in prep_data_for_rf at /home/jk871/fire-regen/src/counterfactuals/rf/train.py:76]\n",
      "2024-02-08 23:49:09,177 DEBUG: Start model training. [in train_rf at /home/jk871/fire-regen/src/counterfactuals/rf/train.py:45]\n",
      "2024-02-08 23:53:28,530 DEBUG: Training complete.\n",
      " [in train_rf at /home/jk871/fire-regen/src/counterfactuals/rf/train.py:47]\n",
      "2024-02-08 23:53:28,532 INFO: Training Accuracy: [in train_rf at /home/jk871/fire-regen/src/counterfactuals/rf/train.py:49]\n",
      "2024-02-08 23:53:29,717 INFO: RMSE: 6.470845521904516; [in log_accuracy at /home/jk871/fire-regen/src/counterfactuals/rf/train.py:65]\n",
      "2024-02-08 23:53:29,728 INFO: R^2: 0.6197372273439101 [in log_accuracy at /home/jk871/fire-regen/src/counterfactuals/rf/train.py:66]\n",
      "2024-02-08 23:53:29,763 INFO: RMA: (0.5541132947276298, -2.363449025905993) [in log_accuracy at /home/jk871/fire-regen/src/counterfactuals/rf/train.py:67]\n",
      "2024-02-08 23:53:29,764 INFO: Validation error: 0.5212285000750094 [in train_rf at /home/jk871/fire-regen/src/counterfactuals/rf/train.py:52]\n",
      "2024-02-08 23:53:29,764 INFO: Test Accuracy: [in train_rf at /home/jk871/fire-regen/src/counterfactuals/rf/train.py:55]\n",
      "2024-02-08 23:53:30,347 INFO: RMSE: 7.763171571039783; [in log_accuracy at /home/jk871/fire-regen/src/counterfactuals/rf/train.py:65]\n",
      "2024-02-08 23:53:30,351 INFO: R^2: 0.49022431502829855 [in log_accuracy at /home/jk871/fire-regen/src/counterfactuals/rf/train.py:66]\n",
      "2024-02-08 23:53:30,359 INFO: RMA: (0.47528193093614685, 1.2475861097584016) [in log_accuracy at /home/jk871/fire-regen/src/counterfactuals/rf/train.py:67]\n"
     ]
    }
   ],
   "source": [
    "m, to = trainer.train(\"rh_98\", calibration_ds, test_ds)"
   ]
  },
  {
   "cell_type": "code",
   "execution_count": 11,
   "metadata": {},
   "outputs": [
    {
     "name": "stdout",
     "output_type": "stream",
     "text": [
      "2024-02-09 00:13:02,522 INFO: Training with features ['SR_B1_1', 'SR_B2_1', 'SR_B3_1', 'SR_B4_1', 'SR_B5_1', 'SR_B6_1', 'SR_B7_1', 'NDVI_1', 'SR_B1_2', 'SR_B2_2', 'SR_B3_2', 'SR_B4_2', 'SR_B5_2', 'SR_B6_2', 'SR_B7_2', 'NDVI_2', 'SR_B1_3', 'SR_B2_3', 'SR_B3_3', 'SR_B4_3', 'SR_B5_3', 'SR_B6_3', 'SR_B7_3', 'NDVI_3', 'SR_B1_4', 'SR_B2_4', 'SR_B3_4', 'SR_B4_4', 'SR_B5_4', 'SR_B6_4', 'SR_B7_4', 'NDVI_4', 'SR_B1_5', 'SR_B2_5', 'SR_B3_5', 'SR_B4_5', 'SR_B5_5', 'SR_B6_5', 'SR_B7_5', 'NDVI_5', 'SR_B1_6', 'SR_B2_6', 'SR_B3_6', 'SR_B4_6', 'SR_B5_6', 'SR_B6_6', 'SR_B7_6', 'NDVI_6', 'SR_B1_7', 'SR_B2_7', 'SR_B3_7', 'SR_B4_7', 'SR_B5_7', 'SR_B6_7', 'SR_B7_7', 'NDVI_7', 'SR_B1_8', 'SR_B2_8', 'SR_B3_8', 'SR_B4_8', 'SR_B5_8', 'SR_B6_8', 'SR_B7_8', 'NDVI_8', 'SR_B1_9', 'SR_B2_9', 'SR_B3_9', 'SR_B4_9', 'SR_B5_9', 'SR_B6_9', 'SR_B7_9', 'NDVI_9', 'SR_B1_10', 'SR_B2_10', 'SR_B3_10', 'SR_B4_10', 'SR_B5_10', 'SR_B6_10', 'SR_B7_10', 'NDVI_10', 'SR_B1_11', 'SR_B2_11', 'SR_B3_11', 'SR_B4_11', 'SR_B5_11', 'SR_B6_11', 'SR_B7_11', 'NDVI_11', 'SR_B1_12', 'SR_B2_12', 'SR_B3_12', 'SR_B4_12', 'SR_B5_12', 'SR_B6_12', 'SR_B7_12', 'NDVI_12', 'slope', 'elevation', 'aspect', 'tcc_2000', 'tcc_2005', 'tcc_2010', 'tcc_2015']. [in train at /home/jk871/fire-regen/src/counterfactuals/rf/rf.py:58]\n",
      "2024-02-09 00:13:03,671 DEBUG: Optimizing for log [in train_rf at /home/jk871/fire-regen/src/counterfactuals/rf/train.py:33]\n",
      "1672243 430999\n",
      "2103242\n",
      "2024-02-09 00:13:06,223 INFO: PREP PREP PREP-- [in prep_data_for_rf at /home/jk871/fire-regen/src/counterfactuals/rf/train.py:86]\n",
      "2024-02-09 00:13:15,464 DEBUG: Start model training. [in train_rf at /home/jk871/fire-regen/src/counterfactuals/rf/train.py:55]\n",
      "2024-02-09 00:17:13,294 DEBUG: Training complete.\n",
      " [in train_rf at /home/jk871/fire-regen/src/counterfactuals/rf/train.py:57]\n",
      "2024-02-09 00:17:13,295 INFO: Training Accuracy: [in train_rf at /home/jk871/fire-regen/src/counterfactuals/rf/train.py:59]\n",
      "2024-02-09 00:17:14,553 INFO: RMSE: 0.35206282914167375; [in log_accuracy at /home/jk871/fire-regen/src/counterfactuals/rf/train.py:75]\n",
      "2024-02-09 00:17:14,563 INFO: R^2: 0.601515004549906 [in log_accuracy at /home/jk871/fire-regen/src/counterfactuals/rf/train.py:76]\n",
      "2024-02-09 00:17:14,595 INFO: RMA: (0.5347581623108877, -0.20589567434380296) [in log_accuracy at /home/jk871/fire-regen/src/counterfactuals/rf/train.py:77]\n",
      "2024-02-09 00:17:14,596 INFO: Validation error: 0.49981248504009845 [in train_rf at /home/jk871/fire-regen/src/counterfactuals/rf/train.py:62]\n",
      "2024-02-09 00:17:14,597 INFO: Test Accuracy: [in train_rf at /home/jk871/fire-regen/src/counterfactuals/rf/train.py:65]\n",
      "2024-02-09 00:17:15,191 INFO: RMSE: 0.4002460821878007; [in log_accuracy at /home/jk871/fire-regen/src/counterfactuals/rf/train.py:75]\n",
      "2024-02-09 00:17:15,195 INFO: R^2: 0.4759567017999744 [in log_accuracy at /home/jk871/fire-regen/src/counterfactuals/rf/train.py:76]\n",
      "2024-02-09 00:17:15,204 INFO: RMA: (0.45756704075322124, 0.2594975655285183) [in log_accuracy at /home/jk871/fire-regen/src/counterfactuals/rf/train.py:77]\n"
     ]
    }
   ],
   "source": [
    "m, to = trainer.train(\"rh_98\", calibration_ds, test_ds, log=True)"
   ]
  },
  {
   "cell_type": "markdown",
   "metadata": {},
   "source": [
    "# Monthly Landsat"
   ]
  },
  {
   "cell_type": "code",
   "execution_count": 108,
   "metadata": {},
   "outputs": [],
   "source": [
    "test_ds = load_pickle(f\"{INPUT_PATH}/set1/placebo_aug_monthly_landsat.pkl\")\n",
    "calibration_ds = load_pickle(f\"{INPUT_PATH}/set1/calibration_aug_monthly_landsat.pkl\")"
   ]
  },
  {
   "cell_type": "code",
   "execution_count": 109,
   "metadata": {},
   "outputs": [],
   "source": [
    "test_ds[\"NDVI_2020\"] = test_landsat_simple.NDVI_2020\n",
    "calibration_ds[\"NDVI_2020\"] = calibration_landsat_simple.NDVI_2020"
   ]
  },
  {
   "cell_type": "code",
   "execution_count": 110,
   "metadata": {},
   "outputs": [],
   "source": [
    "trainer = rf.MonthlyLandsatRF(2019)"
   ]
  },
  {
   "cell_type": "code",
   "execution_count": 76,
   "metadata": {},
   "outputs": [
    {
     "name": "stdout",
     "output_type": "stream",
     "text": [
      "2024-02-08 04:00:19,898 INFO: Training with features ['SR_B1_1', 'SR_B2_1', 'SR_B3_1', 'SR_B4_1', 'SR_B5_1', 'SR_B6_1', 'SR_B7_1', 'NDVI_1', 'SR_B1_2', 'SR_B2_2', 'SR_B3_2', 'SR_B4_2', 'SR_B5_2', 'SR_B6_2', 'SR_B7_2', 'NDVI_2', 'SR_B1_3', 'SR_B2_3', 'SR_B3_3', 'SR_B4_3', 'SR_B5_3', 'SR_B6_3', 'SR_B7_3', 'NDVI_3', 'SR_B1_4', 'SR_B2_4', 'SR_B3_4', 'SR_B4_4', 'SR_B5_4', 'SR_B6_4', 'SR_B7_4', 'NDVI_4', 'SR_B1_5', 'SR_B2_5', 'SR_B3_5', 'SR_B4_5', 'SR_B5_5', 'SR_B6_5', 'SR_B7_5', 'NDVI_5', 'SR_B1_6', 'SR_B2_6', 'SR_B3_6', 'SR_B4_6', 'SR_B5_6', 'SR_B6_6', 'SR_B7_6', 'NDVI_6', 'SR_B1_7', 'SR_B2_7', 'SR_B3_7', 'SR_B4_7', 'SR_B5_7', 'SR_B6_7', 'SR_B7_7', 'NDVI_7', 'SR_B1_8', 'SR_B2_8', 'SR_B3_8', 'SR_B4_8', 'SR_B5_8', 'SR_B6_8', 'SR_B7_8', 'NDVI_8', 'SR_B1_9', 'SR_B2_9', 'SR_B3_9', 'SR_B4_9', 'SR_B5_9', 'SR_B6_9', 'SR_B7_9', 'NDVI_9', 'SR_B1_10', 'SR_B2_10', 'SR_B3_10', 'SR_B4_10', 'SR_B5_10', 'SR_B6_10', 'SR_B7_10', 'NDVI_10', 'SR_B1_11', 'SR_B2_11', 'SR_B3_11', 'SR_B4_11', 'SR_B5_11', 'SR_B6_11', 'SR_B7_11', 'NDVI_11', 'SR_B1_12', 'SR_B2_12', 'SR_B3_12', 'SR_B4_12', 'SR_B5_12', 'SR_B6_12', 'SR_B7_12', 'NDVI_12', 'slope', 'elevation', 'aspect']. [in train at /home/jk871/fire-regen/src/counterfactuals/rf/rf.py:50]\n",
      "2024-02-08 04:00:22,160 INFO: PREP PREP PREP-- [in prep_data_for_rf at /home/jk871/fire-regen/src/counterfactuals/rf/train.py:76]\n",
      "2024-02-08 04:00:30,475 DEBUG: Start model training. [in train_rf at /home/jk871/fire-regen/src/counterfactuals/rf/train.py:45]\n",
      "2024-02-08 04:04:23,621 DEBUG: Training complete.\n",
      " [in train_rf at /home/jk871/fire-regen/src/counterfactuals/rf/train.py:47]\n",
      "2024-02-08 04:04:23,623 INFO: Training Accuracy: [in train_rf at /home/jk871/fire-regen/src/counterfactuals/rf/train.py:49]\n",
      "2024-02-08 04:04:24,885 INFO: RMSE: 0.019367280683635472; [in log_accuracy at /home/jk871/fire-regen/src/counterfactuals/rf/train.py:65]\n",
      "2024-02-08 04:04:24,899 INFO: R^2: 0.97864792283438 [in log_accuracy at /home/jk871/fire-regen/src/counterfactuals/rf/train.py:66]\n",
      "2024-02-08 04:04:24,948 INFO: RMA: (0.9736074099109859, -0.6181340471577336) [in log_accuracy at /home/jk871/fire-regen/src/counterfactuals/rf/train.py:67]\n",
      "2024-02-08 04:04:24,949 INFO: Validation error: 0.974184345902222 [in train_rf at /home/jk871/fire-regen/src/counterfactuals/rf/train.py:52]\n",
      "2024-02-08 04:04:24,950 INFO: Test Accuracy: [in train_rf at /home/jk871/fire-regen/src/counterfactuals/rf/train.py:55]\n",
      "2024-02-08 04:04:25,493 INFO: RMSE: 0.025567891911412618; [in log_accuracy at /home/jk871/fire-regen/src/counterfactuals/rf/train.py:65]\n",
      "2024-02-08 04:04:25,497 INFO: R^2: 0.9541972370343079 [in log_accuracy at /home/jk871/fire-regen/src/counterfactuals/rf/train.py:66]\n",
      "2024-02-08 04:04:25,505 INFO: RMA: (0.9478867180011148, -0.6325359993413603) [in log_accuracy at /home/jk871/fire-regen/src/counterfactuals/rf/train.py:67]\n"
     ]
    }
   ],
   "source": [
    "m, to = trainer.train(\"NDVI_2020\", calibration_ds, test_ds)"
   ]
  },
  {
   "cell_type": "code",
   "execution_count": 111,
   "metadata": {},
   "outputs": [
    {
     "name": "stdout",
     "output_type": "stream",
     "text": [
      "2024-02-08 05:21:50,267 INFO: Training with features ['SR_B1_1', 'SR_B2_1', 'SR_B3_1', 'SR_B4_1', 'SR_B5_1', 'SR_B6_1', 'SR_B7_1', 'NDVI_1', 'SR_B1_2', 'SR_B2_2', 'SR_B3_2', 'SR_B4_2', 'SR_B5_2', 'SR_B6_2', 'SR_B7_2', 'NDVI_2', 'SR_B1_3', 'SR_B2_3', 'SR_B3_3', 'SR_B4_3', 'SR_B5_3', 'SR_B6_3', 'SR_B7_3', 'NDVI_3', 'SR_B1_4', 'SR_B2_4', 'SR_B3_4', 'SR_B4_4', 'SR_B5_4', 'SR_B6_4', 'SR_B7_4', 'NDVI_4', 'SR_B1_5', 'SR_B2_5', 'SR_B3_5', 'SR_B4_5', 'SR_B5_5', 'SR_B6_5', 'SR_B7_5', 'NDVI_5', 'SR_B1_6', 'SR_B2_6', 'SR_B3_6', 'SR_B4_6', 'SR_B5_6', 'SR_B6_6', 'SR_B7_6', 'NDVI_6', 'SR_B1_7', 'SR_B2_7', 'SR_B3_7', 'SR_B4_7', 'SR_B5_7', 'SR_B6_7', 'SR_B7_7', 'NDVI_7', 'SR_B1_8', 'SR_B2_8', 'SR_B3_8', 'SR_B4_8', 'SR_B5_8', 'SR_B6_8', 'SR_B7_8', 'NDVI_8', 'SR_B1_9', 'SR_B2_9', 'SR_B3_9', 'SR_B4_9', 'SR_B5_9', 'SR_B6_9', 'SR_B7_9', 'NDVI_9', 'SR_B1_10', 'SR_B2_10', 'SR_B3_10', 'SR_B4_10', 'SR_B5_10', 'SR_B6_10', 'SR_B7_10', 'NDVI_10', 'SR_B1_11', 'SR_B2_11', 'SR_B3_11', 'SR_B4_11', 'SR_B5_11', 'SR_B6_11', 'SR_B7_11', 'NDVI_11', 'SR_B1_12', 'SR_B2_12', 'SR_B3_12', 'SR_B4_12', 'SR_B5_12', 'SR_B6_12', 'SR_B7_12', 'NDVI_12', 'slope', 'elevation', 'aspect']. [in train at /home/jk871/fire-regen/src/counterfactuals/rf/rf.py:56]\n",
      "2024-02-08 05:21:52,782 INFO: PREP PREP PREP-- [in prep_data_for_rf at /home/jk871/fire-regen/src/counterfactuals/rf/train.py:76]\n",
      "2024-02-08 05:22:01,426 DEBUG: Start model training. [in train_rf at /home/jk871/fire-regen/src/counterfactuals/rf/train.py:45]\n",
      "2024-02-08 05:26:26,524 DEBUG: Training complete.\n",
      " [in train_rf at /home/jk871/fire-regen/src/counterfactuals/rf/train.py:47]\n",
      "2024-02-08 05:26:26,526 INFO: Training Accuracy: [in train_rf at /home/jk871/fire-regen/src/counterfactuals/rf/train.py:49]\n",
      "2024-02-08 05:26:27,795 INFO: RMSE: 6.502090666369816; [in log_accuracy at /home/jk871/fire-regen/src/counterfactuals/rf/train.py:65]\n",
      "2024-02-08 05:26:27,808 INFO: R^2: 0.6160560853897656 [in log_accuracy at /home/jk871/fire-regen/src/counterfactuals/rf/train.py:66]\n",
      "2024-02-08 05:26:27,859 INFO: RMA: (0.549302636191775, -2.152503950036193) [in log_accuracy at /home/jk871/fire-regen/src/counterfactuals/rf/train.py:67]\n",
      "2024-02-08 05:26:27,860 INFO: Validation error: 0.5172376771549754 [in train_rf at /home/jk871/fire-regen/src/counterfactuals/rf/train.py:52]\n",
      "2024-02-08 05:26:27,861 INFO: Test Accuracy: [in train_rf at /home/jk871/fire-regen/src/counterfactuals/rf/train.py:55]\n",
      "2024-02-08 05:26:28,365 INFO: RMSE: 7.832842790800052; [in log_accuracy at /home/jk871/fire-regen/src/counterfactuals/rf/train.py:65]\n",
      "2024-02-08 05:26:28,370 INFO: R^2: 0.4810332087414474 [in log_accuracy at /home/jk871/fire-regen/src/counterfactuals/rf/train.py:66]\n",
      "2024-02-08 05:26:28,384 INFO: RMA: (0.4660370401473092, 1.4492491481841547) [in log_accuracy at /home/jk871/fire-regen/src/counterfactuals/rf/train.py:67]\n"
     ]
    }
   ],
   "source": [
    "m_2019, to_2019 = trainer.train(\"rh_98\", calibration_ds, test_ds)"
   ]
  },
  {
   "cell_type": "code",
   "execution_count": 113,
   "metadata": {},
   "outputs": [
    {
     "name": "stdout",
     "output_type": "stream",
     "text": [
      "[0.0, 100.0, 0.0, 100.0]\n"
     ]
    },
    {
     "data": {
      "image/png": "[encoded data removed]",
      "text/plain": [
       "<Figure size 1080x1080 with 1 Axes>"
      ]
     },
     "metadata": {
      "needs_background": "light"
     },
     "output_type": "display_data"
    }
   ],
   "source": [
    "heatmap, xedges, yedges = np.histogram2d(to_2019.valid.y, m_2019.predict(to_2019.valid.xs), bins=100, range=[[0, 100], [0, 100]])\n",
    "extent = [xedges[0], xedges[-1], yedges[0], yedges[-1]]\n",
    "print(extent)\n",
    "\n",
    "fig, ax = plt.subplots(1, 1, figsize=(15, 15))\n",
    "sns.heatmap(heatmap.T, cbar=False)\n",
    "ax.set_xlim((0, 50))\n",
    "ax.set_ylim((0, 50))\n",
    "abline(1, 0, ax)"
   ]
  },
  {
   "cell_type": "code",
   "execution_count": 114,
   "metadata": {},
   "outputs": [
    {
     "data": {
      "text/html": [
       "<div>\n",
       "<style scoped>\n",
       "    .dataframe tbody tr th:only-of-type {\n",
       "        vertical-align: middle;\n",
       "    }\n",
       "\n",
       "    .dataframe tbody tr th {\n",
       "        vertical-align: top;\n",
       "    }\n",
       "\n",
       "    .dataframe thead th {\n",
       "        text-align: right;\n",
       "    }\n",
       "</style>\n",
       "<table border=\"1\" class=\"dataframe\">\n",
       "  <thead>\n",
       "    <tr style=\"text-align: right;\">\n",
       "      <th></th>\n",
       "      <th>cols</th>\n",
       "      <th>imp</th>\n",
       "    </tr>\n",
       "  </thead>\n",
       "  <tbody>\n",
       "    <tr>\n",
       "      <th>157</th>\n",
       "      <td>SR_B6_8</td>\n",
       "      <td>0.231220</td>\n",
       "    </tr>\n",
       "    <tr>\n",
       "      <th>166</th>\n",
       "      <td>SR_B7_9</td>\n",
       "      <td>0.090441</td>\n",
       "    </tr>\n",
       "    <tr>\n",
       "      <th>154</th>\n",
       "      <td>SR_B3_8</td>\n",
       "      <td>0.073717</td>\n",
       "    </tr>\n",
       "    <tr>\n",
       "      <th>163</th>\n",
       "      <td>SR_B4_9</td>\n",
       "      <td>0.045112</td>\n",
       "    </tr>\n",
       "    <tr>\n",
       "      <th>150</th>\n",
       "      <td>SR_B7_7</td>\n",
       "      <td>0.035680</td>\n",
       "    </tr>\n",
       "    <tr>\n",
       "      <th>147</th>\n",
       "      <td>SR_B4_7</td>\n",
       "      <td>0.025786</td>\n",
       "    </tr>\n",
       "    <tr>\n",
       "      <th>155</th>\n",
       "      <td>SR_B4_8</td>\n",
       "      <td>0.024143</td>\n",
       "    </tr>\n",
       "    <tr>\n",
       "      <th>194</th>\n",
       "      <td>aspect</td>\n",
       "      <td>0.022426</td>\n",
       "    </tr>\n",
       "    <tr>\n",
       "      <th>158</th>\n",
       "      <td>SR_B7_8</td>\n",
       "      <td>0.018775</td>\n",
       "    </tr>\n",
       "    <tr>\n",
       "      <th>120</th>\n",
       "      <td>SR_B1_4</td>\n",
       "      <td>0.018245</td>\n",
       "    </tr>\n",
       "    <tr>\n",
       "      <th>175</th>\n",
       "      <td>NDVI_10</td>\n",
       "      <td>0.017575</td>\n",
       "    </tr>\n",
       "    <tr>\n",
       "      <th>165</th>\n",
       "      <td>SR_B6_9</td>\n",
       "      <td>0.016204</td>\n",
       "    </tr>\n",
       "    <tr>\n",
       "      <th>162</th>\n",
       "      <td>SR_B3_9</td>\n",
       "      <td>0.016062</td>\n",
       "    </tr>\n",
       "    <tr>\n",
       "      <th>193</th>\n",
       "      <td>elevation</td>\n",
       "      <td>0.013188</td>\n",
       "    </tr>\n",
       "    <tr>\n",
       "      <th>192</th>\n",
       "      <td>slope</td>\n",
       "      <td>0.012493</td>\n",
       "    </tr>\n",
       "    <tr>\n",
       "      <th>149</th>\n",
       "      <td>SR_B6_7</td>\n",
       "      <td>0.012358</td>\n",
       "    </tr>\n",
       "    <tr>\n",
       "      <th>121</th>\n",
       "      <td>SR_B2_4</td>\n",
       "      <td>0.009476</td>\n",
       "    </tr>\n",
       "    <tr>\n",
       "      <th>127</th>\n",
       "      <td>NDVI_4</td>\n",
       "      <td>0.009106</td>\n",
       "    </tr>\n",
       "    <tr>\n",
       "      <th>116</th>\n",
       "      <td>SR_B5_3</td>\n",
       "      <td>0.009076</td>\n",
       "    </tr>\n",
       "    <tr>\n",
       "      <th>124</th>\n",
       "      <td>SR_B5_4</td>\n",
       "      <td>0.008511</td>\n",
       "    </tr>\n",
       "  </tbody>\n",
       "</table>\n",
       "</div>"
      ],
      "text/plain": [
       "          cols       imp\n",
       "157    SR_B6_8  0.231220\n",
       "166    SR_B7_9  0.090441\n",
       "154    SR_B3_8  0.073717\n",
       "163    SR_B4_9  0.045112\n",
       "150    SR_B7_7  0.035680\n",
       "147    SR_B4_7  0.025786\n",
       "155    SR_B4_8  0.024143\n",
       "194     aspect  0.022426\n",
       "158    SR_B7_8  0.018775\n",
       "120    SR_B1_4  0.018245\n",
       "175    NDVI_10  0.017575\n",
       "165    SR_B6_9  0.016204\n",
       "162    SR_B3_9  0.016062\n",
       "193  elevation  0.013188\n",
       "192      slope  0.012493\n",
       "149    SR_B6_7  0.012358\n",
       "121    SR_B2_4  0.009476\n",
       "127     NDVI_4  0.009106\n",
       "116    SR_B5_3  0.009076\n",
       "124    SR_B5_4  0.008511"
      ]
     },
     "execution_count": 114,
     "metadata": {},
     "output_type": "execute_result"
    }
   ],
   "source": [
    "fi = rf.rf_feat_importance(m_2019, to_2019.train.xs)\n",
    "fi[:20]"
   ]
  },
  {
   "cell_type": "markdown",
   "metadata": {},
   "source": [
    "# Predict Canopy Cover"
   ]
  },
  {
   "cell_type": "markdown",
   "metadata": {},
   "source": [
    "### From Monthly data"
   ]
  },
  {
   "cell_type": "code",
   "execution_count": 4,
   "metadata": {},
   "outputs": [],
   "source": [
    "year = 2003\n",
    "test_ds = load_pickle(f\"{INPUT_PATH}/set1/placebo_aug_monthly_landsat_{year}.pkl\")\n",
    "calibration_ds = load_pickle(f\"{INPUT_PATH}/set1/calibration_aug_monthly_landsat_{year}.pkl\")"
   ]
  },
  {
   "cell_type": "code",
   "execution_count": 5,
   "metadata": {},
   "outputs": [],
   "source": [
    "trainer = rf.MonthlyLandsatRF(2003)"
   ]
  },
  {
   "cell_type": "code",
   "execution_count": 6,
   "metadata": {},
   "outputs": [
    {
     "name": "stdout",
     "output_type": "stream",
     "text": [
      "2024-02-09 19:46:03,561 INFO: Training with features ['SR_B1_1', 'SR_B2_1', 'SR_B3_1', 'SR_B4_1', 'SR_B5_1', 'SR_B7_1', 'NDVI_1', 'SR_B1_2', 'SR_B2_2', 'SR_B3_2', 'SR_B4_2', 'SR_B5_2', 'SR_B7_2', 'NDVI_2', 'SR_B1_3', 'SR_B2_3', 'SR_B3_3', 'SR_B4_3', 'SR_B5_3', 'SR_B7_3', 'NDVI_3', 'SR_B1_4', 'SR_B2_4', 'SR_B3_4', 'SR_B4_4', 'SR_B5_4', 'SR_B7_4', 'NDVI_4', 'SR_B1_5', 'SR_B2_5', 'SR_B3_5', 'SR_B4_5', 'SR_B5_5', 'SR_B7_5', 'NDVI_5', 'SR_B1_6', 'SR_B2_6', 'SR_B3_6', 'SR_B4_6', 'SR_B5_6', 'SR_B7_6', 'NDVI_6', 'SR_B1_7', 'SR_B2_7', 'SR_B3_7', 'SR_B4_7', 'SR_B5_7', 'SR_B7_7', 'NDVI_7', 'SR_B1_8', 'SR_B2_8', 'SR_B3_8', 'SR_B4_8', 'SR_B5_8', 'SR_B7_8', 'NDVI_8', 'SR_B1_9', 'SR_B2_9', 'SR_B3_9', 'SR_B4_9', 'SR_B5_9', 'SR_B7_9', 'NDVI_9', 'SR_B1_10', 'SR_B2_10', 'SR_B3_10', 'SR_B4_10', 'SR_B5_10', 'SR_B7_10', 'NDVI_10', 'SR_B1_11', 'SR_B2_11', 'SR_B3_11', 'SR_B4_11', 'SR_B5_11', 'SR_B7_11', 'NDVI_11', 'SR_B1_12', 'SR_B2_12', 'SR_B3_12', 'SR_B4_12', 'SR_B5_12', 'SR_B7_12', 'NDVI_12', 'slope', 'elevation', 'aspect']. [in train at /home/jk871/fire-regen/src/counterfactuals/rf/rf.py:58]\n",
      "1672243 430999\n",
      "2103242\n",
      "2024-02-09 19:46:06,804 INFO: PREP PREP PREP-- [in prep_data_for_rf at /home/jk871/fire-regen/src/counterfactuals/rf/train.py:86]\n",
      "2024-02-09 19:46:14,576 DEBUG: Start model training. [in train_rf at /home/jk871/fire-regen/src/counterfactuals/rf/train.py:55]\n",
      "2024-02-09 19:49:57,813 DEBUG: Training complete.\n",
      " [in train_rf at /home/jk871/fire-regen/src/counterfactuals/rf/train.py:57]\n",
      "2024-02-09 19:49:57,815 INFO: Training Accuracy: [in train_rf at /home/jk871/fire-regen/src/counterfactuals/rf/train.py:59]\n",
      "2024-02-09 19:49:59,001 INFO: RMSE: 6.5607317086047265; [in log_accuracy at /home/jk871/fire-regen/src/counterfactuals/rf/train.py:75]\n",
      "2024-02-09 19:49:59,015 INFO: R^2: 0.8451224851197541 [in log_accuracy at /home/jk871/fire-regen/src/counterfactuals/rf/train.py:76]\n",
      "2024-02-09 19:49:59,077 INFO: RMA: (0.8011915940424121, -23.241991222599584) [in log_accuracy at /home/jk871/fire-regen/src/counterfactuals/rf/train.py:77]\n",
      "2024-02-09 19:49:59,078 INFO: Validation error: 0.8063910680226662 [in train_rf at /home/jk871/fire-regen/src/counterfactuals/rf/train.py:62]\n",
      "2024-02-09 19:49:59,078 INFO: Test Accuracy: [in train_rf at /home/jk871/fire-regen/src/counterfactuals/rf/train.py:65]\n",
      "2024-02-09 19:49:59,594 INFO: RMSE: 9.14548963808683; [in log_accuracy at /home/jk871/fire-regen/src/counterfactuals/rf/train.py:75]\n",
      "2024-02-09 19:49:59,600 INFO: R^2: 0.6612364233527402 [in log_accuracy at /home/jk871/fire-regen/src/counterfactuals/rf/train.py:76]\n",
      "2024-02-09 19:49:59,615 INFO: RMA: (0.7068745308597861, -21.11521324503331) [in log_accuracy at /home/jk871/fire-regen/src/counterfactuals/rf/train.py:77]\n"
     ]
    }
   ],
   "source": [
    "m, to = trainer.train(\"tcc_2005\", calibration_ds, test_ds)"
   ]
  },
  {
   "cell_type": "markdown",
   "metadata": {},
   "source": [
    "### From 5 years of data"
   ]
  },
  {
   "cell_type": "code",
   "execution_count": 7,
   "metadata": {},
   "outputs": [],
   "source": [
    "year = 2003\n",
    "test_ds = load_pickle(f\"{INPUT_PATH}/set1/placebo_aug_landsat_{year}_5.pkl\")\n",
    "calibration_ds = load_pickle(f\"{INPUT_PATH}/set1/calibration_aug_landsat_{year}_5.pkl\")"
   ]
  },
  {
   "cell_type": "code",
   "execution_count": 8,
   "metadata": {},
   "outputs": [],
   "source": [
    "trainer = rf.LandsatTimeSeriesRF(years = list(range(year - 4, year + 1)))"
   ]
  },
  {
   "cell_type": "code",
   "execution_count": 9,
   "metadata": {},
   "outputs": [
    {
     "name": "stdout",
     "output_type": "stream",
     "text": [
      "2024-02-09 19:55:05,008 INFO: Training with features ['SR_B1_1999', 'SR_B2_1999', 'SR_B3_1999', 'SR_B4_1999', 'SR_B5_1999', 'SR_B7_1999', 'NDVI_1999', 'SR_B1_2000', 'SR_B2_2000', 'SR_B3_2000', 'SR_B4_2000', 'SR_B5_2000', 'SR_B7_2000', 'NDVI_2000', 'SR_B1_2001', 'SR_B2_2001', 'SR_B3_2001', 'SR_B4_2001', 'SR_B5_2001', 'SR_B7_2001', 'NDVI_2001', 'SR_B1_2002', 'SR_B2_2002', 'SR_B3_2002', 'SR_B4_2002', 'SR_B5_2002', 'SR_B7_2002', 'NDVI_2002', 'SR_B1_2003', 'SR_B2_2003', 'SR_B3_2003', 'SR_B4_2003', 'SR_B5_2003', 'SR_B7_2003', 'NDVI_2003', 'slope', 'elevation', 'aspect', 'SR_B1_mean', 'SR_B1_std', 'SR_B2_mean', 'SR_B2_std', 'SR_B3_mean', 'SR_B3_std', 'SR_B4_mean', 'SR_B4_std', 'SR_B5_mean', 'SR_B5_std', 'SR_B7_mean', 'SR_B7_std', 'NDVI_mean', 'NDVI_std']. [in train at /home/jk871/fire-regen/src/counterfactuals/rf/rf.py:117]\n",
      "1672243 430999\n",
      "2103242\n",
      "2024-02-09 19:55:07,242 INFO: PREP PREP PREP-- [in prep_data_for_rf at /home/jk871/fire-regen/src/counterfactuals/rf/train.py:86]\n",
      "2024-02-09 19:55:11,781 DEBUG: Start model training. [in train_rf at /home/jk871/fire-regen/src/counterfactuals/rf/train.py:55]\n",
      "2024-02-09 19:57:39,501 DEBUG: Training complete.\n",
      " [in train_rf at /home/jk871/fire-regen/src/counterfactuals/rf/train.py:57]\n",
      "2024-02-09 19:57:39,503 INFO: Training Accuracy: [in train_rf at /home/jk871/fire-regen/src/counterfactuals/rf/train.py:59]\n",
      "2024-02-09 19:57:40,493 INFO: RMSE: 6.109569806856932; [in log_accuracy at /home/jk871/fire-regen/src/counterfactuals/rf/train.py:75]\n",
      "2024-02-09 19:57:40,507 INFO: R^2: 0.8656910117553338 [in log_accuracy at /home/jk871/fire-regen/src/counterfactuals/rf/train.py:76]\n",
      "2024-02-09 19:57:40,557 INFO: RMA: (0.8389219825625399, -26.159887526942505) [in log_accuracy at /home/jk871/fire-regen/src/counterfactuals/rf/train.py:77]\n",
      "2024-02-09 19:57:40,558 INFO: Validation error: 0.8353075538638349 [in train_rf at /home/jk871/fire-regen/src/counterfactuals/rf/train.py:62]\n",
      "2024-02-09 19:57:40,558 INFO: Test Accuracy: [in train_rf at /home/jk871/fire-regen/src/counterfactuals/rf/train.py:65]\n",
      "2024-02-09 19:57:40,950 INFO: RMSE: 6.791468994638282; [in log_accuracy at /home/jk871/fire-regen/src/counterfactuals/rf/train.py:75]\n",
      "2024-02-09 19:57:40,956 INFO: R^2: 0.8131856513205347 [in log_accuracy at /home/jk871/fire-regen/src/counterfactuals/rf/train.py:76]\n",
      "2024-02-09 19:57:40,971 INFO: RMA: (0.8402137560628387, -32.67538294062149) [in log_accuracy at /home/jk871/fire-regen/src/counterfactuals/rf/train.py:77]\n"
     ]
    }
   ],
   "source": [
    "m, to = trainer.train(\"tcc_2005\", calibration_ds, test_ds)"
   ]
  },
  {
   "cell_type": "markdown",
   "metadata": {},
   "source": [
    "# Monthly from 2003 + canopy cover"
   ]
  },
  {
   "cell_type": "code",
   "execution_count": 10,
   "metadata": {},
   "outputs": [],
   "source": [
    "year = 2003\n",
    "test_ds = load_pickle(f\"{INPUT_PATH}/set1/placebo_aug_monthly_landsat_{year}.pkl\")\n",
    "calibration_ds = load_pickle(f\"{INPUT_PATH}/set1/calibration_aug_monthly_landsat_{year}.pkl\")"
   ]
  },
  {
   "cell_type": "code",
   "execution_count": 11,
   "metadata": {},
   "outputs": [],
   "source": [
    "trainer = rf.MonthlyLandsatRF(2003, additional_features=[\"tcc_2000\"])"
   ]
  },
  {
   "cell_type": "code",
   "execution_count": 12,
   "metadata": {},
   "outputs": [
    {
     "name": "stdout",
     "output_type": "stream",
     "text": [
      "2024-02-08 22:37:20,053 INFO: Training with features ['SR_B1_1', 'SR_B2_1', 'SR_B3_1', 'SR_B4_1', 'SR_B5_1', 'SR_B7_1', 'NDVI_1', 'SR_B1_2', 'SR_B2_2', 'SR_B3_2', 'SR_B4_2', 'SR_B5_2', 'SR_B7_2', 'NDVI_2', 'SR_B1_3', 'SR_B2_3', 'SR_B3_3', 'SR_B4_3', 'SR_B5_3', 'SR_B7_3', 'NDVI_3', 'SR_B1_4', 'SR_B2_4', 'SR_B3_4', 'SR_B4_4', 'SR_B5_4', 'SR_B7_4', 'NDVI_4', 'SR_B1_5', 'SR_B2_5', 'SR_B3_5', 'SR_B4_5', 'SR_B5_5', 'SR_B7_5', 'NDVI_5', 'SR_B1_6', 'SR_B2_6', 'SR_B3_6', 'SR_B4_6', 'SR_B5_6', 'SR_B7_6', 'NDVI_6', 'SR_B1_7', 'SR_B2_7', 'SR_B3_7', 'SR_B4_7', 'SR_B5_7', 'SR_B7_7', 'NDVI_7', 'SR_B1_8', 'SR_B2_8', 'SR_B3_8', 'SR_B4_8', 'SR_B5_8', 'SR_B7_8', 'NDVI_8', 'SR_B1_9', 'SR_B2_9', 'SR_B3_9', 'SR_B4_9', 'SR_B5_9', 'SR_B7_9', 'NDVI_9', 'SR_B1_10', 'SR_B2_10', 'SR_B3_10', 'SR_B4_10', 'SR_B5_10', 'SR_B7_10', 'NDVI_10', 'SR_B1_11', 'SR_B2_11', 'SR_B3_11', 'SR_B4_11', 'SR_B5_11', 'SR_B7_11', 'NDVI_11', 'SR_B1_12', 'SR_B2_12', 'SR_B3_12', 'SR_B4_12', 'SR_B5_12', 'SR_B7_12', 'NDVI_12', 'slope', 'elevation', 'aspect', 'tcc_2000']. [in train at /home/jk871/fire-regen/src/counterfactuals/rf/rf.py:58]\n",
      "2024-02-08 22:37:23,846 INFO: PREP PREP PREP-- [in prep_data_for_rf at /home/jk871/fire-regen/src/counterfactuals/rf/train.py:76]\n",
      "2024-02-08 22:37:31,649 DEBUG: Start model training. [in train_rf at /home/jk871/fire-regen/src/counterfactuals/rf/train.py:45]\n",
      "2024-02-08 22:41:08,601 DEBUG: Training complete.\n",
      " [in train_rf at /home/jk871/fire-regen/src/counterfactuals/rf/train.py:47]\n",
      "2024-02-08 22:41:08,603 INFO: Training Accuracy: [in train_rf at /home/jk871/fire-regen/src/counterfactuals/rf/train.py:49]\n",
      "2024-02-08 22:41:09,734 INFO: RMSE: 6.517716368019156; [in log_accuracy at /home/jk871/fire-regen/src/counterfactuals/rf/train.py:65]\n",
      "2024-02-08 22:41:09,748 INFO: R^2: 0.6142084944587539 [in log_accuracy at /home/jk871/fire-regen/src/counterfactuals/rf/train.py:66]\n",
      "2024-02-08 22:41:09,802 INFO: RMA: (0.5480421424582022, -2.098211434254054) [in log_accuracy at /home/jk871/fire-regen/src/counterfactuals/rf/train.py:67]\n",
      "2024-02-08 22:41:09,803 INFO: Validation error: 0.5171089715501462 [in train_rf at /home/jk871/fire-regen/src/counterfactuals/rf/train.py:52]\n",
      "2024-02-08 22:41:09,803 INFO: Test Accuracy: [in train_rf at /home/jk871/fire-regen/src/counterfactuals/rf/train.py:55]\n",
      "2024-02-08 22:41:10,346 INFO: RMSE: 7.810926339592087; [in log_accuracy at /home/jk871/fire-regen/src/counterfactuals/rf/train.py:65]\n",
      "2024-02-08 22:41:10,352 INFO: R^2: 0.4839333047724502 [in log_accuracy at /home/jk871/fire-regen/src/counterfactuals/rf/train.py:66]\n",
      "2024-02-08 22:41:10,367 INFO: RMA: (0.46831819186767515, 1.4000703857930876) [in log_accuracy at /home/jk871/fire-regen/src/counterfactuals/rf/train.py:67]\n"
     ]
    }
   ],
   "source": [
    "m, to = trainer.train(\"rh_98\", calibration_ds, test_ds)"
   ]
  },
  {
   "cell_type": "markdown",
   "metadata": {},
   "source": [
    "### Train on Monthly from 2003"
   ]
  },
  {
   "cell_type": "code",
   "execution_count": 115,
   "metadata": {},
   "outputs": [],
   "source": [
    "year = 2003"
   ]
  },
  {
   "cell_type": "code",
   "execution_count": 116,
   "metadata": {},
   "outputs": [],
   "source": [
    "test_ds = load_pickle(f\"{INPUT_PATH}/set1/placebo_aug_monthly_landsat_{year}.pkl\")\n",
    "calibration_ds = load_pickle(f\"{INPUT_PATH}/set1/calibration_aug_monthly_landsat_{year}.pkl\")"
   ]
  },
  {
   "cell_type": "code",
   "execution_count": 117,
   "metadata": {},
   "outputs": [],
   "source": [
    "trainer = rf.MonthlyLandsatRF(2003)"
   ]
  },
  {
   "cell_type": "code",
   "execution_count": 118,
   "metadata": {},
   "outputs": [
    {
     "name": "stdout",
     "output_type": "stream",
     "text": [
      "2024-02-08 05:37:47,469 INFO: Training with features ['SR_B1_1', 'SR_B2_1', 'SR_B3_1', 'SR_B4_1', 'SR_B5_1', 'SR_B7_1', 'NDVI_1', 'SR_B1_2', 'SR_B2_2', 'SR_B3_2', 'SR_B4_2', 'SR_B5_2', 'SR_B7_2', 'NDVI_2', 'SR_B1_3', 'SR_B2_3', 'SR_B3_3', 'SR_B4_3', 'SR_B5_3', 'SR_B7_3', 'NDVI_3', 'SR_B1_4', 'SR_B2_4', 'SR_B3_4', 'SR_B4_4', 'SR_B5_4', 'SR_B7_4', 'NDVI_4', 'SR_B1_5', 'SR_B2_5', 'SR_B3_5', 'SR_B4_5', 'SR_B5_5', 'SR_B7_5', 'NDVI_5', 'SR_B1_7', 'SR_B2_7', 'SR_B3_7', 'SR_B4_7', 'SR_B5_7', 'SR_B7_7', 'NDVI_7', 'SR_B1_8', 'SR_B2_8', 'SR_B3_8', 'SR_B4_8', 'SR_B5_8', 'SR_B7_8', 'NDVI_8', 'SR_B1_9', 'SR_B2_9', 'SR_B3_9', 'SR_B4_9', 'SR_B5_9', 'SR_B7_9', 'NDVI_9', 'SR_B1_10', 'SR_B2_10', 'SR_B3_10', 'SR_B4_10', 'SR_B5_10', 'SR_B7_10', 'NDVI_10', 'SR_B1_11', 'SR_B2_11', 'SR_B3_11', 'SR_B4_11', 'SR_B5_11', 'SR_B7_11', 'NDVI_11', 'SR_B1_12', 'SR_B2_12', 'SR_B3_12', 'SR_B4_12', 'SR_B5_12', 'SR_B7_12', 'NDVI_12', 'slope', 'elevation', 'aspect']. [in train at /home/jk871/fire-regen/src/counterfactuals/rf/rf.py:56]\n",
      "2024-02-08 05:37:49,616 INFO: PREP PREP PREP-- [in prep_data_for_rf at /home/jk871/fire-regen/src/counterfactuals/rf/train.py:76]\n",
      "2024-02-08 05:37:56,853 DEBUG: Start model training. [in train_rf at /home/jk871/fire-regen/src/counterfactuals/rf/train.py:45]\n",
      "2024-02-08 05:41:33,078 DEBUG: Training complete.\n",
      " [in train_rf at /home/jk871/fire-regen/src/counterfactuals/rf/train.py:47]\n",
      "2024-02-08 05:41:33,080 INFO: Training Accuracy: [in train_rf at /home/jk871/fire-regen/src/counterfactuals/rf/train.py:49]\n",
      "2024-02-08 05:41:34,246 INFO: RMSE: 6.664284200932371; [in log_accuracy at /home/jk871/fire-regen/src/counterfactuals/rf/train.py:65]\n",
      "2024-02-08 05:41:34,260 INFO: R^2: 0.5966623484476614 [in log_accuracy at /home/jk871/fire-regen/src/counterfactuals/rf/train.py:66]\n",
      "2024-02-08 05:41:34,310 INFO: RMA: (0.5308759131198753, -1.347704291435699) [in log_accuracy at /home/jk871/fire-regen/src/counterfactuals/rf/train.py:67]\n",
      "2024-02-08 05:41:34,311 INFO: Validation error: 0.4982965687869878 [in train_rf at /home/jk871/fire-regen/src/counterfactuals/rf/train.py:52]\n",
      "2024-02-08 05:41:34,311 INFO: Test Accuracy: [in train_rf at /home/jk871/fire-regen/src/counterfactuals/rf/train.py:55]\n",
      "2024-02-08 05:41:34,820 INFO: RMSE: 8.120774395928109; [in log_accuracy at /home/jk871/fire-regen/src/counterfactuals/rf/train.py:65]\n",
      "2024-02-08 05:41:34,826 INFO: R^2: 0.44217799941168257 [in log_accuracy at /home/jk871/fire-regen/src/counterfactuals/rf/train.py:66]\n",
      "2024-02-08 05:41:34,840 INFO: RMA: (0.4348096867900855, 3.4028269957430357) [in log_accuracy at /home/jk871/fire-regen/src/counterfactuals/rf/train.py:67]\n"
     ]
    }
   ],
   "source": [
    "m_2003, to_2003 = trainer.train(\"rh_98\", calibration_ds, test_ds)"
   ]
  },
  {
   "cell_type": "code",
   "execution_count": 122,
   "metadata": {},
   "outputs": [
    {
     "name": "stdout",
     "output_type": "stream",
     "text": [
      "2024-02-08 05:43:59,042 INFO: Training with features ['SR_B1_1', 'SR_B2_1', 'SR_B3_1', 'SR_B4_1', 'SR_B5_1', 'SR_B7_1', 'NDVI_1', 'SR_B1_2', 'SR_B2_2', 'SR_B3_2', 'SR_B4_2', 'SR_B5_2', 'SR_B7_2', 'NDVI_2', 'SR_B1_3', 'SR_B2_3', 'SR_B3_3', 'SR_B4_3', 'SR_B5_3', 'SR_B7_3', 'NDVI_3', 'SR_B1_4', 'SR_B2_4', 'SR_B3_4', 'SR_B4_4', 'SR_B5_4', 'SR_B7_4', 'NDVI_4', 'SR_B1_5', 'SR_B2_5', 'SR_B3_5', 'SR_B4_5', 'SR_B5_5', 'SR_B7_5', 'NDVI_5', 'SR_B1_7', 'SR_B2_7', 'SR_B3_7', 'SR_B4_7', 'SR_B5_7', 'SR_B7_7', 'NDVI_7', 'SR_B1_8', 'SR_B2_8', 'SR_B3_8', 'SR_B4_8', 'SR_B5_8', 'SR_B7_8', 'NDVI_8', 'SR_B1_9', 'SR_B2_9', 'SR_B3_9', 'SR_B4_9', 'SR_B5_9', 'SR_B7_9', 'NDVI_9', 'SR_B1_10', 'SR_B2_10', 'SR_B3_10', 'SR_B4_10', 'SR_B5_10', 'SR_B7_10', 'NDVI_10', 'SR_B1_11', 'SR_B2_11', 'SR_B3_11', 'SR_B4_11', 'SR_B5_11', 'SR_B7_11', 'NDVI_11', 'SR_B1_12', 'SR_B2_12', 'SR_B3_12', 'SR_B4_12', 'SR_B5_12', 'SR_B7_12', 'NDVI_12', 'slope', 'elevation', 'aspect']. [in train at /home/jk871/fire-regen/src/counterfactuals/rf/rf.py:56]\n",
      "2024-02-08 05:44:01,073 DEBUG: Optimizing for log [in train_rf at /home/jk871/fire-regen/src/counterfactuals/rf/train.py:38]\n",
      "2024-02-08 05:44:01,531 INFO: PREP PREP PREP-- [in prep_data_for_rf at /home/jk871/fire-regen/src/counterfactuals/rf/train.py:76]\n",
      "2024-02-08 05:44:09,182 DEBUG: Start model training. [in train_rf at /home/jk871/fire-regen/src/counterfactuals/rf/train.py:45]\n",
      "2024-02-08 05:48:03,434 DEBUG: Training complete.\n",
      " [in train_rf at /home/jk871/fire-regen/src/counterfactuals/rf/train.py:47]\n",
      "2024-02-08 05:48:03,436 INFO: Training Accuracy: [in train_rf at /home/jk871/fire-regen/src/counterfactuals/rf/train.py:49]\n",
      "2024-02-08 05:48:04,611 INFO: RMSE: 0.5881469379969004; [in log_accuracy at /home/jk871/fire-regen/src/counterfactuals/rf/train.py:65]\n",
      "2024-02-08 05:48:04,622 INFO: R^2: 0.5891359623390526 [in log_accuracy at /home/jk871/fire-regen/src/counterfactuals/rf/train.py:66]\n",
      "2024-02-08 05:48:04,655 INFO: RMA: (0.5229168670354905, -0.2112674265469061) [in log_accuracy at /home/jk871/fire-regen/src/counterfactuals/rf/train.py:67]\n",
      "2024-02-08 05:48:04,655 INFO: Validation error: 0.4886884316623692 [in train_rf at /home/jk871/fire-regen/src/counterfactuals/rf/train.py:52]\n",
      "2024-02-08 05:48:04,656 INFO: Test Accuracy: [in train_rf at /home/jk871/fire-regen/src/counterfactuals/rf/train.py:55]\n",
      "2024-02-08 05:48:05,216 INFO: RMSE: 0.6713783963266932; [in log_accuracy at /home/jk871/fire-regen/src/counterfactuals/rf/train.py:65]\n",
      "2024-02-08 05:48:05,221 INFO: R^2: 0.44833662989651213 [in log_accuracy at /home/jk871/fire-regen/src/counterfactuals/rf/train.py:66]\n",
      "2024-02-08 05:48:05,230 INFO: RMA: (0.4380172029095349, 0.6165731102225087) [in log_accuracy at /home/jk871/fire-regen/src/counterfactuals/rf/train.py:67]\n"
     ]
    }
   ],
   "source": [
    "m_2003, to_2003 = trainer.train(\"agbd\", calibration_ds, test_ds, log=True)"
   ]
  },
  {
   "cell_type": "code",
   "execution_count": 120,
   "metadata": {},
   "outputs": [
    {
     "name": "stdout",
     "output_type": "stream",
     "text": [
      "[0.0, 100.0, 0.0, 100.0]\n"
     ]
    },
    {
     "data": {
      "image/png": "[encoded data removed]",
      "text/plain": [
       "<Figure size 1080x1080 with 1 Axes>"
      ]
     },
     "metadata": {
      "needs_background": "light"
     },
     "output_type": "display_data"
    }
   ],
   "source": [
    "heatmap, xedges, yedges = np.histogram2d(to_2003.valid.y, m_2003.predict(to_2003.valid.xs), bins=100, range=[[0, 100], [0, 100]])\n",
    "extent = [xedges[0], xedges[-1], yedges[0], yedges[-1]]\n",
    "print(extent)\n",
    "\n",
    "fig, ax = plt.subplots(1, 1, figsize=(15, 15))\n",
    "sns.heatmap(heatmap.T, cbar=False)\n",
    "ax.set_xlim((0, 50))\n",
    "ax.set_ylim((0, 50))\n",
    "abline(1, 0, ax)"
   ]
  },
  {
   "cell_type": "code",
   "execution_count": 121,
   "metadata": {},
   "outputs": [
    {
     "data": {
      "text/html": [
       "<div>\n",
       "<style scoped>\n",
       "    .dataframe tbody tr th:only-of-type {\n",
       "        vertical-align: middle;\n",
       "    }\n",
       "\n",
       "    .dataframe tbody tr th {\n",
       "        vertical-align: top;\n",
       "    }\n",
       "\n",
       "    .dataframe thead th {\n",
       "        text-align: right;\n",
       "    }\n",
       "</style>\n",
       "<table border=\"1\" class=\"dataframe\">\n",
       "  <thead>\n",
       "    <tr style=\"text-align: right;\">\n",
       "      <th></th>\n",
       "      <th>cols</th>\n",
       "      <th>imp</th>\n",
       "    </tr>\n",
       "  </thead>\n",
       "  <tbody>\n",
       "    <tr>\n",
       "      <th>123</th>\n",
       "      <td>SR_B5_8</td>\n",
       "      <td>0.159146</td>\n",
       "    </tr>\n",
       "    <tr>\n",
       "      <th>124</th>\n",
       "      <td>SR_B7_8</td>\n",
       "      <td>0.146356</td>\n",
       "    </tr>\n",
       "    <tr>\n",
       "      <th>109</th>\n",
       "      <td>SR_B5_5</td>\n",
       "      <td>0.059796</td>\n",
       "    </tr>\n",
       "    <tr>\n",
       "      <th>121</th>\n",
       "      <td>SR_B3_8</td>\n",
       "      <td>0.058481</td>\n",
       "    </tr>\n",
       "    <tr>\n",
       "      <th>128</th>\n",
       "      <td>SR_B3_9</td>\n",
       "      <td>0.054781</td>\n",
       "    </tr>\n",
       "    <tr>\n",
       "      <th>139</th>\n",
       "      <td>NDVI_10</td>\n",
       "      <td>0.045201</td>\n",
       "    </tr>\n",
       "    <tr>\n",
       "      <th>156</th>\n",
       "      <td>aspect</td>\n",
       "      <td>0.025986</td>\n",
       "    </tr>\n",
       "    <tr>\n",
       "      <th>126</th>\n",
       "      <td>SR_B1_9</td>\n",
       "      <td>0.022700</td>\n",
       "    </tr>\n",
       "    <tr>\n",
       "      <th>106</th>\n",
       "      <td>SR_B2_5</td>\n",
       "      <td>0.022160</td>\n",
       "    </tr>\n",
       "    <tr>\n",
       "      <th>127</th>\n",
       "      <td>SR_B2_9</td>\n",
       "      <td>0.020599</td>\n",
       "    </tr>\n",
       "    <tr>\n",
       "      <th>83</th>\n",
       "      <td>NDVI_1</td>\n",
       "      <td>0.019317</td>\n",
       "    </tr>\n",
       "    <tr>\n",
       "      <th>125</th>\n",
       "      <td>NDVI_8</td>\n",
       "      <td>0.017136</td>\n",
       "    </tr>\n",
       "    <tr>\n",
       "      <th>155</th>\n",
       "      <td>elevation</td>\n",
       "      <td>0.015053</td>\n",
       "    </tr>\n",
       "    <tr>\n",
       "      <th>110</th>\n",
       "      <td>SR_B7_5</td>\n",
       "      <td>0.012976</td>\n",
       "    </tr>\n",
       "    <tr>\n",
       "      <th>154</th>\n",
       "      <td>slope</td>\n",
       "      <td>0.012541</td>\n",
       "    </tr>\n",
       "    <tr>\n",
       "      <th>96</th>\n",
       "      <td>SR_B7_3</td>\n",
       "      <td>0.012043</td>\n",
       "    </tr>\n",
       "    <tr>\n",
       "      <th>80</th>\n",
       "      <td>SR_B4_1</td>\n",
       "      <td>0.011162</td>\n",
       "    </tr>\n",
       "    <tr>\n",
       "      <th>82</th>\n",
       "      <td>SR_B7_1</td>\n",
       "      <td>0.010864</td>\n",
       "    </tr>\n",
       "    <tr>\n",
       "      <th>120</th>\n",
       "      <td>SR_B2_8</td>\n",
       "      <td>0.010360</td>\n",
       "    </tr>\n",
       "    <tr>\n",
       "      <th>119</th>\n",
       "      <td>SR_B1_8</td>\n",
       "      <td>0.009212</td>\n",
       "    </tr>\n",
       "  </tbody>\n",
       "</table>\n",
       "</div>"
      ],
      "text/plain": [
       "          cols       imp\n",
       "123    SR_B5_8  0.159146\n",
       "124    SR_B7_8  0.146356\n",
       "109    SR_B5_5  0.059796\n",
       "121    SR_B3_8  0.058481\n",
       "128    SR_B3_9  0.054781\n",
       "139    NDVI_10  0.045201\n",
       "156     aspect  0.025986\n",
       "126    SR_B1_9  0.022700\n",
       "106    SR_B2_5  0.022160\n",
       "127    SR_B2_9  0.020599\n",
       "83      NDVI_1  0.019317\n",
       "125     NDVI_8  0.017136\n",
       "155  elevation  0.015053\n",
       "110    SR_B7_5  0.012976\n",
       "154      slope  0.012541\n",
       "96     SR_B7_3  0.012043\n",
       "80     SR_B4_1  0.011162\n",
       "82     SR_B7_1  0.010864\n",
       "120    SR_B2_8  0.010360\n",
       "119    SR_B1_8  0.009212"
      ]
     },
     "execution_count": 121,
     "metadata": {},
     "output_type": "execute_result"
    }
   ],
   "source": [
    "fi = rf.rf_feat_importance(m_2003, to_2003.train.xs)\n",
    "fi[:20]"
   ]
  },
  {
   "cell_type": "code",
   "execution_count": 84,
   "metadata": {},
   "outputs": [],
   "source": [
    "trainer = rf.MonthlyLandsatRF(2003)"
   ]
  },
  {
   "cell_type": "code",
   "execution_count": 85,
   "metadata": {},
   "outputs": [
    {
     "name": "stdout",
     "output_type": "stream",
     "text": [
      "2024-02-08 04:36:14,950 INFO: Training with features ['SR_B1_1', 'SR_B2_1', 'SR_B3_1', 'SR_B4_1', 'SR_B5_1', 'SR_B7_1', 'NDVI_1', 'SR_B1_2', 'SR_B2_2', 'SR_B3_2', 'SR_B4_2', 'SR_B5_2', 'SR_B7_2', 'NDVI_2', 'SR_B1_3', 'SR_B2_3', 'SR_B3_3', 'SR_B4_3', 'SR_B5_3', 'SR_B7_3', 'NDVI_3', 'SR_B1_4', 'SR_B2_4', 'SR_B3_4', 'SR_B4_4', 'SR_B5_4', 'SR_B7_4', 'NDVI_4', 'SR_B1_5', 'SR_B2_5', 'SR_B3_5', 'SR_B4_5', 'SR_B5_5', 'SR_B7_5', 'NDVI_5', 'SR_B1_7', 'SR_B2_7', 'SR_B3_7', 'SR_B4_7', 'SR_B5_7', 'SR_B7_7', 'NDVI_7', 'SR_B1_8', 'SR_B2_8', 'SR_B3_8', 'SR_B4_8', 'SR_B5_8', 'SR_B7_8', 'NDVI_8', 'SR_B1_9', 'SR_B2_9', 'SR_B3_9', 'SR_B4_9', 'SR_B5_9', 'SR_B7_9', 'NDVI_9', 'SR_B1_10', 'SR_B2_10', 'SR_B3_10', 'SR_B4_10', 'SR_B5_10', 'SR_B7_10', 'NDVI_10', 'SR_B1_11', 'SR_B2_11', 'SR_B3_11', 'SR_B4_11', 'SR_B5_11', 'SR_B7_11', 'NDVI_11', 'SR_B1_12', 'SR_B2_12', 'SR_B3_12', 'SR_B4_12', 'SR_B5_12', 'SR_B7_12', 'NDVI_12', 'slope', 'elevation', 'aspect', 'SR_B1_mean', 'SR_B1_max', 'SR_B1_min', 'SR_B1_coeff_v', 'SR_B2_mean', 'SR_B2_max', 'SR_B2_min', 'SR_B2_coeff_v', 'SR_B3_mean', 'SR_B3_max', 'SR_B3_min', 'SR_B3_coeff_v', 'SR_B4_mean', 'SR_B4_max', 'SR_B4_min', 'SR_B4_coeff_v', 'SR_B5_mean', 'SR_B5_max', 'SR_B5_min', 'SR_B5_coeff_v', 'SR_B7_mean', 'SR_B7_max', 'SR_B7_min', 'SR_B7_coeff_v', 'NDVI_mean', 'NDVI_max', 'NDVI_min', 'NDVI_coeff_v']. [in train at /home/jk871/fire-regen/src/counterfactuals/rf/rf.py:56]\n",
      "2024-02-08 04:36:17,706 INFO: PREP PREP PREP-- [in prep_data_for_rf at /home/jk871/fire-regen/src/counterfactuals/rf/train.py:76]\n",
      "2024-02-08 04:36:27,584 DEBUG: Start model training. [in train_rf at /home/jk871/fire-regen/src/counterfactuals/rf/train.py:45]\n",
      "2024-02-08 04:41:05,362 DEBUG: Training complete.\n",
      " [in train_rf at /home/jk871/fire-regen/src/counterfactuals/rf/train.py:47]\n",
      "2024-02-08 04:41:05,364 INFO: Training Accuracy: [in train_rf at /home/jk871/fire-regen/src/counterfactuals/rf/train.py:49]\n",
      "2024-02-08 04:41:06,716 INFO: RMSE: 6.624636845634278; [in log_accuracy at /home/jk871/fire-regen/src/counterfactuals/rf/train.py:65]\n",
      "2024-02-08 04:41:06,726 INFO: R^2: 0.601447169390289 [in log_accuracy at /home/jk871/fire-regen/src/counterfactuals/rf/train.py:66]\n",
      "2024-02-08 04:41:06,758 INFO: RMA: (0.534151604324563, -1.4897382382540183) [in log_accuracy at /home/jk871/fire-regen/src/counterfactuals/rf/train.py:67]\n",
      "2024-02-08 04:41:06,759 INFO: Validation error: 0.49731476298189126 [in train_rf at /home/jk871/fire-regen/src/counterfactuals/rf/train.py:52]\n",
      "2024-02-08 04:41:06,759 INFO: Test Accuracy: [in train_rf at /home/jk871/fire-regen/src/counterfactuals/rf/train.py:55]\n",
      "2024-02-08 04:41:07,389 INFO: RMSE: 8.120916417916881; [in log_accuracy at /home/jk871/fire-regen/src/counterfactuals/rf/train.py:65]\n",
      "2024-02-08 04:41:07,393 INFO: R^2: 0.4421584880501309 [in log_accuracy at /home/jk871/fire-regen/src/counterfactuals/rf/train.py:66]\n",
      "2024-02-08 04:41:07,402 INFO: RMA: (0.43432759514546454, 3.398634656084692) [in log_accuracy at /home/jk871/fire-regen/src/counterfactuals/rf/train.py:67]\n"
     ]
    }
   ],
   "source": [
    "m, to = trainer.train(\"rh_98\", calibration_ds, test_ds, augment=True)"
   ]
  },
  {
   "cell_type": "markdown",
   "metadata": {},
   "source": [
    "# Advanced Landsat"
   ]
  },
  {
   "cell_type": "code",
   "execution_count": null,
   "metadata": {},
   "outputs": [],
   "source": [
    "test_landsat_simple = load_pickle(f\"{INPUT_PATH}/set1/placebo_aug_landsat.pkl\")\n",
    "calibration_landsat_simple = load_pickle(f\"{INPUT_PATH}/set1/calibration_aug_landsat.pkl\")"
   ]
  },
  {
   "cell_type": "code",
   "execution_count": null,
   "metadata": {},
   "outputs": [],
   "source": [
    "test_ds = load_pickle(f\"{INPUT_PATH}/set1/placebo_aug_advanced_landsat.pkl\")\n",
    "test_ds[\"NDVI_2020\"] = test_landsat_simple.NDVI_2020\n",
    "test_ds[\"NDVI_leaf_on_mean\"] = test_landsat_simple.NDVI_2019"
   ]
  },
  {
   "cell_type": "code",
   "execution_count": null,
   "metadata": {},
   "outputs": [],
   "source": [
    "calibration = load_pickle(f\"{INPUT_PATH}/set1/calibration_aug__advanced_landsat.pkl\")\n",
    "calibration[\"NDVI_leaf_on_mean\"] = calibration_landsat_simple.NDVI_2019\n",
    "calibration[\"NDVI_2020\"] = calibration_landsat_simple.NDVI_2020"
   ]
  },
  {
   "cell_type": "code",
   "execution_count": null,
   "metadata": {},
   "outputs": [],
   "source": [
    "from src.data.processing import advanced_landsat_overlay as alo\n",
    "GEDI_VARIABLES = ['agbd', 'cover', 'fhd_normal', 'pai', 'rh_25', 'rh_50', 'rh_70', 'rh_98']\n",
    "TERRAIN_VARIABLES = ['slope', 'elevation', 'aspect']\n",
    "TS_LANDSAT = [\"NDVI_leaf_on_mean\"]\n",
    "for kind in [\"mean\", \"min\", \"max\", \"stddev\", \"qt_25\", \"qt_50\", \"qt_75\"]:\n",
    "    for band in alo.BANDS:\n",
    "        TS_LANDSAT.append(f\"{band}_{kind}\")"
   ]
  },
  {
   "cell_type": "code",
   "execution_count": null,
   "metadata": {},
   "outputs": [
    {
     "data": {
      "text/plain": [
       "'\\n    new_col = f\"{band}_max_median\"\\n    calibration[new_col] = calibration[f\"{band}_max\"] - calibration[f\"{band}_qt_50\"]\\n    AUG_VARS.append(new_col)\\n\\n    new_col = f\"{band}_max_qt_75\"\\n    calibration[new_col] = calibration[f\"{band}_max\"] - calibration[f\"{band}_qt_75\"]\\n    AUG_VARS.append(new_col)\\n\\n    new_col = f\"{band}_median_min\"\\n    calibration[new_col] = calibration[f\"{band}_qt_50\"] - calibration[f\"{band}_min\"]\\n    AUG_VARS.append(new_col)\\n\\n    new_col = f\"{band}_qt_25_min\"\\n    calibration[new_col] = calibration[f\"{band}_qt_25\"] - calibration[f\"{band}_min\"]\\n    AUG_VARS.append(new_col)\\n    '"
      ]
     },
     "execution_count": 12,
     "metadata": {},
     "output_type": "execute_result"
    }
   ],
   "source": [
    "AUG_VARS = []\n",
    "for band in alo.BANDS:\n",
    "    new_col = f\"{band}_max_min\"\n",
    "    calibration[new_col] = calibration[f\"{band}_max\"] - calibration[f\"{band}_min\"]\n",
    "    AUG_VARS.append(new_col)\n",
    "\n",
    "    new_col = f\"{band}_qt_50_qt_25\"\n",
    "    calibration[new_col] = calibration[f\"{band}_qt_50\"] - calibration[f\"{band}_qt_25\"]\n",
    "    AUG_VARS.append(new_col)\n",
    "\n",
    "    new_col = f\"{band}_qt_75_qt_25\"\n",
    "    calibration[new_col] = calibration[f\"{band}_qt_75\"] - calibration[f\"{band}_qt_25\"]\n",
    "    AUG_VARS.append(new_col)\n",
    "\n",
    "    new_col = f\"{band}_qt_75_qt_50\"\n",
    "    calibration[new_col] = calibration[f\"{band}_qt_75\"] - calibration[f\"{band}_qt_50\"]\n",
    "    AUG_VARS.append(new_col)\n",
    "\n",
    "    new_col = f\"{band}_max_median\"\n",
    "    calibration[new_col] = calibration[f\"{band}_max\"] - calibration[f\"{band}_qt_50\"]\n",
    "    AUG_VARS.append(new_col)\n",
    "\n",
    "    new_col = f\"{band}_max_qt_75\"\n",
    "    calibration[new_col] = calibration[f\"{band}_max\"] - calibration[f\"{band}_qt_75\"]\n",
    "    AUG_VARS.append(new_col)\n",
    "\n",
    "    new_col = f\"{band}_median_min\"\n",
    "    calibration[new_col] = calibration[f\"{band}_qt_50\"] - calibration[f\"{band}_min\"]\n",
    "    AUG_VARS.append(new_col)\n",
    "\n",
    "    new_col = f\"{band}_qt_25_min\"\n",
    "    calibration[new_col] = calibration[f\"{band}_qt_25\"] - calibration[f\"{band}_min\"]\n",
    "    AUG_VARS.append(new_col)\n",
    "    "
   ]
  },
  {
   "cell_type": "code",
   "execution_count": null,
   "metadata": {},
   "outputs": [
    {
     "data": {
      "text/plain": [
       "'\\n    new_col = f\"{band}_max_median\"\\n    test_ds[new_col] = test_ds[f\"{band}_max\"] - test_ds[f\"{band}_qt_50\"]\\n    AUG_VARS.append(new_col)\\n\\n    new_col = f\"{band}_max_qt_75\"\\n    test_ds[new_col] = test_ds[f\"{band}_max\"] - test_ds[f\"{band}_qt_75\"]\\n    AUG_VARS.append(new_col)\\n\\n    new_col = f\"{band}_median_min\"\\n    test_ds[new_col] = test_ds[f\"{band}_qt_50\"] - test_ds[f\"{band}_min\"]\\n    AUG_VARS.append(new_col)\\n\\n    new_col = f\"{band}_qt_25_min\"\\n    test_ds[new_col] = test_ds[f\"{band}_qt_25\"] - test_ds[f\"{band}_min\"]\\n    AUG_VARS.append(new_col)\\n    '"
      ]
     },
     "execution_count": 13,
     "metadata": {},
     "output_type": "execute_result"
    }
   ],
   "source": [
    "AUG_VARS = []\n",
    "for band in alo.BANDS:\n",
    "    new_col = f\"{band}_max_min\"\n",
    "    test_ds[new_col] = test_ds[f\"{band}_max\"] - test_ds[f\"{band}_min\"]\n",
    "    AUG_VARS.append(new_col)\n",
    "\n",
    "    new_col = f\"{band}_qt_50_qt_25\"\n",
    "    test_ds[new_col] = test_ds[f\"{band}_qt_50\"] - test_ds[f\"{band}_qt_25\"]\n",
    "    AUG_VARS.append(new_col)\n",
    "\n",
    "    new_col = f\"{band}_qt_75_qt_25\"\n",
    "    test_ds[new_col] = test_ds[f\"{band}_qt_75\"] - test_ds[f\"{band}_qt_25\"]\n",
    "    AUG_VARS.append(new_col)\n",
    "\n",
    "    new_col = f\"{band}_qt_75_qt_50\"\n",
    "    test_ds[new_col] = test_ds[f\"{band}_qt_75\"] - test_ds[f\"{band}_qt_50\"]\n",
    "    AUG_VARS.append(new_col)\n",
    "'''\n",
    "    new_col = f\"{band}_max_median\"\n",
    "    test_ds[new_col] = test_ds[f\"{band}_max\"] - test_ds[f\"{band}_qt_50\"]\n",
    "    AUG_VARS.append(new_col)\n",
    "\n",
    "    new_col = f\"{band}_max_qt_75\"\n",
    "    test_ds[new_col] = test_ds[f\"{band}_max\"] - test_ds[f\"{band}_qt_75\"]\n",
    "    AUG_VARS.append(new_col)\n",
    "\n",
    "    new_col = f\"{band}_median_min\"\n",
    "    test_ds[new_col] = test_ds[f\"{band}_qt_50\"] - test_ds[f\"{band}_min\"]\n",
    "    AUG_VARS.append(new_col)\n",
    "\n",
    "    new_col = f\"{band}_qt_25_min\"\n",
    "    test_ds[new_col] = test_ds[f\"{band}_qt_25\"] - test_ds[f\"{band}_min\"]\n",
    "    AUG_VARS.append(new_col)\n",
    "    '''"
   ]
  },
  {
   "cell_type": "code",
   "execution_count": null,
   "metadata": {},
   "outputs": [],
   "source": [
    "FEATURES = TERRAIN_VARIABLES + TS_LANDSAT + AUG_VARS#+  [\"gridded_pft_class\"]"
   ]
  },
  {
   "cell_type": "code",
   "execution_count": null,
   "metadata": {},
   "outputs": [],
   "source": [
    "calibration_no_na = calibration.dropna()\n",
    "test_ds_no_na = test_ds.dropna()"
   ]
  },
  {
   "cell_type": "code",
   "execution_count": null,
   "metadata": {},
   "outputs": [
    {
     "name": "stdout",
     "output_type": "stream",
     "text": [
      "2024-02-04 09:12:12,801 INFO: PREP PREP PREP [in prep_data_for_rf at /home/jk871/fire-regen/src/counterfactuals/rf/train.py:51]\n",
      "2024-02-04 09:12:17,349 DEBUG: Start model training. [in train_rf at /home/jk871/fire-regen/src/counterfactuals/rf/train.py:30]\n",
      "2024-02-04 09:29:59,062 DEBUG: Training complete. [in train_rf at /home/jk871/fire-regen/src/counterfactuals/rf/train.py:32]\n",
      "2024-02-04 09:30:06,181 INFO: Training rmse: 6.130150919539324; R^2: 0.6577773913404739 [in train_rf at /home/jk871/fire-regen/src/counterfactuals/rf/train.py:37]\n",
      "2024-02-04 09:30:06,183 INFO: Validation error: 0.5080824367532909 [in train_rf at /home/jk871/fire-regen/src/counterfactuals/rf/train.py:38]\n"
     ]
    }
   ],
   "source": [
    "# 500 estimators\n",
    "# min sample leaf = 20\n",
    "m, to = train_for_var(\"rh_98\", FEATURES, df=calibration_no_na)"
   ]
  },
  {
   "cell_type": "code",
   "execution_count": null,
   "metadata": {},
   "outputs": [
    {
     "name": "stdout",
     "output_type": "stream",
     "text": [
      "2024-02-04 09:30:55,551 INFO: PREP PREP PREP [in prep_data_for_rf at /home/jk871/fire-regen/src/counterfactuals/rf/train.py:51]\n",
      "Evaluating Placebo Set 1:\n",
      "RMSE: 7.797275880207327\n",
      "R^2: 0.4805984840877442\n",
      "RMA regression: (0.463504391142404, 1.750862638264648)\n"
     ]
    },
    {
     "data": {
      "image/png": "[encoded data removed]",
      "text/plain": [
       "<Figure size 1080x360 with 1 Axes>"
      ]
     },
     "metadata": {
      "needs_background": "light"
     },
     "output_type": "display_data"
    }
   ],
   "source": [
    "get_cf(\"rh_98\", m, FEATURES, df=calibration_no_na, tf=test_ds_no_na)\n",
    "evaluate_placebo_set(\"rh_98\", test_ds_no_na)"
   ]
  },
  {
   "cell_type": "code",
   "execution_count": null,
   "metadata": {},
   "outputs": [
    {
     "name": "stdout",
     "output_type": "stream",
     "text": [
      "2024-02-04 08:55:49,556 INFO: PREP PREP PREP [in prep_data_for_rf at /home/jk871/fire-regen/src/counterfactuals/rf/train.py:51]\n",
      "2024-02-04 08:56:31,271 DEBUG: Start model training. [in train_rf at /home/jk871/fire-regen/src/counterfactuals/rf/train.py:30]\n",
      "2024-02-04 09:07:00,040 DEBUG: Training complete. [in train_rf at /home/jk871/fire-regen/src/counterfactuals/rf/train.py:32]\n",
      "2024-02-04 09:07:04,151 INFO: Training rmse: 4.328067093150478; R^2: 0.8294096998857396 [in train_rf at /home/jk871/fire-regen/src/counterfactuals/rf/train.py:37]\n",
      "2024-02-04 09:07:04,153 INFO: Validation error: 0.5097403483332289 [in train_rf at /home/jk871/fire-regen/src/counterfactuals/rf/train.py:38]\n"
     ]
    }
   ],
   "source": [
    "# min sample leaf = 5\n",
    "m, to = train_for_var(\"rh_98\", FEATURES, df=calibration_no_na)"
   ]
  },
  {
   "cell_type": "code",
   "execution_count": null,
   "metadata": {},
   "outputs": [
    {
     "name": "stdout",
     "output_type": "stream",
     "text": [
      "2024-02-04 09:07:54,356 INFO: PREP PREP PREP [in prep_data_for_rf at /home/jk871/fire-regen/src/counterfactuals/rf/train.py:51]\n",
      "Evaluating Placebo Set 1:\n",
      "RMSE: 7.800062462874438\n",
      "R^2: 0.48022717135982707\n",
      "RMA regression: (0.46437570936748973, 1.7362421256609117)\n"
     ]
    },
    {
     "data": {
      "image/png": "[encoded data removed]",
      "text/plain": [
       "<Figure size 1080x360 with 1 Axes>"
      ]
     },
     "metadata": {},
     "output_type": "display_data"
    }
   ],
   "source": [
    "get_cf(\"rh_98\", m, FEATURES, df=calibration_no_na, tf=test_ds_no_na)\n",
    "evaluate_placebo_set(\"rh_98\", test_ds_no_na)"
   ]
  },
  {
   "cell_type": "code",
   "execution_count": null,
   "metadata": {},
   "outputs": [],
   "source": [
    "# Best so far -2\n",
    "save_pickle(f\"{DATA_PATH}/evaluation/rf/models/model_rh98_advanced_landsat_double_augmented_leaf_5.pkl\", m)\n",
    "to.export(f\"{DATA_PATH}/evaluation/rf/models/to_rh98_advanced_landsat_double_augmented_leaf_5.pkl\")"
   ]
  },
  {
   "cell_type": "code",
   "execution_count": null,
   "metadata": {},
   "outputs": [
    {
     "name": "stdout",
     "output_type": "stream",
     "text": [
      "2024-02-04 08:38:40,884 INFO: PREP PREP PREP [in prep_data_for_rf at /home/jk871/fire-regen/src/counterfactuals/rf/train.py:51]\n",
      "2024-02-04 08:38:56,560 DEBUG: Start model training. [in train_rf at /home/jk871/fire-regen/src/counterfactuals/rf/train.py:30]\n",
      "2024-02-04 08:46:19,258 DEBUG: Training complete. [in train_rf at /home/jk871/fire-regen/src/counterfactuals/rf/train.py:32]\n",
      "2024-02-04 08:46:21,493 INFO: Training rmse: 6.468420123340555; R^2: 0.6189668129825111 [in train_rf at /home/jk871/fire-regen/src/counterfactuals/rf/train.py:37]\n",
      "2024-02-04 08:46:21,494 INFO: Validation error: 0.5024303367687233 [in train_rf at /home/jk871/fire-regen/src/counterfactuals/rf/train.py:38]\n"
     ]
    }
   ],
   "source": [
    "m, to = train_for_var(\"rh_98\", FEATURES, df=calibration_no_na)"
   ]
  },
  {
   "cell_type": "code",
   "execution_count": null,
   "metadata": {},
   "outputs": [],
   "source": [
    "# Best so far -2\n",
    "save_pickle(f\"{DATA_PATH}/evaluation/rf/models/model_rh98_advanced_landsat_double_augmented.pkl\", m)\n",
    "to.export(f\"{DATA_PATH}/evaluation/rf/models/to_rh98_advanced_landsat_double_augmented.pkl\")"
   ]
  },
  {
   "cell_type": "code",
   "execution_count": null,
   "metadata": {},
   "outputs": [
    {
     "name": "stdout",
     "output_type": "stream",
     "text": [
      "2024-02-04 08:47:20,549 INFO: PREP PREP PREP [in prep_data_for_rf at /home/jk871/fire-regen/src/counterfactuals/rf/train.py:51]\n"
     ]
    },
    {
     "name": "stderr",
     "output_type": "stream",
     "text": [
      "/home/jk871/drought-with-gedi/drought/lib/python3.10/site-packages/geopandas/geodataframe.py:1543: PerformanceWarning: DataFrame is highly fragmented.  This is usually the result of calling `frame.insert` many times, which has poor performance.  Consider joining all columns at once using pd.concat(axis=1) instead. To get a de-fragmented frame, use `newframe = frame.copy()`\n",
      "  super().__setitem__(key, value)\n"
     ]
    },
    {
     "name": "stdout",
     "output_type": "stream",
     "text": [
      "Evaluating Placebo Set 1:\n",
      "RMSE: 7.823287821998173\n",
      "R^2: 0.4771272261367502\n",
      "RMA regression: (0.459322646596258, 1.8999650872174225)\n"
     ]
    },
    {
     "data": {
      "image/png": "[encoded data removed]",
      "text/plain": [
       "<Figure size 1080x360 with 1 Axes>"
      ]
     },
     "metadata": {},
     "output_type": "display_data"
    }
   ],
   "source": [
    "get_cf(\"rh_98\", m, FEATURES, df=calibration_no_na, tf=test_ds_no_na)\n",
    "evaluate_placebo_set(\"rh_98\", test_ds_no_na)"
   ]
  },
  {
   "cell_type": "code",
   "execution_count": null,
   "metadata": {},
   "outputs": [
    {
     "data": {
      "text/html": [
       "<div>\n",
       "<style scoped>\n",
       "    .dataframe tbody tr th:only-of-type {\n",
       "        vertical-align: middle;\n",
       "    }\n",
       "\n",
       "    .dataframe tbody tr th {\n",
       "        vertical-align: top;\n",
       "    }\n",
       "\n",
       "    .dataframe thead th {\n",
       "        text-align: right;\n",
       "    }\n",
       "</style>\n",
       "<table border=\"1\" class=\"dataframe\">\n",
       "  <thead>\n",
       "    <tr style=\"text-align: right;\">\n",
       "      <th></th>\n",
       "      <th>cols</th>\n",
       "      <th>imp</th>\n",
       "    </tr>\n",
       "  </thead>\n",
       "  <tbody>\n",
       "    <tr>\n",
       "      <th>106</th>\n",
       "      <td>SR_B7_qt_75</td>\n",
       "      <td>0.186757</td>\n",
       "    </tr>\n",
       "    <tr>\n",
       "      <th>105</th>\n",
       "      <td>SR_B6_qt_75</td>\n",
       "      <td>0.105846</td>\n",
       "    </tr>\n",
       "    <tr>\n",
       "      <th>86</th>\n",
       "      <td>SR_B3_qt_50</td>\n",
       "      <td>0.067157</td>\n",
       "    </tr>\n",
       "    <tr>\n",
       "      <th>10</th>\n",
       "      <td>SR_B7_mean</td>\n",
       "      <td>0.052978</td>\n",
       "    </tr>\n",
       "    <tr>\n",
       "      <th>87</th>\n",
       "      <td>SR_B4_qt_50</td>\n",
       "      <td>0.049170</td>\n",
       "    </tr>\n",
       "    <tr>\n",
       "      <th>13</th>\n",
       "      <td>NBR_mean</td>\n",
       "      <td>0.037172</td>\n",
       "    </tr>\n",
       "    <tr>\n",
       "      <th>103</th>\n",
       "      <td>SR_B4_qt_75</td>\n",
       "      <td>0.024692</td>\n",
       "    </tr>\n",
       "    <tr>\n",
       "      <th>2</th>\n",
       "      <td>aspect</td>\n",
       "      <td>0.019319</td>\n",
       "    </tr>\n",
       "    <tr>\n",
       "      <th>90</th>\n",
       "      <td>SR_B7_qt_50</td>\n",
       "      <td>0.017552</td>\n",
       "    </tr>\n",
       "    <tr>\n",
       "      <th>71</th>\n",
       "      <td>SR_B4_qt_25</td>\n",
       "      <td>0.016653</td>\n",
       "    </tr>\n",
       "  </tbody>\n",
       "</table>\n",
       "</div>"
      ],
      "text/plain": [
       "            cols       imp\n",
       "106  SR_B7_qt_75  0.186757\n",
       "105  SR_B6_qt_75  0.105846\n",
       "86   SR_B3_qt_50  0.067157\n",
       "10    SR_B7_mean  0.052978\n",
       "87   SR_B4_qt_50  0.049170\n",
       "13      NBR_mean  0.037172\n",
       "103  SR_B4_qt_75  0.024692\n",
       "2         aspect  0.019319\n",
       "90   SR_B7_qt_50  0.017552\n",
       "71   SR_B4_qt_25  0.016653"
      ]
     },
     "execution_count": 65,
     "metadata": {},
     "output_type": "execute_result"
    }
   ],
   "source": [
    "fi = rf_feat_importance(m, to.train.xs)\n",
    "fi[:10]"
   ]
  },
  {
   "cell_type": "code",
   "execution_count": null,
   "metadata": {},
   "outputs": [
    {
     "data": {
      "image/png": "[encoded data removed]",
      "text/plain": [
       "<Figure size 864x504 with 1 Axes>"
      ]
     },
     "metadata": {},
     "output_type": "display_data"
    }
   ],
   "source": [
    "def plot_fi(fi):\n",
    "    return fi.plot('cols', 'imp', 'barh', figsize=(12,7), legend=False)\n",
    "\n",
    "plot_fi(fi[:30]);"
   ]
  },
  {
   "cell_type": "code",
   "execution_count": null,
   "metadata": {},
   "outputs": [
    {
     "name": "stdout",
     "output_type": "stream",
     "text": [
      "2024-02-04 08:28:49,469 INFO: PREP PREP PREP [in prep_data_for_rf at /home/jk871/fire-regen/src/counterfactuals/rf/train.py:51]\n",
      "2024-02-04 08:28:52,774 DEBUG: Start model training. [in train_rf at /home/jk871/fire-regen/src/counterfactuals/rf/train.py:30]\n",
      "2024-02-04 08:34:35,225 DEBUG: Training complete. [in train_rf at /home/jk871/fire-regen/src/counterfactuals/rf/train.py:32]\n",
      "2024-02-04 08:34:37,650 INFO: Training rmse: 5.145467702989766; R^2: 0.6302565301920858 [in train_rf at /home/jk871/fire-regen/src/counterfactuals/rf/train.py:37]\n",
      "2024-02-04 08:34:37,651 INFO: Validation error: 0.5225922378278919 [in train_rf at /home/jk871/fire-regen/src/counterfactuals/rf/train.py:38]\n"
     ]
    }
   ],
   "source": [
    "m, to = train_for_var(\"rh_70\", FEATURES, df=calibration_no_na)"
   ]
  },
  {
   "cell_type": "code",
   "execution_count": null,
   "metadata": {},
   "outputs": [
    {
     "name": "stdout",
     "output_type": "stream",
     "text": [
      "2024-02-04 08:35:05,456 INFO: PREP PREP PREP [in prep_data_for_rf at /home/jk871/fire-regen/src/counterfactuals/rf/train.py:51]\n",
      "Evaluating Placebo Set 1:\n",
      "RMSE: 6.412415046781605\n",
      "R^2: 0.4964988957623486\n",
      "RMA regression: (0.4861142934648882, 0.33845843355925975)\n"
     ]
    },
    {
     "data": {
      "image/png": "[encoded data removed]",
      "text/plain": [
       "<Figure size 1080x360 with 1 Axes>"
      ]
     },
     "metadata": {},
     "output_type": "display_data"
    }
   ],
   "source": [
    "get_cf(\"rh_70\", m, FEATURES, df=calibration_no_na, tf=test_ds_no_na)\n",
    "evaluate_placebo_set(\"rh_70\", test_ds_no_na)"
   ]
  },
  {
   "cell_type": "code",
   "execution_count": null,
   "metadata": {},
   "outputs": [
    {
     "name": "stdout",
     "output_type": "stream",
     "text": [
      "2024-02-04 08:20:00,328 INFO: PREP PREP PREP [in prep_data_for_rf at /home/jk871/fire-regen/src/counterfactuals/rf/train.py:51]\n",
      "2024-02-04 08:20:06,736 DEBUG: Start model training. [in train_rf at /home/jk871/fire-regen/src/counterfactuals/rf/train.py:30]\n",
      "2024-02-04 08:25:48,485 DEBUG: Training complete. [in train_rf at /home/jk871/fire-regen/src/counterfactuals/rf/train.py:32]\n",
      "2024-02-04 08:25:50,803 INFO: Training rmse: 6.511231298541489; R^2: 0.6139063932186928 [in train_rf at /home/jk871/fire-regen/src/counterfactuals/rf/train.py:37]\n",
      "2024-02-04 08:25:50,804 INFO: Validation error: 0.5010847421304083 [in train_rf at /home/jk871/fire-regen/src/counterfactuals/rf/train.py:38]\n"
     ]
    }
   ],
   "source": [
    "m, to = train_for_var(\"rh_98\", FEATURES, df=calibration_no_na)"
   ]
  },
  {
   "cell_type": "code",
   "execution_count": null,
   "metadata": {},
   "outputs": [
    {
     "name": "stdout",
     "output_type": "stream",
     "text": [
      "2024-02-04 08:26:31,327 INFO: PREP PREP PREP [in prep_data_for_rf at /home/jk871/fire-regen/src/counterfactuals/rf/train.py:51]\n",
      "Evaluating Placebo Set 1:\n",
      "RMSE: 7.841250043849296\n",
      "R^2: 0.4747234442700613\n",
      "RMA regression: (0.4575786845420703, 1.772059766919579)\n"
     ]
    },
    {
     "data": {
      "image/png": "[encoded data removed]",
      "text/plain": [
       "<Figure size 1080x360 with 1 Axes>"
      ]
     },
     "metadata": {},
     "output_type": "display_data"
    }
   ],
   "source": [
    "get_cf(\"rh_98\", m, FEATURES, df=calibration_no_na, tf=test_ds_no_na)\n",
    "evaluate_placebo_set(\"rh_98\", test_ds_no_na)"
   ]
  },
  {
   "cell_type": "code",
   "execution_count": null,
   "metadata": {},
   "outputs": [
    {
     "name": "stdout",
     "output_type": "stream",
     "text": [
      "2024-02-04 08:01:03,151 DEBUG: Start model training. [in train_rf at /home/jk871/fire-regen/src/counterfactuals/rf/train.py:30]\n",
      "2024-02-04 08:06:44,730 DEBUG: Training complete. [in train_rf at /home/jk871/fire-regen/src/counterfactuals/rf/train.py:32]\n",
      "2024-02-04 08:06:47,076 INFO: Training rmse: 6.512654320106609; R^2: 0.6137376142148789 [in train_rf at /home/jk871/fire-regen/src/counterfactuals/rf/train.py:37]\n",
      "2024-02-04 08:06:47,077 INFO: Validation error: 0.5009683726438119 [in train_rf at /home/jk871/fire-regen/src/counterfactuals/rf/train.py:38]\n"
     ]
    }
   ],
   "source": [
    "m, to = train_for_var(\"rh_98\", FEATURES, df=calibration_no_na)"
   ]
  },
  {
   "cell_type": "code",
   "execution_count": null,
   "metadata": {},
   "outputs": [],
   "source": [
    "# Best so far\n",
    "save_pickle(f\"{DATA_PATH}/evaluation/rf/models/model_rh98_advanced_landsat_augmented.pkl\", m)\n",
    "to.export(f\"{DATA_PATH}/evaluation/rf/models/to_rh98_advanced_landsat_augmented.pkl\")"
   ]
  },
  {
   "cell_type": "code",
   "execution_count": null,
   "metadata": {},
   "outputs": [
    {
     "name": "stdout",
     "output_type": "stream",
     "text": [
      "2024-02-04 08:10:45,805 DEBUG: Optimizing for log [in train_rf at /home/jk871/fire-regen/src/counterfactuals/rf/train.py:23]\n",
      "2024-02-04 08:10:50,528 DEBUG: Start model training. [in train_rf at /home/jk871/fire-regen/src/counterfactuals/rf/train.py:30]\n",
      "2024-02-04 08:16:54,841 DEBUG: Training complete. [in train_rf at /home/jk871/fire-regen/src/counterfactuals/rf/train.py:32]\n",
      "2024-02-04 08:16:57,101 INFO: Training rmse: 0.35071796161847; R^2: 0.5997536087872758 [in train_rf at /home/jk871/fire-regen/src/counterfactuals/rf/train.py:37]\n",
      "2024-02-04 08:16:57,102 INFO: Validation error: 0.4855964316680522 [in train_rf at /home/jk871/fire-regen/src/counterfactuals/rf/train.py:38]\n"
     ]
    }
   ],
   "source": [
    "m, to = train_for_var(\"rh_98\", FEATURES, df=calibration_no_na, log=True)"
   ]
  },
  {
   "cell_type": "code",
   "execution_count": null,
   "metadata": {},
   "outputs": [
    {
     "name": "stdout",
     "output_type": "stream",
     "text": [
      "Evaluating Placebo Set 1:\n",
      "RMSE: 8.020532295041404\n",
      "R^2: 0.45042901535399704\n",
      "RMA regression: (0.46746486621843236, -0.04585277154678913)\n"
     ]
    },
    {
     "data": {
      "image/png": "[encoded data removed]",
      "text/plain": [
       "<Figure size 1080x360 with 1 Axes>"
      ]
     },
     "metadata": {},
     "output_type": "display_data"
    }
   ],
   "source": [
    "get_cf(\"rh_98\", m, FEATURES, df=calibration_no_na, tf=test_ds_no_na, log=True)\n",
    "evaluate_placebo_set(\"rh_98\", test_ds_no_na)"
   ]
  },
  {
   "cell_type": "code",
   "execution_count": null,
   "metadata": {},
   "outputs": [],
   "source": [
    "save_pickle(f\"{DATA_PATH}/evaluation/rf/models/model_rh98_advanced_landsat_augmented_log.pkl\", m)\n",
    "to.export(f\"{DATA_PATH}/evaluation/rf/models/to_rh98_advanced_landsat_augmented_log.pkl\")"
   ]
  },
  {
   "cell_type": "code",
   "execution_count": null,
   "metadata": {},
   "outputs": [
    {
     "name": "stdout",
     "output_type": "stream",
     "text": [
      "Evaluating Placebo Set 1:\n",
      "RMSE: 7.822651528880028\n",
      "R^2: 0.4772122765210517\n",
      "RMA regression: (0.46137365406466363, 1.8362519288990384)\n"
     ]
    },
    {
     "data": {
      "image/png": "[encoded data removed]",
      "text/plain": [
       "<Figure size 1080x360 with 1 Axes>"
      ]
     },
     "metadata": {
      "needs_background": "light"
     },
     "output_type": "display_data"
    }
   ],
   "source": [
    "get_cf(\"rh_98\", m, FEATURES, df=calibration_no_na, tf=test_ds_no_na)\n",
    "evaluate_placebo_set(\"rh_98\", test_ds_no_na)"
   ]
  },
  {
   "cell_type": "code",
   "execution_count": null,
   "metadata": {},
   "outputs": [
    {
     "data": {
      "text/html": [
       "<div>\n",
       "<style scoped>\n",
       "    .dataframe tbody tr th:only-of-type {\n",
       "        vertical-align: middle;\n",
       "    }\n",
       "\n",
       "    .dataframe tbody tr th {\n",
       "        vertical-align: top;\n",
       "    }\n",
       "\n",
       "    .dataframe thead th {\n",
       "        text-align: right;\n",
       "    }\n",
       "</style>\n",
       "<table border=\"1\" class=\"dataframe\">\n",
       "  <thead>\n",
       "    <tr style=\"text-align: right;\">\n",
       "      <th></th>\n",
       "      <th>geometry</th>\n",
       "      <th>agbd</th>\n",
       "      <th>cover</th>\n",
       "      <th>fhd_normal</th>\n",
       "      <th>pai</th>\n",
       "      <th>rh_25</th>\n",
       "      <th>rh_50</th>\n",
       "      <th>rh_70</th>\n",
       "      <th>rh_98</th>\n",
       "      <th>gridded_pft_class</th>\n",
       "      <th>...</th>\n",
       "      <th>NDWI_qt_75</th>\n",
       "      <th>NBR_qt_75</th>\n",
       "      <th>NDMI_qt_75</th>\n",
       "      <th>SWIRS_qt_75</th>\n",
       "      <th>SVVI_qt_75</th>\n",
       "      <th>brightness_qt_75</th>\n",
       "      <th>greenness_qt_75</th>\n",
       "      <th>wetness_qt_75</th>\n",
       "      <th>NDVI_leaf_on_mean</th>\n",
       "      <th>NDVI_2020</th>\n",
       "    </tr>\n",
       "    <tr>\n",
       "      <th>shot_number</th>\n",
       "      <th></th>\n",
       "      <th></th>\n",
       "      <th></th>\n",
       "      <th></th>\n",
       "      <th></th>\n",
       "      <th></th>\n",
       "      <th></th>\n",
       "      <th></th>\n",
       "      <th></th>\n",
       "      <th></th>\n",
       "      <th></th>\n",
       "      <th></th>\n",
       "      <th></th>\n",
       "      <th></th>\n",
       "      <th></th>\n",
       "      <th></th>\n",
       "      <th></th>\n",
       "      <th></th>\n",
       "      <th></th>\n",
       "      <th></th>\n",
       "      <th></th>\n",
       "    </tr>\n",
       "  </thead>\n",
       "  <tbody>\n",
       "    <tr>\n",
       "      <th>135940500200080654</th>\n",
       "      <td>POINT (-119.06421 37.21426)</td>\n",
       "      <td>249.816879</td>\n",
       "      <td>0.458487</td>\n",
       "      <td>3.283604</td>\n",
       "      <td>1.22681</td>\n",
       "      <td>-0.03</td>\n",
       "      <td>2.84</td>\n",
       "      <td>19.25</td>\n",
       "      <td>31.200001</td>\n",
       "      <td>1</td>\n",
       "      <td>...</td>\n",
       "      <td>-0.396924</td>\n",
       "      <td>0.773216</td>\n",
       "      <td>0.798612</td>\n",
       "      <td>0.227114</td>\n",
       "      <td>0.0</td>\n",
       "      <td>0.27079</td>\n",
       "      <td>0.06867</td>\n",
       "      <td>0.059845</td>\n",
       "      <td>0.522819</td>\n",
       "      <td>0.47904</td>\n",
       "    </tr>\n",
       "  </tbody>\n",
       "</table>\n",
       "<p>1 rows × 127 columns</p>\n",
       "</div>"
      ],
      "text/plain": [
       "                                       geometry        agbd     cover  \\\n",
       "shot_number                                                             \n",
       "135940500200080654  POINT (-119.06421 37.21426)  249.816879  0.458487   \n",
       "\n",
       "                    fhd_normal      pai  rh_25  rh_50  rh_70      rh_98  \\\n",
       "shot_number                                                               \n",
       "135940500200080654    3.283604  1.22681  -0.03   2.84  19.25  31.200001   \n",
       "\n",
       "                    gridded_pft_class  ...  NDWI_qt_75  NBR_qt_75  NDMI_qt_75  \\\n",
       "shot_number                            ...                                      \n",
       "135940500200080654                  1  ...   -0.396924   0.773216    0.798612   \n",
       "\n",
       "                    SWIRS_qt_75  SVVI_qt_75  brightness_qt_75  \\\n",
       "shot_number                                                     \n",
       "135940500200080654     0.227114         0.0           0.27079   \n",
       "\n",
       "                    greenness_qt_75  wetness_qt_75  NDVI_leaf_on_mean  \\\n",
       "shot_number                                                             \n",
       "135940500200080654          0.06867       0.059845           0.522819   \n",
       "\n",
       "                    NDVI_2020  \n",
       "shot_number                    \n",
       "135940500200080654    0.47904  \n",
       "\n",
       "[1 rows x 127 columns]"
      ]
     },
     "execution_count": 27,
     "metadata": {},
     "output_type": "execute_result"
    }
   ],
   "source": [
    "calibration[np.isinf(calibration.NBR_qt_25)]"
   ]
  },
  {
   "cell_type": "code",
   "execution_count": null,
   "metadata": {},
   "outputs": [],
   "source": [
    "m, to = train_for_var(\"rh_98\", FEATURES, df=calibration_no_na)"
   ]
  },
  {
   "cell_type": "code",
   "execution_count": null,
   "metadata": {},
   "outputs": [],
   "source": [
    "calibration = calibration.drop(135940500200080654)"
   ]
  },
  {
   "cell_type": "code",
   "execution_count": null,
   "metadata": {},
   "outputs": [
    {
     "data": {
      "text/plain": [
       "False"
      ]
     },
     "execution_count": 22,
     "metadata": {},
     "output_type": "execute_result"
    }
   ],
   "source": [
    "np.any(np.isinf(calibration[\"NDVI_max\"]))"
   ]
  },
  {
   "cell_type": "code",
   "execution_count": null,
   "metadata": {},
   "outputs": [],
   "source": [
    "for col in FEATURES:\n",
    "    if np.any(np.isinf(calibration[col])):\n",
    "        print(col)"
   ]
  },
  {
   "cell_type": "code",
   "execution_count": null,
   "metadata": {},
   "outputs": [],
   "source": [
    "qt_25_columns = [f\"{band}_qt_25\" for band in alo.BANDS]"
   ]
  },
  {
   "cell_type": "code",
   "execution_count": null,
   "metadata": {},
   "outputs": [],
   "source": [
    "all_max_rows = []\n",
    "for col in qt_25_columns:\n",
    "    all_max_rows.append(calibration[calibration[col] > 1000000])\n",
    "    all_max_rows.append(calibration[calibration[col] < -1000000])\n",
    "all_extreme_rows = pd.concat(all_max_rows)"
   ]
  },
  {
   "cell_type": "code",
   "execution_count": null,
   "metadata": {},
   "outputs": [],
   "source": [
    "calibration = calibration.drop(all_extreme_rows.index)"
   ]
  },
  {
   "cell_type": "code",
   "execution_count": null,
   "metadata": {},
   "outputs": [
    {
     "data": {
      "text/html": [
       "<div>\n",
       "<style scoped>\n",
       "    .dataframe tbody tr th:only-of-type {\n",
       "        vertical-align: middle;\n",
       "    }\n",
       "\n",
       "    .dataframe tbody tr th {\n",
       "        vertical-align: top;\n",
       "    }\n",
       "\n",
       "    .dataframe thead th {\n",
       "        text-align: right;\n",
       "    }\n",
       "</style>\n",
       "<table border=\"1\" class=\"dataframe\">\n",
       "  <thead>\n",
       "    <tr style=\"text-align: right;\">\n",
       "      <th></th>\n",
       "      <th>geometry</th>\n",
       "      <th>agbd</th>\n",
       "      <th>cover</th>\n",
       "      <th>fhd_normal</th>\n",
       "      <th>pai</th>\n",
       "      <th>rh_25</th>\n",
       "      <th>rh_50</th>\n",
       "      <th>rh_70</th>\n",
       "      <th>rh_98</th>\n",
       "      <th>gridded_pft_class</th>\n",
       "      <th>...</th>\n",
       "      <th>NDWI_qt_75</th>\n",
       "      <th>NBR_qt_75</th>\n",
       "      <th>NDMI_qt_75</th>\n",
       "      <th>SWIRS_qt_75</th>\n",
       "      <th>SVVI_qt_75</th>\n",
       "      <th>brightness_qt_75</th>\n",
       "      <th>greenness_qt_75</th>\n",
       "      <th>wetness_qt_75</th>\n",
       "      <th>NDVI_leaf_on_mean</th>\n",
       "      <th>NDVI_2020</th>\n",
       "    </tr>\n",
       "    <tr>\n",
       "      <th>shot_number</th>\n",
       "      <th></th>\n",
       "      <th></th>\n",
       "      <th></th>\n",
       "      <th></th>\n",
       "      <th></th>\n",
       "      <th></th>\n",
       "      <th></th>\n",
       "      <th></th>\n",
       "      <th></th>\n",
       "      <th></th>\n",
       "      <th></th>\n",
       "      <th></th>\n",
       "      <th></th>\n",
       "      <th></th>\n",
       "      <th></th>\n",
       "      <th></th>\n",
       "      <th></th>\n",
       "      <th></th>\n",
       "      <th></th>\n",
       "      <th></th>\n",
       "      <th></th>\n",
       "    </tr>\n",
       "  </thead>\n",
       "  <tbody>\n",
       "  </tbody>\n",
       "</table>\n",
       "<p>0 rows × 127 columns</p>\n",
       "</div>"
      ],
      "text/plain": [
       "Empty GeoDataFrame\n",
       "Columns: [geometry, agbd, cover, fhd_normal, pai, rh_25, rh_50, rh_70, rh_98, gridded_pft_class, slope, elevation, aspect, SR_B1_mean, SR_B2_mean, SR_B3_mean, SR_B4_mean, SR_B5_mean, SR_B6_mean, SR_B7_mean, NDVI_mean, NDWI_mean, NBR_mean, NDMI_mean, SWIRS_mean, SVVI_mean, brightness_mean, greenness_mean, wetness_mean, SR_B1_min, SR_B2_min, SR_B3_min, SR_B4_min, SR_B5_min, SR_B6_min, SR_B7_min, NDVI_min, NDWI_min, NBR_min, NDMI_min, SWIRS_min, SVVI_min, brightness_min, greenness_min, wetness_min, SR_B1_max, SR_B2_max, SR_B3_max, SR_B4_max, SR_B5_max, SR_B6_max, SR_B7_max, NDVI_max, NDWI_max, NBR_max, NDMI_max, SWIRS_max, SVVI_max, brightness_max, greenness_max, wetness_max, SR_B1_stddev, SR_B2_stddev, SR_B3_stddev, SR_B4_stddev, SR_B5_stddev, SR_B6_stddev, SR_B7_stddev, NDVI_stddev, NDWI_stddev, NBR_stddev, NDMI_stddev, SWIRS_stddev, SVVI_stddev, brightness_stddev, greenness_stddev, wetness_stddev, SR_B1_qt_25, SR_B2_qt_25, SR_B3_qt_25, SR_B4_qt_25, SR_B5_qt_25, SR_B6_qt_25, SR_B7_qt_25, NDVI_qt_25, NDWI_qt_25, NBR_qt_25, NDMI_qt_25, SWIRS_qt_25, SVVI_qt_25, brightness_qt_25, greenness_qt_25, wetness_qt_25, SR_B1_qt_50, SR_B2_qt_50, SR_B3_qt_50, SR_B4_qt_50, SR_B5_qt_50, SR_B6_qt_50, SR_B7_qt_50, ...]\n",
       "Index: []\n",
       "\n",
       "[0 rows x 127 columns]"
      ]
     },
     "execution_count": 71,
     "metadata": {},
     "output_type": "execute_result"
    }
   ],
   "source": [
    "calibration[calibration.SR_B1_qt_25 > 10000000]"
   ]
  },
  {
   "cell_type": "code",
   "execution_count": null,
   "metadata": {},
   "outputs": [
    {
     "data": {
      "text/plain": [
       "shot_number\n",
       "228681100200120029    0.649609\n",
       "153670600300529381    0.643879\n",
       "61060500200118832     0.587638\n",
       "236810800300288280    0.566872\n",
       "20760300200229152     0.480419\n",
       "                        ...   \n",
       "108340100200122067         NaN\n",
       "105290200200082535         NaN\n",
       "56180100200141949          NaN\n",
       "201370500200078831         NaN\n",
       "217891100300283039         NaN\n",
       "Name: SR_B1_qt_25, Length: 1671273, dtype: float64"
      ]
     },
     "execution_count": 73,
     "metadata": {},
     "output_type": "execute_result"
    }
   ],
   "source": [
    "calibration.sort_values(by=\"SR_B1_qt_25\", ascending=False).SR_B1_qt_25"
   ]
  },
  {
   "cell_type": "code",
   "execution_count": null,
   "metadata": {},
   "outputs": [
    {
     "data": {
      "text/html": [
       "<div>\n",
       "<style scoped>\n",
       "    .dataframe tbody tr th:only-of-type {\n",
       "        vertical-align: middle;\n",
       "    }\n",
       "\n",
       "    .dataframe tbody tr th {\n",
       "        vertical-align: top;\n",
       "    }\n",
       "\n",
       "    .dataframe thead th {\n",
       "        text-align: right;\n",
       "    }\n",
       "</style>\n",
       "<table border=\"1\" class=\"dataframe\">\n",
       "  <thead>\n",
       "    <tr style=\"text-align: right;\">\n",
       "      <th></th>\n",
       "      <th>geometry</th>\n",
       "      <th>agbd</th>\n",
       "      <th>cover</th>\n",
       "      <th>fhd_normal</th>\n",
       "      <th>pai</th>\n",
       "      <th>rh_25</th>\n",
       "      <th>rh_50</th>\n",
       "      <th>rh_70</th>\n",
       "      <th>rh_98</th>\n",
       "      <th>gridded_pft_class</th>\n",
       "      <th>...</th>\n",
       "      <th>NDWI_qt_75</th>\n",
       "      <th>NBR_qt_75</th>\n",
       "      <th>NDMI_qt_75</th>\n",
       "      <th>SWIRS_qt_75</th>\n",
       "      <th>SVVI_qt_75</th>\n",
       "      <th>brightness_qt_75</th>\n",
       "      <th>greenness_qt_75</th>\n",
       "      <th>wetness_qt_75</th>\n",
       "      <th>NDVI_leaf_on_mean</th>\n",
       "      <th>NDVI_2020</th>\n",
       "    </tr>\n",
       "    <tr>\n",
       "      <th>shot_number</th>\n",
       "      <th></th>\n",
       "      <th></th>\n",
       "      <th></th>\n",
       "      <th></th>\n",
       "      <th></th>\n",
       "      <th></th>\n",
       "      <th></th>\n",
       "      <th></th>\n",
       "      <th></th>\n",
       "      <th></th>\n",
       "      <th></th>\n",
       "      <th></th>\n",
       "      <th></th>\n",
       "      <th></th>\n",
       "      <th></th>\n",
       "      <th></th>\n",
       "      <th></th>\n",
       "      <th></th>\n",
       "      <th></th>\n",
       "      <th></th>\n",
       "      <th></th>\n",
       "    </tr>\n",
       "  </thead>\n",
       "  <tbody>\n",
       "    <tr>\n",
       "      <th>49811100300246815</th>\n",
       "      <td>POINT (-120.79104 41.34600)</td>\n",
       "      <td>88.746674</td>\n",
       "      <td>0.293670</td>\n",
       "      <td>2.935234</td>\n",
       "      <td>0.695643</td>\n",
       "      <td>-0.89</td>\n",
       "      <td>2.69</td>\n",
       "      <td>7.58</td>\n",
       "      <td>19.549999</td>\n",
       "      <td>1</td>\n",
       "      <td>...</td>\n",
       "      <td>-0.631576</td>\n",
       "      <td>0.689060</td>\n",
       "      <td>0.488996</td>\n",
       "      <td>0.299362</td>\n",
       "      <td>0.0</td>\n",
       "      <td>0.222763</td>\n",
       "      <td>0.104535</td>\n",
       "      <td>0.015781</td>\n",
       "      <td>0.666703</td>\n",
       "      <td>0.673894</td>\n",
       "    </tr>\n",
       "    <tr>\n",
       "      <th>119970600300518496</th>\n",
       "      <td>POINT (-120.79438 41.34582)</td>\n",
       "      <td>40.457424</td>\n",
       "      <td>0.232379</td>\n",
       "      <td>2.706680</td>\n",
       "      <td>0.528927</td>\n",
       "      <td>-1.12</td>\n",
       "      <td>0.56</td>\n",
       "      <td>2.54</td>\n",
       "      <td>13.260000</td>\n",
       "      <td>1</td>\n",
       "      <td>...</td>\n",
       "      <td>-0.604011</td>\n",
       "      <td>0.606285</td>\n",
       "      <td>0.368737</td>\n",
       "      <td>0.291346</td>\n",
       "      <td>0.0</td>\n",
       "      <td>0.242475</td>\n",
       "      <td>0.107999</td>\n",
       "      <td>0.002101</td>\n",
       "      <td>0.640297</td>\n",
       "      <td>0.617801</td>\n",
       "    </tr>\n",
       "    <tr>\n",
       "      <th>119970600300518497</th>\n",
       "      <td>POINT (-120.79383 41.34552)</td>\n",
       "      <td>36.804237</td>\n",
       "      <td>0.238282</td>\n",
       "      <td>2.452687</td>\n",
       "      <td>0.544367</td>\n",
       "      <td>-1.08</td>\n",
       "      <td>0.59</td>\n",
       "      <td>2.62</td>\n",
       "      <td>11.200000</td>\n",
       "      <td>1</td>\n",
       "      <td>...</td>\n",
       "      <td>-0.609397</td>\n",
       "      <td>0.608298</td>\n",
       "      <td>0.378974</td>\n",
       "      <td>0.290731</td>\n",
       "      <td>0.0</td>\n",
       "      <td>0.239661</td>\n",
       "      <td>0.114273</td>\n",
       "      <td>0.003586</td>\n",
       "      <td>0.651192</td>\n",
       "      <td>0.630241</td>\n",
       "    </tr>\n",
       "    <tr>\n",
       "      <th>119970600300518498</th>\n",
       "      <td>POINT (-120.79328 41.34521)</td>\n",
       "      <td>34.897552</td>\n",
       "      <td>0.209621</td>\n",
       "      <td>2.545897</td>\n",
       "      <td>0.470491</td>\n",
       "      <td>-1.08</td>\n",
       "      <td>0.52</td>\n",
       "      <td>2.17</td>\n",
       "      <td>11.380000</td>\n",
       "      <td>1</td>\n",
       "      <td>...</td>\n",
       "      <td>-0.600497</td>\n",
       "      <td>0.574856</td>\n",
       "      <td>0.341943</td>\n",
       "      <td>0.284125</td>\n",
       "      <td>0.0</td>\n",
       "      <td>0.251196</td>\n",
       "      <td>0.105652</td>\n",
       "      <td>-0.002649</td>\n",
       "      <td>0.625229</td>\n",
       "      <td>0.608310</td>\n",
       "    </tr>\n",
       "    <tr>\n",
       "      <th>119970600300518499</th>\n",
       "      <td>POINT (-120.79273 41.34491)</td>\n",
       "      <td>38.231438</td>\n",
       "      <td>0.199425</td>\n",
       "      <td>2.578357</td>\n",
       "      <td>0.444855</td>\n",
       "      <td>-1.01</td>\n",
       "      <td>0.59</td>\n",
       "      <td>2.43</td>\n",
       "      <td>12.430000</td>\n",
       "      <td>1</td>\n",
       "      <td>...</td>\n",
       "      <td>-0.577432</td>\n",
       "      <td>0.522819</td>\n",
       "      <td>0.288362</td>\n",
       "      <td>0.265175</td>\n",
       "      <td>0.0</td>\n",
       "      <td>0.276858</td>\n",
       "      <td>0.098479</td>\n",
       "      <td>-0.010425</td>\n",
       "      <td>0.583765</td>\n",
       "      <td>0.565948</td>\n",
       "    </tr>\n",
       "    <tr>\n",
       "      <th>...</th>\n",
       "      <td>...</td>\n",
       "      <td>...</td>\n",
       "      <td>...</td>\n",
       "      <td>...</td>\n",
       "      <td>...</td>\n",
       "      <td>...</td>\n",
       "      <td>...</td>\n",
       "      <td>...</td>\n",
       "      <td>...</td>\n",
       "      <td>...</td>\n",
       "      <td>...</td>\n",
       "      <td>...</td>\n",
       "      <td>...</td>\n",
       "      <td>...</td>\n",
       "      <td>...</td>\n",
       "      <td>...</td>\n",
       "      <td>...</td>\n",
       "      <td>...</td>\n",
       "      <td>...</td>\n",
       "      <td>...</td>\n",
       "      <td>...</td>\n",
       "    </tr>\n",
       "    <tr>\n",
       "      <th>229750100200077573</th>\n",
       "      <td>POINT (-120.93387 38.77223)</td>\n",
       "      <td>50.674717</td>\n",
       "      <td>0.380660</td>\n",
       "      <td>2.533050</td>\n",
       "      <td>0.958360</td>\n",
       "      <td>-0.33</td>\n",
       "      <td>1.90</td>\n",
       "      <td>4.64</td>\n",
       "      <td>12.540000</td>\n",
       "      <td>1</td>\n",
       "      <td>...</td>\n",
       "      <td>-0.611735</td>\n",
       "      <td>0.458594</td>\n",
       "      <td>0.182585</td>\n",
       "      <td>0.311243</td>\n",
       "      <td>0.0</td>\n",
       "      <td>0.314675</td>\n",
       "      <td>0.126407</td>\n",
       "      <td>-0.042539</td>\n",
       "      <td>0.589830</td>\n",
       "      <td>0.524158</td>\n",
       "    </tr>\n",
       "    <tr>\n",
       "      <th>52060800200082421</th>\n",
       "      <td>POINT (-120.94456 38.77246)</td>\n",
       "      <td>157.037216</td>\n",
       "      <td>0.940653</td>\n",
       "      <td>2.876376</td>\n",
       "      <td>5.662046</td>\n",
       "      <td>8.12</td>\n",
       "      <td>11.45</td>\n",
       "      <td>14.19</td>\n",
       "      <td>22.540001</td>\n",
       "      <td>1</td>\n",
       "      <td>...</td>\n",
       "      <td>-0.566868</td>\n",
       "      <td>0.375195</td>\n",
       "      <td>0.130888</td>\n",
       "      <td>0.270185</td>\n",
       "      <td>0.0</td>\n",
       "      <td>0.371870</td>\n",
       "      <td>0.117178</td>\n",
       "      <td>-0.065016</td>\n",
       "      <td>0.510828</td>\n",
       "      <td>0.467573</td>\n",
       "    </tr>\n",
       "    <tr>\n",
       "      <th>233870800200082578</th>\n",
       "      <td>POINT (-120.93630 38.77354)</td>\n",
       "      <td>87.813187</td>\n",
       "      <td>0.310199</td>\n",
       "      <td>3.084839</td>\n",
       "      <td>0.742773</td>\n",
       "      <td>-0.63</td>\n",
       "      <td>2.32</td>\n",
       "      <td>5.91</td>\n",
       "      <td>23.700001</td>\n",
       "      <td>1</td>\n",
       "      <td>...</td>\n",
       "      <td>-0.617674</td>\n",
       "      <td>0.486440</td>\n",
       "      <td>0.222116</td>\n",
       "      <td>0.318730</td>\n",
       "      <td>0.0</td>\n",
       "      <td>0.310383</td>\n",
       "      <td>0.130833</td>\n",
       "      <td>-0.037408</td>\n",
       "      <td>0.595982</td>\n",
       "      <td>0.544236</td>\n",
       "    </tr>\n",
       "    <tr>\n",
       "      <th>233870800200082579</th>\n",
       "      <td>POINT (-120.93579 38.77387)</td>\n",
       "      <td>27.135309</td>\n",
       "      <td>0.042547</td>\n",
       "      <td>2.050207</td>\n",
       "      <td>0.086958</td>\n",
       "      <td>-2.28</td>\n",
       "      <td>-0.07</td>\n",
       "      <td>1.68</td>\n",
       "      <td>8.310000</td>\n",
       "      <td>1</td>\n",
       "      <td>...</td>\n",
       "      <td>-0.672083</td>\n",
       "      <td>0.566735</td>\n",
       "      <td>0.292182</td>\n",
       "      <td>0.337136</td>\n",
       "      <td>0.0</td>\n",
       "      <td>0.239879</td>\n",
       "      <td>0.128151</td>\n",
       "      <td>-0.016148</td>\n",
       "      <td>0.720108</td>\n",
       "      <td>0.629070</td>\n",
       "    </tr>\n",
       "    <tr>\n",
       "      <th>233870800200082582</th>\n",
       "      <td>POINT (-120.93425 38.77485)</td>\n",
       "      <td>23.297655</td>\n",
       "      <td>0.086493</td>\n",
       "      <td>2.097209</td>\n",
       "      <td>0.180932</td>\n",
       "      <td>-1.46</td>\n",
       "      <td>0.03</td>\n",
       "      <td>1.19</td>\n",
       "      <td>7.220000</td>\n",
       "      <td>1</td>\n",
       "      <td>...</td>\n",
       "      <td>-0.664347</td>\n",
       "      <td>0.543408</td>\n",
       "      <td>0.265445</td>\n",
       "      <td>0.339610</td>\n",
       "      <td>0.0</td>\n",
       "      <td>0.259915</td>\n",
       "      <td>0.138849</td>\n",
       "      <td>-0.022762</td>\n",
       "      <td>0.716284</td>\n",
       "      <td>0.598069</td>\n",
       "    </tr>\n",
       "  </tbody>\n",
       "</table>\n",
       "<p>1478214 rows × 127 columns</p>\n",
       "</div>"
      ],
      "text/plain": [
       "                                       geometry        agbd     cover  \\\n",
       "shot_number                                                             \n",
       "49811100300246815   POINT (-120.79104 41.34600)   88.746674  0.293670   \n",
       "119970600300518496  POINT (-120.79438 41.34582)   40.457424  0.232379   \n",
       "119970600300518497  POINT (-120.79383 41.34552)   36.804237  0.238282   \n",
       "119970600300518498  POINT (-120.79328 41.34521)   34.897552  0.209621   \n",
       "119970600300518499  POINT (-120.79273 41.34491)   38.231438  0.199425   \n",
       "...                                         ...         ...       ...   \n",
       "229750100200077573  POINT (-120.93387 38.77223)   50.674717  0.380660   \n",
       "52060800200082421   POINT (-120.94456 38.77246)  157.037216  0.940653   \n",
       "233870800200082578  POINT (-120.93630 38.77354)   87.813187  0.310199   \n",
       "233870800200082579  POINT (-120.93579 38.77387)   27.135309  0.042547   \n",
       "233870800200082582  POINT (-120.93425 38.77485)   23.297655  0.086493   \n",
       "\n",
       "                    fhd_normal       pai  rh_25  rh_50  rh_70      rh_98  \\\n",
       "shot_number                                                                \n",
       "49811100300246815     2.935234  0.695643  -0.89   2.69   7.58  19.549999   \n",
       "119970600300518496    2.706680  0.528927  -1.12   0.56   2.54  13.260000   \n",
       "119970600300518497    2.452687  0.544367  -1.08   0.59   2.62  11.200000   \n",
       "119970600300518498    2.545897  0.470491  -1.08   0.52   2.17  11.380000   \n",
       "119970600300518499    2.578357  0.444855  -1.01   0.59   2.43  12.430000   \n",
       "...                        ...       ...    ...    ...    ...        ...   \n",
       "229750100200077573    2.533050  0.958360  -0.33   1.90   4.64  12.540000   \n",
       "52060800200082421     2.876376  5.662046   8.12  11.45  14.19  22.540001   \n",
       "233870800200082578    3.084839  0.742773  -0.63   2.32   5.91  23.700001   \n",
       "233870800200082579    2.050207  0.086958  -2.28  -0.07   1.68   8.310000   \n",
       "233870800200082582    2.097209  0.180932  -1.46   0.03   1.19   7.220000   \n",
       "\n",
       "                    gridded_pft_class  ...  NDWI_qt_75  NBR_qt_75  NDMI_qt_75  \\\n",
       "shot_number                            ...                                      \n",
       "49811100300246815                   1  ...   -0.631576   0.689060    0.488996   \n",
       "119970600300518496                  1  ...   -0.604011   0.606285    0.368737   \n",
       "119970600300518497                  1  ...   -0.609397   0.608298    0.378974   \n",
       "119970600300518498                  1  ...   -0.600497   0.574856    0.341943   \n",
       "119970600300518499                  1  ...   -0.577432   0.522819    0.288362   \n",
       "...                               ...  ...         ...        ...         ...   \n",
       "229750100200077573                  1  ...   -0.611735   0.458594    0.182585   \n",
       "52060800200082421                   1  ...   -0.566868   0.375195    0.130888   \n",
       "233870800200082578                  1  ...   -0.617674   0.486440    0.222116   \n",
       "233870800200082579                  1  ...   -0.672083   0.566735    0.292182   \n",
       "233870800200082582                  1  ...   -0.664347   0.543408    0.265445   \n",
       "\n",
       "                    SWIRS_qt_75  SVVI_qt_75  brightness_qt_75  \\\n",
       "shot_number                                                     \n",
       "49811100300246815      0.299362         0.0          0.222763   \n",
       "119970600300518496     0.291346         0.0          0.242475   \n",
       "119970600300518497     0.290731         0.0          0.239661   \n",
       "119970600300518498     0.284125         0.0          0.251196   \n",
       "119970600300518499     0.265175         0.0          0.276858   \n",
       "...                         ...         ...               ...   \n",
       "229750100200077573     0.311243         0.0          0.314675   \n",
       "52060800200082421      0.270185         0.0          0.371870   \n",
       "233870800200082578     0.318730         0.0          0.310383   \n",
       "233870800200082579     0.337136         0.0          0.239879   \n",
       "233870800200082582     0.339610         0.0          0.259915   \n",
       "\n",
       "                    greenness_qt_75  wetness_qt_75  NDVI_leaf_on_mean  \\\n",
       "shot_number                                                             \n",
       "49811100300246815          0.104535       0.015781           0.666703   \n",
       "119970600300518496         0.107999       0.002101           0.640297   \n",
       "119970600300518497         0.114273       0.003586           0.651192   \n",
       "119970600300518498         0.105652      -0.002649           0.625229   \n",
       "119970600300518499         0.098479      -0.010425           0.583765   \n",
       "...                             ...            ...                ...   \n",
       "229750100200077573         0.126407      -0.042539           0.589830   \n",
       "52060800200082421          0.117178      -0.065016           0.510828   \n",
       "233870800200082578         0.130833      -0.037408           0.595982   \n",
       "233870800200082579         0.128151      -0.016148           0.720108   \n",
       "233870800200082582         0.138849      -0.022762           0.716284   \n",
       "\n",
       "                    NDVI_2020  \n",
       "shot_number                    \n",
       "49811100300246815    0.673894  \n",
       "119970600300518496   0.617801  \n",
       "119970600300518497   0.630241  \n",
       "119970600300518498   0.608310  \n",
       "119970600300518499   0.565948  \n",
       "...                       ...  \n",
       "229750100200077573   0.524158  \n",
       "52060800200082421    0.467573  \n",
       "233870800200082578   0.544236  \n",
       "233870800200082579   0.629070  \n",
       "233870800200082582   0.598069  \n",
       "\n",
       "[1478214 rows x 127 columns]"
      ]
     },
     "execution_count": 75,
     "metadata": {},
     "output_type": "execute_result"
    }
   ],
   "source": [
    "calibration.dropna()"
   ]
  },
  {
   "cell_type": "code",
   "execution_count": null,
   "metadata": {},
   "outputs": [
    {
     "data": {
      "text/plain": [
       "(430999, 395478)"
      ]
     },
     "execution_count": 80,
     "metadata": {},
     "output_type": "execute_result"
    }
   ],
   "source": [
    "len(test_ds), len(test_ds.dropna())"
   ]
  },
  {
   "cell_type": "code",
   "execution_count": null,
   "metadata": {},
   "outputs": [],
   "source": [
    "calibration_no_na = calibration.dropna()"
   ]
  },
  {
   "cell_type": "code",
   "execution_count": null,
   "metadata": {},
   "outputs": [
    {
     "name": "stdout",
     "output_type": "stream",
     "text": [
      "slope\n",
      "29.999863\n",
      "elevation\n",
      "3527.0\n",
      "aspect\n",
      "358.00635\n",
      "NDVI_leaf_on_mean\n",
      "0.9237126022890195\n",
      "SR_B1_mean\n",
      "0.74104828125\n",
      "SR_B2_mean\n",
      "0.7467190104166668\n",
      "SR_B3_mean\n",
      "0.7212534375000001\n",
      "SR_B4_mean\n",
      "0.71426671875\n",
      "SR_B5_mean\n",
      "0.7388884078839869\n",
      "SR_B6_mean\n",
      "0.36233125\n",
      "SR_B7_mean\n",
      "0.299379375\n",
      "NDVI_mean\n",
      "0.9193157320121369\n",
      "NDWI_mean\n",
      "0.423341432899146\n",
      "NBR_mean\n",
      "0.8930303035703209\n",
      "NDMI_mean\n",
      "0.92224233683894\n",
      "SWIRS_mean\n",
      "0.46345429468054833\n",
      "SVVI_mean\n",
      "0.0\n",
      "brightness_mean\n",
      "1.2586131897947639\n",
      "greenness_mean\n",
      "0.28550870681250007\n",
      "wetness_mean\n",
      "0.6098376590885417\n",
      "SR_B1_min\n",
      "0.42996312500000006\n",
      "SR_B2_min\n",
      "0.42780437500000007\n",
      "SR_B3_min\n",
      "0.45002437500000003\n",
      "SR_B4_min\n",
      "0.423115625\n",
      "SR_B5_min\n",
      "0.5999475000000001\n",
      "SR_B6_min\n",
      "0.297069375\n",
      "SR_B7_min\n",
      "0.2197325\n",
      "NDVI_min\n",
      "0.8688860580527777\n",
      "NDWI_min\n",
      "0.037641178467264086\n",
      "NBR_min\n",
      "0.8363191739057114\n",
      "NDMI_min\n",
      "0.860936540232633\n",
      "SWIRS_min\n",
      "0.4240686380517053\n",
      "SVVI_min\n",
      "0.0\n",
      "brightness_min\n",
      "0.8330049350625001\n",
      "greenness_min\n",
      "0.250245711875\n",
      "wetness_min\n",
      "0.43620583975\n",
      "SR_B1_max\n",
      "1.5999850000000002\n",
      "SR_B2_max\n",
      "1.5999850000000002\n",
      "SR_B3_max\n",
      "1.5999850000000002\n",
      "SR_B4_max\n",
      "1.5999850000000002\n",
      "SR_B5_max\n",
      "1.5999850000000002\n",
      "SR_B6_max\n",
      "1.2058\n",
      "SR_B7_max\n",
      "1.1094400000000002\n",
      "NDVI_max\n",
      "0.9998607747282788\n",
      "NDWI_max\n",
      "0.9728541039107059\n",
      "NBR_max\n",
      "0.9997253572551157\n",
      "NDMI_max\n",
      "0.9999213046839152\n",
      "SWIRS_max\n",
      "0.8718476582604325\n",
      "SVVI_max\n",
      "0.0\n",
      "brightness_max\n",
      "3.1237000815000004\n",
      "greenness_max\n",
      "0.49157330337500005\n",
      "wetness_max\n",
      "1.5609392201250003\n",
      "SR_B1_stddev\n",
      "0.6995445202006553\n",
      "SR_B2_stddev\n",
      "0.701666509272274\n",
      "SR_B3_stddev\n",
      "0.6802130411542787\n",
      "SR_B4_stddev\n",
      "0.6741563940669846\n",
      "SR_B5_stddev\n",
      "0.5665728242124977\n",
      "SR_B6_stddev\n",
      "0.20423375607199862\n",
      "SR_B7_stddev\n",
      "0.1934358718008372\n",
      "NDVI_stddev\n",
      "0.43976882418361424\n",
      "NDWI_stddev\n",
      "0.5488118327203132\n",
      "NBR_stddev\n",
      "0.4905460656365234\n",
      "NDMI_stddev\n",
      "0.5186025518395101\n",
      "SWIRS_stddev\n",
      "0.4820489883274212\n",
      "SVVI_stddev\n",
      "0.47281249633374545\n",
      "brightness_stddev\n",
      "1.028420504507055\n",
      "greenness_stddev\n",
      "0.37183695240562925\n",
      "wetness_stddev\n",
      "0.7078613584928263\n",
      "SR_B1_qt_25\n",
      "1.0912979291349058e+270\n",
      "SR_B2_qt_25\n",
      "1.9836238800019343e+307\n",
      "SR_B3_qt_25\n",
      "4.7745331911983353e+306\n",
      "SR_B4_qt_25\n",
      "4.3874318214147526e+307\n",
      "SR_B5_qt_25\n",
      "9.680569952529161e+306\n",
      "SR_B6_qt_25\n",
      "9.680567272956522e+306\n",
      "SR_B7_qt_25\n",
      "2.323339787843946e+307\n",
      "NDVI_qt_25\n",
      "1.5473659128522358e+306\n",
      "NDWI_qt_25\n",
      "2.3233397884955365e+307\n",
      "NBR_qt_25\n",
      "2.323374076628008e+307\n",
      "NDMI_qt_25\n",
      "9.680567272786169e+306\n",
      "SWIRS_qt_25\n",
      "3.147259186397266e+307\n",
      "SVVI_qt_25\n",
      "4.290215988914056e+307\n",
      "brightness_qt_25\n",
      "1.5025544382135618e+307\n",
      "greenness_qt_25\n",
      "4.276462104685942e+307\n",
      "wetness_qt_25\n",
      "1.1076866216190682e+307\n",
      "SR_B1_qt_50\n",
      "0.9620262500000001\n",
      "SR_B2_qt_50\n",
      "0.9720912500000001\n",
      "SR_B3_qt_50\n",
      "0.970785\n",
      "SR_B4_qt_50\n",
      "0.9682412500000002\n",
      "SR_B5_qt_50\n",
      "0.9121137500000001\n",
      "SR_B6_qt_50\n",
      "0.388115\n",
      "SR_B7_qt_50\n",
      "0.32306718749999996\n",
      "NDVI_qt_50\n",
      "0.9244234001211129\n",
      "NDWI_qt_50\n",
      "0.489778754221302\n",
      "NBR_qt_50\n",
      "0.9467732901808128\n",
      "NDMI_qt_50\n",
      "0.9641732862405947\n",
      "SWIRS_qt_50\n",
      "0.4770892055041126\n",
      "SVVI_qt_50\n",
      "0.0\n",
      "brightness_qt_50\n",
      "1.59754942525\n",
      "greenness_qt_50\n",
      "0.31618074175000005\n",
      "wetness_qt_50\n",
      "0.88217633175\n",
      "SR_B1_qt_75\n",
      "1.4357687500000003\n",
      "SR_B2_qt_75\n",
      "1.47679875\n",
      "SR_B3_qt_75\n",
      "1.4669125000000003\n",
      "SR_B4_qt_75\n",
      "1.4654275\n",
      "SR_B5_qt_75\n",
      "1.32634625\n",
      "SR_B6_qt_75\n",
      "0.45682375\n",
      "SR_B7_qt_75\n",
      "0.374206875\n",
      "NDVI_qt_75\n",
      "0.978749338118096\n",
      "NDWI_qt_75\n",
      "0.5813834881434955\n",
      "NBR_qt_75\n",
      "0.9818608627138924\n",
      "NDMI_qt_75\n",
      "0.9815474768938843\n",
      "SWIRS_qt_75\n",
      "0.4880932675819445\n",
      "SVVI_qt_75\n",
      "0.0\n",
      "brightness_qt_75\n",
      "2.36118222925\n",
      "greenness_qt_75\n",
      "0.364470275625\n",
      "wetness_qt_75\n",
      "1.3143804908125\n"
     ]
    }
   ],
   "source": [
    "for col in FEATURES:\n",
    "    print(col)\n",
    "    print(calibration[col].max())"
   ]
  },
  {
   "cell_type": "code",
   "execution_count": null,
   "metadata": {},
   "outputs": [
    {
     "name": "stderr",
     "output_type": "stream",
     "text": [
      "/home/jk871/drought-with-gedi/drought/lib/python3.10/site-packages/fastai/tabular/core.py:314: PerformanceWarning: DataFrame is highly fragmented.  This is usually the result of calling `frame.insert` many times, which has poor performance.  Consider joining all columns at once using pd.concat(axis=1) instead. To get a de-fragmented frame, use `newframe = frame.copy()`\n",
      "  to.loc[:,n+'_na'] = missing[n]\n",
      "/home/jk871/drought-with-gedi/drought/lib/python3.10/site-packages/fastai/tabular/core.py:314: PerformanceWarning: DataFrame is highly fragmented.  This is usually the result of calling `frame.insert` many times, which has poor performance.  Consider joining all columns at once using pd.concat(axis=1) instead. To get a de-fragmented frame, use `newframe = frame.copy()`\n",
      "  to.loc[:,n+'_na'] = missing[n]\n",
      "/home/jk871/drought-with-gedi/drought/lib/python3.10/site-packages/fastai/tabular/core.py:314: PerformanceWarning: DataFrame is highly fragmented.  This is usually the result of calling `frame.insert` many times, which has poor performance.  Consider joining all columns at once using pd.concat(axis=1) instead. To get a de-fragmented frame, use `newframe = frame.copy()`\n",
      "  to.loc[:,n+'_na'] = missing[n]\n",
      "/home/jk871/drought-with-gedi/drought/lib/python3.10/site-packages/fastai/tabular/core.py:314: PerformanceWarning: DataFrame is highly fragmented.  This is usually the result of calling `frame.insert` many times, which has poor performance.  Consider joining all columns at once using pd.concat(axis=1) instead. To get a de-fragmented frame, use `newframe = frame.copy()`\n",
      "  to.loc[:,n+'_na'] = missing[n]\n",
      "/home/jk871/drought-with-gedi/drought/lib/python3.10/site-packages/fastai/tabular/core.py:314: PerformanceWarning: DataFrame is highly fragmented.  This is usually the result of calling `frame.insert` many times, which has poor performance.  Consider joining all columns at once using pd.concat(axis=1) instead. To get a de-fragmented frame, use `newframe = frame.copy()`\n",
      "  to.loc[:,n+'_na'] = missing[n]\n",
      "/home/jk871/drought-with-gedi/drought/lib/python3.10/site-packages/fastai/tabular/core.py:314: PerformanceWarning: DataFrame is highly fragmented.  This is usually the result of calling `frame.insert` many times, which has poor performance.  Consider joining all columns at once using pd.concat(axis=1) instead. To get a de-fragmented frame, use `newframe = frame.copy()`\n",
      "  to.loc[:,n+'_na'] = missing[n]\n",
      "/home/jk871/drought-with-gedi/drought/lib/python3.10/site-packages/fastai/tabular/core.py:314: PerformanceWarning: DataFrame is highly fragmented.  This is usually the result of calling `frame.insert` many times, which has poor performance.  Consider joining all columns at once using pd.concat(axis=1) instead. To get a de-fragmented frame, use `newframe = frame.copy()`\n",
      "  to.loc[:,n+'_na'] = missing[n]\n",
      "/home/jk871/drought-with-gedi/drought/lib/python3.10/site-packages/fastai/tabular/core.py:314: PerformanceWarning: DataFrame is highly fragmented.  This is usually the result of calling `frame.insert` many times, which has poor performance.  Consider joining all columns at once using pd.concat(axis=1) instead. To get a de-fragmented frame, use `newframe = frame.copy()`\n",
      "  to.loc[:,n+'_na'] = missing[n]\n",
      "/home/jk871/drought-with-gedi/drought/lib/python3.10/site-packages/fastai/tabular/core.py:314: PerformanceWarning: DataFrame is highly fragmented.  This is usually the result of calling `frame.insert` many times, which has poor performance.  Consider joining all columns at once using pd.concat(axis=1) instead. To get a de-fragmented frame, use `newframe = frame.copy()`\n",
      "  to.loc[:,n+'_na'] = missing[n]\n",
      "/home/jk871/drought-with-gedi/drought/lib/python3.10/site-packages/fastai/tabular/core.py:314: PerformanceWarning: DataFrame is highly fragmented.  This is usually the result of calling `frame.insert` many times, which has poor performance.  Consider joining all columns at once using pd.concat(axis=1) instead. To get a de-fragmented frame, use `newframe = frame.copy()`\n",
      "  to.loc[:,n+'_na'] = missing[n]\n",
      "/home/jk871/drought-with-gedi/drought/lib/python3.10/site-packages/fastai/tabular/core.py:314: PerformanceWarning: DataFrame is highly fragmented.  This is usually the result of calling `frame.insert` many times, which has poor performance.  Consider joining all columns at once using pd.concat(axis=1) instead. To get a de-fragmented frame, use `newframe = frame.copy()`\n",
      "  to.loc[:,n+'_na'] = missing[n]\n",
      "/home/jk871/drought-with-gedi/drought/lib/python3.10/site-packages/fastai/tabular/core.py:314: PerformanceWarning: DataFrame is highly fragmented.  This is usually the result of calling `frame.insert` many times, which has poor performance.  Consider joining all columns at once using pd.concat(axis=1) instead. To get a de-fragmented frame, use `newframe = frame.copy()`\n",
      "  to.loc[:,n+'_na'] = missing[n]\n",
      "/home/jk871/drought-with-gedi/drought/lib/python3.10/site-packages/fastai/tabular/core.py:314: PerformanceWarning: DataFrame is highly fragmented.  This is usually the result of calling `frame.insert` many times, which has poor performance.  Consider joining all columns at once using pd.concat(axis=1) instead. To get a de-fragmented frame, use `newframe = frame.copy()`\n",
      "  to.loc[:,n+'_na'] = missing[n]\n",
      "/home/jk871/drought-with-gedi/drought/lib/python3.10/site-packages/fastai/tabular/core.py:314: PerformanceWarning: DataFrame is highly fragmented.  This is usually the result of calling `frame.insert` many times, which has poor performance.  Consider joining all columns at once using pd.concat(axis=1) instead. To get a de-fragmented frame, use `newframe = frame.copy()`\n",
      "  to.loc[:,n+'_na'] = missing[n]\n",
      "/home/jk871/drought-with-gedi/drought/lib/python3.10/site-packages/fastai/tabular/core.py:314: PerformanceWarning: DataFrame is highly fragmented.  This is usually the result of calling `frame.insert` many times, which has poor performance.  Consider joining all columns at once using pd.concat(axis=1) instead. To get a de-fragmented frame, use `newframe = frame.copy()`\n",
      "  to.loc[:,n+'_na'] = missing[n]\n",
      "/home/jk871/drought-with-gedi/drought/lib/python3.10/site-packages/fastai/tabular/core.py:314: PerformanceWarning: DataFrame is highly fragmented.  This is usually the result of calling `frame.insert` many times, which has poor performance.  Consider joining all columns at once using pd.concat(axis=1) instead. To get a de-fragmented frame, use `newframe = frame.copy()`\n",
      "  to.loc[:,n+'_na'] = missing[n]\n",
      "/home/jk871/drought-with-gedi/drought/lib/python3.10/site-packages/fastai/tabular/core.py:314: PerformanceWarning: DataFrame is highly fragmented.  This is usually the result of calling `frame.insert` many times, which has poor performance.  Consider joining all columns at once using pd.concat(axis=1) instead. To get a de-fragmented frame, use `newframe = frame.copy()`\n",
      "  to.loc[:,n+'_na'] = missing[n]\n",
      "/home/jk871/drought-with-gedi/drought/lib/python3.10/site-packages/fastai/tabular/core.py:314: PerformanceWarning: DataFrame is highly fragmented.  This is usually the result of calling `frame.insert` many times, which has poor performance.  Consider joining all columns at once using pd.concat(axis=1) instead. To get a de-fragmented frame, use `newframe = frame.copy()`\n",
      "  to.loc[:,n+'_na'] = missing[n]\n",
      "/home/jk871/drought-with-gedi/drought/lib/python3.10/site-packages/fastai/tabular/core.py:314: PerformanceWarning: DataFrame is highly fragmented.  This is usually the result of calling `frame.insert` many times, which has poor performance.  Consider joining all columns at once using pd.concat(axis=1) instead. To get a de-fragmented frame, use `newframe = frame.copy()`\n",
      "  to.loc[:,n+'_na'] = missing[n]\n",
      "/home/jk871/drought-with-gedi/drought/lib/python3.10/site-packages/fastai/tabular/core.py:314: PerformanceWarning: DataFrame is highly fragmented.  This is usually the result of calling `frame.insert` many times, which has poor performance.  Consider joining all columns at once using pd.concat(axis=1) instead. To get a de-fragmented frame, use `newframe = frame.copy()`\n",
      "  to.loc[:,n+'_na'] = missing[n]\n",
      "/home/jk871/drought-with-gedi/drought/lib/python3.10/site-packages/fastai/tabular/core.py:314: PerformanceWarning: DataFrame is highly fragmented.  This is usually the result of calling `frame.insert` many times, which has poor performance.  Consider joining all columns at once using pd.concat(axis=1) instead. To get a de-fragmented frame, use `newframe = frame.copy()`\n",
      "  to.loc[:,n+'_na'] = missing[n]\n",
      "/home/jk871/drought-with-gedi/drought/lib/python3.10/site-packages/fastai/tabular/core.py:314: PerformanceWarning: DataFrame is highly fragmented.  This is usually the result of calling `frame.insert` many times, which has poor performance.  Consider joining all columns at once using pd.concat(axis=1) instead. To get a de-fragmented frame, use `newframe = frame.copy()`\n",
      "  to.loc[:,n+'_na'] = missing[n]\n",
      "/home/jk871/drought-with-gedi/drought/lib/python3.10/site-packages/fastai/tabular/core.py:314: PerformanceWarning: DataFrame is highly fragmented.  This is usually the result of calling `frame.insert` many times, which has poor performance.  Consider joining all columns at once using pd.concat(axis=1) instead. To get a de-fragmented frame, use `newframe = frame.copy()`\n",
      "  to.loc[:,n+'_na'] = missing[n]\n",
      "/home/jk871/drought-with-gedi/drought/lib/python3.10/site-packages/fastai/tabular/core.py:314: PerformanceWarning: DataFrame is highly fragmented.  This is usually the result of calling `frame.insert` many times, which has poor performance.  Consider joining all columns at once using pd.concat(axis=1) instead. To get a de-fragmented frame, use `newframe = frame.copy()`\n",
      "  to.loc[:,n+'_na'] = missing[n]\n",
      "/home/jk871/drought-with-gedi/drought/lib/python3.10/site-packages/fastai/tabular/core.py:314: PerformanceWarning: DataFrame is highly fragmented.  This is usually the result of calling `frame.insert` many times, which has poor performance.  Consider joining all columns at once using pd.concat(axis=1) instead. To get a de-fragmented frame, use `newframe = frame.copy()`\n",
      "  to.loc[:,n+'_na'] = missing[n]\n",
      "/home/jk871/drought-with-gedi/drought/lib/python3.10/site-packages/fastai/tabular/core.py:314: PerformanceWarning: DataFrame is highly fragmented.  This is usually the result of calling `frame.insert` many times, which has poor performance.  Consider joining all columns at once using pd.concat(axis=1) instead. To get a de-fragmented frame, use `newframe = frame.copy()`\n",
      "  to.loc[:,n+'_na'] = missing[n]\n",
      "/home/jk871/drought-with-gedi/drought/lib/python3.10/site-packages/fastai/tabular/core.py:314: PerformanceWarning: DataFrame is highly fragmented.  This is usually the result of calling `frame.insert` many times, which has poor performance.  Consider joining all columns at once using pd.concat(axis=1) instead. To get a de-fragmented frame, use `newframe = frame.copy()`\n",
      "  to.loc[:,n+'_na'] = missing[n]\n",
      "/home/jk871/drought-with-gedi/drought/lib/python3.10/site-packages/fastai/tabular/core.py:314: PerformanceWarning: DataFrame is highly fragmented.  This is usually the result of calling `frame.insert` many times, which has poor performance.  Consider joining all columns at once using pd.concat(axis=1) instead. To get a de-fragmented frame, use `newframe = frame.copy()`\n",
      "  to.loc[:,n+'_na'] = missing[n]\n",
      "/home/jk871/drought-with-gedi/drought/lib/python3.10/site-packages/fastai/tabular/core.py:314: PerformanceWarning: DataFrame is highly fragmented.  This is usually the result of calling `frame.insert` many times, which has poor performance.  Consider joining all columns at once using pd.concat(axis=1) instead. To get a de-fragmented frame, use `newframe = frame.copy()`\n",
      "  to.loc[:,n+'_na'] = missing[n]\n",
      "/home/jk871/drought-with-gedi/drought/lib/python3.10/site-packages/fastai/tabular/core.py:314: PerformanceWarning: DataFrame is highly fragmented.  This is usually the result of calling `frame.insert` many times, which has poor performance.  Consider joining all columns at once using pd.concat(axis=1) instead. To get a de-fragmented frame, use `newframe = frame.copy()`\n",
      "  to.loc[:,n+'_na'] = missing[n]\n",
      "/home/jk871/drought-with-gedi/drought/lib/python3.10/site-packages/fastai/tabular/core.py:314: PerformanceWarning: DataFrame is highly fragmented.  This is usually the result of calling `frame.insert` many times, which has poor performance.  Consider joining all columns at once using pd.concat(axis=1) instead. To get a de-fragmented frame, use `newframe = frame.copy()`\n",
      "  to.loc[:,n+'_na'] = missing[n]\n",
      "/home/jk871/drought-with-gedi/drought/lib/python3.10/site-packages/fastai/tabular/core.py:314: PerformanceWarning: DataFrame is highly fragmented.  This is usually the result of calling `frame.insert` many times, which has poor performance.  Consider joining all columns at once using pd.concat(axis=1) instead. To get a de-fragmented frame, use `newframe = frame.copy()`\n",
      "  to.loc[:,n+'_na'] = missing[n]\n",
      "/home/jk871/drought-with-gedi/drought/lib/python3.10/site-packages/fastai/tabular/core.py:314: PerformanceWarning: DataFrame is highly fragmented.  This is usually the result of calling `frame.insert` many times, which has poor performance.  Consider joining all columns at once using pd.concat(axis=1) instead. To get a de-fragmented frame, use `newframe = frame.copy()`\n",
      "  to.loc[:,n+'_na'] = missing[n]\n",
      "/home/jk871/drought-with-gedi/drought/lib/python3.10/site-packages/fastai/tabular/core.py:314: PerformanceWarning: DataFrame is highly fragmented.  This is usually the result of calling `frame.insert` many times, which has poor performance.  Consider joining all columns at once using pd.concat(axis=1) instead. To get a de-fragmented frame, use `newframe = frame.copy()`\n",
      "  to.loc[:,n+'_na'] = missing[n]\n",
      "/home/jk871/drought-with-gedi/drought/lib/python3.10/site-packages/fastai/tabular/core.py:314: PerformanceWarning: DataFrame is highly fragmented.  This is usually the result of calling `frame.insert` many times, which has poor performance.  Consider joining all columns at once using pd.concat(axis=1) instead. To get a de-fragmented frame, use `newframe = frame.copy()`\n",
      "  to.loc[:,n+'_na'] = missing[n]\n",
      "/home/jk871/drought-with-gedi/drought/lib/python3.10/site-packages/fastai/tabular/core.py:314: PerformanceWarning: DataFrame is highly fragmented.  This is usually the result of calling `frame.insert` many times, which has poor performance.  Consider joining all columns at once using pd.concat(axis=1) instead. To get a de-fragmented frame, use `newframe = frame.copy()`\n",
      "  to.loc[:,n+'_na'] = missing[n]\n",
      "/home/jk871/drought-with-gedi/drought/lib/python3.10/site-packages/fastai/tabular/core.py:314: PerformanceWarning: DataFrame is highly fragmented.  This is usually the result of calling `frame.insert` many times, which has poor performance.  Consider joining all columns at once using pd.concat(axis=1) instead. To get a de-fragmented frame, use `newframe = frame.copy()`\n",
      "  to.loc[:,n+'_na'] = missing[n]\n",
      "/home/jk871/drought-with-gedi/drought/lib/python3.10/site-packages/fastai/tabular/core.py:314: PerformanceWarning: DataFrame is highly fragmented.  This is usually the result of calling `frame.insert` many times, which has poor performance.  Consider joining all columns at once using pd.concat(axis=1) instead. To get a de-fragmented frame, use `newframe = frame.copy()`\n",
      "  to.loc[:,n+'_na'] = missing[n]\n",
      "/home/jk871/drought-with-gedi/drought/lib/python3.10/site-packages/fastai/tabular/core.py:314: PerformanceWarning: DataFrame is highly fragmented.  This is usually the result of calling `frame.insert` many times, which has poor performance.  Consider joining all columns at once using pd.concat(axis=1) instead. To get a de-fragmented frame, use `newframe = frame.copy()`\n",
      "  to.loc[:,n+'_na'] = missing[n]\n",
      "/home/jk871/drought-with-gedi/drought/lib/python3.10/site-packages/fastai/tabular/core.py:314: PerformanceWarning: DataFrame is highly fragmented.  This is usually the result of calling `frame.insert` many times, which has poor performance.  Consider joining all columns at once using pd.concat(axis=1) instead. To get a de-fragmented frame, use `newframe = frame.copy()`\n",
      "  to.loc[:,n+'_na'] = missing[n]\n",
      "/home/jk871/drought-with-gedi/drought/lib/python3.10/site-packages/fastai/tabular/core.py:314: PerformanceWarning: DataFrame is highly fragmented.  This is usually the result of calling `frame.insert` many times, which has poor performance.  Consider joining all columns at once using pd.concat(axis=1) instead. To get a de-fragmented frame, use `newframe = frame.copy()`\n",
      "  to.loc[:,n+'_na'] = missing[n]\n",
      "/home/jk871/drought-with-gedi/drought/lib/python3.10/site-packages/fastai/tabular/core.py:314: PerformanceWarning: DataFrame is highly fragmented.  This is usually the result of calling `frame.insert` many times, which has poor performance.  Consider joining all columns at once using pd.concat(axis=1) instead. To get a de-fragmented frame, use `newframe = frame.copy()`\n",
      "  to.loc[:,n+'_na'] = missing[n]\n",
      "/home/jk871/drought-with-gedi/drought/lib/python3.10/site-packages/fastai/tabular/core.py:314: PerformanceWarning: DataFrame is highly fragmented.  This is usually the result of calling `frame.insert` many times, which has poor performance.  Consider joining all columns at once using pd.concat(axis=1) instead. To get a de-fragmented frame, use `newframe = frame.copy()`\n",
      "  to.loc[:,n+'_na'] = missing[n]\n",
      "/home/jk871/drought-with-gedi/drought/lib/python3.10/site-packages/fastai/tabular/core.py:314: PerformanceWarning: DataFrame is highly fragmented.  This is usually the result of calling `frame.insert` many times, which has poor performance.  Consider joining all columns at once using pd.concat(axis=1) instead. To get a de-fragmented frame, use `newframe = frame.copy()`\n",
      "  to.loc[:,n+'_na'] = missing[n]\n",
      "/home/jk871/drought-with-gedi/drought/lib/python3.10/site-packages/fastai/tabular/core.py:314: PerformanceWarning: DataFrame is highly fragmented.  This is usually the result of calling `frame.insert` many times, which has poor performance.  Consider joining all columns at once using pd.concat(axis=1) instead. To get a de-fragmented frame, use `newframe = frame.copy()`\n",
      "  to.loc[:,n+'_na'] = missing[n]\n",
      "/home/jk871/drought-with-gedi/drought/lib/python3.10/site-packages/fastai/tabular/core.py:314: PerformanceWarning: DataFrame is highly fragmented.  This is usually the result of calling `frame.insert` many times, which has poor performance.  Consider joining all columns at once using pd.concat(axis=1) instead. To get a de-fragmented frame, use `newframe = frame.copy()`\n",
      "  to.loc[:,n+'_na'] = missing[n]\n",
      "/home/jk871/drought-with-gedi/drought/lib/python3.10/site-packages/fastai/tabular/core.py:314: PerformanceWarning: DataFrame is highly fragmented.  This is usually the result of calling `frame.insert` many times, which has poor performance.  Consider joining all columns at once using pd.concat(axis=1) instead. To get a de-fragmented frame, use `newframe = frame.copy()`\n",
      "  to.loc[:,n+'_na'] = missing[n]\n",
      "/home/jk871/drought-with-gedi/drought/lib/python3.10/site-packages/fastai/tabular/core.py:314: PerformanceWarning: DataFrame is highly fragmented.  This is usually the result of calling `frame.insert` many times, which has poor performance.  Consider joining all columns at once using pd.concat(axis=1) instead. To get a de-fragmented frame, use `newframe = frame.copy()`\n",
      "  to.loc[:,n+'_na'] = missing[n]\n",
      "/home/jk871/drought-with-gedi/drought/lib/python3.10/site-packages/fastai/tabular/core.py:314: PerformanceWarning: DataFrame is highly fragmented.  This is usually the result of calling `frame.insert` many times, which has poor performance.  Consider joining all columns at once using pd.concat(axis=1) instead. To get a de-fragmented frame, use `newframe = frame.copy()`\n",
      "  to.loc[:,n+'_na'] = missing[n]\n",
      "/home/jk871/drought-with-gedi/drought/lib/python3.10/site-packages/fastai/tabular/core.py:314: PerformanceWarning: DataFrame is highly fragmented.  This is usually the result of calling `frame.insert` many times, which has poor performance.  Consider joining all columns at once using pd.concat(axis=1) instead. To get a de-fragmented frame, use `newframe = frame.copy()`\n",
      "  to.loc[:,n+'_na'] = missing[n]\n",
      "/home/jk871/drought-with-gedi/drought/lib/python3.10/site-packages/fastai/tabular/core.py:314: PerformanceWarning: DataFrame is highly fragmented.  This is usually the result of calling `frame.insert` many times, which has poor performance.  Consider joining all columns at once using pd.concat(axis=1) instead. To get a de-fragmented frame, use `newframe = frame.copy()`\n",
      "  to.loc[:,n+'_na'] = missing[n]\n",
      "/home/jk871/drought-with-gedi/drought/lib/python3.10/site-packages/fastai/tabular/core.py:314: PerformanceWarning: DataFrame is highly fragmented.  This is usually the result of calling `frame.insert` many times, which has poor performance.  Consider joining all columns at once using pd.concat(axis=1) instead. To get a de-fragmented frame, use `newframe = frame.copy()`\n",
      "  to.loc[:,n+'_na'] = missing[n]\n",
      "/home/jk871/drought-with-gedi/drought/lib/python3.10/site-packages/fastai/tabular/core.py:314: PerformanceWarning: DataFrame is highly fragmented.  This is usually the result of calling `frame.insert` many times, which has poor performance.  Consider joining all columns at once using pd.concat(axis=1) instead. To get a de-fragmented frame, use `newframe = frame.copy()`\n",
      "  to.loc[:,n+'_na'] = missing[n]\n",
      "/home/jk871/drought-with-gedi/drought/lib/python3.10/site-packages/fastai/tabular/core.py:314: PerformanceWarning: DataFrame is highly fragmented.  This is usually the result of calling `frame.insert` many times, which has poor performance.  Consider joining all columns at once using pd.concat(axis=1) instead. To get a de-fragmented frame, use `newframe = frame.copy()`\n",
      "  to.loc[:,n+'_na'] = missing[n]\n",
      "/home/jk871/drought-with-gedi/drought/lib/python3.10/site-packages/fastai/tabular/core.py:314: PerformanceWarning: DataFrame is highly fragmented.  This is usually the result of calling `frame.insert` many times, which has poor performance.  Consider joining all columns at once using pd.concat(axis=1) instead. To get a de-fragmented frame, use `newframe = frame.copy()`\n",
      "  to.loc[:,n+'_na'] = missing[n]\n",
      "/home/jk871/drought-with-gedi/drought/lib/python3.10/site-packages/fastai/tabular/core.py:314: PerformanceWarning: DataFrame is highly fragmented.  This is usually the result of calling `frame.insert` many times, which has poor performance.  Consider joining all columns at once using pd.concat(axis=1) instead. To get a de-fragmented frame, use `newframe = frame.copy()`\n",
      "  to.loc[:,n+'_na'] = missing[n]\n",
      "/home/jk871/drought-with-gedi/drought/lib/python3.10/site-packages/fastai/tabular/core.py:314: PerformanceWarning: DataFrame is highly fragmented.  This is usually the result of calling `frame.insert` many times, which has poor performance.  Consider joining all columns at once using pd.concat(axis=1) instead. To get a de-fragmented frame, use `newframe = frame.copy()`\n",
      "  to.loc[:,n+'_na'] = missing[n]\n",
      "/home/jk871/drought-with-gedi/drought/lib/python3.10/site-packages/fastai/tabular/core.py:314: PerformanceWarning: DataFrame is highly fragmented.  This is usually the result of calling `frame.insert` many times, which has poor performance.  Consider joining all columns at once using pd.concat(axis=1) instead. To get a de-fragmented frame, use `newframe = frame.copy()`\n",
      "  to.loc[:,n+'_na'] = missing[n]\n",
      "/home/jk871/drought-with-gedi/drought/lib/python3.10/site-packages/fastai/tabular/core.py:314: PerformanceWarning: DataFrame is highly fragmented.  This is usually the result of calling `frame.insert` many times, which has poor performance.  Consider joining all columns at once using pd.concat(axis=1) instead. To get a de-fragmented frame, use `newframe = frame.copy()`\n",
      "  to.loc[:,n+'_na'] = missing[n]\n",
      "/home/jk871/drought-with-gedi/drought/lib/python3.10/site-packages/fastai/tabular/core.py:314: PerformanceWarning: DataFrame is highly fragmented.  This is usually the result of calling `frame.insert` many times, which has poor performance.  Consider joining all columns at once using pd.concat(axis=1) instead. To get a de-fragmented frame, use `newframe = frame.copy()`\n",
      "  to.loc[:,n+'_na'] = missing[n]\n",
      "/home/jk871/drought-with-gedi/drought/lib/python3.10/site-packages/fastai/tabular/core.py:314: PerformanceWarning: DataFrame is highly fragmented.  This is usually the result of calling `frame.insert` many times, which has poor performance.  Consider joining all columns at once using pd.concat(axis=1) instead. To get a de-fragmented frame, use `newframe = frame.copy()`\n",
      "  to.loc[:,n+'_na'] = missing[n]\n",
      "/home/jk871/drought-with-gedi/drought/lib/python3.10/site-packages/fastai/tabular/core.py:314: PerformanceWarning: DataFrame is highly fragmented.  This is usually the result of calling `frame.insert` many times, which has poor performance.  Consider joining all columns at once using pd.concat(axis=1) instead. To get a de-fragmented frame, use `newframe = frame.copy()`\n",
      "  to.loc[:,n+'_na'] = missing[n]\n",
      "/home/jk871/drought-with-gedi/drought/lib/python3.10/site-packages/fastai/tabular/core.py:314: PerformanceWarning: DataFrame is highly fragmented.  This is usually the result of calling `frame.insert` many times, which has poor performance.  Consider joining all columns at once using pd.concat(axis=1) instead. To get a de-fragmented frame, use `newframe = frame.copy()`\n",
      "  to.loc[:,n+'_na'] = missing[n]\n",
      "/home/jk871/drought-with-gedi/drought/lib/python3.10/site-packages/fastai/tabular/core.py:314: PerformanceWarning: DataFrame is highly fragmented.  This is usually the result of calling `frame.insert` many times, which has poor performance.  Consider joining all columns at once using pd.concat(axis=1) instead. To get a de-fragmented frame, use `newframe = frame.copy()`\n",
      "  to.loc[:,n+'_na'] = missing[n]\n",
      "/home/jk871/drought-with-gedi/drought/lib/python3.10/site-packages/fastai/tabular/core.py:314: PerformanceWarning: DataFrame is highly fragmented.  This is usually the result of calling `frame.insert` many times, which has poor performance.  Consider joining all columns at once using pd.concat(axis=1) instead. To get a de-fragmented frame, use `newframe = frame.copy()`\n",
      "  to.loc[:,n+'_na'] = missing[n]\n",
      "/home/jk871/drought-with-gedi/drought/lib/python3.10/site-packages/fastai/tabular/core.py:314: PerformanceWarning: DataFrame is highly fragmented.  This is usually the result of calling `frame.insert` many times, which has poor performance.  Consider joining all columns at once using pd.concat(axis=1) instead. To get a de-fragmented frame, use `newframe = frame.copy()`\n",
      "  to.loc[:,n+'_na'] = missing[n]\n",
      "/home/jk871/drought-with-gedi/drought/lib/python3.10/site-packages/fastai/tabular/core.py:314: PerformanceWarning: DataFrame is highly fragmented.  This is usually the result of calling `frame.insert` many times, which has poor performance.  Consider joining all columns at once using pd.concat(axis=1) instead. To get a de-fragmented frame, use `newframe = frame.copy()`\n",
      "  to.loc[:,n+'_na'] = missing[n]\n",
      "/home/jk871/drought-with-gedi/drought/lib/python3.10/site-packages/fastai/tabular/core.py:314: PerformanceWarning: DataFrame is highly fragmented.  This is usually the result of calling `frame.insert` many times, which has poor performance.  Consider joining all columns at once using pd.concat(axis=1) instead. To get a de-fragmented frame, use `newframe = frame.copy()`\n",
      "  to.loc[:,n+'_na'] = missing[n]\n",
      "/home/jk871/drought-with-gedi/drought/lib/python3.10/site-packages/fastai/tabular/core.py:314: PerformanceWarning: DataFrame is highly fragmented.  This is usually the result of calling `frame.insert` many times, which has poor performance.  Consider joining all columns at once using pd.concat(axis=1) instead. To get a de-fragmented frame, use `newframe = frame.copy()`\n",
      "  to.loc[:,n+'_na'] = missing[n]\n",
      "/home/jk871/drought-with-gedi/drought/lib/python3.10/site-packages/fastai/tabular/core.py:314: PerformanceWarning: DataFrame is highly fragmented.  This is usually the result of calling `frame.insert` many times, which has poor performance.  Consider joining all columns at once using pd.concat(axis=1) instead. To get a de-fragmented frame, use `newframe = frame.copy()`\n",
      "  to.loc[:,n+'_na'] = missing[n]\n",
      "/home/jk871/drought-with-gedi/drought/lib/python3.10/site-packages/fastai/tabular/core.py:314: PerformanceWarning: DataFrame is highly fragmented.  This is usually the result of calling `frame.insert` many times, which has poor performance.  Consider joining all columns at once using pd.concat(axis=1) instead. To get a de-fragmented frame, use `newframe = frame.copy()`\n",
      "  to.loc[:,n+'_na'] = missing[n]\n",
      "/home/jk871/drought-with-gedi/drought/lib/python3.10/site-packages/fastai/tabular/core.py:314: PerformanceWarning: DataFrame is highly fragmented.  This is usually the result of calling `frame.insert` many times, which has poor performance.  Consider joining all columns at once using pd.concat(axis=1) instead. To get a de-fragmented frame, use `newframe = frame.copy()`\n",
      "  to.loc[:,n+'_na'] = missing[n]\n",
      "/home/jk871/drought-with-gedi/drought/lib/python3.10/site-packages/fastai/tabular/core.py:314: PerformanceWarning: DataFrame is highly fragmented.  This is usually the result of calling `frame.insert` many times, which has poor performance.  Consider joining all columns at once using pd.concat(axis=1) instead. To get a de-fragmented frame, use `newframe = frame.copy()`\n",
      "  to.loc[:,n+'_na'] = missing[n]\n",
      "/home/jk871/drought-with-gedi/drought/lib/python3.10/site-packages/fastai/tabular/core.py:314: PerformanceWarning: DataFrame is highly fragmented.  This is usually the result of calling `frame.insert` many times, which has poor performance.  Consider joining all columns at once using pd.concat(axis=1) instead. To get a de-fragmented frame, use `newframe = frame.copy()`\n",
      "  to.loc[:,n+'_na'] = missing[n]\n",
      "/home/jk871/drought-with-gedi/drought/lib/python3.10/site-packages/fastai/tabular/core.py:314: PerformanceWarning: DataFrame is highly fragmented.  This is usually the result of calling `frame.insert` many times, which has poor performance.  Consider joining all columns at once using pd.concat(axis=1) instead. To get a de-fragmented frame, use `newframe = frame.copy()`\n",
      "  to.loc[:,n+'_na'] = missing[n]\n",
      "/home/jk871/drought-with-gedi/drought/lib/python3.10/site-packages/fastai/tabular/core.py:314: PerformanceWarning: DataFrame is highly fragmented.  This is usually the result of calling `frame.insert` many times, which has poor performance.  Consider joining all columns at once using pd.concat(axis=1) instead. To get a de-fragmented frame, use `newframe = frame.copy()`\n",
      "  to.loc[:,n+'_na'] = missing[n]\n",
      "/home/jk871/drought-with-gedi/drought/lib/python3.10/site-packages/fastai/tabular/core.py:314: PerformanceWarning: DataFrame is highly fragmented.  This is usually the result of calling `frame.insert` many times, which has poor performance.  Consider joining all columns at once using pd.concat(axis=1) instead. To get a de-fragmented frame, use `newframe = frame.copy()`\n",
      "  to.loc[:,n+'_na'] = missing[n]\n",
      "/home/jk871/drought-with-gedi/drought/lib/python3.10/site-packages/fastai/tabular/core.py:314: PerformanceWarning: DataFrame is highly fragmented.  This is usually the result of calling `frame.insert` many times, which has poor performance.  Consider joining all columns at once using pd.concat(axis=1) instead. To get a de-fragmented frame, use `newframe = frame.copy()`\n",
      "  to.loc[:,n+'_na'] = missing[n]\n",
      "/home/jk871/drought-with-gedi/drought/lib/python3.10/site-packages/fastai/tabular/core.py:314: PerformanceWarning: DataFrame is highly fragmented.  This is usually the result of calling `frame.insert` many times, which has poor performance.  Consider joining all columns at once using pd.concat(axis=1) instead. To get a de-fragmented frame, use `newframe = frame.copy()`\n",
      "  to.loc[:,n+'_na'] = missing[n]\n",
      "/home/jk871/drought-with-gedi/drought/lib/python3.10/site-packages/fastai/tabular/core.py:314: PerformanceWarning: DataFrame is highly fragmented.  This is usually the result of calling `frame.insert` many times, which has poor performance.  Consider joining all columns at once using pd.concat(axis=1) instead. To get a de-fragmented frame, use `newframe = frame.copy()`\n",
      "  to.loc[:,n+'_na'] = missing[n]\n",
      "/home/jk871/drought-with-gedi/drought/lib/python3.10/site-packages/fastai/tabular/core.py:314: PerformanceWarning: DataFrame is highly fragmented.  This is usually the result of calling `frame.insert` many times, which has poor performance.  Consider joining all columns at once using pd.concat(axis=1) instead. To get a de-fragmented frame, use `newframe = frame.copy()`\n",
      "  to.loc[:,n+'_na'] = missing[n]\n",
      "/home/jk871/drought-with-gedi/drought/lib/python3.10/site-packages/fastai/tabular/core.py:314: PerformanceWarning: DataFrame is highly fragmented.  This is usually the result of calling `frame.insert` many times, which has poor performance.  Consider joining all columns at once using pd.concat(axis=1) instead. To get a de-fragmented frame, use `newframe = frame.copy()`\n",
      "  to.loc[:,n+'_na'] = missing[n]\n",
      "/home/jk871/drought-with-gedi/drought/lib/python3.10/site-packages/fastai/tabular/core.py:314: PerformanceWarning: DataFrame is highly fragmented.  This is usually the result of calling `frame.insert` many times, which has poor performance.  Consider joining all columns at once using pd.concat(axis=1) instead. To get a de-fragmented frame, use `newframe = frame.copy()`\n",
      "  to.loc[:,n+'_na'] = missing[n]\n",
      "/home/jk871/drought-with-gedi/drought/lib/python3.10/site-packages/fastai/tabular/core.py:314: PerformanceWarning: DataFrame is highly fragmented.  This is usually the result of calling `frame.insert` many times, which has poor performance.  Consider joining all columns at once using pd.concat(axis=1) instead. To get a de-fragmented frame, use `newframe = frame.copy()`\n",
      "  to.loc[:,n+'_na'] = missing[n]\n",
      "/home/jk871/drought-with-gedi/drought/lib/python3.10/site-packages/fastai/tabular/core.py:314: PerformanceWarning: DataFrame is highly fragmented.  This is usually the result of calling `frame.insert` many times, which has poor performance.  Consider joining all columns at once using pd.concat(axis=1) instead. To get a de-fragmented frame, use `newframe = frame.copy()`\n",
      "  to.loc[:,n+'_na'] = missing[n]\n",
      "/home/jk871/drought-with-gedi/drought/lib/python3.10/site-packages/fastai/tabular/core.py:314: PerformanceWarning: DataFrame is highly fragmented.  This is usually the result of calling `frame.insert` many times, which has poor performance.  Consider joining all columns at once using pd.concat(axis=1) instead. To get a de-fragmented frame, use `newframe = frame.copy()`\n",
      "  to.loc[:,n+'_na'] = missing[n]\n",
      "/home/jk871/drought-with-gedi/drought/lib/python3.10/site-packages/fastai/tabular/core.py:314: PerformanceWarning: DataFrame is highly fragmented.  This is usually the result of calling `frame.insert` many times, which has poor performance.  Consider joining all columns at once using pd.concat(axis=1) instead. To get a de-fragmented frame, use `newframe = frame.copy()`\n",
      "  to.loc[:,n+'_na'] = missing[n]\n",
      "/home/jk871/drought-with-gedi/drought/lib/python3.10/site-packages/fastai/tabular/core.py:314: PerformanceWarning: DataFrame is highly fragmented.  This is usually the result of calling `frame.insert` many times, which has poor performance.  Consider joining all columns at once using pd.concat(axis=1) instead. To get a de-fragmented frame, use `newframe = frame.copy()`\n",
      "  to.loc[:,n+'_na'] = missing[n]\n",
      "/home/jk871/drought-with-gedi/drought/lib/python3.10/site-packages/fastai/tabular/core.py:314: PerformanceWarning: DataFrame is highly fragmented.  This is usually the result of calling `frame.insert` many times, which has poor performance.  Consider joining all columns at once using pd.concat(axis=1) instead. To get a de-fragmented frame, use `newframe = frame.copy()`\n",
      "  to.loc[:,n+'_na'] = missing[n]\n",
      "/home/jk871/drought-with-gedi/drought/lib/python3.10/site-packages/fastai/tabular/core.py:314: PerformanceWarning: DataFrame is highly fragmented.  This is usually the result of calling `frame.insert` many times, which has poor performance.  Consider joining all columns at once using pd.concat(axis=1) instead. To get a de-fragmented frame, use `newframe = frame.copy()`\n",
      "  to.loc[:,n+'_na'] = missing[n]\n",
      "/home/jk871/drought-with-gedi/drought/lib/python3.10/site-packages/fastai/tabular/core.py:314: PerformanceWarning: DataFrame is highly fragmented.  This is usually the result of calling `frame.insert` many times, which has poor performance.  Consider joining all columns at once using pd.concat(axis=1) instead. To get a de-fragmented frame, use `newframe = frame.copy()`\n",
      "  to.loc[:,n+'_na'] = missing[n]\n",
      "/home/jk871/drought-with-gedi/drought/lib/python3.10/site-packages/fastai/tabular/core.py:314: PerformanceWarning: DataFrame is highly fragmented.  This is usually the result of calling `frame.insert` many times, which has poor performance.  Consider joining all columns at once using pd.concat(axis=1) instead. To get a de-fragmented frame, use `newframe = frame.copy()`\n",
      "  to.loc[:,n+'_na'] = missing[n]\n",
      "/home/jk871/drought-with-gedi/drought/lib/python3.10/site-packages/fastai/tabular/core.py:314: PerformanceWarning: DataFrame is highly fragmented.  This is usually the result of calling `frame.insert` many times, which has poor performance.  Consider joining all columns at once using pd.concat(axis=1) instead. To get a de-fragmented frame, use `newframe = frame.copy()`\n",
      "  to.loc[:,n+'_na'] = missing[n]\n",
      "/home/jk871/drought-with-gedi/drought/lib/python3.10/site-packages/fastai/tabular/core.py:314: PerformanceWarning: DataFrame is highly fragmented.  This is usually the result of calling `frame.insert` many times, which has poor performance.  Consider joining all columns at once using pd.concat(axis=1) instead. To get a de-fragmented frame, use `newframe = frame.copy()`\n",
      "  to.loc[:,n+'_na'] = missing[n]\n",
      "/home/jk871/drought-with-gedi/drought/lib/python3.10/site-packages/fastai/tabular/core.py:314: PerformanceWarning: DataFrame is highly fragmented.  This is usually the result of calling `frame.insert` many times, which has poor performance.  Consider joining all columns at once using pd.concat(axis=1) instead. To get a de-fragmented frame, use `newframe = frame.copy()`\n",
      "  to.loc[:,n+'_na'] = missing[n]\n",
      "/home/jk871/drought-with-gedi/drought/lib/python3.10/site-packages/fastai/tabular/core.py:314: PerformanceWarning: DataFrame is highly fragmented.  This is usually the result of calling `frame.insert` many times, which has poor performance.  Consider joining all columns at once using pd.concat(axis=1) instead. To get a de-fragmented frame, use `newframe = frame.copy()`\n",
      "  to.loc[:,n+'_na'] = missing[n]\n",
      "/home/jk871/drought-with-gedi/drought/lib/python3.10/site-packages/fastai/tabular/core.py:314: PerformanceWarning: DataFrame is highly fragmented.  This is usually the result of calling `frame.insert` many times, which has poor performance.  Consider joining all columns at once using pd.concat(axis=1) instead. To get a de-fragmented frame, use `newframe = frame.copy()`\n",
      "  to.loc[:,n+'_na'] = missing[n]\n"
     ]
    },
    {
     "name": "stdout",
     "output_type": "stream",
     "text": [
      "2024-02-04 05:34:59,548 DEBUG: Start model training. [in train_rf at /home/jk871/fire-regen/src/counterfactuals/rf/train.py:30]\n",
      "2024-02-04 05:49:53,885 DEBUG: Training complete. [in train_rf at /home/jk871/fire-regen/src/counterfactuals/rf/train.py:32]\n",
      "2024-02-04 05:49:56,317 INFO: Training rmse: 0.020653536489410547; R^2: 0.975717585128458 [in train_rf at /home/jk871/fire-regen/src/counterfactuals/rf/train.py:37]\n",
      "2024-02-04 05:49:56,319 INFO: Validation error: 0.9704362888343582 [in train_rf at /home/jk871/fire-regen/src/counterfactuals/rf/train.py:38]\n"
     ]
    }
   ],
   "source": [
    "# Without qt_25 columns.\n",
    "m = train_for_var(\"NDVI_2020\", FEATURES, df=calibration)"
   ]
  },
  {
   "cell_type": "code",
   "execution_count": null,
   "metadata": {},
   "outputs": [],
   "source": [
    "m, to = m"
   ]
  },
  {
   "cell_type": "code",
   "execution_count": null,
   "metadata": {},
   "outputs": [],
   "source": [
    "save_pickle(f\"{DATA_PATH}/evaluation/rf/models/model_ndvi_2020_advanced_landsat_no_qt_25.pkl\", m)"
   ]
  },
  {
   "cell_type": "code",
   "execution_count": null,
   "metadata": {},
   "outputs": [],
   "source": [
    "save_pickle(f\"{DATA_PATH}/evaluation/rf/models/model_ndvi_2020_advanced_landsat_no_qt_25.pkl\", m)\n",
    "to.export(f\"{DATA_PATH}/evaluation/rf/models/to_ndvi_2020_advanced_landsat_no_qt_25.pkl\")"
   ]
  },
  {
   "cell_type": "code",
   "execution_count": null,
   "metadata": {},
   "outputs": [],
   "source": [
    "from fastai.tabular.all import *\n",
    "@patch\n",
    "def export(self: TabularPandas, fname='export.pkl', pickle_protocol=2):\n",
    "    \"Export the contents of `self` without the items\"\n",
    "    old_to = self\n",
    "    self = self.new_empty()\n",
    "    with warnings.catch_warnings():\n",
    "        warnings.simplefilter(\"ignore\")\n",
    "        pickle.dump(self, open(Path(fname), 'wb'), protocol=pickle_protocol)\n",
    "        self = old_to"
   ]
  },
  {
   "cell_type": "code",
   "execution_count": null,
   "metadata": {},
   "outputs": [
    {
     "name": "stderr",
     "output_type": "stream",
     "text": [
      "/home/jk871/drought-with-gedi/drought/lib/python3.10/site-packages/fastai/tabular/core.py:314: PerformanceWarning: DataFrame is highly fragmented.  This is usually the result of calling `frame.insert` many times, which has poor performance.  Consider joining all columns at once using pd.concat(axis=1) instead. To get a de-fragmented frame, use `newframe = frame.copy()`\n",
      "  to.loc[:,n+'_na'] = missing[n]\n",
      "/home/jk871/drought-with-gedi/drought/lib/python3.10/site-packages/fastai/tabular/core.py:314: PerformanceWarning: DataFrame is highly fragmented.  This is usually the result of calling `frame.insert` many times, which has poor performance.  Consider joining all columns at once using pd.concat(axis=1) instead. To get a de-fragmented frame, use `newframe = frame.copy()`\n",
      "  to.loc[:,n+'_na'] = missing[n]\n",
      "/home/jk871/drought-with-gedi/drought/lib/python3.10/site-packages/fastai/tabular/core.py:314: PerformanceWarning: DataFrame is highly fragmented.  This is usually the result of calling `frame.insert` many times, which has poor performance.  Consider joining all columns at once using pd.concat(axis=1) instead. To get a de-fragmented frame, use `newframe = frame.copy()`\n",
      "  to.loc[:,n+'_na'] = missing[n]\n",
      "/home/jk871/drought-with-gedi/drought/lib/python3.10/site-packages/fastai/tabular/core.py:314: PerformanceWarning: DataFrame is highly fragmented.  This is usually the result of calling `frame.insert` many times, which has poor performance.  Consider joining all columns at once using pd.concat(axis=1) instead. To get a de-fragmented frame, use `newframe = frame.copy()`\n",
      "  to.loc[:,n+'_na'] = missing[n]\n",
      "/home/jk871/drought-with-gedi/drought/lib/python3.10/site-packages/fastai/tabular/core.py:314: PerformanceWarning: DataFrame is highly fragmented.  This is usually the result of calling `frame.insert` many times, which has poor performance.  Consider joining all columns at once using pd.concat(axis=1) instead. To get a de-fragmented frame, use `newframe = frame.copy()`\n",
      "  to.loc[:,n+'_na'] = missing[n]\n",
      "/home/jk871/drought-with-gedi/drought/lib/python3.10/site-packages/fastai/tabular/core.py:314: PerformanceWarning: DataFrame is highly fragmented.  This is usually the result of calling `frame.insert` many times, which has poor performance.  Consider joining all columns at once using pd.concat(axis=1) instead. To get a de-fragmented frame, use `newframe = frame.copy()`\n",
      "  to.loc[:,n+'_na'] = missing[n]\n",
      "/home/jk871/drought-with-gedi/drought/lib/python3.10/site-packages/fastai/tabular/core.py:314: PerformanceWarning: DataFrame is highly fragmented.  This is usually the result of calling `frame.insert` many times, which has poor performance.  Consider joining all columns at once using pd.concat(axis=1) instead. To get a de-fragmented frame, use `newframe = frame.copy()`\n",
      "  to.loc[:,n+'_na'] = missing[n]\n",
      "/home/jk871/drought-with-gedi/drought/lib/python3.10/site-packages/fastai/tabular/core.py:314: PerformanceWarning: DataFrame is highly fragmented.  This is usually the result of calling `frame.insert` many times, which has poor performance.  Consider joining all columns at once using pd.concat(axis=1) instead. To get a de-fragmented frame, use `newframe = frame.copy()`\n",
      "  to.loc[:,n+'_na'] = missing[n]\n",
      "/home/jk871/drought-with-gedi/drought/lib/python3.10/site-packages/fastai/tabular/core.py:314: PerformanceWarning: DataFrame is highly fragmented.  This is usually the result of calling `frame.insert` many times, which has poor performance.  Consider joining all columns at once using pd.concat(axis=1) instead. To get a de-fragmented frame, use `newframe = frame.copy()`\n",
      "  to.loc[:,n+'_na'] = missing[n]\n",
      "/home/jk871/drought-with-gedi/drought/lib/python3.10/site-packages/fastai/tabular/core.py:314: PerformanceWarning: DataFrame is highly fragmented.  This is usually the result of calling `frame.insert` many times, which has poor performance.  Consider joining all columns at once using pd.concat(axis=1) instead. To get a de-fragmented frame, use `newframe = frame.copy()`\n",
      "  to.loc[:,n+'_na'] = missing[n]\n",
      "/home/jk871/drought-with-gedi/drought/lib/python3.10/site-packages/fastai/tabular/core.py:314: PerformanceWarning: DataFrame is highly fragmented.  This is usually the result of calling `frame.insert` many times, which has poor performance.  Consider joining all columns at once using pd.concat(axis=1) instead. To get a de-fragmented frame, use `newframe = frame.copy()`\n",
      "  to.loc[:,n+'_na'] = missing[n]\n",
      "/home/jk871/drought-with-gedi/drought/lib/python3.10/site-packages/fastai/tabular/core.py:314: PerformanceWarning: DataFrame is highly fragmented.  This is usually the result of calling `frame.insert` many times, which has poor performance.  Consider joining all columns at once using pd.concat(axis=1) instead. To get a de-fragmented frame, use `newframe = frame.copy()`\n",
      "  to.loc[:,n+'_na'] = missing[n]\n",
      "/home/jk871/drought-with-gedi/drought/lib/python3.10/site-packages/fastai/tabular/core.py:314: PerformanceWarning: DataFrame is highly fragmented.  This is usually the result of calling `frame.insert` many times, which has poor performance.  Consider joining all columns at once using pd.concat(axis=1) instead. To get a de-fragmented frame, use `newframe = frame.copy()`\n",
      "  to.loc[:,n+'_na'] = missing[n]\n",
      "/home/jk871/drought-with-gedi/drought/lib/python3.10/site-packages/fastai/tabular/core.py:314: PerformanceWarning: DataFrame is highly fragmented.  This is usually the result of calling `frame.insert` many times, which has poor performance.  Consider joining all columns at once using pd.concat(axis=1) instead. To get a de-fragmented frame, use `newframe = frame.copy()`\n",
      "  to.loc[:,n+'_na'] = missing[n]\n",
      "/home/jk871/drought-with-gedi/drought/lib/python3.10/site-packages/fastai/tabular/core.py:314: PerformanceWarning: DataFrame is highly fragmented.  This is usually the result of calling `frame.insert` many times, which has poor performance.  Consider joining all columns at once using pd.concat(axis=1) instead. To get a de-fragmented frame, use `newframe = frame.copy()`\n",
      "  to.loc[:,n+'_na'] = missing[n]\n",
      "/home/jk871/drought-with-gedi/drought/lib/python3.10/site-packages/fastai/tabular/core.py:314: PerformanceWarning: DataFrame is highly fragmented.  This is usually the result of calling `frame.insert` many times, which has poor performance.  Consider joining all columns at once using pd.concat(axis=1) instead. To get a de-fragmented frame, use `newframe = frame.copy()`\n",
      "  to.loc[:,n+'_na'] = missing[n]\n",
      "/home/jk871/drought-with-gedi/drought/lib/python3.10/site-packages/fastai/tabular/core.py:314: PerformanceWarning: DataFrame is highly fragmented.  This is usually the result of calling `frame.insert` many times, which has poor performance.  Consider joining all columns at once using pd.concat(axis=1) instead. To get a de-fragmented frame, use `newframe = frame.copy()`\n",
      "  to.loc[:,n+'_na'] = missing[n]\n",
      "/home/jk871/drought-with-gedi/drought/lib/python3.10/site-packages/fastai/tabular/core.py:314: PerformanceWarning: DataFrame is highly fragmented.  This is usually the result of calling `frame.insert` many times, which has poor performance.  Consider joining all columns at once using pd.concat(axis=1) instead. To get a de-fragmented frame, use `newframe = frame.copy()`\n",
      "  to.loc[:,n+'_na'] = missing[n]\n",
      "/home/jk871/drought-with-gedi/drought/lib/python3.10/site-packages/fastai/tabular/core.py:314: PerformanceWarning: DataFrame is highly fragmented.  This is usually the result of calling `frame.insert` many times, which has poor performance.  Consider joining all columns at once using pd.concat(axis=1) instead. To get a de-fragmented frame, use `newframe = frame.copy()`\n",
      "  to.loc[:,n+'_na'] = missing[n]\n",
      "/home/jk871/drought-with-gedi/drought/lib/python3.10/site-packages/fastai/tabular/core.py:314: PerformanceWarning: DataFrame is highly fragmented.  This is usually the result of calling `frame.insert` many times, which has poor performance.  Consider joining all columns at once using pd.concat(axis=1) instead. To get a de-fragmented frame, use `newframe = frame.copy()`\n",
      "  to.loc[:,n+'_na'] = missing[n]\n",
      "/home/jk871/drought-with-gedi/drought/lib/python3.10/site-packages/fastai/tabular/core.py:314: PerformanceWarning: DataFrame is highly fragmented.  This is usually the result of calling `frame.insert` many times, which has poor performance.  Consider joining all columns at once using pd.concat(axis=1) instead. To get a de-fragmented frame, use `newframe = frame.copy()`\n",
      "  to.loc[:,n+'_na'] = missing[n]\n",
      "/home/jk871/drought-with-gedi/drought/lib/python3.10/site-packages/fastai/tabular/core.py:314: PerformanceWarning: DataFrame is highly fragmented.  This is usually the result of calling `frame.insert` many times, which has poor performance.  Consider joining all columns at once using pd.concat(axis=1) instead. To get a de-fragmented frame, use `newframe = frame.copy()`\n",
      "  to.loc[:,n+'_na'] = missing[n]\n",
      "/home/jk871/drought-with-gedi/drought/lib/python3.10/site-packages/fastai/tabular/core.py:314: PerformanceWarning: DataFrame is highly fragmented.  This is usually the result of calling `frame.insert` many times, which has poor performance.  Consider joining all columns at once using pd.concat(axis=1) instead. To get a de-fragmented frame, use `newframe = frame.copy()`\n",
      "  to.loc[:,n+'_na'] = missing[n]\n",
      "/home/jk871/drought-with-gedi/drought/lib/python3.10/site-packages/fastai/tabular/core.py:314: PerformanceWarning: DataFrame is highly fragmented.  This is usually the result of calling `frame.insert` many times, which has poor performance.  Consider joining all columns at once using pd.concat(axis=1) instead. To get a de-fragmented frame, use `newframe = frame.copy()`\n",
      "  to.loc[:,n+'_na'] = missing[n]\n",
      "/home/jk871/drought-with-gedi/drought/lib/python3.10/site-packages/fastai/tabular/core.py:314: PerformanceWarning: DataFrame is highly fragmented.  This is usually the result of calling `frame.insert` many times, which has poor performance.  Consider joining all columns at once using pd.concat(axis=1) instead. To get a de-fragmented frame, use `newframe = frame.copy()`\n",
      "  to.loc[:,n+'_na'] = missing[n]\n",
      "/home/jk871/drought-with-gedi/drought/lib/python3.10/site-packages/fastai/tabular/core.py:314: PerformanceWarning: DataFrame is highly fragmented.  This is usually the result of calling `frame.insert` many times, which has poor performance.  Consider joining all columns at once using pd.concat(axis=1) instead. To get a de-fragmented frame, use `newframe = frame.copy()`\n",
      "  to.loc[:,n+'_na'] = missing[n]\n",
      "/home/jk871/drought-with-gedi/drought/lib/python3.10/site-packages/fastai/tabular/core.py:314: PerformanceWarning: DataFrame is highly fragmented.  This is usually the result of calling `frame.insert` many times, which has poor performance.  Consider joining all columns at once using pd.concat(axis=1) instead. To get a de-fragmented frame, use `newframe = frame.copy()`\n",
      "  to.loc[:,n+'_na'] = missing[n]\n",
      "/home/jk871/drought-with-gedi/drought/lib/python3.10/site-packages/fastai/tabular/core.py:314: PerformanceWarning: DataFrame is highly fragmented.  This is usually the result of calling `frame.insert` many times, which has poor performance.  Consider joining all columns at once using pd.concat(axis=1) instead. To get a de-fragmented frame, use `newframe = frame.copy()`\n",
      "  to.loc[:,n+'_na'] = missing[n]\n",
      "/home/jk871/drought-with-gedi/drought/lib/python3.10/site-packages/fastai/tabular/core.py:314: PerformanceWarning: DataFrame is highly fragmented.  This is usually the result of calling `frame.insert` many times, which has poor performance.  Consider joining all columns at once using pd.concat(axis=1) instead. To get a de-fragmented frame, use `newframe = frame.copy()`\n",
      "  to.loc[:,n+'_na'] = missing[n]\n",
      "/home/jk871/drought-with-gedi/drought/lib/python3.10/site-packages/fastai/tabular/core.py:314: PerformanceWarning: DataFrame is highly fragmented.  This is usually the result of calling `frame.insert` many times, which has poor performance.  Consider joining all columns at once using pd.concat(axis=1) instead. To get a de-fragmented frame, use `newframe = frame.copy()`\n",
      "  to.loc[:,n+'_na'] = missing[n]\n",
      "/home/jk871/drought-with-gedi/drought/lib/python3.10/site-packages/fastai/tabular/core.py:314: PerformanceWarning: DataFrame is highly fragmented.  This is usually the result of calling `frame.insert` many times, which has poor performance.  Consider joining all columns at once using pd.concat(axis=1) instead. To get a de-fragmented frame, use `newframe = frame.copy()`\n",
      "  to.loc[:,n+'_na'] = missing[n]\n",
      "/home/jk871/drought-with-gedi/drought/lib/python3.10/site-packages/fastai/tabular/core.py:314: PerformanceWarning: DataFrame is highly fragmented.  This is usually the result of calling `frame.insert` many times, which has poor performance.  Consider joining all columns at once using pd.concat(axis=1) instead. To get a de-fragmented frame, use `newframe = frame.copy()`\n",
      "  to.loc[:,n+'_na'] = missing[n]\n",
      "/home/jk871/drought-with-gedi/drought/lib/python3.10/site-packages/fastai/tabular/core.py:314: PerformanceWarning: DataFrame is highly fragmented.  This is usually the result of calling `frame.insert` many times, which has poor performance.  Consider joining all columns at once using pd.concat(axis=1) instead. To get a de-fragmented frame, use `newframe = frame.copy()`\n",
      "  to.loc[:,n+'_na'] = missing[n]\n",
      "/home/jk871/drought-with-gedi/drought/lib/python3.10/site-packages/fastai/tabular/core.py:314: PerformanceWarning: DataFrame is highly fragmented.  This is usually the result of calling `frame.insert` many times, which has poor performance.  Consider joining all columns at once using pd.concat(axis=1) instead. To get a de-fragmented frame, use `newframe = frame.copy()`\n",
      "  to.loc[:,n+'_na'] = missing[n]\n",
      "/home/jk871/drought-with-gedi/drought/lib/python3.10/site-packages/fastai/tabular/core.py:314: PerformanceWarning: DataFrame is highly fragmented.  This is usually the result of calling `frame.insert` many times, which has poor performance.  Consider joining all columns at once using pd.concat(axis=1) instead. To get a de-fragmented frame, use `newframe = frame.copy()`\n",
      "  to.loc[:,n+'_na'] = missing[n]\n",
      "/home/jk871/drought-with-gedi/drought/lib/python3.10/site-packages/fastai/tabular/core.py:314: PerformanceWarning: DataFrame is highly fragmented.  This is usually the result of calling `frame.insert` many times, which has poor performance.  Consider joining all columns at once using pd.concat(axis=1) instead. To get a de-fragmented frame, use `newframe = frame.copy()`\n",
      "  to.loc[:,n+'_na'] = missing[n]\n",
      "/home/jk871/drought-with-gedi/drought/lib/python3.10/site-packages/fastai/tabular/core.py:314: PerformanceWarning: DataFrame is highly fragmented.  This is usually the result of calling `frame.insert` many times, which has poor performance.  Consider joining all columns at once using pd.concat(axis=1) instead. To get a de-fragmented frame, use `newframe = frame.copy()`\n",
      "  to.loc[:,n+'_na'] = missing[n]\n",
      "/home/jk871/drought-with-gedi/drought/lib/python3.10/site-packages/fastai/tabular/core.py:314: PerformanceWarning: DataFrame is highly fragmented.  This is usually the result of calling `frame.insert` many times, which has poor performance.  Consider joining all columns at once using pd.concat(axis=1) instead. To get a de-fragmented frame, use `newframe = frame.copy()`\n",
      "  to.loc[:,n+'_na'] = missing[n]\n",
      "/home/jk871/drought-with-gedi/drought/lib/python3.10/site-packages/fastai/tabular/core.py:314: PerformanceWarning: DataFrame is highly fragmented.  This is usually the result of calling `frame.insert` many times, which has poor performance.  Consider joining all columns at once using pd.concat(axis=1) instead. To get a de-fragmented frame, use `newframe = frame.copy()`\n",
      "  to.loc[:,n+'_na'] = missing[n]\n",
      "/home/jk871/drought-with-gedi/drought/lib/python3.10/site-packages/fastai/tabular/core.py:314: PerformanceWarning: DataFrame is highly fragmented.  This is usually the result of calling `frame.insert` many times, which has poor performance.  Consider joining all columns at once using pd.concat(axis=1) instead. To get a de-fragmented frame, use `newframe = frame.copy()`\n",
      "  to.loc[:,n+'_na'] = missing[n]\n",
      "/home/jk871/drought-with-gedi/drought/lib/python3.10/site-packages/fastai/tabular/core.py:314: PerformanceWarning: DataFrame is highly fragmented.  This is usually the result of calling `frame.insert` many times, which has poor performance.  Consider joining all columns at once using pd.concat(axis=1) instead. To get a de-fragmented frame, use `newframe = frame.copy()`\n",
      "  to.loc[:,n+'_na'] = missing[n]\n",
      "/home/jk871/drought-with-gedi/drought/lib/python3.10/site-packages/fastai/tabular/core.py:314: PerformanceWarning: DataFrame is highly fragmented.  This is usually the result of calling `frame.insert` many times, which has poor performance.  Consider joining all columns at once using pd.concat(axis=1) instead. To get a de-fragmented frame, use `newframe = frame.copy()`\n",
      "  to.loc[:,n+'_na'] = missing[n]\n",
      "/home/jk871/drought-with-gedi/drought/lib/python3.10/site-packages/fastai/tabular/core.py:314: PerformanceWarning: DataFrame is highly fragmented.  This is usually the result of calling `frame.insert` many times, which has poor performance.  Consider joining all columns at once using pd.concat(axis=1) instead. To get a de-fragmented frame, use `newframe = frame.copy()`\n",
      "  to.loc[:,n+'_na'] = missing[n]\n",
      "/home/jk871/drought-with-gedi/drought/lib/python3.10/site-packages/fastai/tabular/core.py:314: PerformanceWarning: DataFrame is highly fragmented.  This is usually the result of calling `frame.insert` many times, which has poor performance.  Consider joining all columns at once using pd.concat(axis=1) instead. To get a de-fragmented frame, use `newframe = frame.copy()`\n",
      "  to.loc[:,n+'_na'] = missing[n]\n",
      "/home/jk871/drought-with-gedi/drought/lib/python3.10/site-packages/fastai/tabular/core.py:314: PerformanceWarning: DataFrame is highly fragmented.  This is usually the result of calling `frame.insert` many times, which has poor performance.  Consider joining all columns at once using pd.concat(axis=1) instead. To get a de-fragmented frame, use `newframe = frame.copy()`\n",
      "  to.loc[:,n+'_na'] = missing[n]\n",
      "/home/jk871/drought-with-gedi/drought/lib/python3.10/site-packages/fastai/tabular/core.py:314: PerformanceWarning: DataFrame is highly fragmented.  This is usually the result of calling `frame.insert` many times, which has poor performance.  Consider joining all columns at once using pd.concat(axis=1) instead. To get a de-fragmented frame, use `newframe = frame.copy()`\n",
      "  to.loc[:,n+'_na'] = missing[n]\n",
      "/home/jk871/drought-with-gedi/drought/lib/python3.10/site-packages/fastai/tabular/core.py:314: PerformanceWarning: DataFrame is highly fragmented.  This is usually the result of calling `frame.insert` many times, which has poor performance.  Consider joining all columns at once using pd.concat(axis=1) instead. To get a de-fragmented frame, use `newframe = frame.copy()`\n",
      "  to.loc[:,n+'_na'] = missing[n]\n",
      "/home/jk871/drought-with-gedi/drought/lib/python3.10/site-packages/fastai/tabular/core.py:314: PerformanceWarning: DataFrame is highly fragmented.  This is usually the result of calling `frame.insert` many times, which has poor performance.  Consider joining all columns at once using pd.concat(axis=1) instead. To get a de-fragmented frame, use `newframe = frame.copy()`\n",
      "  to.loc[:,n+'_na'] = missing[n]\n",
      "/home/jk871/drought-with-gedi/drought/lib/python3.10/site-packages/fastai/tabular/core.py:314: PerformanceWarning: DataFrame is highly fragmented.  This is usually the result of calling `frame.insert` many times, which has poor performance.  Consider joining all columns at once using pd.concat(axis=1) instead. To get a de-fragmented frame, use `newframe = frame.copy()`\n",
      "  to.loc[:,n+'_na'] = missing[n]\n",
      "/home/jk871/drought-with-gedi/drought/lib/python3.10/site-packages/fastai/tabular/core.py:314: PerformanceWarning: DataFrame is highly fragmented.  This is usually the result of calling `frame.insert` many times, which has poor performance.  Consider joining all columns at once using pd.concat(axis=1) instead. To get a de-fragmented frame, use `newframe = frame.copy()`\n",
      "  to.loc[:,n+'_na'] = missing[n]\n",
      "/home/jk871/drought-with-gedi/drought/lib/python3.10/site-packages/fastai/tabular/core.py:314: PerformanceWarning: DataFrame is highly fragmented.  This is usually the result of calling `frame.insert` many times, which has poor performance.  Consider joining all columns at once using pd.concat(axis=1) instead. To get a de-fragmented frame, use `newframe = frame.copy()`\n",
      "  to.loc[:,n+'_na'] = missing[n]\n",
      "/home/jk871/drought-with-gedi/drought/lib/python3.10/site-packages/fastai/tabular/core.py:314: PerformanceWarning: DataFrame is highly fragmented.  This is usually the result of calling `frame.insert` many times, which has poor performance.  Consider joining all columns at once using pd.concat(axis=1) instead. To get a de-fragmented frame, use `newframe = frame.copy()`\n",
      "  to.loc[:,n+'_na'] = missing[n]\n",
      "/home/jk871/drought-with-gedi/drought/lib/python3.10/site-packages/fastai/tabular/core.py:314: PerformanceWarning: DataFrame is highly fragmented.  This is usually the result of calling `frame.insert` many times, which has poor performance.  Consider joining all columns at once using pd.concat(axis=1) instead. To get a de-fragmented frame, use `newframe = frame.copy()`\n",
      "  to.loc[:,n+'_na'] = missing[n]\n",
      "/home/jk871/drought-with-gedi/drought/lib/python3.10/site-packages/fastai/tabular/core.py:314: PerformanceWarning: DataFrame is highly fragmented.  This is usually the result of calling `frame.insert` many times, which has poor performance.  Consider joining all columns at once using pd.concat(axis=1) instead. To get a de-fragmented frame, use `newframe = frame.copy()`\n",
      "  to.loc[:,n+'_na'] = missing[n]\n",
      "/home/jk871/drought-with-gedi/drought/lib/python3.10/site-packages/fastai/tabular/core.py:314: PerformanceWarning: DataFrame is highly fragmented.  This is usually the result of calling `frame.insert` many times, which has poor performance.  Consider joining all columns at once using pd.concat(axis=1) instead. To get a de-fragmented frame, use `newframe = frame.copy()`\n",
      "  to.loc[:,n+'_na'] = missing[n]\n",
      "/home/jk871/drought-with-gedi/drought/lib/python3.10/site-packages/fastai/tabular/core.py:314: PerformanceWarning: DataFrame is highly fragmented.  This is usually the result of calling `frame.insert` many times, which has poor performance.  Consider joining all columns at once using pd.concat(axis=1) instead. To get a de-fragmented frame, use `newframe = frame.copy()`\n",
      "  to.loc[:,n+'_na'] = missing[n]\n",
      "/home/jk871/drought-with-gedi/drought/lib/python3.10/site-packages/fastai/tabular/core.py:314: PerformanceWarning: DataFrame is highly fragmented.  This is usually the result of calling `frame.insert` many times, which has poor performance.  Consider joining all columns at once using pd.concat(axis=1) instead. To get a de-fragmented frame, use `newframe = frame.copy()`\n",
      "  to.loc[:,n+'_na'] = missing[n]\n",
      "/home/jk871/drought-with-gedi/drought/lib/python3.10/site-packages/fastai/tabular/core.py:314: PerformanceWarning: DataFrame is highly fragmented.  This is usually the result of calling `frame.insert` many times, which has poor performance.  Consider joining all columns at once using pd.concat(axis=1) instead. To get a de-fragmented frame, use `newframe = frame.copy()`\n",
      "  to.loc[:,n+'_na'] = missing[n]\n",
      "/home/jk871/drought-with-gedi/drought/lib/python3.10/site-packages/fastai/tabular/core.py:314: PerformanceWarning: DataFrame is highly fragmented.  This is usually the result of calling `frame.insert` many times, which has poor performance.  Consider joining all columns at once using pd.concat(axis=1) instead. To get a de-fragmented frame, use `newframe = frame.copy()`\n",
      "  to.loc[:,n+'_na'] = missing[n]\n",
      "/home/jk871/drought-with-gedi/drought/lib/python3.10/site-packages/fastai/tabular/core.py:314: PerformanceWarning: DataFrame is highly fragmented.  This is usually the result of calling `frame.insert` many times, which has poor performance.  Consider joining all columns at once using pd.concat(axis=1) instead. To get a de-fragmented frame, use `newframe = frame.copy()`\n",
      "  to.loc[:,n+'_na'] = missing[n]\n",
      "/home/jk871/drought-with-gedi/drought/lib/python3.10/site-packages/fastai/tabular/core.py:314: PerformanceWarning: DataFrame is highly fragmented.  This is usually the result of calling `frame.insert` many times, which has poor performance.  Consider joining all columns at once using pd.concat(axis=1) instead. To get a de-fragmented frame, use `newframe = frame.copy()`\n",
      "  to.loc[:,n+'_na'] = missing[n]\n",
      "/home/jk871/drought-with-gedi/drought/lib/python3.10/site-packages/fastai/tabular/core.py:314: PerformanceWarning: DataFrame is highly fragmented.  This is usually the result of calling `frame.insert` many times, which has poor performance.  Consider joining all columns at once using pd.concat(axis=1) instead. To get a de-fragmented frame, use `newframe = frame.copy()`\n",
      "  to.loc[:,n+'_na'] = missing[n]\n",
      "/home/jk871/drought-with-gedi/drought/lib/python3.10/site-packages/fastai/tabular/core.py:314: PerformanceWarning: DataFrame is highly fragmented.  This is usually the result of calling `frame.insert` many times, which has poor performance.  Consider joining all columns at once using pd.concat(axis=1) instead. To get a de-fragmented frame, use `newframe = frame.copy()`\n",
      "  to.loc[:,n+'_na'] = missing[n]\n",
      "/home/jk871/drought-with-gedi/drought/lib/python3.10/site-packages/fastai/tabular/core.py:314: PerformanceWarning: DataFrame is highly fragmented.  This is usually the result of calling `frame.insert` many times, which has poor performance.  Consider joining all columns at once using pd.concat(axis=1) instead. To get a de-fragmented frame, use `newframe = frame.copy()`\n",
      "  to.loc[:,n+'_na'] = missing[n]\n",
      "/home/jk871/drought-with-gedi/drought/lib/python3.10/site-packages/fastai/tabular/core.py:314: PerformanceWarning: DataFrame is highly fragmented.  This is usually the result of calling `frame.insert` many times, which has poor performance.  Consider joining all columns at once using pd.concat(axis=1) instead. To get a de-fragmented frame, use `newframe = frame.copy()`\n",
      "  to.loc[:,n+'_na'] = missing[n]\n",
      "/home/jk871/drought-with-gedi/drought/lib/python3.10/site-packages/fastai/tabular/core.py:314: PerformanceWarning: DataFrame is highly fragmented.  This is usually the result of calling `frame.insert` many times, which has poor performance.  Consider joining all columns at once using pd.concat(axis=1) instead. To get a de-fragmented frame, use `newframe = frame.copy()`\n",
      "  to.loc[:,n+'_na'] = missing[n]\n",
      "/home/jk871/drought-with-gedi/drought/lib/python3.10/site-packages/fastai/tabular/core.py:314: PerformanceWarning: DataFrame is highly fragmented.  This is usually the result of calling `frame.insert` many times, which has poor performance.  Consider joining all columns at once using pd.concat(axis=1) instead. To get a de-fragmented frame, use `newframe = frame.copy()`\n",
      "  to.loc[:,n+'_na'] = missing[n]\n",
      "/home/jk871/drought-with-gedi/drought/lib/python3.10/site-packages/fastai/tabular/core.py:314: PerformanceWarning: DataFrame is highly fragmented.  This is usually the result of calling `frame.insert` many times, which has poor performance.  Consider joining all columns at once using pd.concat(axis=1) instead. To get a de-fragmented frame, use `newframe = frame.copy()`\n",
      "  to.loc[:,n+'_na'] = missing[n]\n",
      "/home/jk871/drought-with-gedi/drought/lib/python3.10/site-packages/fastai/tabular/core.py:314: PerformanceWarning: DataFrame is highly fragmented.  This is usually the result of calling `frame.insert` many times, which has poor performance.  Consider joining all columns at once using pd.concat(axis=1) instead. To get a de-fragmented frame, use `newframe = frame.copy()`\n",
      "  to.loc[:,n+'_na'] = missing[n]\n",
      "/home/jk871/drought-with-gedi/drought/lib/python3.10/site-packages/fastai/tabular/core.py:314: PerformanceWarning: DataFrame is highly fragmented.  This is usually the result of calling `frame.insert` many times, which has poor performance.  Consider joining all columns at once using pd.concat(axis=1) instead. To get a de-fragmented frame, use `newframe = frame.copy()`\n",
      "  to.loc[:,n+'_na'] = missing[n]\n",
      "/home/jk871/drought-with-gedi/drought/lib/python3.10/site-packages/fastai/tabular/core.py:314: PerformanceWarning: DataFrame is highly fragmented.  This is usually the result of calling `frame.insert` many times, which has poor performance.  Consider joining all columns at once using pd.concat(axis=1) instead. To get a de-fragmented frame, use `newframe = frame.copy()`\n",
      "  to.loc[:,n+'_na'] = missing[n]\n",
      "/home/jk871/drought-with-gedi/drought/lib/python3.10/site-packages/fastai/tabular/core.py:314: PerformanceWarning: DataFrame is highly fragmented.  This is usually the result of calling `frame.insert` many times, which has poor performance.  Consider joining all columns at once using pd.concat(axis=1) instead. To get a de-fragmented frame, use `newframe = frame.copy()`\n",
      "  to.loc[:,n+'_na'] = missing[n]\n",
      "/home/jk871/drought-with-gedi/drought/lib/python3.10/site-packages/fastai/tabular/core.py:314: PerformanceWarning: DataFrame is highly fragmented.  This is usually the result of calling `frame.insert` many times, which has poor performance.  Consider joining all columns at once using pd.concat(axis=1) instead. To get a de-fragmented frame, use `newframe = frame.copy()`\n",
      "  to.loc[:,n+'_na'] = missing[n]\n",
      "/home/jk871/drought-with-gedi/drought/lib/python3.10/site-packages/fastai/tabular/core.py:314: PerformanceWarning: DataFrame is highly fragmented.  This is usually the result of calling `frame.insert` many times, which has poor performance.  Consider joining all columns at once using pd.concat(axis=1) instead. To get a de-fragmented frame, use `newframe = frame.copy()`\n",
      "  to.loc[:,n+'_na'] = missing[n]\n",
      "/home/jk871/drought-with-gedi/drought/lib/python3.10/site-packages/fastai/tabular/core.py:314: PerformanceWarning: DataFrame is highly fragmented.  This is usually the result of calling `frame.insert` many times, which has poor performance.  Consider joining all columns at once using pd.concat(axis=1) instead. To get a de-fragmented frame, use `newframe = frame.copy()`\n",
      "  to.loc[:,n+'_na'] = missing[n]\n",
      "/home/jk871/drought-with-gedi/drought/lib/python3.10/site-packages/fastai/tabular/core.py:314: PerformanceWarning: DataFrame is highly fragmented.  This is usually the result of calling `frame.insert` many times, which has poor performance.  Consider joining all columns at once using pd.concat(axis=1) instead. To get a de-fragmented frame, use `newframe = frame.copy()`\n",
      "  to.loc[:,n+'_na'] = missing[n]\n",
      "/home/jk871/drought-with-gedi/drought/lib/python3.10/site-packages/fastai/tabular/core.py:314: PerformanceWarning: DataFrame is highly fragmented.  This is usually the result of calling `frame.insert` many times, which has poor performance.  Consider joining all columns at once using pd.concat(axis=1) instead. To get a de-fragmented frame, use `newframe = frame.copy()`\n",
      "  to.loc[:,n+'_na'] = missing[n]\n",
      "/home/jk871/drought-with-gedi/drought/lib/python3.10/site-packages/fastai/tabular/core.py:314: PerformanceWarning: DataFrame is highly fragmented.  This is usually the result of calling `frame.insert` many times, which has poor performance.  Consider joining all columns at once using pd.concat(axis=1) instead. To get a de-fragmented frame, use `newframe = frame.copy()`\n",
      "  to.loc[:,n+'_na'] = missing[n]\n",
      "/home/jk871/drought-with-gedi/drought/lib/python3.10/site-packages/fastai/tabular/core.py:314: PerformanceWarning: DataFrame is highly fragmented.  This is usually the result of calling `frame.insert` many times, which has poor performance.  Consider joining all columns at once using pd.concat(axis=1) instead. To get a de-fragmented frame, use `newframe = frame.copy()`\n",
      "  to.loc[:,n+'_na'] = missing[n]\n",
      "/home/jk871/drought-with-gedi/drought/lib/python3.10/site-packages/fastai/tabular/core.py:314: PerformanceWarning: DataFrame is highly fragmented.  This is usually the result of calling `frame.insert` many times, which has poor performance.  Consider joining all columns at once using pd.concat(axis=1) instead. To get a de-fragmented frame, use `newframe = frame.copy()`\n",
      "  to.loc[:,n+'_na'] = missing[n]\n",
      "/home/jk871/drought-with-gedi/drought/lib/python3.10/site-packages/fastai/tabular/core.py:314: PerformanceWarning: DataFrame is highly fragmented.  This is usually the result of calling `frame.insert` many times, which has poor performance.  Consider joining all columns at once using pd.concat(axis=1) instead. To get a de-fragmented frame, use `newframe = frame.copy()`\n",
      "  to.loc[:,n+'_na'] = missing[n]\n",
      "/home/jk871/drought-with-gedi/drought/lib/python3.10/site-packages/fastai/tabular/core.py:314: PerformanceWarning: DataFrame is highly fragmented.  This is usually the result of calling `frame.insert` many times, which has poor performance.  Consider joining all columns at once using pd.concat(axis=1) instead. To get a de-fragmented frame, use `newframe = frame.copy()`\n",
      "  to.loc[:,n+'_na'] = missing[n]\n",
      "/home/jk871/drought-with-gedi/drought/lib/python3.10/site-packages/fastai/tabular/core.py:314: PerformanceWarning: DataFrame is highly fragmented.  This is usually the result of calling `frame.insert` many times, which has poor performance.  Consider joining all columns at once using pd.concat(axis=1) instead. To get a de-fragmented frame, use `newframe = frame.copy()`\n",
      "  to.loc[:,n+'_na'] = missing[n]\n",
      "/home/jk871/drought-with-gedi/drought/lib/python3.10/site-packages/fastai/tabular/core.py:314: PerformanceWarning: DataFrame is highly fragmented.  This is usually the result of calling `frame.insert` many times, which has poor performance.  Consider joining all columns at once using pd.concat(axis=1) instead. To get a de-fragmented frame, use `newframe = frame.copy()`\n",
      "  to.loc[:,n+'_na'] = missing[n]\n",
      "/home/jk871/drought-with-gedi/drought/lib/python3.10/site-packages/fastai/tabular/core.py:314: PerformanceWarning: DataFrame is highly fragmented.  This is usually the result of calling `frame.insert` many times, which has poor performance.  Consider joining all columns at once using pd.concat(axis=1) instead. To get a de-fragmented frame, use `newframe = frame.copy()`\n",
      "  to.loc[:,n+'_na'] = missing[n]\n",
      "/home/jk871/drought-with-gedi/drought/lib/python3.10/site-packages/fastai/tabular/core.py:314: PerformanceWarning: DataFrame is highly fragmented.  This is usually the result of calling `frame.insert` many times, which has poor performance.  Consider joining all columns at once using pd.concat(axis=1) instead. To get a de-fragmented frame, use `newframe = frame.copy()`\n",
      "  to.loc[:,n+'_na'] = missing[n]\n",
      "/home/jk871/drought-with-gedi/drought/lib/python3.10/site-packages/fastai/tabular/core.py:314: PerformanceWarning: DataFrame is highly fragmented.  This is usually the result of calling `frame.insert` many times, which has poor performance.  Consider joining all columns at once using pd.concat(axis=1) instead. To get a de-fragmented frame, use `newframe = frame.copy()`\n",
      "  to.loc[:,n+'_na'] = missing[n]\n",
      "/home/jk871/drought-with-gedi/drought/lib/python3.10/site-packages/fastai/tabular/core.py:314: PerformanceWarning: DataFrame is highly fragmented.  This is usually the result of calling `frame.insert` many times, which has poor performance.  Consider joining all columns at once using pd.concat(axis=1) instead. To get a de-fragmented frame, use `newframe = frame.copy()`\n",
      "  to.loc[:,n+'_na'] = missing[n]\n",
      "/home/jk871/drought-with-gedi/drought/lib/python3.10/site-packages/fastai/tabular/core.py:314: PerformanceWarning: DataFrame is highly fragmented.  This is usually the result of calling `frame.insert` many times, which has poor performance.  Consider joining all columns at once using pd.concat(axis=1) instead. To get a de-fragmented frame, use `newframe = frame.copy()`\n",
      "  to.loc[:,n+'_na'] = missing[n]\n",
      "/home/jk871/drought-with-gedi/drought/lib/python3.10/site-packages/fastai/tabular/core.py:314: PerformanceWarning: DataFrame is highly fragmented.  This is usually the result of calling `frame.insert` many times, which has poor performance.  Consider joining all columns at once using pd.concat(axis=1) instead. To get a de-fragmented frame, use `newframe = frame.copy()`\n",
      "  to.loc[:,n+'_na'] = missing[n]\n",
      "/home/jk871/drought-with-gedi/drought/lib/python3.10/site-packages/fastai/tabular/core.py:314: PerformanceWarning: DataFrame is highly fragmented.  This is usually the result of calling `frame.insert` many times, which has poor performance.  Consider joining all columns at once using pd.concat(axis=1) instead. To get a de-fragmented frame, use `newframe = frame.copy()`\n",
      "  to.loc[:,n+'_na'] = missing[n]\n",
      "/home/jk871/drought-with-gedi/drought/lib/python3.10/site-packages/fastai/tabular/core.py:314: PerformanceWarning: DataFrame is highly fragmented.  This is usually the result of calling `frame.insert` many times, which has poor performance.  Consider joining all columns at once using pd.concat(axis=1) instead. To get a de-fragmented frame, use `newframe = frame.copy()`\n",
      "  to.loc[:,n+'_na'] = missing[n]\n",
      "/home/jk871/drought-with-gedi/drought/lib/python3.10/site-packages/fastai/tabular/core.py:314: PerformanceWarning: DataFrame is highly fragmented.  This is usually the result of calling `frame.insert` many times, which has poor performance.  Consider joining all columns at once using pd.concat(axis=1) instead. To get a de-fragmented frame, use `newframe = frame.copy()`\n",
      "  to.loc[:,n+'_na'] = missing[n]\n",
      "/home/jk871/drought-with-gedi/drought/lib/python3.10/site-packages/fastai/tabular/core.py:314: PerformanceWarning: DataFrame is highly fragmented.  This is usually the result of calling `frame.insert` many times, which has poor performance.  Consider joining all columns at once using pd.concat(axis=1) instead. To get a de-fragmented frame, use `newframe = frame.copy()`\n",
      "  to.loc[:,n+'_na'] = missing[n]\n",
      "/home/jk871/drought-with-gedi/drought/lib/python3.10/site-packages/fastai/tabular/core.py:314: PerformanceWarning: DataFrame is highly fragmented.  This is usually the result of calling `frame.insert` many times, which has poor performance.  Consider joining all columns at once using pd.concat(axis=1) instead. To get a de-fragmented frame, use `newframe = frame.copy()`\n",
      "  to.loc[:,n+'_na'] = missing[n]\n",
      "/home/jk871/drought-with-gedi/drought/lib/python3.10/site-packages/fastai/tabular/core.py:314: PerformanceWarning: DataFrame is highly fragmented.  This is usually the result of calling `frame.insert` many times, which has poor performance.  Consider joining all columns at once using pd.concat(axis=1) instead. To get a de-fragmented frame, use `newframe = frame.copy()`\n",
      "  to.loc[:,n+'_na'] = missing[n]\n",
      "/home/jk871/drought-with-gedi/drought/lib/python3.10/site-packages/fastai/tabular/core.py:314: PerformanceWarning: DataFrame is highly fragmented.  This is usually the result of calling `frame.insert` many times, which has poor performance.  Consider joining all columns at once using pd.concat(axis=1) instead. To get a de-fragmented frame, use `newframe = frame.copy()`\n",
      "  to.loc[:,n+'_na'] = missing[n]\n"
     ]
    }
   ],
   "source": [
    "get_cf(\"NDVI_2020\", m, FEATURES, df=calibration, tf=test_ds)"
   ]
  },
  {
   "cell_type": "code",
   "execution_count": null,
   "metadata": {},
   "outputs": [
    {
     "name": "stdout",
     "output_type": "stream",
     "text": [
      "Evaluating Placebo Set 1:\n",
      "RMSE: 0.02713397014371102\n",
      "R^2: 0.9484143961298991\n",
      "RMA regression: (0.9345177468498741, -0.6136692713901867)\n"
     ]
    },
    {
     "data": {
      "image/png": "[encoded data removed]",
      "text/plain": [
       "<Figure size 1080x360 with 1 Axes>"
      ]
     },
     "metadata": {},
     "output_type": "display_data"
    }
   ],
   "source": [
    "evaluate_placebo_set(\"NDVI_2020\", test_ds)"
   ]
  },
  {
   "cell_type": "markdown",
   "metadata": {},
   "source": [
    "### RH 98"
   ]
  },
  {
   "cell_type": "code",
   "execution_count": null,
   "metadata": {},
   "outputs": [
    {
     "name": "stdout",
     "output_type": "stream",
     "text": [
      "2024-02-04 07:22:43,195 DEBUG: Start model training. [in train_rf at /home/jk871/fire-regen/src/counterfactuals/rf/train.py:30]\n",
      "2024-02-04 07:26:34,854 DEBUG: Training complete. [in train_rf at /home/jk871/fire-regen/src/counterfactuals/rf/train.py:32]\n",
      "2024-02-04 07:26:36,874 INFO: Training rmse: 6.593801457649233; R^2: 0.6040520519939445 [in train_rf at /home/jk871/fire-regen/src/counterfactuals/rf/train.py:37]\n",
      "2024-02-04 07:26:36,875 INFO: Validation error: 0.49807765902841394 [in train_rf at /home/jk871/fire-regen/src/counterfactuals/rf/train.py:38]\n"
     ]
    }
   ],
   "source": [
    "m, to = train_for_var(\"rh_98\", FEATURES, df=calibration_no_na)"
   ]
  },
  {
   "cell_type": "code",
   "execution_count": null,
   "metadata": {},
   "outputs": [
    {
     "name": "stdout",
     "output_type": "stream",
     "text": [
      "Evaluating Placebo Set 1:\n",
      "RMSE: 7.8335616835197825\n",
      "R^2: 0.4757530085677327\n",
      "RMA regression: (0.4597636045784851, 1.9608389325774684)\n"
     ]
    },
    {
     "data": {
      "image/png": "[encoded data removed]",
      "text/plain": [
       "<Figure size 1080x360 with 1 Axes>"
      ]
     },
     "metadata": {},
     "output_type": "display_data"
    }
   ],
   "source": [
    "test_ds_no_na = test_ds.dropna()\n",
    "get_cf(\"rh_98\", m, FEATURES, df=calibration_no_na, tf=test_ds_no_na)\n",
    "evaluate_placebo_set(\"rh_98\", test_ds_no_na)"
   ]
  },
  {
   "cell_type": "code",
   "execution_count": null,
   "metadata": {},
   "outputs": [],
   "source": [
    "def abline(slope, intercept, ax):\n",
    "    \"\"\"Plot a line from slope and intercept\"\"\"\n",
    "    axes = plt.gca()\n",
    "    x_vals = np.array(axes.get_xlim())\n",
    "    y_vals = intercept + slope * x_vals\n",
    "    sns.lineplot(x=x_vals, y=y_vals, ax=ax)"
   ]
  },
  {
   "cell_type": "code",
   "execution_count": null,
   "metadata": {},
   "outputs": [
    {
     "data": {
      "image/png": "[encoded data removed]",
      "text/plain": [
       "<Figure size 720x720 with 1 Axes>"
      ]
     },
     "metadata": {},
     "output_type": "display_data"
    }
   ],
   "source": [
    "fig, ax = plt.subplots(1, 1, figsize=(10, 10))\n",
    "abline(0.4597636045784851, 1.9608389325774684, ax)\n",
    "abline(0.2595561536075119, 11.226312844888445, ax)\n",
    "abline(1, 0, ax)"
   ]
  },
  {
   "cell_type": "code",
   "execution_count": null,
   "metadata": {},
   "outputs": [
    {
     "name": "stderr",
     "output_type": "stream",
     "text": [
      "/home/jk871/drought-with-gedi/drought/lib/python3.10/site-packages/fastai/tabular/core.py:314: PerformanceWarning: DataFrame is highly fragmented.  This is usually the result of calling `frame.insert` many times, which has poor performance.  Consider joining all columns at once using pd.concat(axis=1) instead. To get a de-fragmented frame, use `newframe = frame.copy()`\n",
      "  to.loc[:,n+'_na'] = missing[n]\n",
      "/home/jk871/drought-with-gedi/drought/lib/python3.10/site-packages/fastai/tabular/core.py:314: PerformanceWarning: DataFrame is highly fragmented.  This is usually the result of calling `frame.insert` many times, which has poor performance.  Consider joining all columns at once using pd.concat(axis=1) instead. To get a de-fragmented frame, use `newframe = frame.copy()`\n",
      "  to.loc[:,n+'_na'] = missing[n]\n",
      "/home/jk871/drought-with-gedi/drought/lib/python3.10/site-packages/fastai/tabular/core.py:314: PerformanceWarning: DataFrame is highly fragmented.  This is usually the result of calling `frame.insert` many times, which has poor performance.  Consider joining all columns at once using pd.concat(axis=1) instead. To get a de-fragmented frame, use `newframe = frame.copy()`\n",
      "  to.loc[:,n+'_na'] = missing[n]\n",
      "/home/jk871/drought-with-gedi/drought/lib/python3.10/site-packages/fastai/tabular/core.py:314: PerformanceWarning: DataFrame is highly fragmented.  This is usually the result of calling `frame.insert` many times, which has poor performance.  Consider joining all columns at once using pd.concat(axis=1) instead. To get a de-fragmented frame, use `newframe = frame.copy()`\n",
      "  to.loc[:,n+'_na'] = missing[n]\n",
      "/home/jk871/drought-with-gedi/drought/lib/python3.10/site-packages/fastai/tabular/core.py:314: PerformanceWarning: DataFrame is highly fragmented.  This is usually the result of calling `frame.insert` many times, which has poor performance.  Consider joining all columns at once using pd.concat(axis=1) instead. To get a de-fragmented frame, use `newframe = frame.copy()`\n",
      "  to.loc[:,n+'_na'] = missing[n]\n",
      "/home/jk871/drought-with-gedi/drought/lib/python3.10/site-packages/fastai/tabular/core.py:314: PerformanceWarning: DataFrame is highly fragmented.  This is usually the result of calling `frame.insert` many times, which has poor performance.  Consider joining all columns at once using pd.concat(axis=1) instead. To get a de-fragmented frame, use `newframe = frame.copy()`\n",
      "  to.loc[:,n+'_na'] = missing[n]\n",
      "/home/jk871/drought-with-gedi/drought/lib/python3.10/site-packages/fastai/tabular/core.py:314: PerformanceWarning: DataFrame is highly fragmented.  This is usually the result of calling `frame.insert` many times, which has poor performance.  Consider joining all columns at once using pd.concat(axis=1) instead. To get a de-fragmented frame, use `newframe = frame.copy()`\n",
      "  to.loc[:,n+'_na'] = missing[n]\n",
      "/home/jk871/drought-with-gedi/drought/lib/python3.10/site-packages/fastai/tabular/core.py:314: PerformanceWarning: DataFrame is highly fragmented.  This is usually the result of calling `frame.insert` many times, which has poor performance.  Consider joining all columns at once using pd.concat(axis=1) instead. To get a de-fragmented frame, use `newframe = frame.copy()`\n",
      "  to.loc[:,n+'_na'] = missing[n]\n",
      "/home/jk871/drought-with-gedi/drought/lib/python3.10/site-packages/fastai/tabular/core.py:314: PerformanceWarning: DataFrame is highly fragmented.  This is usually the result of calling `frame.insert` many times, which has poor performance.  Consider joining all columns at once using pd.concat(axis=1) instead. To get a de-fragmented frame, use `newframe = frame.copy()`\n",
      "  to.loc[:,n+'_na'] = missing[n]\n",
      "/home/jk871/drought-with-gedi/drought/lib/python3.10/site-packages/fastai/tabular/core.py:314: PerformanceWarning: DataFrame is highly fragmented.  This is usually the result of calling `frame.insert` many times, which has poor performance.  Consider joining all columns at once using pd.concat(axis=1) instead. To get a de-fragmented frame, use `newframe = frame.copy()`\n",
      "  to.loc[:,n+'_na'] = missing[n]\n",
      "/home/jk871/drought-with-gedi/drought/lib/python3.10/site-packages/fastai/tabular/core.py:314: PerformanceWarning: DataFrame is highly fragmented.  This is usually the result of calling `frame.insert` many times, which has poor performance.  Consider joining all columns at once using pd.concat(axis=1) instead. To get a de-fragmented frame, use `newframe = frame.copy()`\n",
      "  to.loc[:,n+'_na'] = missing[n]\n",
      "/home/jk871/drought-with-gedi/drought/lib/python3.10/site-packages/fastai/tabular/core.py:314: PerformanceWarning: DataFrame is highly fragmented.  This is usually the result of calling `frame.insert` many times, which has poor performance.  Consider joining all columns at once using pd.concat(axis=1) instead. To get a de-fragmented frame, use `newframe = frame.copy()`\n",
      "  to.loc[:,n+'_na'] = missing[n]\n",
      "/home/jk871/drought-with-gedi/drought/lib/python3.10/site-packages/fastai/tabular/core.py:314: PerformanceWarning: DataFrame is highly fragmented.  This is usually the result of calling `frame.insert` many times, which has poor performance.  Consider joining all columns at once using pd.concat(axis=1) instead. To get a de-fragmented frame, use `newframe = frame.copy()`\n",
      "  to.loc[:,n+'_na'] = missing[n]\n",
      "/home/jk871/drought-with-gedi/drought/lib/python3.10/site-packages/fastai/tabular/core.py:314: PerformanceWarning: DataFrame is highly fragmented.  This is usually the result of calling `frame.insert` many times, which has poor performance.  Consider joining all columns at once using pd.concat(axis=1) instead. To get a de-fragmented frame, use `newframe = frame.copy()`\n",
      "  to.loc[:,n+'_na'] = missing[n]\n",
      "/home/jk871/drought-with-gedi/drought/lib/python3.10/site-packages/fastai/tabular/core.py:314: PerformanceWarning: DataFrame is highly fragmented.  This is usually the result of calling `frame.insert` many times, which has poor performance.  Consider joining all columns at once using pd.concat(axis=1) instead. To get a de-fragmented frame, use `newframe = frame.copy()`\n",
      "  to.loc[:,n+'_na'] = missing[n]\n",
      "/home/jk871/drought-with-gedi/drought/lib/python3.10/site-packages/fastai/tabular/core.py:314: PerformanceWarning: DataFrame is highly fragmented.  This is usually the result of calling `frame.insert` many times, which has poor performance.  Consider joining all columns at once using pd.concat(axis=1) instead. To get a de-fragmented frame, use `newframe = frame.copy()`\n",
      "  to.loc[:,n+'_na'] = missing[n]\n",
      "/home/jk871/drought-with-gedi/drought/lib/python3.10/site-packages/fastai/tabular/core.py:314: PerformanceWarning: DataFrame is highly fragmented.  This is usually the result of calling `frame.insert` many times, which has poor performance.  Consider joining all columns at once using pd.concat(axis=1) instead. To get a de-fragmented frame, use `newframe = frame.copy()`\n",
      "  to.loc[:,n+'_na'] = missing[n]\n",
      "/home/jk871/drought-with-gedi/drought/lib/python3.10/site-packages/fastai/tabular/core.py:314: PerformanceWarning: DataFrame is highly fragmented.  This is usually the result of calling `frame.insert` many times, which has poor performance.  Consider joining all columns at once using pd.concat(axis=1) instead. To get a de-fragmented frame, use `newframe = frame.copy()`\n",
      "  to.loc[:,n+'_na'] = missing[n]\n",
      "/home/jk871/drought-with-gedi/drought/lib/python3.10/site-packages/fastai/tabular/core.py:314: PerformanceWarning: DataFrame is highly fragmented.  This is usually the result of calling `frame.insert` many times, which has poor performance.  Consider joining all columns at once using pd.concat(axis=1) instead. To get a de-fragmented frame, use `newframe = frame.copy()`\n",
      "  to.loc[:,n+'_na'] = missing[n]\n",
      "/home/jk871/drought-with-gedi/drought/lib/python3.10/site-packages/fastai/tabular/core.py:314: PerformanceWarning: DataFrame is highly fragmented.  This is usually the result of calling `frame.insert` many times, which has poor performance.  Consider joining all columns at once using pd.concat(axis=1) instead. To get a de-fragmented frame, use `newframe = frame.copy()`\n",
      "  to.loc[:,n+'_na'] = missing[n]\n",
      "/home/jk871/drought-with-gedi/drought/lib/python3.10/site-packages/fastai/tabular/core.py:314: PerformanceWarning: DataFrame is highly fragmented.  This is usually the result of calling `frame.insert` many times, which has poor performance.  Consider joining all columns at once using pd.concat(axis=1) instead. To get a de-fragmented frame, use `newframe = frame.copy()`\n",
      "  to.loc[:,n+'_na'] = missing[n]\n",
      "/home/jk871/drought-with-gedi/drought/lib/python3.10/site-packages/fastai/tabular/core.py:314: PerformanceWarning: DataFrame is highly fragmented.  This is usually the result of calling `frame.insert` many times, which has poor performance.  Consider joining all columns at once using pd.concat(axis=1) instead. To get a de-fragmented frame, use `newframe = frame.copy()`\n",
      "  to.loc[:,n+'_na'] = missing[n]\n",
      "/home/jk871/drought-with-gedi/drought/lib/python3.10/site-packages/fastai/tabular/core.py:314: PerformanceWarning: DataFrame is highly fragmented.  This is usually the result of calling `frame.insert` many times, which has poor performance.  Consider joining all columns at once using pd.concat(axis=1) instead. To get a de-fragmented frame, use `newframe = frame.copy()`\n",
      "  to.loc[:,n+'_na'] = missing[n]\n",
      "/home/jk871/drought-with-gedi/drought/lib/python3.10/site-packages/fastai/tabular/core.py:314: PerformanceWarning: DataFrame is highly fragmented.  This is usually the result of calling `frame.insert` many times, which has poor performance.  Consider joining all columns at once using pd.concat(axis=1) instead. To get a de-fragmented frame, use `newframe = frame.copy()`\n",
      "  to.loc[:,n+'_na'] = missing[n]\n",
      "/home/jk871/drought-with-gedi/drought/lib/python3.10/site-packages/fastai/tabular/core.py:314: PerformanceWarning: DataFrame is highly fragmented.  This is usually the result of calling `frame.insert` many times, which has poor performance.  Consider joining all columns at once using pd.concat(axis=1) instead. To get a de-fragmented frame, use `newframe = frame.copy()`\n",
      "  to.loc[:,n+'_na'] = missing[n]\n",
      "/home/jk871/drought-with-gedi/drought/lib/python3.10/site-packages/fastai/tabular/core.py:314: PerformanceWarning: DataFrame is highly fragmented.  This is usually the result of calling `frame.insert` many times, which has poor performance.  Consider joining all columns at once using pd.concat(axis=1) instead. To get a de-fragmented frame, use `newframe = frame.copy()`\n",
      "  to.loc[:,n+'_na'] = missing[n]\n",
      "/home/jk871/drought-with-gedi/drought/lib/python3.10/site-packages/fastai/tabular/core.py:314: PerformanceWarning: DataFrame is highly fragmented.  This is usually the result of calling `frame.insert` many times, which has poor performance.  Consider joining all columns at once using pd.concat(axis=1) instead. To get a de-fragmented frame, use `newframe = frame.copy()`\n",
      "  to.loc[:,n+'_na'] = missing[n]\n",
      "/home/jk871/drought-with-gedi/drought/lib/python3.10/site-packages/fastai/tabular/core.py:314: PerformanceWarning: DataFrame is highly fragmented.  This is usually the result of calling `frame.insert` many times, which has poor performance.  Consider joining all columns at once using pd.concat(axis=1) instead. To get a de-fragmented frame, use `newframe = frame.copy()`\n",
      "  to.loc[:,n+'_na'] = missing[n]\n",
      "/home/jk871/drought-with-gedi/drought/lib/python3.10/site-packages/fastai/tabular/core.py:314: PerformanceWarning: DataFrame is highly fragmented.  This is usually the result of calling `frame.insert` many times, which has poor performance.  Consider joining all columns at once using pd.concat(axis=1) instead. To get a de-fragmented frame, use `newframe = frame.copy()`\n",
      "  to.loc[:,n+'_na'] = missing[n]\n",
      "/home/jk871/drought-with-gedi/drought/lib/python3.10/site-packages/fastai/tabular/core.py:314: PerformanceWarning: DataFrame is highly fragmented.  This is usually the result of calling `frame.insert` many times, which has poor performance.  Consider joining all columns at once using pd.concat(axis=1) instead. To get a de-fragmented frame, use `newframe = frame.copy()`\n",
      "  to.loc[:,n+'_na'] = missing[n]\n",
      "/home/jk871/drought-with-gedi/drought/lib/python3.10/site-packages/fastai/tabular/core.py:314: PerformanceWarning: DataFrame is highly fragmented.  This is usually the result of calling `frame.insert` many times, which has poor performance.  Consider joining all columns at once using pd.concat(axis=1) instead. To get a de-fragmented frame, use `newframe = frame.copy()`\n",
      "  to.loc[:,n+'_na'] = missing[n]\n",
      "/home/jk871/drought-with-gedi/drought/lib/python3.10/site-packages/fastai/tabular/core.py:314: PerformanceWarning: DataFrame is highly fragmented.  This is usually the result of calling `frame.insert` many times, which has poor performance.  Consider joining all columns at once using pd.concat(axis=1) instead. To get a de-fragmented frame, use `newframe = frame.copy()`\n",
      "  to.loc[:,n+'_na'] = missing[n]\n",
      "/home/jk871/drought-with-gedi/drought/lib/python3.10/site-packages/fastai/tabular/core.py:314: PerformanceWarning: DataFrame is highly fragmented.  This is usually the result of calling `frame.insert` many times, which has poor performance.  Consider joining all columns at once using pd.concat(axis=1) instead. To get a de-fragmented frame, use `newframe = frame.copy()`\n",
      "  to.loc[:,n+'_na'] = missing[n]\n",
      "/home/jk871/drought-with-gedi/drought/lib/python3.10/site-packages/fastai/tabular/core.py:314: PerformanceWarning: DataFrame is highly fragmented.  This is usually the result of calling `frame.insert` many times, which has poor performance.  Consider joining all columns at once using pd.concat(axis=1) instead. To get a de-fragmented frame, use `newframe = frame.copy()`\n",
      "  to.loc[:,n+'_na'] = missing[n]\n",
      "/home/jk871/drought-with-gedi/drought/lib/python3.10/site-packages/fastai/tabular/core.py:314: PerformanceWarning: DataFrame is highly fragmented.  This is usually the result of calling `frame.insert` many times, which has poor performance.  Consider joining all columns at once using pd.concat(axis=1) instead. To get a de-fragmented frame, use `newframe = frame.copy()`\n",
      "  to.loc[:,n+'_na'] = missing[n]\n",
      "/home/jk871/drought-with-gedi/drought/lib/python3.10/site-packages/fastai/tabular/core.py:314: PerformanceWarning: DataFrame is highly fragmented.  This is usually the result of calling `frame.insert` many times, which has poor performance.  Consider joining all columns at once using pd.concat(axis=1) instead. To get a de-fragmented frame, use `newframe = frame.copy()`\n",
      "  to.loc[:,n+'_na'] = missing[n]\n",
      "/home/jk871/drought-with-gedi/drought/lib/python3.10/site-packages/fastai/tabular/core.py:314: PerformanceWarning: DataFrame is highly fragmented.  This is usually the result of calling `frame.insert` many times, which has poor performance.  Consider joining all columns at once using pd.concat(axis=1) instead. To get a de-fragmented frame, use `newframe = frame.copy()`\n",
      "  to.loc[:,n+'_na'] = missing[n]\n",
      "/home/jk871/drought-with-gedi/drought/lib/python3.10/site-packages/fastai/tabular/core.py:314: PerformanceWarning: DataFrame is highly fragmented.  This is usually the result of calling `frame.insert` many times, which has poor performance.  Consider joining all columns at once using pd.concat(axis=1) instead. To get a de-fragmented frame, use `newframe = frame.copy()`\n",
      "  to.loc[:,n+'_na'] = missing[n]\n",
      "/home/jk871/drought-with-gedi/drought/lib/python3.10/site-packages/fastai/tabular/core.py:314: PerformanceWarning: DataFrame is highly fragmented.  This is usually the result of calling `frame.insert` many times, which has poor performance.  Consider joining all columns at once using pd.concat(axis=1) instead. To get a de-fragmented frame, use `newframe = frame.copy()`\n",
      "  to.loc[:,n+'_na'] = missing[n]\n",
      "/home/jk871/drought-with-gedi/drought/lib/python3.10/site-packages/fastai/tabular/core.py:314: PerformanceWarning: DataFrame is highly fragmented.  This is usually the result of calling `frame.insert` many times, which has poor performance.  Consider joining all columns at once using pd.concat(axis=1) instead. To get a de-fragmented frame, use `newframe = frame.copy()`\n",
      "  to.loc[:,n+'_na'] = missing[n]\n",
      "/home/jk871/drought-with-gedi/drought/lib/python3.10/site-packages/fastai/tabular/core.py:314: PerformanceWarning: DataFrame is highly fragmented.  This is usually the result of calling `frame.insert` many times, which has poor performance.  Consider joining all columns at once using pd.concat(axis=1) instead. To get a de-fragmented frame, use `newframe = frame.copy()`\n",
      "  to.loc[:,n+'_na'] = missing[n]\n",
      "/home/jk871/drought-with-gedi/drought/lib/python3.10/site-packages/fastai/tabular/core.py:314: PerformanceWarning: DataFrame is highly fragmented.  This is usually the result of calling `frame.insert` many times, which has poor performance.  Consider joining all columns at once using pd.concat(axis=1) instead. To get a de-fragmented frame, use `newframe = frame.copy()`\n",
      "  to.loc[:,n+'_na'] = missing[n]\n",
      "/home/jk871/drought-with-gedi/drought/lib/python3.10/site-packages/fastai/tabular/core.py:314: PerformanceWarning: DataFrame is highly fragmented.  This is usually the result of calling `frame.insert` many times, which has poor performance.  Consider joining all columns at once using pd.concat(axis=1) instead. To get a de-fragmented frame, use `newframe = frame.copy()`\n",
      "  to.loc[:,n+'_na'] = missing[n]\n",
      "/home/jk871/drought-with-gedi/drought/lib/python3.10/site-packages/fastai/tabular/core.py:314: PerformanceWarning: DataFrame is highly fragmented.  This is usually the result of calling `frame.insert` many times, which has poor performance.  Consider joining all columns at once using pd.concat(axis=1) instead. To get a de-fragmented frame, use `newframe = frame.copy()`\n",
      "  to.loc[:,n+'_na'] = missing[n]\n",
      "/home/jk871/drought-with-gedi/drought/lib/python3.10/site-packages/fastai/tabular/core.py:314: PerformanceWarning: DataFrame is highly fragmented.  This is usually the result of calling `frame.insert` many times, which has poor performance.  Consider joining all columns at once using pd.concat(axis=1) instead. To get a de-fragmented frame, use `newframe = frame.copy()`\n",
      "  to.loc[:,n+'_na'] = missing[n]\n",
      "/home/jk871/drought-with-gedi/drought/lib/python3.10/site-packages/fastai/tabular/core.py:314: PerformanceWarning: DataFrame is highly fragmented.  This is usually the result of calling `frame.insert` many times, which has poor performance.  Consider joining all columns at once using pd.concat(axis=1) instead. To get a de-fragmented frame, use `newframe = frame.copy()`\n",
      "  to.loc[:,n+'_na'] = missing[n]\n",
      "/home/jk871/drought-with-gedi/drought/lib/python3.10/site-packages/fastai/tabular/core.py:314: PerformanceWarning: DataFrame is highly fragmented.  This is usually the result of calling `frame.insert` many times, which has poor performance.  Consider joining all columns at once using pd.concat(axis=1) instead. To get a de-fragmented frame, use `newframe = frame.copy()`\n",
      "  to.loc[:,n+'_na'] = missing[n]\n",
      "/home/jk871/drought-with-gedi/drought/lib/python3.10/site-packages/fastai/tabular/core.py:314: PerformanceWarning: DataFrame is highly fragmented.  This is usually the result of calling `frame.insert` many times, which has poor performance.  Consider joining all columns at once using pd.concat(axis=1) instead. To get a de-fragmented frame, use `newframe = frame.copy()`\n",
      "  to.loc[:,n+'_na'] = missing[n]\n",
      "/home/jk871/drought-with-gedi/drought/lib/python3.10/site-packages/fastai/tabular/core.py:314: PerformanceWarning: DataFrame is highly fragmented.  This is usually the result of calling `frame.insert` many times, which has poor performance.  Consider joining all columns at once using pd.concat(axis=1) instead. To get a de-fragmented frame, use `newframe = frame.copy()`\n",
      "  to.loc[:,n+'_na'] = missing[n]\n",
      "/home/jk871/drought-with-gedi/drought/lib/python3.10/site-packages/fastai/tabular/core.py:314: PerformanceWarning: DataFrame is highly fragmented.  This is usually the result of calling `frame.insert` many times, which has poor performance.  Consider joining all columns at once using pd.concat(axis=1) instead. To get a de-fragmented frame, use `newframe = frame.copy()`\n",
      "  to.loc[:,n+'_na'] = missing[n]\n",
      "/home/jk871/drought-with-gedi/drought/lib/python3.10/site-packages/fastai/tabular/core.py:314: PerformanceWarning: DataFrame is highly fragmented.  This is usually the result of calling `frame.insert` many times, which has poor performance.  Consider joining all columns at once using pd.concat(axis=1) instead. To get a de-fragmented frame, use `newframe = frame.copy()`\n",
      "  to.loc[:,n+'_na'] = missing[n]\n",
      "/home/jk871/drought-with-gedi/drought/lib/python3.10/site-packages/fastai/tabular/core.py:314: PerformanceWarning: DataFrame is highly fragmented.  This is usually the result of calling `frame.insert` many times, which has poor performance.  Consider joining all columns at once using pd.concat(axis=1) instead. To get a de-fragmented frame, use `newframe = frame.copy()`\n",
      "  to.loc[:,n+'_na'] = missing[n]\n",
      "/home/jk871/drought-with-gedi/drought/lib/python3.10/site-packages/fastai/tabular/core.py:314: PerformanceWarning: DataFrame is highly fragmented.  This is usually the result of calling `frame.insert` many times, which has poor performance.  Consider joining all columns at once using pd.concat(axis=1) instead. To get a de-fragmented frame, use `newframe = frame.copy()`\n",
      "  to.loc[:,n+'_na'] = missing[n]\n",
      "/home/jk871/drought-with-gedi/drought/lib/python3.10/site-packages/fastai/tabular/core.py:314: PerformanceWarning: DataFrame is highly fragmented.  This is usually the result of calling `frame.insert` many times, which has poor performance.  Consider joining all columns at once using pd.concat(axis=1) instead. To get a de-fragmented frame, use `newframe = frame.copy()`\n",
      "  to.loc[:,n+'_na'] = missing[n]\n",
      "/home/jk871/drought-with-gedi/drought/lib/python3.10/site-packages/fastai/tabular/core.py:314: PerformanceWarning: DataFrame is highly fragmented.  This is usually the result of calling `frame.insert` many times, which has poor performance.  Consider joining all columns at once using pd.concat(axis=1) instead. To get a de-fragmented frame, use `newframe = frame.copy()`\n",
      "  to.loc[:,n+'_na'] = missing[n]\n",
      "/home/jk871/drought-with-gedi/drought/lib/python3.10/site-packages/fastai/tabular/core.py:314: PerformanceWarning: DataFrame is highly fragmented.  This is usually the result of calling `frame.insert` many times, which has poor performance.  Consider joining all columns at once using pd.concat(axis=1) instead. To get a de-fragmented frame, use `newframe = frame.copy()`\n",
      "  to.loc[:,n+'_na'] = missing[n]\n",
      "/home/jk871/drought-with-gedi/drought/lib/python3.10/site-packages/fastai/tabular/core.py:314: PerformanceWarning: DataFrame is highly fragmented.  This is usually the result of calling `frame.insert` many times, which has poor performance.  Consider joining all columns at once using pd.concat(axis=1) instead. To get a de-fragmented frame, use `newframe = frame.copy()`\n",
      "  to.loc[:,n+'_na'] = missing[n]\n",
      "/home/jk871/drought-with-gedi/drought/lib/python3.10/site-packages/fastai/tabular/core.py:314: PerformanceWarning: DataFrame is highly fragmented.  This is usually the result of calling `frame.insert` many times, which has poor performance.  Consider joining all columns at once using pd.concat(axis=1) instead. To get a de-fragmented frame, use `newframe = frame.copy()`\n",
      "  to.loc[:,n+'_na'] = missing[n]\n",
      "/home/jk871/drought-with-gedi/drought/lib/python3.10/site-packages/fastai/tabular/core.py:314: PerformanceWarning: DataFrame is highly fragmented.  This is usually the result of calling `frame.insert` many times, which has poor performance.  Consider joining all columns at once using pd.concat(axis=1) instead. To get a de-fragmented frame, use `newframe = frame.copy()`\n",
      "  to.loc[:,n+'_na'] = missing[n]\n",
      "/home/jk871/drought-with-gedi/drought/lib/python3.10/site-packages/fastai/tabular/core.py:314: PerformanceWarning: DataFrame is highly fragmented.  This is usually the result of calling `frame.insert` many times, which has poor performance.  Consider joining all columns at once using pd.concat(axis=1) instead. To get a de-fragmented frame, use `newframe = frame.copy()`\n",
      "  to.loc[:,n+'_na'] = missing[n]\n",
      "/home/jk871/drought-with-gedi/drought/lib/python3.10/site-packages/fastai/tabular/core.py:314: PerformanceWarning: DataFrame is highly fragmented.  This is usually the result of calling `frame.insert` many times, which has poor performance.  Consider joining all columns at once using pd.concat(axis=1) instead. To get a de-fragmented frame, use `newframe = frame.copy()`\n",
      "  to.loc[:,n+'_na'] = missing[n]\n",
      "/home/jk871/drought-with-gedi/drought/lib/python3.10/site-packages/fastai/tabular/core.py:314: PerformanceWarning: DataFrame is highly fragmented.  This is usually the result of calling `frame.insert` many times, which has poor performance.  Consider joining all columns at once using pd.concat(axis=1) instead. To get a de-fragmented frame, use `newframe = frame.copy()`\n",
      "  to.loc[:,n+'_na'] = missing[n]\n",
      "/home/jk871/drought-with-gedi/drought/lib/python3.10/site-packages/fastai/tabular/core.py:314: PerformanceWarning: DataFrame is highly fragmented.  This is usually the result of calling `frame.insert` many times, which has poor performance.  Consider joining all columns at once using pd.concat(axis=1) instead. To get a de-fragmented frame, use `newframe = frame.copy()`\n",
      "  to.loc[:,n+'_na'] = missing[n]\n",
      "/home/jk871/drought-with-gedi/drought/lib/python3.10/site-packages/fastai/tabular/core.py:314: PerformanceWarning: DataFrame is highly fragmented.  This is usually the result of calling `frame.insert` many times, which has poor performance.  Consider joining all columns at once using pd.concat(axis=1) instead. To get a de-fragmented frame, use `newframe = frame.copy()`\n",
      "  to.loc[:,n+'_na'] = missing[n]\n",
      "/home/jk871/drought-with-gedi/drought/lib/python3.10/site-packages/fastai/tabular/core.py:314: PerformanceWarning: DataFrame is highly fragmented.  This is usually the result of calling `frame.insert` many times, which has poor performance.  Consider joining all columns at once using pd.concat(axis=1) instead. To get a de-fragmented frame, use `newframe = frame.copy()`\n",
      "  to.loc[:,n+'_na'] = missing[n]\n",
      "/home/jk871/drought-with-gedi/drought/lib/python3.10/site-packages/fastai/tabular/core.py:314: PerformanceWarning: DataFrame is highly fragmented.  This is usually the result of calling `frame.insert` many times, which has poor performance.  Consider joining all columns at once using pd.concat(axis=1) instead. To get a de-fragmented frame, use `newframe = frame.copy()`\n",
      "  to.loc[:,n+'_na'] = missing[n]\n",
      "/home/jk871/drought-with-gedi/drought/lib/python3.10/site-packages/fastai/tabular/core.py:314: PerformanceWarning: DataFrame is highly fragmented.  This is usually the result of calling `frame.insert` many times, which has poor performance.  Consider joining all columns at once using pd.concat(axis=1) instead. To get a de-fragmented frame, use `newframe = frame.copy()`\n",
      "  to.loc[:,n+'_na'] = missing[n]\n",
      "/home/jk871/drought-with-gedi/drought/lib/python3.10/site-packages/fastai/tabular/core.py:314: PerformanceWarning: DataFrame is highly fragmented.  This is usually the result of calling `frame.insert` many times, which has poor performance.  Consider joining all columns at once using pd.concat(axis=1) instead. To get a de-fragmented frame, use `newframe = frame.copy()`\n",
      "  to.loc[:,n+'_na'] = missing[n]\n",
      "/home/jk871/drought-with-gedi/drought/lib/python3.10/site-packages/fastai/tabular/core.py:314: PerformanceWarning: DataFrame is highly fragmented.  This is usually the result of calling `frame.insert` many times, which has poor performance.  Consider joining all columns at once using pd.concat(axis=1) instead. To get a de-fragmented frame, use `newframe = frame.copy()`\n",
      "  to.loc[:,n+'_na'] = missing[n]\n",
      "/home/jk871/drought-with-gedi/drought/lib/python3.10/site-packages/fastai/tabular/core.py:314: PerformanceWarning: DataFrame is highly fragmented.  This is usually the result of calling `frame.insert` many times, which has poor performance.  Consider joining all columns at once using pd.concat(axis=1) instead. To get a de-fragmented frame, use `newframe = frame.copy()`\n",
      "  to.loc[:,n+'_na'] = missing[n]\n",
      "/home/jk871/drought-with-gedi/drought/lib/python3.10/site-packages/fastai/tabular/core.py:314: PerformanceWarning: DataFrame is highly fragmented.  This is usually the result of calling `frame.insert` many times, which has poor performance.  Consider joining all columns at once using pd.concat(axis=1) instead. To get a de-fragmented frame, use `newframe = frame.copy()`\n",
      "  to.loc[:,n+'_na'] = missing[n]\n",
      "/home/jk871/drought-with-gedi/drought/lib/python3.10/site-packages/fastai/tabular/core.py:314: PerformanceWarning: DataFrame is highly fragmented.  This is usually the result of calling `frame.insert` many times, which has poor performance.  Consider joining all columns at once using pd.concat(axis=1) instead. To get a de-fragmented frame, use `newframe = frame.copy()`\n",
      "  to.loc[:,n+'_na'] = missing[n]\n",
      "/home/jk871/drought-with-gedi/drought/lib/python3.10/site-packages/fastai/tabular/core.py:314: PerformanceWarning: DataFrame is highly fragmented.  This is usually the result of calling `frame.insert` many times, which has poor performance.  Consider joining all columns at once using pd.concat(axis=1) instead. To get a de-fragmented frame, use `newframe = frame.copy()`\n",
      "  to.loc[:,n+'_na'] = missing[n]\n",
      "/home/jk871/drought-with-gedi/drought/lib/python3.10/site-packages/fastai/tabular/core.py:314: PerformanceWarning: DataFrame is highly fragmented.  This is usually the result of calling `frame.insert` many times, which has poor performance.  Consider joining all columns at once using pd.concat(axis=1) instead. To get a de-fragmented frame, use `newframe = frame.copy()`\n",
      "  to.loc[:,n+'_na'] = missing[n]\n",
      "/home/jk871/drought-with-gedi/drought/lib/python3.10/site-packages/fastai/tabular/core.py:314: PerformanceWarning: DataFrame is highly fragmented.  This is usually the result of calling `frame.insert` many times, which has poor performance.  Consider joining all columns at once using pd.concat(axis=1) instead. To get a de-fragmented frame, use `newframe = frame.copy()`\n",
      "  to.loc[:,n+'_na'] = missing[n]\n",
      "/home/jk871/drought-with-gedi/drought/lib/python3.10/site-packages/fastai/tabular/core.py:314: PerformanceWarning: DataFrame is highly fragmented.  This is usually the result of calling `frame.insert` many times, which has poor performance.  Consider joining all columns at once using pd.concat(axis=1) instead. To get a de-fragmented frame, use `newframe = frame.copy()`\n",
      "  to.loc[:,n+'_na'] = missing[n]\n",
      "/home/jk871/drought-with-gedi/drought/lib/python3.10/site-packages/fastai/tabular/core.py:314: PerformanceWarning: DataFrame is highly fragmented.  This is usually the result of calling `frame.insert` many times, which has poor performance.  Consider joining all columns at once using pd.concat(axis=1) instead. To get a de-fragmented frame, use `newframe = frame.copy()`\n",
      "  to.loc[:,n+'_na'] = missing[n]\n",
      "/home/jk871/drought-with-gedi/drought/lib/python3.10/site-packages/fastai/tabular/core.py:314: PerformanceWarning: DataFrame is highly fragmented.  This is usually the result of calling `frame.insert` many times, which has poor performance.  Consider joining all columns at once using pd.concat(axis=1) instead. To get a de-fragmented frame, use `newframe = frame.copy()`\n",
      "  to.loc[:,n+'_na'] = missing[n]\n",
      "/home/jk871/drought-with-gedi/drought/lib/python3.10/site-packages/fastai/tabular/core.py:314: PerformanceWarning: DataFrame is highly fragmented.  This is usually the result of calling `frame.insert` many times, which has poor performance.  Consider joining all columns at once using pd.concat(axis=1) instead. To get a de-fragmented frame, use `newframe = frame.copy()`\n",
      "  to.loc[:,n+'_na'] = missing[n]\n",
      "/home/jk871/drought-with-gedi/drought/lib/python3.10/site-packages/fastai/tabular/core.py:314: PerformanceWarning: DataFrame is highly fragmented.  This is usually the result of calling `frame.insert` many times, which has poor performance.  Consider joining all columns at once using pd.concat(axis=1) instead. To get a de-fragmented frame, use `newframe = frame.copy()`\n",
      "  to.loc[:,n+'_na'] = missing[n]\n",
      "/home/jk871/drought-with-gedi/drought/lib/python3.10/site-packages/fastai/tabular/core.py:314: PerformanceWarning: DataFrame is highly fragmented.  This is usually the result of calling `frame.insert` many times, which has poor performance.  Consider joining all columns at once using pd.concat(axis=1) instead. To get a de-fragmented frame, use `newframe = frame.copy()`\n",
      "  to.loc[:,n+'_na'] = missing[n]\n",
      "/home/jk871/drought-with-gedi/drought/lib/python3.10/site-packages/fastai/tabular/core.py:314: PerformanceWarning: DataFrame is highly fragmented.  This is usually the result of calling `frame.insert` many times, which has poor performance.  Consider joining all columns at once using pd.concat(axis=1) instead. To get a de-fragmented frame, use `newframe = frame.copy()`\n",
      "  to.loc[:,n+'_na'] = missing[n]\n",
      "/home/jk871/drought-with-gedi/drought/lib/python3.10/site-packages/fastai/tabular/core.py:314: PerformanceWarning: DataFrame is highly fragmented.  This is usually the result of calling `frame.insert` many times, which has poor performance.  Consider joining all columns at once using pd.concat(axis=1) instead. To get a de-fragmented frame, use `newframe = frame.copy()`\n",
      "  to.loc[:,n+'_na'] = missing[n]\n",
      "/home/jk871/drought-with-gedi/drought/lib/python3.10/site-packages/fastai/tabular/core.py:314: PerformanceWarning: DataFrame is highly fragmented.  This is usually the result of calling `frame.insert` many times, which has poor performance.  Consider joining all columns at once using pd.concat(axis=1) instead. To get a de-fragmented frame, use `newframe = frame.copy()`\n",
      "  to.loc[:,n+'_na'] = missing[n]\n",
      "/home/jk871/drought-with-gedi/drought/lib/python3.10/site-packages/fastai/tabular/core.py:314: PerformanceWarning: DataFrame is highly fragmented.  This is usually the result of calling `frame.insert` many times, which has poor performance.  Consider joining all columns at once using pd.concat(axis=1) instead. To get a de-fragmented frame, use `newframe = frame.copy()`\n",
      "  to.loc[:,n+'_na'] = missing[n]\n",
      "/home/jk871/drought-with-gedi/drought/lib/python3.10/site-packages/fastai/tabular/core.py:314: PerformanceWarning: DataFrame is highly fragmented.  This is usually the result of calling `frame.insert` many times, which has poor performance.  Consider joining all columns at once using pd.concat(axis=1) instead. To get a de-fragmented frame, use `newframe = frame.copy()`\n",
      "  to.loc[:,n+'_na'] = missing[n]\n",
      "/home/jk871/drought-with-gedi/drought/lib/python3.10/site-packages/fastai/tabular/core.py:314: PerformanceWarning: DataFrame is highly fragmented.  This is usually the result of calling `frame.insert` many times, which has poor performance.  Consider joining all columns at once using pd.concat(axis=1) instead. To get a de-fragmented frame, use `newframe = frame.copy()`\n",
      "  to.loc[:,n+'_na'] = missing[n]\n",
      "/home/jk871/drought-with-gedi/drought/lib/python3.10/site-packages/fastai/tabular/core.py:314: PerformanceWarning: DataFrame is highly fragmented.  This is usually the result of calling `frame.insert` many times, which has poor performance.  Consider joining all columns at once using pd.concat(axis=1) instead. To get a de-fragmented frame, use `newframe = frame.copy()`\n",
      "  to.loc[:,n+'_na'] = missing[n]\n",
      "/home/jk871/drought-with-gedi/drought/lib/python3.10/site-packages/fastai/tabular/core.py:314: PerformanceWarning: DataFrame is highly fragmented.  This is usually the result of calling `frame.insert` many times, which has poor performance.  Consider joining all columns at once using pd.concat(axis=1) instead. To get a de-fragmented frame, use `newframe = frame.copy()`\n",
      "  to.loc[:,n+'_na'] = missing[n]\n",
      "/home/jk871/drought-with-gedi/drought/lib/python3.10/site-packages/fastai/tabular/core.py:314: PerformanceWarning: DataFrame is highly fragmented.  This is usually the result of calling `frame.insert` many times, which has poor performance.  Consider joining all columns at once using pd.concat(axis=1) instead. To get a de-fragmented frame, use `newframe = frame.copy()`\n",
      "  to.loc[:,n+'_na'] = missing[n]\n",
      "/home/jk871/drought-with-gedi/drought/lib/python3.10/site-packages/fastai/tabular/core.py:314: PerformanceWarning: DataFrame is highly fragmented.  This is usually the result of calling `frame.insert` many times, which has poor performance.  Consider joining all columns at once using pd.concat(axis=1) instead. To get a de-fragmented frame, use `newframe = frame.copy()`\n",
      "  to.loc[:,n+'_na'] = missing[n]\n",
      "/home/jk871/drought-with-gedi/drought/lib/python3.10/site-packages/fastai/tabular/core.py:314: PerformanceWarning: DataFrame is highly fragmented.  This is usually the result of calling `frame.insert` many times, which has poor performance.  Consider joining all columns at once using pd.concat(axis=1) instead. To get a de-fragmented frame, use `newframe = frame.copy()`\n",
      "  to.loc[:,n+'_na'] = missing[n]\n",
      "/home/jk871/drought-with-gedi/drought/lib/python3.10/site-packages/fastai/tabular/core.py:314: PerformanceWarning: DataFrame is highly fragmented.  This is usually the result of calling `frame.insert` many times, which has poor performance.  Consider joining all columns at once using pd.concat(axis=1) instead. To get a de-fragmented frame, use `newframe = frame.copy()`\n",
      "  to.loc[:,n+'_na'] = missing[n]\n",
      "/home/jk871/drought-with-gedi/drought/lib/python3.10/site-packages/fastai/tabular/core.py:314: PerformanceWarning: DataFrame is highly fragmented.  This is usually the result of calling `frame.insert` many times, which has poor performance.  Consider joining all columns at once using pd.concat(axis=1) instead. To get a de-fragmented frame, use `newframe = frame.copy()`\n",
      "  to.loc[:,n+'_na'] = missing[n]\n",
      "/home/jk871/drought-with-gedi/drought/lib/python3.10/site-packages/fastai/tabular/core.py:314: PerformanceWarning: DataFrame is highly fragmented.  This is usually the result of calling `frame.insert` many times, which has poor performance.  Consider joining all columns at once using pd.concat(axis=1) instead. To get a de-fragmented frame, use `newframe = frame.copy()`\n",
      "  to.loc[:,n+'_na'] = missing[n]\n",
      "/home/jk871/drought-with-gedi/drought/lib/python3.10/site-packages/fastai/tabular/core.py:314: PerformanceWarning: DataFrame is highly fragmented.  This is usually the result of calling `frame.insert` many times, which has poor performance.  Consider joining all columns at once using pd.concat(axis=1) instead. To get a de-fragmented frame, use `newframe = frame.copy()`\n",
      "  to.loc[:,n+'_na'] = missing[n]\n",
      "/home/jk871/drought-with-gedi/drought/lib/python3.10/site-packages/fastai/tabular/core.py:314: PerformanceWarning: DataFrame is highly fragmented.  This is usually the result of calling `frame.insert` many times, which has poor performance.  Consider joining all columns at once using pd.concat(axis=1) instead. To get a de-fragmented frame, use `newframe = frame.copy()`\n",
      "  to.loc[:,n+'_na'] = missing[n]\n"
     ]
    },
    {
     "name": "stdout",
     "output_type": "stream",
     "text": [
      "2024-02-04 06:18:59,938 DEBUG: Start model training. [in train_rf at /home/jk871/fire-regen/src/counterfactuals/rf/train.py:30]\n",
      "2024-02-04 06:23:03,906 DEBUG: Training complete. [in train_rf at /home/jk871/fire-regen/src/counterfactuals/rf/train.py:32]\n",
      "2024-02-04 06:23:06,295 INFO: Training rmse: 6.613862445791358; R^2: 0.6027425883218143 [in train_rf at /home/jk871/fire-regen/src/counterfactuals/rf/train.py:37]\n",
      "2024-02-04 06:23:06,297 INFO: Validation error: 0.4997505610753039 [in train_rf at /home/jk871/fire-regen/src/counterfactuals/rf/train.py:38]\n"
     ]
    }
   ],
   "source": [
    "# no qt 25\n",
    "m, to = train_for_var(\"rh_98\", FEATURES, df=calibration)"
   ]
  },
  {
   "cell_type": "code",
   "execution_count": null,
   "metadata": {},
   "outputs": [],
   "source": [
    "save_pickle(f\"{DATA_PATH}/evaluation/rf/models/model_rh98_advanced_landsat_no_qt_25.pkl\", m)\n",
    "to.export(f\"{DATA_PATH}/evaluation/rf/models/to_rh98_advanced_landsat_no_qt_25.pkl\")"
   ]
  },
  {
   "cell_type": "code",
   "execution_count": null,
   "metadata": {},
   "outputs": [
    {
     "name": "stderr",
     "output_type": "stream",
     "text": [
      "/home/jk871/drought-with-gedi/drought/lib/python3.10/site-packages/fastai/tabular/core.py:314: PerformanceWarning: DataFrame is highly fragmented.  This is usually the result of calling `frame.insert` many times, which has poor performance.  Consider joining all columns at once using pd.concat(axis=1) instead. To get a de-fragmented frame, use `newframe = frame.copy()`\n",
      "  to.loc[:,n+'_na'] = missing[n]\n",
      "/home/jk871/drought-with-gedi/drought/lib/python3.10/site-packages/fastai/tabular/core.py:314: PerformanceWarning: DataFrame is highly fragmented.  This is usually the result of calling `frame.insert` many times, which has poor performance.  Consider joining all columns at once using pd.concat(axis=1) instead. To get a de-fragmented frame, use `newframe = frame.copy()`\n",
      "  to.loc[:,n+'_na'] = missing[n]\n",
      "/home/jk871/drought-with-gedi/drought/lib/python3.10/site-packages/fastai/tabular/core.py:314: PerformanceWarning: DataFrame is highly fragmented.  This is usually the result of calling `frame.insert` many times, which has poor performance.  Consider joining all columns at once using pd.concat(axis=1) instead. To get a de-fragmented frame, use `newframe = frame.copy()`\n",
      "  to.loc[:,n+'_na'] = missing[n]\n",
      "/home/jk871/drought-with-gedi/drought/lib/python3.10/site-packages/fastai/tabular/core.py:314: PerformanceWarning: DataFrame is highly fragmented.  This is usually the result of calling `frame.insert` many times, which has poor performance.  Consider joining all columns at once using pd.concat(axis=1) instead. To get a de-fragmented frame, use `newframe = frame.copy()`\n",
      "  to.loc[:,n+'_na'] = missing[n]\n",
      "/home/jk871/drought-with-gedi/drought/lib/python3.10/site-packages/fastai/tabular/core.py:314: PerformanceWarning: DataFrame is highly fragmented.  This is usually the result of calling `frame.insert` many times, which has poor performance.  Consider joining all columns at once using pd.concat(axis=1) instead. To get a de-fragmented frame, use `newframe = frame.copy()`\n",
      "  to.loc[:,n+'_na'] = missing[n]\n",
      "/home/jk871/drought-with-gedi/drought/lib/python3.10/site-packages/fastai/tabular/core.py:314: PerformanceWarning: DataFrame is highly fragmented.  This is usually the result of calling `frame.insert` many times, which has poor performance.  Consider joining all columns at once using pd.concat(axis=1) instead. To get a de-fragmented frame, use `newframe = frame.copy()`\n",
      "  to.loc[:,n+'_na'] = missing[n]\n",
      "/home/jk871/drought-with-gedi/drought/lib/python3.10/site-packages/fastai/tabular/core.py:314: PerformanceWarning: DataFrame is highly fragmented.  This is usually the result of calling `frame.insert` many times, which has poor performance.  Consider joining all columns at once using pd.concat(axis=1) instead. To get a de-fragmented frame, use `newframe = frame.copy()`\n",
      "  to.loc[:,n+'_na'] = missing[n]\n",
      "/home/jk871/drought-with-gedi/drought/lib/python3.10/site-packages/fastai/tabular/core.py:314: PerformanceWarning: DataFrame is highly fragmented.  This is usually the result of calling `frame.insert` many times, which has poor performance.  Consider joining all columns at once using pd.concat(axis=1) instead. To get a de-fragmented frame, use `newframe = frame.copy()`\n",
      "  to.loc[:,n+'_na'] = missing[n]\n",
      "/home/jk871/drought-with-gedi/drought/lib/python3.10/site-packages/fastai/tabular/core.py:314: PerformanceWarning: DataFrame is highly fragmented.  This is usually the result of calling `frame.insert` many times, which has poor performance.  Consider joining all columns at once using pd.concat(axis=1) instead. To get a de-fragmented frame, use `newframe = frame.copy()`\n",
      "  to.loc[:,n+'_na'] = missing[n]\n",
      "/home/jk871/drought-with-gedi/drought/lib/python3.10/site-packages/fastai/tabular/core.py:314: PerformanceWarning: DataFrame is highly fragmented.  This is usually the result of calling `frame.insert` many times, which has poor performance.  Consider joining all columns at once using pd.concat(axis=1) instead. To get a de-fragmented frame, use `newframe = frame.copy()`\n",
      "  to.loc[:,n+'_na'] = missing[n]\n",
      "/home/jk871/drought-with-gedi/drought/lib/python3.10/site-packages/fastai/tabular/core.py:314: PerformanceWarning: DataFrame is highly fragmented.  This is usually the result of calling `frame.insert` many times, which has poor performance.  Consider joining all columns at once using pd.concat(axis=1) instead. To get a de-fragmented frame, use `newframe = frame.copy()`\n",
      "  to.loc[:,n+'_na'] = missing[n]\n",
      "/home/jk871/drought-with-gedi/drought/lib/python3.10/site-packages/fastai/tabular/core.py:314: PerformanceWarning: DataFrame is highly fragmented.  This is usually the result of calling `frame.insert` many times, which has poor performance.  Consider joining all columns at once using pd.concat(axis=1) instead. To get a de-fragmented frame, use `newframe = frame.copy()`\n",
      "  to.loc[:,n+'_na'] = missing[n]\n",
      "/home/jk871/drought-with-gedi/drought/lib/python3.10/site-packages/fastai/tabular/core.py:314: PerformanceWarning: DataFrame is highly fragmented.  This is usually the result of calling `frame.insert` many times, which has poor performance.  Consider joining all columns at once using pd.concat(axis=1) instead. To get a de-fragmented frame, use `newframe = frame.copy()`\n",
      "  to.loc[:,n+'_na'] = missing[n]\n",
      "/home/jk871/drought-with-gedi/drought/lib/python3.10/site-packages/fastai/tabular/core.py:314: PerformanceWarning: DataFrame is highly fragmented.  This is usually the result of calling `frame.insert` many times, which has poor performance.  Consider joining all columns at once using pd.concat(axis=1) instead. To get a de-fragmented frame, use `newframe = frame.copy()`\n",
      "  to.loc[:,n+'_na'] = missing[n]\n",
      "/home/jk871/drought-with-gedi/drought/lib/python3.10/site-packages/fastai/tabular/core.py:314: PerformanceWarning: DataFrame is highly fragmented.  This is usually the result of calling `frame.insert` many times, which has poor performance.  Consider joining all columns at once using pd.concat(axis=1) instead. To get a de-fragmented frame, use `newframe = frame.copy()`\n",
      "  to.loc[:,n+'_na'] = missing[n]\n",
      "/home/jk871/drought-with-gedi/drought/lib/python3.10/site-packages/fastai/tabular/core.py:314: PerformanceWarning: DataFrame is highly fragmented.  This is usually the result of calling `frame.insert` many times, which has poor performance.  Consider joining all columns at once using pd.concat(axis=1) instead. To get a de-fragmented frame, use `newframe = frame.copy()`\n",
      "  to.loc[:,n+'_na'] = missing[n]\n",
      "/home/jk871/drought-with-gedi/drought/lib/python3.10/site-packages/fastai/tabular/core.py:314: PerformanceWarning: DataFrame is highly fragmented.  This is usually the result of calling `frame.insert` many times, which has poor performance.  Consider joining all columns at once using pd.concat(axis=1) instead. To get a de-fragmented frame, use `newframe = frame.copy()`\n",
      "  to.loc[:,n+'_na'] = missing[n]\n",
      "/home/jk871/drought-with-gedi/drought/lib/python3.10/site-packages/fastai/tabular/core.py:314: PerformanceWarning: DataFrame is highly fragmented.  This is usually the result of calling `frame.insert` many times, which has poor performance.  Consider joining all columns at once using pd.concat(axis=1) instead. To get a de-fragmented frame, use `newframe = frame.copy()`\n",
      "  to.loc[:,n+'_na'] = missing[n]\n",
      "/home/jk871/drought-with-gedi/drought/lib/python3.10/site-packages/fastai/tabular/core.py:314: PerformanceWarning: DataFrame is highly fragmented.  This is usually the result of calling `frame.insert` many times, which has poor performance.  Consider joining all columns at once using pd.concat(axis=1) instead. To get a de-fragmented frame, use `newframe = frame.copy()`\n",
      "  to.loc[:,n+'_na'] = missing[n]\n",
      "/home/jk871/drought-with-gedi/drought/lib/python3.10/site-packages/fastai/tabular/core.py:314: PerformanceWarning: DataFrame is highly fragmented.  This is usually the result of calling `frame.insert` many times, which has poor performance.  Consider joining all columns at once using pd.concat(axis=1) instead. To get a de-fragmented frame, use `newframe = frame.copy()`\n",
      "  to.loc[:,n+'_na'] = missing[n]\n",
      "/home/jk871/drought-with-gedi/drought/lib/python3.10/site-packages/fastai/tabular/core.py:314: PerformanceWarning: DataFrame is highly fragmented.  This is usually the result of calling `frame.insert` many times, which has poor performance.  Consider joining all columns at once using pd.concat(axis=1) instead. To get a de-fragmented frame, use `newframe = frame.copy()`\n",
      "  to.loc[:,n+'_na'] = missing[n]\n",
      "/home/jk871/drought-with-gedi/drought/lib/python3.10/site-packages/fastai/tabular/core.py:314: PerformanceWarning: DataFrame is highly fragmented.  This is usually the result of calling `frame.insert` many times, which has poor performance.  Consider joining all columns at once using pd.concat(axis=1) instead. To get a de-fragmented frame, use `newframe = frame.copy()`\n",
      "  to.loc[:,n+'_na'] = missing[n]\n",
      "/home/jk871/drought-with-gedi/drought/lib/python3.10/site-packages/fastai/tabular/core.py:314: PerformanceWarning: DataFrame is highly fragmented.  This is usually the result of calling `frame.insert` many times, which has poor performance.  Consider joining all columns at once using pd.concat(axis=1) instead. To get a de-fragmented frame, use `newframe = frame.copy()`\n",
      "  to.loc[:,n+'_na'] = missing[n]\n",
      "/home/jk871/drought-with-gedi/drought/lib/python3.10/site-packages/fastai/tabular/core.py:314: PerformanceWarning: DataFrame is highly fragmented.  This is usually the result of calling `frame.insert` many times, which has poor performance.  Consider joining all columns at once using pd.concat(axis=1) instead. To get a de-fragmented frame, use `newframe = frame.copy()`\n",
      "  to.loc[:,n+'_na'] = missing[n]\n",
      "/home/jk871/drought-with-gedi/drought/lib/python3.10/site-packages/fastai/tabular/core.py:314: PerformanceWarning: DataFrame is highly fragmented.  This is usually the result of calling `frame.insert` many times, which has poor performance.  Consider joining all columns at once using pd.concat(axis=1) instead. To get a de-fragmented frame, use `newframe = frame.copy()`\n",
      "  to.loc[:,n+'_na'] = missing[n]\n",
      "/home/jk871/drought-with-gedi/drought/lib/python3.10/site-packages/fastai/tabular/core.py:314: PerformanceWarning: DataFrame is highly fragmented.  This is usually the result of calling `frame.insert` many times, which has poor performance.  Consider joining all columns at once using pd.concat(axis=1) instead. To get a de-fragmented frame, use `newframe = frame.copy()`\n",
      "  to.loc[:,n+'_na'] = missing[n]\n",
      "/home/jk871/drought-with-gedi/drought/lib/python3.10/site-packages/fastai/tabular/core.py:314: PerformanceWarning: DataFrame is highly fragmented.  This is usually the result of calling `frame.insert` many times, which has poor performance.  Consider joining all columns at once using pd.concat(axis=1) instead. To get a de-fragmented frame, use `newframe = frame.copy()`\n",
      "  to.loc[:,n+'_na'] = missing[n]\n",
      "/home/jk871/drought-with-gedi/drought/lib/python3.10/site-packages/fastai/tabular/core.py:314: PerformanceWarning: DataFrame is highly fragmented.  This is usually the result of calling `frame.insert` many times, which has poor performance.  Consider joining all columns at once using pd.concat(axis=1) instead. To get a de-fragmented frame, use `newframe = frame.copy()`\n",
      "  to.loc[:,n+'_na'] = missing[n]\n",
      "/home/jk871/drought-with-gedi/drought/lib/python3.10/site-packages/fastai/tabular/core.py:314: PerformanceWarning: DataFrame is highly fragmented.  This is usually the result of calling `frame.insert` many times, which has poor performance.  Consider joining all columns at once using pd.concat(axis=1) instead. To get a de-fragmented frame, use `newframe = frame.copy()`\n",
      "  to.loc[:,n+'_na'] = missing[n]\n",
      "/home/jk871/drought-with-gedi/drought/lib/python3.10/site-packages/fastai/tabular/core.py:314: PerformanceWarning: DataFrame is highly fragmented.  This is usually the result of calling `frame.insert` many times, which has poor performance.  Consider joining all columns at once using pd.concat(axis=1) instead. To get a de-fragmented frame, use `newframe = frame.copy()`\n",
      "  to.loc[:,n+'_na'] = missing[n]\n",
      "/home/jk871/drought-with-gedi/drought/lib/python3.10/site-packages/fastai/tabular/core.py:314: PerformanceWarning: DataFrame is highly fragmented.  This is usually the result of calling `frame.insert` many times, which has poor performance.  Consider joining all columns at once using pd.concat(axis=1) instead. To get a de-fragmented frame, use `newframe = frame.copy()`\n",
      "  to.loc[:,n+'_na'] = missing[n]\n",
      "/home/jk871/drought-with-gedi/drought/lib/python3.10/site-packages/fastai/tabular/core.py:314: PerformanceWarning: DataFrame is highly fragmented.  This is usually the result of calling `frame.insert` many times, which has poor performance.  Consider joining all columns at once using pd.concat(axis=1) instead. To get a de-fragmented frame, use `newframe = frame.copy()`\n",
      "  to.loc[:,n+'_na'] = missing[n]\n",
      "/home/jk871/drought-with-gedi/drought/lib/python3.10/site-packages/fastai/tabular/core.py:314: PerformanceWarning: DataFrame is highly fragmented.  This is usually the result of calling `frame.insert` many times, which has poor performance.  Consider joining all columns at once using pd.concat(axis=1) instead. To get a de-fragmented frame, use `newframe = frame.copy()`\n",
      "  to.loc[:,n+'_na'] = missing[n]\n",
      "/home/jk871/drought-with-gedi/drought/lib/python3.10/site-packages/fastai/tabular/core.py:314: PerformanceWarning: DataFrame is highly fragmented.  This is usually the result of calling `frame.insert` many times, which has poor performance.  Consider joining all columns at once using pd.concat(axis=1) instead. To get a de-fragmented frame, use `newframe = frame.copy()`\n",
      "  to.loc[:,n+'_na'] = missing[n]\n",
      "/home/jk871/drought-with-gedi/drought/lib/python3.10/site-packages/fastai/tabular/core.py:314: PerformanceWarning: DataFrame is highly fragmented.  This is usually the result of calling `frame.insert` many times, which has poor performance.  Consider joining all columns at once using pd.concat(axis=1) instead. To get a de-fragmented frame, use `newframe = frame.copy()`\n",
      "  to.loc[:,n+'_na'] = missing[n]\n",
      "/home/jk871/drought-with-gedi/drought/lib/python3.10/site-packages/fastai/tabular/core.py:314: PerformanceWarning: DataFrame is highly fragmented.  This is usually the result of calling `frame.insert` many times, which has poor performance.  Consider joining all columns at once using pd.concat(axis=1) instead. To get a de-fragmented frame, use `newframe = frame.copy()`\n",
      "  to.loc[:,n+'_na'] = missing[n]\n",
      "/home/jk871/drought-with-gedi/drought/lib/python3.10/site-packages/fastai/tabular/core.py:314: PerformanceWarning: DataFrame is highly fragmented.  This is usually the result of calling `frame.insert` many times, which has poor performance.  Consider joining all columns at once using pd.concat(axis=1) instead. To get a de-fragmented frame, use `newframe = frame.copy()`\n",
      "  to.loc[:,n+'_na'] = missing[n]\n",
      "/home/jk871/drought-with-gedi/drought/lib/python3.10/site-packages/fastai/tabular/core.py:314: PerformanceWarning: DataFrame is highly fragmented.  This is usually the result of calling `frame.insert` many times, which has poor performance.  Consider joining all columns at once using pd.concat(axis=1) instead. To get a de-fragmented frame, use `newframe = frame.copy()`\n",
      "  to.loc[:,n+'_na'] = missing[n]\n",
      "/home/jk871/drought-with-gedi/drought/lib/python3.10/site-packages/fastai/tabular/core.py:314: PerformanceWarning: DataFrame is highly fragmented.  This is usually the result of calling `frame.insert` many times, which has poor performance.  Consider joining all columns at once using pd.concat(axis=1) instead. To get a de-fragmented frame, use `newframe = frame.copy()`\n",
      "  to.loc[:,n+'_na'] = missing[n]\n",
      "/home/jk871/drought-with-gedi/drought/lib/python3.10/site-packages/fastai/tabular/core.py:314: PerformanceWarning: DataFrame is highly fragmented.  This is usually the result of calling `frame.insert` many times, which has poor performance.  Consider joining all columns at once using pd.concat(axis=1) instead. To get a de-fragmented frame, use `newframe = frame.copy()`\n",
      "  to.loc[:,n+'_na'] = missing[n]\n",
      "/home/jk871/drought-with-gedi/drought/lib/python3.10/site-packages/fastai/tabular/core.py:314: PerformanceWarning: DataFrame is highly fragmented.  This is usually the result of calling `frame.insert` many times, which has poor performance.  Consider joining all columns at once using pd.concat(axis=1) instead. To get a de-fragmented frame, use `newframe = frame.copy()`\n",
      "  to.loc[:,n+'_na'] = missing[n]\n",
      "/home/jk871/drought-with-gedi/drought/lib/python3.10/site-packages/fastai/tabular/core.py:314: PerformanceWarning: DataFrame is highly fragmented.  This is usually the result of calling `frame.insert` many times, which has poor performance.  Consider joining all columns at once using pd.concat(axis=1) instead. To get a de-fragmented frame, use `newframe = frame.copy()`\n",
      "  to.loc[:,n+'_na'] = missing[n]\n",
      "/home/jk871/drought-with-gedi/drought/lib/python3.10/site-packages/fastai/tabular/core.py:314: PerformanceWarning: DataFrame is highly fragmented.  This is usually the result of calling `frame.insert` many times, which has poor performance.  Consider joining all columns at once using pd.concat(axis=1) instead. To get a de-fragmented frame, use `newframe = frame.copy()`\n",
      "  to.loc[:,n+'_na'] = missing[n]\n",
      "/home/jk871/drought-with-gedi/drought/lib/python3.10/site-packages/fastai/tabular/core.py:314: PerformanceWarning: DataFrame is highly fragmented.  This is usually the result of calling `frame.insert` many times, which has poor performance.  Consider joining all columns at once using pd.concat(axis=1) instead. To get a de-fragmented frame, use `newframe = frame.copy()`\n",
      "  to.loc[:,n+'_na'] = missing[n]\n",
      "/home/jk871/drought-with-gedi/drought/lib/python3.10/site-packages/fastai/tabular/core.py:314: PerformanceWarning: DataFrame is highly fragmented.  This is usually the result of calling `frame.insert` many times, which has poor performance.  Consider joining all columns at once using pd.concat(axis=1) instead. To get a de-fragmented frame, use `newframe = frame.copy()`\n",
      "  to.loc[:,n+'_na'] = missing[n]\n",
      "/home/jk871/drought-with-gedi/drought/lib/python3.10/site-packages/fastai/tabular/core.py:314: PerformanceWarning: DataFrame is highly fragmented.  This is usually the result of calling `frame.insert` many times, which has poor performance.  Consider joining all columns at once using pd.concat(axis=1) instead. To get a de-fragmented frame, use `newframe = frame.copy()`\n",
      "  to.loc[:,n+'_na'] = missing[n]\n",
      "/home/jk871/drought-with-gedi/drought/lib/python3.10/site-packages/fastai/tabular/core.py:314: PerformanceWarning: DataFrame is highly fragmented.  This is usually the result of calling `frame.insert` many times, which has poor performance.  Consider joining all columns at once using pd.concat(axis=1) instead. To get a de-fragmented frame, use `newframe = frame.copy()`\n",
      "  to.loc[:,n+'_na'] = missing[n]\n",
      "/home/jk871/drought-with-gedi/drought/lib/python3.10/site-packages/fastai/tabular/core.py:314: PerformanceWarning: DataFrame is highly fragmented.  This is usually the result of calling `frame.insert` many times, which has poor performance.  Consider joining all columns at once using pd.concat(axis=1) instead. To get a de-fragmented frame, use `newframe = frame.copy()`\n",
      "  to.loc[:,n+'_na'] = missing[n]\n",
      "/home/jk871/drought-with-gedi/drought/lib/python3.10/site-packages/fastai/tabular/core.py:314: PerformanceWarning: DataFrame is highly fragmented.  This is usually the result of calling `frame.insert` many times, which has poor performance.  Consider joining all columns at once using pd.concat(axis=1) instead. To get a de-fragmented frame, use `newframe = frame.copy()`\n",
      "  to.loc[:,n+'_na'] = missing[n]\n",
      "/home/jk871/drought-with-gedi/drought/lib/python3.10/site-packages/fastai/tabular/core.py:314: PerformanceWarning: DataFrame is highly fragmented.  This is usually the result of calling `frame.insert` many times, which has poor performance.  Consider joining all columns at once using pd.concat(axis=1) instead. To get a de-fragmented frame, use `newframe = frame.copy()`\n",
      "  to.loc[:,n+'_na'] = missing[n]\n",
      "/home/jk871/drought-with-gedi/drought/lib/python3.10/site-packages/fastai/tabular/core.py:314: PerformanceWarning: DataFrame is highly fragmented.  This is usually the result of calling `frame.insert` many times, which has poor performance.  Consider joining all columns at once using pd.concat(axis=1) instead. To get a de-fragmented frame, use `newframe = frame.copy()`\n",
      "  to.loc[:,n+'_na'] = missing[n]\n",
      "/home/jk871/drought-with-gedi/drought/lib/python3.10/site-packages/fastai/tabular/core.py:314: PerformanceWarning: DataFrame is highly fragmented.  This is usually the result of calling `frame.insert` many times, which has poor performance.  Consider joining all columns at once using pd.concat(axis=1) instead. To get a de-fragmented frame, use `newframe = frame.copy()`\n",
      "  to.loc[:,n+'_na'] = missing[n]\n",
      "/home/jk871/drought-with-gedi/drought/lib/python3.10/site-packages/fastai/tabular/core.py:314: PerformanceWarning: DataFrame is highly fragmented.  This is usually the result of calling `frame.insert` many times, which has poor performance.  Consider joining all columns at once using pd.concat(axis=1) instead. To get a de-fragmented frame, use `newframe = frame.copy()`\n",
      "  to.loc[:,n+'_na'] = missing[n]\n",
      "/home/jk871/drought-with-gedi/drought/lib/python3.10/site-packages/fastai/tabular/core.py:314: PerformanceWarning: DataFrame is highly fragmented.  This is usually the result of calling `frame.insert` many times, which has poor performance.  Consider joining all columns at once using pd.concat(axis=1) instead. To get a de-fragmented frame, use `newframe = frame.copy()`\n",
      "  to.loc[:,n+'_na'] = missing[n]\n",
      "/home/jk871/drought-with-gedi/drought/lib/python3.10/site-packages/fastai/tabular/core.py:314: PerformanceWarning: DataFrame is highly fragmented.  This is usually the result of calling `frame.insert` many times, which has poor performance.  Consider joining all columns at once using pd.concat(axis=1) instead. To get a de-fragmented frame, use `newframe = frame.copy()`\n",
      "  to.loc[:,n+'_na'] = missing[n]\n",
      "/home/jk871/drought-with-gedi/drought/lib/python3.10/site-packages/fastai/tabular/core.py:314: PerformanceWarning: DataFrame is highly fragmented.  This is usually the result of calling `frame.insert` many times, which has poor performance.  Consider joining all columns at once using pd.concat(axis=1) instead. To get a de-fragmented frame, use `newframe = frame.copy()`\n",
      "  to.loc[:,n+'_na'] = missing[n]\n",
      "/home/jk871/drought-with-gedi/drought/lib/python3.10/site-packages/fastai/tabular/core.py:314: PerformanceWarning: DataFrame is highly fragmented.  This is usually the result of calling `frame.insert` many times, which has poor performance.  Consider joining all columns at once using pd.concat(axis=1) instead. To get a de-fragmented frame, use `newframe = frame.copy()`\n",
      "  to.loc[:,n+'_na'] = missing[n]\n",
      "/home/jk871/drought-with-gedi/drought/lib/python3.10/site-packages/fastai/tabular/core.py:314: PerformanceWarning: DataFrame is highly fragmented.  This is usually the result of calling `frame.insert` many times, which has poor performance.  Consider joining all columns at once using pd.concat(axis=1) instead. To get a de-fragmented frame, use `newframe = frame.copy()`\n",
      "  to.loc[:,n+'_na'] = missing[n]\n",
      "/home/jk871/drought-with-gedi/drought/lib/python3.10/site-packages/fastai/tabular/core.py:314: PerformanceWarning: DataFrame is highly fragmented.  This is usually the result of calling `frame.insert` many times, which has poor performance.  Consider joining all columns at once using pd.concat(axis=1) instead. To get a de-fragmented frame, use `newframe = frame.copy()`\n",
      "  to.loc[:,n+'_na'] = missing[n]\n",
      "/home/jk871/drought-with-gedi/drought/lib/python3.10/site-packages/fastai/tabular/core.py:314: PerformanceWarning: DataFrame is highly fragmented.  This is usually the result of calling `frame.insert` many times, which has poor performance.  Consider joining all columns at once using pd.concat(axis=1) instead. To get a de-fragmented frame, use `newframe = frame.copy()`\n",
      "  to.loc[:,n+'_na'] = missing[n]\n",
      "/home/jk871/drought-with-gedi/drought/lib/python3.10/site-packages/fastai/tabular/core.py:314: PerformanceWarning: DataFrame is highly fragmented.  This is usually the result of calling `frame.insert` many times, which has poor performance.  Consider joining all columns at once using pd.concat(axis=1) instead. To get a de-fragmented frame, use `newframe = frame.copy()`\n",
      "  to.loc[:,n+'_na'] = missing[n]\n",
      "/home/jk871/drought-with-gedi/drought/lib/python3.10/site-packages/fastai/tabular/core.py:314: PerformanceWarning: DataFrame is highly fragmented.  This is usually the result of calling `frame.insert` many times, which has poor performance.  Consider joining all columns at once using pd.concat(axis=1) instead. To get a de-fragmented frame, use `newframe = frame.copy()`\n",
      "  to.loc[:,n+'_na'] = missing[n]\n",
      "/home/jk871/drought-with-gedi/drought/lib/python3.10/site-packages/fastai/tabular/core.py:314: PerformanceWarning: DataFrame is highly fragmented.  This is usually the result of calling `frame.insert` many times, which has poor performance.  Consider joining all columns at once using pd.concat(axis=1) instead. To get a de-fragmented frame, use `newframe = frame.copy()`\n",
      "  to.loc[:,n+'_na'] = missing[n]\n",
      "/home/jk871/drought-with-gedi/drought/lib/python3.10/site-packages/fastai/tabular/core.py:314: PerformanceWarning: DataFrame is highly fragmented.  This is usually the result of calling `frame.insert` many times, which has poor performance.  Consider joining all columns at once using pd.concat(axis=1) instead. To get a de-fragmented frame, use `newframe = frame.copy()`\n",
      "  to.loc[:,n+'_na'] = missing[n]\n",
      "/home/jk871/drought-with-gedi/drought/lib/python3.10/site-packages/fastai/tabular/core.py:314: PerformanceWarning: DataFrame is highly fragmented.  This is usually the result of calling `frame.insert` many times, which has poor performance.  Consider joining all columns at once using pd.concat(axis=1) instead. To get a de-fragmented frame, use `newframe = frame.copy()`\n",
      "  to.loc[:,n+'_na'] = missing[n]\n",
      "/home/jk871/drought-with-gedi/drought/lib/python3.10/site-packages/fastai/tabular/core.py:314: PerformanceWarning: DataFrame is highly fragmented.  This is usually the result of calling `frame.insert` many times, which has poor performance.  Consider joining all columns at once using pd.concat(axis=1) instead. To get a de-fragmented frame, use `newframe = frame.copy()`\n",
      "  to.loc[:,n+'_na'] = missing[n]\n",
      "/home/jk871/drought-with-gedi/drought/lib/python3.10/site-packages/fastai/tabular/core.py:314: PerformanceWarning: DataFrame is highly fragmented.  This is usually the result of calling `frame.insert` many times, which has poor performance.  Consider joining all columns at once using pd.concat(axis=1) instead. To get a de-fragmented frame, use `newframe = frame.copy()`\n",
      "  to.loc[:,n+'_na'] = missing[n]\n",
      "/home/jk871/drought-with-gedi/drought/lib/python3.10/site-packages/fastai/tabular/core.py:314: PerformanceWarning: DataFrame is highly fragmented.  This is usually the result of calling `frame.insert` many times, which has poor performance.  Consider joining all columns at once using pd.concat(axis=1) instead. To get a de-fragmented frame, use `newframe = frame.copy()`\n",
      "  to.loc[:,n+'_na'] = missing[n]\n",
      "/home/jk871/drought-with-gedi/drought/lib/python3.10/site-packages/fastai/tabular/core.py:314: PerformanceWarning: DataFrame is highly fragmented.  This is usually the result of calling `frame.insert` many times, which has poor performance.  Consider joining all columns at once using pd.concat(axis=1) instead. To get a de-fragmented frame, use `newframe = frame.copy()`\n",
      "  to.loc[:,n+'_na'] = missing[n]\n",
      "/home/jk871/drought-with-gedi/drought/lib/python3.10/site-packages/fastai/tabular/core.py:314: PerformanceWarning: DataFrame is highly fragmented.  This is usually the result of calling `frame.insert` many times, which has poor performance.  Consider joining all columns at once using pd.concat(axis=1) instead. To get a de-fragmented frame, use `newframe = frame.copy()`\n",
      "  to.loc[:,n+'_na'] = missing[n]\n",
      "/home/jk871/drought-with-gedi/drought/lib/python3.10/site-packages/fastai/tabular/core.py:314: PerformanceWarning: DataFrame is highly fragmented.  This is usually the result of calling `frame.insert` many times, which has poor performance.  Consider joining all columns at once using pd.concat(axis=1) instead. To get a de-fragmented frame, use `newframe = frame.copy()`\n",
      "  to.loc[:,n+'_na'] = missing[n]\n",
      "/home/jk871/drought-with-gedi/drought/lib/python3.10/site-packages/fastai/tabular/core.py:314: PerformanceWarning: DataFrame is highly fragmented.  This is usually the result of calling `frame.insert` many times, which has poor performance.  Consider joining all columns at once using pd.concat(axis=1) instead. To get a de-fragmented frame, use `newframe = frame.copy()`\n",
      "  to.loc[:,n+'_na'] = missing[n]\n",
      "/home/jk871/drought-with-gedi/drought/lib/python3.10/site-packages/fastai/tabular/core.py:314: PerformanceWarning: DataFrame is highly fragmented.  This is usually the result of calling `frame.insert` many times, which has poor performance.  Consider joining all columns at once using pd.concat(axis=1) instead. To get a de-fragmented frame, use `newframe = frame.copy()`\n",
      "  to.loc[:,n+'_na'] = missing[n]\n",
      "/home/jk871/drought-with-gedi/drought/lib/python3.10/site-packages/fastai/tabular/core.py:314: PerformanceWarning: DataFrame is highly fragmented.  This is usually the result of calling `frame.insert` many times, which has poor performance.  Consider joining all columns at once using pd.concat(axis=1) instead. To get a de-fragmented frame, use `newframe = frame.copy()`\n",
      "  to.loc[:,n+'_na'] = missing[n]\n",
      "/home/jk871/drought-with-gedi/drought/lib/python3.10/site-packages/fastai/tabular/core.py:314: PerformanceWarning: DataFrame is highly fragmented.  This is usually the result of calling `frame.insert` many times, which has poor performance.  Consider joining all columns at once using pd.concat(axis=1) instead. To get a de-fragmented frame, use `newframe = frame.copy()`\n",
      "  to.loc[:,n+'_na'] = missing[n]\n",
      "/home/jk871/drought-with-gedi/drought/lib/python3.10/site-packages/fastai/tabular/core.py:314: PerformanceWarning: DataFrame is highly fragmented.  This is usually the result of calling `frame.insert` many times, which has poor performance.  Consider joining all columns at once using pd.concat(axis=1) instead. To get a de-fragmented frame, use `newframe = frame.copy()`\n",
      "  to.loc[:,n+'_na'] = missing[n]\n",
      "/home/jk871/drought-with-gedi/drought/lib/python3.10/site-packages/fastai/tabular/core.py:314: PerformanceWarning: DataFrame is highly fragmented.  This is usually the result of calling `frame.insert` many times, which has poor performance.  Consider joining all columns at once using pd.concat(axis=1) instead. To get a de-fragmented frame, use `newframe = frame.copy()`\n",
      "  to.loc[:,n+'_na'] = missing[n]\n",
      "/home/jk871/drought-with-gedi/drought/lib/python3.10/site-packages/fastai/tabular/core.py:314: PerformanceWarning: DataFrame is highly fragmented.  This is usually the result of calling `frame.insert` many times, which has poor performance.  Consider joining all columns at once using pd.concat(axis=1) instead. To get a de-fragmented frame, use `newframe = frame.copy()`\n",
      "  to.loc[:,n+'_na'] = missing[n]\n",
      "/home/jk871/drought-with-gedi/drought/lib/python3.10/site-packages/fastai/tabular/core.py:314: PerformanceWarning: DataFrame is highly fragmented.  This is usually the result of calling `frame.insert` many times, which has poor performance.  Consider joining all columns at once using pd.concat(axis=1) instead. To get a de-fragmented frame, use `newframe = frame.copy()`\n",
      "  to.loc[:,n+'_na'] = missing[n]\n",
      "/home/jk871/drought-with-gedi/drought/lib/python3.10/site-packages/fastai/tabular/core.py:314: PerformanceWarning: DataFrame is highly fragmented.  This is usually the result of calling `frame.insert` many times, which has poor performance.  Consider joining all columns at once using pd.concat(axis=1) instead. To get a de-fragmented frame, use `newframe = frame.copy()`\n",
      "  to.loc[:,n+'_na'] = missing[n]\n",
      "/home/jk871/drought-with-gedi/drought/lib/python3.10/site-packages/fastai/tabular/core.py:314: PerformanceWarning: DataFrame is highly fragmented.  This is usually the result of calling `frame.insert` many times, which has poor performance.  Consider joining all columns at once using pd.concat(axis=1) instead. To get a de-fragmented frame, use `newframe = frame.copy()`\n",
      "  to.loc[:,n+'_na'] = missing[n]\n",
      "/home/jk871/drought-with-gedi/drought/lib/python3.10/site-packages/fastai/tabular/core.py:314: PerformanceWarning: DataFrame is highly fragmented.  This is usually the result of calling `frame.insert` many times, which has poor performance.  Consider joining all columns at once using pd.concat(axis=1) instead. To get a de-fragmented frame, use `newframe = frame.copy()`\n",
      "  to.loc[:,n+'_na'] = missing[n]\n",
      "/home/jk871/drought-with-gedi/drought/lib/python3.10/site-packages/fastai/tabular/core.py:314: PerformanceWarning: DataFrame is highly fragmented.  This is usually the result of calling `frame.insert` many times, which has poor performance.  Consider joining all columns at once using pd.concat(axis=1) instead. To get a de-fragmented frame, use `newframe = frame.copy()`\n",
      "  to.loc[:,n+'_na'] = missing[n]\n",
      "/home/jk871/drought-with-gedi/drought/lib/python3.10/site-packages/fastai/tabular/core.py:314: PerformanceWarning: DataFrame is highly fragmented.  This is usually the result of calling `frame.insert` many times, which has poor performance.  Consider joining all columns at once using pd.concat(axis=1) instead. To get a de-fragmented frame, use `newframe = frame.copy()`\n",
      "  to.loc[:,n+'_na'] = missing[n]\n",
      "/home/jk871/drought-with-gedi/drought/lib/python3.10/site-packages/fastai/tabular/core.py:314: PerformanceWarning: DataFrame is highly fragmented.  This is usually the result of calling `frame.insert` many times, which has poor performance.  Consider joining all columns at once using pd.concat(axis=1) instead. To get a de-fragmented frame, use `newframe = frame.copy()`\n",
      "  to.loc[:,n+'_na'] = missing[n]\n",
      "/home/jk871/drought-with-gedi/drought/lib/python3.10/site-packages/fastai/tabular/core.py:314: PerformanceWarning: DataFrame is highly fragmented.  This is usually the result of calling `frame.insert` many times, which has poor performance.  Consider joining all columns at once using pd.concat(axis=1) instead. To get a de-fragmented frame, use `newframe = frame.copy()`\n",
      "  to.loc[:,n+'_na'] = missing[n]\n",
      "/home/jk871/drought-with-gedi/drought/lib/python3.10/site-packages/fastai/tabular/core.py:314: PerformanceWarning: DataFrame is highly fragmented.  This is usually the result of calling `frame.insert` many times, which has poor performance.  Consider joining all columns at once using pd.concat(axis=1) instead. To get a de-fragmented frame, use `newframe = frame.copy()`\n",
      "  to.loc[:,n+'_na'] = missing[n]\n",
      "/home/jk871/drought-with-gedi/drought/lib/python3.10/site-packages/fastai/tabular/core.py:314: PerformanceWarning: DataFrame is highly fragmented.  This is usually the result of calling `frame.insert` many times, which has poor performance.  Consider joining all columns at once using pd.concat(axis=1) instead. To get a de-fragmented frame, use `newframe = frame.copy()`\n",
      "  to.loc[:,n+'_na'] = missing[n]\n",
      "/home/jk871/drought-with-gedi/drought/lib/python3.10/site-packages/fastai/tabular/core.py:314: PerformanceWarning: DataFrame is highly fragmented.  This is usually the result of calling `frame.insert` many times, which has poor performance.  Consider joining all columns at once using pd.concat(axis=1) instead. To get a de-fragmented frame, use `newframe = frame.copy()`\n",
      "  to.loc[:,n+'_na'] = missing[n]\n",
      "/home/jk871/drought-with-gedi/drought/lib/python3.10/site-packages/fastai/tabular/core.py:314: PerformanceWarning: DataFrame is highly fragmented.  This is usually the result of calling `frame.insert` many times, which has poor performance.  Consider joining all columns at once using pd.concat(axis=1) instead. To get a de-fragmented frame, use `newframe = frame.copy()`\n",
      "  to.loc[:,n+'_na'] = missing[n]\n",
      "/home/jk871/drought-with-gedi/drought/lib/python3.10/site-packages/fastai/tabular/core.py:314: PerformanceWarning: DataFrame is highly fragmented.  This is usually the result of calling `frame.insert` many times, which has poor performance.  Consider joining all columns at once using pd.concat(axis=1) instead. To get a de-fragmented frame, use `newframe = frame.copy()`\n",
      "  to.loc[:,n+'_na'] = missing[n]\n",
      "/home/jk871/drought-with-gedi/drought/lib/python3.10/site-packages/fastai/tabular/core.py:314: PerformanceWarning: DataFrame is highly fragmented.  This is usually the result of calling `frame.insert` many times, which has poor performance.  Consider joining all columns at once using pd.concat(axis=1) instead. To get a de-fragmented frame, use `newframe = frame.copy()`\n",
      "  to.loc[:,n+'_na'] = missing[n]\n",
      "/home/jk871/drought-with-gedi/drought/lib/python3.10/site-packages/fastai/tabular/core.py:314: PerformanceWarning: DataFrame is highly fragmented.  This is usually the result of calling `frame.insert` many times, which has poor performance.  Consider joining all columns at once using pd.concat(axis=1) instead. To get a de-fragmented frame, use `newframe = frame.copy()`\n",
      "  to.loc[:,n+'_na'] = missing[n]\n",
      "/home/jk871/drought-with-gedi/drought/lib/python3.10/site-packages/fastai/tabular/core.py:314: PerformanceWarning: DataFrame is highly fragmented.  This is usually the result of calling `frame.insert` many times, which has poor performance.  Consider joining all columns at once using pd.concat(axis=1) instead. To get a de-fragmented frame, use `newframe = frame.copy()`\n",
      "  to.loc[:,n+'_na'] = missing[n]\n",
      "/home/jk871/drought-with-gedi/drought/lib/python3.10/site-packages/fastai/tabular/core.py:314: PerformanceWarning: DataFrame is highly fragmented.  This is usually the result of calling `frame.insert` many times, which has poor performance.  Consider joining all columns at once using pd.concat(axis=1) instead. To get a de-fragmented frame, use `newframe = frame.copy()`\n",
      "  to.loc[:,n+'_na'] = missing[n]\n",
      "/home/jk871/drought-with-gedi/drought/lib/python3.10/site-packages/fastai/tabular/core.py:314: PerformanceWarning: DataFrame is highly fragmented.  This is usually the result of calling `frame.insert` many times, which has poor performance.  Consider joining all columns at once using pd.concat(axis=1) instead. To get a de-fragmented frame, use `newframe = frame.copy()`\n",
      "  to.loc[:,n+'_na'] = missing[n]\n",
      "/home/jk871/drought-with-gedi/drought/lib/python3.10/site-packages/fastai/tabular/core.py:314: PerformanceWarning: DataFrame is highly fragmented.  This is usually the result of calling `frame.insert` many times, which has poor performance.  Consider joining all columns at once using pd.concat(axis=1) instead. To get a de-fragmented frame, use `newframe = frame.copy()`\n",
      "  to.loc[:,n+'_na'] = missing[n]\n"
     ]
    }
   ],
   "source": [
    "get_cf(\"rh_98\", m, FEATURES, df=calibration, tf=test_ds)"
   ]
  },
  {
   "cell_type": "code",
   "execution_count": null,
   "metadata": {},
   "outputs": [
    {
     "name": "stdout",
     "output_type": "stream",
     "text": [
      "Evaluating Placebo Set 1:\n",
      "RMSE: 7.948731005517388\n",
      "R^2: 0.4655632072515913\n",
      "RMA regression: (0.4525808140714064, 2.186052412105594)\n"
     ]
    },
    {
     "data": {
      "image/png": "[encoded data removed]",
      "text/plain": [
       "<Figure size 1080x360 with 1 Axes>"
      ]
     },
     "metadata": {},
     "output_type": "display_data"
    }
   ],
   "source": [
    "evaluate_placebo_set(\"rh_98\", test_ds)"
   ]
  },
  {
   "cell_type": "code",
   "execution_count": null,
   "metadata": {},
   "outputs": [],
   "source": []
  },
  {
   "cell_type": "markdown",
   "metadata": {},
   "source": [
    "# Compare with old data"
   ]
  },
  {
   "cell_type": "code",
   "execution_count": 59,
   "metadata": {},
   "outputs": [],
   "source": [
    "test_ds = load_pickle(f\"{INPUT_PATH}/set1/placebo_aug_landsat.pkl\")\n",
    "calibration_ds = load_pickle(f\"{INPUT_PATH}/set1/calibration_aug_landsat.pkl\")"
   ]
  },
  {
   "cell_type": "code",
   "execution_count": 60,
   "metadata": {},
   "outputs": [],
   "source": [
    "old = load_pickle(f\"{DATA_PATH}/rf/unburned/gedi_match_2020.pkl\")"
   ]
  },
  {
   "cell_type": "code",
   "execution_count": 61,
   "metadata": {},
   "outputs": [],
   "source": [
    "old = old.set_index('shot_number')\n",
    "old_cali = old[~old.index.isin(test_ds.index)]\n",
    "old_test = old[old.index.isin(test_ds.index)]"
   ]
  },
  {
   "cell_type": "code",
   "execution_count": 62,
   "metadata": {},
   "outputs": [],
   "source": [
    "trainer = rf.LandsatTimeSeriesRF([2015, 2016, 2017, 2018, 2019])"
   ]
  },
  {
   "cell_type": "code",
   "execution_count": 64,
   "metadata": {},
   "outputs": [
    {
     "name": "stdout",
     "output_type": "stream",
     "text": [
      "2024-02-08 03:40:57,181 INFO: PREP PREP PREP-- [in prep_data_for_rf at /home/jk871/fire-regen/src/counterfactuals/rf/train.py:76]\n",
      "2024-02-08 03:41:01,625 DEBUG: Start model training. [in train_rf at /home/jk871/fire-regen/src/counterfactuals/rf/train.py:45]\n",
      "2024-02-08 03:43:50,978 DEBUG: Training complete.\n",
      " [in train_rf at /home/jk871/fire-regen/src/counterfactuals/rf/train.py:47]\n",
      "2024-02-08 03:43:50,980 INFO: Training Accuracy: [in train_rf at /home/jk871/fire-regen/src/counterfactuals/rf/train.py:49]\n",
      "2024-02-08 03:43:52,065 INFO: RMSE: 87.84636226537994; [in log_accuracy at /home/jk871/fire-regen/src/counterfactuals/rf/train.py:65]\n",
      "2024-02-08 03:43:52,082 INFO: R^2: 0.5784616633344272 [in log_accuracy at /home/jk871/fire-regen/src/counterfactuals/rf/train.py:66]\n",
      "2024-02-08 03:43:52,137 INFO: RMA: (0.5215873219242226, -6.722082561143623) [in log_accuracy at /home/jk871/fire-regen/src/counterfactuals/rf/train.py:67]\n",
      "2024-02-08 03:43:52,138 INFO: Validation error: 0.48939915234843057 [in train_rf at /home/jk871/fire-regen/src/counterfactuals/rf/train.py:52]\n",
      "2024-02-08 03:43:52,138 INFO: Test Accuracy: [in train_rf at /home/jk871/fire-regen/src/counterfactuals/rf/train.py:55]\n",
      "2024-02-08 03:43:52,426 INFO: RMSE: 102.4692285974552; [in log_accuracy at /home/jk871/fire-regen/src/counterfactuals/rf/train.py:65]\n",
      "2024-02-08 03:43:52,432 INFO: R^2: 0.4852861600813402 [in log_accuracy at /home/jk871/fire-regen/src/counterfactuals/rf/train.py:66]\n",
      "2024-02-08 03:43:52,442 INFO: RMA: (0.48442643515722067, 8.359387927388198) [in log_accuracy at /home/jk871/fire-regen/src/counterfactuals/rf/train.py:67]\n"
     ]
    }
   ],
   "source": [
    "m, to = trainer.train(\"agbd\", old_cali, old_test)"
   ]
  },
  {
   "cell_type": "code",
   "execution_count": 65,
   "metadata": {},
   "outputs": [
    {
     "name": "stdout",
     "output_type": "stream",
     "text": [
      "2024-02-08 03:44:58,631 DEBUG: Optimizing for log [in train_rf at /home/jk871/fire-regen/src/counterfactuals/rf/train.py:38]\n",
      "2024-02-08 03:44:58,977 INFO: PREP PREP PREP-- [in prep_data_for_rf at /home/jk871/fire-regen/src/counterfactuals/rf/train.py:76]\n",
      "2024-02-08 03:45:03,614 DEBUG: Start model training. [in train_rf at /home/jk871/fire-regen/src/counterfactuals/rf/train.py:45]\n",
      "2024-02-08 03:48:00,600 DEBUG: Training complete.\n",
      " [in train_rf at /home/jk871/fire-regen/src/counterfactuals/rf/train.py:47]\n",
      "2024-02-08 03:48:00,602 INFO: Training Accuracy: [in train_rf at /home/jk871/fire-regen/src/counterfactuals/rf/train.py:49]\n",
      "2024-02-08 03:48:01,729 INFO: RMSE: 0.5602553574984379; [in log_accuracy at /home/jk871/fire-regen/src/counterfactuals/rf/train.py:65]\n",
      "2024-02-08 03:48:01,746 INFO: R^2: 0.6100530598555942 [in log_accuracy at /home/jk871/fire-regen/src/counterfactuals/rf/train.py:66]\n",
      "2024-02-08 03:48:01,801 INFO: RMA: (0.5501158656943701, -0.47403594570204977) [in log_accuracy at /home/jk871/fire-regen/src/counterfactuals/rf/train.py:67]\n",
      "2024-02-08 03:48:01,802 INFO: Validation error: 0.5216644651092516 [in train_rf at /home/jk871/fire-regen/src/counterfactuals/rf/train.py:52]\n",
      "2024-02-08 03:48:01,803 INFO: Test Accuracy: [in train_rf at /home/jk871/fire-regen/src/counterfactuals/rf/train.py:55]\n",
      "2024-02-08 03:48:02,107 INFO: RMSE: 0.5893789644136481; [in log_accuracy at /home/jk871/fire-regen/src/counterfactuals/rf/train.py:65]\n",
      "2024-02-08 03:48:02,117 INFO: R^2: 0.5295337892499382 [in log_accuracy at /home/jk871/fire-regen/src/counterfactuals/rf/train.py:66]\n",
      "2024-02-08 03:48:02,129 INFO: RMA: (0.5100544792235597, -0.0964758846779401) [in log_accuracy at /home/jk871/fire-regen/src/counterfactuals/rf/train.py:67]\n"
     ]
    }
   ],
   "source": [
    "m, to = trainer.train(\"agbd\", old_cali, old_test, log=True)"
   ]
  },
  {
   "cell_type": "code",
   "execution_count": 66,
   "metadata": {},
   "outputs": [
    {
     "name": "stdout",
     "output_type": "stream",
     "text": [
      "2024-02-08 03:48:32,730 DEBUG: Optimizing for log [in train_rf at /home/jk871/fire-regen/src/counterfactuals/rf/train.py:38]\n",
      "2024-02-08 03:48:33,144 INFO: PREP PREP PREP-- [in prep_data_for_rf at /home/jk871/fire-regen/src/counterfactuals/rf/train.py:76]\n",
      "2024-02-08 03:48:37,887 DEBUG: Start model training. [in train_rf at /home/jk871/fire-regen/src/counterfactuals/rf/train.py:45]\n",
      "2024-02-08 03:51:32,884 DEBUG: Training complete.\n",
      " [in train_rf at /home/jk871/fire-regen/src/counterfactuals/rf/train.py:47]\n",
      "2024-02-08 03:51:32,886 INFO: Training Accuracy: [in train_rf at /home/jk871/fire-regen/src/counterfactuals/rf/train.py:49]\n",
      "2024-02-08 03:51:34,072 INFO: RMSE: 0.5602385079337755; [in log_accuracy at /home/jk871/fire-regen/src/counterfactuals/rf/train.py:65]\n",
      "2024-02-08 03:51:34,083 INFO: R^2: 0.6100765146509575 [in log_accuracy at /home/jk871/fire-regen/src/counterfactuals/rf/train.py:66]\n",
      "2024-02-08 03:51:34,123 INFO: RMA: (0.5501858513879797, -0.4747881458039509) [in log_accuracy at /home/jk871/fire-regen/src/counterfactuals/rf/train.py:67]\n",
      "2024-02-08 03:51:34,124 INFO: Validation error: 0.5216862448338823 [in train_rf at /home/jk871/fire-regen/src/counterfactuals/rf/train.py:52]\n",
      "2024-02-08 03:51:34,124 INFO: Test Accuracy: [in train_rf at /home/jk871/fire-regen/src/counterfactuals/rf/train.py:55]\n",
      "2024-02-08 03:51:34,489 INFO: RMSE: 0.6475813840355156; [in log_accuracy at /home/jk871/fire-regen/src/counterfactuals/rf/train.py:65]\n",
      "2024-02-08 03:51:34,495 INFO: R^2: 0.48675097299619197 [in log_accuracy at /home/jk871/fire-regen/src/counterfactuals/rf/train.py:66]\n",
      "2024-02-08 03:51:34,509 INFO: RMA: (0.4938889240803215, 0.0830252840332113) [in log_accuracy at /home/jk871/fire-regen/src/counterfactuals/rf/train.py:67]\n"
     ]
    }
   ],
   "source": [
    "m, to = trainer.train(\"agbd\", old_cali, test_ds, log=True)"
   ]
  },
  {
   "cell_type": "markdown",
   "metadata": {},
   "source": [
    "## Conclusion:\n",
    "\n",
    "Using old data we get better accuracy on the training set, but comparable accuracy on the test set. Further more, AGBD predictions are slighly better on the test set than rh 98 predictions."
   ]
  },
  {
   "cell_type": "markdown",
   "metadata": {},
   "source": [
    "## RF - 5 years of annual Landsat bands"
   ]
  },
  {
   "cell_type": "code",
   "execution_count": 67,
   "metadata": {},
   "outputs": [],
   "source": [
    "test_ds = load_pickle(f\"{INPUT_PATH}/set1/placebo_aug_landsat.pkl\")\n",
    "calibration_ds = load_pickle(f\"{INPUT_PATH}/set1/calibration_aug_landsat.pkl\")"
   ]
  },
  {
   "cell_type": "code",
   "execution_count": 68,
   "metadata": {},
   "outputs": [],
   "source": [
    "trainer = rf.LandsatTimeSeriesRF([2010, 2015, 2016, 2017, 2018, 2019])"
   ]
  },
  {
   "cell_type": "code",
   "execution_count": 51,
   "metadata": {},
   "outputs": [
    {
     "name": "stdout",
     "output_type": "stream",
     "text": [
      "2024-02-08 02:12:19,344 INFO: PREP PREP PREP-- [in prep_data_for_rf at /home/jk871/fire-regen/src/counterfactuals/rf/train.py:76]\n",
      "2024-02-08 02:12:23,570 DEBUG: Start model training. [in train_rf at /home/jk871/fire-regen/src/counterfactuals/rf/train.py:45]\n",
      "2024-02-08 02:14:38,490 DEBUG: Training complete.\n",
      " [in train_rf at /home/jk871/fire-regen/src/counterfactuals/rf/train.py:47]\n",
      "2024-02-08 02:14:38,492 INFO: Training Accuracy: [in train_rf at /home/jk871/fire-regen/src/counterfactuals/rf/train.py:49]\n",
      "2024-02-08 02:14:39,486 INFO: RMSE: 0.020164877473039133; [in log_accuracy at /home/jk871/fire-regen/src/counterfactuals/rf/train.py:65]\n",
      "2024-02-08 02:14:39,499 INFO: R^2: 0.9768530372967049 [in log_accuracy at /home/jk871/fire-regen/src/counterfactuals/rf/train.py:66]\n",
      "2024-02-08 02:14:39,549 INFO: RMA: (0.9722234510379164, -0.6163325533016941) [in log_accuracy at /home/jk871/fire-regen/src/counterfactuals/rf/train.py:67]\n",
      "2024-02-08 02:14:39,549 INFO: Validation error: 0.9723014411927041 [in train_rf at /home/jk871/fire-regen/src/counterfactuals/rf/train.py:52]\n",
      "2024-02-08 02:14:39,550 INFO: Test Accuracy: [in train_rf at /home/jk871/fire-regen/src/counterfactuals/rf/train.py:55]\n",
      "2024-02-08 02:14:39,952 INFO: RMSE: 0.028440202179348926; [in log_accuracy at /home/jk871/fire-regen/src/counterfactuals/rf/train.py:65]\n",
      "2024-02-08 02:14:39,956 INFO: R^2: 0.9433281757918336 [in log_accuracy at /home/jk871/fire-regen/src/counterfactuals/rf/train.py:66]\n",
      "2024-02-08 02:14:39,964 INFO: RMA: (0.9318709195085256, -0.6101194062638281) [in log_accuracy at /home/jk871/fire-regen/src/counterfactuals/rf/train.py:67]\n"
     ]
    }
   ],
   "source": [
    "m, to = trainer.train(\"NDVI_2020\", calibration_ds, test_ds)"
   ]
  },
  {
   "cell_type": "code",
   "execution_count": 52,
   "metadata": {},
   "outputs": [
    {
     "name": "stdout",
     "output_type": "stream",
     "text": [
      "2024-02-08 03:33:52,210 INFO: PREP PREP PREP-- [in prep_data_for_rf at /home/jk871/fire-regen/src/counterfactuals/rf/train.py:76]\n",
      "2024-02-08 03:33:56,431 DEBUG: Start model training. [in train_rf at /home/jk871/fire-regen/src/counterfactuals/rf/train.py:45]\n",
      "2024-02-08 03:36:31,855 DEBUG: Training complete.\n",
      " [in train_rf at /home/jk871/fire-regen/src/counterfactuals/rf/train.py:47]\n",
      "2024-02-08 03:36:31,857 INFO: Training Accuracy: [in train_rf at /home/jk871/fire-regen/src/counterfactuals/rf/train.py:49]\n",
      "2024-02-08 03:36:32,814 INFO: RMSE: 6.709926393705005; [in log_accuracy at /home/jk871/fire-regen/src/counterfactuals/rf/train.py:65]\n",
      "2024-02-08 03:36:32,828 INFO: R^2: 0.5911186907685108 [in log_accuracy at /home/jk871/fire-regen/src/counterfactuals/rf/train.py:66]\n",
      "2024-02-08 03:36:32,885 INFO: RMA: (0.5294099568119308, -1.2812251509225963) [in log_accuracy at /home/jk871/fire-regen/src/counterfactuals/rf/train.py:67]\n",
      "2024-02-08 03:36:32,885 INFO: Validation error: 0.4951548936407014 [in train_rf at /home/jk871/fire-regen/src/counterfactuals/rf/train.py:52]\n",
      "2024-02-08 03:36:32,886 INFO: Test Accuracy: [in train_rf at /home/jk871/fire-regen/src/counterfactuals/rf/train.py:55]\n",
      "2024-02-08 03:36:33,312 INFO: RMSE: 7.906138972602165; [in log_accuracy at /home/jk871/fire-regen/src/counterfactuals/rf/train.py:65]\n",
      "2024-02-08 03:36:33,317 INFO: R^2: 0.4712752555212605 [in log_accuracy at /home/jk871/fire-regen/src/counterfactuals/rf/train.py:66]\n",
      "2024-02-08 03:36:33,332 INFO: RMA: (0.4599310063181353, 2.0444261921980065) [in log_accuracy at /home/jk871/fire-regen/src/counterfactuals/rf/train.py:67]\n"
     ]
    }
   ],
   "source": [
    "m, to = trainer.train(\"rh_98\", calibration_ds, test_ds)"
   ]
  },
  {
   "cell_type": "code",
   "execution_count": 69,
   "metadata": {},
   "outputs": [
    {
     "name": "stdout",
     "output_type": "stream",
     "text": [
      "2024-02-08 03:52:46,989 DEBUG: Optimizing for log [in train_rf at /home/jk871/fire-regen/src/counterfactuals/rf/train.py:38]\n",
      "2024-02-08 03:52:47,375 INFO: PREP PREP PREP-- [in prep_data_for_rf at /home/jk871/fire-regen/src/counterfactuals/rf/train.py:76]\n",
      "2024-02-08 03:52:51,672 DEBUG: Start model training. [in train_rf at /home/jk871/fire-regen/src/counterfactuals/rf/train.py:45]\n",
      "2024-02-08 03:55:21,072 DEBUG: Training complete.\n",
      " [in train_rf at /home/jk871/fire-regen/src/counterfactuals/rf/train.py:47]\n",
      "2024-02-08 03:55:21,075 INFO: Training Accuracy: [in train_rf at /home/jk871/fire-regen/src/counterfactuals/rf/train.py:49]\n",
      "2024-02-08 03:55:21,977 INFO: RMSE: 0.588202481672814; [in log_accuracy at /home/jk871/fire-regen/src/counterfactuals/rf/train.py:65]\n",
      "2024-02-08 03:55:21,990 INFO: R^2: 0.5890583559619285 [in log_accuracy at /home/jk871/fire-regen/src/counterfactuals/rf/train.py:66]\n",
      "2024-02-08 03:55:22,045 INFO: RMA: (0.5268213021219676, -0.24715579437782598) [in log_accuracy at /home/jk871/fire-regen/src/counterfactuals/rf/train.py:67]\n",
      "2024-02-08 03:55:22,046 INFO: Validation error: 0.4921596501948272 [in train_rf at /home/jk871/fire-regen/src/counterfactuals/rf/train.py:52]\n",
      "2024-02-08 03:55:22,047 INFO: Test Accuracy: [in train_rf at /home/jk871/fire-regen/src/counterfactuals/rf/train.py:55]\n",
      "2024-02-08 03:55:22,414 INFO: RMSE: 0.6429285113248528; [in log_accuracy at /home/jk871/fire-regen/src/counterfactuals/rf/train.py:65]\n",
      "2024-02-08 03:55:22,419 INFO: R^2: 0.4940998661649254 [in log_accuracy at /home/jk871/fire-regen/src/counterfactuals/rf/train.py:66]\n",
      "2024-02-08 03:55:22,434 INFO: RMA: (0.4829113593747869, 0.18327673871311934) [in log_accuracy at /home/jk871/fire-regen/src/counterfactuals/rf/train.py:67]\n"
     ]
    }
   ],
   "source": [
    "m, to = trainer.train(\"agbd\", calibration_ds, test_ds, log=True)"
   ]
  },
  {
   "cell_type": "markdown",
   "metadata": {},
   "source": [
    "## 5 year time series at 2003"
   ]
  },
  {
   "cell_type": "code",
   "execution_count": 87,
   "metadata": {},
   "outputs": [],
   "source": [
    "year = 2003\n",
    "test_ds = load_pickle(f\"{INPUT_PATH}/set1/placebo_aug_landsat_{year}.pkl\")\n",
    "calibration_ds = load_pickle(f\"{INPUT_PATH}/set1/calibration_aug_landsat_{year}.pkl\")"
   ]
  },
  {
   "cell_type": "code",
   "execution_count": 88,
   "metadata": {},
   "outputs": [],
   "source": [
    "trainer = rf.LandsatTimeSeriesRF(list(range(year - 4, year + 1)))"
   ]
  },
  {
   "cell_type": "code",
   "execution_count": 90,
   "metadata": {},
   "outputs": [
    {
     "name": "stdout",
     "output_type": "stream",
     "text": [
      "2024-02-08 04:48:12,108 INFO: PREP PREP PREP-- [in prep_data_for_rf at /home/jk871/fire-regen/src/counterfactuals/rf/train.py:76]\n",
      "2024-02-08 04:48:15,199 DEBUG: Start model training. [in train_rf at /home/jk871/fire-regen/src/counterfactuals/rf/train.py:45]\n",
      "2024-02-08 04:50:30,680 DEBUG: Training complete.\n",
      " [in train_rf at /home/jk871/fire-regen/src/counterfactuals/rf/train.py:47]\n",
      "2024-02-08 04:50:30,682 INFO: Training Accuracy: [in train_rf at /home/jk871/fire-regen/src/counterfactuals/rf/train.py:49]\n",
      "2024-02-08 04:50:31,545 INFO: RMSE: 6.843180781818417; [in log_accuracy at /home/jk871/fire-regen/src/counterfactuals/rf/train.py:65]\n",
      "2024-02-08 04:50:31,559 INFO: R^2: 0.5747172447676997 [in log_accuracy at /home/jk871/fire-regen/src/counterfactuals/rf/train.py:66]\n",
      "2024-02-08 04:50:31,611 INFO: RMA: (0.5139093410162525, -0.6035519110197693) [in log_accuracy at /home/jk871/fire-regen/src/counterfactuals/rf/train.py:67]\n",
      "2024-02-08 04:50:31,612 INFO: Validation error: 0.4802720234188951 [in train_rf at /home/jk871/fire-regen/src/counterfactuals/rf/train.py:52]\n",
      "2024-02-08 04:50:31,612 INFO: Test Accuracy: [in train_rf at /home/jk871/fire-regen/src/counterfactuals/rf/train.py:55]\n",
      "2024-02-08 04:50:31,964 INFO: RMSE: 8.258029820710734; [in log_accuracy at /home/jk871/fire-regen/src/counterfactuals/rf/train.py:65]\n",
      "2024-02-08 04:50:31,969 INFO: R^2: 0.4231622932546565 [in log_accuracy at /home/jk871/fire-regen/src/counterfactuals/rf/train.py:66]\n",
      "2024-02-08 04:50:31,984 INFO: RMA: (0.4209400886843431, 4.1527199335919) [in log_accuracy at /home/jk871/fire-regen/src/counterfactuals/rf/train.py:67]\n"
     ]
    }
   ],
   "source": [
    "m, to = trainer.train(\"rh_98\", calibration_ds, test_ds)"
   ]
  },
  {
   "cell_type": "code",
   "execution_count": 97,
   "metadata": {},
   "outputs": [],
   "source": [
    "trainer = rf.LandsatTimeSeriesRF(list(range(year - 4, year + 1)))"
   ]
  },
  {
   "cell_type": "code",
   "execution_count": 98,
   "metadata": {},
   "outputs": [
    {
     "name": "stdout",
     "output_type": "stream",
     "text": [
      "2024-02-08 05:02:21,461 INFO: Training with features ['SR_B1_1999', 'SR_B2_1999', 'SR_B3_1999', 'SR_B4_1999', 'SR_B5_1999', 'SR_B7_1999', 'NDVI_1999', 'SR_B1_2000', 'SR_B2_2000', 'SR_B3_2000', 'SR_B4_2000', 'SR_B5_2000', 'SR_B7_2000', 'NDVI_2000', 'SR_B1_2001', 'SR_B2_2001', 'SR_B3_2001', 'SR_B4_2001', 'SR_B5_2001', 'SR_B7_2001', 'NDVI_2001', 'SR_B1_2002', 'SR_B2_2002', 'SR_B3_2002', 'SR_B4_2002', 'SR_B5_2002', 'SR_B7_2002', 'NDVI_2002', 'SR_B1_2003', 'SR_B2_2003', 'SR_B3_2003', 'SR_B4_2003', 'SR_B5_2003', 'SR_B7_2003', 'NDVI_2003', 'slope', 'elevation', 'aspect', 'SR_B1_mean', 'SR_B1_std', 'SR_B2_mean', 'SR_B2_std', 'SR_B3_mean', 'SR_B3_std', 'SR_B4_mean', 'SR_B4_std', 'SR_B5_mean', 'SR_B5_std', 'SR_B7_mean', 'SR_B7_std', 'NDVI_mean', 'NDVI_std']. [in train at /home/jk871/fire-regen/src/counterfactuals/rf/rf.py:115]\n",
      "2024-02-08 05:02:23,033 INFO: PREP PREP PREP-- [in prep_data_for_rf at /home/jk871/fire-regen/src/counterfactuals/rf/train.py:76]\n",
      "2024-02-08 05:02:27,243 DEBUG: Start model training. [in train_rf at /home/jk871/fire-regen/src/counterfactuals/rf/train.py:45]\n",
      "2024-02-08 05:05:05,765 DEBUG: Training complete.\n",
      " [in train_rf at /home/jk871/fire-regen/src/counterfactuals/rf/train.py:47]\n",
      "2024-02-08 05:05:05,767 INFO: Training Accuracy: [in train_rf at /home/jk871/fire-regen/src/counterfactuals/rf/train.py:49]\n",
      "2024-02-08 05:05:06,763 INFO: RMSE: 6.8025504624070665; [in log_accuracy at /home/jk871/fire-regen/src/counterfactuals/rf/train.py:65]\n",
      "2024-02-08 05:05:06,772 INFO: R^2: 0.5797523528377209 [in log_accuracy at /home/jk871/fire-regen/src/counterfactuals/rf/train.py:66]\n",
      "2024-02-08 05:05:06,804 INFO: RMA: (0.5168741235671326, -0.7333192651393805) [in log_accuracy at /home/jk871/fire-regen/src/counterfactuals/rf/train.py:67]\n",
      "2024-02-08 05:05:06,805 INFO: Validation error: 0.48060065750102443 [in train_rf at /home/jk871/fire-regen/src/counterfactuals/rf/train.py:52]\n",
      "2024-02-08 05:05:06,806 INFO: Test Accuracy: [in train_rf at /home/jk871/fire-regen/src/counterfactuals/rf/train.py:55]\n",
      "2024-02-08 05:05:07,190 INFO: RMSE: 8.249457665778364; [in log_accuracy at /home/jk871/fire-regen/src/counterfactuals/rf/train.py:65]\n",
      "2024-02-08 05:05:07,194 INFO: R^2: 0.4243592314792346 [in log_accuracy at /home/jk871/fire-regen/src/counterfactuals/rf/train.py:66]\n",
      "2024-02-08 05:05:07,203 INFO: RMA: (0.4219400465369837, 4.088911244713312) [in log_accuracy at /home/jk871/fire-regen/src/counterfactuals/rf/train.py:67]\n"
     ]
    }
   ],
   "source": [
    "m, to = trainer.train(\"rh_98\", calibration_ds, test_ds, augment=True)"
   ]
  },
  {
   "cell_type": "markdown",
   "metadata": {},
   "source": [
    "# 10 year time series at 2003"
   ]
  },
  {
   "cell_type": "code",
   "execution_count": 99,
   "metadata": {},
   "outputs": [],
   "source": [
    "year = 2003\n",
    "test_ds = load_pickle(f\"{INPUT_PATH}/set1/placebo_aug_landsat_{year}_10.pkl\")\n",
    "calibration_ds = load_pickle(f\"{INPUT_PATH}/set1/calibration_aug_landsat_{year}_10.pkl\")"
   ]
  },
  {
   "cell_type": "code",
   "execution_count": 100,
   "metadata": {},
   "outputs": [],
   "source": [
    "trainer = rf.LandsatTimeSeriesRF(list(range(year - 9, year + 1)))"
   ]
  },
  {
   "cell_type": "code",
   "execution_count": 101,
   "metadata": {},
   "outputs": [
    {
     "name": "stdout",
     "output_type": "stream",
     "text": [
      "2024-02-08 05:07:59,382 INFO: Training with features ['SR_B1_1994', 'SR_B2_1994', 'SR_B3_1994', 'SR_B4_1994', 'SR_B5_1994', 'SR_B7_1994', 'NDVI_1994', 'SR_B1_1995', 'SR_B2_1995', 'SR_B3_1995', 'SR_B4_1995', 'SR_B5_1995', 'SR_B7_1995', 'NDVI_1995', 'SR_B1_1996', 'SR_B2_1996', 'SR_B3_1996', 'SR_B4_1996', 'SR_B5_1996', 'SR_B7_1996', 'NDVI_1996', 'SR_B1_1997', 'SR_B2_1997', 'SR_B3_1997', 'SR_B4_1997', 'SR_B5_1997', 'SR_B7_1997', 'NDVI_1997', 'SR_B1_1998', 'SR_B2_1998', 'SR_B3_1998', 'SR_B4_1998', 'SR_B5_1998', 'SR_B7_1998', 'NDVI_1998', 'SR_B1_1999', 'SR_B2_1999', 'SR_B3_1999', 'SR_B4_1999', 'SR_B5_1999', 'SR_B7_1999', 'NDVI_1999', 'SR_B1_2000', 'SR_B2_2000', 'SR_B3_2000', 'SR_B4_2000', 'SR_B5_2000', 'SR_B7_2000', 'NDVI_2000', 'SR_B1_2001', 'SR_B2_2001', 'SR_B3_2001', 'SR_B4_2001', 'SR_B5_2001', 'SR_B7_2001', 'NDVI_2001', 'SR_B1_2002', 'SR_B2_2002', 'SR_B3_2002', 'SR_B4_2002', 'SR_B5_2002', 'SR_B7_2002', 'NDVI_2002', 'SR_B1_2003', 'SR_B2_2003', 'SR_B3_2003', 'SR_B4_2003', 'SR_B5_2003', 'SR_B7_2003', 'NDVI_2003', 'slope', 'elevation', 'aspect', 'SR_B1_mean', 'SR_B1_std', 'SR_B2_mean', 'SR_B2_std', 'SR_B3_mean', 'SR_B3_std', 'SR_B4_mean', 'SR_B4_std', 'SR_B5_mean', 'SR_B5_std', 'SR_B7_mean', 'SR_B7_std', 'NDVI_mean', 'NDVI_std']. [in train at /home/jk871/fire-regen/src/counterfactuals/rf/rf.py:115]\n",
      "2024-02-08 05:08:01,623 INFO: PREP PREP PREP-- [in prep_data_for_rf at /home/jk871/fire-regen/src/counterfactuals/rf/train.py:76]\n",
      "2024-02-08 05:08:08,775 DEBUG: Start model training. [in train_rf at /home/jk871/fire-regen/src/counterfactuals/rf/train.py:45]\n",
      "2024-02-08 05:12:08,692 DEBUG: Training complete.\n",
      " [in train_rf at /home/jk871/fire-regen/src/counterfactuals/rf/train.py:47]\n",
      "2024-02-08 05:12:08,694 INFO: Training Accuracy: [in train_rf at /home/jk871/fire-regen/src/counterfactuals/rf/train.py:49]\n",
      "2024-02-08 05:12:09,886 INFO: RMSE: 6.652989974535894; [in log_accuracy at /home/jk871/fire-regen/src/counterfactuals/rf/train.py:65]\n",
      "2024-02-08 05:12:09,895 INFO: R^2: 0.5980282945917469 [in log_accuracy at /home/jk871/fire-regen/src/counterfactuals/rf/train.py:66]\n",
      "2024-02-08 05:12:09,930 INFO: RMA: (0.5296158568978515, -1.291100291096697) [in log_accuracy at /home/jk871/fire-regen/src/counterfactuals/rf/train.py:67]\n",
      "2024-02-08 05:12:09,931 INFO: Validation error: 0.49246955889379673 [in train_rf at /home/jk871/fire-regen/src/counterfactuals/rf/train.py:52]\n",
      "2024-02-08 05:12:09,931 INFO: Test Accuracy: [in train_rf at /home/jk871/fire-regen/src/counterfactuals/rf/train.py:55]\n",
      "2024-02-08 05:12:10,474 INFO: RMSE: 8.19982079882831; [in log_accuracy at /home/jk871/fire-regen/src/counterfactuals/rf/train.py:65]\n",
      "2024-02-08 05:12:10,479 INFO: R^2: 0.4312656352009072 [in log_accuracy at /home/jk871/fire-regen/src/counterfactuals/rf/train.py:66]\n",
      "2024-02-08 05:12:10,494 INFO: RMA: (0.4250517326674255, 3.852528835017317) [in log_accuracy at /home/jk871/fire-regen/src/counterfactuals/rf/train.py:67]\n"
     ]
    }
   ],
   "source": [
    "m, to = trainer.train(\"rh_98\", calibration_ds, test_ds)"
   ]
  },
  {
   "cell_type": "code",
   "execution_count": 102,
   "metadata": {},
   "outputs": [
    {
     "data": {
      "text/plain": [
       "array([21.09889223, 16.99805774, 18.07178357, ..., 17.87525884,\n",
       "       31.12574025, 30.65260813])"
      ]
     },
     "execution_count": 102,
     "metadata": {},
     "output_type": "execute_result"
    }
   ],
   "source": [
    "m.predict(to.valid.xs)"
   ]
  },
  {
   "cell_type": "code",
   "execution_count": 104,
   "metadata": {},
   "outputs": [],
   "source": [
    "def abline(slope, intercept, ax):\n",
    "    \"\"\"Plot a line from slope and intercept\"\"\"\n",
    "    axes = plt.gca()\n",
    "    x_vals = np.array(axes.get_xlim())\n",
    "    y_vals = intercept + slope * x_vals\n",
    "    sns.lineplot(x=x_vals, y=y_vals, ax=ax)"
   ]
  },
  {
   "cell_type": "code",
   "execution_count": 105,
   "metadata": {},
   "outputs": [
    {
     "name": "stdout",
     "output_type": "stream",
     "text": [
      "[0.0, 100.0, 0.0, 100.0]\n"
     ]
    },
    {
     "data": {
      "image/png": "[encoded data removed]",
      "text/plain": [
       "<Figure size 1080x1080 with 1 Axes>"
      ]
     },
     "metadata": {
      "needs_background": "light"
     },
     "output_type": "display_data"
    }
   ],
   "source": [
    "heatmap, xedges, yedges = np.histogram2d(to.valid.y, m.predict(to.valid.xs), bins=100, range=[[0, 100], [0, 100]])\n",
    "extent = [xedges[0], xedges[-1], yedges[0], yedges[-1]]\n",
    "print(extent)\n",
    "\n",
    "fig, ax = plt.subplots(1, 1, figsize=(15, 15))\n",
    "sns.heatmap(heatmap.T, cbar=False)\n",
    "ax.set_xlim((0, 50))\n",
    "ax.set_ylim((0, 50))\n",
    "abline(1, 0, ax)"
   ]
  },
  {
   "cell_type": "code",
   "execution_count": 107,
   "metadata": {},
   "outputs": [
    {
     "data": {
      "text/html": [
       "<div>\n",
       "<style scoped>\n",
       "    .dataframe tbody tr th:only-of-type {\n",
       "        vertical-align: middle;\n",
       "    }\n",
       "\n",
       "    .dataframe tbody tr th {\n",
       "        vertical-align: top;\n",
       "    }\n",
       "\n",
       "    .dataframe thead th {\n",
       "        text-align: right;\n",
       "    }\n",
       "</style>\n",
       "<table border=\"1\" class=\"dataframe\">\n",
       "  <thead>\n",
       "    <tr style=\"text-align: right;\">\n",
       "      <th></th>\n",
       "      <th>cols</th>\n",
       "      <th>imp</th>\n",
       "    </tr>\n",
       "  </thead>\n",
       "  <tbody>\n",
       "    <tr>\n",
       "      <th>141</th>\n",
       "      <td>SR_B2_2002</td>\n",
       "      <td>0.250370</td>\n",
       "    </tr>\n",
       "    <tr>\n",
       "      <th>144</th>\n",
       "      <td>SR_B5_2002</td>\n",
       "      <td>0.113829</td>\n",
       "    </tr>\n",
       "    <tr>\n",
       "      <th>142</th>\n",
       "      <td>SR_B3_2002</td>\n",
       "      <td>0.051964</td>\n",
       "    </tr>\n",
       "    <tr>\n",
       "      <th>145</th>\n",
       "      <td>SR_B7_2002</td>\n",
       "      <td>0.042100</td>\n",
       "    </tr>\n",
       "    <tr>\n",
       "      <th>147</th>\n",
       "      <td>SR_B1_2003</td>\n",
       "      <td>0.032941</td>\n",
       "    </tr>\n",
       "    <tr>\n",
       "      <th>156</th>\n",
       "      <td>aspect</td>\n",
       "      <td>0.032708</td>\n",
       "    </tr>\n",
       "    <tr>\n",
       "      <th>159</th>\n",
       "      <td>SR_B2_mean</td>\n",
       "      <td>0.028448</td>\n",
       "    </tr>\n",
       "    <tr>\n",
       "      <th>155</th>\n",
       "      <td>elevation</td>\n",
       "      <td>0.025813</td>\n",
       "    </tr>\n",
       "    <tr>\n",
       "      <th>167</th>\n",
       "      <td>SR_B7_mean</td>\n",
       "      <td>0.025125</td>\n",
       "    </tr>\n",
       "    <tr>\n",
       "      <th>161</th>\n",
       "      <td>SR_B3_mean</td>\n",
       "      <td>0.020035</td>\n",
       "    </tr>\n",
       "    <tr>\n",
       "      <th>140</th>\n",
       "      <td>SR_B1_2002</td>\n",
       "      <td>0.019796</td>\n",
       "    </tr>\n",
       "    <tr>\n",
       "      <th>119</th>\n",
       "      <td>SR_B1_1999</td>\n",
       "      <td>0.019645</td>\n",
       "    </tr>\n",
       "    <tr>\n",
       "      <th>151</th>\n",
       "      <td>SR_B5_2003</td>\n",
       "      <td>0.014993</td>\n",
       "    </tr>\n",
       "    <tr>\n",
       "      <th>154</th>\n",
       "      <td>slope</td>\n",
       "      <td>0.014286</td>\n",
       "    </tr>\n",
       "    <tr>\n",
       "      <th>153</th>\n",
       "      <td>NDVI_2003</td>\n",
       "      <td>0.012852</td>\n",
       "    </tr>\n",
       "    <tr>\n",
       "      <th>86</th>\n",
       "      <td>SR_B3_1994</td>\n",
       "      <td>0.011126</td>\n",
       "    </tr>\n",
       "    <tr>\n",
       "      <th>139</th>\n",
       "      <td>NDVI_2001</td>\n",
       "      <td>0.009583</td>\n",
       "    </tr>\n",
       "    <tr>\n",
       "      <th>135</th>\n",
       "      <td>SR_B3_2001</td>\n",
       "      <td>0.006989</td>\n",
       "    </tr>\n",
       "    <tr>\n",
       "      <th>110</th>\n",
       "      <td>SR_B7_1997</td>\n",
       "      <td>0.006954</td>\n",
       "    </tr>\n",
       "    <tr>\n",
       "      <th>137</th>\n",
       "      <td>SR_B5_2001</td>\n",
       "      <td>0.006632</td>\n",
       "    </tr>\n",
       "  </tbody>\n",
       "</table>\n",
       "</div>"
      ],
      "text/plain": [
       "           cols       imp\n",
       "141  SR_B2_2002  0.250370\n",
       "144  SR_B5_2002  0.113829\n",
       "142  SR_B3_2002  0.051964\n",
       "145  SR_B7_2002  0.042100\n",
       "147  SR_B1_2003  0.032941\n",
       "156      aspect  0.032708\n",
       "159  SR_B2_mean  0.028448\n",
       "155   elevation  0.025813\n",
       "167  SR_B7_mean  0.025125\n",
       "161  SR_B3_mean  0.020035\n",
       "140  SR_B1_2002  0.019796\n",
       "119  SR_B1_1999  0.019645\n",
       "151  SR_B5_2003  0.014993\n",
       "154       slope  0.014286\n",
       "153   NDVI_2003  0.012852\n",
       "86   SR_B3_1994  0.011126\n",
       "139   NDVI_2001  0.009583\n",
       "135  SR_B3_2001  0.006989\n",
       "110  SR_B7_1997  0.006954\n",
       "137  SR_B5_2001  0.006632"
      ]
     },
     "execution_count": 107,
     "metadata": {},
     "output_type": "execute_result"
    }
   ],
   "source": [
    "fi = rf.rf_feat_importance(m, to.train.xs)\n",
    "fi[:20]"
   ]
  },
  {
   "cell_type": "markdown",
   "metadata": {},
   "source": [
    "## RF for NDVI - simple"
   ]
  },
  {
   "cell_type": "markdown",
   "metadata": {},
   "source": [
    "First, let's just train RF for NDVI, using placebo set 1 as a training / testing set."
   ]
  },
  {
   "cell_type": "code",
   "execution_count": 55,
   "metadata": {},
   "outputs": [],
   "source": [
    "test_ds = load_pickle(f\"{INPUT_PATH}/set1/placebo_aug_ndvis.pkl\")\n",
    "calibration_ds = load_pickle(f\"{INPUT_PATH}/set1/calibration_aug_ndvis.pkl\")"
   ]
  },
  {
   "cell_type": "code",
   "execution_count": 56,
   "metadata": {},
   "outputs": [],
   "source": [
    "trainer = rf.NDVITimeSeriesRF([2015, 2016, 2017, 2018, 2019])"
   ]
  },
  {
   "cell_type": "code",
   "execution_count": 38,
   "metadata": {},
   "outputs": [
    {
     "name": "stdout",
     "output_type": "stream",
     "text": [
      "2024-02-08 00:50:56,010 INFO: PREP PREP PREP-- [in prep_data_for_rf at /home/jk871/fire-regen/src/counterfactuals/rf/train.py:76]\n",
      "2024-02-08 00:50:57,112 DEBUG: Start model training. [in train_rf at /home/jk871/fire-regen/src/counterfactuals/rf/train.py:45]\n",
      "2024-02-08 00:51:44,127 DEBUG: Training complete.\n",
      " [in train_rf at /home/jk871/fire-regen/src/counterfactuals/rf/train.py:47]\n",
      "2024-02-08 00:51:44,128 INFO: Training Accuracy: [in train_rf at /home/jk871/fire-regen/src/counterfactuals/rf/train.py:49]\n",
      "2024-02-08 00:51:44,852 INFO: RMSE: 0.022149621570483197; [in log_accuracy at /home/jk871/fire-regen/src/counterfactuals/rf/train.py:65]\n",
      "2024-02-08 00:51:44,867 INFO: R^2: 0.9720722815070288 [in log_accuracy at /home/jk871/fire-regen/src/counterfactuals/rf/train.py:66]\n",
      "2024-02-08 00:51:44,920 INFO: RMA: (0.9688093039606569, -0.6118596887594352) [in log_accuracy at /home/jk871/fire-regen/src/counterfactuals/rf/train.py:67]\n",
      "2024-02-08 00:51:44,920 INFO: Validation error: 0.9679780337544387 [in train_rf at /home/jk871/fire-regen/src/counterfactuals/rf/train.py:52]\n",
      "2024-02-08 00:51:44,921 INFO: Test Accuracy: [in train_rf at /home/jk871/fire-regen/src/counterfactuals/rf/train.py:55]\n",
      "2024-02-08 00:51:45,192 INFO: RMSE: 0.03014970416092771; [in log_accuracy at /home/jk871/fire-regen/src/counterfactuals/rf/train.py:65]\n",
      "2024-02-08 00:51:45,197 INFO: R^2: 0.9363104847244929 [in log_accuracy at /home/jk871/fire-regen/src/counterfactuals/rf/train.py:66]\n",
      "2024-02-08 00:51:45,212 INFO: RMA: (0.921362022354473, -0.5956044302457889) [in log_accuracy at /home/jk871/fire-regen/src/counterfactuals/rf/train.py:67]\n"
     ]
    }
   ],
   "source": [
    "m, to = trainer.train(\"ndvi_2020\", calibration_ds, test_ds)"
   ]
  },
  {
   "cell_type": "code",
   "execution_count": 58,
   "metadata": {},
   "outputs": [
    {
     "name": "stdout",
     "output_type": "stream",
     "text": [
      "2024-02-08 03:39:13,644 INFO: PREP PREP PREP-- [in prep_data_for_rf at /home/jk871/fire-regen/src/counterfactuals/rf/train.py:76]\n",
      "2024-02-08 03:39:14,710 DEBUG: Start model training. [in train_rf at /home/jk871/fire-regen/src/counterfactuals/rf/train.py:45]\n",
      "2024-02-08 03:40:04,267 DEBUG: Training complete.\n",
      " [in train_rf at /home/jk871/fire-regen/src/counterfactuals/rf/train.py:47]\n",
      "2024-02-08 03:40:04,269 INFO: Training Accuracy: [in train_rf at /home/jk871/fire-regen/src/counterfactuals/rf/train.py:49]\n",
      "2024-02-08 03:40:04,968 INFO: RMSE: 7.541286338958252; [in log_accuracy at /home/jk871/fire-regen/src/counterfactuals/rf/train.py:65]\n",
      "2024-02-08 03:40:04,981 INFO: R^2: 0.48352107058454386 [in log_accuracy at /home/jk871/fire-regen/src/counterfactuals/rf/train.py:66]\n",
      "2024-02-08 03:40:05,035 INFO: RMA: (0.4365624173974378, 2.7800792443363402) [in log_accuracy at /home/jk871/fire-regen/src/counterfactuals/rf/train.py:67]\n",
      "2024-02-08 03:40:05,036 INFO: Validation error: 0.39681838189490304 [in train_rf at /home/jk871/fire-regen/src/counterfactuals/rf/train.py:52]\n",
      "2024-02-08 03:40:05,036 INFO: Test Accuracy: [in train_rf at /home/jk871/fire-regen/src/counterfactuals/rf/train.py:55]\n",
      "2024-02-08 03:40:05,306 INFO: RMSE: 8.777295076696902; [in log_accuracy at /home/jk871/fire-regen/src/counterfactuals/rf/train.py:65]\n",
      "2024-02-08 03:40:05,311 INFO: R^2: 0.3483383772623423 [in log_accuracy at /home/jk871/fire-regen/src/counterfactuals/rf/train.py:66]\n",
      "2024-02-08 03:40:05,326 INFO: RMA: (0.3687829628313823, 6.625254988201837) [in log_accuracy at /home/jk871/fire-regen/src/counterfactuals/rf/train.py:67]\n"
     ]
    }
   ],
   "source": [
    "m, to = trainer.train(\"rh_98\", calibration_ds, test_ds)"
   ]
  },
  {
   "cell_type": "code",
   "execution_count": 41,
   "metadata": {},
   "outputs": [
    {
     "name": "stdout",
     "output_type": "stream",
     "text": [
      "2024-02-08 01:35:23,548 INFO: PREP PREP PREP-- [in prep_data_for_rf at /home/jk871/fire-regen/src/counterfactuals/rf/train.py:76]\n",
      "2024-02-08 01:35:24,652 DEBUG: Start model training. [in train_rf at /home/jk871/fire-regen/src/counterfactuals/rf/train.py:45]\n",
      "2024-02-08 01:36:17,594 DEBUG: Training complete.\n",
      " [in train_rf at /home/jk871/fire-regen/src/counterfactuals/rf/train.py:47]\n",
      "2024-02-08 01:36:17,596 INFO: Training Accuracy: [in train_rf at /home/jk871/fire-regen/src/counterfactuals/rf/train.py:49]\n",
      "2024-02-08 01:36:18,301 INFO: RMSE: 0.03651950791082439; [in log_accuracy at /home/jk871/fire-regen/src/counterfactuals/rf/train.py:65]\n",
      "2024-02-08 01:36:18,311 INFO: R^2: 0.9238598715064845 [in log_accuracy at /home/jk871/fire-regen/src/counterfactuals/rf/train.py:66]\n",
      "2024-02-08 01:36:18,346 INFO: RMA: (0.9160100438334482, -0.5338496591781148) [in log_accuracy at /home/jk871/fire-regen/src/counterfactuals/rf/train.py:67]\n",
      "2024-02-08 01:36:18,347 INFO: Validation error: 0.9124516563228416 [in train_rf at /home/jk871/fire-regen/src/counterfactuals/rf/train.py:52]\n",
      "2024-02-08 01:36:18,347 INFO: Test Accuracy: [in train_rf at /home/jk871/fire-regen/src/counterfactuals/rf/train.py:55]\n",
      "2024-02-08 01:36:18,586 INFO: RMSE: 0.04489300737802742; [in log_accuracy at /home/jk871/fire-regen/src/counterfactuals/rf/train.py:65]\n",
      "2024-02-08 01:36:18,591 INFO: R^2: 0.8639233652451216 [in log_accuracy at /home/jk871/fire-regen/src/counterfactuals/rf/train.py:66]\n",
      "2024-02-08 01:36:18,606 INFO: RMA: (0.8365909580347267, -0.48648902735396715) [in log_accuracy at /home/jk871/fire-regen/src/counterfactuals/rf/train.py:67]\n"
     ]
    }
   ],
   "source": [
    "m, to = trainer.train(\"ndvi_2022\", calibration_ds, test_ds)"
   ]
  },
  {
   "cell_type": "markdown",
   "metadata": {},
   "source": [
    "## Conclusion:\n",
    "\n",
    "Performance of predicting future NDVI from past NDVIs, decreases in accuracy over time. Not much difference with augmented features. Maybe a bit better with NDVI from 2010, maaaaybe"
   ]
  }
 ],
 "metadata": {
  "kernelspec": {
   "display_name": "drought",
   "language": "python",
   "name": "drought"
  },
  "language_info": {
   "codemirror_mode": {
    "name": "ipython",
    "version": 3
   },
   "file_extension": ".py",
   "mimetype": "text/x-python",
   "name": "python",
   "nbconvert_exporter": "python",
   "pygments_lexer": "ipython3",
   "version": "3.10.12"
  },
  "orig_nbformat": 4,
  "vscode": {
   "interpreter": {
    "hash": "31f2aee4e71d21fbe5cf8b01ff0e069b9275f58929596ceb00d14d90e3e16cd6"
   }
  }
 },
 "nbformat": 4,
 "nbformat_minor": 2
}
